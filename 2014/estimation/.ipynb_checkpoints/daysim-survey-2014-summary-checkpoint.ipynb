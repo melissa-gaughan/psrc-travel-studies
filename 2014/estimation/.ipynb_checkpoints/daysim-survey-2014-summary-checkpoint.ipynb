{
 "cells": [
  {
   "cell_type": "code",
   "execution_count": 1,
   "metadata": {
    "collapsed": true
   },
   "outputs": [],
   "source": [
    "import h5py\n",
    "import pandas as pd\n",
    "import matplotlib.pyplot as plt\n",
    "import pylab as P"
   ]
  },
  {
   "cell_type": "code",
   "execution_count": 2,
   "metadata": {
    "collapsed": false
   },
   "outputs": [
    {
     "name": "stdout",
     "output_type": "stream",
     "text": [
      "Populating the interactive namespace from numpy and matplotlib\n"
     ]
    }
   ],
   "source": [
    "# Show charts in notebook\n",
    "%pylab inline"
   ]
  },
  {
   "cell_type": "code",
   "execution_count": 6,
   "metadata": {
    "collapsed": false
   },
   "outputs": [
    {
     "data": {
      "image/png": "[encoded data removed]",
      "text/plain": [
       "<matplotlib.figure.Figure at 0x4173400>"
      ]
     },
     "metadata": {},
     "output_type": "display_data"
    }
   ],
   "source": [
    "# Plot departure time from daysim outputs\n",
    "myh5 = h5py.File(r'R:\\SoundCast\\releases\\soundcast_release_c1\\outputs\\daysim_outputs.h5')\n",
    "\n",
    "trip = myh5['Trip']\n",
    "\n",
    "deptime = pd.DataFrame(trip['deptm'][:])\n",
    "deptimehr = (deptime/60).astype(int)\n",
    "\n",
    "bins = 24\n",
    "P.hist(deptimehr[0], bins=bins, normed=True, histtype='step', color='b', label='blah')\n",
    "P.xticks(range(23))\n",
    "P.show()"
   ]
  },
  {
   "cell_type": "code",
   "execution_count": null,
   "metadata": {
    "collapsed": false
   },
   "outputs": [],
   "source": []
  },
  {
   "cell_type": "code",
   "execution_count": 7,
   "metadata": {
    "collapsed": false
   },
   "outputs": [
    {
     "data": {
      "image/png": "[encoded data removed]",
      "text/plain": [
       "<matplotlib.figure.Figure at 0xcfa31d0>"
      ]
     },
     "metadata": {},
     "output_type": "display_data"
    }
   ],
   "source": [
    "# Plot departure time from 2014 survey\n",
    "myh5 = h5py.File('J:/Projects/Surveys/HHTravel/Survey2014/Data/DaySim/survey14.h5')\n",
    "\n",
    "trip = myh5['Trip']\n",
    "\n",
    "deptime = pd.DataFrame(trip['deptm'][:])\n",
    "deptimehr = (deptime/60).astype(int)\n",
    "\n",
    "bins = 24\n",
    "P.hist(deptimehr['deptm'], bins=bins, normed=True, histtype='step', color='b', label='blah')\n",
    "P.xticks(range(25))\n",
    "P.show()"
   ]
  },
  {
   "cell_type": "code",
   "execution_count": 8,
   "metadata": {
    "collapsed": false
   },
   "outputs": [
    {
     "data": {
      "text/html": [
       "<div style=\"max-height:1000px;max-width:1500px;overflow:auto;\">\n",
       "<table border=\"1\" class=\"dataframe\">\n",
       "  <thead>\n",
       "    <tr style=\"text-align: right;\">\n",
       "      <th></th>\n",
       "      <th>travdist</th>\n",
       "    </tr>\n",
       "  </thead>\n",
       "  <tbody>\n",
       "    <tr>\n",
       "      <th>count</th>\n",
       "      <td> 54617</td>\n",
       "    </tr>\n",
       "    <tr>\n",
       "      <th>mean</th>\n",
       "      <td>     5</td>\n",
       "    </tr>\n",
       "    <tr>\n",
       "      <th>std</th>\n",
       "      <td>     0</td>\n",
       "    </tr>\n",
       "    <tr>\n",
       "      <th>min</th>\n",
       "      <td>     5</td>\n",
       "    </tr>\n",
       "    <tr>\n",
       "      <th>25%</th>\n",
       "      <td>     5</td>\n",
       "    </tr>\n",
       "    <tr>\n",
       "      <th>50%</th>\n",
       "      <td>     5</td>\n",
       "    </tr>\n",
       "    <tr>\n",
       "      <th>75%</th>\n",
       "      <td>     5</td>\n",
       "    </tr>\n",
       "    <tr>\n",
       "      <th>max</th>\n",
       "      <td>     5</td>\n",
       "    </tr>\n",
       "  </tbody>\n",
       "</table>\n",
       "</div>"
      ],
      "text/plain": [
       "       travdist\n",
       "count     54617\n",
       "mean          5\n",
       "std           0\n",
       "min           5\n",
       "25%           5\n",
       "50%           5\n",
       "75%           5\n",
       "max           5"
      ]
     },
     "execution_count": 8,
     "metadata": {},
     "output_type": "execute_result"
    }
   ],
   "source": [
    "pd.DataFrame(trip['travdist'][:]).describe()"
   ]
  },
  {
   "cell_type": "markdown",
   "metadata": {},
   "source": [
    "Fill travdist, travcost, and travtime with non-negative values"
   ]
  },
  {
   "cell_type": "code",
   "execution_count": 23,
   "metadata": {
    "collapsed": false
   },
   "outputs": [],
   "source": [
    "myh5 = h5py.File(r'R:\\SoundCast\\releases\\TransportationFutures2010\\scripts\\summarize\\survey14.h5')\n",
    "trip = myh5['Trip']\n",
    "\n",
    "for table in ['travcost','travtime','travdist']:\n",
    "    # Original file has -1 as filler for these fields, replace with +1\n",
    "    trip[table][:]=np.ones(len(trip[table][:]))"
   ]
  },
  {
   "cell_type": "code",
   "execution_count": 152,
   "metadata": {
    "collapsed": false
   },
   "outputs": [],
   "source": [
    "# Replace negative expansion factors (for person rows) with +1\n",
    "\n",
    "counter=0\n",
    "for record in person['psexpfac']:\n",
    "    if person['psexpfac'][counter][0] < 0:\n",
    "        person['psexpfac'][counter] = np.array(1)    # replace with 1 for now\n",
    "        print person['psexpfac'][counter][0]\n",
    "        print counter\n",
    "    counter +=1"
   ]
  },
  {
   "cell_type": "code",
   "execution_count": 188,
   "metadata": {
    "collapsed": false
   },
   "outputs": [],
   "source": [
    "# Replace all negative values from -1 to 1 on distance to work\n",
    "person = myh5['Person']\n",
    "\n",
    "for field in ['psaudist','pwaudist']:\n",
    "    counter=0\n",
    "    for record in person[field]:\n",
    "        if person[field][counter][0] < 0:\n",
    "            # replace with 1 must be float, can probably get a float 1 otherwise\n",
    "            # but this worked first\n",
    "#             person[field][counter][0] = np.ones(1)[0]    \n",
    "            person[field][counter][0] = 1.0\n",
    "            #print type(person[field][counter][0])\n",
    "    counter +=1"
   ]
  },
  {
   "cell_type": "code",
   "execution_count": null,
   "metadata": {
    "collapsed": true
   },
   "outputs": [],
   "source": []
  }
 ],
 "metadata": {
  "kernelspec": {
   "display_name": "Python 2",
   "language": "python",
   "name": "python2"
  },
  "language_info": {
   "codemirror_mode": {
    "name": "ipython",
    "version": 2
   },
   "file_extension": ".py",
   "mimetype": "text/x-python",
   "name": "python",
   "nbconvert_exporter": "python",
   "pygments_lexer": "ipython2",
   "version": "2.7.9"
  }
 },
 "nbformat": 4,
 "nbformat_minor": 0
}
