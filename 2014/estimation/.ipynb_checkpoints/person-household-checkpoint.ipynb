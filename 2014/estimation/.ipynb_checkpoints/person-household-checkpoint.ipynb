{
 "cells": [
  {
   "cell_type": "markdown",
   "metadata": {},
   "source": [
    "These notebooks are used to compare a base and scenario, from expanded surveys or model outputs, in H5 format. To run: from the menu bar above, choose **Cell -> Run All ** or run lines individually. Use the toggle button below to hide/show the raw Python code."
   ]
  },
  {
   "cell_type": "markdown",
   "metadata": {
    "collapsed": false
   },
   "source": [
    "## Person and Household"
   ]
  },
  {
   "cell_type": "markdown",
   "metadata": {},
   "source": [
    "*Summaries:*\n",
    "    - Total People & Workers\n",
    "    - Household Size\n",
    "    - County Population\n",
    "    - Age Distribution\n",
    "    - Worker Types\n",
    "    - Distance to Work\n",
    "    - Transit Pass Ownership\n",
    "    - Vehicle Ownership\n",
    "---"
   ]
  },
  {
   "cell_type": "code",
   "execution_count": null,
   "metadata": {
    "collapsed": false
   },
   "outputs": [],
   "source": [
    "from IPython.display import HTML\n",
    "\n",
    "HTML('''<script>\n",
    "code_show=true; \n",
    "function code_toggle() {\n",
    " if (code_show){\n",
    " $('div.input').hide();\n",
    " } else {\n",
    " $('div.input').show();\n",
    " }\n",
    " code_show = !code_show\n",
    "} \n",
    "$( document ).ready(code_toggle);\n",
    "</script>\n",
    "<form action=\"javascript:code_toggle()\"><input type=\"submit\" value=\"Click here to toggle on/off the raw code.\"></form>''')"
   ]
  },
  {
   "cell_type": "code",
   "execution_count": null,
   "metadata": {
    "collapsed": false
   },
   "outputs": [],
   "source": [
    "import os\n",
    "import numpy as np\n",
    "import pandas as pd\n",
    "import h5py\n",
    "import pylab as P\n",
    "from IPython.display import display, display_pretty, Javascript, HTML\n",
    "from pandas_highcharts.core import serialize\n",
    "from pandas_highcharts.display import display_charts\n",
    "import matplotlib.pyplot as plt\n",
    "\n",
    "# Show charts in notebook\n",
    "%pylab inline"
   ]
  },
  {
   "cell_type": "code",
   "execution_count": null,
   "metadata": {
    "collapsed": true
   },
   "outputs": [],
   "source": []
  },
  {
   "cell_type": "code",
   "execution_count": null,
   "metadata": {
    "collapsed": false
   },
   "outputs": [],
   "source": [
    "# Set main model directory to parent directory\n",
    "\n",
    "# 2006 survey\n",
    "survey06_dir = r'R:\\SoundCast\\releases\\TransportationFutures2010\\scripts\\summarize'\n",
    "\n",
    "\n",
    "# 2014 survey\n",
    "survey14_dir = r'R:\\SoundCast\\releases\\TransportationFutures2010\\scripts\\summarize'\n",
    "# survey14_dir = r'R:\\SoundCast\\estimation\\2014\\P5'"
   ]
  },
  {
   "cell_type": "code",
   "execution_count": null,
   "metadata": {
    "collapsed": true
   },
   "outputs": [],
   "source": []
  },
  {
   "cell_type": "code",
   "execution_count": null,
   "metadata": {
    "collapsed": false
   },
   "outputs": [],
   "source": [
    "# Read Model Scenario Results\n",
    "scen = h5py.File(survey06_dir + r'/survey-expanded.h5','r+')\n",
    "scen_name = '2006 Survey'"
   ]
  },
  {
   "cell_type": "code",
   "execution_count": null,
   "metadata": {
    "collapsed": false
   },
   "outputs": [],
   "source": [
    "# Read Base Data\n",
    "base_file = r'/survey-expanded.h5'\n",
    "# base_dir = survey14_dir\n",
    "\n",
    "base = h5py.File(survey14_dir + base_file ,'r+')\n",
    "base_name = '2014 Survey'"
   ]
  },
  {
   "cell_type": "code",
   "execution_count": null,
   "metadata": {
    "collapsed": false
   },
   "outputs": [],
   "source": [
    "def build_df(h5file, h5table, var_dict, survey_file=False):\n",
    "    ''' Convert H5 into dataframe '''\n",
    "    data = {}\n",
    "    if survey_file:\n",
    "        # survey h5 have nested data structure, different than daysim_outputs\n",
    "        for col_name, var in var_dict.iteritems():\n",
    "            data[col_name] = [i[0] for i in h5file[h5table][var][:]]\n",
    "    else:\n",
    "        for col_name, var in var_dict.iteritems():\n",
    "            data[col_name] = [i for i in h5file[h5table][var][:]]\n",
    "\n",
    "    return pd.DataFrame(data)"
   ]
  },
  {
   "cell_type": "code",
   "execution_count": null,
   "metadata": {
    "collapsed": true
   },
   "outputs": [],
   "source": [
    "tripdict={'Household ID': 'hhno',\n",
    "            'Person Number': 'pno',\n",
    "            'Travel Time':'travtime',\n",
    "            'Travel Cost': 'travcost',\n",
    "            'Travel Distance': 'travdist',\n",
    "            'Mode': 'mode',\n",
    "            'Purpose':'dpurp',\n",
    "            'Departure Time': 'deptm',\n",
    "            'Expansion Factor': 'trexpfac'}"
   ]
  },
  {
   "cell_type": "code",
   "execution_count": null,
   "metadata": {
    "collapsed": false
   },
   "outputs": [],
   "source": [
    "base.keys()"
   ]
  },
  {
   "cell_type": "code",
   "execution_count": null,
   "metadata": {
    "collapsed": false
   },
   "outputs": [],
   "source": [
    "# trip_scen = build_df(h5file=scen, h5table='Trip', var_dict=tripdict, survey_file=False)\n",
    "# trip_base = build_df(h5file=base, h5table='Trip', var_dict=tripdict, survey_file=False)"
   ]
  },
  {
   "cell_type": "code",
   "execution_count": null,
   "metadata": {
    "collapsed": true
   },
   "outputs": [],
   "source": [
    "persondict={'Household ID': 'hhno',\n",
    "            'Person Number': 'pno',\n",
    "            'Transit Pass': 'ptpass',\n",
    "            'Auto Time to Work': 'pwautime',\n",
    "            'Auto Distance to Work': 'pwaudist',\n",
    "            'Worker Type': 'pwtyp',\n",
    "            'Student Type': 'pstyp',\n",
    "            'Usual Commute Mode': 'pwtaz',\n",
    "            'Workplace TAZ': 'pwtaz',\n",
    "            'Age': 'pagey',\n",
    "            'Person Type': 'pptyp',\n",
    "            'Expansion Factor': 'psexpfac'}"
   ]
  },
  {
   "cell_type": "code",
   "execution_count": null,
   "metadata": {
    "collapsed": false
   },
   "outputs": [],
   "source": [
    "person_scen = build_df(h5file=scen, h5table='Person', var_dict=persondict, survey_file=False)\n",
    "person_base = build_df(h5file=base, h5table='Person', var_dict=persondict, survey_file=False)"
   ]
  },
  {
   "cell_type": "code",
   "execution_count": null,
   "metadata": {
    "collapsed": false
   },
   "outputs": [],
   "source": [
    "# Create unique ID for person by concatenating household ID and person number \n",
    "person_scen['personID'] = (person_scen['Household ID'].astype('str')+person_scen['Person Number'].astype('str')).astype('int')\n",
    "person_base['personID'] = (person_base['Household ID'].astype('str')+person_base['Person Number'].astype('str')).astype('int')"
   ]
  },
  {
   "cell_type": "code",
   "execution_count": null,
   "metadata": {
    "collapsed": true
   },
   "outputs": [],
   "source": [
    "hhdict={'Household ID': 'hhno',\n",
    "        'Household Size': 'hhsize',\n",
    "        'Household Vehicles': 'hhvehs',\n",
    "        'Household Workers': 'hhwkrs',\n",
    "        'Household Income': 'hhincome',\n",
    "        'Household TAZ': 'hhtaz',\n",
    "        'Expansion Factor': 'hhexpfac'}"
   ]
  },
  {
   "cell_type": "code",
   "execution_count": null,
   "metadata": {
    "collapsed": false
   },
   "outputs": [],
   "source": [
    "hh_scen = build_df(h5file=scen, h5table='Household', var_dict=hhdict, survey_file=False)\n",
    "hh_base = build_df(h5file=base, h5table='Household', var_dict=hhdict, survey_file=False)"
   ]
  },
  {
   "cell_type": "code",
   "execution_count": null,
   "metadata": {
    "collapsed": false
   },
   "outputs": [],
   "source": [
    "# Add labels for worker type\n",
    "labels = {\n",
    "  0: \"Not a worker\",  \n",
    "  1: \"Full-time worker\",\n",
    "  2: \"Part-time worker\",\n",
    "}\n",
    "\n",
    "person_base['Worker Type'] = ([labels[x] for x in person_base['Worker Type']])\n",
    "person_scen['Worker Type'] = ([labels[x] for x in person_scen['Worker Type']])"
   ]
  },
  {
   "cell_type": "code",
   "execution_count": null,
   "metadata": {
    "collapsed": false
   },
   "outputs": [],
   "source": [
    "# # Add labels for student type\n",
    "# labels = {\n",
    "#   0: \"Not a student\",  \n",
    "#   1: \"Full-time student\",\n",
    "#   2: \"Part-time student\",\n",
    "# }\n",
    "\n",
    "# person_base['Student Type'] = ([labels[x] for x in person_base['Student Type']])\n",
    "# person_scen['Student Type'] = ([labels[x] for x in person_scen['Student Type']])"
   ]
  },
  {
   "cell_type": "code",
   "execution_count": null,
   "metadata": {
    "collapsed": false
   },
   "outputs": [],
   "source": [
    "# Join household records to person records\n",
    "hh_per_scen = pd.merge(left=person_scen, right=hh_scen,on='Household ID',suffixes=('_p','_h'))\n",
    "hh_per_base = pd.merge(left=person_base, right=hh_base,on='Household ID',suffixes=('_p','_h'))"
   ]
  },
  {
   "cell_type": "code",
   "execution_count": null,
   "metadata": {
    "collapsed": false
   },
   "outputs": [],
   "source": [
    "# Join household geography\n",
    "taz_geog = pd.read_csv(r'utils/taz_lookup.csv')\n",
    "taz_geog.reindex\n",
    "hh_per_scen_home_geog = pd.merge(hh_per_scen, taz_geog, left_on='Household TAZ', right_on='TAZ')\n",
    "hh_per_base_home_geog = pd.merge(hh_per_base, taz_geog, left_on='Household TAZ', right_on='TAZ')"
   ]
  },
  {
   "cell_type": "code",
   "execution_count": null,
   "metadata": {
    "collapsed": true
   },
   "outputs": [],
   "source": [
    "# Join workplace geography\n",
    "hh_per_scen_work_geog = pd.merge(hh_per_scen, taz_geog, left_on='Workplace TAZ', right_on='TAZ')\n",
    "hh_per_base_work_geog = pd.merge(hh_per_base, taz_geog, left_on='Workplace TAZ', right_on='TAZ')"
   ]
  },
  {
   "cell_type": "markdown",
   "metadata": {},
   "source": [
    "## Total People"
   ]
  },
  {
   "cell_type": "code",
   "execution_count": null,
   "metadata": {
    "collapsed": false
   },
   "outputs": [],
   "source": [
    "print scen_name + \": \"+ str(person_scen['personID'].count()).split('.')[0]\n",
    "print base_name + \": \"+ str(person_base['personID'].count()).split('.')[0]"
   ]
  },
  {
   "cell_type": "markdown",
   "metadata": {},
   "source": [
    "## Average Household Size"
   ]
  },
  {
   "cell_type": "code",
   "execution_count": null,
   "metadata": {
    "collapsed": false
   },
   "outputs": [],
   "source": [
    "print scen_name + \": \"+ str(hh_scen['Household Size'].mean())\n",
    "print base_name + \": \"+ str(hh_base['Household Size'].mean())"
   ]
  },
  {
   "cell_type": "markdown",
   "metadata": {},
   "source": [
    "## Household Size Distribution"
   ]
  },
  {
   "cell_type": "code",
   "execution_count": null,
   "metadata": {
    "collapsed": false
   },
   "outputs": [],
   "source": [
    "df = pd.DataFrame([hh_scen.groupby('Household Size').count()['Household ID'],\n",
    "                   hh_base.groupby('Household Size').count()['Household ID']]).T\n",
    "df.columns=([scen_name,base_name])\n",
    "df"
   ]
  },
  {
   "cell_type": "code",
   "execution_count": null,
   "metadata": {
    "collapsed": false
   },
   "outputs": [],
   "source": [
    "# Distribution\n",
    "df_dist = pd.DataFrame([df[scen_name]/person_scen.count()['Household ID'],\n",
    "                   df[base_name]/person_base.count()['Household ID']]).T\n",
    "df_dist\n",
    "display_charts(df_dist, kind='bar', title='Household Size Distribution')"
   ]
  },
  {
   "cell_type": "markdown",
   "metadata": {},
   "source": [
    "---"
   ]
  },
  {
   "cell_type": "markdown",
   "metadata": {},
   "source": [
    "## Age Distribution"
   ]
  },
  {
   "cell_type": "code",
   "execution_count": null,
   "metadata": {
    "collapsed": false
   },
   "outputs": [],
   "source": [
    "# 2006 survey age is continuous variable\n",
    "# 2014 is categorical\n",
    "from collections import OrderedDict\n",
    "\n",
    "\n",
    "# lookup for 2014 names (which are averaged based on min and max of bin)\n",
    "age_cat = OrderedDict([(2, '   <5'),\n",
    "           (8, ' 5-11'),\n",
    "           (14, '12-15'),\n",
    "           (17, '16-17'),\n",
    "          (21, '18-24'),\n",
    "          (30, '25-34'),\n",
    "          (40, '35-44'),\n",
    "          (50, '44-54'),\n",
    "          (60, '55-64'),\n",
    "          (70, '65-74'),\n",
    "          (80, '75-84'),\n",
    "          (90, '85+')])\n",
    "\n",
    "\n",
    "person_base['Age'] = [age_cat[x] for x in person_base['Age'].as_matrix()]"
   ]
  },
  {
   "cell_type": "code",
   "execution_count": null,
   "metadata": {
    "collapsed": true
   },
   "outputs": [],
   "source": [
    "# convert 2006 into categorical\n",
    "age_bins = [0,4,11,15,17,24,34,44,54,64,74,84,1000]\n",
    "person_scen['Age'] = pd.cut(person_scen['Age'],age_bins,labels=age_cat.values())"
   ]
  },
  {
   "cell_type": "code",
   "execution_count": null,
   "metadata": {
    "collapsed": false
   },
   "outputs": [],
   "source": [
    "df = pd.DataFrame([person_scen.groupby('Age').count()['Household ID'],\n",
    "                   person_base.groupby('Age').count()['Household ID']]).T\n",
    "df.columns=([scen_name,base_name])\n",
    "df"
   ]
  },
  {
   "cell_type": "code",
   "execution_count": null,
   "metadata": {
    "collapsed": false
   },
   "outputs": [],
   "source": [
    "# Distribution\n",
    "df_new = pd.DataFrame([df[scen_name]/df[scen_name].sum(),\n",
    "             df[base_name]/df[base_name].sum()]).T\n",
    "df_new\n",
    "\n",
    "display_charts(df_new, title='Age', kind='bar')"
   ]
  },
  {
   "cell_type": "markdown",
   "metadata": {},
   "source": [
    "---"
   ]
  },
  {
   "cell_type": "markdown",
   "metadata": {},
   "source": [
    "## Workers Types"
   ]
  },
  {
   "cell_type": "code",
   "execution_count": null,
   "metadata": {
    "collapsed": false
   },
   "outputs": [],
   "source": [
    "df = pd.DataFrame([person_scen.groupby('Worker Type').count()['personID'],\n",
    "                   person_base.groupby('Worker Type').count()['personID']]).T\n",
    "df.columns=([scen_name,base_name])\n",
    "df"
   ]
  },
  {
   "cell_type": "markdown",
   "metadata": {},
   "source": [
    "---"
   ]
  },
  {
   "cell_type": "markdown",
   "metadata": {},
   "source": [
    "** Distribution of Worker Types**"
   ]
  },
  {
   "cell_type": "code",
   "execution_count": null,
   "metadata": {
    "collapsed": false
   },
   "outputs": [],
   "source": [
    "# Distribution\n",
    "df_dist = pd.DataFrame([df[scen_name]/person_scen.count()['personID'],\n",
    "                   df[base_name]/person_base.count()['personID']]).T"
   ]
  },
  {
   "cell_type": "code",
   "execution_count": null,
   "metadata": {
    "collapsed": false
   },
   "outputs": [],
   "source": [
    "display_charts(df_dist, kind='bar', title='Worker Type Distribution')"
   ]
  },
  {
   "cell_type": "markdown",
   "metadata": {},
   "source": [
    "---"
   ]
  },
  {
   "cell_type": "markdown",
   "metadata": {},
   "source": [
    "## Workers by County"
   ]
  },
  {
   "cell_type": "code",
   "execution_count": null,
   "metadata": {
    "collapsed": false
   },
   "outputs": [],
   "source": [
    "hh_per_scen_work_geog"
   ]
  },
  {
   "cell_type": "code",
   "execution_count": null,
   "metadata": {
    "collapsed": false
   },
   "outputs": [],
   "source": [
    "# Workers by Workplace County\n",
    "\n",
    "scen_workers = hh_per_scen_work_geog[hh_per_scen_work_geog['Worker Type'] <> 'Not a worker']\n",
    "base_workers = hh_per_base_work_geog[hh_per_base_work_geog['Worker Type'] <> 'Not a worker']\n",
    "\n",
    "df = scen_workers.groupby('County').count()['personID']\n",
    "df=df[df.index<>0]\n",
    "df=pd.DataFrame(df)\n",
    "df.columns=[scen_name]\n",
    "\n",
    "df_base = base_workers.groupby('County').count()['personID']\n",
    "df_base=df_base[df_base.index<>0]\n",
    "df[base_name]=df_base\n",
    "df\n",
    "\n",
    "# Also add in the CTPP here\n",
    "# 2006-2010 CTPP\n",
    "\n",
    "ctpp_workers = {'King':53625,'Kitsap':6475,'Pierce':15705,'Snohomish':15810}\n",
    "\n",
    "df['CTPP 06-10'] = pd.DataFrame(ctpp_workers.values(),index=ctpp_workers.keys())"
   ]
  },
  {
   "cell_type": "code",
   "execution_count": null,
   "metadata": {
    "collapsed": false
   },
   "outputs": [],
   "source": [
    "df"
   ]
  },
  {
   "cell_type": "code",
   "execution_count": null,
   "metadata": {
    "collapsed": false
   },
   "outputs": [],
   "source": [
    "# Distribution\n",
    "df_dist = pd.DataFrame([df[scen_name]/df[scen_name].sum(),\n",
    "                       df[base_name]/df[base_name].sum(),\n",
    "                       df['CTPP 06-10']/df['CTPP 06-10'].sum()]).T"
   ]
  },
  {
   "cell_type": "code",
   "execution_count": null,
   "metadata": {
    "collapsed": false
   },
   "outputs": [],
   "source": [
    "display_charts(df_dist, kind='bar', title='Worker Distribution by County')"
   ]
  },
  {
   "cell_type": "markdown",
   "metadata": {},
   "source": [
    "---"
   ]
  },
  {
   "cell_type": "markdown",
   "metadata": {},
   "source": [
    "## Distance to Work"
   ]
  },
  {
   "cell_type": "code",
   "execution_count": null,
   "metadata": {
    "collapsed": false
   },
   "outputs": [],
   "source": [
    "# Filter out non-workers\n",
    "scen_df = (person_scen[person_scen['Worker Type'] <> 'Not a worker'])\n",
    "base_df = (person_base[person_base['Worker Type'] <> 'Not a worker'])\n",
    "\n",
    "df = pd.DataFrame([scen_df.groupby('Age').mean()['Auto Distance to Work'],\n",
    "              base_df.groupby('Age').mean()['Auto Distance to Work']]).T\n",
    "df.columns=([scen_name,base_name])\n",
    "df.fillna(0,inplace=True)\n",
    "df"
   ]
  },
  {
   "cell_type": "code",
   "execution_count": null,
   "metadata": {
    "collapsed": false
   },
   "outputs": [],
   "source": [
    "display_charts(df, title='Distance to Work', kind='bar')"
   ]
  },
  {
   "cell_type": "code",
   "execution_count": null,
   "metadata": {
    "collapsed": false
   },
   "outputs": [],
   "source": []
  },
  {
   "cell_type": "markdown",
   "metadata": {},
   "source": [
    "---"
   ]
  },
  {
   "cell_type": "markdown",
   "metadata": {},
   "source": [
    "## Transit Pass Ownership"
   ]
  },
  {
   "cell_type": "code",
   "execution_count": null,
   "metadata": {
    "collapsed": true
   },
   "outputs": [],
   "source": [
    "df = pd.DataFrame([person_scen.groupby('Transit Pass').mean()['Auto Distance to Work'],\n",
    "              person_base.groupby('Transit Pass').mean()['Auto Distance to Work']]).T\n",
    "df.columns=([scen_name,base_name])"
   ]
  },
  {
   "cell_type": "code",
   "execution_count": null,
   "metadata": {
    "collapsed": false
   },
   "outputs": [],
   "source": [
    "df.index = ['No Pass', 'Transit Pass']\n",
    "df"
   ]
  },
  {
   "cell_type": "markdown",
   "metadata": {},
   "source": [
    "---"
   ]
  },
  {
   "cell_type": "markdown",
   "metadata": {},
   "source": [
    "## Auto Ownership"
   ]
  },
  {
   "cell_type": "code",
   "execution_count": null,
   "metadata": {
    "collapsed": false
   },
   "outputs": [],
   "source": [
    "new_hh_scen = hh_scen[hh_scen.index>=0]\n",
    "df = pd.DataFrame([new_hh_scen.groupby('Household Vehicles').count()['Household ID'],\n",
    "                   hh_base.groupby('Household Vehicles').count()['Household ID']]).T\n",
    "df.columns=([scen_name,base_name])\n",
    "df=df[df.index>=0]\n",
    "df"
   ]
  },
  {
   "cell_type": "code",
   "execution_count": null,
   "metadata": {
    "collapsed": false
   },
   "outputs": [],
   "source": [
    "# Distribution\n",
    "df_new = pd.DataFrame([df[scen_name]/df[scen_name].sum(),\n",
    "             df[base_name]/df[base_name].sum()]).T"
   ]
  },
  {
   "cell_type": "code",
   "execution_count": null,
   "metadata": {
    "collapsed": false
   },
   "outputs": [],
   "source": [
    "display_charts(df_new, title='Vehicles per Household', kind='bar', xlim=(0,6))"
   ]
  },
  {
   "cell_type": "markdown",
   "metadata": {},
   "source": [
    "### Auto Ownership by Income"
   ]
  },
  {
   "cell_type": "code",
   "execution_count": null,
   "metadata": {
    "collapsed": false
   },
   "outputs": [],
   "source": [
    "# Create common income ranges\n",
    "def map_income(df, in_field, out_field):\n",
    "    \n",
    "    # Define categories\n",
    "    incmap = {}\n",
    "    for i in range(0, 20000):\n",
    "        incmap.update({i: ' <20k'})\n",
    "    for i in range(20000, 40000):\n",
    "        incmap.update({i: '20k-40k'})\n",
    "    for i in range(40000, 60000):\n",
    "        incmap.update({i: '40k-60k'})\n",
    "    for i in range(60000, 75000):\n",
    "        incmap.update({i: '60k-75k'})\n",
    "    for i in range(75000, 100000):\n",
    "        incmap.update({i: '75k-100k'})\n",
    "    for i in range(100000, 150000):\n",
    "        incmap.update({i: '100k-150k'})\n",
    "    for i in range(150000, int(df[in_field].max())+1):\n",
    "        incmap.update({i: '>150k'})\n",
    "\n",
    "    df[out_field] = df[in_field].map(incmap)\n",
    "    return df"
   ]
  },
  {
   "cell_type": "code",
   "execution_count": null,
   "metadata": {
    "collapsed": false
   },
   "outputs": [],
   "source": [
    "hh_scen = map_income(hh_scen, in_field='Household Income', out_field='Income')\n",
    "hh_base = map_income(hh_base, in_field='Household Income', out_field='Income')"
   ]
  },
  {
   "cell_type": "code",
   "execution_count": null,
   "metadata": {
    "collapsed": false
   },
   "outputs": [],
   "source": [
    "hh_base.groupby('Household Income').count()"
   ]
  },
  {
   "cell_type": "code",
   "execution_count": null,
   "metadata": {
    "collapsed": false
   },
   "outputs": [],
   "source": [
    "df_scen = pd.pivot_table(data=hh_scen, index='Household Vehicles', columns=['Income'], \n",
    "                    aggfunc='count', fill_value=False, margins=True)['Household ID']\n",
    "df_base = pd.pivot_table(data=hh_base, index='Household Vehicles', columns=['Income'], \n",
    "                    aggfunc='count', fill_value=False, margins=True)['Household ID']\n",
    "\n",
    "# Sort the columns\n",
    "df_scen = df_scen[[' <20k','20k-40k','40k-60k','60k-75k',\n",
    "                   '75k-100k','100k-150k','>150k']]\n",
    "df_base = df_base[[' <20k','20k-40k','40k-60k','60k-75k',\n",
    "                   '75k-100k','100k-150k','>150k']]"
   ]
  },
  {
   "cell_type": "code",
   "execution_count": null,
   "metadata": {
    "collapsed": false
   },
   "outputs": [],
   "source": [
    "df_scen"
   ]
  },
  {
   "cell_type": "markdown",
   "metadata": {},
   "source": [
    "---"
   ]
  },
  {
   "cell_type": "code",
   "execution_count": null,
   "metadata": {
    "collapsed": true
   },
   "outputs": [],
   "source": []
  },
  {
   "cell_type": "code",
   "execution_count": null,
   "metadata": {
    "collapsed": true
   },
   "outputs": [],
   "source": []
  },
  {
   "cell_type": "code",
   "execution_count": null,
   "metadata": {
    "collapsed": true
   },
   "outputs": [],
   "source": []
  },
  {
   "cell_type": "code",
   "execution_count": null,
   "metadata": {
    "collapsed": true
   },
   "outputs": [],
   "source": []
  },
  {
   "cell_type": "code",
   "execution_count": null,
   "metadata": {
    "collapsed": true
   },
   "outputs": [],
   "source": []
  },
  {
   "cell_type": "code",
   "execution_count": null,
   "metadata": {
    "collapsed": true
   },
   "outputs": [],
   "source": []
  },
  {
   "cell_type": "code",
   "execution_count": null,
   "metadata": {
    "collapsed": true
   },
   "outputs": [],
   "source": []
  }
 ],
 "metadata": {
  "kernelspec": {
   "display_name": "Python 2",
   "language": "python",
   "name": "python2"
  },
  "language_info": {
   "codemirror_mode": {
    "name": "ipython",
    "version": 2
   },
   "file_extension": ".py",
   "mimetype": "text/x-python",
   "name": "python",
   "nbconvert_exporter": "python",
   "pygments_lexer": "ipython2",
   "version": "2.7.9"
  }
 },
 "nbformat": 4,
 "nbformat_minor": 0
}
