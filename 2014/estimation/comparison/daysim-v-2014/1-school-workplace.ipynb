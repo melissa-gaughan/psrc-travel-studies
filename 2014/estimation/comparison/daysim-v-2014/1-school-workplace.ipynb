{
 "cells": [
  {
   "cell_type": "markdown",
   "metadata": {},
   "source": [
    "These notebooks are used to compare a base and scenario, from surveys or model outputs, in H5 format. To run: from the menu bar above, choose **Cell -> Run All ** or run lines individually. Use the toggle button below to hide/show the raw Python code."
   ]
  },
  {
   "cell_type": "markdown",
   "metadata": {
    "collapsed": false
   },
   "source": [
    " ## School and Workplace Location Models"
   ]
  },
  {
   "cell_type": "markdown",
   "metadata": {},
   "source": [
    "*Summaries for Daysim Models 1.1 - 1.5*\n",
    "\n",
    "    - Workplace Location (1.1)\n",
    "        - by County\n",
    "        - by District\n",
    "    - School Location (1.2)\n",
    "        - by County\n",
    "        - by District\n",
    "    - Workers Paying to Park at Work (1.3)\n",
    "        - by Workplace County\n",
    "        - by Workplace District\n",
    "    - Transit Pass Ownership (1.4)\n",
    "       - by Workplace County \n",
    "       - by Workplace District\n",
    "       - by Home County \n",
    "       - by Home District\n",
    "    - Auto Ownership (1.5)\n",
    "       - by County\n",
    "       - by District\n",
    "---"
   ]
  },
  {
   "cell_type": "code",
   "execution_count": 1,
   "metadata": {
    "collapsed": false
   },
   "outputs": [
    {
     "data": {
      "text/html": [
       "<script>\n",
       "code_show=true; \n",
       "function code_toggle() {\n",
       " if (code_show){\n",
       " $('div.input').hide();\n",
       " } else {\n",
       " $('div.input').show();\n",
       " }\n",
       " code_show = !code_show\n",
       "} \n",
       "$( document ).ready(code_toggle);\n",
       "</script>\n",
       "<form action=\"javascript:code_toggle()\"><input type=\"submit\" value=\"Click here to toggle on/off the raw code.\"></form>"
      ],
      "text/plain": [
       "<IPython.core.display.HTML object>"
      ]
     },
     "execution_count": 1,
     "metadata": {},
     "output_type": "execute_result"
    }
   ],
   "source": [
    "from IPython.display import HTML\n",
    "\n",
    "HTML('''<script>\n",
    "code_show=true; \n",
    "function code_toggle() {\n",
    " if (code_show){\n",
    " $('div.input').hide();\n",
    " } else {\n",
    " $('div.input').show();\n",
    " }\n",
    " code_show = !code_show\n",
    "} \n",
    "$( document ).ready(code_toggle);\n",
    "</script>\n",
    "<form action=\"javascript:code_toggle()\"><input type=\"submit\" value=\"Click here to toggle on/off the raw code.\"></form>''')"
   ]
  },
  {
   "cell_type": "code",
   "execution_count": 80,
   "metadata": {
    "collapsed": false
   },
   "outputs": [
    {
     "name": "stdout",
     "output_type": "stream",
     "text": [
      "Populating the interactive namespace from numpy and matplotlib\n"
     ]
    }
   ],
   "source": [
    "import os\n",
    "import numpy as np\n",
    "import pandas as pd\n",
    "import h5py\n",
    "import pylab as P\n",
    "from IPython.display import display, display_pretty, Javascript, HTML\n",
    "import matplotlib\n",
    "import matplotlib.pyplot as plt\n",
    "matplotlib.style.use('ggplot')\n",
    "from matplotlib.backends.backend_pdf import PdfPages\n",
    "\n",
    "# Show charts in notebook\n",
    "%pylab inline"
   ]
  },
  {
   "cell_type": "code",
   "execution_count": 30,
   "metadata": {
    "collapsed": false
   },
   "outputs": [],
   "source": [
    "# Load h5 or daysim outputs records\n",
    "# Refering to 2 datasets as BASE and SCEN (scenario)\n",
    "\n",
    "base = h5py.File(r'R:\\SoundCast\\estimation\\2014\\P5\\survey14.h5','r+')\n",
    "base_name = '2014 Survey'\n",
    "\n",
    "# Note that expansion factor on daysim_outputs = 1 for each record, to allow direct comparison between survey records w/ exp. factor\n",
    "scen = h5py.File(r'R:\\SoundCast\\releases\\TransportationFutures2010\\outputs\\daysim_outputs.h5','r+')\n",
    "scen_name = 'Daysim'"
   ]
  },
  {
   "cell_type": "code",
   "execution_count": 3,
   "metadata": {
    "collapsed": false
   },
   "outputs": [],
   "source": [
    "def build_df(h5file, h5table, var_dict, nested):\n",
    "    ''' Convert H5 into dataframe '''\n",
    "    data = {}\n",
    "    if nested:\n",
    "        # survey h5 have nested data structure, different than daysim_outputs\n",
    "        for col_name, var in var_dict.iteritems():\n",
    "            data[col_name] = [i[0] for i in h5file[h5table][var][:]]\n",
    "    else:\n",
    "        for col_name, var in var_dict.iteritems():\n",
    "            data[col_name] = [i for i in h5file[h5table][var][:]]\n",
    "\n",
    "    return pd.DataFrame(data)"
   ]
  },
  {
   "cell_type": "code",
   "execution_count": null,
   "metadata": {
    "collapsed": false
   },
   "outputs": [],
   "source": []
  },
  {
   "cell_type": "code",
   "execution_count": 10,
   "metadata": {
    "collapsed": true
   },
   "outputs": [],
   "source": [
    "# Columns to import from h5 for analysis\n",
    "tripdict={'Household ID': 'hhno',\n",
    "            'Person Number': 'pno',\n",
    "            'Travel Time':'travtime',\n",
    "            'Travel Cost': 'travcost',\n",
    "            'Travel Distance': 'travdist',\n",
    "            'Mode': 'mode',\n",
    "            'Purpose':'dpurp',\n",
    "            'Departure Time': 'deptm',\n",
    "            'Expansion Factor': 'trexpfac'}"
   ]
  },
  {
   "cell_type": "code",
   "execution_count": 9,
   "metadata": {
    "collapsed": false
   },
   "outputs": [],
   "source": [
    "trip_base = build_df(h5file=base, h5table='Trip', var_dict=tripdict, nested=False)\n",
    "trip_scen = build_df(h5file=scen, h5table='Trip', var_dict=tripdict, nested=False)"
   ]
  },
  {
   "cell_type": "code",
   "execution_count": null,
   "metadata": {
    "collapsed": true
   },
   "outputs": [],
   "source": []
  },
  {
   "cell_type": "code",
   "execution_count": 11,
   "metadata": {
    "collapsed": true
   },
   "outputs": [],
   "source": [
    "# Columns to import from h5 for analysis\n",
    "persondict={'Household ID': 'hhno',\n",
    "            'Person Number': 'pno',\n",
    "            'Transit Pass': 'ptpass',\n",
    "            'Auto Time to Work': 'pwautime',\n",
    "            'Auto Distance to Work': 'pwaudist',\n",
    "            'Worker Type': 'pwtyp',\n",
    "            'Student Type': 'pstyp',\n",
    "            'Usual Commute Mode': 'puwmode',\n",
    "            'Workplace TAZ': 'pwtaz',\n",
    "            'School TAZ': 'pstaz',\n",
    "            'Age': 'pagey',\n",
    "            'Person Type': 'pptyp',\n",
    "            'Expansion Factor': 'psexpfac'}"
   ]
  },
  {
   "cell_type": "code",
   "execution_count": 13,
   "metadata": {
    "collapsed": false
   },
   "outputs": [],
   "source": [
    "person_scen = build_df(h5file=scen, h5table='Person', var_dict=persondict, nested=False)\n",
    "person_base = build_df(h5file=base, h5table='Person', var_dict=persondict, nested=False)"
   ]
  },
  {
   "cell_type": "code",
   "execution_count": 14,
   "metadata": {
    "collapsed": false
   },
   "outputs": [],
   "source": [
    "# Create unique ID for person by concatenating household ID and person number \n",
    "person_scen['personID'] = (person_scen['Household ID'].astype('str')+person_scen['Person Number'].astype('str')).astype('int')\n",
    "person_base['personID'] = (person_base['Household ID'].astype('str')+person_base['Person Number'].astype('str')).astype('int')"
   ]
  },
  {
   "cell_type": "code",
   "execution_count": 15,
   "metadata": {
    "collapsed": true
   },
   "outputs": [],
   "source": [
    "hhdict={'Household ID': 'hhno',\n",
    "        'Household Size': 'hhsize',\n",
    "        'Household Vehicles': 'hhvehs',\n",
    "        'Household Workers': 'hhwkrs',\n",
    "        'Household Income': 'hhincome',\n",
    "        'Household TAZ': 'hhtaz',\n",
    "        'Expansion Factor': 'hhexpfac'}"
   ]
  },
  {
   "cell_type": "code",
   "execution_count": 17,
   "metadata": {
    "collapsed": false
   },
   "outputs": [],
   "source": [
    "hh_scen = build_df(h5file=scen, h5table='Household', var_dict=hhdict, nested=False)\n",
    "hh_base = build_df(h5file=base, h5table='Household', var_dict=hhdict, nested=False)"
   ]
  },
  {
   "cell_type": "code",
   "execution_count": 18,
   "metadata": {
    "collapsed": false
   },
   "outputs": [],
   "source": [
    "# Add labels for worker type\n",
    "labels = {\n",
    "  0: \"Not a worker\",  \n",
    "  1: \"Full-time worker\",\n",
    "  2: \"Part-time worker\",\n",
    "}\n",
    "\n",
    "person_base['Worker Type'] = ([labels[x] for x in person_base['Worker Type']])\n",
    "person_scen['Worker Type'] = ([labels[x] for x in person_scen['Worker Type']])"
   ]
  },
  {
   "cell_type": "code",
   "execution_count": 19,
   "metadata": {
    "collapsed": false
   },
   "outputs": [],
   "source": [
    "# Join household records to person records\n",
    "hh_per_scen = pd.merge(left=person_scen, right=hh_scen,on='Household ID',suffixes=('_p','_h'))\n",
    "hh_per_base = pd.merge(left=person_base, right=hh_base,on='Household ID',suffixes=('_p','_h'))"
   ]
  },
  {
   "cell_type": "code",
   "execution_count": 20,
   "metadata": {
    "collapsed": false
   },
   "outputs": [],
   "source": [
    "# Join household geography\n",
    "taz_geog = pd.read_csv(r'utils/taz_lookup.csv')\n",
    "taz_geog.reindex\n",
    "hh_per_scen_home_geog = pd.merge(hh_per_scen, taz_geog, left_on='Household TAZ', right_on='TAZ')\n",
    "hh_per_base_home_geog = pd.merge(hh_per_base, taz_geog, left_on='Household TAZ', right_on='TAZ')"
   ]
  },
  {
   "cell_type": "code",
   "execution_count": 21,
   "metadata": {
    "collapsed": true
   },
   "outputs": [],
   "source": [
    "# Join workplace geography\n",
    "hh_per_scen_work_geog = pd.merge(hh_per_scen, taz_geog, left_on='Workplace TAZ', right_on='TAZ')\n",
    "hh_per_base_work_geog = pd.merge(hh_per_base, taz_geog, left_on='Workplace TAZ', right_on='TAZ')"
   ]
  },
  {
   "cell_type": "code",
   "execution_count": 72,
   "metadata": {
    "collapsed": false
   },
   "outputs": [],
   "source": [
    "# Set some formatting options\n",
    "pd.options.display.float_format = '{:.2f}%'.format    # set float format as percent, until further notice"
   ]
  },
  {
   "cell_type": "code",
   "execution_count": 168,
   "metadata": {
    "collapsed": true
   },
   "outputs": [],
   "source": [
    "def report_field(field, title=None, figsize=(5,5)):\n",
    "    '''print table summary of totals, distribution, and plot of distribution, for given field'''\n",
    "    \n",
    "    df = pd.DataFrame([hh_per_scen_work_geog.groupby(field).sum()['Expansion Factor_h'].astype('int'),\n",
    "                   hh_per_base_work_geog.groupby(field).sum()['Expansion Factor_h'].astype('int')]).T\n",
    "    df.columns=([scen_name,base_name])\n",
    "    df.loc['Total'] = df.sum()\n",
    "    df['% Difference'] = (df[scen_name] - df[base_name])/df[base_name]    # relative to base case\n",
    "    \n",
    "    print '--------Totals--------'\n",
    "    print '' \n",
    "    print df\n",
    "    \n",
    "    print ''\n",
    "    print ''\n",
    "    print '-----Distribution-----'\n",
    "    print ''\n",
    "\n",
    "    \n",
    "    df_new = pd.DataFrame([df[scen_name]/df[scen_name].sum(),\n",
    "             df[base_name]/df[base_name].sum()]).T\n",
    "    df_new['% Difference'] = (df_new[scen_name] - df_new[base_name])/df_new[base_name]    # relative to base case\n",
    "    print df_new\n",
    "    print ''\n",
    "    df_new.drop(df_new.tail(1).index, inplace=True)    # do not plot totals columnn\n",
    "    df_new[[scen_name,base_name]].plot(kind='bar', alpha=0.8, title=title, figsize=figsize)"
   ]
  },
  {
   "cell_type": "markdown",
   "metadata": {},
   "source": [
    "---"
   ]
  },
  {
   "cell_type": "markdown",
   "metadata": {},
   "source": [
    "## Workplace Location"
   ]
  },
  {
   "cell_type": "markdown",
   "metadata": {},
   "source": [
    "### by County"
   ]
  },
  {
   "cell_type": "code",
   "execution_count": 170,
   "metadata": {
    "collapsed": false
   },
   "outputs": [
    {
     "name": "stdout",
     "output_type": "stream",
     "text": [
      "--------Totals--------\n",
      "\n",
      "            Daysim  2014 Survey  % Difference\n",
      "King       1140109      1121029         0.02%\n",
      "Kitsap      101795        79118         0.29%\n",
      "Pierce      285553       254531         0.12%\n",
      "Snohomish   258854       219565         0.18%\n",
      "Total      1786311      1674243         0.07%\n",
      "\n",
      "\n",
      "-----Distribution-----\n",
      "\n",
      "           Daysim  2014 Survey  % Difference\n",
      "King        0.32%        0.33%        -0.05%\n",
      "Kitsap      0.03%        0.02%         0.21%\n",
      "Pierce      0.08%        0.08%         0.05%\n",
      "Snohomish   0.07%        0.07%         0.10%\n",
      "Total       0.50%        0.50%         0.00%\n",
      "\n"
     ]
    },
    {
     "data": {
      "image/png": "[encoded data removed]",
      "text/plain": [
       "<matplotlib.figure.Figure at 0x9e0e5e48>"
      ]
     },
     "metadata": {},
     "output_type": "display_data"
    }
   ],
   "source": [
    "report_field('County', 'Workplace Distribution by County')"
   ]
  },
  {
   "cell_type": "markdown",
   "metadata": {
    "collapsed": false
   },
   "source": [
    "### Workplace Location by District"
   ]
  },
  {
   "cell_type": "code",
   "execution_count": 171,
   "metadata": {
    "collapsed": false
   },
   "outputs": [
    {
     "name": "stdout",
     "output_type": "stream",
     "text": [
      "--------Totals--------\n",
      "\n",
      "                          Daysim  2014 Survey  % Difference\n",
      "East Side                 331061       341627        -0.03%\n",
      "Everett-Lynwood-Edmonds   152032       134170         0.13%\n",
      "Kitsap                    101795        79118         0.29%\n",
      "North Seattle-Shoreline   142736       145550        -0.02%\n",
      "Renton-FedWay-Kent        288721       236524         0.22%\n",
      "S.Kitsap                   19895        14534         0.37%\n",
      "Seattle CBD               247207       280301        -0.12%\n",
      "South Pierce              144052       122157         0.18%\n",
      "Suburban Snohomish        106822        85395         0.25%\n",
      "Tacoma                    121606       117838         0.03%\n",
      "West-South Seattle        130384       117025         0.11%\n",
      "Total                    1786311      1674239         0.07%\n",
      "\n",
      "\n",
      "-----Distribution-----\n",
      "\n",
      "                         Daysim  2014 Survey  % Difference\n",
      "East Side                 0.09%        0.10%        -0.09%\n",
      "Everett-Lynwood-Edmonds   0.04%        0.04%         0.06%\n",
      "Kitsap                    0.03%        0.02%         0.21%\n",
      "North Seattle-Shoreline   0.04%        0.04%        -0.08%\n",
      "Renton-FedWay-Kent        0.08%        0.07%         0.14%\n",
      "S.Kitsap                  0.01%        0.00%         0.28%\n",
      "Seattle CBD               0.07%        0.08%        -0.17%\n",
      "South Pierce              0.04%        0.04%         0.11%\n",
      "Suburban Snohomish        0.03%        0.03%         0.17%\n",
      "Tacoma                    0.03%        0.04%        -0.03%\n",
      "West-South Seattle        0.04%        0.03%         0.04%\n",
      "Total                     0.50%        0.50%         0.00%\n",
      "\n"
     ]
    },
    {
     "data": {
      "image/png": "[encoded data removed]",
      "text/plain": [
       "<matplotlib.figure.Figure at 0xfcb5cf60>"
      ]
     },
     "metadata": {},
     "output_type": "display_data"
    }
   ],
   "source": [
    "report_field('New DistrictName', title='Workplace Distribution by District', figsize=(12,8))"
   ]
  },
  {
   "cell_type": "markdown",
   "metadata": {},
   "source": [
    "---"
   ]
  },
  {
   "cell_type": "markdown",
   "metadata": {},
   "source": [
    "## School Location"
   ]
  },
  {
   "cell_type": "code",
   "execution_count": 177,
   "metadata": {
    "collapsed": true
   },
   "outputs": [],
   "source": [
    "# Join school geography\n",
    "hh_per_scen_school_geog = pd.merge(hh_per_scen, taz_geog, left_on='School TAZ', right_on='TAZ')\n",
    "hh_per_base_school_geog = pd.merge(hh_per_base, taz_geog, left_on='School TAZ', right_on='TAZ')"
   ]
  },
  {
   "cell_type": "markdown",
   "metadata": {},
   "source": [
    "### By County"
   ]
  },
  {
   "cell_type": "code",
   "execution_count": 179,
   "metadata": {
    "collapsed": false
   },
   "outputs": [
    {
     "name": "stdout",
     "output_type": "stream",
     "text": [
      "--------Totals--------\n",
      "\n",
      "            Daysim  2014 Survey  % Difference\n",
      "King       1140109      1121029         0.02%\n",
      "Kitsap      101795        79118         0.29%\n",
      "Pierce      285553       254531         0.12%\n",
      "Snohomish   258854       219565         0.18%\n",
      "Total      1786311      1674243         0.07%\n",
      "\n",
      "\n",
      "-----Distribution-----\n",
      "\n",
      "           Daysim  2014 Survey  % Difference\n",
      "King        0.32%        0.33%        -0.05%\n",
      "Kitsap      0.03%        0.02%         0.21%\n",
      "Pierce      0.08%        0.08%         0.05%\n",
      "Snohomish   0.07%        0.07%         0.10%\n",
      "Total       0.50%        0.50%         0.00%\n",
      "\n"
     ]
    },
    {
     "data": {
      "image/png": "[encoded data removed]",
      "text/plain": [
       "<matplotlib.figure.Figure at 0xadc5ff28>"
      ]
     },
     "metadata": {},
     "output_type": "display_data"
    }
   ],
   "source": [
    "report_field('County', title='School Distribution by County', figsize=(8,8))"
   ]
  },
  {
   "cell_type": "markdown",
   "metadata": {
    "collapsed": true
   },
   "source": [
    "### School Location by District"
   ]
  },
  {
   "cell_type": "code",
   "execution_count": 181,
   "metadata": {
    "collapsed": false
   },
   "outputs": [
    {
     "name": "stdout",
     "output_type": "stream",
     "text": [
      "--------Totals--------\n",
      "\n",
      "                          Daysim  2014 Survey  % Difference\n",
      "East Side                 331061       341627        -0.03%\n",
      "Everett-Lynwood-Edmonds   152032       134170         0.13%\n",
      "Kitsap                    101795        79118         0.29%\n",
      "North Seattle-Shoreline   142736       145550        -0.02%\n",
      "Renton-FedWay-Kent        288721       236524         0.22%\n",
      "S.Kitsap                   19895        14534         0.37%\n",
      "Seattle CBD               247207       280301        -0.12%\n",
      "South Pierce              144052       122157         0.18%\n",
      "Suburban Snohomish        106822        85395         0.25%\n",
      "Tacoma                    121606       117838         0.03%\n",
      "West-South Seattle        130384       117025         0.11%\n",
      "Total                    1786311      1674239         0.07%\n",
      "\n",
      "\n",
      "-----Distribution-----\n",
      "\n",
      "                         Daysim  2014 Survey  % Difference\n",
      "East Side                 0.09%        0.10%        -0.09%\n",
      "Everett-Lynwood-Edmonds   0.04%        0.04%         0.06%\n",
      "Kitsap                    0.03%        0.02%         0.21%\n",
      "North Seattle-Shoreline   0.04%        0.04%        -0.08%\n",
      "Renton-FedWay-Kent        0.08%        0.07%         0.14%\n",
      "S.Kitsap                  0.01%        0.00%         0.28%\n",
      "Seattle CBD               0.07%        0.08%        -0.17%\n",
      "South Pierce              0.04%        0.04%         0.11%\n",
      "Suburban Snohomish        0.03%        0.03%         0.17%\n",
      "Tacoma                    0.03%        0.04%        -0.03%\n",
      "West-South Seattle        0.04%        0.03%         0.04%\n",
      "Total                     0.50%        0.50%         0.00%\n",
      "\n"
     ]
    },
    {
     "data": {
      "image/png": "[encoded data removed]",
      "text/plain": [
       "<matplotlib.figure.Figure at 0x9e0e8978>"
      ]
     },
     "metadata": {},
     "output_type": "display_data"
    }
   ],
   "source": [
    "report_field('New DistrictName', title='School Distribution by District', figsize=(8,8))"
   ]
  },
  {
   "cell_type": "markdown",
   "metadata": {
    "collapsed": true
   },
   "source": [
    "# Transit Pass Ownership"
   ]
  },
  {
   "cell_type": "markdown",
   "metadata": {},
   "source": [
    "### By Home Location"
   ]
  },
  {
   "cell_type": "code",
   "execution_count": 184,
   "metadata": {
    "collapsed": false
   },
   "outputs": [
    {
     "data": {
      "text/html": [
       "<div style=\"max-height:1000px;max-width:1500px;overflow:auto;\">\n",
       "<table border=\"1\" class=\"dataframe\">\n",
       "  <thead>\n",
       "    <tr style=\"text-align: right;\">\n",
       "      <th></th>\n",
       "      <th>Daysim</th>\n",
       "      <th>2014 Survey</th>\n",
       "    </tr>\n",
       "    <tr>\n",
       "      <th>Transit Pass</th>\n",
       "      <th></th>\n",
       "      <th></th>\n",
       "    </tr>\n",
       "  </thead>\n",
       "  <tbody>\n",
       "    <tr>\n",
       "      <th>-1</th>\n",
       "      <td>       nan%</td>\n",
       "      <td> 803664.21%</td>\n",
       "    </tr>\n",
       "    <tr>\n",
       "      <th> 0</th>\n",
       "      <td>3088967.00%</td>\n",
       "      <td>2299667.16%</td>\n",
       "    </tr>\n",
       "    <tr>\n",
       "      <th> 1</th>\n",
       "      <td> 507572.00%</td>\n",
       "      <td>  32549.10%</td>\n",
       "    </tr>\n",
       "    <tr>\n",
       "      <th> 2</th>\n",
       "      <td>       nan%</td>\n",
       "      <td>  12850.18%</td>\n",
       "    </tr>\n",
       "    <tr>\n",
       "      <th> 3</th>\n",
       "      <td>       nan%</td>\n",
       "      <td> 130055.65%</td>\n",
       "    </tr>\n",
       "    <tr>\n",
       "      <th> 4</th>\n",
       "      <td>       nan%</td>\n",
       "      <td>  71807.30%</td>\n",
       "    </tr>\n",
       "    <tr>\n",
       "      <th> 5</th>\n",
       "      <td>       nan%</td>\n",
       "      <td> 197035.35%</td>\n",
       "    </tr>\n",
       "    <tr>\n",
       "      <th> 6</th>\n",
       "      <td>       nan%</td>\n",
       "      <td>  22704.85%</td>\n",
       "    </tr>\n",
       "  </tbody>\n",
       "</table>\n",
       "</div>"
      ],
      "text/plain": [
       "                  Daysim  2014 Survey\n",
       "Transit Pass                         \n",
       "-1                  nan%   803664.21%\n",
       " 0           3088967.00%  2299667.16%\n",
       " 1            507572.00%    32549.10%\n",
       " 2                  nan%    12850.18%\n",
       " 3                  nan%   130055.65%\n",
       " 4                  nan%    71807.30%\n",
       " 5                  nan%   197035.35%\n",
       " 6                  nan%    22704.85%"
      ]
     },
     "execution_count": 184,
     "metadata": {},
     "output_type": "execute_result"
    }
   ],
   "source": [
    "df = pd.DataFrame([person_scen.groupby('Transit Pass').sum()['Expansion Factor'],\n",
    "              person_base.groupby('Transit Pass').sum()['Expansion Factor']]).T\n",
    "df.columns=([scen_name,base_name])\n",
    "df"
   ]
  },
  {
   "cell_type": "code",
   "execution_count": 190,
   "metadata": {
    "collapsed": false
   },
   "outputs": [
    {
     "data": {
      "text/html": [
       "<div style=\"max-height:1000px;max-width:1500px;overflow:auto;\">\n",
       "<table border=\"1\" class=\"dataframe\">\n",
       "  <thead>\n",
       "    <tr style=\"text-align: right;\">\n",
       "      <th></th>\n",
       "      <th>Daysim</th>\n",
       "      <th>2014 Survey</th>\n",
       "    </tr>\n",
       "    <tr>\n",
       "      <th>Transit Pass</th>\n",
       "      <th></th>\n",
       "      <th></th>\n",
       "    </tr>\n",
       "  </thead>\n",
       "  <tbody>\n",
       "    <tr>\n",
       "      <th>-1</th>\n",
       "      <td>       nan%</td>\n",
       "      <td> 803314.00%</td>\n",
       "    </tr>\n",
       "    <tr>\n",
       "      <th> 0</th>\n",
       "      <td>3088967.00%</td>\n",
       "      <td>2299667.00%</td>\n",
       "    </tr>\n",
       "    <tr>\n",
       "      <th> 1</th>\n",
       "      <td> 507572.00%</td>\n",
       "      <td>  32549.00%</td>\n",
       "    </tr>\n",
       "    <tr>\n",
       "      <th> 2</th>\n",
       "      <td>       nan%</td>\n",
       "      <td>  12850.00%</td>\n",
       "    </tr>\n",
       "    <tr>\n",
       "      <th> 3</th>\n",
       "      <td>       nan%</td>\n",
       "      <td> 130055.00%</td>\n",
       "    </tr>\n",
       "    <tr>\n",
       "      <th> 4</th>\n",
       "      <td>       nan%</td>\n",
       "      <td>  71807.00%</td>\n",
       "    </tr>\n",
       "    <tr>\n",
       "      <th> 5</th>\n",
       "      <td>       nan%</td>\n",
       "      <td> 197035.00%</td>\n",
       "    </tr>\n",
       "    <tr>\n",
       "      <th> 6</th>\n",
       "      <td>       nan%</td>\n",
       "      <td>  22704.00%</td>\n",
       "    </tr>\n",
       "  </tbody>\n",
       "</table>\n",
       "</div>"
      ],
      "text/plain": [
       "                  Daysim  2014 Survey\n",
       "Transit Pass                         \n",
       "-1                  nan%   803314.00%\n",
       " 0           3088967.00%  2299667.00%\n",
       " 1            507572.00%    32549.00%\n",
       " 2                  nan%    12850.00%\n",
       " 3                  nan%   130055.00%\n",
       " 4                  nan%    71807.00%\n",
       " 5                  nan%   197035.00%\n",
       " 6                  nan%    22704.00%"
      ]
     },
     "execution_count": 190,
     "metadata": {},
     "output_type": "execute_result"
    }
   ],
   "source": [
    "# By Home County\n",
    "colname = 'Transit Pass'\n",
    "df = pd.DataFrame([hh_per_scen_home_geog.groupby(colname).sum()['Expansion Factor_h'].astype('int'),\n",
    "                   hh_per_base_home_geog.groupby(colname).sum()['Expansion Factor_h'].astype('int')]).T\n",
    "df.columns=([scen_name,base_name])\n",
    "df"
   ]
  },
  {
   "cell_type": "code",
   "execution_count": 186,
   "metadata": {
    "collapsed": false
   },
   "outputs": [
    {
     "data": {
      "text/html": [
       "<div style=\"max-height:1000px;max-width:1500px;overflow:auto;\">\n",
       "<table border=\"1\" class=\"dataframe\">\n",
       "  <thead>\n",
       "    <tr style=\"text-align: right;\">\n",
       "      <th></th>\n",
       "      <th>Daysim</th>\n",
       "      <th>2014 Survey</th>\n",
       "    </tr>\n",
       "    <tr>\n",
       "      <th>New DistrictName</th>\n",
       "      <th></th>\n",
       "      <th></th>\n",
       "    </tr>\n",
       "  </thead>\n",
       "  <tbody>\n",
       "    <tr>\n",
       "      <th>East Side</th>\n",
       "      <td>611001.00%</td>\n",
       "      <td>660055.82%</td>\n",
       "    </tr>\n",
       "    <tr>\n",
       "      <th>Everett-Lynwood-Edmonds</th>\n",
       "      <td>266633.00%</td>\n",
       "      <td>260156.65%</td>\n",
       "    </tr>\n",
       "    <tr>\n",
       "      <th>Kitsap</th>\n",
       "      <td>245547.00%</td>\n",
       "      <td>235654.99%</td>\n",
       "    </tr>\n",
       "    <tr>\n",
       "      <th>North Seattle-Shoreline</th>\n",
       "      <td>310226.00%</td>\n",
       "      <td>347437.12%</td>\n",
       "    </tr>\n",
       "    <tr>\n",
       "      <th>Renton-FedWay-Kent</th>\n",
       "      <td>559730.00%</td>\n",
       "      <td>490533.63%</td>\n",
       "    </tr>\n",
       "    <tr>\n",
       "      <th>S.Kitsap</th>\n",
       "      <td> 62578.00%</td>\n",
       "      <td> 51829.92%</td>\n",
       "    </tr>\n",
       "    <tr>\n",
       "      <th>Seattle CBD</th>\n",
       "      <td>169722.00%</td>\n",
       "      <td>175700.03%</td>\n",
       "    </tr>\n",
       "    <tr>\n",
       "      <th>South Pierce</th>\n",
       "      <td>469960.00%</td>\n",
       "      <td>470790.10%</td>\n",
       "    </tr>\n",
       "    <tr>\n",
       "      <th>Suburban Snohomish</th>\n",
       "      <td>433112.00%</td>\n",
       "      <td>425073.22%</td>\n",
       "    </tr>\n",
       "    <tr>\n",
       "      <th>Tacoma</th>\n",
       "      <td>231982.00%</td>\n",
       "      <td>230197.58%</td>\n",
       "    </tr>\n",
       "    <tr>\n",
       "      <th>West-South Seattle</th>\n",
       "      <td>236048.00%</td>\n",
       "      <td>222554.59%</td>\n",
       "    </tr>\n",
       "  </tbody>\n",
       "</table>\n",
       "</div>"
      ],
      "text/plain": [
       "                            Daysim  2014 Survey\n",
       "New DistrictName                               \n",
       "East Side               611001.00%   660055.82%\n",
       "Everett-Lynwood-Edmonds 266633.00%   260156.65%\n",
       "Kitsap                  245547.00%   235654.99%\n",
       "North Seattle-Shoreline 310226.00%   347437.12%\n",
       "Renton-FedWay-Kent      559730.00%   490533.63%\n",
       "S.Kitsap                 62578.00%    51829.92%\n",
       "Seattle CBD             169722.00%   175700.03%\n",
       "South Pierce            469960.00%   470790.10%\n",
       "Suburban Snohomish      433112.00%   425073.22%\n",
       "Tacoma                  231982.00%   230197.58%\n",
       "West-South Seattle      236048.00%   222554.59%"
      ]
     },
     "execution_count": 186,
     "metadata": {},
     "output_type": "execute_result"
    }
   ],
   "source": [
    "# By Home District\n",
    "colname = 'New DistrictName'\n",
    "df = pd.DataFrame([hh_per_scen_home_geog.groupby(colname).sum()['Expansion Factor_h'],\n",
    "                   hh_per_base_home_geog.groupby(colname).sum()['Expansion Factor_h']]).T\n",
    "df.columns=([scen_name,base_name])\n",
    "df"
   ]
  },
  {
   "cell_type": "markdown",
   "metadata": {},
   "source": [
    "### By Work Location"
   ]
  },
  {
   "cell_type": "code",
   "execution_count": 187,
   "metadata": {
    "collapsed": false
   },
   "outputs": [
    {
     "data": {
      "text/html": [
       "<div style=\"max-height:1000px;max-width:1500px;overflow:auto;\">\n",
       "<table border=\"1\" class=\"dataframe\">\n",
       "  <thead>\n",
       "    <tr style=\"text-align: right;\">\n",
       "      <th></th>\n",
       "      <th>Daysim</th>\n",
       "      <th>2014 Survey</th>\n",
       "    </tr>\n",
       "    <tr>\n",
       "      <th>County</th>\n",
       "      <th></th>\n",
       "      <th></th>\n",
       "    </tr>\n",
       "  </thead>\n",
       "  <tbody>\n",
       "    <tr>\n",
       "      <th>King</th>\n",
       "      <td>1140109.00%</td>\n",
       "      <td>1121029.16%</td>\n",
       "    </tr>\n",
       "    <tr>\n",
       "      <th>Kitsap</th>\n",
       "      <td> 101795.00%</td>\n",
       "      <td>  79118.02%</td>\n",
       "    </tr>\n",
       "    <tr>\n",
       "      <th>Pierce</th>\n",
       "      <td> 285553.00%</td>\n",
       "      <td> 254531.04%</td>\n",
       "    </tr>\n",
       "    <tr>\n",
       "      <th>Snohomish</th>\n",
       "      <td> 258854.00%</td>\n",
       "      <td> 219565.93%</td>\n",
       "    </tr>\n",
       "  </tbody>\n",
       "</table>\n",
       "</div>"
      ],
      "text/plain": [
       "               Daysim  2014 Survey\n",
       "County                            \n",
       "King      1140109.00%  1121029.16%\n",
       "Kitsap     101795.00%    79118.02%\n",
       "Pierce     285553.00%   254531.04%\n",
       "Snohomish  258854.00%   219565.93%"
      ]
     },
     "execution_count": 187,
     "metadata": {},
     "output_type": "execute_result"
    }
   ],
   "source": [
    "# By Work County\n",
    "colname = 'County'\n",
    "df = pd.DataFrame([hh_per_scen_work_geog.groupby(colname).sum()['Expansion Factor_h'],\n",
    "                   hh_per_base_work_geog.groupby(colname).sum()['Expansion Factor_h']]).T\n",
    "df.columns=([scen_name,base_name])\n",
    "df"
   ]
  },
  {
   "cell_type": "code",
   "execution_count": 74,
   "metadata": {
    "collapsed": false
   },
   "outputs": [
    {
     "data": {
      "text/html": [
       "<div style=\"max-height:1000px;max-width:1500px;overflow:auto;\">\n",
       "<table border=\"1\" class=\"dataframe\">\n",
       "  <thead>\n",
       "    <tr style=\"text-align: right;\">\n",
       "      <th></th>\n",
       "      <th>2006 Survey</th>\n",
       "      <th>2014 Survey</th>\n",
       "    </tr>\n",
       "    <tr>\n",
       "      <th>New DistrictName</th>\n",
       "      <th></th>\n",
       "      <th></th>\n",
       "    </tr>\n",
       "  </thead>\n",
       "  <tbody>\n",
       "    <tr>\n",
       "      <th>East Side</th>\n",
       "      <td> 258650.11</td>\n",
       "      <td> 341627.6864</td>\n",
       "    </tr>\n",
       "    <tr>\n",
       "      <th>Everett-Lynwood-Edmonds</th>\n",
       "      <td> 122540.92</td>\n",
       "      <td> 134170.2019</td>\n",
       "    </tr>\n",
       "    <tr>\n",
       "      <th>Kitsap</th>\n",
       "      <td>  77365.82</td>\n",
       "      <td>  79118.0230</td>\n",
       "    </tr>\n",
       "    <tr>\n",
       "      <th>North Seattle-Shoreline</th>\n",
       "      <td> 122276.58</td>\n",
       "      <td> 145550.0361</td>\n",
       "    </tr>\n",
       "    <tr>\n",
       "      <th>Renton-FedWay-Kent</th>\n",
       "      <td> 215984.34</td>\n",
       "      <td> 236524.1442</td>\n",
       "    </tr>\n",
       "    <tr>\n",
       "      <th>S.Kitsap</th>\n",
       "      <td>   6998.18</td>\n",
       "      <td>  14534.8730</td>\n",
       "    </tr>\n",
       "    <tr>\n",
       "      <th>Seattle CBD</th>\n",
       "      <td> 221391.87</td>\n",
       "      <td> 280301.7830</td>\n",
       "    </tr>\n",
       "    <tr>\n",
       "      <th>South Pierce</th>\n",
       "      <td> 104619.23</td>\n",
       "      <td> 122157.2120</td>\n",
       "    </tr>\n",
       "    <tr>\n",
       "      <th>Suburban Snohomish</th>\n",
       "      <td>  76139.54</td>\n",
       "      <td>  85395.7301</td>\n",
       "    </tr>\n",
       "    <tr>\n",
       "      <th>Tacoma</th>\n",
       "      <td>  98101.30</td>\n",
       "      <td> 117838.9547</td>\n",
       "    </tr>\n",
       "    <tr>\n",
       "      <th>West-South Seattle</th>\n",
       "      <td>  93058.20</td>\n",
       "      <td> 117025.5117</td>\n",
       "    </tr>\n",
       "  </tbody>\n",
       "</table>\n",
       "</div>"
      ],
      "text/plain": [
       "                         2006 Survey  2014 Survey\n",
       "New DistrictName                                 \n",
       "East Side                  258650.11  341627.6864\n",
       "Everett-Lynwood-Edmonds    122540.92  134170.2019\n",
       "Kitsap                      77365.82   79118.0230\n",
       "North Seattle-Shoreline    122276.58  145550.0361\n",
       "Renton-FedWay-Kent         215984.34  236524.1442\n",
       "S.Kitsap                     6998.18   14534.8730\n",
       "Seattle CBD                221391.87  280301.7830\n",
       "South Pierce               104619.23  122157.2120\n",
       "Suburban Snohomish          76139.54   85395.7301\n",
       "Tacoma                      98101.30  117838.9547\n",
       "West-South Seattle          93058.20  117025.5117"
      ]
     },
     "execution_count": 74,
     "metadata": {},
     "output_type": "execute_result"
    }
   ],
   "source": [
    "# By Work District\n",
    "colname = 'New DistrictName'\n",
    "df = pd.DataFrame([hh_per_scen_work_geog.groupby(colname).sum()['Expansion Factor_h'],\n",
    "                   hh_per_base_work_geog.groupby(colname).sum()['Expansion Factor_h']]).T\n",
    "df.columns=([scen_name,base_name])\n",
    "df"
   ]
  },
  {
   "cell_type": "markdown",
   "metadata": {},
   "source": [
    "---"
   ]
  },
  {
   "cell_type": "markdown",
   "metadata": {},
   "source": [
    "# Auto Ownership"
   ]
  },
  {
   "cell_type": "code",
   "execution_count": 75,
   "metadata": {
    "collapsed": false
   },
   "outputs": [
    {
     "data": {
      "text/html": [
       "<div style=\"max-height:1000px;max-width:1500px;overflow:auto;\">\n",
       "<table border=\"1\" class=\"dataframe\">\n",
       "  <thead>\n",
       "    <tr style=\"text-align: right;\">\n",
       "      <th></th>\n",
       "      <th>2006 Survey</th>\n",
       "      <th>2014 Survey</th>\n",
       "    </tr>\n",
       "    <tr>\n",
       "      <th>Household Vehicles</th>\n",
       "      <th></th>\n",
       "      <th></th>\n",
       "    </tr>\n",
       "  </thead>\n",
       "  <tbody>\n",
       "    <tr>\n",
       "      <th>0 </th>\n",
       "      <td> 101740.92</td>\n",
       "      <td> 116720.4270</td>\n",
       "    </tr>\n",
       "    <tr>\n",
       "      <th>1 </th>\n",
       "      <td> 443595.40</td>\n",
       "      <td> 477848.3440</td>\n",
       "    </tr>\n",
       "    <tr>\n",
       "      <th>2 </th>\n",
       "      <td> 514038.70</td>\n",
       "      <td> 560222.1101</td>\n",
       "    </tr>\n",
       "    <tr>\n",
       "      <th>3 </th>\n",
       "      <td> 212356.59</td>\n",
       "      <td> 218361.4192</td>\n",
       "    </tr>\n",
       "    <tr>\n",
       "      <th>4 </th>\n",
       "      <td>  69227.00</td>\n",
       "      <td>  72856.2619</td>\n",
       "    </tr>\n",
       "    <tr>\n",
       "      <th>5 </th>\n",
       "      <td>  23312.56</td>\n",
       "      <td>  22097.4961</td>\n",
       "    </tr>\n",
       "    <tr>\n",
       "      <th>6 </th>\n",
       "      <td>   7270.14</td>\n",
       "      <td>   2295.3940</td>\n",
       "    </tr>\n",
       "    <tr>\n",
       "      <th>7 </th>\n",
       "      <td>   2010.24</td>\n",
       "      <td>   4625.1520</td>\n",
       "    </tr>\n",
       "    <tr>\n",
       "      <th>8 </th>\n",
       "      <td>   1233.62</td>\n",
       "      <td>   1874.7780</td>\n",
       "    </tr>\n",
       "    <tr>\n",
       "      <th>9 </th>\n",
       "      <td>    580.28</td>\n",
       "      <td>         NaN</td>\n",
       "    </tr>\n",
       "    <tr>\n",
       "      <th>10</th>\n",
       "      <td>    226.34</td>\n",
       "      <td>   1537.5640</td>\n",
       "    </tr>\n",
       "  </tbody>\n",
       "</table>\n",
       "</div>"
      ],
      "text/plain": [
       "                    2006 Survey  2014 Survey\n",
       "Household Vehicles                          \n",
       "0                     101740.92  116720.4270\n",
       "1                     443595.40  477848.3440\n",
       "2                     514038.70  560222.1101\n",
       "3                     212356.59  218361.4192\n",
       "4                      69227.00   72856.2619\n",
       "5                      23312.56   22097.4961\n",
       "6                       7270.14    2295.3940\n",
       "7                       2010.24    4625.1520\n",
       "8                       1233.62    1874.7780\n",
       "9                        580.28          NaN\n",
       "10                       226.34    1537.5640"
      ]
     },
     "execution_count": 75,
     "metadata": {},
     "output_type": "execute_result"
    }
   ],
   "source": [
    "new_hh_scen = hh_scen[hh_scen.index>=0]\n",
    "df = pd.DataFrame([hh_scen.groupby('Household Vehicles').sum()['Expansion Factor'],\n",
    "                   hh_base.groupby('Household Vehicles').sum()['Expansion Factor']]).T\n",
    "df.columns=([scen_name,base_name])\n",
    "df=df[df.index>=0]\n",
    "df"
   ]
  },
  {
   "cell_type": "code",
   "execution_count": 76,
   "metadata": {
    "collapsed": false
   },
   "outputs": [
    {
     "data": {
      "text/html": [
       "<div style=\"max-height:1000px;max-width:1500px;overflow:auto;\">\n",
       "<table border=\"1\" class=\"dataframe\">\n",
       "  <thead>\n",
       "    <tr style=\"text-align: right;\">\n",
       "      <th></th>\n",
       "      <th>2006 Survey</th>\n",
       "      <th>2014 Survey</th>\n",
       "    </tr>\n",
       "    <tr>\n",
       "      <th>Household Vehicles</th>\n",
       "      <th></th>\n",
       "      <th></th>\n",
       "    </tr>\n",
       "  </thead>\n",
       "  <tbody>\n",
       "    <tr>\n",
       "      <th>0 </th>\n",
       "      <td> 0.073962</td>\n",
       "      <td> 0.078948</td>\n",
       "    </tr>\n",
       "    <tr>\n",
       "      <th>1 </th>\n",
       "      <td> 0.322476</td>\n",
       "      <td> 0.323211</td>\n",
       "    </tr>\n",
       "    <tr>\n",
       "      <th>2 </th>\n",
       "      <td> 0.373685</td>\n",
       "      <td> 0.378928</td>\n",
       "    </tr>\n",
       "    <tr>\n",
       "      <th>3 </th>\n",
       "      <td> 0.154375</td>\n",
       "      <td> 0.147697</td>\n",
       "    </tr>\n",
       "    <tr>\n",
       "      <th>4 </th>\n",
       "      <td> 0.050325</td>\n",
       "      <td> 0.049279</td>\n",
       "    </tr>\n",
       "    <tr>\n",
       "      <th>5 </th>\n",
       "      <td> 0.016947</td>\n",
       "      <td> 0.014947</td>\n",
       "    </tr>\n",
       "    <tr>\n",
       "      <th>6 </th>\n",
       "      <td> 0.005285</td>\n",
       "      <td> 0.001553</td>\n",
       "    </tr>\n",
       "    <tr>\n",
       "      <th>7 </th>\n",
       "      <td> 0.001461</td>\n",
       "      <td> 0.003128</td>\n",
       "    </tr>\n",
       "    <tr>\n",
       "      <th>8 </th>\n",
       "      <td> 0.000897</td>\n",
       "      <td> 0.001268</td>\n",
       "    </tr>\n",
       "    <tr>\n",
       "      <th>9 </th>\n",
       "      <td> 0.000422</td>\n",
       "      <td>      NaN</td>\n",
       "    </tr>\n",
       "    <tr>\n",
       "      <th>10</th>\n",
       "      <td> 0.000165</td>\n",
       "      <td> 0.001040</td>\n",
       "    </tr>\n",
       "  </tbody>\n",
       "</table>\n",
       "</div>"
      ],
      "text/plain": [
       "                    2006 Survey  2014 Survey\n",
       "Household Vehicles                          \n",
       "0                      0.073962     0.078948\n",
       "1                      0.322476     0.323211\n",
       "2                      0.373685     0.378928\n",
       "3                      0.154375     0.147697\n",
       "4                      0.050325     0.049279\n",
       "5                      0.016947     0.014947\n",
       "6                      0.005285     0.001553\n",
       "7                      0.001461     0.003128\n",
       "8                      0.000897     0.001268\n",
       "9                      0.000422          NaN\n",
       "10                     0.000165     0.001040"
      ]
     },
     "execution_count": 76,
     "metadata": {},
     "output_type": "execute_result"
    }
   ],
   "source": [
    "df_new = pd.DataFrame([df[scen_name]/df[scen_name].sum(),\n",
    "             df[base_name]/df[base_name].sum()]).T\n",
    "df_new"
   ]
  },
  {
   "cell_type": "code",
   "execution_count": 77,
   "metadata": {
    "collapsed": false
   },
   "outputs": [
    {
     "data": {
      "text/html": [
       "<div id=\"chart_idXbYXVYLn\"</div>\n",
       "    <script type=\"text/javascript\">new Highcharts.Chart({\"title\":{\"text\":\"Auto Ownership Distribution Regionwide\"},\"series\":[{\"data\":[[0,0.0739615638],[1,0.322476045],[2,0.3736854958],[3,0.1543747146],[4,0.0503252495],[5,0.0169472951],[6,0.0052850999],[7,0.0014613638],[8,0.0008967922],[9,0.0004218403],[10,0.0001645401]],\"name\":\"2006 Survey\",\"yAxis\":0},{\"data\":[[0,0.0789484255],[1,0.3232114151],[2,0.3789281333],[3,0.1476972855],[4,0.049279182],[5,0.0149465057],[6,0.0015525795],[7,0.0031284024],[8,0.0012680794],[9,null],[10,0.0010399915]],\"name\":\"2014 Survey\",\"yAxis\":0}],\"yAxis\":[{}],\"chart\":{\"renderTo\":\"chart_idXbYXVYLn\",\"type\":\"column\"},\"xAxis\":{\"title\":{\"text\":\"Household Vehicles\"}},\"legend\":{\"enabled\":true}});</script>"
      ],
      "text/plain": [
       "<IPython.core.display.HTML object>"
      ]
     },
     "metadata": {},
     "output_type": "display_data"
    }
   ],
   "source": [
    "display_charts(df_new, kind='bar', title='Auto Ownership Distribution Regionwide')"
   ]
  },
  {
   "cell_type": "code",
   "execution_count": 78,
   "metadata": {
    "collapsed": false
   },
   "outputs": [
    {
     "name": "stdout",
     "output_type": "stream",
     "text": [
      "2006 Survey: 1.8735651003\n",
      "2014 Survey: 1.84776763947\n"
     ]
    }
   ],
   "source": [
    "# Average autos per household\n",
    "print scen_name + \": \" + str(sum(hh_scen['Household Vehicles']*hh_scen['Expansion Factor'])/sum(hh_scen['Expansion Factor']))\n",
    "print base_name + \": \" + str(sum(hh_base['Household Vehicles']*hh_base['Expansion Factor'])/sum(hh_base['Expansion Factor']))"
   ]
  },
  {
   "cell_type": "code",
   "execution_count": 79,
   "metadata": {
    "collapsed": true
   },
   "outputs": [],
   "source": [
    "# Auto Ownership by Income\n",
    "# Create common income ranges\n",
    "def map_income(df, in_field, out_field):\n",
    "    \n",
    "    # Define categories\n",
    "    incmap = {}\n",
    "    for i in range(0, 20000):\n",
    "        incmap.update({i: ' <20k'})\n",
    "    for i in range(20000, 40000):\n",
    "        incmap.update({i: '20k-40k'})\n",
    "    for i in range(40000, 60000):\n",
    "        incmap.update({i: '40k-60k'})\n",
    "    for i in range(60000, 75000):\n",
    "        incmap.update({i: '60k-75k'})\n",
    "    for i in range(75000, 100000):\n",
    "        incmap.update({i: '75k-100k'})\n",
    "    for i in range(100000, 150000):\n",
    "        incmap.update({i: '100k-150k'})\n",
    "    for i in range(150000, int(df[in_field].max())+1):\n",
    "        incmap.update({i: '>150k'})\n",
    "\n",
    "    df[out_field] = df[in_field].map(incmap)\n",
    "    return df"
   ]
  },
  {
   "cell_type": "code",
   "execution_count": 80,
   "metadata": {
    "collapsed": true
   },
   "outputs": [],
   "source": [
    "hh_scen = map_income(hh_scen, in_field='Household Income', out_field='Income')\n",
    "hh_base = map_income(hh_base, in_field='Household Income', out_field='Income')"
   ]
  },
  {
   "cell_type": "code",
   "execution_count": 81,
   "metadata": {
    "collapsed": false
   },
   "outputs": [
    {
     "data": {
      "text/html": [
       "<div style=\"max-height:1000px;max-width:1500px;overflow:auto;\">\n",
       "<table border=\"1\" class=\"dataframe\">\n",
       "  <thead>\n",
       "    <tr style=\"text-align: right;\">\n",
       "      <th></th>\n",
       "      <th>Expansion Factor</th>\n",
       "      <th>Household ID</th>\n",
       "      <th>Household Size</th>\n",
       "      <th>Household TAZ</th>\n",
       "      <th>Household Vehicles</th>\n",
       "      <th>Household Workers</th>\n",
       "      <th>Income</th>\n",
       "    </tr>\n",
       "    <tr>\n",
       "      <th>Household Income</th>\n",
       "      <th></th>\n",
       "      <th></th>\n",
       "      <th></th>\n",
       "      <th></th>\n",
       "      <th></th>\n",
       "      <th></th>\n",
       "      <th></th>\n",
       "    </tr>\n",
       "  </thead>\n",
       "  <tbody>\n",
       "    <tr>\n",
       "      <th>-1     </th>\n",
       "      <td> 2395</td>\n",
       "      <td> 2395</td>\n",
       "      <td> 2395</td>\n",
       "      <td> 2395</td>\n",
       "      <td> 2395</td>\n",
       "      <td> 2395</td>\n",
       "      <td>    0</td>\n",
       "    </tr>\n",
       "    <tr>\n",
       "      <th> 5000  </th>\n",
       "      <td>  225</td>\n",
       "      <td>  225</td>\n",
       "      <td>  225</td>\n",
       "      <td>  225</td>\n",
       "      <td>  225</td>\n",
       "      <td>  225</td>\n",
       "      <td>  225</td>\n",
       "    </tr>\n",
       "    <tr>\n",
       "      <th> 12500 </th>\n",
       "      <td>   14</td>\n",
       "      <td>   14</td>\n",
       "      <td>   14</td>\n",
       "      <td>   14</td>\n",
       "      <td>   14</td>\n",
       "      <td>   14</td>\n",
       "      <td>   14</td>\n",
       "    </tr>\n",
       "    <tr>\n",
       "      <th> 17500 </th>\n",
       "      <td>  513</td>\n",
       "      <td>  513</td>\n",
       "      <td>  513</td>\n",
       "      <td>  513</td>\n",
       "      <td>  513</td>\n",
       "      <td>  513</td>\n",
       "      <td>  513</td>\n",
       "    </tr>\n",
       "    <tr>\n",
       "      <th> 30000 </th>\n",
       "      <td>  455</td>\n",
       "      <td>  455</td>\n",
       "      <td>  455</td>\n",
       "      <td>  455</td>\n",
       "      <td>  455</td>\n",
       "      <td>  455</td>\n",
       "      <td>  455</td>\n",
       "    </tr>\n",
       "    <tr>\n",
       "      <th> 37500 </th>\n",
       "      <td>   42</td>\n",
       "      <td>   42</td>\n",
       "      <td>   42</td>\n",
       "      <td>   42</td>\n",
       "      <td>   42</td>\n",
       "      <td>   42</td>\n",
       "      <td>   42</td>\n",
       "    </tr>\n",
       "    <tr>\n",
       "      <th> 40000 </th>\n",
       "      <td>  642</td>\n",
       "      <td>  642</td>\n",
       "      <td>  642</td>\n",
       "      <td>  642</td>\n",
       "      <td>  642</td>\n",
       "      <td>  642</td>\n",
       "      <td>  642</td>\n",
       "    </tr>\n",
       "    <tr>\n",
       "      <th> 62500 </th>\n",
       "      <td> 1035</td>\n",
       "      <td> 1035</td>\n",
       "      <td> 1035</td>\n",
       "      <td> 1035</td>\n",
       "      <td> 1035</td>\n",
       "      <td> 1035</td>\n",
       "      <td> 1035</td>\n",
       "    </tr>\n",
       "    <tr>\n",
       "      <th> 87500 </th>\n",
       "      <td>  862</td>\n",
       "      <td>  862</td>\n",
       "      <td>  862</td>\n",
       "      <td>  862</td>\n",
       "      <td>  862</td>\n",
       "      <td>  862</td>\n",
       "      <td>  862</td>\n",
       "    </tr>\n",
       "    <tr>\n",
       "      <th> 125000</th>\n",
       "      <td>  994</td>\n",
       "      <td>  994</td>\n",
       "      <td>  994</td>\n",
       "      <td>  994</td>\n",
       "      <td>  994</td>\n",
       "      <td>  994</td>\n",
       "      <td>  994</td>\n",
       "    </tr>\n",
       "    <tr>\n",
       "      <th> 175000</th>\n",
       "      <td>  471</td>\n",
       "      <td>  471</td>\n",
       "      <td>  471</td>\n",
       "      <td>  471</td>\n",
       "      <td>  471</td>\n",
       "      <td>  471</td>\n",
       "      <td>  471</td>\n",
       "    </tr>\n",
       "    <tr>\n",
       "      <th> 225000</th>\n",
       "      <td>  159</td>\n",
       "      <td>  159</td>\n",
       "      <td>  159</td>\n",
       "      <td>  159</td>\n",
       "      <td>  159</td>\n",
       "      <td>  159</td>\n",
       "      <td>  159</td>\n",
       "    </tr>\n",
       "    <tr>\n",
       "      <th> 275000</th>\n",
       "      <td>  158</td>\n",
       "      <td>  158</td>\n",
       "      <td>  158</td>\n",
       "      <td>  158</td>\n",
       "      <td>  158</td>\n",
       "      <td>  158</td>\n",
       "      <td>  158</td>\n",
       "    </tr>\n",
       "  </tbody>\n",
       "</table>\n",
       "</div>"
      ],
      "text/plain": [
       "                  Expansion Factor  Household ID  Household Size  \\\n",
       "Household Income                                                   \n",
       "-1                            2395          2395            2395   \n",
       " 5000                          225           225             225   \n",
       " 12500                          14            14              14   \n",
       " 17500                         513           513             513   \n",
       " 30000                         455           455             455   \n",
       " 37500                          42            42              42   \n",
       " 40000                         642           642             642   \n",
       " 62500                        1035          1035            1035   \n",
       " 87500                         862           862             862   \n",
       " 125000                        994           994             994   \n",
       " 175000                        471           471             471   \n",
       " 225000                        159           159             159   \n",
       " 275000                        158           158             158   \n",
       "\n",
       "                  Household TAZ  Household Vehicles  Household Workers  Income  \n",
       "Household Income                                                                \n",
       "-1                         2395                2395               2395       0  \n",
       " 5000                       225                 225                225     225  \n",
       " 12500                       14                  14                 14      14  \n",
       " 17500                      513                 513                513     513  \n",
       " 30000                      455                 455                455     455  \n",
       " 37500                       42                  42                 42      42  \n",
       " 40000                      642                 642                642     642  \n",
       " 62500                     1035                1035               1035    1035  \n",
       " 87500                      862                 862                862     862  \n",
       " 125000                     994                 994                994     994  \n",
       " 175000                     471                 471                471     471  \n",
       " 225000                     159                 159                159     159  \n",
       " 275000                     158                 158                158     158  "
      ]
     },
     "execution_count": 81,
     "metadata": {},
     "output_type": "execute_result"
    }
   ],
   "source": [
    "hh_base.groupby('Household Income').count()"
   ]
  },
  {
   "cell_type": "code",
   "execution_count": 82,
   "metadata": {
    "collapsed": false
   },
   "outputs": [],
   "source": [
    "df_scen = pd.pivot_table(data=hh_scen, index='Household Vehicles', columns=['Income'], \n",
    "                    aggfunc='sum', values='Expansion Factor', fill_value=False, margins=False)\n",
    "df_base = pd.pivot_table(data=hh_base, index='Household Vehicles', columns=['Income'], \n",
    "                    aggfunc='sum', values='Expansion Factor', fill_value=False, margins=False)\n",
    "# Sort the columns\n",
    "df_scen = df_scen[[' <20k','20k-40k','40k-60k','60k-75k',\n",
    "                   '75k-100k','100k-150k','>150k']]\n",
    "df_base = df_base[[' <20k','20k-40k','40k-60k','60k-75k',\n",
    "                   '75k-100k','100k-150k','>150k']]"
   ]
  },
  {
   "cell_type": "code",
   "execution_count": 83,
   "metadata": {
    "collapsed": false
   },
   "outputs": [
    {
     "data": {
      "text/html": [
       "<div style=\"max-height:1000px;max-width:1500px;overflow:auto;\">\n",
       "<table border=\"1\" class=\"dataframe\">\n",
       "  <thead>\n",
       "    <tr style=\"text-align: right;\">\n",
       "      <th></th>\n",
       "      <th>2006 Survey</th>\n",
       "      <th>2014 Survey</th>\n",
       "      <th>% difference 2006-&gt;2014</th>\n",
       "    </tr>\n",
       "    <tr>\n",
       "      <th>Income</th>\n",
       "      <th></th>\n",
       "      <th></th>\n",
       "      <th></th>\n",
       "    </tr>\n",
       "  </thead>\n",
       "  <tbody>\n",
       "    <tr>\n",
       "      <th> &lt;20k</th>\n",
       "      <td> 0.826999</td>\n",
       "      <td> 1.005473</td>\n",
       "      <td> 0.215810</td>\n",
       "    </tr>\n",
       "    <tr>\n",
       "      <th>20k-40k</th>\n",
       "      <td> 1.353486</td>\n",
       "      <td> 1.361532</td>\n",
       "      <td> 0.005945</td>\n",
       "    </tr>\n",
       "    <tr>\n",
       "      <th>40k-60k</th>\n",
       "      <td> 1.843047</td>\n",
       "      <td> 1.604677</td>\n",
       "      <td>-0.129334</td>\n",
       "    </tr>\n",
       "    <tr>\n",
       "      <th>60k-75k</th>\n",
       "      <td> 2.071737</td>\n",
       "      <td> 1.851326</td>\n",
       "      <td>-0.106390</td>\n",
       "    </tr>\n",
       "    <tr>\n",
       "      <th>75k-100k</th>\n",
       "      <td> 2.337899</td>\n",
       "      <td> 2.208299</td>\n",
       "      <td>-0.055434</td>\n",
       "    </tr>\n",
       "    <tr>\n",
       "      <th>100k-150k</th>\n",
       "      <td> 2.564529</td>\n",
       "      <td> 2.367576</td>\n",
       "      <td>-0.076799</td>\n",
       "    </tr>\n",
       "    <tr>\n",
       "      <th>&gt;150k</th>\n",
       "      <td> 2.533331</td>\n",
       "      <td> 2.634852</td>\n",
       "      <td> 0.040074</td>\n",
       "    </tr>\n",
       "  </tbody>\n",
       "</table>\n",
       "</div>"
      ],
      "text/plain": [
       "           2006 Survey  2014 Survey  % difference 2006->2014\n",
       "Income                                                      \n",
       " <20k         0.826999     1.005473                 0.215810\n",
       "20k-40k       1.353486     1.361532                 0.005945\n",
       "40k-60k       1.843047     1.604677                -0.129334\n",
       "60k-75k       2.071737     1.851326                -0.106390\n",
       "75k-100k      2.337899     2.208299                -0.055434\n",
       "100k-150k     2.564529     2.367576                -0.076799\n",
       ">150k         2.533331     2.634852                 0.040074"
      ]
     },
     "execution_count": 83,
     "metadata": {},
     "output_type": "execute_result"
    }
   ],
   "source": [
    "# Calculate averages by income class\n",
    "df = pd.DataFrame([[sum(df_scen[colname]*df_scen.index)/sum(df_scen[colname]) for colname in df_scen.columns],\n",
    "                    [sum(df_base[colname]*df_base.index)/sum(df_base[colname]) for colname in df_base.columns]]).T\n",
    "df.index=df_base.columns\n",
    "df.columns=[scen_name,base_name]\n",
    "df['% difference 2006->2014']= (df[base_name]-df[scen_name])/df[scen_name]\n",
    "df"
   ]
  },
  {
   "cell_type": "code",
   "execution_count": 84,
   "metadata": {
    "collapsed": false
   },
   "outputs": [
    {
     "data": {
      "text/plain": [
       "Index([u'Age', u'Auto Distance to Work', u'Auto Time to Work', u'Expansion Factor_p', u'Household ID', u'Person Number', u'Person Type', u'School TAZ', u'Student Type', u'Transit Pass', u'Usual Commute Mode', u'Worker Type', u'Workplace TAZ', u'personID', u'Expansion Factor_h', u'Household Income', u'Household Size', u'Household TAZ', u'Household Vehicles', u'Household Workers', u'TAZ', u'TAD', u'OldDistric', u'County', u'District', u'New DistrictName'], dtype='object')"
      ]
     },
     "execution_count": 84,
     "metadata": {},
     "output_type": "execute_result"
    }
   ],
   "source": [
    "hh_per_scen_home_geog.columns"
   ]
  },
  {
   "cell_type": "code",
   "execution_count": 85,
   "metadata": {
    "collapsed": false
   },
   "outputs": [],
   "source": [
    "# Average ownership by district\n",
    "df_scen = pd.pivot_table(data=hh_per_scen_home_geog, index='Household Vehicles', columns=['New DistrictName'], \n",
    "                    aggfunc='sum', values='Expansion Factor_p', fill_value=False, margins=False)\n",
    "df_base = pd.pivot_table(data=hh_per_base_home_geog, index='Household Vehicles', columns=['New DistrictName'], \n",
    "                    aggfunc='sum', values='Expansion Factor_p', fill_value=False, margins=False)"
   ]
  },
  {
   "cell_type": "code",
   "execution_count": 86,
   "metadata": {
    "collapsed": false
   },
   "outputs": [
    {
     "data": {
      "text/html": [
       "<div style=\"max-height:1000px;max-width:1500px;overflow:auto;\">\n",
       "<table border=\"1\" class=\"dataframe\">\n",
       "  <thead>\n",
       "    <tr style=\"text-align: right;\">\n",
       "      <th></th>\n",
       "      <th>2006 Survey</th>\n",
       "      <th>2014 Survey</th>\n",
       "      <th>% difference 2006-&gt;2014</th>\n",
       "    </tr>\n",
       "    <tr>\n",
       "      <th>New DistrictName</th>\n",
       "      <th></th>\n",
       "      <th></th>\n",
       "      <th></th>\n",
       "    </tr>\n",
       "  </thead>\n",
       "  <tbody>\n",
       "    <tr>\n",
       "      <th>East Side</th>\n",
       "      <td> 2.226978</td>\n",
       "      <td> 2.267642</td>\n",
       "      <td> 0.018260</td>\n",
       "    </tr>\n",
       "    <tr>\n",
       "      <th>Everett-Lynwood-Edmonds</th>\n",
       "      <td> 1.985693</td>\n",
       "      <td> 1.000000</td>\n",
       "      <td>-0.496398</td>\n",
       "    </tr>\n",
       "    <tr>\n",
       "      <th>Kitsap</th>\n",
       "      <td> 2.368156</td>\n",
       "      <td> 2.214412</td>\n",
       "      <td>-0.064921</td>\n",
       "    </tr>\n",
       "    <tr>\n",
       "      <th>North Seattle-Shoreline</th>\n",
       "      <td> 1.899898</td>\n",
       "      <td> 1.806059</td>\n",
       "      <td>-0.049392</td>\n",
       "    </tr>\n",
       "    <tr>\n",
       "      <th>Renton-FedWay-Kent</th>\n",
       "      <td> 2.214294</td>\n",
       "      <td> 2.214888</td>\n",
       "      <td> 0.000269</td>\n",
       "    </tr>\n",
       "    <tr>\n",
       "      <th>S.Kitsap</th>\n",
       "      <td> 1.966543</td>\n",
       "      <td> 2.570041</td>\n",
       "      <td> 0.306883</td>\n",
       "    </tr>\n",
       "    <tr>\n",
       "      <th>Seattle CBD</th>\n",
       "      <td> 1.368956</td>\n",
       "      <td> 1.282108</td>\n",
       "      <td>-0.063441</td>\n",
       "    </tr>\n",
       "    <tr>\n",
       "      <th>South Pierce</th>\n",
       "      <td> 2.241079</td>\n",
       "      <td> 2.317545</td>\n",
       "      <td> 0.034120</td>\n",
       "    </tr>\n",
       "    <tr>\n",
       "      <th>Suburban Snohomish</th>\n",
       "      <td> 2.670453</td>\n",
       "      <td> 2.360578</td>\n",
       "      <td>-0.116038</td>\n",
       "    </tr>\n",
       "    <tr>\n",
       "      <th>Tacoma</th>\n",
       "      <td> 2.137104</td>\n",
       "      <td> 2.041372</td>\n",
       "      <td>-0.044795</td>\n",
       "    </tr>\n",
       "    <tr>\n",
       "      <th>West-South Seattle</th>\n",
       "      <td> 1.953293</td>\n",
       "      <td> 1.980146</td>\n",
       "      <td> 0.013748</td>\n",
       "    </tr>\n",
       "  </tbody>\n",
       "</table>\n",
       "</div>"
      ],
      "text/plain": [
       "                         2006 Survey  2014 Survey  % difference 2006->2014\n",
       "New DistrictName                                                          \n",
       "East Side                   2.226978     2.267642                 0.018260\n",
       "Everett-Lynwood-Edmonds     1.985693     1.000000                -0.496398\n",
       "Kitsap                      2.368156     2.214412                -0.064921\n",
       "North Seattle-Shoreline     1.899898     1.806059                -0.049392\n",
       "Renton-FedWay-Kent          2.214294     2.214888                 0.000269\n",
       "S.Kitsap                    1.966543     2.570041                 0.306883\n",
       "Seattle CBD                 1.368956     1.282108                -0.063441\n",
       "South Pierce                2.241079     2.317545                 0.034120\n",
       "Suburban Snohomish          2.670453     2.360578                -0.116038\n",
       "Tacoma                      2.137104     2.041372                -0.044795\n",
       "West-South Seattle          1.953293     1.980146                 0.013748"
      ]
     },
     "execution_count": 86,
     "metadata": {},
     "output_type": "execute_result"
    }
   ],
   "source": [
    "# Calculate averages by district\n",
    "df = pd.DataFrame([[sum(df_scen[colname]*df_scen.index)/sum(df_scen[colname]) for colname in df_scen.columns],\n",
    "                    [sum(df_base[colname]*df_base.index)/sum(df_base[colname]) for colname in df_base.columns]]).T\n",
    "df.index=df_base.columns\n",
    "df.columns=[scen_name,base_name]\n",
    "df\n",
    "df['% difference 2006->2014']= (df[base_name]-df[scen_name])/df[scen_name]\n",
    "df"
   ]
  },
  {
   "cell_type": "code",
   "execution_count": 48,
   "metadata": {
    "collapsed": false
   },
   "outputs": [],
   "source": [
    "# Average ownership by county\n",
    "df_scen = pd.pivot_table(data=hh_per_scen_home_geog, index='Household Vehicles', columns=['County'], \n",
    "                    aggfunc='sum', values='Expansion Factor_p', fill_value=False, margins=False)\n",
    "df_base = pd.pivot_table(data=hh_per_base_home_geog, index='Household Vehicles', columns=['County'], \n",
    "                    aggfunc='sum', values='Expansion Factor_p', fill_value=False, margins=False)"
   ]
  },
  {
   "cell_type": "code",
   "execution_count": 49,
   "metadata": {
    "collapsed": false
   },
   "outputs": [
    {
     "data": {
      "text/html": [
       "<div style=\"max-height:1000px;max-width:1500px;overflow:auto;\">\n",
       "<table border=\"1\" class=\"dataframe\">\n",
       "  <thead>\n",
       "    <tr style=\"text-align: right;\">\n",
       "      <th></th>\n",
       "      <th>2006 Survey</th>\n",
       "      <th>2014 Survey</th>\n",
       "      <th>% difference 2006-&gt;2014</th>\n",
       "    </tr>\n",
       "    <tr>\n",
       "      <th>County</th>\n",
       "      <th></th>\n",
       "      <th></th>\n",
       "      <th></th>\n",
       "    </tr>\n",
       "  </thead>\n",
       "  <tbody>\n",
       "    <tr>\n",
       "      <th>King</th>\n",
       "      <td> 2.053105</td>\n",
       "      <td> 2.044368</td>\n",
       "      <td>-0.004256</td>\n",
       "    </tr>\n",
       "    <tr>\n",
       "      <th>Kitsap</th>\n",
       "      <td> 2.368156</td>\n",
       "      <td> 2.214412</td>\n",
       "      <td>-0.064921</td>\n",
       "    </tr>\n",
       "    <tr>\n",
       "      <th>Pierce</th>\n",
       "      <td> 2.180297</td>\n",
       "      <td> 2.250480</td>\n",
       "      <td> 0.032189</td>\n",
       "    </tr>\n",
       "    <tr>\n",
       "      <th>Snohomish</th>\n",
       "      <td> 2.399664</td>\n",
       "      <td> 2.206878</td>\n",
       "      <td>-0.080339</td>\n",
       "    </tr>\n",
       "  </tbody>\n",
       "</table>\n",
       "</div>"
      ],
      "text/plain": [
       "           2006 Survey  2014 Survey  % difference 2006->2014\n",
       "County                                                      \n",
       "King          2.053105     2.044368                -0.004256\n",
       "Kitsap        2.368156     2.214412                -0.064921\n",
       "Pierce        2.180297     2.250480                 0.032189\n",
       "Snohomish     2.399664     2.206878                -0.080339"
      ]
     },
     "execution_count": 49,
     "metadata": {},
     "output_type": "execute_result"
    }
   ],
   "source": [
    "# Calculate averages by county\n",
    "df = pd.DataFrame([[sum(df_scen[colname]*df_scen.index)/sum(df_scen[colname]) for colname in df_scen.columns],\n",
    "                    [sum(df_base[colname]*df_base.index)/sum(df_base[colname]) for colname in df_base.columns]]).T\n",
    "df.index=df_base.columns\n",
    "df.columns=[scen_name,base_name]\n",
    "df\n",
    "df['% difference 2006->2014']= (df[base_name]-df[scen_name])/df[scen_name]\n",
    "df"
   ]
  },
  {
   "cell_type": "code",
   "execution_count": null,
   "metadata": {
    "collapsed": true
   },
   "outputs": [],
   "source": []
  }
 ],
 "metadata": {
  "kernelspec": {
   "display_name": "Python 2",
   "language": "python",
   "name": "python2"
  },
  "language_info": {
   "codemirror_mode": {
    "name": "ipython",
    "version": 2
   },
   "file_extension": ".py",
   "mimetype": "text/x-python",
   "name": "python",
   "nbconvert_exporter": "python",
   "pygments_lexer": "ipython2",
   "version": "2.7.9"
  }
 },
 "nbformat": 4,
 "nbformat_minor": 0
}
