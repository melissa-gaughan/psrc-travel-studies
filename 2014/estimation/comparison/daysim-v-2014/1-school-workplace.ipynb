{
 "cells": [
  {
   "cell_type": "markdown",
   "metadata": {},
   "source": [
    "These notebooks are used to compare a base and scenario, from surveys or model outputs, in H5 format. To run: from the menu bar above, choose **Cell -> Run All ** or run lines individually. Use the toggle button below to hide/show the raw Python code."
   ]
  },
  {
   "cell_type": "markdown",
   "metadata": {
    "collapsed": false
   },
   "source": [
    " ## School and Workplace Location Models"
   ]
  },
  {
   "cell_type": "markdown",
   "metadata": {},
   "source": [
    "*Summaries for Daysim Models 1.1 - 1.5*\n",
    "\n",
    "    - Workplace Location (1.1)\n",
    "        - by County\n",
    "        - by District\n",
    "    - School Location (1.2)\n",
    "        - by County\n",
    "        - by District\n",
    "    - Workers Paying to Park at Work (1.3)\n",
    "        - by Workplace County\n",
    "        - by Workplace District\n",
    "    - Transit Pass Ownership (1.4)\n",
    "       - by Workplace County \n",
    "       - by Workplace District\n",
    "       - by Home County \n",
    "       - by Home District\n",
    "    - Auto Ownership (1.5)\n",
    "       - by County\n",
    "       - by District\n",
    "---"
   ]
  },
  {
   "cell_type": "code",
   "execution_count": 1,
   "metadata": {
    "collapsed": false
   },
   "outputs": [
    {
     "data": {
      "text/html": [
       "<script>\n",
       "code_show=true; \n",
       "function code_toggle() {\n",
       " if (code_show){\n",
       " $('div.input').hide();\n",
       " } else {\n",
       " $('div.input').show();\n",
       " }\n",
       " code_show = !code_show\n",
       "} \n",
       "$( document ).ready(code_toggle);\n",
       "</script>\n",
       "<form action=\"javascript:code_toggle()\"><input type=\"submit\" value=\"Click here to toggle on/off the raw code.\"></form>"
      ],
      "text/plain": [
       "<IPython.core.display.HTML object>"
      ]
     },
     "execution_count": 1,
     "metadata": {},
     "output_type": "execute_result"
    }
   ],
   "source": [
    "from IPython.display import HTML\n",
    "\n",
    "HTML('''<script>\n",
    "code_show=true; \n",
    "function code_toggle() {\n",
    " if (code_show){\n",
    " $('div.input').hide();\n",
    " } else {\n",
    " $('div.input').show();\n",
    " }\n",
    " code_show = !code_show\n",
    "} \n",
    "$( document ).ready(code_toggle);\n",
    "</script>\n",
    "<form action=\"javascript:code_toggle()\"><input type=\"submit\" value=\"Click here to toggle on/off the raw code.\"></form>''')"
   ]
  },
  {
   "cell_type": "code",
   "execution_count": 2,
   "metadata": {
    "collapsed": false
   },
   "outputs": [
    {
     "name": "stdout",
     "output_type": "stream",
     "text": [
      "Populating the interactive namespace from numpy and matplotlib\n"
     ]
    }
   ],
   "source": [
    "import os\n",
    "import numpy as np\n",
    "import pandas as pd\n",
    "import h5py\n",
    "import pylab as P\n",
    "from IPython.display import display, display_pretty, Javascript, HTML\n",
    "import matplotlib\n",
    "import matplotlib.pyplot as plt\n",
    "matplotlib.style.use('ggplot')\n",
    "from matplotlib.backends.backend_pdf import PdfPages\n",
    "\n",
    "# Show charts in notebook\n",
    "%pylab inline"
   ]
  },
  {
   "cell_type": "code",
   "execution_count": 3,
   "metadata": {
    "collapsed": false
   },
   "outputs": [],
   "source": [
    "# Load h5 or daysim outputs records\n",
    "# Refering to 2 datasets as BASE and SCEN (scenario)\n",
    "\n",
    "base = h5py.File(r'R:\\SoundCast\\estimation\\2014\\P5\\survey14.h5','r+')\n",
    "base_name = '2014 Survey'\n",
    "\n",
    "# Note that expansion factor on daysim_outputs = 1 for each record, to allow direct comparison between survey records w/ exp. factor\n",
    "scen = h5py.File(r'R:\\SoundCast\\releases\\TransportationFutures2010\\outputs\\daysim_outputs.h5','r+')\n",
    "scen_name = 'Daysim'"
   ]
  },
  {
   "cell_type": "code",
   "execution_count": 4,
   "metadata": {
    "collapsed": false
   },
   "outputs": [],
   "source": [
    "def build_df(h5file, h5table, var_dict, nested):\n",
    "    ''' Convert H5 into dataframe '''\n",
    "    data = {}\n",
    "    if nested:\n",
    "        # survey h5 have nested data structure, different than daysim_outputs\n",
    "        for col_name, var in var_dict.iteritems():\n",
    "            data[col_name] = [i[0] for i in h5file[h5table][var][:]]\n",
    "    else:\n",
    "        for col_name, var in var_dict.iteritems():\n",
    "            data[col_name] = [i for i in h5file[h5table][var][:]]\n",
    "\n",
    "    return pd.DataFrame(data)"
   ]
  },
  {
   "cell_type": "code",
   "execution_count": null,
   "metadata": {
    "collapsed": false
   },
   "outputs": [],
   "source": []
  },
  {
   "cell_type": "code",
   "execution_count": 5,
   "metadata": {
    "collapsed": true
   },
   "outputs": [],
   "source": [
    "# Columns to import from h5 for analysis\n",
    "tripdict={'Household ID': 'hhno',\n",
    "            'Person Number': 'pno',\n",
    "            'Travel Time':'travtime',\n",
    "            'Travel Cost': 'travcost',\n",
    "            'Travel Distance': 'travdist',\n",
    "            'Mode': 'mode',\n",
    "            'Purpose':'dpurp',\n",
    "            'Departure Time': 'deptm',\n",
    "            'Expansion Factor': 'trexpfac'}"
   ]
  },
  {
   "cell_type": "code",
   "execution_count": 6,
   "metadata": {
    "collapsed": false
   },
   "outputs": [],
   "source": [
    "trip_base = build_df(h5file=base, h5table='Trip', var_dict=tripdict, nested=False)\n",
    "trip_scen = build_df(h5file=scen, h5table='Trip', var_dict=tripdict, nested=False)"
   ]
  },
  {
   "cell_type": "code",
   "execution_count": null,
   "metadata": {
    "collapsed": true
   },
   "outputs": [],
   "source": []
  },
  {
   "cell_type": "code",
   "execution_count": 7,
   "metadata": {
    "collapsed": true
   },
   "outputs": [],
   "source": [
    "# Columns to import from h5 for analysis\n",
    "persondict={'Household ID': 'hhno',\n",
    "            'Person Number': 'pno',\n",
    "            'Transit Pass': 'ptpass',\n",
    "            'Auto Time to Work': 'pwautime',\n",
    "            'Auto Distance to Work': 'pwaudist',\n",
    "            'Worker Type': 'pwtyp',\n",
    "            'Student Type': 'pstyp',\n",
    "            'Usual Commute Mode': 'puwmode',\n",
    "            'Workplace TAZ': 'pwtaz',\n",
    "            'School TAZ': 'pstaz',\n",
    "            'Age': 'pagey',\n",
    "            'Person Type': 'pptyp',\n",
    "            'Expansion Factor': 'psexpfac'}"
   ]
  },
  {
   "cell_type": "code",
   "execution_count": 8,
   "metadata": {
    "collapsed": false
   },
   "outputs": [],
   "source": [
    "person_scen = build_df(h5file=scen, h5table='Person', var_dict=persondict, nested=False)\n",
    "person_base = build_df(h5file=base, h5table='Person', var_dict=persondict, nested=False)"
   ]
  },
  {
   "cell_type": "code",
   "execution_count": 9,
   "metadata": {
    "collapsed": false
   },
   "outputs": [],
   "source": [
    "# Create unique ID for person by concatenating household ID and person number \n",
    "person_scen['personID'] = (person_scen['Household ID'].astype('str')+person_scen['Person Number'].astype('str')).astype('int')\n",
    "person_base['personID'] = (person_base['Household ID'].astype('str')+person_base['Person Number'].astype('str')).astype('int')"
   ]
  },
  {
   "cell_type": "code",
   "execution_count": 10,
   "metadata": {
    "collapsed": true
   },
   "outputs": [],
   "source": [
    "hhdict={'Household ID': 'hhno',\n",
    "        'Household Size': 'hhsize',\n",
    "        'Household Vehicles': 'hhvehs',\n",
    "        'Household Workers': 'hhwkrs',\n",
    "        'Household Income': 'hhincome',\n",
    "        'Household TAZ': 'hhtaz',\n",
    "        'Expansion Factor': 'hhexpfac'}"
   ]
  },
  {
   "cell_type": "code",
   "execution_count": 11,
   "metadata": {
    "collapsed": false
   },
   "outputs": [],
   "source": [
    "hh_scen = build_df(h5file=scen, h5table='Household', var_dict=hhdict, nested=False)\n",
    "hh_base = build_df(h5file=base, h5table='Household', var_dict=hhdict, nested=False)"
   ]
  },
  {
   "cell_type": "code",
   "execution_count": 12,
   "metadata": {
    "collapsed": false
   },
   "outputs": [],
   "source": [
    "# Add labels for worker type\n",
    "labels = {\n",
    "  0: \"Not a worker\",  \n",
    "  1: \"Full-time worker\",\n",
    "  2: \"Part-time worker\",\n",
    "}\n",
    "\n",
    "person_base['Worker Type'] = ([labels[x] for x in person_base['Worker Type']])\n",
    "person_scen['Worker Type'] = ([labels[x] for x in person_scen['Worker Type']])"
   ]
  },
  {
   "cell_type": "code",
   "execution_count": 13,
   "metadata": {
    "collapsed": false
   },
   "outputs": [],
   "source": [
    "# Join household records to person records\n",
    "hh_per_scen = pd.merge(left=person_scen, right=hh_scen,on='Household ID',suffixes=('_p','_h'))\n",
    "hh_per_base = pd.merge(left=person_base, right=hh_base,on='Household ID',suffixes=('_p','_h'))"
   ]
  },
  {
   "cell_type": "code",
   "execution_count": 14,
   "metadata": {
    "collapsed": false
   },
   "outputs": [],
   "source": [
    "# Join household geography\n",
    "taz_geog = pd.read_csv(r'utils/taz_lookup.csv')\n",
    "taz_geog.reindex\n",
    "hh_per_scen_home_geog = pd.merge(hh_per_scen, taz_geog, left_on='Household TAZ', right_on='TAZ')\n",
    "hh_per_base_home_geog = pd.merge(hh_per_base, taz_geog, left_on='Household TAZ', right_on='TAZ')"
   ]
  },
  {
   "cell_type": "code",
   "execution_count": 15,
   "metadata": {
    "collapsed": true
   },
   "outputs": [],
   "source": [
    "# Join workplace geography\n",
    "hh_per_scen_work_geog = pd.merge(hh_per_scen, taz_geog, left_on='Workplace TAZ', right_on='TAZ')\n",
    "hh_per_base_work_geog = pd.merge(hh_per_base, taz_geog, left_on='Workplace TAZ', right_on='TAZ')"
   ]
  },
  {
   "cell_type": "code",
   "execution_count": 302,
   "metadata": {
    "collapsed": false
   },
   "outputs": [],
   "source": [
    "# Set some formatting options\n",
    "pd.options.display.float_format = '{:.1f}%'.format    # set float format as percent, until further notice"
   ]
  },
  {
   "cell_type": "code",
   "execution_count": 303,
   "metadata": {
    "collapsed": false
   },
   "outputs": [],
   "source": [
    "def report_field(field, df_base, df_scen, title=None, figsize=(5,5)):\n",
    "    '''print table summary of totals, distribution, and plot of distribution, for given field'''\n",
    "    \n",
    "    df = pd.DataFrame([df_base.groupby(field).sum()['Expansion Factor_h'].astype('int'),\n",
    "                   df_scen.groupby(field).sum()['Expansion Factor_h'].astype('int')]).T\n",
    "    df.columns=([scen_name,base_name])\n",
    "    df.loc['Total'] = df.sum(axis=0)\n",
    "    df['% Difference'] = ((df[scen_name] - df[base_name])/df[base_name])*100    # relative to base case\n",
    "    \n",
    "    print '--------Totals--------'\n",
    "    print '' \n",
    "    print df\n",
    "    \n",
    "    print ''\n",
    "    print ''\n",
    "    print '-----Distribution-----'\n",
    "    print ''\n",
    "\n",
    "    \n",
    "    df_new = pd.DataFrame([df[scen_name]/(df[scen_name].loc['Total']),\n",
    "             df[base_name]/(df[base_name].loc['Total'])]).T*100\n",
    "    df_new['% Difference'] = ((df_new[scen_name] - df_new[base_name])/df_new[base_name])*100    # relative to base case\n",
    "    print df_new\n",
    "    print ''\n",
    "    df_new.drop(df_new.tail(1).index, inplace=True)    # do not plot totals columnn\n",
    "    df_new[[scen_name,base_name]].plot(kind='bar', alpha=0.8, title=title, figsize=figsize)"
   ]
  },
  {
   "cell_type": "markdown",
   "metadata": {},
   "source": [
    "---"
   ]
  },
  {
   "cell_type": "markdown",
   "metadata": {},
   "source": [
    "## Workplace Location"
   ]
  },
  {
   "cell_type": "markdown",
   "metadata": {},
   "source": [
    "### by County"
   ]
  },
  {
   "cell_type": "code",
   "execution_count": 304,
   "metadata": {
    "collapsed": false
   },
   "outputs": [
    {
     "name": "stdout",
     "output_type": "stream",
     "text": [
      "--------Totals--------\n",
      "\n",
      "            Daysim  2014 Survey  % Difference\n",
      "King       1121029      1140109         -1.7%\n",
      "Kitsap       79118       101795        -22.3%\n",
      "Pierce      254531       285553        -10.9%\n",
      "Snohomish   219565       258854        -15.2%\n",
      "Total      1674243      1786311         -6.3%\n",
      "\n",
      "\n",
      "-----Distribution-----\n",
      "\n",
      "           Daysim  2014 Survey  % Difference\n",
      "King        67.0%        63.8%          4.9%\n",
      "Kitsap       4.7%         5.7%        -17.1%\n",
      "Pierce      15.2%        16.0%         -4.9%\n",
      "Snohomish   13.1%        14.5%         -9.5%\n",
      "Total      100.0%       100.0%          0.0%\n",
      "\n"
     ]
    },
    {
     "data": {
      "image/png": "[encoded data removed]",
      "text/plain": [
       "<matplotlib.figure.Figure at 0x6ef136d8>"
      ]
     },
     "metadata": {},
     "output_type": "display_data"
    }
   ],
   "source": [
    "report_field(field='County', \n",
    "             df_base=hh_per_base_work_geog, \n",
    "             df_scen=hh_per_scen_work_geog, \n",
    "             title='Workplace Distribution by County')"
   ]
  },
  {
   "cell_type": "markdown",
   "metadata": {
    "collapsed": false
   },
   "source": [
    "### Workplace Location by District"
   ]
  },
  {
   "cell_type": "code",
   "execution_count": 305,
   "metadata": {
    "collapsed": false
   },
   "outputs": [
    {
     "name": "stdout",
     "output_type": "stream",
     "text": [
      "--------Totals--------\n",
      "\n",
      "                          Daysim  2014 Survey  % Difference\n",
      "East Side                 341627       331061          3.2%\n",
      "Everett-Lynwood-Edmonds   134170       152032        -11.7%\n",
      "Kitsap                     79118       101795        -22.3%\n",
      "North Seattle-Shoreline   145550       142736          2.0%\n",
      "Renton-FedWay-Kent        236524       288721        -18.1%\n",
      "S.Kitsap                   14534        19895        -26.9%\n",
      "Seattle CBD               280301       247207         13.4%\n",
      "South Pierce              122157       144052        -15.2%\n",
      "Suburban Snohomish         85395       106822        -20.1%\n",
      "Tacoma                    117838       121606         -3.1%\n",
      "West-South Seattle        117025       130384        -10.2%\n",
      "Total                    1674239      1786311         -6.3%\n",
      "\n",
      "\n",
      "-----Distribution-----\n",
      "\n",
      "                         Daysim  2014 Survey  % Difference\n",
      "East Side                 20.4%        18.5%         10.1%\n",
      "Everett-Lynwood-Edmonds    8.0%         8.5%         -5.8%\n",
      "Kitsap                     4.7%         5.7%        -17.1%\n",
      "North Seattle-Shoreline    8.7%         8.0%          8.8%\n",
      "Renton-FedWay-Kent        14.1%        16.2%        -12.6%\n",
      "S.Kitsap                   0.9%         1.1%        -22.1%\n",
      "Seattle CBD               16.7%        13.8%         21.0%\n",
      "South Pierce               7.3%         8.1%         -9.5%\n",
      "Suburban Snohomish         5.1%         6.0%        -14.7%\n",
      "Tacoma                     7.0%         6.8%          3.4%\n",
      "West-South Seattle         7.0%         7.3%         -4.2%\n",
      "Total                    100.0%       100.0%          0.0%\n",
      "\n"
     ]
    },
    {
     "data": {
      "image/png": "[encoded data removed]",
      "text/plain": [
       "<matplotlib.figure.Figure at 0xb9df50b8>"
      ]
     },
     "metadata": {},
     "output_type": "display_data"
    }
   ],
   "source": [
    "report_field('New DistrictName',\n",
    "             df_base=hh_per_base_work_geog, \n",
    "             df_scen=hh_per_scen_work_geog, \n",
    "             title='Workplace Distribution by District', figsize=(12,8))"
   ]
  },
  {
   "cell_type": "markdown",
   "metadata": {},
   "source": [
    "---"
   ]
  },
  {
   "cell_type": "markdown",
   "metadata": {},
   "source": [
    "## School Location"
   ]
  },
  {
   "cell_type": "code",
   "execution_count": 309,
   "metadata": {
    "collapsed": true
   },
   "outputs": [],
   "source": [
    "# Join school geography\n",
    "hh_per_scen_school_geog = pd.merge(hh_per_scen, taz_geog, left_on='School TAZ', right_on='TAZ')\n",
    "hh_per_base_school_geog = pd.merge(hh_per_base, taz_geog, left_on='School TAZ', right_on='TAZ')"
   ]
  },
  {
   "cell_type": "markdown",
   "metadata": {},
   "source": [
    "### By County"
   ]
  },
  {
   "cell_type": "code",
   "execution_count": 310,
   "metadata": {
    "collapsed": false
   },
   "outputs": [
    {
     "name": "stdout",
     "output_type": "stream",
     "text": [
      "--------Totals--------\n",
      "\n",
      "            Daysim  2014 Survey  % Difference\n",
      "King        692792       509961         35.9%\n",
      "Kitsap       63814        64244         -0.7%\n",
      "Pierce      239216       208352         14.8%\n",
      "Snohomish   187979       189855         -1.0%\n",
      "Total      1183801       972412         21.7%\n",
      "\n",
      "\n",
      "-----Distribution-----\n",
      "\n",
      "           Daysim  2014 Survey  % Difference\n",
      "King        58.5%        52.4%         11.6%\n",
      "Kitsap       5.4%         6.6%        -18.4%\n",
      "Pierce      20.2%        21.4%         -5.7%\n",
      "Snohomish   15.9%        19.5%        -18.7%\n",
      "Total      100.0%       100.0%          0.0%\n",
      "\n"
     ]
    },
    {
     "data": {
      "image/png": "[encoded data removed]",
      "text/plain": [
       "<matplotlib.figure.Figure at 0x109aa89e8>"
      ]
     },
     "metadata": {},
     "output_type": "display_data"
    }
   ],
   "source": [
    "report_field(field='County',\n",
    "             df_base=hh_per_base_school_geog, \n",
    "             df_scen=hh_per_scen_school_geog, \n",
    "             title='School Distribution by County', figsize=(8,8))"
   ]
  },
  {
   "cell_type": "markdown",
   "metadata": {
    "collapsed": true
   },
   "source": [
    "### School Location by District"
   ]
  },
  {
   "cell_type": "code",
   "execution_count": 311,
   "metadata": {
    "collapsed": false
   },
   "outputs": [
    {
     "name": "stdout",
     "output_type": "stream",
     "text": [
      "--------Totals--------\n",
      "\n",
      "                          Daysim  2014 Survey  % Difference\n",
      "East Side                 239550       165228         45.0%\n",
      "Everett-Lynwood-Edmonds    89072        74502         19.6%\n",
      "Kitsap                     63814        64244         -0.7%\n",
      "North Seattle-Shoreline   156919        78851         99.0%\n",
      "Renton-FedWay-Kent        135589       161415        -16.0%\n",
      "S.Kitsap                   14677        13659          7.5%\n",
      "Seattle CBD               102559        49515        107.1%\n",
      "South Pierce              149147       128679         15.9%\n",
      "Suburban Snohomish         98907       115353        -14.3%\n",
      "Tacoma                     75392        66014         14.2%\n",
      "West-South Seattle         58174        54952          5.9%\n",
      "Total                    1183800       972412         21.7%\n",
      "\n",
      "\n",
      "-----Distribution-----\n",
      "\n",
      "                         Daysim  2014 Survey  % Difference\n",
      "East Side                 20.2%        17.0%         19.1%\n",
      "Everett-Lynwood-Edmonds    7.5%         7.7%         -1.8%\n",
      "Kitsap                     5.4%         6.6%        -18.4%\n",
      "North Seattle-Shoreline   13.3%         8.1%         63.5%\n",
      "Renton-FedWay-Kent        11.5%        16.6%        -31.0%\n",
      "S.Kitsap                   1.2%         1.4%        -11.7%\n",
      "Seattle CBD                8.7%         5.1%         70.1%\n",
      "South Pierce              12.6%        13.2%         -4.8%\n",
      "Suburban Snohomish         8.4%        11.9%        -29.6%\n",
      "Tacoma                     6.4%         6.8%         -6.2%\n",
      "West-South Seattle         4.9%         5.7%        -13.0%\n",
      "Total                    100.0%       100.0%          0.0%\n",
      "\n"
     ]
    },
    {
     "data": {
      "image/png": "[encoded data removed]",
      "text/plain": [
       "<matplotlib.figure.Figure at 0x6ff581d0>"
      ]
     },
     "metadata": {},
     "output_type": "display_data"
    }
   ],
   "source": [
    "report_field(field='New DistrictName',\n",
    "             df_base=hh_per_base_school_geog, \n",
    "             df_scen=hh_per_scen_school_geog, \n",
    "             title='School Distribution by District', figsize=(8,8))"
   ]
  },
  {
   "cell_type": "markdown",
   "metadata": {
    "collapsed": true
   },
   "source": [
    "# Transit Pass Ownership"
   ]
  },
  {
   "cell_type": "code",
   "execution_count": 358,
   "metadata": {
    "collapsed": false
   },
   "outputs": [
    {
     "name": "stderr",
     "output_type": "stream",
     "text": [
      "C:\\Users\\Brice\\AppData\\Local\\Continuum\\Anaconda\\lib\\site-packages\\ipykernel\\__main__.py:8: SettingWithCopyWarning: \n",
      "A value is trying to be set on a copy of a slice from a DataFrame.\n",
      "Try using .loc[row_indexer,col_indexer] = value instead\n",
      "\n",
      "See the the caveats in the documentation: http://pandas.pydata.org/pandas-docs/stable/indexing.html#indexing-view-versus-copy\n",
      "C:\\Users\\Brice\\AppData\\Local\\Continuum\\Anaconda\\lib\\site-packages\\ipykernel\\__main__.py:9: SettingWithCopyWarning: \n",
      "A value is trying to be set on a copy of a slice from a DataFrame.\n",
      "Try using .loc[row_indexer,col_indexer] = value instead\n",
      "\n",
      "See the the caveats in the documentation: http://pandas.pydata.org/pandas-docs/stable/indexing.html#indexing-view-versus-copy\n"
     ]
    }
   ],
   "source": [
    "# 2014 survey has multiple fields for transit pass ownership. Sum all non-zero fields into 1, for yes/no\n",
    "\n",
    "# Drop -1 (no answer rows for transit pass)\n",
    "df_pass_base_home = hh_per_base_home_geog[hh_per_base_home_geog['Transit Pass'] >= 0]\n",
    "df_pass_base_work = hh_per_base_work_geog[hh_per_base_work_geog['Transit Pass'] >= 0]\n",
    "\n",
    "# Convert categorical responses (different pass types) to binary yes/no\n",
    "df_pass_base_home['Transit Pass'] = df_pass_base_home['Transit Pass'].apply(lambda x: 1 if x >=1 else 0)\n",
    "df_pass_base_work['Transit Pass'] = df_pass_base_work['Transit Pass'].apply(lambda x: 1 if x >=1 else 0)"
   ]
  },
  {
   "cell_type": "markdown",
   "metadata": {},
   "source": [
    "### Region Wide"
   ]
  },
  {
   "cell_type": "code",
   "execution_count": 314,
   "metadata": {
    "collapsed": false
   },
   "outputs": [
    {
     "name": "stdout",
     "output_type": "stream",
     "text": [
      "--------Totals--------\n",
      "\n",
      "        Daysim  2014 Survey  % Difference\n",
      "0      2299667      3088967        -25.6%\n",
      "1       467002       507572         -8.0%\n",
      "Total  2766669      3596539        -23.1%\n",
      "\n",
      "\n",
      "-----Distribution-----\n",
      "\n",
      "       Daysim  2014 Survey  % Difference\n",
      "0       83.1%        85.9%         -3.2%\n",
      "1       16.9%        14.1%         19.6%\n",
      "Total  100.0%       100.0%          0.0%\n",
      "\n"
     ]
    },
    {
     "data": {
      "image/png": "[encoded data removed]",
      "text/plain": [
       "<matplotlib.figure.Figure at 0x118aad5f8>"
      ]
     },
     "metadata": {},
     "output_type": "display_data"
    }
   ],
   "source": [
    "report_field('Transit Pass',\n",
    "             df_base=df_pass_base_home, \n",
    "             df_scen=hh_per_scen_home_geog, \n",
    "             title='Transit Pass', figsize=(4,4))"
   ]
  },
  {
   "cell_type": "markdown",
   "metadata": {},
   "source": [
    "## By Home County"
   ]
  },
  {
   "cell_type": "code",
   "execution_count": 355,
   "metadata": {
    "collapsed": true
   },
   "outputs": [],
   "source": [
    "def transit_pass(df_base, df_scen, geography, title=None):\n",
    "    df_result = pd.DataFrame()\n",
    "\n",
    "    # base\n",
    "    df = pd.pivot_table(data=df_pass_base, cols='Transit Pass', rows=geography, \n",
    "                   values='Expansion Factor_h', aggfunc='sum').astype('int')\n",
    "    df_result[base_name] = (df[1]/df.sum(axis=1))*100\n",
    "    df_result\n",
    "\n",
    "    # scenario\n",
    "    df = pd.pivot_table(data=hh_per_scen_home_geog, cols='Transit Pass', rows=geography, \n",
    "                   values='Expansion Factor_h', aggfunc='sum').astype('int')\n",
    "    df_result[scen_name] = (df[1]/df.sum(axis=1))*100\n",
    "    \n",
    "    print df_result\n",
    "    print \"\"\n",
    "    print \"--------------------------\"\n",
    "    print \"\"\n",
    "    print df_result.plot(kind='bar', title=title)"
   ]
  },
  {
   "cell_type": "code",
   "execution_count": 364,
   "metadata": {
    "collapsed": false
   },
   "outputs": [
    {
     "name": "stdout",
     "output_type": "stream",
     "text": [
      "           2014 Survey  Daysim\n",
      "County                        \n",
      "King             22.1%   17.1%\n",
      "Kitsap           17.5%    7.0%\n",
      "Pierce            8.4%   10.8%\n",
      "Snohomish        11.0%   12.2%\n",
      "\n",
      "--------------------------\n",
      "\n",
      "Axes(0.125,0.125;0.775x0.775)\n"
     ]
    },
    {
     "data": {
      "image/png": "[encoded data removed]",
      "text/plain": [
       "<matplotlib.figure.Figure at 0x71ee5710>"
      ]
     },
     "metadata": {},
     "output_type": "display_data"
    }
   ],
   "source": [
    "transit_pass(df_base=df_pass_base_home, \n",
    "             df_scen=hh_per_scen_home_geog, \n",
    "             geography='County', title='Transit Pass Ownership by Home County')"
   ]
  },
  {
   "cell_type": "code",
   "execution_count": 363,
   "metadata": {
    "collapsed": false
   },
   "outputs": [
    {
     "name": "stdout",
     "output_type": "stream",
     "text": [
      "                         2014 Survey  Daysim\n",
      "New DistrictName                            \n",
      "East Side                      17.5%   12.2%\n",
      "Everett-Lynwood-Edmonds        14.3%   15.7%\n",
      "Kitsap                         17.5%    7.0%\n",
      "North Seattle-Shoreline        31.3%   23.9%\n",
      "Renton-FedWay-Kent             10.1%   12.3%\n",
      "S.Kitsap                        5.9%    5.8%\n",
      "Seattle CBD                    38.7%   34.5%\n",
      "South Pierce                    6.0%    9.5%\n",
      "Suburban Snohomish              8.9%   10.0%\n",
      "Tacoma                         13.5%   14.9%\n",
      "West-South Seattle             32.4%   19.5%\n",
      "\n",
      "--------------------------\n",
      "\n",
      "Axes(0.125,0.125;0.775x0.775)\n"
     ]
    },
    {
     "data": {
      "image/png": "[encoded data removed]",
      "text/plain": [
       "<matplotlib.figure.Figure at 0x5e01fd68>"
      ]
     },
     "metadata": {},
     "output_type": "display_data"
    }
   ],
   "source": [
    "transit_pass(df_base=df_pass_base_home, \n",
    "             df_scen=hh_per_scen_home_geog, \n",
    "             geography='New DistrictName', title='Transit Pass Ownership by Home District')"
   ]
  },
  {
   "cell_type": "markdown",
   "metadata": {},
   "source": [
    "### By Work Location"
   ]
  },
  {
   "cell_type": "markdown",
   "metadata": {},
   "source": [
    "## County Work Location"
   ]
  },
  {
   "cell_type": "code",
   "execution_count": 362,
   "metadata": {
    "collapsed": false
   },
   "outputs": [
    {
     "name": "stdout",
     "output_type": "stream",
     "text": [
      "           2014 Survey  Daysim\n",
      "County                        \n",
      "King             22.1%   17.1%\n",
      "Kitsap           17.5%    7.0%\n",
      "Pierce            8.4%   10.8%\n",
      "Snohomish        11.0%   12.2%\n",
      "\n",
      "--------------------------\n",
      "\n",
      "Axes(0.125,0.125;0.775x0.775)\n"
     ]
    },
    {
     "data": {
      "image/png": "[encoded data removed]",
      "text/plain": [
       "<matplotlib.figure.Figure at 0x2c7335c0>"
      ]
     },
     "metadata": {},
     "output_type": "display_data"
    }
   ],
   "source": [
    "transit_pass(df_base=df_pass_base_work, \n",
    "             df_scen=hh_per_scen_work_geog, \n",
    "             geography='County', title='Transit Pass Ownership by Work County')"
   ]
  },
  {
   "cell_type": "markdown",
   "metadata": {
    "collapsed": false
   },
   "source": [
    "## by Work District"
   ]
  },
  {
   "cell_type": "code",
   "execution_count": 361,
   "metadata": {
    "collapsed": false
   },
   "outputs": [
    {
     "name": "stdout",
     "output_type": "stream",
     "text": [
      "                         2014 Survey  Daysim\n",
      "New DistrictName                            \n",
      "East Side                      17.5%   12.2%\n",
      "Everett-Lynwood-Edmonds        14.3%   15.7%\n",
      "Kitsap                         17.5%    7.0%\n",
      "North Seattle-Shoreline        31.3%   23.9%\n",
      "Renton-FedWay-Kent             10.1%   12.3%\n",
      "S.Kitsap                        5.9%    5.8%\n",
      "Seattle CBD                    38.7%   34.5%\n",
      "South Pierce                    6.0%    9.5%\n",
      "Suburban Snohomish              8.9%   10.0%\n",
      "Tacoma                         13.5%   14.9%\n",
      "West-South Seattle             32.4%   19.5%\n",
      "\n",
      "--------------------------\n",
      "\n",
      "Axes(0.125,0.125;0.775x0.775)\n"
     ]
    },
    {
     "data": {
      "image/png": "[encoded data removed]",
      "text/plain": [
       "<matplotlib.figure.Figure at 0x72e83ef0>"
      ]
     },
     "metadata": {},
     "output_type": "display_data"
    }
   ],
   "source": [
    "transit_pass(df_base=df_pass_base_work, \n",
    "             df_scen=hh_per_scen_work_geog, \n",
    "             geography='New DistrictName', title='Transit Pass Ownership by Work District')"
   ]
  },
  {
   "cell_type": "markdown",
   "metadata": {},
   "source": [
    "---"
   ]
  },
  {
   "cell_type": "markdown",
   "metadata": {},
   "source": [
    "# Auto Ownership"
   ]
  },
  {
   "cell_type": "code",
   "execution_count": 379,
   "metadata": {
    "collapsed": false
   },
   "outputs": [
    {
     "data": {
      "text/plain": [
       "Household Vehicles\n",
       "0                     110375\n",
       "1                     421679\n",
       "2                     562190\n",
       "3                     240517\n",
       "4                     114591\n",
       "Name: Expansion Factor, dtype: int32"
      ]
     },
     "execution_count": 379,
     "metadata": {},
     "output_type": "execute_result"
    }
   ],
   "source": [
    "hh_scen.groupby('Household Vehicles').sum()['Expansion Factor'].astype('int')"
   ]
  },
  {
   "cell_type": "code",
   "execution_count": 393,
   "metadata": {
    "collapsed": false
   },
   "outputs": [
    {
     "data": {
      "text/html": [
       "<div style=\"max-height:1000px;max-width:1500px;overflow:auto;\">\n",
       "<table border=\"1\" class=\"dataframe\">\n",
       "  <thead>\n",
       "    <tr style=\"text-align: right;\">\n",
       "      <th></th>\n",
       "      <th>Daysim</th>\n",
       "      <th>2014 Survey</th>\n",
       "    </tr>\n",
       "    <tr>\n",
       "      <th>Household Vehicles</th>\n",
       "      <th></th>\n",
       "      <th></th>\n",
       "    </tr>\n",
       "  </thead>\n",
       "  <tbody>\n",
       "    <tr>\n",
       "      <th>0 </th>\n",
       "      <td> 110375</td>\n",
       "      <td> 116720</td>\n",
       "    </tr>\n",
       "    <tr>\n",
       "      <th>1 </th>\n",
       "      <td> 421679</td>\n",
       "      <td> 477848</td>\n",
       "    </tr>\n",
       "    <tr>\n",
       "      <th>2 </th>\n",
       "      <td> 562190</td>\n",
       "      <td> 560222</td>\n",
       "    </tr>\n",
       "    <tr>\n",
       "      <th>3 </th>\n",
       "      <td> 240517</td>\n",
       "      <td> 218361</td>\n",
       "    </tr>\n",
       "    <tr>\n",
       "      <th>4 </th>\n",
       "      <td> 114591</td>\n",
       "      <td>  72856</td>\n",
       "    </tr>\n",
       "    <tr>\n",
       "      <th>5 </th>\n",
       "      <td>      0</td>\n",
       "      <td>  22097</td>\n",
       "    </tr>\n",
       "    <tr>\n",
       "      <th>6 </th>\n",
       "      <td>      0</td>\n",
       "      <td>   2295</td>\n",
       "    </tr>\n",
       "    <tr>\n",
       "      <th>7 </th>\n",
       "      <td>      0</td>\n",
       "      <td>   4625</td>\n",
       "    </tr>\n",
       "    <tr>\n",
       "      <th>8 </th>\n",
       "      <td>      0</td>\n",
       "      <td>   1874</td>\n",
       "    </tr>\n",
       "    <tr>\n",
       "      <th>10</th>\n",
       "      <td>      0</td>\n",
       "      <td>   1537</td>\n",
       "    </tr>\n",
       "  </tbody>\n",
       "</table>\n",
       "</div>"
      ],
      "text/plain": [
       "                    Daysim  2014 Survey\n",
       "Household Vehicles                     \n",
       "0                   110375       116720\n",
       "1                   421679       477848\n",
       "2                   562190       560222\n",
       "3                   240517       218361\n",
       "4                   114591        72856\n",
       "5                        0        22097\n",
       "6                        0         2295\n",
       "7                        0         4625\n",
       "8                        0         1874\n",
       "10                       0         1537"
      ]
     },
     "execution_count": 393,
     "metadata": {},
     "output_type": "execute_result"
    }
   ],
   "source": [
    "df = pd.DataFrame([(hh_scen.groupby('Household Vehicles').sum()['Expansion Factor']),\n",
    "                   hh_base.groupby('Household Vehicles').sum()['Expansion Factor']]).T\n",
    "df.columns=([scen_name,base_name])\n",
    "df.fillna(0,inplace=True)\n",
    "df[scen_name] = df[scen_name].astype('int')\n",
    "df[base_name] = df[base_name].astype('int')\n",
    "df"
   ]
  },
  {
   "cell_type": "code",
   "execution_count": 395,
   "metadata": {
    "collapsed": false
   },
   "outputs": [
    {
     "data": {
      "text/html": [
       "<div style=\"max-height:1000px;max-width:1500px;overflow:auto;\">\n",
       "<table border=\"1\" class=\"dataframe\">\n",
       "  <thead>\n",
       "    <tr style=\"text-align: right;\">\n",
       "      <th></th>\n",
       "      <th>Daysim</th>\n",
       "      <th>2014 Survey</th>\n",
       "    </tr>\n",
       "    <tr>\n",
       "      <th>Household Vehicles</th>\n",
       "      <th></th>\n",
       "      <th></th>\n",
       "    </tr>\n",
       "  </thead>\n",
       "  <tbody>\n",
       "    <tr>\n",
       "      <th>0 </th>\n",
       "      <td> 7.6%</td>\n",
       "      <td> 7.9%</td>\n",
       "    </tr>\n",
       "    <tr>\n",
       "      <th>1 </th>\n",
       "      <td>29.1%</td>\n",
       "      <td>32.3%</td>\n",
       "    </tr>\n",
       "    <tr>\n",
       "      <th>2 </th>\n",
       "      <td>38.8%</td>\n",
       "      <td>37.9%</td>\n",
       "    </tr>\n",
       "    <tr>\n",
       "      <th>3 </th>\n",
       "      <td>16.6%</td>\n",
       "      <td>14.8%</td>\n",
       "    </tr>\n",
       "    <tr>\n",
       "      <th>4 </th>\n",
       "      <td> 7.9%</td>\n",
       "      <td> 4.9%</td>\n",
       "    </tr>\n",
       "    <tr>\n",
       "      <th>5 </th>\n",
       "      <td> 0.0%</td>\n",
       "      <td> 1.5%</td>\n",
       "    </tr>\n",
       "    <tr>\n",
       "      <th>6 </th>\n",
       "      <td> 0.0%</td>\n",
       "      <td> 0.2%</td>\n",
       "    </tr>\n",
       "    <tr>\n",
       "      <th>7 </th>\n",
       "      <td> 0.0%</td>\n",
       "      <td> 0.3%</td>\n",
       "    </tr>\n",
       "    <tr>\n",
       "      <th>8 </th>\n",
       "      <td> 0.0%</td>\n",
       "      <td> 0.1%</td>\n",
       "    </tr>\n",
       "    <tr>\n",
       "      <th>10</th>\n",
       "      <td> 0.0%</td>\n",
       "      <td> 0.1%</td>\n",
       "    </tr>\n",
       "  </tbody>\n",
       "</table>\n",
       "</div>"
      ],
      "text/plain": [
       "                    Daysim  2014 Survey\n",
       "Household Vehicles                     \n",
       "0                     7.6%         7.9%\n",
       "1                    29.1%        32.3%\n",
       "2                    38.8%        37.9%\n",
       "3                    16.6%        14.8%\n",
       "4                     7.9%         4.9%\n",
       "5                     0.0%         1.5%\n",
       "6                     0.0%         0.2%\n",
       "7                     0.0%         0.3%\n",
       "8                     0.0%         0.1%\n",
       "10                    0.0%         0.1%"
      ]
     },
     "execution_count": 395,
     "metadata": {},
     "output_type": "execute_result"
    }
   ],
   "source": [
    "df_new = pd.DataFrame([df[scen_name]/df[scen_name].sum(),\n",
    "             df[base_name]/df[base_name].sum()]).T*100\n",
    "df_new"
   ]
  },
  {
   "cell_type": "code",
   "execution_count": 398,
   "metadata": {
    "collapsed": false
   },
   "outputs": [
    {
     "data": {
      "text/plain": [
       "<matplotlib.axes._subplots.AxesSubplot at 0x4161fc50>"
      ]
     },
     "execution_count": 398,
     "metadata": {},
     "output_type": "execute_result"
    },
    {
     "data": {
      "image/png": "[encoded data removed]",
      "text/plain": [
       "<matplotlib.figure.Figure at 0x4929ca58>"
      ]
     },
     "metadata": {},
     "output_type": "display_data"
    }
   ],
   "source": [
    "df_new.plot(kind='bar', title='Auto Ownership Distribution Regionwide')"
   ]
  },
  {
   "cell_type": "code",
   "execution_count": 399,
   "metadata": {
    "collapsed": false
   },
   "outputs": [
    {
     "name": "stdout",
     "output_type": "stream",
     "text": [
      "Daysim: 1.8808226021\n",
      "2014 Survey: 1.84776763947\n"
     ]
    }
   ],
   "source": [
    "# Average autos per household\n",
    "print scen_name + \": \" + str(sum(hh_scen['Household Vehicles']*hh_scen['Expansion Factor'])/sum(hh_scen['Expansion Factor']))\n",
    "print base_name + \": \" + str(sum(hh_base['Household Vehicles']*hh_base['Expansion Factor'])/sum(hh_base['Expansion Factor']))"
   ]
  },
  {
   "cell_type": "code",
   "execution_count": 400,
   "metadata": {
    "collapsed": true
   },
   "outputs": [],
   "source": [
    "# Auto Ownership by Income\n",
    "# Create common income ranges\n",
    "def map_income(df, in_field, out_field):\n",
    "    \n",
    "    # Define categories\n",
    "    incmap = {}\n",
    "    for i in range(0, 20000):\n",
    "        incmap.update({i: ' <20k'})\n",
    "    for i in range(20000, 40000):\n",
    "        incmap.update({i: '20k-40k'})\n",
    "    for i in range(40000, 60000):\n",
    "        incmap.update({i: '40k-60k'})\n",
    "    for i in range(60000, 75000):\n",
    "        incmap.update({i: '60k-75k'})\n",
    "    for i in range(75000, 100000):\n",
    "        incmap.update({i: '75k-100k'})\n",
    "    for i in range(100000, 150000):\n",
    "        incmap.update({i: '100k-150k'})\n",
    "    for i in range(150000, int(df[in_field].max())+1):\n",
    "        incmap.update({i: '>150k'})\n",
    "\n",
    "    df[out_field] = df[in_field].map(incmap)\n",
    "    return df"
   ]
  },
  {
   "cell_type": "code",
   "execution_count": 401,
   "metadata": {
    "collapsed": true
   },
   "outputs": [],
   "source": [
    "hh_scen = map_income(hh_scen, in_field='Household Income', out_field='Income')\n",
    "hh_base = map_income(hh_base, in_field='Household Income', out_field='Income')"
   ]
  },
  {
   "cell_type": "code",
   "execution_count": 418,
   "metadata": {
    "collapsed": false
   },
   "outputs": [],
   "source": [
    "df_scen = pd.pivot_table(data=hh_scen, index='Household Vehicles', columns=['Income'], \n",
    "                    aggfunc='sum', values='Expansion Factor', fill_value=False, margins=False)\n",
    "df_base = pd.pivot_table(data=hh_base, index='Household Vehicles', columns=['Income'], \n",
    "                    aggfunc='sum', values='Expansion Factor', fill_value=False, margins=False)\n",
    "# Sort the columns\n",
    "df_scen = df_scen[[' <20k','20k-40k','40k-60k','60k-75k',\n",
    "                   '75k-100k','100k-150k','>150k']]\n",
    "df_base = df_base[[' <20k','20k-40k','40k-60k','60k-75k',\n",
    "                   '75k-100k','100k-150k','>150k']]"
   ]
  },
  {
   "cell_type": "code",
   "execution_count": 419,
   "metadata": {
    "collapsed": false
   },
   "outputs": [
    {
     "data": {
      "text/plain": [
       "Index([u' <20k', u'20k-40k', u'40k-60k', u'60k-75k', u'75k-100k', u'100k-150k', u'>150k'], dtype='object')"
      ]
     },
     "execution_count": 419,
     "metadata": {},
     "output_type": "execute_result"
    }
   ],
   "source": [
    "df_scen.columns"
   ]
  },
  {
   "cell_type": "code",
   "execution_count": 420,
   "metadata": {
    "collapsed": false
   },
   "outputs": [
    {
     "data": {
      "text/plain": [
       "[0L, 1L, 1L, 2L, 2L, 2L, 2L]"
      ]
     },
     "execution_count": 420,
     "metadata": {},
     "output_type": "execute_result"
    }
   ],
   "source": [
    "[sum(df_scen[colname]*df_scen.index)/sum(df_scen[colname]) for colname in df_scen.columns]"
   ]
  },
  {
   "cell_type": "code",
   "execution_count": 421,
   "metadata": {
    "collapsed": false
   },
   "outputs": [
    {
     "data": {
      "text/html": [
       "<div style=\"max-height:1000px;max-width:1500px;overflow:auto;\">\n",
       "<table border=\"1\" class=\"dataframe\">\n",
       "  <thead>\n",
       "    <tr style=\"text-align: right;\">\n",
       "      <th></th>\n",
       "      <th>Daysim</th>\n",
       "      <th>2014 Survey</th>\n",
       "      <th>% difference 2006-&gt;2014</th>\n",
       "    </tr>\n",
       "    <tr>\n",
       "      <th>Income</th>\n",
       "      <th></th>\n",
       "      <th></th>\n",
       "      <th></th>\n",
       "    </tr>\n",
       "  </thead>\n",
       "  <tbody>\n",
       "    <tr>\n",
       "      <th> &lt;20k</th>\n",
       "      <td> 0</td>\n",
       "      <td> 1</td>\n",
       "      <td> inf%</td>\n",
       "    </tr>\n",
       "    <tr>\n",
       "      <th>20k-40k</th>\n",
       "      <td> 1</td>\n",
       "      <td> 1</td>\n",
       "      <td> 0.0%</td>\n",
       "    </tr>\n",
       "    <tr>\n",
       "      <th>40k-60k</th>\n",
       "      <td> 1</td>\n",
       "      <td> 1</td>\n",
       "      <td> 0.0%</td>\n",
       "    </tr>\n",
       "    <tr>\n",
       "      <th>60k-75k</th>\n",
       "      <td> 2</td>\n",
       "      <td> 1</td>\n",
       "      <td>-0.5%</td>\n",
       "    </tr>\n",
       "    <tr>\n",
       "      <th>75k-100k</th>\n",
       "      <td> 2</td>\n",
       "      <td> 2</td>\n",
       "      <td> 0.0%</td>\n",
       "    </tr>\n",
       "    <tr>\n",
       "      <th>100k-150k</th>\n",
       "      <td> 2</td>\n",
       "      <td> 2</td>\n",
       "      <td> 0.0%</td>\n",
       "    </tr>\n",
       "    <tr>\n",
       "      <th>&gt;150k</th>\n",
       "      <td> 2</td>\n",
       "      <td> 2</td>\n",
       "      <td> 0.0%</td>\n",
       "    </tr>\n",
       "  </tbody>\n",
       "</table>\n",
       "</div>"
      ],
      "text/plain": [
       "           Daysim  2014 Survey  % difference 2006->2014\n",
       "Income                                                 \n",
       " <20k           0            1                     inf%\n",
       "20k-40k         1            1                     0.0%\n",
       "40k-60k         1            1                     0.0%\n",
       "60k-75k         2            1                    -0.5%\n",
       "75k-100k        2            2                     0.0%\n",
       "100k-150k       2            2                     0.0%\n",
       ">150k           2            2                     0.0%"
      ]
     },
     "execution_count": 421,
     "metadata": {},
     "output_type": "execute_result"
    }
   ],
   "source": [
    "# Calculate averages by income class\n",
    "df = pd.DataFrame([[sum(df_scen[colname]*df_scen.index)/sum(df_scen[colname]) for colname in df_scen.columns],\n",
    "                    [sum(df_base[colname]*df_base.index)/sum(df_base[colname]) for colname in df_base.columns]]).T\n",
    "df.index=df_base.columns\n",
    "df.columns=[scen_name,base_name]\n",
    "df[scen_name] = df[scen_name].astype('int')\n",
    "df[base_name] = df[base_name].astype('int')\n",
    "df['% difference 2006->2014']= (df[base_name]-df[scen_name])/df[scen_name]\n",
    "df"
   ]
  },
  {
   "cell_type": "code",
   "execution_count": null,
   "metadata": {
    "collapsed": true
   },
   "outputs": [],
   "source": []
  }
 ],
 "metadata": {
  "kernelspec": {
   "display_name": "Python 2",
   "language": "python",
   "name": "python2"
  },
  "language_info": {
   "codemirror_mode": {
    "name": "ipython",
    "version": 2
   },
   "file_extension": ".py",
   "mimetype": "text/x-python",
   "name": "python",
   "nbconvert_exporter": "python",
   "pygments_lexer": "ipython2",
   "version": "2.7.9"
  }
 },
 "nbformat": 4,
 "nbformat_minor": 0
}
