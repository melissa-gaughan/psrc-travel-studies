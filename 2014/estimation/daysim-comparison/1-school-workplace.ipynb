{
 "cells": [
  {
   "cell_type": "markdown",
   "metadata": {},
   "source": [
    "These notebooks are used to compare a base and scenario, from expanded surveys or model outputs, in H5 format. To run: from the menu bar above, choose **Cell -> Run All ** or run lines individually. Use the toggle button below to hide/show the raw Python code."
   ]
  },
  {
   "cell_type": "markdown",
   "metadata": {
    "collapsed": false
   },
   "source": [
    " ## School and Workplace Location Models"
   ]
  },
  {
   "cell_type": "markdown",
   "metadata": {},
   "source": [
    "*Summaries for Daysim Models 1.1 - 1.5*\n",
    "\n",
    "    - Workplace Location (1.1)\n",
    "        - by County\n",
    "        - by District\n",
    "    - School Location (1.2)\n",
    "        - by County\n",
    "        - by District\n",
    "    - Workers Paying to Park at Work (1.3)\n",
    "        - by Workplace County\n",
    "        - by Workplace District\n",
    "    - Transit Pass Ownership (1.4)\n",
    "       - by Workplace County \n",
    "       - by Workplace District\n",
    "       - by Home County \n",
    "       - by Home District\n",
    "    - Auto Ownership (1.5)\n",
    "       - by County\n",
    "       - by District\n",
    "---"
   ]
  },
  {
   "cell_type": "code",
   "execution_count": 17,
   "metadata": {
    "collapsed": false
   },
   "outputs": [
    {
     "data": {
      "text/html": [
       "<script>\n",
       "code_show=true; \n",
       "function code_toggle() {\n",
       " if (code_show){\n",
       " $('div.input').hide();\n",
       " } else {\n",
       " $('div.input').show();\n",
       " }\n",
       " code_show = !code_show\n",
       "} \n",
       "$( document ).ready(code_toggle);\n",
       "</script>\n",
       "<form action=\"javascript:code_toggle()\"><input type=\"submit\" value=\"Click here to toggle on/off the raw code.\"></form>"
      ],
      "text/plain": [
       "<IPython.core.display.HTML object>"
      ]
     },
     "execution_count": 17,
     "metadata": {},
     "output_type": "execute_result"
    }
   ],
   "source": [
    "from IPython.display import HTML\n",
    "\n",
    "HTML('''<script>\n",
    "code_show=true; \n",
    "function code_toggle() {\n",
    " if (code_show){\n",
    " $('div.input').hide();\n",
    " } else {\n",
    " $('div.input').show();\n",
    " }\n",
    " code_show = !code_show\n",
    "} \n",
    "$( document ).ready(code_toggle);\n",
    "</script>\n",
    "<form action=\"javascript:code_toggle()\"><input type=\"submit\" value=\"Click here to toggle on/off the raw code.\"></form>''')"
   ]
  },
  {
   "cell_type": "code",
   "execution_count": 18,
   "metadata": {
    "collapsed": false
   },
   "outputs": [
    {
     "name": "stdout",
     "output_type": "stream",
     "text": [
      "Populating the interactive namespace from numpy and matplotlib\n"
     ]
    }
   ],
   "source": [
    "import os\n",
    "import numpy as np\n",
    "import pandas as pd\n",
    "import h5py\n",
    "import pylab as P\n",
    "from IPython.display import display, display_pretty, Javascript, HTML\n",
    "from pandas_highcharts.core import serialize\n",
    "from pandas_highcharts.display import display_charts\n",
    "import matplotlib.pyplot as plt\n",
    "\n",
    "# Show charts in notebook\n",
    "%pylab inline"
   ]
  },
  {
   "cell_type": "code",
   "execution_count": 19,
   "metadata": {
    "collapsed": false
   },
   "outputs": [],
   "source": [
    "# Define data sources\n",
    "\n",
    "# 2006 survey\n",
    "survey06_dir = r'R:\\SoundCast\\releases\\TransportationFutures2010\\scripts\\summarize'\n",
    "\n",
    "\n",
    "# 2014 survey\n",
    "survey14_dir = r'D:\\travel-studies\\2014\\estimation'"
   ]
  },
  {
   "cell_type": "code",
   "execution_count": 20,
   "metadata": {
    "collapsed": false,
    "scrolled": false
   },
   "outputs": [],
   "source": [
    "# Read Model Scenario Results\n",
    "scen = h5py.File(survey06_dir + r'/survey.h5','r+')\n",
    "scen_name = '2006 Survey'"
   ]
  },
  {
   "cell_type": "code",
   "execution_count": 21,
   "metadata": {
    "collapsed": false
   },
   "outputs": [],
   "source": [
    "# Read Base Data\n",
    "base_file = r'/survey14.h5'\n",
    "\n",
    "base = h5py.File(survey14_dir + base_file ,'r+')\n",
    "base_name = '2014 Survey'"
   ]
  },
  {
   "cell_type": "code",
   "execution_count": 22,
   "metadata": {
    "collapsed": false
   },
   "outputs": [],
   "source": [
    "def build_df(h5file, h5table, var_dict, survey_file=False):\n",
    "    ''' Convert H5 into dataframe '''\n",
    "    data = {}\n",
    "    if survey_file:\n",
    "        # survey h5 have nested data structure, different than daysim_outputs\n",
    "        for col_name, var in var_dict.iteritems():\n",
    "            data[col_name] = [i[0] for i in h5file[h5table][var][:]]\n",
    "    else:\n",
    "        for col_name, var in var_dict.iteritems():\n",
    "            data[col_name] = [i for i in h5file[h5table][var][:]]\n",
    "\n",
    "    return pd.DataFrame(data)"
   ]
  },
  {
   "cell_type": "code",
   "execution_count": 23,
   "metadata": {
    "collapsed": false
   },
   "outputs": [
    {
     "data": {
      "text/plain": [
       "(1,)"
      ]
     },
     "execution_count": 23,
     "metadata": {},
     "output_type": "execute_result"
    }
   ],
   "source": [
    "base['Person']['pno'][:][1]"
   ]
  },
  {
   "cell_type": "code",
   "execution_count": 24,
   "metadata": {
    "collapsed": true
   },
   "outputs": [],
   "source": [
    "tripdict={'Household ID': 'hhno',\n",
    "            'Person Number': 'pno',\n",
    "            'Travel Time':'travtime',\n",
    "            'Travel Cost': 'travcost',\n",
    "            'Travel Distance': 'travdist',\n",
    "            'Mode': 'mode',\n",
    "            'Purpose':'dpurp',\n",
    "            'Departure Time': 'deptm',\n",
    "            'Expansion Factor': 'trexpfac'}"
   ]
  },
  {
   "cell_type": "code",
   "execution_count": 25,
   "metadata": {
    "collapsed": false
   },
   "outputs": [],
   "source": [
    "trip_scen = build_df(h5file=scen, h5table='Trip', var_dict=tripdict, survey_file=True)\n",
    "trip_base = build_df(h5file=base, h5table='Trip', var_dict=tripdict, survey_file=True)"
   ]
  },
  {
   "cell_type": "code",
   "execution_count": 26,
   "metadata": {
    "collapsed": true
   },
   "outputs": [],
   "source": [
    "persondict={'Household ID': 'hhno',\n",
    "            'Person Number': 'pno',\n",
    "            'Transit Pass': 'ptpass',\n",
    "            'Auto Time to Work': 'pwautime',\n",
    "            'Auto Distance to Work': 'pwaudist',\n",
    "            'Worker Type': 'pwtyp',\n",
    "            'Student Type': 'pstyp',\n",
    "            'Usual Commute Mode': 'puwmode',\n",
    "            'Workplace TAZ': 'pwtaz',\n",
    "            'School TAZ': 'pstaz',\n",
    "            'Age': 'pagey',\n",
    "            'Person Type': 'pptyp',\n",
    "            'Expansion Factor': 'psexpfac'}"
   ]
  },
  {
   "cell_type": "code",
   "execution_count": 27,
   "metadata": {
    "collapsed": false
   },
   "outputs": [],
   "source": [
    "person_scen = build_df(h5file=scen, h5table='Person', var_dict=persondict, survey_file=True)\n",
    "person_base = build_df(h5file=base, h5table='Person', var_dict=persondict, survey_file=True)"
   ]
  },
  {
   "cell_type": "code",
   "execution_count": 28,
   "metadata": {
    "collapsed": false
   },
   "outputs": [],
   "source": [
    "# Create unique ID for person by concatenating household ID and person number \n",
    "person_scen['personID'] = (person_scen['Household ID'].astype('str')+person_scen['Person Number'].astype('str')).astype('int')\n",
    "person_base['personID'] = (person_base['Household ID'].astype('str')+person_base['Person Number'].astype('str')).astype('int')"
   ]
  },
  {
   "cell_type": "code",
   "execution_count": 29,
   "metadata": {
    "collapsed": true
   },
   "outputs": [],
   "source": [
    "hhdict={'Household ID': 'hhno',\n",
    "        'Household Size': 'hhsize',\n",
    "        'Household Vehicles': 'hhvehs',\n",
    "        'Household Workers': 'hhwkrs',\n",
    "        'Household Income': 'hhincome',\n",
    "        'Household TAZ': 'hhtaz',\n",
    "        'Expansion Factor': 'hhexpfac'}"
   ]
  },
  {
   "cell_type": "code",
   "execution_count": 30,
   "metadata": {
    "collapsed": false
   },
   "outputs": [],
   "source": [
    "hh_scen = build_df(h5file=scen, h5table='Household', var_dict=hhdict, survey_file=True)\n",
    "hh_base = build_df(h5file=base, h5table='Household', var_dict=hhdict, survey_file=True)"
   ]
  },
  {
   "cell_type": "code",
   "execution_count": 31,
   "metadata": {
    "collapsed": false
   },
   "outputs": [],
   "source": [
    "# Add labels for worker type\n",
    "labels = {\n",
    "  0: \"Not a worker\",  \n",
    "  1: \"Full-time worker\",\n",
    "  2: \"Part-time worker\",\n",
    "}\n",
    "\n",
    "person_base['Worker Type'] = ([labels[x] for x in person_base['Worker Type']])\n",
    "person_scen['Worker Type'] = ([labels[x] for x in person_scen['Worker Type']])"
   ]
  },
  {
   "cell_type": "code",
   "execution_count": null,
   "metadata": {
    "collapsed": false
   },
   "outputs": [],
   "source": []
  },
  {
   "cell_type": "code",
   "execution_count": null,
   "metadata": {
    "collapsed": false
   },
   "outputs": [],
   "source": []
  },
  {
   "cell_type": "code",
   "execution_count": 32,
   "metadata": {
    "collapsed": false
   },
   "outputs": [],
   "source": [
    "# Join household records to person records\n",
    "hh_per_scen = pd.merge(left=person_scen, right=hh_scen,on='Household ID',suffixes=('_p','_h'))\n",
    "hh_per_base = pd.merge(left=person_base, right=hh_base,on='Household ID',suffixes=('_p','_h'))"
   ]
  },
  {
   "cell_type": "code",
   "execution_count": 33,
   "metadata": {
    "collapsed": false
   },
   "outputs": [],
   "source": [
    "# Join household geography\n",
    "taz_geog = pd.read_csv(r'utils/taz_lookup.csv')\n",
    "taz_geog.reindex\n",
    "hh_per_scen_home_geog = pd.merge(hh_per_scen, taz_geog, left_on='Household TAZ', right_on='TAZ')\n",
    "hh_per_base_home_geog = pd.merge(hh_per_base, taz_geog, left_on='Household TAZ', right_on='TAZ')"
   ]
  },
  {
   "cell_type": "code",
   "execution_count": 34,
   "metadata": {
    "collapsed": true
   },
   "outputs": [],
   "source": [
    "# Join workplace geography\n",
    "hh_per_scen_work_geog = pd.merge(hh_per_scen, taz_geog, left_on='Workplace TAZ', right_on='TAZ')\n",
    "hh_per_base_work_geog = pd.merge(hh_per_base, taz_geog, left_on='Workplace TAZ', right_on='TAZ')"
   ]
  },
  {
   "cell_type": "markdown",
   "metadata": {},
   "source": [
    "---"
   ]
  },
  {
   "cell_type": "markdown",
   "metadata": {},
   "source": [
    "## Jobs by Location"
   ]
  },
  {
   "cell_type": "markdown",
   "metadata": {},
   "source": [
    "### Jobs by County"
   ]
  },
  {
   "cell_type": "code",
   "execution_count": 35,
   "metadata": {
    "collapsed": false
   },
   "outputs": [
    {
     "data": {
      "text/html": [
       "<div style=\"max-height:1000px;max-width:1500px;overflow:auto;\">\n",
       "<table border=\"1\" class=\"dataframe\">\n",
       "  <thead>\n",
       "    <tr style=\"text-align: right;\">\n",
       "      <th></th>\n",
       "      <th>2006 Survey</th>\n",
       "      <th>2014 Survey</th>\n",
       "    </tr>\n",
       "    <tr>\n",
       "      <th>County</th>\n",
       "      <th></th>\n",
       "      <th></th>\n",
       "    </tr>\n",
       "  </thead>\n",
       "  <tbody>\n",
       "    <tr>\n",
       "      <th>King</th>\n",
       "      <td> 911361.10</td>\n",
       "      <td> 1105040.6864</td>\n",
       "    </tr>\n",
       "    <tr>\n",
       "      <th>Kitsap</th>\n",
       "      <td>  77365.82</td>\n",
       "      <td>   79099.7800</td>\n",
       "    </tr>\n",
       "    <tr>\n",
       "      <th>Pierce</th>\n",
       "      <td> 209718.71</td>\n",
       "      <td>  254498.6217</td>\n",
       "    </tr>\n",
       "    <tr>\n",
       "      <th>Snohomish</th>\n",
       "      <td> 198680.46</td>\n",
       "      <td>  219190.8260</td>\n",
       "    </tr>\n",
       "  </tbody>\n",
       "</table>\n",
       "</div>"
      ],
      "text/plain": [
       "           2006 Survey   2014 Survey\n",
       "County                              \n",
       "King         911361.10  1105040.6864\n",
       "Kitsap        77365.82    79099.7800\n",
       "Pierce       209718.71   254498.6217\n",
       "Snohomish    198680.46   219190.8260"
      ]
     },
     "execution_count": 35,
     "metadata": {},
     "output_type": "execute_result"
    }
   ],
   "source": [
    "df = pd.DataFrame([hh_per_scen_work_geog.groupby('County').sum()['Expansion Factor_h'],\n",
    "                   hh_per_base_work_geog.groupby('County').sum()['Expansion Factor_h']]).T\n",
    "df.columns=([scen_name,base_name])\n",
    "df"
   ]
  },
  {
   "cell_type": "code",
   "execution_count": 36,
   "metadata": {
    "collapsed": false
   },
   "outputs": [
    {
     "data": {
      "text/html": [
       "<div style=\"max-height:1000px;max-width:1500px;overflow:auto;\">\n",
       "<table border=\"1\" class=\"dataframe\">\n",
       "  <thead>\n",
       "    <tr style=\"text-align: right;\">\n",
       "      <th></th>\n",
       "      <th>2006 Survey</th>\n",
       "      <th>2014 Survey</th>\n",
       "    </tr>\n",
       "    <tr>\n",
       "      <th>County</th>\n",
       "      <th></th>\n",
       "      <th></th>\n",
       "    </tr>\n",
       "  </thead>\n",
       "  <tbody>\n",
       "    <tr>\n",
       "      <th>King</th>\n",
       "      <td> 0.652311</td>\n",
       "      <td> 0.666559</td>\n",
       "    </tr>\n",
       "    <tr>\n",
       "      <th>Kitsap</th>\n",
       "      <td> 0.055375</td>\n",
       "      <td> 0.047713</td>\n",
       "    </tr>\n",
       "    <tr>\n",
       "      <th>Pierce</th>\n",
       "      <td> 0.150107</td>\n",
       "      <td> 0.153513</td>\n",
       "    </tr>\n",
       "    <tr>\n",
       "      <th>Snohomish</th>\n",
       "      <td> 0.142207</td>\n",
       "      <td> 0.132216</td>\n",
       "    </tr>\n",
       "  </tbody>\n",
       "</table>\n",
       "</div>"
      ],
      "text/plain": [
       "           2006 Survey  2014 Survey\n",
       "County                             \n",
       "King          0.652311     0.666559\n",
       "Kitsap        0.055375     0.047713\n",
       "Pierce        0.150107     0.153513\n",
       "Snohomish     0.142207     0.132216"
      ]
     },
     "execution_count": 36,
     "metadata": {},
     "output_type": "execute_result"
    }
   ],
   "source": [
    "# Distribution\n",
    "df_new = pd.DataFrame([df[scen_name]/df[scen_name].sum(),\n",
    "             df[base_name]/df[base_name].sum()]).T\n",
    "df_new"
   ]
  },
  {
   "cell_type": "code",
   "execution_count": 37,
   "metadata": {
    "collapsed": false
   },
   "outputs": [
    {
     "data": {
      "text/html": [
       "<div id=\"chart_idDcoQVHbx\"</div>\n",
       "    <script type=\"text/javascript\">new Highcharts.Chart({\"title\":{\"text\":\"Job Location Distribution by County\"},\"series\":[{\"data\":[[\"King\",0.6523112742],[\"Kitsap\",0.0553749733],[\"Pierce\",0.1501072176],[\"Snohomish\",0.1422065348]],\"name\":\"2006 Survey\",\"yAxis\":0},{\"data\":[[\"King\",0.6665585396],[\"Kitsap\",0.047712844],[\"Pierce\",0.1535131074],[\"Snohomish\",0.132215509]],\"name\":\"2014 Survey\",\"yAxis\":0}],\"yAxis\":[{}],\"chart\":{\"renderTo\":\"chart_idDcoQVHbx\",\"type\":\"column\"},\"xAxis\":{\"categories\":[\"King\",\"Kitsap\",\"Pierce\",\"Snohomish\"],\"title\":{\"text\":\"County\"}},\"legend\":{\"enabled\":true}});</script>"
      ],
      "text/plain": [
       "<IPython.core.display.HTML object>"
      ]
     },
     "metadata": {},
     "output_type": "display_data"
    }
   ],
   "source": [
    "display_charts(df_new, kind='bar', title='Job Location Distribution by County')"
   ]
  },
  {
   "cell_type": "markdown",
   "metadata": {
    "collapsed": false
   },
   "source": [
    "### Jobs by District"
   ]
  },
  {
   "cell_type": "code",
   "execution_count": 38,
   "metadata": {
    "collapsed": false
   },
   "outputs": [
    {
     "data": {
      "text/html": [
       "<div style=\"max-height:1000px;max-width:1500px;overflow:auto;\">\n",
       "<table border=\"1\" class=\"dataframe\">\n",
       "  <thead>\n",
       "    <tr style=\"text-align: right;\">\n",
       "      <th></th>\n",
       "      <th>2006 Survey</th>\n",
       "      <th>2014 Survey</th>\n",
       "    </tr>\n",
       "    <tr>\n",
       "      <th>New DistrictName</th>\n",
       "      <th></th>\n",
       "      <th></th>\n",
       "    </tr>\n",
       "  </thead>\n",
       "  <tbody>\n",
       "    <tr>\n",
       "      <th>East Side</th>\n",
       "      <td> 258650.11</td>\n",
       "      <td> 340512.7994</td>\n",
       "    </tr>\n",
       "    <tr>\n",
       "      <th>Everett-Lynwood-Edmonds</th>\n",
       "      <td> 122540.92</td>\n",
       "      <td> 133795.0959</td>\n",
       "    </tr>\n",
       "    <tr>\n",
       "      <th>Kitsap</th>\n",
       "      <td>  77365.82</td>\n",
       "      <td>  79099.7800</td>\n",
       "    </tr>\n",
       "    <tr>\n",
       "      <th>North Seattle-Shoreline</th>\n",
       "      <td> 122276.58</td>\n",
       "      <td> 132703.7331</td>\n",
       "    </tr>\n",
       "    <tr>\n",
       "      <th>Renton-FedWay-Kent</th>\n",
       "      <td> 215984.34</td>\n",
       "      <td> 235851.5392</td>\n",
       "    </tr>\n",
       "    <tr>\n",
       "      <th>S.Kitsap</th>\n",
       "      <td>   6998.18</td>\n",
       "      <td>  14534.8730</td>\n",
       "    </tr>\n",
       "    <tr>\n",
       "      <th>Seattle CBD</th>\n",
       "      <td> 221391.87</td>\n",
       "      <td> 279329.9210</td>\n",
       "    </tr>\n",
       "    <tr>\n",
       "      <th>South Pierce</th>\n",
       "      <td> 104619.23</td>\n",
       "      <td> 122153.5370</td>\n",
       "    </tr>\n",
       "    <tr>\n",
       "      <th>Suburban Snohomish</th>\n",
       "      <td>  76139.54</td>\n",
       "      <td>  85395.7301</td>\n",
       "    </tr>\n",
       "    <tr>\n",
       "      <th>Tacoma</th>\n",
       "      <td>  98101.30</td>\n",
       "      <td> 117810.2117</td>\n",
       "    </tr>\n",
       "    <tr>\n",
       "      <th>West-South Seattle</th>\n",
       "      <td>  93058.20</td>\n",
       "      <td> 116642.6937</td>\n",
       "    </tr>\n",
       "  </tbody>\n",
       "</table>\n",
       "</div>"
      ],
      "text/plain": [
       "                         2006 Survey  2014 Survey\n",
       "New DistrictName                                 \n",
       "East Side                  258650.11  340512.7994\n",
       "Everett-Lynwood-Edmonds    122540.92  133795.0959\n",
       "Kitsap                      77365.82   79099.7800\n",
       "North Seattle-Shoreline    122276.58  132703.7331\n",
       "Renton-FedWay-Kent         215984.34  235851.5392\n",
       "S.Kitsap                     6998.18   14534.8730\n",
       "Seattle CBD                221391.87  279329.9210\n",
       "South Pierce               104619.23  122153.5370\n",
       "Suburban Snohomish          76139.54   85395.7301\n",
       "Tacoma                      98101.30  117810.2117\n",
       "West-South Seattle          93058.20  116642.6937"
      ]
     },
     "execution_count": 38,
     "metadata": {},
     "output_type": "execute_result"
    }
   ],
   "source": [
    "district_col = 'New DistrictName'\n",
    "df = pd.DataFrame([hh_per_scen_work_geog.groupby(district_col).sum()['Expansion Factor_h'],\n",
    "                   hh_per_base_work_geog.groupby(district_col).sum()['Expansion Factor_h']]).T\n",
    "df.columns=([scen_name,base_name])\n",
    "df"
   ]
  },
  {
   "cell_type": "code",
   "execution_count": 39,
   "metadata": {
    "collapsed": false
   },
   "outputs": [
    {
     "data": {
      "text/html": [
       "<div style=\"max-height:1000px;max-width:1500px;overflow:auto;\">\n",
       "<table border=\"1\" class=\"dataframe\">\n",
       "  <thead>\n",
       "    <tr style=\"text-align: right;\">\n",
       "      <th></th>\n",
       "      <th>2006 Survey</th>\n",
       "      <th>2014 Survey</th>\n",
       "    </tr>\n",
       "    <tr>\n",
       "      <th>New DistrictName</th>\n",
       "      <th></th>\n",
       "      <th></th>\n",
       "    </tr>\n",
       "  </thead>\n",
       "  <tbody>\n",
       "    <tr>\n",
       "      <th>East Side</th>\n",
       "      <td> 0.185130</td>\n",
       "      <td> 0.205397</td>\n",
       "    </tr>\n",
       "    <tr>\n",
       "      <th>Everett-Lynwood-Edmonds</th>\n",
       "      <td> 0.087709</td>\n",
       "      <td> 0.080705</td>\n",
       "    </tr>\n",
       "    <tr>\n",
       "      <th>Kitsap</th>\n",
       "      <td> 0.055375</td>\n",
       "      <td> 0.047713</td>\n",
       "    </tr>\n",
       "    <tr>\n",
       "      <th>North Seattle-Shoreline</th>\n",
       "      <td> 0.087520</td>\n",
       "      <td> 0.080047</td>\n",
       "    </tr>\n",
       "    <tr>\n",
       "      <th>Renton-FedWay-Kent</th>\n",
       "      <td> 0.154592</td>\n",
       "      <td> 0.142265</td>\n",
       "    </tr>\n",
       "    <tr>\n",
       "      <th>S.Kitsap</th>\n",
       "      <td> 0.005009</td>\n",
       "      <td> 0.008767</td>\n",
       "    </tr>\n",
       "    <tr>\n",
       "      <th>Seattle CBD</th>\n",
       "      <td> 0.158462</td>\n",
       "      <td> 0.168491</td>\n",
       "    </tr>\n",
       "    <tr>\n",
       "      <th>South Pierce</th>\n",
       "      <td> 0.074882</td>\n",
       "      <td> 0.073683</td>\n",
       "    </tr>\n",
       "    <tr>\n",
       "      <th>Suburban Snohomish</th>\n",
       "      <td> 0.054497</td>\n",
       "      <td> 0.051511</td>\n",
       "    </tr>\n",
       "    <tr>\n",
       "      <th>Tacoma</th>\n",
       "      <td> 0.070216</td>\n",
       "      <td> 0.071063</td>\n",
       "    </tr>\n",
       "    <tr>\n",
       "      <th>West-South Seattle</th>\n",
       "      <td> 0.066607</td>\n",
       "      <td> 0.070359</td>\n",
       "    </tr>\n",
       "  </tbody>\n",
       "</table>\n",
       "</div>"
      ],
      "text/plain": [
       "                         2006 Survey  2014 Survey\n",
       "New DistrictName                                 \n",
       "East Side                   0.185130     0.205397\n",
       "Everett-Lynwood-Edmonds     0.087709     0.080705\n",
       "Kitsap                      0.055375     0.047713\n",
       "North Seattle-Shoreline     0.087520     0.080047\n",
       "Renton-FedWay-Kent          0.154592     0.142265\n",
       "S.Kitsap                    0.005009     0.008767\n",
       "Seattle CBD                 0.158462     0.168491\n",
       "South Pierce                0.074882     0.073683\n",
       "Suburban Snohomish          0.054497     0.051511\n",
       "Tacoma                      0.070216     0.071063\n",
       "West-South Seattle          0.066607     0.070359"
      ]
     },
     "execution_count": 39,
     "metadata": {},
     "output_type": "execute_result"
    }
   ],
   "source": [
    "# Distribution\n",
    "df_new = pd.DataFrame([df[scen_name]/df[scen_name].sum(),\n",
    "             df[base_name]/df[base_name].sum()]).T\n",
    "df_new"
   ]
  },
  {
   "cell_type": "code",
   "execution_count": 40,
   "metadata": {
    "collapsed": false
   },
   "outputs": [
    {
     "data": {
      "text/html": [
       "<div id=\"chart_idyvpRNyZs\"</div>\n",
       "    <script type=\"text/javascript\">new Highcharts.Chart({\"title\":{\"text\":\"Job Location Distribution by County\"},\"series\":[{\"data\":[[\"East Side\",0.1851301123],[\"Everett-Lynwood-Edmonds\",0.0877092775],[\"Kitsap\",0.0553749733],[\"North Seattle-Shoreline\",0.0875200749],[\"Renton-FedWay-Kent\",0.1545918737],[\"S.Kitsap\",0.0050089824],[\"Seattle CBD\",0.1584623404],[\"South Pierce\",0.0748817381],[\"Suburban Snohomish\",0.0544972573],[\"Tacoma\",0.0702164971],[\"West-South Seattle\",0.066606873]],\"name\":\"2006 Survey\",\"yAxis\":0},{\"data\":[[\"East Side\",0.2053967035],[\"Everett-Lynwood-Edmonds\",0.0807049594],[\"Kitsap\",0.047712844],[\"North Seattle-Shoreline\",0.0800466513],[\"Renton-FedWay-Kent\",0.1422652211],[\"S.Kitsap\",0.0087674091],[\"Seattle CBD\",0.1684913022],[\"South Pierce\",0.0736827922],[\"Suburban Snohomish\",0.0515105496],[\"Tacoma\",0.0710629062],[\"West-South Seattle\",0.0703586615]],\"name\":\"2014 Survey\",\"yAxis\":0}],\"yAxis\":[{}],\"chart\":{\"renderTo\":\"chart_idyvpRNyZs\",\"type\":\"column\"},\"xAxis\":{\"categories\":[\"East Side\",\"Everett-Lynwood-Edmonds\",\"Kitsap\",\"North Seattle-Shoreline\",\"Renton-FedWay-Kent\",\"S.Kitsap\",\"Seattle CBD\",\"South Pierce\",\"Suburban Snohomish\",\"Tacoma\",\"West-South Seattle\"],\"title\":{\"text\":\"New DistrictName\"}},\"legend\":{\"enabled\":true}});</script>"
      ],
      "text/plain": [
       "<IPython.core.display.HTML object>"
      ]
     },
     "metadata": {},
     "output_type": "display_data"
    }
   ],
   "source": [
    "display_charts(df_new, kind='bar', title='Job Location Distribution by County')"
   ]
  },
  {
   "cell_type": "markdown",
   "metadata": {},
   "source": [
    "---"
   ]
  },
  {
   "cell_type": "markdown",
   "metadata": {},
   "source": [
    "** Distribution of Worker Types**"
   ]
  },
  {
   "cell_type": "code",
   "execution_count": 41,
   "metadata": {
    "collapsed": false
   },
   "outputs": [],
   "source": [
    "# Distribution\n",
    "df_dist = pd.DataFrame([df[scen_name]/person_scen.count()['personID'],\n",
    "                   df[base_name]/person_base.count()['personID']]).T"
   ]
  },
  {
   "cell_type": "code",
   "execution_count": 42,
   "metadata": {
    "collapsed": false
   },
   "outputs": [
    {
     "data": {
      "text/html": [
       "<div id=\"chart_idcAJcKNfD\"</div>\n",
       "    <script type=\"text/javascript\">new Highcharts.Chart({\"title\":{\"text\":\"Worker Type Distribution\"},\"series\":[{\"data\":[[\"East Side\",24.609905804],[\"Everett-Lynwood-Edmonds\",11.6594595623],[\"Kitsap\",7.3611627022],[\"North Seattle-Shoreline\",11.6343082778],[\"Renton-FedWay-Kent\",20.5503653663],[\"S.Kitsap\",0.6658591817],[\"Seattle CBD\",21.0648782112],[\"South Pierce\",9.9542559467],[\"Suburban Snohomish\",7.2444852521],[\"Tacoma\",9.3340913416],[\"West-South Seattle\",8.8542530923]],\"name\":\"2006 Survey\",\"yAxis\":0},{\"data\":[[\"East Side\",23.8956350456],[\"Everett-Lynwood-Edmonds\",9.3891295368],[\"Kitsap\",5.5508617544],[\"North Seattle-Shoreline\",9.3125426737],[\"Renton-FedWay-Kent\",16.550985207],[\"S.Kitsap\",1.0199910877],[\"Seattle CBD\",19.6020997193],[\"South Pierce\",8.5721780351],[\"Suburban Snohomish\",5.992682814],[\"Tacoma\",8.2673832772],[\"West-South Seattle\",8.1854521895]],\"name\":\"2014 Survey\",\"yAxis\":0}],\"yAxis\":[{}],\"chart\":{\"renderTo\":\"chart_idcAJcKNfD\",\"type\":\"column\"},\"xAxis\":{\"categories\":[\"East Side\",\"Everett-Lynwood-Edmonds\",\"Kitsap\",\"North Seattle-Shoreline\",\"Renton-FedWay-Kent\",\"S.Kitsap\",\"Seattle CBD\",\"South Pierce\",\"Suburban Snohomish\",\"Tacoma\",\"West-South Seattle\"],\"title\":{\"text\":\"New DistrictName\"}},\"legend\":{\"enabled\":true}});</script>"
      ],
      "text/plain": [
       "<IPython.core.display.HTML object>"
      ]
     },
     "metadata": {},
     "output_type": "display_data"
    }
   ],
   "source": [
    "display_charts(df_dist, kind='bar', title='Worker Type Distribution')"
   ]
  },
  {
   "cell_type": "markdown",
   "metadata": {},
   "source": [
    "---"
   ]
  },
  {
   "cell_type": "markdown",
   "metadata": {},
   "source": [
    "## School Location"
   ]
  },
  {
   "cell_type": "code",
   "execution_count": 43,
   "metadata": {
    "collapsed": true
   },
   "outputs": [],
   "source": [
    "# Join school geography\n",
    "hh_per_scen_school_geog = pd.merge(hh_per_scen, taz_geog, left_on='School TAZ', right_on='TAZ')\n",
    "hh_per_base_school_geog = pd.merge(hh_per_base, taz_geog, left_on='School TAZ', right_on='TAZ')"
   ]
  },
  {
   "cell_type": "markdown",
   "metadata": {},
   "source": [
    "### By County"
   ]
  },
  {
   "cell_type": "code",
   "execution_count": 44,
   "metadata": {
    "collapsed": false
   },
   "outputs": [
    {
     "data": {
      "text/html": [
       "<div style=\"max-height:1000px;max-width:1500px;overflow:auto;\">\n",
       "<table border=\"1\" class=\"dataframe\">\n",
       "  <thead>\n",
       "    <tr style=\"text-align: right;\">\n",
       "      <th></th>\n",
       "      <th>2006 Survey</th>\n",
       "      <th>2014 Survey</th>\n",
       "    </tr>\n",
       "    <tr>\n",
       "      <th>County</th>\n",
       "      <th></th>\n",
       "      <th></th>\n",
       "    </tr>\n",
       "  </thead>\n",
       "  <tbody>\n",
       "    <tr>\n",
       "      <th>King</th>\n",
       "      <td> 332074.17</td>\n",
       "      <td> 692300.4446</td>\n",
       "    </tr>\n",
       "    <tr>\n",
       "      <th>Kitsap</th>\n",
       "      <td>  47202.05</td>\n",
       "      <td>  63941.3190</td>\n",
       "    </tr>\n",
       "    <tr>\n",
       "      <th>Pierce</th>\n",
       "      <td> 141727.02</td>\n",
       "      <td> 239051.0313</td>\n",
       "    </tr>\n",
       "    <tr>\n",
       "      <th>Snohomish</th>\n",
       "      <td> 134688.11</td>\n",
       "      <td> 189096.4190</td>\n",
       "    </tr>\n",
       "  </tbody>\n",
       "</table>\n",
       "</div>"
      ],
      "text/plain": [
       "           2006 Survey  2014 Survey\n",
       "County                             \n",
       "King         332074.17  692300.4446\n",
       "Kitsap        47202.05   63941.3190\n",
       "Pierce       141727.02  239051.0313\n",
       "Snohomish    134688.11  189096.4190"
      ]
     },
     "execution_count": 44,
     "metadata": {},
     "output_type": "execute_result"
    }
   ],
   "source": [
    "df = pd.DataFrame([hh_per_scen_school_geog.groupby('County').sum()['Expansion Factor_h'],\n",
    "                   hh_per_base_school_geog.groupby('County').sum()['Expansion Factor_h']]).T\n",
    "df.columns=([scen_name,base_name])\n",
    "df"
   ]
  },
  {
   "cell_type": "code",
   "execution_count": 45,
   "metadata": {
    "collapsed": false
   },
   "outputs": [
    {
     "data": {
      "text/html": [
       "<div style=\"max-height:1000px;max-width:1500px;overflow:auto;\">\n",
       "<table border=\"1\" class=\"dataframe\">\n",
       "  <thead>\n",
       "    <tr style=\"text-align: right;\">\n",
       "      <th></th>\n",
       "      <th>2006 Survey</th>\n",
       "      <th>2014 Survey</th>\n",
       "    </tr>\n",
       "    <tr>\n",
       "      <th>County</th>\n",
       "      <th></th>\n",
       "      <th></th>\n",
       "    </tr>\n",
       "  </thead>\n",
       "  <tbody>\n",
       "    <tr>\n",
       "      <th>King</th>\n",
       "      <td> 0.506449</td>\n",
       "      <td> 0.584521</td>\n",
       "    </tr>\n",
       "    <tr>\n",
       "      <th>Kitsap</th>\n",
       "      <td> 0.071988</td>\n",
       "      <td> 0.053987</td>\n",
       "    </tr>\n",
       "    <tr>\n",
       "      <th>Pierce</th>\n",
       "      <td> 0.216149</td>\n",
       "      <td> 0.201835</td>\n",
       "    </tr>\n",
       "    <tr>\n",
       "      <th>Snohomish</th>\n",
       "      <td> 0.205414</td>\n",
       "      <td> 0.159657</td>\n",
       "    </tr>\n",
       "  </tbody>\n",
       "</table>\n",
       "</div>"
      ],
      "text/plain": [
       "           2006 Survey  2014 Survey\n",
       "County                             \n",
       "King          0.506449     0.584521\n",
       "Kitsap        0.071988     0.053987\n",
       "Pierce        0.216149     0.201835\n",
       "Snohomish     0.205414     0.159657"
      ]
     },
     "execution_count": 45,
     "metadata": {},
     "output_type": "execute_result"
    }
   ],
   "source": [
    "df_new = pd.DataFrame([df[scen_name]/df[scen_name].sum(),\n",
    "             df[base_name]/df[base_name].sum()]).T\n",
    "df_new"
   ]
  },
  {
   "cell_type": "code",
   "execution_count": 46,
   "metadata": {
    "collapsed": false
   },
   "outputs": [
    {
     "data": {
      "text/html": [
       "<div id=\"chart_idSJJycsbn\"</div>\n",
       "    <script type=\"text/javascript\">new Highcharts.Chart({\"title\":{\"text\":\"School Location Distribution by County\"},\"series\":[{\"data\":[[\"King\",0.5064489108],[\"Kitsap\",0.0719882152],[\"Pierce\",0.2161489853],[\"Snohomish\",0.2054138887]],\"name\":\"2006 Survey\",\"yAxis\":0},{\"data\":[[\"King\",0.5845210649],[\"Kitsap\",0.0539867454],[\"Pierce\",0.2018348601],[\"Snohomish\",0.1596573295]],\"name\":\"2014 Survey\",\"yAxis\":0}],\"yAxis\":[{}],\"chart\":{\"renderTo\":\"chart_idSJJycsbn\",\"type\":\"column\"},\"xAxis\":{\"categories\":[\"King\",\"Kitsap\",\"Pierce\",\"Snohomish\"],\"title\":{\"text\":\"County\"}},\"legend\":{\"enabled\":true}});</script>"
      ],
      "text/plain": [
       "<IPython.core.display.HTML object>"
      ]
     },
     "metadata": {},
     "output_type": "display_data"
    }
   ],
   "source": [
    "display_charts(df_new, kind='bar', title='School Location Distribution by County')"
   ]
  },
  {
   "cell_type": "markdown",
   "metadata": {
    "collapsed": true
   },
   "source": [
    "### School Location by District"
   ]
  },
  {
   "cell_type": "code",
   "execution_count": 47,
   "metadata": {
    "collapsed": false
   },
   "outputs": [
    {
     "data": {
      "text/html": [
       "<div style=\"max-height:1000px;max-width:1500px;overflow:auto;\">\n",
       "<table border=\"1\" class=\"dataframe\">\n",
       "  <thead>\n",
       "    <tr style=\"text-align: right;\">\n",
       "      <th></th>\n",
       "      <th>2006 Survey</th>\n",
       "      <th>2014 Survey</th>\n",
       "    </tr>\n",
       "    <tr>\n",
       "      <th>New DistrictName</th>\n",
       "      <th></th>\n",
       "      <th></th>\n",
       "    </tr>\n",
       "  </thead>\n",
       "  <tbody>\n",
       "    <tr>\n",
       "      <th>East Side</th>\n",
       "      <td> 122008.20</td>\n",
       "      <td> 239750.8870</td>\n",
       "    </tr>\n",
       "    <tr>\n",
       "      <th>Everett-Lynwood-Edmonds</th>\n",
       "      <td>  63164.21</td>\n",
       "      <td>  90176.3100</td>\n",
       "    </tr>\n",
       "    <tr>\n",
       "      <th>Kitsap</th>\n",
       "      <td>  47202.05</td>\n",
       "      <td>  63941.3190</td>\n",
       "    </tr>\n",
       "    <tr>\n",
       "      <th>North Seattle-Shoreline</th>\n",
       "      <td>  63394.92</td>\n",
       "      <td> 154168.0960</td>\n",
       "    </tr>\n",
       "    <tr>\n",
       "      <th>Renton-FedWay-Kent</th>\n",
       "      <td>  73083.84</td>\n",
       "      <td> 136088.7625</td>\n",
       "    </tr>\n",
       "    <tr>\n",
       "      <th>S.Kitsap</th>\n",
       "      <td>  11018.92</td>\n",
       "      <td>  14506.3820</td>\n",
       "    </tr>\n",
       "    <tr>\n",
       "      <th>Seattle CBD</th>\n",
       "      <td>  45578.22</td>\n",
       "      <td> 104991.5922</td>\n",
       "    </tr>\n",
       "    <tr>\n",
       "      <th>South Pierce</th>\n",
       "      <td>  85980.99</td>\n",
       "      <td> 148555.8866</td>\n",
       "    </tr>\n",
       "    <tr>\n",
       "      <th>Suburban Snohomish</th>\n",
       "      <td>  71523.90</td>\n",
       "      <td>  98920.1090</td>\n",
       "    </tr>\n",
       "    <tr>\n",
       "      <th>Tacoma</th>\n",
       "      <td>  44727.11</td>\n",
       "      <td>  75988.7627</td>\n",
       "    </tr>\n",
       "    <tr>\n",
       "      <th>West-South Seattle</th>\n",
       "      <td>  28008.99</td>\n",
       "      <td>  57301.1069</td>\n",
       "    </tr>\n",
       "  </tbody>\n",
       "</table>\n",
       "</div>"
      ],
      "text/plain": [
       "                         2006 Survey  2014 Survey\n",
       "New DistrictName                                 \n",
       "East Side                  122008.20  239750.8870\n",
       "Everett-Lynwood-Edmonds     63164.21   90176.3100\n",
       "Kitsap                      47202.05   63941.3190\n",
       "North Seattle-Shoreline     63394.92  154168.0960\n",
       "Renton-FedWay-Kent          73083.84  136088.7625\n",
       "S.Kitsap                    11018.92   14506.3820\n",
       "Seattle CBD                 45578.22  104991.5922\n",
       "South Pierce                85980.99  148555.8866\n",
       "Suburban Snohomish          71523.90   98920.1090\n",
       "Tacoma                      44727.11   75988.7627\n",
       "West-South Seattle          28008.99   57301.1069"
      ]
     },
     "execution_count": 47,
     "metadata": {},
     "output_type": "execute_result"
    }
   ],
   "source": [
    "district_col = 'New DistrictName'\n",
    "df = pd.DataFrame([hh_per_scen_school_geog.groupby(district_col).sum()['Expansion Factor_h'],\n",
    "                   hh_per_base_school_geog.groupby(district_col).sum()['Expansion Factor_h']]).T\n",
    "df.columns=([scen_name,base_name])\n",
    "df"
   ]
  },
  {
   "cell_type": "code",
   "execution_count": 48,
   "metadata": {
    "collapsed": false
   },
   "outputs": [
    {
     "data": {
      "text/html": [
       "<div style=\"max-height:1000px;max-width:1500px;overflow:auto;\">\n",
       "<table border=\"1\" class=\"dataframe\">\n",
       "  <thead>\n",
       "    <tr style=\"text-align: right;\">\n",
       "      <th></th>\n",
       "      <th>2006 Survey</th>\n",
       "      <th>2014 Survey</th>\n",
       "    </tr>\n",
       "    <tr>\n",
       "      <th>New DistrictName</th>\n",
       "      <th></th>\n",
       "      <th></th>\n",
       "    </tr>\n",
       "  </thead>\n",
       "  <tbody>\n",
       "    <tr>\n",
       "      <th>East Side</th>\n",
       "      <td> 0.186076</td>\n",
       "      <td> 0.202426</td>\n",
       "    </tr>\n",
       "    <tr>\n",
       "      <th>Everett-Lynwood-Edmonds</th>\n",
       "      <td> 0.096332</td>\n",
       "      <td> 0.076137</td>\n",
       "    </tr>\n",
       "    <tr>\n",
       "      <th>Kitsap</th>\n",
       "      <td> 0.071988</td>\n",
       "      <td> 0.053987</td>\n",
       "    </tr>\n",
       "    <tr>\n",
       "      <th>North Seattle-Shoreline</th>\n",
       "      <td> 0.096684</td>\n",
       "      <td> 0.130167</td>\n",
       "    </tr>\n",
       "    <tr>\n",
       "      <th>Renton-FedWay-Kent</th>\n",
       "      <td> 0.111461</td>\n",
       "      <td> 0.114902</td>\n",
       "    </tr>\n",
       "    <tr>\n",
       "      <th>S.Kitsap</th>\n",
       "      <td> 0.016805</td>\n",
       "      <td> 0.012248</td>\n",
       "    </tr>\n",
       "    <tr>\n",
       "      <th>Seattle CBD</th>\n",
       "      <td> 0.069512</td>\n",
       "      <td> 0.088646</td>\n",
       "    </tr>\n",
       "    <tr>\n",
       "      <th>South Pierce</th>\n",
       "      <td> 0.131130</td>\n",
       "      <td> 0.125428</td>\n",
       "    </tr>\n",
       "    <tr>\n",
       "      <th>Suburban Snohomish</th>\n",
       "      <td> 0.109082</td>\n",
       "      <td> 0.083520</td>\n",
       "    </tr>\n",
       "    <tr>\n",
       "      <th>Tacoma</th>\n",
       "      <td> 0.068214</td>\n",
       "      <td> 0.064159</td>\n",
       "    </tr>\n",
       "    <tr>\n",
       "      <th>West-South Seattle</th>\n",
       "      <td> 0.042717</td>\n",
       "      <td> 0.048380</td>\n",
       "    </tr>\n",
       "  </tbody>\n",
       "</table>\n",
       "</div>"
      ],
      "text/plain": [
       "                         2006 Survey  2014 Survey\n",
       "New DistrictName                                 \n",
       "East Side                   0.186076     0.202426\n",
       "Everett-Lynwood-Edmonds     0.096332     0.076137\n",
       "Kitsap                      0.071988     0.053987\n",
       "North Seattle-Shoreline     0.096684     0.130167\n",
       "Renton-FedWay-Kent          0.111461     0.114902\n",
       "S.Kitsap                    0.016805     0.012248\n",
       "Seattle CBD                 0.069512     0.088646\n",
       "South Pierce                0.131130     0.125428\n",
       "Suburban Snohomish          0.109082     0.083520\n",
       "Tacoma                      0.068214     0.064159\n",
       "West-South Seattle          0.042717     0.048380"
      ]
     },
     "execution_count": 48,
     "metadata": {},
     "output_type": "execute_result"
    }
   ],
   "source": [
    "df_new = pd.DataFrame([df[scen_name]/df[scen_name].sum(),\n",
    "             df[base_name]/df[base_name].sum()]).T\n",
    "df_new"
   ]
  },
  {
   "cell_type": "code",
   "execution_count": 49,
   "metadata": {
    "collapsed": false
   },
   "outputs": [
    {
     "data": {
      "text/html": [
       "<div id=\"chart_idedxkabll\"</div>\n",
       "    <script type=\"text/javascript\">new Highcharts.Chart({\"title\":{\"text\":\"School Location Distribution by District\"},\"series\":[{\"data\":[[\"East Side\",0.1860756589],[\"Everett-Lynwood-Edmonds\",0.0963322301],[\"Kitsap\",0.0719882152],[\"North Seattle-Shoreline\",0.0966840877],[\"Renton-FedWay-Kent\",0.1114607353],[\"S.Kitsap\",0.016805041],[\"Seattle CBD\",0.0695116994],[\"South Pierce\",0.1311302795],[\"Suburban Snohomish\",0.1090816586],[\"Tacoma\",0.0682136649],[\"West-South Seattle\",0.0427167294]],\"name\":\"2006 Survey\",\"yAxis\":0},{\"data\":[[\"East Side\",0.2024257602],[\"Everett-Lynwood-Edmonds\",0.0761373955],[\"Kitsap\",0.0539867454],[\"North Seattle-Shoreline\",0.1301667511],[\"Renton-FedWay-Kent\",0.1149020617],[\"S.Kitsap\",0.0122479856],[\"Seattle CBD\",0.0886461908],[\"South Pierce\",0.125428267],[\"Suburban Snohomish\",0.083519934],[\"Tacoma\",0.0641586075],[\"West-South Seattle\",0.0483803012]],\"name\":\"2014 Survey\",\"yAxis\":0}],\"yAxis\":[{}],\"chart\":{\"renderTo\":\"chart_idedxkabll\",\"type\":\"column\"},\"xAxis\":{\"categories\":[\"East Side\",\"Everett-Lynwood-Edmonds\",\"Kitsap\",\"North Seattle-Shoreline\",\"Renton-FedWay-Kent\",\"S.Kitsap\",\"Seattle CBD\",\"South Pierce\",\"Suburban Snohomish\",\"Tacoma\",\"West-South Seattle\"],\"title\":{\"text\":\"New DistrictName\"}},\"legend\":{\"enabled\":true}});</script>"
      ],
      "text/plain": [
       "<IPython.core.display.HTML object>"
      ]
     },
     "metadata": {},
     "output_type": "display_data"
    }
   ],
   "source": [
    "display_charts(df_new, kind='bar', title='School Location Distribution by District')"
   ]
  },
  {
   "cell_type": "markdown",
   "metadata": {
    "collapsed": true
   },
   "source": [
    "# Transit Pass Ownership"
   ]
  },
  {
   "cell_type": "markdown",
   "metadata": {},
   "source": [
    "### By Home Location"
   ]
  },
  {
   "cell_type": "code",
   "execution_count": 73,
   "metadata": {
    "collapsed": false
   },
   "outputs": [
    {
     "data": {
      "text/html": [
       "<div style=\"max-height:1000px;max-width:1500px;overflow:auto;\">\n",
       "<table border=\"1\" class=\"dataframe\">\n",
       "  <thead>\n",
       "    <tr style=\"text-align: right;\">\n",
       "      <th></th>\n",
       "      <th>2006 Survey</th>\n",
       "      <th>2014 Survey</th>\n",
       "    </tr>\n",
       "    <tr>\n",
       "      <th>Transit Pass</th>\n",
       "      <th></th>\n",
       "      <th></th>\n",
       "    </tr>\n",
       "  </thead>\n",
       "  <tbody>\n",
       "    <tr>\n",
       "      <th>0</th>\n",
       "      <td> 2918331.51</td>\n",
       "      <td>          NaN</td>\n",
       "    </tr>\n",
       "    <tr>\n",
       "      <th>1</th>\n",
       "      <td>  348476.15</td>\n",
       "      <td> 3571494.5297</td>\n",
       "    </tr>\n",
       "  </tbody>\n",
       "</table>\n",
       "</div>"
      ],
      "text/plain": [
       "              2006 Survey   2014 Survey\n",
       "Transit Pass                           \n",
       "0              2918331.51           NaN\n",
       "1               348476.15  3571494.5297"
      ]
     },
     "execution_count": 73,
     "metadata": {},
     "output_type": "execute_result"
    }
   ],
   "source": [
    "df = pd.DataFrame([person_scen.groupby('Transit Pass').sum()['Expansion Factor'],\n",
    "              person_base.groupby('Transit Pass').sum()['Expansion Factor']]).T\n",
    "df.columns=([scen_name,base_name])\n",
    "df"
   ]
  },
  {
   "cell_type": "code",
   "execution_count": 191,
   "metadata": {
    "collapsed": false
   },
   "outputs": [
    {
     "data": {
      "text/html": [
       "<div style=\"max-height:1000px;max-width:1500px;overflow:auto;\">\n",
       "<table border=\"1\" class=\"dataframe\">\n",
       "  <thead>\n",
       "    <tr style=\"text-align: right;\">\n",
       "      <th></th>\n",
       "      <th>2006 Survey</th>\n",
       "      <th>2014 Survey</th>\n",
       "    </tr>\n",
       "    <tr>\n",
       "      <th>Transit Pass</th>\n",
       "      <th></th>\n",
       "      <th></th>\n",
       "    </tr>\n",
       "  </thead>\n",
       "  <tbody>\n",
       "    <tr>\n",
       "      <th>0</th>\n",
       "      <td> 2918331.51</td>\n",
       "      <td>          NaN</td>\n",
       "    </tr>\n",
       "    <tr>\n",
       "      <th>1</th>\n",
       "      <td>  348476.15</td>\n",
       "      <td> 3571144.3717</td>\n",
       "    </tr>\n",
       "  </tbody>\n",
       "</table>\n",
       "</div>"
      ],
      "text/plain": [
       "              2006 Survey   2014 Survey\n",
       "Transit Pass                           \n",
       "0              2918331.51           NaN\n",
       "1               348476.15  3571144.3717"
      ]
     },
     "execution_count": 191,
     "metadata": {},
     "output_type": "execute_result"
    }
   ],
   "source": [
    "# By Home County\n",
    "colname = 'Transit Pass'\n",
    "df = pd.DataFrame([hh_per_scen_home_geog.groupby(colname).sum()['Expansion Factor_h'],\n",
    "                   hh_per_base_home_geog.groupby(colname).sum()['Expansion Factor_h']]).T\n",
    "df.columns=([scen_name,base_name])\n",
    "df"
   ]
  },
  {
   "cell_type": "code",
   "execution_count": 194,
   "metadata": {
    "collapsed": false
   },
   "outputs": [
    {
     "data": {
      "text/html": [
       "<div style=\"max-height:1000px;max-width:1500px;overflow:auto;\">\n",
       "<table border=\"1\" class=\"dataframe\">\n",
       "  <thead>\n",
       "    <tr style=\"text-align: right;\">\n",
       "      <th></th>\n",
       "      <th>2006 Survey</th>\n",
       "      <th>2014 Survey</th>\n",
       "    </tr>\n",
       "    <tr>\n",
       "      <th>New DistrictName</th>\n",
       "      <th></th>\n",
       "      <th></th>\n",
       "    </tr>\n",
       "  </thead>\n",
       "  <tbody>\n",
       "    <tr>\n",
       "      <th>East Side</th>\n",
       "      <td> 585887.11</td>\n",
       "      <td> 660109.6451</td>\n",
       "    </tr>\n",
       "    <tr>\n",
       "      <th>Everett-Lynwood-Edmonds</th>\n",
       "      <td> 250931.89</td>\n",
       "      <td> 260224.6890</td>\n",
       "    </tr>\n",
       "    <tr>\n",
       "      <th>Kitsap</th>\n",
       "      <td> 235714.93</td>\n",
       "      <td> 235666.8690</td>\n",
       "    </tr>\n",
       "    <tr>\n",
       "      <th>North Seattle-Shoreline</th>\n",
       "      <td> 380757.37</td>\n",
       "      <td> 347809.8150</td>\n",
       "    </tr>\n",
       "    <tr>\n",
       "      <th>Renton-FedWay-Kent</th>\n",
       "      <td> 414538.41</td>\n",
       "      <td> 490745.5559</td>\n",
       "    </tr>\n",
       "    <tr>\n",
       "      <th>S.Kitsap</th>\n",
       "      <td>  69967.85</td>\n",
       "      <td>  51829.9160</td>\n",
       "    </tr>\n",
       "    <tr>\n",
       "      <th>Seattle CBD</th>\n",
       "      <td> 134063.55</td>\n",
       "      <td> 175854.8240</td>\n",
       "    </tr>\n",
       "    <tr>\n",
       "      <th>South Pierce</th>\n",
       "      <td> 403329.20</td>\n",
       "      <td> 470811.7267</td>\n",
       "    </tr>\n",
       "    <tr>\n",
       "      <th>Suburban Snohomish</th>\n",
       "      <td> 383614.20</td>\n",
       "      <td> 425202.2030</td>\n",
       "    </tr>\n",
       "    <tr>\n",
       "      <th>Tacoma</th>\n",
       "      <td> 221308.23</td>\n",
       "      <td> 230197.5765</td>\n",
       "    </tr>\n",
       "    <tr>\n",
       "      <th>West-South Seattle</th>\n",
       "      <td> 186694.92</td>\n",
       "      <td> 222691.5515</td>\n",
       "    </tr>\n",
       "  </tbody>\n",
       "</table>\n",
       "</div>"
      ],
      "text/plain": [
       "                         2006 Survey  2014 Survey\n",
       "New DistrictName                                 \n",
       "East Side                  585887.11  660109.6451\n",
       "Everett-Lynwood-Edmonds    250931.89  260224.6890\n",
       "Kitsap                     235714.93  235666.8690\n",
       "North Seattle-Shoreline    380757.37  347809.8150\n",
       "Renton-FedWay-Kent         414538.41  490745.5559\n",
       "S.Kitsap                    69967.85   51829.9160\n",
       "Seattle CBD                134063.55  175854.8240\n",
       "South Pierce               403329.20  470811.7267\n",
       "Suburban Snohomish         383614.20  425202.2030\n",
       "Tacoma                     221308.23  230197.5765\n",
       "West-South Seattle         186694.92  222691.5515"
      ]
     },
     "execution_count": 194,
     "metadata": {},
     "output_type": "execute_result"
    }
   ],
   "source": [
    "# By Home District\n",
    "colname = 'New DistrictName'\n",
    "df = pd.DataFrame([hh_per_scen_home_geog.groupby(colname).sum()['Expansion Factor_h'],\n",
    "                   hh_per_base_home_geog.groupby(colname).sum()['Expansion Factor_h']]).T\n",
    "df.columns=([scen_name,base_name])\n",
    "df"
   ]
  },
  {
   "cell_type": "markdown",
   "metadata": {},
   "source": [
    "### By Work Location"
   ]
  },
  {
   "cell_type": "code",
   "execution_count": 197,
   "metadata": {
    "collapsed": false
   },
   "outputs": [
    {
     "data": {
      "text/html": [
       "<div style=\"max-height:1000px;max-width:1500px;overflow:auto;\">\n",
       "<table border=\"1\" class=\"dataframe\">\n",
       "  <thead>\n",
       "    <tr style=\"text-align: right;\">\n",
       "      <th></th>\n",
       "      <th>2006 Survey</th>\n",
       "      <th>2014 Survey</th>\n",
       "    </tr>\n",
       "    <tr>\n",
       "      <th>County</th>\n",
       "      <th></th>\n",
       "      <th></th>\n",
       "    </tr>\n",
       "  </thead>\n",
       "  <tbody>\n",
       "    <tr>\n",
       "      <th>King</th>\n",
       "      <td> 911361.10</td>\n",
       "      <td> 1105040.6864</td>\n",
       "    </tr>\n",
       "    <tr>\n",
       "      <th>Kitsap</th>\n",
       "      <td>  77365.82</td>\n",
       "      <td>   79099.7800</td>\n",
       "    </tr>\n",
       "    <tr>\n",
       "      <th>Pierce</th>\n",
       "      <td> 209718.71</td>\n",
       "      <td>  254498.6217</td>\n",
       "    </tr>\n",
       "    <tr>\n",
       "      <th>Snohomish</th>\n",
       "      <td> 198680.46</td>\n",
       "      <td>  219190.8260</td>\n",
       "    </tr>\n",
       "  </tbody>\n",
       "</table>\n",
       "</div>"
      ],
      "text/plain": [
       "           2006 Survey   2014 Survey\n",
       "County                              \n",
       "King         911361.10  1105040.6864\n",
       "Kitsap        77365.82    79099.7800\n",
       "Pierce       209718.71   254498.6217\n",
       "Snohomish    198680.46   219190.8260"
      ]
     },
     "execution_count": 197,
     "metadata": {},
     "output_type": "execute_result"
    }
   ],
   "source": [
    "# By Work County\n",
    "colname = 'County'\n",
    "df = pd.DataFrame([hh_per_scen_work_geog.groupby(colname).sum()['Expansion Factor_h'],\n",
    "                   hh_per_base_work_geog.groupby(colname).sum()['Expansion Factor_h']]).T\n",
    "df.columns=([scen_name,base_name])\n",
    "df"
   ]
  },
  {
   "cell_type": "code",
   "execution_count": 198,
   "metadata": {
    "collapsed": false
   },
   "outputs": [
    {
     "data": {
      "text/html": [
       "<div style=\"max-height:1000px;max-width:1500px;overflow:auto;\">\n",
       "<table border=\"1\" class=\"dataframe\">\n",
       "  <thead>\n",
       "    <tr style=\"text-align: right;\">\n",
       "      <th></th>\n",
       "      <th>2006 Survey</th>\n",
       "      <th>2014 Survey</th>\n",
       "    </tr>\n",
       "    <tr>\n",
       "      <th>New DistrictName</th>\n",
       "      <th></th>\n",
       "      <th></th>\n",
       "    </tr>\n",
       "  </thead>\n",
       "  <tbody>\n",
       "    <tr>\n",
       "      <th>East Side</th>\n",
       "      <td> 258650.11</td>\n",
       "      <td> 340512.7994</td>\n",
       "    </tr>\n",
       "    <tr>\n",
       "      <th>Everett-Lynwood-Edmonds</th>\n",
       "      <td> 122540.92</td>\n",
       "      <td> 133795.0959</td>\n",
       "    </tr>\n",
       "    <tr>\n",
       "      <th>Kitsap</th>\n",
       "      <td>  77365.82</td>\n",
       "      <td>  79099.7800</td>\n",
       "    </tr>\n",
       "    <tr>\n",
       "      <th>North Seattle-Shoreline</th>\n",
       "      <td> 122276.58</td>\n",
       "      <td> 132703.7331</td>\n",
       "    </tr>\n",
       "    <tr>\n",
       "      <th>Renton-FedWay-Kent</th>\n",
       "      <td> 215984.34</td>\n",
       "      <td> 235851.5392</td>\n",
       "    </tr>\n",
       "    <tr>\n",
       "      <th>S.Kitsap</th>\n",
       "      <td>   6998.18</td>\n",
       "      <td>  14534.8730</td>\n",
       "    </tr>\n",
       "    <tr>\n",
       "      <th>Seattle CBD</th>\n",
       "      <td> 221391.87</td>\n",
       "      <td> 279329.9210</td>\n",
       "    </tr>\n",
       "    <tr>\n",
       "      <th>South Pierce</th>\n",
       "      <td> 104619.23</td>\n",
       "      <td> 122153.5370</td>\n",
       "    </tr>\n",
       "    <tr>\n",
       "      <th>Suburban Snohomish</th>\n",
       "      <td>  76139.54</td>\n",
       "      <td>  85395.7301</td>\n",
       "    </tr>\n",
       "    <tr>\n",
       "      <th>Tacoma</th>\n",
       "      <td>  98101.30</td>\n",
       "      <td> 117810.2117</td>\n",
       "    </tr>\n",
       "    <tr>\n",
       "      <th>West-South Seattle</th>\n",
       "      <td>  93058.20</td>\n",
       "      <td> 116642.6937</td>\n",
       "    </tr>\n",
       "  </tbody>\n",
       "</table>\n",
       "</div>"
      ],
      "text/plain": [
       "                         2006 Survey  2014 Survey\n",
       "New DistrictName                                 \n",
       "East Side                  258650.11  340512.7994\n",
       "Everett-Lynwood-Edmonds    122540.92  133795.0959\n",
       "Kitsap                      77365.82   79099.7800\n",
       "North Seattle-Shoreline    122276.58  132703.7331\n",
       "Renton-FedWay-Kent         215984.34  235851.5392\n",
       "S.Kitsap                     6998.18   14534.8730\n",
       "Seattle CBD                221391.87  279329.9210\n",
       "South Pierce               104619.23  122153.5370\n",
       "Suburban Snohomish          76139.54   85395.7301\n",
       "Tacoma                      98101.30  117810.2117\n",
       "West-South Seattle          93058.20  116642.6937"
      ]
     },
     "execution_count": 198,
     "metadata": {},
     "output_type": "execute_result"
    }
   ],
   "source": [
    "# By Work District\n",
    "colname = 'New DistrictName'\n",
    "df = pd.DataFrame([hh_per_scen_work_geog.groupby(colname).sum()['Expansion Factor_h'],\n",
    "                   hh_per_base_work_geog.groupby(colname).sum()['Expansion Factor_h']]).T\n",
    "df.columns=([scen_name,base_name])\n",
    "df"
   ]
  },
  {
   "cell_type": "markdown",
   "metadata": {},
   "source": [
    "---"
   ]
  },
  {
   "cell_type": "markdown",
   "metadata": {},
   "source": [
    "# Auto Ownership"
   ]
  },
  {
   "cell_type": "code",
   "execution_count": 81,
   "metadata": {
    "collapsed": false
   },
   "outputs": [
    {
     "data": {
      "text/html": [
       "<div style=\"max-height:1000px;max-width:1500px;overflow:auto;\">\n",
       "<table border=\"1\" class=\"dataframe\">\n",
       "  <thead>\n",
       "    <tr style=\"text-align: right;\">\n",
       "      <th></th>\n",
       "      <th>2006 Survey</th>\n",
       "      <th>2014 Survey</th>\n",
       "    </tr>\n",
       "    <tr>\n",
       "      <th>Household Vehicles</th>\n",
       "      <th></th>\n",
       "      <th></th>\n",
       "    </tr>\n",
       "  </thead>\n",
       "  <tbody>\n",
       "    <tr>\n",
       "      <th>0 </th>\n",
       "      <td> 101740.92</td>\n",
       "      <td> 112175.1870</td>\n",
       "    </tr>\n",
       "    <tr>\n",
       "      <th>1 </th>\n",
       "      <td> 443595.40</td>\n",
       "      <td> 478265.6070</td>\n",
       "    </tr>\n",
       "    <tr>\n",
       "      <th>2 </th>\n",
       "      <td> 514038.70</td>\n",
       "      <td> 560284.1711</td>\n",
       "    </tr>\n",
       "    <tr>\n",
       "      <th>3 </th>\n",
       "      <td> 212356.59</td>\n",
       "      <td> 218368.0022</td>\n",
       "    </tr>\n",
       "    <tr>\n",
       "      <th>4 </th>\n",
       "      <td>  69227.00</td>\n",
       "      <td>  72864.8129</td>\n",
       "    </tr>\n",
       "    <tr>\n",
       "      <th>5 </th>\n",
       "      <td>  23312.56</td>\n",
       "      <td>  22097.4961</td>\n",
       "    </tr>\n",
       "    <tr>\n",
       "      <th>6 </th>\n",
       "      <td>   7270.14</td>\n",
       "      <td>   2295.3940</td>\n",
       "    </tr>\n",
       "    <tr>\n",
       "      <th>7 </th>\n",
       "      <td>   2010.24</td>\n",
       "      <td>   4625.1520</td>\n",
       "    </tr>\n",
       "    <tr>\n",
       "      <th>8 </th>\n",
       "      <td>   1233.62</td>\n",
       "      <td>   1874.7780</td>\n",
       "    </tr>\n",
       "    <tr>\n",
       "      <th>9 </th>\n",
       "      <td>    580.28</td>\n",
       "      <td>         NaN</td>\n",
       "    </tr>\n",
       "    <tr>\n",
       "      <th>10</th>\n",
       "      <td>    226.34</td>\n",
       "      <td>   1537.5640</td>\n",
       "    </tr>\n",
       "  </tbody>\n",
       "</table>\n",
       "</div>"
      ],
      "text/plain": [
       "                    2006 Survey  2014 Survey\n",
       "Household Vehicles                          \n",
       "0                     101740.92  112175.1870\n",
       "1                     443595.40  478265.6070\n",
       "2                     514038.70  560284.1711\n",
       "3                     212356.59  218368.0022\n",
       "4                      69227.00   72864.8129\n",
       "5                      23312.56   22097.4961\n",
       "6                       7270.14    2295.3940\n",
       "7                       2010.24    4625.1520\n",
       "8                       1233.62    1874.7780\n",
       "9                        580.28          NaN\n",
       "10                       226.34    1537.5640"
      ]
     },
     "execution_count": 81,
     "metadata": {},
     "output_type": "execute_result"
    }
   ],
   "source": [
    "new_hh_scen = hh_scen[hh_scen.index>=0]\n",
    "df = pd.DataFrame([hh_scen.groupby('Household Vehicles').sum()['Expansion Factor'],\n",
    "                   hh_base.groupby('Household Vehicles').sum()['Expansion Factor']]).T\n",
    "df.columns=([scen_name,base_name])\n",
    "df=df[df.index>=0]\n",
    "df"
   ]
  },
  {
   "cell_type": "code",
   "execution_count": 82,
   "metadata": {
    "collapsed": false
   },
   "outputs": [
    {
     "data": {
      "text/html": [
       "<div style=\"max-height:1000px;max-width:1500px;overflow:auto;\">\n",
       "<table border=\"1\" class=\"dataframe\">\n",
       "  <thead>\n",
       "    <tr style=\"text-align: right;\">\n",
       "      <th></th>\n",
       "      <th>2006 Survey</th>\n",
       "      <th>2014 Survey</th>\n",
       "    </tr>\n",
       "    <tr>\n",
       "      <th>Household Vehicles</th>\n",
       "      <th></th>\n",
       "      <th></th>\n",
       "    </tr>\n",
       "  </thead>\n",
       "  <tbody>\n",
       "    <tr>\n",
       "      <th>0 </th>\n",
       "      <td> 0.073962</td>\n",
       "      <td> 0.076083</td>\n",
       "    </tr>\n",
       "    <tr>\n",
       "      <th>1 </th>\n",
       "      <td> 0.322476</td>\n",
       "      <td> 0.324382</td>\n",
       "    </tr>\n",
       "    <tr>\n",
       "      <th>2 </th>\n",
       "      <td> 0.373685</td>\n",
       "      <td> 0.380011</td>\n",
       "    </tr>\n",
       "    <tr>\n",
       "      <th>3 </th>\n",
       "      <td> 0.154375</td>\n",
       "      <td> 0.148108</td>\n",
       "    </tr>\n",
       "    <tr>\n",
       "      <th>4 </th>\n",
       "      <td> 0.050325</td>\n",
       "      <td> 0.049420</td>\n",
       "    </tr>\n",
       "    <tr>\n",
       "      <th>5 </th>\n",
       "      <td> 0.016947</td>\n",
       "      <td> 0.014988</td>\n",
       "    </tr>\n",
       "    <tr>\n",
       "      <th>6 </th>\n",
       "      <td> 0.005285</td>\n",
       "      <td> 0.001557</td>\n",
       "    </tr>\n",
       "    <tr>\n",
       "      <th>7 </th>\n",
       "      <td> 0.001461</td>\n",
       "      <td> 0.003137</td>\n",
       "    </tr>\n",
       "    <tr>\n",
       "      <th>8 </th>\n",
       "      <td> 0.000897</td>\n",
       "      <td> 0.001272</td>\n",
       "    </tr>\n",
       "    <tr>\n",
       "      <th>9 </th>\n",
       "      <td> 0.000422</td>\n",
       "      <td>      NaN</td>\n",
       "    </tr>\n",
       "    <tr>\n",
       "      <th>10</th>\n",
       "      <td> 0.000165</td>\n",
       "      <td> 0.001043</td>\n",
       "    </tr>\n",
       "  </tbody>\n",
       "</table>\n",
       "</div>"
      ],
      "text/plain": [
       "                    2006 Survey  2014 Survey\n",
       "Household Vehicles                          \n",
       "0                      0.073962     0.076083\n",
       "1                      0.322476     0.324382\n",
       "2                      0.373685     0.380011\n",
       "3                      0.154375     0.148108\n",
       "4                      0.050325     0.049420\n",
       "5                      0.016947     0.014988\n",
       "6                      0.005285     0.001557\n",
       "7                      0.001461     0.003137\n",
       "8                      0.000897     0.001272\n",
       "9                      0.000422          NaN\n",
       "10                     0.000165     0.001043"
      ]
     },
     "execution_count": 82,
     "metadata": {},
     "output_type": "execute_result"
    }
   ],
   "source": [
    "df_new = pd.DataFrame([df[scen_name]/df[scen_name].sum(),\n",
    "             df[base_name]/df[base_name].sum()]).T\n",
    "df_new"
   ]
  },
  {
   "cell_type": "code",
   "execution_count": 83,
   "metadata": {
    "collapsed": false
   },
   "outputs": [
    {
     "data": {
      "text/html": [
       "<div id=\"chart_idjNmaSJZQ\"</div>\n",
       "    <script type=\"text/javascript\">new Highcharts.Chart({\"title\":{\"text\":\"Auto Ownership Distribution Regionwide\"},\"series\":[{\"data\":[[0,0.0739615638],[1,0.322476045],[2,0.3736854958],[3,0.1543747146],[4,0.0503252495],[5,0.0169472951],[6,0.0052850999],[7,0.0014613638],[8,0.0008967922],[9,0.0004218403],[10,0.0001645401]],\"name\":\"2006 Survey\",\"yAxis\":0},{\"data\":[[0,0.0760825336],[1,0.3243824242],[2,0.3800113055],[3,0.1481075388],[4,0.0494203729],[5,0.0149875702],[6,0.0015568451],[7,0.0031369975],[8,0.0012715634],[9,null],[10,0.0010428488]],\"name\":\"2014 Survey\",\"yAxis\":0}],\"yAxis\":[{}],\"chart\":{\"renderTo\":\"chart_idjNmaSJZQ\",\"type\":\"column\"},\"xAxis\":{\"title\":{\"text\":\"Household Vehicles\"}},\"legend\":{\"enabled\":true}});</script>"
      ],
      "text/plain": [
       "<IPython.core.display.HTML object>"
      ]
     },
     "metadata": {},
     "output_type": "display_data"
    }
   ],
   "source": [
    "display_charts(df_new, kind='bar', title='Auto Ownership Distribution Regionwide')"
   ]
  },
  {
   "cell_type": "code",
   "execution_count": 94,
   "metadata": {
    "collapsed": false
   },
   "outputs": [
    {
     "name": "stdout",
     "output_type": "stream",
     "text": [
      "2006 Survey: 1.8735651003\n",
      "2014 Survey: 1.53171885555\n"
     ]
    }
   ],
   "source": [
    "# Average autos per household\n",
    "print scen_name + \": \" + str(sum(hh_scen['Household Vehicles']*hh_scen['Expansion Factor'])/sum(hh_scen['Expansion Factor']))\n",
    "print base_name + \": \" + str(sum(hh_base['Household Vehicles']*hh_base['Expansion Factor'])/sum(hh_base['Expansion Factor']))"
   ]
  },
  {
   "cell_type": "code",
   "execution_count": 95,
   "metadata": {
    "collapsed": true
   },
   "outputs": [],
   "source": [
    "# Auto Ownership by Income\n",
    "# Create common income ranges\n",
    "def map_income(df, in_field, out_field):\n",
    "    \n",
    "    # Define categories\n",
    "    incmap = {}\n",
    "    for i in range(0, 20000):\n",
    "        incmap.update({i: ' <20k'})\n",
    "    for i in range(20000, 40000):\n",
    "        incmap.update({i: '20k-40k'})\n",
    "    for i in range(40000, 60000):\n",
    "        incmap.update({i: '40k-60k'})\n",
    "    for i in range(60000, 75000):\n",
    "        incmap.update({i: '60k-75k'})\n",
    "    for i in range(75000, 100000):\n",
    "        incmap.update({i: '75k-100k'})\n",
    "    for i in range(100000, 150000):\n",
    "        incmap.update({i: '100k-150k'})\n",
    "    for i in range(150000, int(df[in_field].max())+1):\n",
    "        incmap.update({i: '>150k'})\n",
    "\n",
    "    df[out_field] = df[in_field].map(incmap)\n",
    "    return df"
   ]
  },
  {
   "cell_type": "code",
   "execution_count": 96,
   "metadata": {
    "collapsed": true
   },
   "outputs": [],
   "source": [
    "hh_scen = map_income(hh_scen, in_field='Household Income', out_field='Income')\n",
    "hh_base = map_income(hh_base, in_field='Household Income', out_field='Income')"
   ]
  },
  {
   "cell_type": "code",
   "execution_count": 97,
   "metadata": {
    "collapsed": false
   },
   "outputs": [
    {
     "data": {
      "text/html": [
       "<div style=\"max-height:1000px;max-width:1500px;overflow:auto;\">\n",
       "<table border=\"1\" class=\"dataframe\">\n",
       "  <thead>\n",
       "    <tr style=\"text-align: right;\">\n",
       "      <th></th>\n",
       "      <th>Expansion Factor</th>\n",
       "      <th>Household ID</th>\n",
       "      <th>Household Size</th>\n",
       "      <th>Household TAZ</th>\n",
       "      <th>Household Vehicles</th>\n",
       "      <th>Household Workers</th>\n",
       "      <th>Income</th>\n",
       "    </tr>\n",
       "    <tr>\n",
       "      <th>Household Income</th>\n",
       "      <th></th>\n",
       "      <th></th>\n",
       "      <th></th>\n",
       "      <th></th>\n",
       "      <th></th>\n",
       "      <th></th>\n",
       "      <th></th>\n",
       "    </tr>\n",
       "  </thead>\n",
       "  <tbody>\n",
       "    <tr>\n",
       "      <th>-1     </th>\n",
       "      <td> 2524</td>\n",
       "      <td> 2524</td>\n",
       "      <td> 2524</td>\n",
       "      <td> 2524</td>\n",
       "      <td> 2524</td>\n",
       "      <td> 2524</td>\n",
       "      <td>    0</td>\n",
       "    </tr>\n",
       "    <tr>\n",
       "      <th> 5000  </th>\n",
       "      <td>  225</td>\n",
       "      <td>  225</td>\n",
       "      <td>  225</td>\n",
       "      <td>  225</td>\n",
       "      <td>  225</td>\n",
       "      <td>  225</td>\n",
       "      <td>  225</td>\n",
       "    </tr>\n",
       "    <tr>\n",
       "      <th> 12500 </th>\n",
       "      <td>   14</td>\n",
       "      <td>   14</td>\n",
       "      <td>   14</td>\n",
       "      <td>   14</td>\n",
       "      <td>   14</td>\n",
       "      <td>   14</td>\n",
       "      <td>   14</td>\n",
       "    </tr>\n",
       "    <tr>\n",
       "      <th> 17500 </th>\n",
       "      <td>  513</td>\n",
       "      <td>  513</td>\n",
       "      <td>  513</td>\n",
       "      <td>  513</td>\n",
       "      <td>  513</td>\n",
       "      <td>  513</td>\n",
       "      <td>  513</td>\n",
       "    </tr>\n",
       "    <tr>\n",
       "      <th> 30000 </th>\n",
       "      <td>  455</td>\n",
       "      <td>  455</td>\n",
       "      <td>  455</td>\n",
       "      <td>  455</td>\n",
       "      <td>  455</td>\n",
       "      <td>  455</td>\n",
       "      <td>  455</td>\n",
       "    </tr>\n",
       "    <tr>\n",
       "      <th> 37500 </th>\n",
       "      <td>   42</td>\n",
       "      <td>   42</td>\n",
       "      <td>   42</td>\n",
       "      <td>   42</td>\n",
       "      <td>   42</td>\n",
       "      <td>   42</td>\n",
       "      <td>   42</td>\n",
       "    </tr>\n",
       "    <tr>\n",
       "      <th> 40000 </th>\n",
       "      <td>  642</td>\n",
       "      <td>  642</td>\n",
       "      <td>  642</td>\n",
       "      <td>  642</td>\n",
       "      <td>  642</td>\n",
       "      <td>  642</td>\n",
       "      <td>  642</td>\n",
       "    </tr>\n",
       "    <tr>\n",
       "      <th> 62500 </th>\n",
       "      <td> 1035</td>\n",
       "      <td> 1035</td>\n",
       "      <td> 1035</td>\n",
       "      <td> 1035</td>\n",
       "      <td> 1035</td>\n",
       "      <td> 1035</td>\n",
       "      <td> 1035</td>\n",
       "    </tr>\n",
       "    <tr>\n",
       "      <th> 87500 </th>\n",
       "      <td>  862</td>\n",
       "      <td>  862</td>\n",
       "      <td>  862</td>\n",
       "      <td>  862</td>\n",
       "      <td>  862</td>\n",
       "      <td>  862</td>\n",
       "      <td>  862</td>\n",
       "    </tr>\n",
       "    <tr>\n",
       "      <th> 125000</th>\n",
       "      <td>  994</td>\n",
       "      <td>  994</td>\n",
       "      <td>  994</td>\n",
       "      <td>  994</td>\n",
       "      <td>  994</td>\n",
       "      <td>  994</td>\n",
       "      <td>  994</td>\n",
       "    </tr>\n",
       "    <tr>\n",
       "      <th> 175000</th>\n",
       "      <td>  471</td>\n",
       "      <td>  471</td>\n",
       "      <td>  471</td>\n",
       "      <td>  471</td>\n",
       "      <td>  471</td>\n",
       "      <td>  471</td>\n",
       "      <td>  471</td>\n",
       "    </tr>\n",
       "    <tr>\n",
       "      <th> 225000</th>\n",
       "      <td>  159</td>\n",
       "      <td>  159</td>\n",
       "      <td>  159</td>\n",
       "      <td>  159</td>\n",
       "      <td>  159</td>\n",
       "      <td>  159</td>\n",
       "      <td>  159</td>\n",
       "    </tr>\n",
       "    <tr>\n",
       "      <th> 275000</th>\n",
       "      <td>  158</td>\n",
       "      <td>  158</td>\n",
       "      <td>  158</td>\n",
       "      <td>  158</td>\n",
       "      <td>  158</td>\n",
       "      <td>  158</td>\n",
       "      <td>  158</td>\n",
       "    </tr>\n",
       "  </tbody>\n",
       "</table>\n",
       "</div>"
      ],
      "text/plain": [
       "                  Expansion Factor  Household ID  Household Size  \\\n",
       "Household Income                                                   \n",
       "-1                            2524          2524            2524   \n",
       " 5000                          225           225             225   \n",
       " 12500                          14            14              14   \n",
       " 17500                         513           513             513   \n",
       " 30000                         455           455             455   \n",
       " 37500                          42            42              42   \n",
       " 40000                         642           642             642   \n",
       " 62500                        1035          1035            1035   \n",
       " 87500                         862           862             862   \n",
       " 125000                        994           994             994   \n",
       " 175000                        471           471             471   \n",
       " 225000                        159           159             159   \n",
       " 275000                        158           158             158   \n",
       "\n",
       "                  Household TAZ  Household Vehicles  Household Workers  Income  \n",
       "Household Income                                                                \n",
       "-1                         2524                2524               2524       0  \n",
       " 5000                       225                 225                225     225  \n",
       " 12500                       14                  14                 14      14  \n",
       " 17500                      513                 513                513     513  \n",
       " 30000                      455                 455                455     455  \n",
       " 37500                       42                  42                 42      42  \n",
       " 40000                      642                 642                642     642  \n",
       " 62500                     1035                1035               1035    1035  \n",
       " 87500                      862                 862                862     862  \n",
       " 125000                     994                 994                994     994  \n",
       " 175000                     471                 471                471     471  \n",
       " 225000                     159                 159                159     159  \n",
       " 275000                     158                 158                158     158  "
      ]
     },
     "execution_count": 97,
     "metadata": {},
     "output_type": "execute_result"
    }
   ],
   "source": [
    "hh_base.groupby('Household Income').count()"
   ]
  },
  {
   "cell_type": "code",
   "execution_count": 172,
   "metadata": {
    "collapsed": false
   },
   "outputs": [],
   "source": [
    "df_scen = pd.pivot_table(data=hh_scen, index='Household Vehicles', columns=['Income'], \n",
    "                    aggfunc='sum', values='Expansion Factor', fill_value=False, margins=False)\n",
    "df_base = pd.pivot_table(data=hh_base, index='Household Vehicles', columns=['Income'], \n",
    "                    aggfunc='sum', values='Expansion Factor', fill_value=False, margins=False)\n",
    "# Sort the columns\n",
    "df_scen = df_scen[[' <20k','20k-40k','40k-60k','60k-75k',\n",
    "                   '75k-100k','100k-150k','>150k']]\n",
    "df_base = df_base[[' <20k','20k-40k','40k-60k','60k-75k',\n",
    "                   '75k-100k','100k-150k','>150k']]"
   ]
  },
  {
   "cell_type": "code",
   "execution_count": 173,
   "metadata": {
    "collapsed": false
   },
   "outputs": [
    {
     "data": {
      "text/html": [
       "<div style=\"max-height:1000px;max-width:1500px;overflow:auto;\">\n",
       "<table border=\"1\" class=\"dataframe\">\n",
       "  <thead>\n",
       "    <tr style=\"text-align: right;\">\n",
       "      <th></th>\n",
       "      <th>2006 Survey</th>\n",
       "      <th>2014 Survey</th>\n",
       "      <th>% difference 2006-&gt;2014</th>\n",
       "    </tr>\n",
       "    <tr>\n",
       "      <th>Income</th>\n",
       "      <th></th>\n",
       "      <th></th>\n",
       "      <th></th>\n",
       "    </tr>\n",
       "  </thead>\n",
       "  <tbody>\n",
       "    <tr>\n",
       "      <th> &lt;20k</th>\n",
       "      <td> 0.826999</td>\n",
       "      <td> 1.005473</td>\n",
       "      <td> 0.215810</td>\n",
       "    </tr>\n",
       "    <tr>\n",
       "      <th>20k-40k</th>\n",
       "      <td> 1.353486</td>\n",
       "      <td> 1.361532</td>\n",
       "      <td> 0.005945</td>\n",
       "    </tr>\n",
       "    <tr>\n",
       "      <th>40k-60k</th>\n",
       "      <td> 1.843047</td>\n",
       "      <td> 1.604677</td>\n",
       "      <td>-0.129334</td>\n",
       "    </tr>\n",
       "    <tr>\n",
       "      <th>60k-75k</th>\n",
       "      <td> 2.071737</td>\n",
       "      <td> 1.851326</td>\n",
       "      <td>-0.106390</td>\n",
       "    </tr>\n",
       "    <tr>\n",
       "      <th>75k-100k</th>\n",
       "      <td> 2.337899</td>\n",
       "      <td> 2.208299</td>\n",
       "      <td>-0.055434</td>\n",
       "    </tr>\n",
       "    <tr>\n",
       "      <th>100k-150k</th>\n",
       "      <td> 2.564529</td>\n",
       "      <td> 2.367755</td>\n",
       "      <td>-0.076729</td>\n",
       "    </tr>\n",
       "    <tr>\n",
       "      <th>&gt;150k</th>\n",
       "      <td> 2.533331</td>\n",
       "      <td> 2.634852</td>\n",
       "      <td> 0.040074</td>\n",
       "    </tr>\n",
       "  </tbody>\n",
       "</table>\n",
       "</div>"
      ],
      "text/plain": [
       "           2006 Survey  2014 Survey  % difference 2006->2014\n",
       "Income                                                      \n",
       " <20k         0.826999     1.005473                 0.215810\n",
       "20k-40k       1.353486     1.361532                 0.005945\n",
       "40k-60k       1.843047     1.604677                -0.129334\n",
       "60k-75k       2.071737     1.851326                -0.106390\n",
       "75k-100k      2.337899     2.208299                -0.055434\n",
       "100k-150k     2.564529     2.367755                -0.076729\n",
       ">150k         2.533331     2.634852                 0.040074"
      ]
     },
     "execution_count": 173,
     "metadata": {},
     "output_type": "execute_result"
    }
   ],
   "source": [
    "# Calculate averages by income class\n",
    "df = pd.DataFrame([[sum(df_scen[colname]*df_scen.index)/sum(df_scen[colname]) for colname in df_scen.columns],\n",
    "                    [sum(df_base[colname]*df_base.index)/sum(df_base[colname]) for colname in df_base.columns]]).T\n",
    "df.index=df_base.columns\n",
    "df.columns=[scen_name,base_name]\n",
    "df['% difference 2006->2014']= (df[base_name]-df[scen_name])/df[scen_name]\n",
    "df"
   ]
  },
  {
   "cell_type": "code",
   "execution_count": 174,
   "metadata": {
    "collapsed": false
   },
   "outputs": [
    {
     "data": {
      "text/plain": [
       "Index([u'Age', u'Auto Distance to Work', u'Auto Time to Work', u'Expansion Factor_p', u'Household ID', u'Person Number', u'Person Type', u'School TAZ', u'Student Type', u'Transit Pass', u'Usual Commute Mode', u'Worker Type', u'Workplace TAZ', u'personID', u'Expansion Factor_h', u'Household Income', u'Household Size', u'Household TAZ', u'Household Vehicles', u'Household Workers', u'TAZ', u'TAD', u'OldDistric', u'County', u'District', u'New DistrictName'], dtype='object')"
      ]
     },
     "execution_count": 174,
     "metadata": {},
     "output_type": "execute_result"
    }
   ],
   "source": [
    "hh_per_scen_home_geog.columns"
   ]
  },
  {
   "cell_type": "code",
   "execution_count": 175,
   "metadata": {
    "collapsed": false
   },
   "outputs": [],
   "source": [
    "# Average ownership by district\n",
    "df_scen = pd.pivot_table(data=hh_per_scen_home_geog, index='Household Vehicles', columns=['New DistrictName'], \n",
    "                    aggfunc='sum', values='Expansion Factor_p', fill_value=False, margins=False)\n",
    "df_base = pd.pivot_table(data=hh_per_base_home_geog, index='Household Vehicles', columns=['New DistrictName'], \n",
    "                    aggfunc='sum', values='Expansion Factor_p', fill_value=False, margins=False)"
   ]
  },
  {
   "cell_type": "code",
   "execution_count": 176,
   "metadata": {
    "collapsed": false
   },
   "outputs": [
    {
     "data": {
      "text/html": [
       "<div style=\"max-height:1000px;max-width:1500px;overflow:auto;\">\n",
       "<table border=\"1\" class=\"dataframe\">\n",
       "  <thead>\n",
       "    <tr style=\"text-align: right;\">\n",
       "      <th></th>\n",
       "      <th>2006 Survey</th>\n",
       "      <th>2014 Survey</th>\n",
       "      <th>% difference 2006-&gt;2014</th>\n",
       "    </tr>\n",
       "    <tr>\n",
       "      <th>New DistrictName</th>\n",
       "      <th></th>\n",
       "      <th></th>\n",
       "      <th></th>\n",
       "    </tr>\n",
       "  </thead>\n",
       "  <tbody>\n",
       "    <tr>\n",
       "      <th>East Side</th>\n",
       "      <td> 2.226978</td>\n",
       "      <td> 2.224379</td>\n",
       "      <td>-0.001167</td>\n",
       "    </tr>\n",
       "    <tr>\n",
       "      <th>Everett-Lynwood-Edmonds</th>\n",
       "      <td> 1.985693</td>\n",
       "      <td> 1.906124</td>\n",
       "      <td>-0.040071</td>\n",
       "    </tr>\n",
       "    <tr>\n",
       "      <th>Kitsap</th>\n",
       "      <td> 2.368156</td>\n",
       "      <td> 2.209214</td>\n",
       "      <td>-0.067116</td>\n",
       "    </tr>\n",
       "    <tr>\n",
       "      <th>North Seattle-Shoreline</th>\n",
       "      <td> 1.899898</td>\n",
       "      <td> 1.197645</td>\n",
       "      <td>-0.369627</td>\n",
       "    </tr>\n",
       "    <tr>\n",
       "      <th>Renton-FedWay-Kent</th>\n",
       "      <td> 2.214294</td>\n",
       "      <td> 2.117594</td>\n",
       "      <td>-0.043671</td>\n",
       "    </tr>\n",
       "    <tr>\n",
       "      <th>S.Kitsap</th>\n",
       "      <td> 1.966543</td>\n",
       "      <td> 2.570041</td>\n",
       "      <td> 0.306883</td>\n",
       "    </tr>\n",
       "    <tr>\n",
       "      <th>Seattle CBD</th>\n",
       "      <td> 1.368956</td>\n",
       "      <td> 0.814066</td>\n",
       "      <td>-0.405338</td>\n",
       "    </tr>\n",
       "    <tr>\n",
       "      <th>South Pierce</th>\n",
       "      <td> 2.241079</td>\n",
       "      <td> 2.285946</td>\n",
       "      <td> 0.020020</td>\n",
       "    </tr>\n",
       "    <tr>\n",
       "      <th>Suburban Snohomish</th>\n",
       "      <td> 2.670453</td>\n",
       "      <td> 2.289971</td>\n",
       "      <td>-0.142478</td>\n",
       "    </tr>\n",
       "    <tr>\n",
       "      <th>Tacoma</th>\n",
       "      <td> 2.137104</td>\n",
       "      <td> 2.035064</td>\n",
       "      <td>-0.047747</td>\n",
       "    </tr>\n",
       "    <tr>\n",
       "      <th>West-South Seattle</th>\n",
       "      <td> 1.953293</td>\n",
       "      <td> 1.842189</td>\n",
       "      <td>-0.056880</td>\n",
       "    </tr>\n",
       "  </tbody>\n",
       "</table>\n",
       "</div>"
      ],
      "text/plain": [
       "                         2006 Survey  2014 Survey  % difference 2006->2014\n",
       "New DistrictName                                                          \n",
       "East Side                   2.226978     2.224379                -0.001167\n",
       "Everett-Lynwood-Edmonds     1.985693     1.906124                -0.040071\n",
       "Kitsap                      2.368156     2.209214                -0.067116\n",
       "North Seattle-Shoreline     1.899898     1.197645                -0.369627\n",
       "Renton-FedWay-Kent          2.214294     2.117594                -0.043671\n",
       "S.Kitsap                    1.966543     2.570041                 0.306883\n",
       "Seattle CBD                 1.368956     0.814066                -0.405338\n",
       "South Pierce                2.241079     2.285946                 0.020020\n",
       "Suburban Snohomish          2.670453     2.289971                -0.142478\n",
       "Tacoma                      2.137104     2.035064                -0.047747\n",
       "West-South Seattle          1.953293     1.842189                -0.056880"
      ]
     },
     "execution_count": 176,
     "metadata": {},
     "output_type": "execute_result"
    }
   ],
   "source": [
    "# Calculate averages by district\n",
    "df = pd.DataFrame([[sum(df_scen[colname]*df_scen.index)/sum(df_scen[colname]) for colname in df_scen.columns],\n",
    "                    [sum(df_base[colname]*df_base.index)/sum(df_base[colname]) for colname in df_base.columns]]).T\n",
    "df.index=df_base.columns\n",
    "df.columns=[scen_name,base_name]\n",
    "df\n",
    "df['% difference 2006->2014']= (df[base_name]-df[scen_name])/df[scen_name]\n",
    "df"
   ]
  },
  {
   "cell_type": "code",
   "execution_count": 183,
   "metadata": {
    "collapsed": false
   },
   "outputs": [],
   "source": [
    "# Average ownership by county\n",
    "df_scen = pd.pivot_table(data=hh_per_scen_home_geog, index='Household Vehicles', columns=['County'], \n",
    "                    aggfunc='sum', values='Expansion Factor_p', fill_value=False, margins=False)\n",
    "df_base = pd.pivot_table(data=hh_per_base_home_geog, index='Household Vehicles', columns=['County'], \n",
    "                    aggfunc='sum', values='Expansion Factor_p', fill_value=False, margins=False)"
   ]
  },
  {
   "cell_type": "code",
   "execution_count": 178,
   "metadata": {
    "collapsed": false
   },
   "outputs": [
    {
     "data": {
      "text/html": [
       "<div style=\"max-height:1000px;max-width:1500px;overflow:auto;\">\n",
       "<table border=\"1\" class=\"dataframe\">\n",
       "  <thead>\n",
       "    <tr style=\"text-align: right;\">\n",
       "      <th></th>\n",
       "      <th>2006 Survey</th>\n",
       "      <th>2014 Survey</th>\n",
       "      <th>% difference 2006-&gt;2014</th>\n",
       "    </tr>\n",
       "    <tr>\n",
       "      <th>County</th>\n",
       "      <th></th>\n",
       "      <th></th>\n",
       "      <th></th>\n",
       "    </tr>\n",
       "  </thead>\n",
       "  <tbody>\n",
       "    <tr>\n",
       "      <th>King</th>\n",
       "      <td> 2.053105</td>\n",
       "      <td> 1.832945</td>\n",
       "      <td>-0.107233</td>\n",
       "    </tr>\n",
       "    <tr>\n",
       "      <th>Kitsap</th>\n",
       "      <td> 2.368156</td>\n",
       "      <td> 2.209214</td>\n",
       "      <td>-0.067116</td>\n",
       "    </tr>\n",
       "    <tr>\n",
       "      <th>Pierce</th>\n",
       "      <td> 2.180297</td>\n",
       "      <td> 2.228792</td>\n",
       "      <td> 0.022242</td>\n",
       "    </tr>\n",
       "    <tr>\n",
       "      <th>Snohomish</th>\n",
       "      <td> 2.399664</td>\n",
       "      <td> 2.144242</td>\n",
       "      <td>-0.106441</td>\n",
       "    </tr>\n",
       "  </tbody>\n",
       "</table>\n",
       "</div>"
      ],
      "text/plain": [
       "           2006 Survey  2014 Survey  % difference 2006->2014\n",
       "County                                                      \n",
       "King          2.053105     1.832945                -0.107233\n",
       "Kitsap        2.368156     2.209214                -0.067116\n",
       "Pierce        2.180297     2.228792                 0.022242\n",
       "Snohomish     2.399664     2.144242                -0.106441"
      ]
     },
     "execution_count": 178,
     "metadata": {},
     "output_type": "execute_result"
    }
   ],
   "source": [
    "# Calculate averages by county\n",
    "df = pd.DataFrame([[sum(df_scen[colname]*df_scen.index)/sum(df_scen[colname]) for colname in df_scen.columns],\n",
    "                    [sum(df_base[colname]*df_base.index)/sum(df_base[colname]) for colname in df_base.columns]]).T\n",
    "df.index=df_base.columns\n",
    "df.columns=[scen_name,base_name]\n",
    "df\n",
    "df['% difference 2006->2014']= (df[base_name]-df[scen_name])/df[scen_name]\n",
    "df"
   ]
  },
  {
   "cell_type": "code",
   "execution_count": null,
   "metadata": {
    "collapsed": true
   },
   "outputs": [],
   "source": []
  }
 ],
 "metadata": {
  "kernelspec": {
   "display_name": "Python 2",
   "language": "python",
   "name": "python2"
  },
  "language_info": {
   "codemirror_mode": {
    "name": "ipython",
    "version": 2
   },
   "file_extension": ".py",
   "mimetype": "text/x-python",
   "name": "python",
   "nbconvert_exporter": "python",
   "pygments_lexer": "ipython2",
   "version": "2.7.9"
  }
 },
 "nbformat": 4,
 "nbformat_minor": 0
}
