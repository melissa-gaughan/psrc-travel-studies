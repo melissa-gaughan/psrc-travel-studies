{
 "cells": [
  {
   "cell_type": "code",
   "execution_count": 1,
   "metadata": {
    "collapsed": true
   },
   "outputs": [],
   "source": [
    "import h5py\n",
    "import pandas as pd\n",
    "import matplotlib.pyplot as plt\n",
    "import pylab as P"
   ]
  },
  {
   "cell_type": "code",
   "execution_count": 2,
   "metadata": {
    "collapsed": false
   },
   "outputs": [
    {
     "name": "stdout",
     "output_type": "stream",
     "text": [
      "Populating the interactive namespace from numpy and matplotlib\n"
     ]
    }
   ],
   "source": [
    "# Show charts in notebook\n",
    "%pylab inline"
   ]
  },
  {
   "cell_type": "code",
   "execution_count": 3,
   "metadata": {
    "collapsed": true
   },
   "outputs": [],
   "source": [
    "# Set main model directory to parent directory\n",
    "\n",
    "# 2006 survey\n",
    "model_dir = r'R:\\SoundCast\\releases\\TransportationFutures2010\\scripts\\summarize'\n",
    "\n",
    "# 2014 survey\n",
    "base_dir = r'R:\\SoundCast\\releases\\TransportationFutures2010\\scripts\\summarize'"
   ]
  },
  {
   "cell_type": "code",
   "execution_count": 4,
   "metadata": {
    "collapsed": true
   },
   "outputs": [],
   "source": [
    "# Read Model Scenario Results\n",
    "scen = h5py.File(model_dir + r'/survey.h5','r+')\n",
    "scen_name = '2006 Survey'"
   ]
  },
  {
   "cell_type": "code",
   "execution_count": 5,
   "metadata": {
    "collapsed": true
   },
   "outputs": [],
   "source": [
    "# Read Base Data\n",
    "base_file = r'/survey14.h5'\n",
    "\n",
    "base = h5py.File(base_dir + base_file ,'r+')\n",
    "base_name = '2014 Survey'"
   ]
  },
  {
   "cell_type": "code",
   "execution_count": 15,
   "metadata": {
    "collapsed": false
   },
   "outputs": [
    {
     "data": {
      "text/plain": [
       "{'test': 2}"
      ]
     },
     "execution_count": 15,
     "metadata": {},
     "output_type": "execute_result"
    }
   ],
   "source": [
    "data = {}\n",
    "data['test'] = 2\n",
    "data"
   ]
  },
  {
   "cell_type": "code",
   "execution_count": 22,
   "metadata": {
    "collapsed": true
   },
   "outputs": [],
   "source": [
    "def build_df(h5file, h5table, var_dict, survey_file=False):\n",
    "    ''' Convert H5 into dataframe '''\n",
    "    data = {}\n",
    "    if survey_file:\n",
    "        # survey h5 have nested data structure, different than daysim_outputs\n",
    "        for col_name, var in var_dict.iteritems():\n",
    "            data[col_name] = [i[0] for i in h5file[h5table][var][:]]\n",
    "    else:\n",
    "        for col_name, var in var_dict.iteritems():\n",
    "            data[col_name] = [i for i in h5file[h5table][var][:]]\n",
    "\n",
    "    return pd.DataFrame(data)"
   ]
  },
  {
   "cell_type": "code",
   "execution_count": 26,
   "metadata": {
    "collapsed": true
   },
   "outputs": [],
   "source": [
    "tripdict={'Household ID': 'hhno',\n",
    "            'Person Number': 'pno',\n",
    "            'Travel Time':'travtime',\n",
    "            'Travel Cost': 'travcost',\n",
    "            'Travel Distance': 'travdist',\n",
    "            'Mode': 'mode',\n",
    "            'Purpose':'dpurp',\n",
    "            'Departure Time': 'deptm',\n",
    "            'Expansion Factor': 'trexpfac'}"
   ]
  },
  {
   "cell_type": "code",
   "execution_count": 28,
   "metadata": {
    "collapsed": false
   },
   "outputs": [],
   "source": [
    "trip_scen = build_df(h5file=scen, h5table='Trip', var_dict=tripdict, survey_file=True)\n",
    "trip_base = build_df(h5file=base, h5table='Trip', var_dict=tripdict, survey_file=True)"
   ]
  },
  {
   "cell_type": "code",
   "execution_count": 7,
   "metadata": {
    "collapsed": false
   },
   "outputs": [],
   "source": [
    "# Get trip data into a single dataframe for base and scen\n",
    "trip_scen = pd.DataFrame(data={'Household ID': [i[0] for i in scen['Trip']['hhno'][:]],\n",
    "                               'Person Number': [i[0] for i in scen['Trip']['pno'][:]],\n",
    "                                'Travel Time': [i[0] for i in scen['Trip']['travtime'][:]],\n",
    "                                'Travel Cost': [i[0] for i in scen['Trip']['travcost'][:]],\n",
    "                                'Travel Distance': [i[0] for i in scen['Trip']['travdist'][:]],\n",
    "                                'Mode': [i[0] for i in scen['Trip']['mode'][:]],\n",
    "                                'Purpose': [i[0] for i in scen['Trip']['dpurp'][:]],\n",
    "                                'Departure Time': [i[0] for i in scen['Trip']['deptm'][:]],\n",
    "                                'Expansion Factor': [i[0] for i in scen['Trip']['trexpfac'][:]]})\n",
    "\n",
    "trip_base = pd.DataFrame(data={'Household ID': [i[0] for i in base['Trip']['hhno'][:]],\n",
    "                               'Person Number': [i[0] for i in base['Trip']['pno'][:]],\n",
    "                                'Travel Time': [i[0] for i in base['Trip']['travtime'][:]],\n",
    "                                'Travel Cost': [i[0] for i in base['Trip']['travcost'][:]],\n",
    "                                'Travel Distance': [i[0] for i in base['Trip']['travdist'][:]],\n",
    "                                'Mode': [i[0] for i in base['Trip']['mode'][:]],\n",
    "                                'Purpose': [i[0] for i in base['Trip']['dpurp'][:]],\n",
    "                                'Departure Time': [i[0] for i in base['Trip']['deptm'][:]],\n",
    "                                'Expansion Factor': [i[0] for i in base['Trip']['trexpfac'][:]]})\n"
   ]
  },
  {
   "cell_type": "code",
   "execution_count": 13,
   "metadata": {
    "collapsed": false
   },
   "outputs": [
    {
     "ename": "IndexError",
     "evalue": "invalid index",
     "output_type": "error",
     "traceback": [
      "\u001b[1;31m---------------------------------------------------------------------------\u001b[0m",
      "\u001b[1;31mIndexError\u001b[0m                                Traceback (most recent call last)",
      "\u001b[1;32m<ipython-input-13-03ebafefc89e>\u001b[0m in \u001b[0;36m<module>\u001b[1;34m()\u001b[0m\n\u001b[1;32m----> 1\u001b[1;33m \u001b[1;33m[\u001b[0m\u001b[0mi\u001b[0m\u001b[1;33m[\u001b[0m\u001b[1;33m:\u001b[0m\u001b[1;33m]\u001b[0m \u001b[1;32mfor\u001b[0m \u001b[0mi\u001b[0m \u001b[1;32min\u001b[0m \u001b[0mbase\u001b[0m\u001b[1;33m[\u001b[0m\u001b[1;34m'Trip'\u001b[0m\u001b[1;33m]\u001b[0m\u001b[1;33m[\u001b[0m\u001b[1;34m'pno'\u001b[0m\u001b[1;33m]\u001b[0m\u001b[1;33m[\u001b[0m\u001b[1;33m:\u001b[0m\u001b[1;33m]\u001b[0m\u001b[1;33m]\u001b[0m\u001b[1;33m\u001b[0m\u001b[0m\n\u001b[0m",
      "\u001b[1;31mIndexError\u001b[0m: invalid index"
     ]
    }
   ],
   "source": [
    "[i[:] for i in base['Trip']['pno'][:]]"
   ]
  },
  {
   "cell_type": "code",
   "execution_count": null,
   "metadata": {
    "collapsed": true
   },
   "outputs": [],
   "source": []
  },
  {
   "cell_type": "code",
   "execution_count": null,
   "metadata": {
    "collapsed": true
   },
   "outputs": [],
   "source": []
  },
  {
   "cell_type": "code",
   "execution_count": null,
   "metadata": {
    "collapsed": true
   },
   "outputs": [],
   "source": []
  },
  {
   "cell_type": "code",
   "execution_count": null,
   "metadata": {
    "collapsed": true
   },
   "outputs": [],
   "source": []
  },
  {
   "cell_type": "code",
   "execution_count": null,
   "metadata": {
    "collapsed": false,
    "scrolled": true
   },
   "outputs": [],
   "source": [
    "csv_trip['deptm'].describe()"
   ]
  },
  {
   "cell_type": "code",
   "execution_count": null,
   "metadata": {
    "collapsed": true
   },
   "outputs": [],
   "source": [
    "# myh5 = h5py.File('J:/Projects/Surveys/HHTravel/Survey2014/Data/DaySim/survey14.h5')"
   ]
  },
  {
   "cell_type": "code",
   "execution_count": null,
   "metadata": {
    "collapsed": false
   },
   "outputs": [],
   "source": []
  },
  {
   "cell_type": "code",
   "execution_count": null,
   "metadata": {
    "collapsed": true
   },
   "outputs": [],
   "source": []
  },
  {
   "cell_type": "code",
   "execution_count": null,
   "metadata": {
    "collapsed": false
   },
   "outputs": [],
   "source": []
  },
  {
   "cell_type": "code",
   "execution_count": null,
   "metadata": {
    "collapsed": false
   },
   "outputs": [],
   "source": []
  },
  {
   "cell_type": "code",
   "execution_count": null,
   "metadata": {
    "collapsed": true
   },
   "outputs": [],
   "source": []
  },
  {
   "cell_type": "code",
   "execution_count": null,
   "metadata": {
    "collapsed": false
   },
   "outputs": [],
   "source": []
  },
  {
   "cell_type": "code",
   "execution_count": null,
   "metadata": {
    "collapsed": false
   },
   "outputs": [],
   "source": [
    "# Plot departure time from daysim outputs\n",
    "myh5 = h5py.File(r'R:\\SoundCast\\releases\\soundcast_release_c1\\outputs\\daysim_outputs.h5')\n",
    "\n",
    "trip = myh5['Trip']\n",
    "\n",
    "deptime = pd.DataFrame(trip['deptm'][:])\n",
    "deptimehr = (deptime/60).astype(int)\n",
    "\n",
    "bins = 24\n",
    "P.hist(deptimehr[0], bins=bins, normed=True, histtype='step', color='b')\n",
    "P.xticks(range(25))\n",
    "P.title('Daysim Outputs')\n",
    "P.xlabel('Time of Day')\n",
    "P.show()"
   ]
  },
  {
   "cell_type": "code",
   "execution_count": null,
   "metadata": {
    "collapsed": false
   },
   "outputs": [],
   "source": [
    "deptimehr_new"
   ]
  },
  {
   "cell_type": "code",
   "execution_count": null,
   "metadata": {
    "collapsed": false
   },
   "outputs": [],
   "source": [
    "# Plot departure time from 2014 survey\n",
    "\n",
    "myh5 = h5py.File(r'R:\\SoundCast\\releases\\soundcast_release_c1\\outputs\\daysim_outputs.h5')\n",
    "\n",
    "trip = myh5['Trip']\n",
    "\n",
    "deptime = pd.DataFrame(trip['deptm'][:])\n",
    "deptimehr = (deptime/60).astype(int)\n",
    "\n",
    "\n",
    "newmyh5 = h5py.File('J:/Projects/Surveys/HHTravel/Survey2014/Data/DaySim/survey14.h5')\n",
    "\n",
    "newtrip = newmyh5['Trip']\n",
    "\n",
    "deptime_new = pd.DataFrame(newtrip['deptm'][:])\n",
    "deptimehr_new = (deptime_new/60).astype(int)\n",
    "\n",
    "bins = 24\n",
    "\n",
    "# [p1;p2],[n1;n2]\n",
    "\n",
    "P.hist([deptimehr[0], deptimehr_new['deptm']], bins=24, normed=True, histtype='step', color=['b','r'], label=['Daysim','2014 Survey'])\n",
    "P.xticks(range(25))\n",
    "P.title('Daysim vs. Survey 2014')\n",
    "P.xlabel('Time of Day')\n",
    "P.legend()\n",
    "P.show()"
   ]
  },
  {
   "cell_type": "code",
   "execution_count": null,
   "metadata": {
    "collapsed": true
   },
   "outputs": [],
   "source": [
    "# Show "
   ]
  },
  {
   "cell_type": "code",
   "execution_count": null,
   "metadata": {
    "collapsed": false
   },
   "outputs": [],
   "source": [
    "pd.DataFrame(trip['travdist'][:]).describe()"
   ]
  },
  {
   "cell_type": "markdown",
   "metadata": {},
   "source": [
    "Fill travdist, travcost, and travtime with non-negative values"
   ]
  },
  {
   "cell_type": "code",
   "execution_count": null,
   "metadata": {
    "collapsed": false
   },
   "outputs": [],
   "source": [
    "myh5 = h5py.File(r'R:\\SoundCast\\releases\\TransportationFutures2010\\scripts\\summarize\\survey14.h5')\n",
    "trip = myh5['Trip']\n",
    "\n",
    "for table in ['travcost','travtime','travdist']:\n",
    "    # Original file has -1 as filler for these fields, replace with +1\n",
    "    trip[table][:]=np.ones(len(trip[table][:]))"
   ]
  },
  {
   "cell_type": "code",
   "execution_count": null,
   "metadata": {
    "collapsed": false
   },
   "outputs": [],
   "source": [
    "# Replace negative expansion factors (for person rows) with +1\n",
    "\n",
    "counter=0\n",
    "for record in person['psexpfac']:\n",
    "    if person['psexpfac'][counter][0] < 0:\n",
    "        person['psexpfac'][counter] = np.array(1)    # replace with 1 for now\n",
    "        print person['psexpfac'][counter][0]\n",
    "        print counter\n",
    "    counter +=1"
   ]
  },
  {
   "cell_type": "code",
   "execution_count": null,
   "metadata": {
    "collapsed": false
   },
   "outputs": [],
   "source": [
    "# Replace all negative values from -1 to 1 on distance to work\n",
    "person = myh5['Person']\n",
    "\n",
    "for field in ['psaudist','pwaudist']:\n",
    "    counter=0\n",
    "    for record in person[field]:\n",
    "        if person[field][counter][0] < 0:\n",
    "            # replace with 1 must be float, can probably get a float 1 otherwise\n",
    "            # but this worked first\n",
    "#             person[field][counter][0] = np.ones(1)[0]    \n",
    "            person[field][counter][0] = 1.0\n",
    "            #print type(person[field][counter][0])\n",
    "    counter +=1"
   ]
  },
  {
   "cell_type": "code",
   "execution_count": null,
   "metadata": {
    "collapsed": true
   },
   "outputs": [],
   "source": []
  }
 ],
 "metadata": {
  "kernelspec": {
   "display_name": "Python 2",
   "language": "python",
   "name": "python2"
  },
  "language_info": {
   "codemirror_mode": {
    "name": "ipython",
    "version": 2
   },
   "file_extension": ".py",
   "mimetype": "text/x-python",
   "name": "python",
   "nbconvert_exporter": "python",
   "pygments_lexer": "ipython2",
   "version": "2.7.9"
  }
 },
 "nbformat": 4,
 "nbformat_minor": 0
}
