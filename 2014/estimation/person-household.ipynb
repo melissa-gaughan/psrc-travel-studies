{
 "cells": [
  {
   "cell_type": "markdown",
   "metadata": {
    "collapsed": false
   },
   "source": [
    "## Daysim Person and Household Models"
   ]
  },
  {
   "cell_type": "markdown",
   "metadata": {},
   "source": [
    "*Summaries:*\n",
    "    - Total People & Workers\n",
    "    - Household Size\n",
    "    - County Population\n",
    "    - Age Distribution\n",
    "    - Worker Types\n",
    "    - Distance to Work\n",
    "    - Transit Pass Ownership\n",
    "    - Vehicle Ownership\n",
    "---"
   ]
  },
  {
   "cell_type": "code",
   "execution_count": 721,
   "metadata": {
    "collapsed": false
   },
   "outputs": [
    {
     "data": {
      "text/html": [
       "<script>\n",
       "code_show=true; \n",
       "function code_toggle() {\n",
       " if (code_show){\n",
       " $('div.input').hide();\n",
       " } else {\n",
       " $('div.input').show();\n",
       " }\n",
       " code_show = !code_show\n",
       "} \n",
       "$( document ).ready(code_toggle);\n",
       "</script>\n",
       "<form action=\"javascript:code_toggle()\"><input type=\"submit\" value=\"Click here to toggle on/off the raw code.\"></form>"
      ],
      "text/plain": [
       "<IPython.core.display.HTML object>"
      ]
     },
     "execution_count": 721,
     "metadata": {},
     "output_type": "execute_result"
    }
   ],
   "source": [
    "from IPython.display import HTML\n",
    "\n",
    "HTML('''<script>\n",
    "code_show=true; \n",
    "function code_toggle() {\n",
    " if (code_show){\n",
    " $('div.input').hide();\n",
    " } else {\n",
    " $('div.input').show();\n",
    " }\n",
    " code_show = !code_show\n",
    "} \n",
    "$( document ).ready(code_toggle);\n",
    "</script>\n",
    "<form action=\"javascript:code_toggle()\"><input type=\"submit\" value=\"Click here to toggle on/off the raw code.\"></form>''')"
   ]
  },
  {
   "cell_type": "code",
   "execution_count": 722,
   "metadata": {
    "collapsed": false
   },
   "outputs": [],
   "source": [
    "import os\n",
    "import numpy as np\n",
    "import pandas as pd\n",
    "import h5py\n",
    "import pylab as P\n",
    "from IPython.display import display, display_pretty, Javascript, HTML\n",
    "from pandas_highcharts.core import serialize\n",
    "from pandas_highcharts.display import display_charts\n",
    "import matplotlib.pyplot as plt\n",
    "\n",
    "# Show charts in notebook\n",
    "# %pylab inline"
   ]
  },
  {
   "cell_type": "code",
   "execution_count": null,
   "metadata": {
    "collapsed": true
   },
   "outputs": [],
   "source": []
  },
  {
   "cell_type": "code",
   "execution_count": 723,
   "metadata": {
    "collapsed": false
   },
   "outputs": [],
   "source": [
    "# Set main model directory to parent directory\n",
    "\n",
    "# 2006 survey\n",
    "model_dir = r'R:\\SoundCast\\releases\\TransportationFutures2010\\scripts\\summarize'\n",
    "\n",
    "# 2014 survey\n",
    "base_dir = r'R:\\SoundCast\\releases\\TransportationFutures2010\\scripts\\summarize' "
   ]
  },
  {
   "cell_type": "code",
   "execution_count": null,
   "metadata": {
    "collapsed": true
   },
   "outputs": [],
   "source": []
  },
  {
   "cell_type": "code",
   "execution_count": 724,
   "metadata": {
    "collapsed": false
   },
   "outputs": [],
   "source": [
    "# Read Model Scenario Results\n",
    "scen = h5py.File(model_dir + r'/survey.h5','r+')\n",
    "scen_name = '2006 Survey'"
   ]
  },
  {
   "cell_type": "code",
   "execution_count": 725,
   "metadata": {
    "collapsed": false
   },
   "outputs": [],
   "source": [
    "# Read Base Data\n",
    "base_file = r'/survey14.h5'\n",
    "\n",
    "base = h5py.File(base_dir + base_file ,'r+')\n",
    "base_name = '2014 Survey'"
   ]
  },
  {
   "cell_type": "code",
   "execution_count": 726,
   "metadata": {
    "collapsed": false
   },
   "outputs": [],
   "source": [
    "# Get person data into a single dataframe for base and scen\n",
    "data_table = 'Person'\n",
    "\n",
    "person_scen = pd.DataFrame(data={'Household ID': [i[0] for i in scen[data_table]['hhno'][:]],\n",
    "                               'Person Number': [i[0] for i in scen[data_table]['pno'][:]],\n",
    "                               'Transit Pass': [i[0] for i in scen[data_table]['ptpass'][:]],\n",
    "                                'Auto Time to Work': [i[0] for i in scen[data_table]['pwautime'][:]],\n",
    "                                'Auto Distance to Work': [i[0] for i in scen[data_table]['pwaudist'][:]],\n",
    "                                'Worker Type': [i[0] for i in scen[data_table]['pwtyp'][:]],\n",
    "                                'Student Type': [i[0] for i in scen[data_table]['pstyp'][:]],\n",
    "                                'Usual Commute Mode': [i[0] for i in scen[data_table]['pwtaz'][:]],\n",
    "                                'Workplace TAZ': [i[0] for i in scen[data_table]['pwtaz'][:]],\n",
    "                                'Age': [i[0] for i in scen[data_table]['pagey'][:]],\n",
    "                                'Expansion Factor': [i[0] for i in scen[data_table]['psexpfac'][:]]})\n",
    "\n",
    "person_base = pd.DataFrame(data={'Household ID': [i[0] for i in base[data_table]['hhno'][:]],\n",
    "                                 'Person Number': [i[0] for i in base[data_table]['pno'][:]],\n",
    "                                 'Transit Pass': [i[0] for i in base[data_table]['ptpass'][:]],\n",
    "                                 'Auto Time to Work': [i[0] for i in base[data_table]['ptpass'][:]],\n",
    "                                 'Auto Distance to Work': [i[0] for i in base[data_table]['pwautime'][:]],\n",
    "                                 'Worker Type': [i[0] for i in base[data_table]['pwtyp'][:]],\n",
    "                                 'Student Type': [i[0] for i in base[data_table]['pstyp'][:]],\n",
    "                                 'Usual Commute Mode': [i[0] for i in base[data_table]['puwmode'][:]],\n",
    "                                 'Workplace TAZ': [i[0] for i in base[data_table]['pwtaz'][:]],\n",
    "                                 'Age': [i[0] for i in base[data_table]['pagey'][:]],\n",
    "                                 'Expansion Factor': [i[0] for i in base[data_table]['psexpfac'][:]]})"
   ]
  },
  {
   "cell_type": "code",
   "execution_count": 727,
   "metadata": {
    "collapsed": false
   },
   "outputs": [],
   "source": [
    "# Create unique ID for person by concatenating household ID and person number \n",
    "person_scen['personID'] = (person_scen['Household ID'].astype('str')+person_scen['Person Number'].astype('str')).astype('int')\n",
    "person_base['personID'] = (person_base['Household ID'].astype('str')+person_base['Person Number'].astype('str')).astype('int')"
   ]
  },
  {
   "cell_type": "code",
   "execution_count": 728,
   "metadata": {
    "collapsed": false
   },
   "outputs": [],
   "source": [
    "# Get household data into a single dataframe for base and scen\n",
    "data_table = 'Household'\n",
    "\n",
    "hh_scen = pd.DataFrame(data={'Household ID': [i[0] for i in scen[data_table]['hhno'][:]],\n",
    "                                'Household Size': [i[0] for i in scen[data_table]['hhsize'][:]],\n",
    "                                'Household Vehicles': [i[0] for i in scen[data_table]['hhvehs'][:]],\n",
    "                                 'Household Workers': [i[0] for i in scen[data_table]['hhwkrs'][:]],\n",
    "                                 'Household Income': [i[0] for i in scen[data_table]['hhincome'][:]],\n",
    "                                 'Household TAZ': [i[0] for i in scen[data_table]['hhtaz'][:]],\n",
    "                                 'Expansion Factor': [i[0] for i in scen[data_table]['hhexpfac'][:]]})\n",
    "\n",
    "hh_base = pd.DataFrame(data={'Household ID': [i[0] for i in base[data_table]['hhno'][:]],\n",
    "                                 'Household Size': [i[0] for i in base[data_table]['hhsize'][:]],\n",
    "                                 'Household Vehicles': [i[0] for i in base[data_table]['hhvehs'][:]],\n",
    "                                 'Household Workers': [i[0] for i in base[data_table]['hhwkrs'][:]],\n",
    "                                 'Household Income': [i[0] for i in base[data_table]['hhincome'][:]],\n",
    "                                 'Household TAZ': [i[0] for i in base[data_table]['hhtaz'][:]],\n",
    "                                 'Expansion Factor': [i[0] for i in base[data_table]['hhexpfac'][:]]})"
   ]
  },
  {
   "cell_type": "code",
   "execution_count": 729,
   "metadata": {
    "collapsed": false
   },
   "outputs": [],
   "source": [
    "# Add labels for worker type\n",
    "labels = {\n",
    "  0: \"Not a worker\",  \n",
    "  1: \"Full-time worker\",\n",
    "  2: \"Part-time worker\",\n",
    "}\n",
    "\n",
    "person_base['Worker Type'] = ([labels[x] for x in person_base['Worker Type']])\n",
    "person_scen['Worker Type'] = ([labels[x] for x in person_scen['Worker Type']])"
   ]
  },
  {
   "cell_type": "code",
   "execution_count": 730,
   "metadata": {
    "collapsed": false
   },
   "outputs": [],
   "source": [
    "# # Add labels for student type\n",
    "# labels = {\n",
    "#   0: \"Not a student\",  \n",
    "#   1: \"Full-time student\",\n",
    "#   2: \"Part-time student\",\n",
    "# }\n",
    "\n",
    "# person_base['Student Type'] = ([labels[x] for x in person_base['Student Type']])\n",
    "# person_scen['Student Type'] = ([labels[x] for x in person_scen['Student Type']])"
   ]
  },
  {
   "cell_type": "code",
   "execution_count": 731,
   "metadata": {
    "collapsed": false
   },
   "outputs": [],
   "source": [
    "# Join household records to person records\n",
    "hh_per_scen = person_scen.join(hh_scen,on='Household ID',lsuffix='_p',rsuffix='_h')\n",
    "hh_per_base = person_base.join(hh_base,on='Household ID',lsuffix='_p',rsuffix='_h')"
   ]
  },
  {
   "cell_type": "code",
   "execution_count": 732,
   "metadata": {
    "collapsed": true
   },
   "outputs": [],
   "source": [
    "# Join geography information to these cells"
   ]
  },
  {
   "cell_type": "code",
   "execution_count": null,
   "metadata": {
    "collapsed": true
   },
   "outputs": [],
   "source": []
  },
  {
   "cell_type": "markdown",
   "metadata": {},
   "source": [
    "## Total People"
   ]
  },
  {
   "cell_type": "code",
   "execution_count": 733,
   "metadata": {
    "collapsed": false
   },
   "outputs": [
    {
     "name": "stdout",
     "output_type": "stream",
     "text": [
      "2006 Survey: 10510\n",
      "2014 Survey: 14250\n"
     ]
    }
   ],
   "source": [
    "print scen_name + \": \"+ str(person_scen['personID'].count()).split('.')[0]\n",
    "print base_name + \": \"+ str(person_base['personID'].count()).split('.')[0]"
   ]
  },
  {
   "cell_type": "markdown",
   "metadata": {},
   "source": [
    "## Average Household Size"
   ]
  },
  {
   "cell_type": "code",
   "execution_count": 734,
   "metadata": {
    "collapsed": false
   },
   "outputs": [
    {
     "name": "stdout",
     "output_type": "stream",
     "text": [
      "2006 Survey: 2.21683189201\n",
      "2014 Survey: 1.76130467013\n"
     ]
    }
   ],
   "source": [
    "print scen_name + \": \"+ str(hh_scen['Household Size'].mean())\n",
    "print base_name + \": \"+ str(hh_base['Household Size'].mean())"
   ]
  },
  {
   "cell_type": "markdown",
   "metadata": {},
   "source": [
    "## Household Size Distribution"
   ]
  },
  {
   "cell_type": "code",
   "execution_count": 735,
   "metadata": {
    "collapsed": false
   },
   "outputs": [
    {
     "data": {
      "text/html": [
       "<div style=\"max-height:1000px;max-width:1500px;overflow:auto;\">\n",
       "<table border=\"1\" class=\"dataframe\">\n",
       "  <thead>\n",
       "    <tr style=\"text-align: right;\">\n",
       "      <th></th>\n",
       "      <th>2006 Survey</th>\n",
       "      <th>2014 Survey</th>\n",
       "    </tr>\n",
       "    <tr>\n",
       "      <th>Household Size</th>\n",
       "      <th></th>\n",
       "      <th></th>\n",
       "    </tr>\n",
       "  </thead>\n",
       "  <tbody>\n",
       "    <tr>\n",
       "      <th>1</th>\n",
       "      <td> 1544</td>\n",
       "      <td> 4253</td>\n",
       "    </tr>\n",
       "    <tr>\n",
       "      <th>2</th>\n",
       "      <td> 1746</td>\n",
       "      <td> 2444</td>\n",
       "    </tr>\n",
       "    <tr>\n",
       "      <th>3</th>\n",
       "      <td>  621</td>\n",
       "      <td>  723</td>\n",
       "    </tr>\n",
       "    <tr>\n",
       "      <th>4</th>\n",
       "      <td>  613</td>\n",
       "      <td>  497</td>\n",
       "    </tr>\n",
       "    <tr>\n",
       "      <th>5</th>\n",
       "      <td>  158</td>\n",
       "      <td>  123</td>\n",
       "    </tr>\n",
       "    <tr>\n",
       "      <th>6</th>\n",
       "      <td>   49</td>\n",
       "      <td>   37</td>\n",
       "    </tr>\n",
       "    <tr>\n",
       "      <th>7</th>\n",
       "      <td>    5</td>\n",
       "      <td>   15</td>\n",
       "    </tr>\n",
       "    <tr>\n",
       "      <th>8</th>\n",
       "      <td>    5</td>\n",
       "      <td>    2</td>\n",
       "    </tr>\n",
       "  </tbody>\n",
       "</table>\n",
       "</div>"
      ],
      "text/plain": [
       "                2006 Survey  2014 Survey\n",
       "Household Size                          \n",
       "1                      1544         4253\n",
       "2                      1746         2444\n",
       "3                       621          723\n",
       "4                       613          497\n",
       "5                       158          123\n",
       "6                        49           37\n",
       "7                         5           15\n",
       "8                         5            2"
      ]
     },
     "execution_count": 735,
     "metadata": {},
     "output_type": "execute_result"
    }
   ],
   "source": [
    "df = pd.DataFrame([hh_scen.groupby('Household Size').count()['Household ID'],\n",
    "                   hh_base.groupby('Household Size').count()['Household ID']]).T\n",
    "df.columns=([scen_name,base_name])\n",
    "df"
   ]
  },
  {
   "cell_type": "code",
   "execution_count": 736,
   "metadata": {
    "collapsed": false
   },
   "outputs": [
    {
     "data": {
      "text/html": [
       "<div id=\"chart_idwdgXSVta\"</div>\n",
       "    <script type=\"text/javascript\">new Highcharts.Chart({\"title\":{\"text\":\"Household Size Distribution\"},\"series\":[{\"data\":[[1,0.1469077069],[2,0.1661274976],[3,0.0590865842],[4,0.0583254044],[5,0.0150333016],[6,0.0046622265],[7,0.0004757374],[8,0.0004757374]],\"name\":\"2006 Survey\",\"yAxis\":0},{\"data\":[[1,0.2984561404],[2,0.1715087719],[3,0.0507368421],[4,0.034877193],[5,0.0086315789],[6,0.0025964912],[7,0.0010526316],[8,0.0001403509]],\"name\":\"2014 Survey\",\"yAxis\":0}],\"yAxis\":[{}],\"chart\":{\"renderTo\":\"chart_idwdgXSVta\",\"type\":\"column\"},\"xAxis\":{\"title\":{\"text\":\"Household Size\"}},\"legend\":{\"enabled\":true}});</script>"
      ],
      "text/plain": [
       "<IPython.core.display.HTML object>"
      ]
     },
     "metadata": {},
     "output_type": "display_data"
    }
   ],
   "source": [
    "# Distribution\n",
    "df_dist = pd.DataFrame([df[scen_name]/person_scen.count()['Household ID'],\n",
    "                   df[base_name]/person_base.count()['Household ID']]).T\n",
    "df_dist\n",
    "display_charts(df_dist, kind='bar', title='Household Size Distribution')"
   ]
  },
  {
   "cell_type": "markdown",
   "metadata": {},
   "source": [
    "---"
   ]
  },
  {
   "cell_type": "markdown",
   "metadata": {},
   "source": [
    "## Age Distribution"
   ]
  },
  {
   "cell_type": "code",
   "execution_count": 737,
   "metadata": {
    "collapsed": false
   },
   "outputs": [],
   "source": [
    "# 2006 survey age is continuous variable\n",
    "# 2014 is categorical\n",
    "from collections import OrderedDict\n",
    "\n",
    "\n",
    "# lookup for 2014 names (which are averaged based on min and max of bin)\n",
    "age_cat = OrderedDict([(2, '   <5'),\n",
    "           (8, ' 5-11'),\n",
    "           (14, '12-15'),\n",
    "           (17, '16-17'),\n",
    "          (21, '18-24'),\n",
    "          (30, '25-34'),\n",
    "          (40, '35-44'),\n",
    "          (50, '44-54'),\n",
    "          (60, '55-64'),\n",
    "          (70, '65-74'),\n",
    "          (80, '75-84'),\n",
    "          (90, '85+')])\n",
    "\n",
    "\n",
    "person_base['Age'] = [age_cat[x] for x in person_base['Age'].as_matrix()]"
   ]
  },
  {
   "cell_type": "code",
   "execution_count": 738,
   "metadata": {
    "collapsed": true
   },
   "outputs": [],
   "source": [
    "# convert 2006 into categorical\n",
    "age_bins = [0,4,11,15,17,24,34,44,54,64,74,84,1000]\n",
    "person_scen['Age'] = pd.cut(person_scen['Age'],age_bins,labels=age_cat.values())"
   ]
  },
  {
   "cell_type": "code",
   "execution_count": 739,
   "metadata": {
    "collapsed": false
   },
   "outputs": [
    {
     "data": {
      "text/html": [
       "<div style=\"max-height:1000px;max-width:1500px;overflow:auto;\">\n",
       "<table border=\"1\" class=\"dataframe\">\n",
       "  <thead>\n",
       "    <tr style=\"text-align: right;\">\n",
       "      <th></th>\n",
       "      <th>2006 Survey</th>\n",
       "      <th>2014 Survey</th>\n",
       "    </tr>\n",
       "    <tr>\n",
       "      <th>Age</th>\n",
       "      <th></th>\n",
       "      <th></th>\n",
       "    </tr>\n",
       "  </thead>\n",
       "  <tbody>\n",
       "    <tr>\n",
       "      <th>   &lt;5</th>\n",
       "      <td>  569</td>\n",
       "      <td>  667</td>\n",
       "    </tr>\n",
       "    <tr>\n",
       "      <th> 5-11</th>\n",
       "      <td>  860</td>\n",
       "      <td>  691</td>\n",
       "    </tr>\n",
       "    <tr>\n",
       "      <th>12-15</th>\n",
       "      <td>  492</td>\n",
       "      <td>  382</td>\n",
       "    </tr>\n",
       "    <tr>\n",
       "      <th>16-17</th>\n",
       "      <td>  259</td>\n",
       "      <td>  192</td>\n",
       "    </tr>\n",
       "    <tr>\n",
       "      <th>18-24</th>\n",
       "      <td>  390</td>\n",
       "      <td> 1911</td>\n",
       "    </tr>\n",
       "    <tr>\n",
       "      <th>25-34</th>\n",
       "      <td>  878</td>\n",
       "      <td> 2759</td>\n",
       "    </tr>\n",
       "    <tr>\n",
       "      <th>35-44</th>\n",
       "      <td> 1572</td>\n",
       "      <td> 1931</td>\n",
       "    </tr>\n",
       "    <tr>\n",
       "      <th>44-54</th>\n",
       "      <td> 2002</td>\n",
       "      <td> 1765</td>\n",
       "    </tr>\n",
       "    <tr>\n",
       "      <th>55-64</th>\n",
       "      <td> 1840</td>\n",
       "      <td> 2004</td>\n",
       "    </tr>\n",
       "    <tr>\n",
       "      <th>65-74</th>\n",
       "      <td>  918</td>\n",
       "      <td> 1306</td>\n",
       "    </tr>\n",
       "    <tr>\n",
       "      <th>75-84</th>\n",
       "      <td>  564</td>\n",
       "      <td>  493</td>\n",
       "    </tr>\n",
       "    <tr>\n",
       "      <th>85+</th>\n",
       "      <td>  145</td>\n",
       "      <td>  149</td>\n",
       "    </tr>\n",
       "  </tbody>\n",
       "</table>\n",
       "</div>"
      ],
      "text/plain": [
       "       2006 Survey  2014 Survey\n",
       "Age                            \n",
       "   <5          569          667\n",
       " 5-11          860          691\n",
       "12-15          492          382\n",
       "16-17          259          192\n",
       "18-24          390         1911\n",
       "25-34          878         2759\n",
       "35-44         1572         1931\n",
       "44-54         2002         1765\n",
       "55-64         1840         2004\n",
       "65-74          918         1306\n",
       "75-84          564          493\n",
       "85+            145          149"
      ]
     },
     "execution_count": 739,
     "metadata": {},
     "output_type": "execute_result"
    }
   ],
   "source": [
    "df = pd.DataFrame([person_scen.groupby('Age').count()['Household ID'],\n",
    "                   person_base.groupby('Age').count()['Household ID']]).T\n",
    "df.columns=([scen_name,base_name])\n",
    "df"
   ]
  },
  {
   "cell_type": "code",
   "execution_count": 740,
   "metadata": {
    "collapsed": false
   },
   "outputs": [
    {
     "data": {
      "text/html": [
       "<div id=\"chart_idaKQEcNwC\"</div>\n",
       "    <script type=\"text/javascript\">new Highcharts.Chart({\"title\":{\"text\":\"Age\"},\"series\":[{\"data\":[[\"   <5\",0.0542473067],[\" 5-11\",0.0819906569],[\"12-15\",0.0469062828],[\"16-17\",0.024692535],[\"18-24\",0.0371818095],[\"25-34\",0.0837067404],[\"35-44\",0.1498712937],[\"44-54\",0.1908666222],[\"55-64\",0.1754218705],[\"65-74\",0.0875202593],[\"75-84\",0.0537706168],[\"85+\",0.0138240061]],\"name\":\"2006 Survey\",\"yAxis\":0},{\"data\":[[\"   <5\",0.0468070175],[\" 5-11\",0.0484912281],[\"12-15\",0.0268070175],[\"16-17\",0.0134736842],[\"18-24\",0.1341052632],[\"25-34\",0.1936140351],[\"35-44\",0.1355087719],[\"44-54\",0.1238596491],[\"55-64\",0.1406315789],[\"65-74\",0.0916491228],[\"75-84\",0.0345964912],[\"85+\",0.0104561404]],\"name\":\"2014 Survey\",\"yAxis\":0}],\"yAxis\":[{}],\"chart\":{\"renderTo\":\"chart_idaKQEcNwC\",\"type\":\"column\"},\"xAxis\":{\"categories\":[\"   <5\",\" 5-11\",\"12-15\",\"16-17\",\"18-24\",\"25-34\",\"35-44\",\"44-54\",\"55-64\",\"65-74\",\"75-84\",\"85+\"],\"title\":{\"text\":\"Age\"}},\"legend\":{\"enabled\":true}});</script>"
      ],
      "text/plain": [
       "<IPython.core.display.HTML object>"
      ]
     },
     "metadata": {},
     "output_type": "display_data"
    }
   ],
   "source": [
    "# Distribution\n",
    "df_new = pd.DataFrame([df[scen_name]/df[scen_name].sum(),\n",
    "             df[base_name]/df[base_name].sum()]).T\n",
    "df_new\n",
    "\n",
    "display_charts(df_new, title='Age', kind='bar')"
   ]
  },
  {
   "cell_type": "markdown",
   "metadata": {},
   "source": [
    "---"
   ]
  },
  {
   "cell_type": "markdown",
   "metadata": {},
   "source": [
    "## Workers Types"
   ]
  },
  {
   "cell_type": "code",
   "execution_count": 741,
   "metadata": {
    "collapsed": false
   },
   "outputs": [
    {
     "data": {
      "text/html": [
       "<div style=\"max-height:1000px;max-width:1500px;overflow:auto;\">\n",
       "<table border=\"1\" class=\"dataframe\">\n",
       "  <thead>\n",
       "    <tr style=\"text-align: right;\">\n",
       "      <th></th>\n",
       "      <th>2006 Survey</th>\n",
       "      <th>2014 Survey</th>\n",
       "    </tr>\n",
       "    <tr>\n",
       "      <th>Worker Type</th>\n",
       "      <th></th>\n",
       "      <th></th>\n",
       "    </tr>\n",
       "  </thead>\n",
       "  <tbody>\n",
       "    <tr>\n",
       "      <th>Full-time worker</th>\n",
       "      <td> 4285</td>\n",
       "      <td> 6805</td>\n",
       "    </tr>\n",
       "    <tr>\n",
       "      <th>Not a worker</th>\n",
       "      <td> 5160</td>\n",
       "      <td> 6192</td>\n",
       "    </tr>\n",
       "    <tr>\n",
       "      <th>Part-time worker</th>\n",
       "      <td> 1065</td>\n",
       "      <td> 1253</td>\n",
       "    </tr>\n",
       "  </tbody>\n",
       "</table>\n",
       "</div>"
      ],
      "text/plain": [
       "                  2006 Survey  2014 Survey\n",
       "Worker Type                               \n",
       "Full-time worker         4285         6805\n",
       "Not a worker             5160         6192\n",
       "Part-time worker         1065         1253"
      ]
     },
     "execution_count": 741,
     "metadata": {},
     "output_type": "execute_result"
    }
   ],
   "source": [
    "df = pd.DataFrame([person_scen.groupby('Worker Type').count()['personID'],\n",
    "                   person_base.groupby('Worker Type').count()['personID']]).T\n",
    "df.columns=([scen_name,base_name])\n",
    "df"
   ]
  },
  {
   "cell_type": "markdown",
   "metadata": {},
   "source": [
    "---"
   ]
  },
  {
   "cell_type": "markdown",
   "metadata": {},
   "source": [
    "** Distribution of Worker Types**"
   ]
  },
  {
   "cell_type": "code",
   "execution_count": 742,
   "metadata": {
    "collapsed": false
   },
   "outputs": [],
   "source": [
    "# Distribution\n",
    "df_dist = pd.DataFrame([df[scen_name]/person_scen.count()['personID'],\n",
    "                   df[base_name]/person_base.count()['personID']]).T"
   ]
  },
  {
   "cell_type": "code",
   "execution_count": 743,
   "metadata": {
    "collapsed": false
   },
   "outputs": [
    {
     "data": {
      "text/html": [
       "<div id=\"chart_idgJpqsRXC\"</div>\n",
       "    <script type=\"text/javascript\">new Highcharts.Chart({\"title\":{\"text\":\"Worker Type Distribution\"},\"series\":[{\"data\":[[\"Full-time worker\",0.4077069458],[\"Not a worker\",0.4909609895],[\"Part-time worker\",0.1013320647]],\"name\":\"2006 Survey\",\"yAxis\":0},{\"data\":[[\"Full-time worker\",0.4775438596],[\"Not a worker\",0.4345263158],[\"Part-time worker\",0.0879298246]],\"name\":\"2014 Survey\",\"yAxis\":0}],\"yAxis\":[{}],\"chart\":{\"renderTo\":\"chart_idgJpqsRXC\",\"type\":\"column\"},\"xAxis\":{\"categories\":[\"Full-time worker\",\"Not a worker\",\"Part-time worker\"],\"title\":{\"text\":\"Worker Type\"}},\"legend\":{\"enabled\":true}});</script>"
      ],
      "text/plain": [
       "<IPython.core.display.HTML object>"
      ]
     },
     "metadata": {},
     "output_type": "display_data"
    }
   ],
   "source": [
    "display_charts(df_dist, kind='bar', title='Worker Type Distribution')"
   ]
  },
  {
   "cell_type": "markdown",
   "metadata": {},
   "source": [
    "---"
   ]
  },
  {
   "cell_type": "markdown",
   "metadata": {},
   "source": [
    "## Workers by County"
   ]
  },
  {
   "cell_type": "code",
   "execution_count": 744,
   "metadata": {
    "collapsed": false
   },
   "outputs": [],
   "source": [
    "# # Workers by County\n",
    "\n",
    "# scen_workers = hh_per_scen[hh_per_scen['Worker Type'] <> 'Not a worker']\n",
    "# base_workers = hh_per_base[hh_per_base['Worker Type'] <> 'Not a worker']\n",
    "\n",
    "# df = scen_workers.groupby('County').count()['personID']\n",
    "# df=df[df.index<>0]\n",
    "# df=pd.DataFrame(df)\n",
    "# df.columns=[scen_name]\n",
    "\n",
    "# df_base = base_workers.groupby('County').count()['personID']\n",
    "# df_base=df_base[df_base.index<>0]\n",
    "# df[base_name]=df_base\n",
    "# df\n",
    "\n",
    "# # Also add in the CTPP here\n",
    "# # 2006-2010 CTPP\n",
    "\n",
    "# ctpp_workers = {'King':53625,'Kitsap':6475,'Pierce':15705,'Snohomish':15810}\n",
    "\n",
    "# df['CTPP 06-10'] = pd.DataFrame(ctpp_workers.values(),index=ctpp_workers.keys())"
   ]
  },
  {
   "cell_type": "code",
   "execution_count": null,
   "metadata": {
    "collapsed": true
   },
   "outputs": [],
   "source": []
  },
  {
   "cell_type": "code",
   "execution_count": 745,
   "metadata": {
    "collapsed": false
   },
   "outputs": [],
   "source": [
    "# # Distribution\n",
    "# df_dist = pd.DataFrame([df[scen_name]/df[scen_name].sum(),\n",
    "#                        df[base_name]/df[base_name].sum(),\n",
    "#                        df['CTPP 06-10']/df['CTPP 06-10'].sum()]).T"
   ]
  },
  {
   "cell_type": "code",
   "execution_count": 746,
   "metadata": {
    "collapsed": false
   },
   "outputs": [],
   "source": [
    "# display_charts(df_dist, kind='bar', title='Worker Distribution by County')"
   ]
  },
  {
   "cell_type": "markdown",
   "metadata": {},
   "source": [
    "---"
   ]
  },
  {
   "cell_type": "markdown",
   "metadata": {},
   "source": [
    "## Distance to Work"
   ]
  },
  {
   "cell_type": "code",
   "execution_count": 747,
   "metadata": {
    "collapsed": false
   },
   "outputs": [
    {
     "data": {
      "text/html": [
       "<div style=\"max-height:1000px;max-width:1500px;overflow:auto;\">\n",
       "<table border=\"1\" class=\"dataframe\">\n",
       "  <thead>\n",
       "    <tr style=\"text-align: right;\">\n",
       "      <th></th>\n",
       "      <th>2006 Survey</th>\n",
       "      <th>2014 Survey</th>\n",
       "    </tr>\n",
       "  </thead>\n",
       "  <tbody>\n",
       "    <tr>\n",
       "      <th>   &lt;5</th>\n",
       "      <td>  0.000000</td>\n",
       "      <td> 0</td>\n",
       "    </tr>\n",
       "    <tr>\n",
       "      <th> 5-11</th>\n",
       "      <td>  0.000000</td>\n",
       "      <td> 0</td>\n",
       "    </tr>\n",
       "    <tr>\n",
       "      <th>12-15</th>\n",
       "      <td>  0.000000</td>\n",
       "      <td> 0</td>\n",
       "    </tr>\n",
       "    <tr>\n",
       "      <th>16-17</th>\n",
       "      <td>  3.865185</td>\n",
       "      <td> 1</td>\n",
       "    </tr>\n",
       "    <tr>\n",
       "      <th>18-24</th>\n",
       "      <td>  8.319750</td>\n",
       "      <td> 1</td>\n",
       "    </tr>\n",
       "    <tr>\n",
       "      <th>25-34</th>\n",
       "      <td> 10.625236</td>\n",
       "      <td> 1</td>\n",
       "    </tr>\n",
       "    <tr>\n",
       "      <th>35-44</th>\n",
       "      <td> 10.303467</td>\n",
       "      <td> 1</td>\n",
       "    </tr>\n",
       "    <tr>\n",
       "      <th>44-54</th>\n",
       "      <td> 10.104780</td>\n",
       "      <td> 1</td>\n",
       "    </tr>\n",
       "    <tr>\n",
       "      <th>55-64</th>\n",
       "      <td>  9.807923</td>\n",
       "      <td> 1</td>\n",
       "    </tr>\n",
       "    <tr>\n",
       "      <th>65-74</th>\n",
       "      <td>  8.225459</td>\n",
       "      <td> 1</td>\n",
       "    </tr>\n",
       "    <tr>\n",
       "      <th>75-84</th>\n",
       "      <td>  6.801481</td>\n",
       "      <td> 1</td>\n",
       "    </tr>\n",
       "    <tr>\n",
       "      <th>85+</th>\n",
       "      <td>  7.649737</td>\n",
       "      <td> 1</td>\n",
       "    </tr>\n",
       "  </tbody>\n",
       "</table>\n",
       "</div>"
      ],
      "text/plain": [
       "       2006 Survey  2014 Survey\n",
       "   <5     0.000000            0\n",
       " 5-11     0.000000            0\n",
       "12-15     0.000000            0\n",
       "16-17     3.865185            1\n",
       "18-24     8.319750            1\n",
       "25-34    10.625236            1\n",
       "35-44    10.303467            1\n",
       "44-54    10.104780            1\n",
       "55-64     9.807923            1\n",
       "65-74     8.225459            1\n",
       "75-84     6.801481            1\n",
       "85+       7.649737            1"
      ]
     },
     "execution_count": 747,
     "metadata": {},
     "output_type": "execute_result"
    }
   ],
   "source": [
    "# Filter out non-workers\n",
    "scen_df = (person_scen[person_scen['Worker Type'] <> 'Not a worker'])\n",
    "base_df = (person_base[person_base['Worker Type'] <> 'Not a worker'])\n",
    "\n",
    "df = pd.DataFrame([scen_df.groupby('Age').mean()['Auto Distance to Work'],\n",
    "              base_df.groupby('Age').mean()['Auto Distance to Work']]).T\n",
    "df.columns=([scen_name,base_name])\n",
    "df.fillna(0,inplace=True)\n",
    "df"
   ]
  },
  {
   "cell_type": "code",
   "execution_count": 748,
   "metadata": {
    "collapsed": false
   },
   "outputs": [
    {
     "data": {
      "text/html": [
       "<div id=\"chart_iddSFgYZYF\"</div>\n",
       "    <script type=\"text/javascript\">new Highcharts.Chart({\"title\":{\"text\":\"Distance to Work\"},\"series\":[{\"data\":[[\"   <5\",0.0],[\" 5-11\",0.0],[\"12-15\",0.0],[\"16-17\",3.8651851852],[\"18-24\",8.31975],[\"25-34\",10.6252359882],[\"35-44\",10.3034669811],[\"44-54\",10.1047797224],[\"55-64\",9.8079232694],[\"65-74\",8.2254594595],[\"75-84\",6.8014814815],[\"85+\",7.6497368421]],\"name\":\"2006 Survey\",\"yAxis\":0},{\"data\":[[\"   <5\",0.0],[\" 5-11\",0.0],[\"12-15\",0.0],[\"16-17\",1.0],[\"18-24\",1.0],[\"25-34\",1.0],[\"35-44\",1.0],[\"44-54\",1.0],[\"55-64\",1.0],[\"65-74\",1.0],[\"75-84\",1.0],[\"85+\",1.0]],\"name\":\"2014 Survey\",\"yAxis\":0}],\"yAxis\":[{}],\"chart\":{\"renderTo\":\"chart_iddSFgYZYF\",\"type\":\"column\"},\"xAxis\":{\"categories\":[\"   <5\",\" 5-11\",\"12-15\",\"16-17\",\"18-24\",\"25-34\",\"35-44\",\"44-54\",\"55-64\",\"65-74\",\"75-84\",\"85+\"]},\"legend\":{\"enabled\":true}});</script>"
      ],
      "text/plain": [
       "<IPython.core.display.HTML object>"
      ]
     },
     "metadata": {},
     "output_type": "display_data"
    }
   ],
   "source": [
    "display_charts(df, title='Distance to Work', kind='bar')"
   ]
  },
  {
   "cell_type": "markdown",
   "metadata": {},
   "source": [
    "---"
   ]
  },
  {
   "cell_type": "markdown",
   "metadata": {},
   "source": [
    "## Transit Pass Ownership"
   ]
  },
  {
   "cell_type": "code",
   "execution_count": 749,
   "metadata": {
    "collapsed": true
   },
   "outputs": [],
   "source": [
    "df = pd.DataFrame([person_scen.groupby('Transit Pass').mean()['Auto Distance to Work'],\n",
    "              person_base.groupby('Transit Pass').mean()['Auto Distance to Work']]).T\n",
    "df.columns=([scen_name,base_name])"
   ]
  },
  {
   "cell_type": "code",
   "execution_count": 750,
   "metadata": {
    "collapsed": false
   },
   "outputs": [
    {
     "data": {
      "text/html": [
       "<div style=\"max-height:1000px;max-width:1500px;overflow:auto;\">\n",
       "<table border=\"1\" class=\"dataframe\">\n",
       "  <thead>\n",
       "    <tr style=\"text-align: right;\">\n",
       "      <th></th>\n",
       "      <th>2006 Survey</th>\n",
       "      <th>2014 Survey</th>\n",
       "    </tr>\n",
       "  </thead>\n",
       "  <tbody>\n",
       "    <tr>\n",
       "      <th>No Pass</th>\n",
       "      <td> 4.142860</td>\n",
       "      <td>NaN</td>\n",
       "    </tr>\n",
       "    <tr>\n",
       "      <th>Transit Pass</th>\n",
       "      <td> 7.484511</td>\n",
       "      <td>  1</td>\n",
       "    </tr>\n",
       "  </tbody>\n",
       "</table>\n",
       "</div>"
      ],
      "text/plain": [
       "              2006 Survey  2014 Survey\n",
       "No Pass          4.142860          NaN\n",
       "Transit Pass     7.484511            1"
      ]
     },
     "execution_count": 750,
     "metadata": {},
     "output_type": "execute_result"
    }
   ],
   "source": [
    "df.index = ['No Pass', 'Transit Pass']\n",
    "df"
   ]
  },
  {
   "cell_type": "markdown",
   "metadata": {},
   "source": [
    "---"
   ]
  },
  {
   "cell_type": "markdown",
   "metadata": {},
   "source": [
    "## Auto Ownership"
   ]
  },
  {
   "cell_type": "code",
   "execution_count": 751,
   "metadata": {
    "collapsed": false
   },
   "outputs": [
    {
     "data": {
      "text/html": [
       "<div style=\"max-height:1000px;max-width:1500px;overflow:auto;\">\n",
       "<table border=\"1\" class=\"dataframe\">\n",
       "  <thead>\n",
       "    <tr style=\"text-align: right;\">\n",
       "      <th></th>\n",
       "      <th>2006 Survey</th>\n",
       "      <th>2014 Survey</th>\n",
       "    </tr>\n",
       "    <tr>\n",
       "      <th>Household Vehicles</th>\n",
       "      <th></th>\n",
       "      <th></th>\n",
       "    </tr>\n",
       "  </thead>\n",
       "  <tbody>\n",
       "    <tr>\n",
       "      <th>0 </th>\n",
       "      <td>  219</td>\n",
       "      <td> 1412</td>\n",
       "    </tr>\n",
       "    <tr>\n",
       "      <th>1 </th>\n",
       "      <td> 1576</td>\n",
       "      <td> 3331</td>\n",
       "    </tr>\n",
       "    <tr>\n",
       "      <th>2 </th>\n",
       "      <td> 1914</td>\n",
       "      <td> 2063</td>\n",
       "    </tr>\n",
       "    <tr>\n",
       "      <th>3 </th>\n",
       "      <td>  712</td>\n",
       "      <td>  613</td>\n",
       "    </tr>\n",
       "    <tr>\n",
       "      <th>4 </th>\n",
       "      <td>  207</td>\n",
       "      <td>  200</td>\n",
       "    </tr>\n",
       "    <tr>\n",
       "      <th>5 </th>\n",
       "      <td>   76</td>\n",
       "      <td>   58</td>\n",
       "    </tr>\n",
       "    <tr>\n",
       "      <th>6 </th>\n",
       "      <td>   24</td>\n",
       "      <td>    9</td>\n",
       "    </tr>\n",
       "    <tr>\n",
       "      <th>7 </th>\n",
       "      <td>    6</td>\n",
       "      <td>    9</td>\n",
       "    </tr>\n",
       "    <tr>\n",
       "      <th>8 </th>\n",
       "      <td>    5</td>\n",
       "      <td>    4</td>\n",
       "    </tr>\n",
       "    <tr>\n",
       "      <th>9 </th>\n",
       "      <td>    1</td>\n",
       "      <td>  NaN</td>\n",
       "    </tr>\n",
       "    <tr>\n",
       "      <th>10</th>\n",
       "      <td>    1</td>\n",
       "      <td>    2</td>\n",
       "    </tr>\n",
       "  </tbody>\n",
       "</table>\n",
       "</div>"
      ],
      "text/plain": [
       "                    2006 Survey  2014 Survey\n",
       "Household Vehicles                          \n",
       "0                           219         1412\n",
       "1                          1576         3331\n",
       "2                          1914         2063\n",
       "3                           712          613\n",
       "4                           207          200\n",
       "5                            76           58\n",
       "6                            24            9\n",
       "7                             6            9\n",
       "8                             5            4\n",
       "9                             1          NaN\n",
       "10                            1            2"
      ]
     },
     "execution_count": 751,
     "metadata": {},
     "output_type": "execute_result"
    }
   ],
   "source": [
    "new_hh_scen = hh_scen[hh_scen.index>=0]\n",
    "df = pd.DataFrame([new_hh_scen.groupby('Household Vehicles').count()['Household ID'],\n",
    "                   hh_base.groupby('Household Vehicles').count()['Household ID']]).T\n",
    "df.columns=([scen_name,base_name])\n",
    "df=df[df.index>=0]\n",
    "df"
   ]
  },
  {
   "cell_type": "code",
   "execution_count": 752,
   "metadata": {
    "collapsed": false
   },
   "outputs": [],
   "source": [
    "# Distribution\n",
    "df_new = pd.DataFrame([df[scen_name]/df[scen_name].sum(),\n",
    "             df[base_name]/df[base_name].sum()]).T"
   ]
  },
  {
   "cell_type": "code",
   "execution_count": 753,
   "metadata": {
    "collapsed": false
   },
   "outputs": [
    {
     "data": {
      "text/html": [
       "<div id=\"chart_idIqGOEmIz\"</div>\n",
       "    <script type=\"text/javascript\">new Highcharts.Chart({\"title\":{\"text\":\"Vehicles per Household\"},\"series\":[{\"data\":[[0,0.0461927863],[1,0.3324193208],[2,0.403712297],[3,0.1501792871],[4,0.0436616748],[5,0.0160303733],[6,0.0050622232],[7,0.0012655558],[8,0.0010546298],[9,0.000210926],[10,0.000210926]],\"name\":\"2006 Survey\",\"yAxis\":0},{\"data\":[[0,0.1833528113],[1,0.4325412284],[2,0.2678872874],[3,0.0796000519],[4,0.0259706532],[5,0.0075314894],[6,0.0011686794],[7,0.0011686794],[8,0.0005194131],[9,null],[10,0.0002597065]],\"name\":\"2014 Survey\",\"yAxis\":0}],\"yAxis\":[{}],\"chart\":{\"renderTo\":\"chart_idIqGOEmIz\",\"type\":\"column\"},\"xAxis\":{\"max\":6,\"min\":0,\"title\":{\"text\":\"Household Vehicles\"}},\"legend\":{\"enabled\":true}});</script>"
      ],
      "text/plain": [
       "<IPython.core.display.HTML object>"
      ]
     },
     "metadata": {},
     "output_type": "display_data"
    }
   ],
   "source": [
    "display_charts(df_new, title='Vehicles per Household', kind='bar', xlim=(0,6))"
   ]
  },
  {
   "cell_type": "markdown",
   "metadata": {},
   "source": [
    "---"
   ]
  }
 ],
 "metadata": {
  "kernelspec": {
   "display_name": "Python 2",
   "language": "python",
   "name": "python2"
  },
  "language_info": {
   "codemirror_mode": {
    "name": "ipython",
    "version": 2
   },
   "file_extension": ".py",
   "mimetype": "text/x-python",
   "name": "python",
   "nbconvert_exporter": "python",
   "pygments_lexer": "ipython2",
   "version": "2.7.9"
  }
 },
 "nbformat": 4,
 "nbformat_minor": 0
}
