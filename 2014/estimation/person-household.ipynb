{
 "cells": [
  {
   "cell_type": "markdown",
   "metadata": {
    "collapsed": false
   },
   "source": [
    "## Daysim Person and Household Models"
   ]
  },
  {
   "cell_type": "markdown",
   "metadata": {},
   "source": [
    "*Summaries:*\n",
    "    - Total People & Workers\n",
    "    - Household Size\n",
    "    - Worker Types\n",
    "    - Distance to Work\n",
    "    - Transit Pass Ownership\n",
    "    - Age Distribution\n",
    "    - Vehicle Ownership\n",
    "---"
   ]
  },
  {
   "cell_type": "code",
   "execution_count": null,
   "metadata": {
    "collapsed": false
   },
   "outputs": [],
   "source": [
    "from IPython.display import HTML\n",
    "\n",
    "HTML('''<script>\n",
    "code_show=true; \n",
    "function code_toggle() {\n",
    " if (code_show){\n",
    " $('div.input').hide();\n",
    " } else {\n",
    " $('div.input').show();\n",
    " }\n",
    " code_show = !code_show\n",
    "} \n",
    "$( document ).ready(code_toggle);\n",
    "</script>\n",
    "<form action=\"javascript:code_toggle()\"><input type=\"submit\" value=\"Click here to toggle on/off the raw code.\"></form>''')"
   ]
  },
  {
   "cell_type": "code",
   "execution_count": null,
   "metadata": {
    "collapsed": false
   },
   "outputs": [],
   "source": [
    "import os\n",
    "import numpy as np\n",
    "import pandas as pd\n",
    "import h5py\n",
    "import pylab as P\n",
    "from IPython.display import display, display_pretty, Javascript, HTML\n",
    "from pandas_highcharts.core import serialize\n",
    "from pandas_highcharts.display import display_charts\n",
    "import matplotlib.pyplot as plt\n",
    "\n",
    "# Show charts in notebook\n",
    "%pylab inline"
   ]
  },
  {
   "cell_type": "code",
   "execution_count": null,
   "metadata": {
    "collapsed": true
   },
   "outputs": [],
   "source": []
  },
  {
   "cell_type": "code",
   "execution_count": null,
   "metadata": {
    "collapsed": false
   },
   "outputs": [],
   "source": [
    "# Set main model directory to parent directory\n",
    "\n",
    "# 2006 survey\n",
    "model_dir = r'R:\\SoundCast\\releases\\TransportationFutures2010\\scripts\\summarize'\n",
    "\n",
    "# 2014 survey\n",
    "base_dir = r'R:\\SoundCast\\releases\\TransportationFutures2010\\scripts\\summarize' "
   ]
  },
  {
   "cell_type": "code",
   "execution_count": null,
   "metadata": {
    "collapsed": true
   },
   "outputs": [],
   "source": []
  },
  {
   "cell_type": "code",
   "execution_count": null,
   "metadata": {
    "collapsed": false
   },
   "outputs": [],
   "source": [
    "# Read Model Scenario Results\n",
    "scen = h5py.File(model_dir + r'/survey.h5','r+')\n",
    "scen_name = '2006 Survey'"
   ]
  },
  {
   "cell_type": "code",
   "execution_count": null,
   "metadata": {
    "collapsed": false
   },
   "outputs": [],
   "source": [
    "# Read Base Data\n",
    "base_file = r'/survey14.h5'\n",
    "\n",
    "base = h5py.File(base_dir + base_file ,'r+')\n",
    "base_name = '2014 Survey'"
   ]
  },
  {
   "cell_type": "code",
   "execution_count": null,
   "metadata": {
    "collapsed": false
   },
   "outputs": [],
   "source": [
    "# Get person data into a single dataframe for base and scen\n",
    "data_table = 'Person'\n",
    "\n",
    "person_scen = pd.DataFrame(data={'Household ID': [i[0] for i in scen[data_table]['hhno'][:]],\n",
    "                               'Person Number': [i[0] for i in scen[data_table]['pno'][:]],\n",
    "                               'Transit Pass': [i[0] for i in scen[data_table]['ptpass'][:]],\n",
    "                                'Auto Time to Work': [i[0] for i in scen[data_table]['pwautime'][:]],\n",
    "                                'Auto Distance to Work': [i[0] for i in scen[data_table]['pwaudist'][:]],\n",
    "                                'Worker Type': [i[0] for i in scen[data_table]['pwtyp'][:]],\n",
    "                                'Usual Commute Mode': [i[0] for i in scen[data_table]['pwtaz'][:]],\n",
    "                                'Workplace TAZ': [i[0] for i in scen[data_table]['pwtaz'][:]],\n",
    "                                'Age': [i[0] for i in scen[data_table]['pagey'][:]],\n",
    "                                'Expansion Factor': [i[0] for i in scen[data_table]['psexpfac'][:]]})\n",
    "\n",
    "person_base = pd.DataFrame(data={'Household ID': [i[0] for i in base[data_table]['hhno'][:]],\n",
    "                                 'Person Number': [i[0] for i in base[data_table]['pno'][:]],\n",
    "                                 'Transit Pass': [i[0] for i in base[data_table]['ptpass'][:]],\n",
    "                                 'Auto Time to Work': [i[0] for i in base[data_table]['ptpass'][:]],\n",
    "                                 'Auto Distance to Work': [i[0] for i in base[data_table]['pwautime'][:]],\n",
    "                                 'Worker Type': [i[0] for i in base[data_table]['pwtyp'][:]],\n",
    "                                 'Usual Commute Mode': [i[0] for i in base[data_table]['puwmode'][:]],\n",
    "                                 'Workplace TAZ': [i[0] for i in base[data_table]['pwtaz'][:]],\n",
    "                                 'Age': [i[0] for i in base[data_table]['pagey'][:]],\n",
    "                                 'Expansion Factor': [i[0] for i in base[data_table]['psexpfac'][:]]})"
   ]
  },
  {
   "cell_type": "code",
   "execution_count": null,
   "metadata": {
    "collapsed": false
   },
   "outputs": [],
   "source": [
    "# Create unique ID for person by concatenating household ID and person number \n",
    "person_scen['personID'] = (person_scen['Household ID'].astype('str')+person_scen['Person Number'].astype('str')).astype('int')\n",
    "person_base['personID'] = (person_base['Household ID'].astype('str')+person_base['Person Number'].astype('str')).astype('int')"
   ]
  },
  {
   "cell_type": "code",
   "execution_count": null,
   "metadata": {
    "collapsed": false
   },
   "outputs": [],
   "source": [
    "# Get household data into a single dataframe for base and scen\n",
    "data_table = 'Household'\n",
    "\n",
    "hh_scen = pd.DataFrame(data={'Household ID': [i[0] for i in scen[data_table]['hhno'][:]],\n",
    "                                'Household Size': [i[0] for i in scen[data_table]['hhsize'][:]],\n",
    "                                'Household Vehicles': [i[0] for i in scen[data_table]['hhvehs'][:]],\n",
    "                                 'Household Workers': [i[0] for i in scen[data_table]['hhwkrs'][:]],\n",
    "                                 'Household Income': [i[0] for i in scen[data_table]['hhincome'][:]],\n",
    "                                 'Household TAZ': [i[0] for i in scen[data_table]['hhtaz'][:]],\n",
    "                                 'Expansion Factor': [i[0] for i in scen[data_table]['hhexpfac'][:]]})\n",
    "\n",
    "hh_base = pd.DataFrame(data={'Household ID': [i[0] for i in base[data_table]['hhno'][:]],\n",
    "                                 'Household Size': [i[0] for i in base[data_table]['hhsize'][:]],\n",
    "                                 'Household Vehicles': [i[0] for i in base[data_table]['hhvehs'][:]],\n",
    "                                 'Household Workers': [i[0] for i in base[data_table]['hhwkrs'][:]],\n",
    "                                 'Household Income': [i[0] for i in base[data_table]['hhincome'][:]],\n",
    "                                 'Household TAZ': [i[0] for i in base[data_table]['hhtaz'][:]],\n",
    "                                 'Expansion Factor': [i[0] for i in base[data_table]['hhexpfac'][:]]})"
   ]
  },
  {
   "cell_type": "code",
   "execution_count": null,
   "metadata": {
    "collapsed": false
   },
   "outputs": [],
   "source": [
    "# Add labels for worker type\n",
    "labels = {\n",
    "  0: \"Not a worker\",  \n",
    "  1: \"Full-time worker\",\n",
    "  2: \"Part-time worker\",\n",
    "}\n",
    "\n",
    "person_base['Worker Type'] = ([labels[x] for x in person_base['Worker Type']])\n",
    "person_scen['Worker Type'] = ([labels[x] for x in person_scen['Worker Type']])"
   ]
  },
  {
   "cell_type": "code",
   "execution_count": null,
   "metadata": {
    "collapsed": false
   },
   "outputs": [],
   "source": [
    "# Join household records to person records\n",
    "hh_per_scen = person_scen.join(hh_scen,on='Household ID',lsuffix='_p',rsuffix='_h')"
   ]
  },
  {
   "cell_type": "code",
   "execution_count": null,
   "metadata": {
    "collapsed": false
   },
   "outputs": [],
   "source": [
    "# Household TAZ"
   ]
  },
  {
   "cell_type": "code",
   "execution_count": null,
   "metadata": {
    "collapsed": false
   },
   "outputs": [],
   "source": [
    "# Join geography info to household TAZ location\n",
    "taz_lookup = pd.read_csv(r'utils/taz_lookup.csv')\n",
    "hh_per_scen = hh_per_scen.merge(taz_lookup, left_on='Household TAZ',right_on='TAZ')"
   ]
  },
  {
   "cell_type": "code",
   "execution_count": null,
   "metadata": {
    "collapsed": true
   },
   "outputs": [],
   "source": [
    "hh_per_scen"
   ]
  },
  {
   "cell_type": "markdown",
   "metadata": {},
   "source": [
    "## Person and Worker Overview"
   ]
  },
  {
   "cell_type": "markdown",
   "metadata": {},
   "source": [
    "**Total People**"
   ]
  },
  {
   "cell_type": "code",
   "execution_count": null,
   "metadata": {
    "collapsed": false
   },
   "outputs": [],
   "source": [
    "print scen_name + \": \"+ str(person_scen['personID'].count()).split('.')[0]\n",
    "print base_name + \": \"+ str(person_base['personID'].count()).split('.')[0]"
   ]
  },
  {
   "cell_type": "markdown",
   "metadata": {},
   "source": [
    "**Average Household Size**"
   ]
  },
  {
   "cell_type": "code",
   "execution_count": null,
   "metadata": {
    "collapsed": false
   },
   "outputs": [],
   "source": [
    "print scen_name + \": \"+ str(hh_scen['Household Size'].mean())\n",
    "print base_name + \": \"+ str(hh_base['Household Size'].mean())"
   ]
  },
  {
   "cell_type": "markdown",
   "metadata": {},
   "source": [
    "**Household Size Distribution**"
   ]
  },
  {
   "cell_type": "code",
   "execution_count": null,
   "metadata": {
    "collapsed": false
   },
   "outputs": [],
   "source": [
    "df = pd.DataFrame([hh_scen.groupby('Household Size').count()['Household ID'],\n",
    "                   hh_base.groupby('Household Size').count()['Household ID']]).T\n",
    "df.columns=([scen_name,base_name])\n",
    "df"
   ]
  },
  {
   "cell_type": "code",
   "execution_count": null,
   "metadata": {
    "collapsed": false
   },
   "outputs": [],
   "source": [
    "# Distribution\n",
    "df_dist = pd.DataFrame([df[scen_name]/person_scen.count()['Household ID'],\n",
    "                   df[base_name]/person_base.count()['Household ID']]).T\n",
    "df_dist\n",
    "display_charts(df_dist, kind='bar', title='Household Size Distribution')"
   ]
  },
  {
   "cell_type": "markdown",
   "metadata": {
    "collapsed": true
   },
   "source": [
    "**Workers Types**"
   ]
  },
  {
   "cell_type": "code",
   "execution_count": null,
   "metadata": {
    "collapsed": false
   },
   "outputs": [],
   "source": [
    "df = pd.DataFrame([person_scen.groupby('Worker Type').count()['personID'],\n",
    "                   person_base.groupby('Worker Type').count()['personID']]).T\n",
    "df.columns=([scen_name,base_name])\n",
    "df"
   ]
  },
  {
   "cell_type": "markdown",
   "metadata": {},
   "source": [
    "** Distribution of Worker Types**"
   ]
  },
  {
   "cell_type": "code",
   "execution_count": null,
   "metadata": {
    "collapsed": false
   },
   "outputs": [],
   "source": [
    "# Distribution\n",
    "df_dist = pd.DataFrame([df[scen_name]/person_scen.count()['personID'],\n",
    "                   df[base_name]/person_base.count()['personID']]).T"
   ]
  },
  {
   "cell_type": "code",
   "execution_count": null,
   "metadata": {
    "collapsed": false
   },
   "outputs": [],
   "source": [
    "display_charts(df_dist, kind='bar', title='Worker Type Distribution')"
   ]
  },
  {
   "cell_type": "code",
   "execution_count": null,
   "metadata": {
    "collapsed": true
   },
   "outputs": [],
   "source": [
    "# Workers at Home"
   ]
  },
  {
   "cell_type": "markdown",
   "metadata": {},
   "source": [
    "**Workers by County**"
   ]
  },
  {
   "cell_type": "code",
   "execution_count": null,
   "metadata": {
    "collapsed": false
   },
   "outputs": [],
   "source": [
    "# Workers by County\n",
    "hh_per_scen.groupby"
   ]
  },
  {
   "cell_type": "markdown",
   "metadata": {},
   "source": [
    "## Distance to Work"
   ]
  },
  {
   "cell_type": "code",
   "execution_count": null,
   "metadata": {
    "collapsed": false
   },
   "outputs": [],
   "source": [
    "# Filter out non-workers\n",
    "scen_df = (person_scen[person_scen['Worker Type'] <> 'Not a worker'])\n",
    "base_df = (person_base[person_base['Worker Type'] <> 'Not a worker'])\n",
    "\n",
    "df = pd.DataFrame([scen_df.groupby('Age').mean()['Auto Distance to Work'],\n",
    "              base_df.groupby('Age').mean()['Auto Distance to Work']]).T\n",
    "df.columns=([scen_name,base_name])\n",
    "df.fillna(0,inplace=True)\n",
    "df\n",
    "# person_scen"
   ]
  },
  {
   "cell_type": "code",
   "execution_count": null,
   "metadata": {
    "collapsed": false
   },
   "outputs": [],
   "source": []
  },
  {
   "cell_type": "markdown",
   "metadata": {},
   "source": [
    "# Transit Pass Ownership"
   ]
  },
  {
   "cell_type": "code",
   "execution_count": null,
   "metadata": {
    "collapsed": true
   },
   "outputs": [],
   "source": [
    "df = pd.DataFrame([person_scen.groupby('Transit Pass').mean()['Auto Distance to Work'],\n",
    "              person_base.groupby('Transit Pass').mean()['Auto Distance to Work']]).T\n",
    "df.columns=([scen_name,base_name])"
   ]
  },
  {
   "cell_type": "code",
   "execution_count": null,
   "metadata": {
    "collapsed": false
   },
   "outputs": [],
   "source": [
    "person_base['Transit Pass'].mean()"
   ]
  },
  {
   "cell_type": "code",
   "execution_count": null,
   "metadata": {
    "collapsed": false
   },
   "outputs": [],
   "source": [
    "df"
   ]
  },
  {
   "cell_type": "code",
   "execution_count": null,
   "metadata": {
    "collapsed": false
   },
   "outputs": [],
   "source": [
    "person_base['Transit Pass'];\n",
    "base_name"
   ]
  },
  {
   "cell_type": "code",
   "execution_count": null,
   "metadata": {
    "collapsed": false
   },
   "outputs": [],
   "source": [
    "person_base.groupby('Transit Pass').mean()['Auto Distance to Work']"
   ]
  },
  {
   "cell_type": "markdown",
   "metadata": {},
   "source": [
    "# Age Distribution"
   ]
  },
  {
   "cell_type": "code",
   "execution_count": null,
   "metadata": {
    "collapsed": false,
    "scrolled": true
   },
   "outputs": [],
   "source": [
    "# 2006 survey age is continuous variable\n",
    "# 2014 is categorical\n",
    "from collections import OrderedDict\n",
    "\n",
    "\n",
    "# lookup for 2014 names (which are averaged based on min and max of bin)\n",
    "age_cat = OrderedDict([(2, '<5'),\n",
    "           (8, ' 5-11'),\n",
    "           (14, '12-15'),\n",
    "           (17, '16-17'),\n",
    "          (21, '18-24'),\n",
    "          (30, '25-34'),\n",
    "          (40, '35-44'),\n",
    "          (50, '44-54'),\n",
    "          (60, '55-64'),\n",
    "          (70, '65-74'),\n",
    "          (80, '75-84'),\n",
    "          (90, '85+')])\n",
    "\n",
    "\n",
    "person_base['Age'] = [age_cat[x] for x in person_base['Age'].as_matrix()]"
   ]
  },
  {
   "cell_type": "code",
   "execution_count": null,
   "metadata": {
    "collapsed": false
   },
   "outputs": [],
   "source": []
  },
  {
   "cell_type": "code",
   "execution_count": null,
   "metadata": {
    "collapsed": false
   },
   "outputs": [],
   "source": [
    "# convert 2006 into categorical\n",
    "age_bins = [0,4,11,15,17,24,34,44,54,64,74,84,1000]\n",
    "person_scen['Age'] = pd.cut(person_scen['Age'],age_bins,labels=age_cat.values())\n"
   ]
  },
  {
   "cell_type": "code",
   "execution_count": null,
   "metadata": {
    "collapsed": false
   },
   "outputs": [],
   "source": [
    "df = pd.DataFrame([person_scen.groupby('Age').count()['Household ID'],\n",
    "                   person_base.groupby('Age').count()['Household ID']]).T\n",
    "df.columns=([scen_name,base_name])\n",
    "df"
   ]
  },
  {
   "cell_type": "code",
   "execution_count": null,
   "metadata": {
    "collapsed": false
   },
   "outputs": [],
   "source": [
    "# Distribution\n",
    "df_new = pd.DataFrame([df[scen_name]/df[scen_name].sum(),\n",
    "             df[base_name]/df[base_name].sum()]).T\n",
    "df_new\n",
    "\n",
    "display_charts(df_new, title='Age', kind='bar')"
   ]
  },
  {
   "cell_type": "markdown",
   "metadata": {},
   "source": [
    "# Auto Ownership"
   ]
  },
  {
   "cell_type": "code",
   "execution_count": null,
   "metadata": {
    "collapsed": false
   },
   "outputs": [],
   "source": [
    "new_hh_scen = hh_scen[hh_scen.index>=0]\n",
    "df = pd.DataFrame([new_hh_scen.groupby('Household Vehicles').count()['Household ID'],\n",
    "                   hh_base.groupby('Household Vehicles').count()['Household ID']]).T\n",
    "df.columns=([scen_name,base_name])\n",
    "df=df[df.index>=0]\n",
    "df"
   ]
  },
  {
   "cell_type": "code",
   "execution_count": null,
   "metadata": {
    "collapsed": false
   },
   "outputs": [],
   "source": [
    "# Distribution\n",
    "df_new = pd.DataFrame([df[scen_name]/df[scen_name].sum(),\n",
    "             df[base_name]/df[base_name].sum()]).T"
   ]
  },
  {
   "cell_type": "code",
   "execution_count": null,
   "metadata": {
    "collapsed": false
   },
   "outputs": [],
   "source": [
    "display_charts(df_new, title='Vehicles per Household', kind='bar', xlim=(0,6))"
   ]
  },
  {
   "cell_type": "code",
   "execution_count": null,
   "metadata": {
    "collapsed": true
   },
   "outputs": [],
   "source": []
  }
 ],
 "metadata": {
  "kernelspec": {
   "display_name": "Python 2",
   "language": "python",
   "name": "python2"
  },
  "language_info": {
   "codemirror_mode": {
    "name": "ipython",
    "version": 2
   },
   "file_extension": ".py",
   "mimetype": "text/x-python",
   "name": "python",
   "nbconvert_exporter": "python",
   "pygments_lexer": "ipython2",
   "version": "2.7.9"
  }
 },
 "nbformat": 4,
 "nbformat_minor": 0
}
