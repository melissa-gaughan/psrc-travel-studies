{
 "cells": [
  {
   "cell_type": "markdown",
   "metadata": {
    "collapsed": false
   },
   "source": [
    "## Results from Daysim Trip Demand"
   ]
  },
  {
   "cell_type": "markdown",
   "metadata": {},
   "source": [
    "*Summaries:*\n",
    "    - Total Trips & People\n",
    "    - Trips by Purpose\n",
    "    - Trip Rates by Purpose\n",
    "    - Trips by Mode\n",
    "    - Trip Length Distribution\n",
    "    - Travel Time by Mode\n",
    "    - Mode Share\n",
    "    - Value of Time\n",
    "    - Park and Ride\n",
    "---"
   ]
  },
  {
   "cell_type": "code",
   "execution_count": 56,
   "metadata": {
    "collapsed": false
   },
   "outputs": [
    {
     "data": {
      "text/html": [
       "<script>\n",
       "code_show=true; \n",
       "function code_toggle() {\n",
       " if (code_show){\n",
       " $('div.input').hide();\n",
       " } else {\n",
       " $('div.input').show();\n",
       " }\n",
       " code_show = !code_show\n",
       "} \n",
       "$( document ).ready(code_toggle);\n",
       "</script>\n",
       "<form action=\"javascript:code_toggle()\"><input type=\"submit\" value=\"Click here to toggle on/off the raw code.\"></form>"
      ],
      "text/plain": [
       "<IPython.core.display.HTML object>"
      ]
     },
     "execution_count": 56,
     "metadata": {},
     "output_type": "execute_result"
    }
   ],
   "source": [
    "from IPython.display import HTML\n",
    "\n",
    "HTML('''<script>\n",
    "code_show=true; \n",
    "function code_toggle() {\n",
    " if (code_show){\n",
    " $('div.input').hide();\n",
    " } else {\n",
    " $('div.input').show();\n",
    " }\n",
    " code_show = !code_show\n",
    "} \n",
    "$( document ).ready(code_toggle);\n",
    "</script>\n",
    "<form action=\"javascript:code_toggle()\"><input type=\"submit\" value=\"Click here to toggle on/off the raw code.\"></form>''')"
   ]
  },
  {
   "cell_type": "code",
   "execution_count": 57,
   "metadata": {
    "collapsed": false
   },
   "outputs": [
    {
     "name": "stdout",
     "output_type": "stream",
     "text": [
      "Populating the interactive namespace from numpy and matplotlib\n"
     ]
    }
   ],
   "source": [
    "import os\n",
    "import numpy as np\n",
    "import pandas as pd\n",
    "import h5py\n",
    "import pylab as P\n",
    "from IPython.display import display, display_pretty, Javascript, HTML\n",
    "from pandas_highcharts.core import serialize\n",
    "from pandas_highcharts.display import display_charts\n",
    "import matplotlib.pyplot as plt\n",
    "\n",
    "# Show charts in notebook\n",
    "%pylab inline"
   ]
  },
  {
   "cell_type": "code",
   "execution_count": 58,
   "metadata": {
    "collapsed": false
   },
   "outputs": [],
   "source": [
    "# Set main model directory to parent directory\n",
    "\n",
    "# 2006 survey\n",
    "model_dir = r'R:\\SoundCast\\releases\\TransportationFutures2010\\scripts\\summarize'\n",
    "\n",
    "# 2014 survey\n",
    "base_dir = r'R:\\SoundCast\\releases\\TransportationFutures2010\\scripts\\summarize' "
   ]
  },
  {
   "cell_type": "code",
   "execution_count": null,
   "metadata": {
    "collapsed": true
   },
   "outputs": [],
   "source": []
  },
  {
   "cell_type": "code",
   "execution_count": 59,
   "metadata": {
    "collapsed": false
   },
   "outputs": [],
   "source": [
    "# Read Model Scenario Results\n",
    "scen = h5py.File(model_dir + r'/survey.h5','r+')\n",
    "scen_name = '2006 Survey'"
   ]
  },
  {
   "cell_type": "code",
   "execution_count": 60,
   "metadata": {
    "collapsed": false
   },
   "outputs": [],
   "source": [
    "# Read Base Data\n",
    "base_file = r'/survey14.h5'\n",
    "\n",
    "base = h5py.File(base_dir + base_file ,'r+')\n",
    "base_name = '2014 Survey'"
   ]
  },
  {
   "cell_type": "code",
   "execution_count": 61,
   "metadata": {
    "collapsed": true
   },
   "outputs": [],
   "source": [
    "def build_df(h5file, h5table, var_dict, survey_file=False):\n",
    "    ''' Convert H5 into dataframe '''\n",
    "    data = {}\n",
    "    if survey_file:\n",
    "        # survey h5 have nested data structure, different than daysim_outputs\n",
    "        for col_name, var in var_dict.iteritems():\n",
    "            data[col_name] = [i[0] for i in h5file[h5table][var][:]]\n",
    "    else:\n",
    "        for col_name, var in var_dict.iteritems():\n",
    "            data[col_name] = [i for i in h5file[h5table][var][:]]\n",
    "\n",
    "    return pd.DataFrame(data)"
   ]
  },
  {
   "cell_type": "code",
   "execution_count": 62,
   "metadata": {
    "collapsed": true
   },
   "outputs": [],
   "source": [
    "tourdict={'Household ID': 'hhno',\n",
    "            'Person Number': 'pno',\n",
    "            'Auto Time':'tautotime',\n",
    "            'Auto Cost': 'tautocost',\n",
    "            'Auto Distance': 'tautodist',\n",
    "            'Mode': 'tmodetp',\n",
    "            'Purpose':'pdpurp',\n",
    "            'Expansion Factor': 'toexpfac'}"
   ]
  },
  {
   "cell_type": "code",
   "execution_count": 63,
   "metadata": {
    "collapsed": false
   },
   "outputs": [],
   "source": [
    "trip_scen = build_df(h5file=scen, h5table='Tour', var_dict=tourdict, survey_file=True)\n",
    "trip_base = build_df(h5file=base, h5table='Tour', var_dict=tourdict, survey_file=True)"
   ]
  },
  {
   "cell_type": "code",
   "execution_count": 64,
   "metadata": {
    "collapsed": false
   },
   "outputs": [],
   "source": [
    "# Create unique ID for person by concatenating household ID and person number \n",
    "tour_scen['personID'] = (tour_scen['Household ID'].astype('str')+tour_scen['Person Number'].astype('str')).astype('int')\n",
    "tour_base['personID'] = (tour_base['Household ID'].astype('str')+tour_base['Person Number'].astype('str')).astype('int')"
   ]
  },
  {
   "cell_type": "code",
   "execution_count": 65,
   "metadata": {
    "collapsed": true
   },
   "outputs": [],
   "source": [
    "## Cleanup"
   ]
  },
  {
   "cell_type": "code",
   "execution_count": 66,
   "metadata": {
    "collapsed": false
   },
   "outputs": [],
   "source": [
    "# Perform some cleanup to make sure datasets match\n",
    "# For 2006, move recreational purpose -> social\n",
    "#           move medical purpose -> personal business\n",
    "# trip_scen"
   ]
  },
  {
   "cell_type": "code",
   "execution_count": 67,
   "metadata": {
    "collapsed": true
   },
   "outputs": [],
   "source": [
    "# Remove all mode '7' (drive to transit) trips"
   ]
  },
  {
   "cell_type": "code",
   "execution_count": 68,
   "metadata": {
    "collapsed": false
   },
   "outputs": [
    {
     "data": {
      "text/plain": [
       "26832"
      ]
     },
     "execution_count": 68,
     "metadata": {},
     "output_type": "execute_result"
    }
   ],
   "source": [
    "tour_scen.count()['personID']"
   ]
  },
  {
   "cell_type": "markdown",
   "metadata": {},
   "source": [
    "## Tour Overview"
   ]
  },
  {
   "cell_type": "markdown",
   "metadata": {},
   "source": [
    "**Total Tours**"
   ]
  },
  {
   "cell_type": "code",
   "execution_count": 69,
   "metadata": {
    "collapsed": false
   },
   "outputs": [
    {
     "name": "stdout",
     "output_type": "stream",
     "text": [
      "2006 Survey: 26832\n",
      "2014 Survey: 19397\n"
     ]
    }
   ],
   "source": [
    "print scen_name + \": \"+ str(tour_scen.count()['personID'])\n",
    "print base_name + \": \"+ str(tour_base.count()['personID'])"
   ]
  },
  {
   "cell_type": "markdown",
   "metadata": {},
   "source": [
    "**Total People**"
   ]
  },
  {
   "cell_type": "code",
   "execution_count": 70,
   "metadata": {
    "collapsed": false
   },
   "outputs": [
    {
     "name": "stdout",
     "output_type": "stream",
     "text": [
      "2006 Survey: 26832\n",
      "2014 Survey: 19397\n"
     ]
    }
   ],
   "source": [
    "print scen_name + \": \"+ str(tour_scen['personID'].count()).split('.')[0]\n",
    "print base_name + \": \"+ str(tour_base['personID'].count()).split('.')[0]"
   ]
  },
  {
   "cell_type": "code",
   "execution_count": null,
   "metadata": {
    "collapsed": false
   },
   "outputs": [],
   "source": []
  },
  {
   "cell_type": "code",
   "execution_count": null,
   "metadata": {
    "collapsed": true
   },
   "outputs": [],
   "source": []
  },
  {
   "cell_type": "code",
   "execution_count": 71,
   "metadata": {
    "collapsed": false
   },
   "outputs": [
    {
     "ename": "KeyError",
     "evalue": "'Work'",
     "output_type": "error",
     "traceback": [
      "\u001b[1;31m---------------------------------------------------------------------------\u001b[0m",
      "\u001b[1;31mKeyError\u001b[0m                                  Traceback (most recent call last)",
      "\u001b[1;32m<ipython-input-71-1b37ef348f9c>\u001b[0m in \u001b[0;36m<module>\u001b[1;34m()\u001b[0m\n\u001b[0;32m     13\u001b[0m }\n\u001b[0;32m     14\u001b[0m \u001b[1;33m\u001b[0m\u001b[0m\n\u001b[1;32m---> 15\u001b[1;33m \u001b[0mtour_base\u001b[0m\u001b[1;33m[\u001b[0m\u001b[1;34m'Purpose'\u001b[0m\u001b[1;33m]\u001b[0m \u001b[1;33m=\u001b[0m \u001b[1;33m(\u001b[0m\u001b[1;33m[\u001b[0m\u001b[0mlabels\u001b[0m\u001b[1;33m[\u001b[0m\u001b[0mx\u001b[0m\u001b[1;33m]\u001b[0m \u001b[1;32mfor\u001b[0m \u001b[0mx\u001b[0m \u001b[1;32min\u001b[0m \u001b[0mtour_base\u001b[0m\u001b[1;33m[\u001b[0m\u001b[1;34m'Purpose'\u001b[0m\u001b[1;33m]\u001b[0m\u001b[1;33m]\u001b[0m\u001b[1;33m)\u001b[0m\u001b[1;33m\u001b[0m\u001b[0m\n\u001b[0m\u001b[0;32m     16\u001b[0m \u001b[0mtour_scen\u001b[0m\u001b[1;33m[\u001b[0m\u001b[1;34m'Purpose'\u001b[0m\u001b[1;33m]\u001b[0m \u001b[1;33m=\u001b[0m \u001b[1;33m(\u001b[0m\u001b[1;33m[\u001b[0m\u001b[0mlabels\u001b[0m\u001b[1;33m[\u001b[0m\u001b[0mx\u001b[0m\u001b[1;33m]\u001b[0m \u001b[1;32mfor\u001b[0m \u001b[0mx\u001b[0m \u001b[1;32min\u001b[0m \u001b[0mtour_scen\u001b[0m\u001b[1;33m[\u001b[0m\u001b[1;34m'Purpose'\u001b[0m\u001b[1;33m]\u001b[0m\u001b[1;33m]\u001b[0m\u001b[1;33m)\u001b[0m\u001b[1;33m\u001b[0m\u001b[0m\n",
      "\u001b[1;31mKeyError\u001b[0m: 'Work'"
     ]
    }
   ],
   "source": [
    "labels = {\n",
    "  0: \"None/Home\",  \n",
    "  1: \"Work\",\n",
    "  2: \"School\",\n",
    "  3: \"Escort\",\n",
    "  4: \"Personal Business\",\n",
    "  5: \"Shopping\",\n",
    "  6: \"Meal\",\n",
    "  7: \"Social\",\n",
    "  8: \"Recreational\",\n",
    "  9: \"Medical\",\n",
    "  10: \"Change mode\"\n",
    "}\n",
    "\n",
    "tour_base['Purpose'] = ([labels[x] for x in tour_base['Purpose']])\n",
    "tour_scen['Purpose'] = ([labels[x] for x in tour_scen['Purpose']])"
   ]
  },
  {
   "cell_type": "markdown",
   "metadata": {},
   "source": [
    "## Total Tours by Purpose"
   ]
  },
  {
   "cell_type": "code",
   "execution_count": 73,
   "metadata": {
    "collapsed": false
   },
   "outputs": [
    {
     "data": {
      "text/html": [
       "<div style=\"max-height:1000px;max-width:1500px;overflow:auto;\">\n",
       "<table border=\"1\" class=\"dataframe\">\n",
       "  <thead>\n",
       "    <tr style=\"text-align: right;\">\n",
       "      <th></th>\n",
       "      <th>2006 Survey</th>\n",
       "      <th>2014 Survey</th>\n",
       "    </tr>\n",
       "  </thead>\n",
       "  <tbody>\n",
       "    <tr>\n",
       "      <th>Escort</th>\n",
       "      <td> 3968</td>\n",
       "      <td> 1465</td>\n",
       "    </tr>\n",
       "    <tr>\n",
       "      <th>Meal</th>\n",
       "      <td> 1384</td>\n",
       "      <td> 1210</td>\n",
       "    </tr>\n",
       "    <tr>\n",
       "      <th>Medical</th>\n",
       "      <td>  586</td>\n",
       "      <td>  NaN</td>\n",
       "    </tr>\n",
       "    <tr>\n",
       "      <th>Personal Business</th>\n",
       "      <td> 2578</td>\n",
       "      <td> 2136</td>\n",
       "    </tr>\n",
       "    <tr>\n",
       "      <th>Recreational</th>\n",
       "      <td> 2594</td>\n",
       "      <td>  NaN</td>\n",
       "    </tr>\n",
       "    <tr>\n",
       "      <th>School</th>\n",
       "      <td> 3545</td>\n",
       "      <td> 2892</td>\n",
       "    </tr>\n",
       "    <tr>\n",
       "      <th>Shopping</th>\n",
       "      <td> 2345</td>\n",
       "      <td> 2111</td>\n",
       "    </tr>\n",
       "    <tr>\n",
       "      <th>Social</th>\n",
       "      <td> 1250</td>\n",
       "      <td> 3389</td>\n",
       "    </tr>\n",
       "    <tr>\n",
       "      <th>Work</th>\n",
       "      <td> 8582</td>\n",
       "      <td> 6194</td>\n",
       "    </tr>\n",
       "  </tbody>\n",
       "</table>\n",
       "</div>"
      ],
      "text/plain": [
       "                   2006 Survey  2014 Survey\n",
       "Escort                    3968         1465\n",
       "Meal                      1384         1210\n",
       "Medical                    586          NaN\n",
       "Personal Business         2578         2136\n",
       "Recreational              2594          NaN\n",
       "School                    3545         2892\n",
       "Shopping                  2345         2111\n",
       "Social                    1250         3389\n",
       "Work                      8582         6194"
      ]
     },
     "execution_count": 73,
     "metadata": {},
     "output_type": "execute_result"
    }
   ],
   "source": [
    "tour_purpose_df = pd.DataFrame([tour_scen.groupby('Purpose').count()['Household ID'],\n",
    "                                tour_base.groupby('Purpose').count()['Household ID']]).T\n",
    "tour_purpose_df.columns=([scen_name,base_name])\n",
    "tour_purpose_df"
   ]
  },
  {
   "cell_type": "code",
   "execution_count": 74,
   "metadata": {
    "collapsed": false
   },
   "outputs": [
    {
     "data": {
      "text/html": [
       "<div id=\"chart_idoZZqvMXB\"</div>\n",
       "    <script type=\"text/javascript\">new Highcharts.Chart({\"title\":{\"text\":\"Total Tours by Purpose\"},\"series\":[{\"data\":[[\"Escort\",3968.0],[\"Meal\",1384.0],[\"Medical\",586.0],[\"Personal Business\",2578.0],[\"Recreational\",2594.0],[\"School\",3545.0],[\"Shopping\",2345.0],[\"Social\",1250.0],[\"Work\",8582.0]],\"name\":\"2006 Survey\",\"yAxis\":0},{\"data\":[[\"Escort\",1465.0],[\"Meal\",1210.0],[\"Medical\",null],[\"Personal Business\",2136.0],[\"Recreational\",null],[\"School\",2892.0],[\"Shopping\",2111.0],[\"Social\",3389.0],[\"Work\",6194.0]],\"name\":\"2014 Survey\",\"yAxis\":0}],\"yAxis\":[{}],\"chart\":{\"renderTo\":\"chart_idoZZqvMXB\",\"type\":\"column\"},\"xAxis\":{\"categories\":[\"Escort\",\"Meal\",\"Medical\",\"Personal Business\",\"Recreational\",\"School\",\"Shopping\",\"Social\",\"Work\"]},\"legend\":{\"enabled\":true}});</script>"
      ],
      "text/plain": [
       "<IPython.core.display.HTML object>"
      ]
     },
     "metadata": {},
     "output_type": "display_data"
    }
   ],
   "source": [
    "display_charts(tour_purpose_df, title='Total Tours by Purpose', kind='bar')"
   ]
  },
  {
   "cell_type": "markdown",
   "metadata": {},
   "source": [
    "---"
   ]
  },
  {
   "cell_type": "markdown",
   "metadata": {},
   "source": [
    "## Tour Rates by Purpose"
   ]
  },
  {
   "cell_type": "code",
   "execution_count": 75,
   "metadata": {
    "collapsed": false
   },
   "outputs": [],
   "source": [
    "tour_p_df = tour_purpose_df/tour_purpose_df.sum()"
   ]
  },
  {
   "cell_type": "code",
   "execution_count": 76,
   "metadata": {
    "collapsed": false
   },
   "outputs": [
    {
     "data": {
      "text/html": [
       "<div id=\"chart_idVQpshJji\"</div>\n",
       "    <script type=\"text/javascript\">new Highcharts.Chart({\"title\":{\"text\":\"Tour Rates by Purpose\"},\"series\":[{\"data\":[[\"Escort\",0.1478831246],[\"Meal\",0.0515802027],[\"Medical\",0.0218395945],[\"Personal Business\",0.0960793083],[\"Recreational\",0.0966756112],[\"School\",0.1321183661],[\"Shopping\",0.087395647],[\"Social\",0.0465861658],[\"Work\",0.3198419797]],\"name\":\"2006 Survey\",\"yAxis\":0},{\"data\":[[\"Escort\",0.0755271434],[\"Meal\",0.0623807805],[\"Medical\",null],[\"Personal Business\",0.1101201217],[\"Recreational\",null],[\"School\",0.1490952209],[\"Shopping\",0.1088312626],[\"Social\",0.1747177399],[\"Work\",0.3193277311]],\"name\":\"2014 Survey\",\"yAxis\":0}],\"yAxis\":[{}],\"chart\":{\"renderTo\":\"chart_idVQpshJji\",\"type\":\"column\"},\"xAxis\":{\"categories\":[\"Escort\",\"Meal\",\"Medical\",\"Personal Business\",\"Recreational\",\"School\",\"Shopping\",\"Social\",\"Work\"]},\"legend\":{\"enabled\":true}});</script>"
      ],
      "text/plain": [
       "<IPython.core.display.HTML object>"
      ]
     },
     "metadata": {},
     "output_type": "display_data"
    }
   ],
   "source": [
    "display_charts(tour_p_df, title='Tour Rates by Purpose', kind='bar')"
   ]
  },
  {
   "cell_type": "markdown",
   "metadata": {},
   "source": [
    "---"
   ]
  },
  {
   "cell_type": "markdown",
   "metadata": {},
   "source": [
    "# Tours by Mode"
   ]
  },
  {
   "cell_type": "code",
   "execution_count": 77,
   "metadata": {
    "collapsed": false
   },
   "outputs": [
    {
     "data": {
      "text/html": [
       "<div style=\"max-height:1000px;max-width:1500px;overflow:auto;\">\n",
       "<table border=\"1\" class=\"dataframe\">\n",
       "  <thead>\n",
       "    <tr style=\"text-align: right;\">\n",
       "      <th></th>\n",
       "      <th>2006 Survey</th>\n",
       "      <th>2014 Survey</th>\n",
       "    </tr>\n",
       "  </thead>\n",
       "  <tbody>\n",
       "    <tr>\n",
       "      <th>Walk</th>\n",
       "      <td>  1925</td>\n",
       "      <td> 3996</td>\n",
       "    </tr>\n",
       "    <tr>\n",
       "      <th>Bike</th>\n",
       "      <td>   303</td>\n",
       "      <td>  464</td>\n",
       "    </tr>\n",
       "    <tr>\n",
       "      <th>SOV</th>\n",
       "      <td> 10390</td>\n",
       "      <td> 6197</td>\n",
       "    </tr>\n",
       "    <tr>\n",
       "      <th>HOV2</th>\n",
       "      <td>  5581</td>\n",
       "      <td> 3535</td>\n",
       "    </tr>\n",
       "    <tr>\n",
       "      <th>HOV3+</th>\n",
       "      <td>  5811</td>\n",
       "      <td> 2287</td>\n",
       "    </tr>\n",
       "    <tr>\n",
       "      <th>Transit</th>\n",
       "      <td>  1134</td>\n",
       "      <td> 2156</td>\n",
       "    </tr>\n",
       "    <tr>\n",
       "      <th>School Bus</th>\n",
       "      <td>  1149</td>\n",
       "      <td>  337</td>\n",
       "    </tr>\n",
       "    <tr>\n",
       "      <th>Other</th>\n",
       "      <td>    60</td>\n",
       "      <td>  255</td>\n",
       "    </tr>\n",
       "  </tbody>\n",
       "</table>\n",
       "</div>"
      ],
      "text/plain": [
       "            2006 Survey  2014 Survey\n",
       "Walk               1925         3996\n",
       "Bike                303          464\n",
       "SOV               10390         6197\n",
       "HOV2               5581         3535\n",
       "HOV3+              5811         2287\n",
       "Transit            1134         2156\n",
       "School Bus         1149          337\n",
       "Other                60          255"
      ]
     },
     "execution_count": 77,
     "metadata": {},
     "output_type": "execute_result"
    }
   ],
   "source": [
    "tour_modes_df = pd.DataFrame([tour_scen.groupby('Mode').count()['Household ID'],\n",
    "                               tour_base.groupby('Mode').count()['Household ID']]).T\n",
    "tour_modes_df.columns=([scen_name,base_name])\n",
    "tour_modes_df=tour_modes_df[tour_modes_df.index <>7]\n",
    "tour_modes_df.index=['Walk', 'Bike', 'SOV', 'HOV2', 'HOV3+', 'Transit', 'School Bus', 'Other']\n",
    "tour_modes_df"
   ]
  },
  {
   "cell_type": "code",
   "execution_count": 78,
   "metadata": {
    "collapsed": false
   },
   "outputs": [
    {
     "data": {
      "text/html": [
       "<div id=\"chart_idmCnNFxnQ\"</div>\n",
       "    <script type=\"text/javascript\">new Highcharts.Chart({\"title\":{\"text\":\"Total Tours by Mode\"},\"series\":[{\"data\":[[\"Walk\",1925],[\"Bike\",303],[\"SOV\",10390],[\"HOV2\",5581],[\"HOV3+\",5811],[\"Transit\",1134],[\"School Bus\",1149],[\"Other\",60]],\"name\":\"2006 Survey\",\"yAxis\":0},{\"data\":[[\"Walk\",3996],[\"Bike\",464],[\"SOV\",6197],[\"HOV2\",3535],[\"HOV3+\",2287],[\"Transit\",2156],[\"School Bus\",337],[\"Other\",255]],\"name\":\"2014 Survey\",\"yAxis\":0}],\"yAxis\":[{}],\"chart\":{\"renderTo\":\"chart_idmCnNFxnQ\",\"type\":\"column\"},\"xAxis\":{\"categories\":[\"Walk\",\"Bike\",\"SOV\",\"HOV2\",\"HOV3+\",\"Transit\",\"School Bus\",\"Other\"]},\"legend\":{\"enabled\":true}});</script>"
      ],
      "text/plain": [
       "<IPython.core.display.HTML object>"
      ]
     },
     "metadata": {},
     "output_type": "display_data"
    }
   ],
   "source": [
    "display_charts(tour_modes_df, kind='bar', title='Total Tours by Mode')"
   ]
  },
  {
   "cell_type": "markdown",
   "metadata": {},
   "source": [
    "---"
   ]
  },
  {
   "cell_type": "markdown",
   "metadata": {},
   "source": [
    "## Tour Travel Time by Mode"
   ]
  },
  {
   "cell_type": "code",
   "execution_count": 79,
   "metadata": {
    "collapsed": false
   },
   "outputs": [],
   "source": [
    "avg_dist_by_mode_scen = tour_scen.groupby('Mode').mean()[['Auto Time']]\n",
    "avg_dist_by_mode_base = tour_base.groupby('Mode').mean()[['Auto Time']]\n",
    "\n",
    "# Remove 7 (other) mode\n",
    "avg_dist_by_mode_scen = avg_dist_by_mode_scen[avg_dist_by_mode_scen.index <> 7]\n",
    "avg_dist_by_mode_base = avg_dist_by_mode_base[avg_dist_by_mode_base.index <> 7]"
   ]
  },
  {
   "cell_type": "code",
   "execution_count": 80,
   "metadata": {
    "collapsed": false
   },
   "outputs": [],
   "source": [
    "df = pd.DataFrame([avg_dist_by_mode_scen['Auto Time'], avg_dist_by_mode_base['Auto Time']]).T\n",
    "df.columns = [ scen_name, base_name]\n",
    "df.index = ['Walk', 'Bike', 'SOV', 'HOV2', 'HOV3+', 'Transit', 'School Bus', 'Other']"
   ]
  },
  {
   "cell_type": "code",
   "execution_count": 81,
   "metadata": {
    "collapsed": false
   },
   "outputs": [
    {
     "data": {
      "text/html": [
       "<div style=\"max-height:1000px;max-width:1500px;overflow:auto;\">\n",
       "<table border=\"1\" class=\"dataframe\">\n",
       "  <thead>\n",
       "    <tr style=\"text-align: right;\">\n",
       "      <th></th>\n",
       "      <th>2006 Survey</th>\n",
       "      <th>2014 Survey</th>\n",
       "    </tr>\n",
       "  </thead>\n",
       "  <tbody>\n",
       "    <tr>\n",
       "      <th>Walk</th>\n",
       "      <td>  7.416369</td>\n",
       "      <td>-1</td>\n",
       "    </tr>\n",
       "    <tr>\n",
       "      <th>Bike</th>\n",
       "      <td> 17.391815</td>\n",
       "      <td>-1</td>\n",
       "    </tr>\n",
       "    <tr>\n",
       "      <th>SOV</th>\n",
       "      <td> 27.304804</td>\n",
       "      <td>-1</td>\n",
       "    </tr>\n",
       "    <tr>\n",
       "      <th>HOV2</th>\n",
       "      <td> 23.599792</td>\n",
       "      <td>-1</td>\n",
       "    </tr>\n",
       "    <tr>\n",
       "      <th>HOV3+</th>\n",
       "      <td> 20.208893</td>\n",
       "      <td>-1</td>\n",
       "    </tr>\n",
       "    <tr>\n",
       "      <th>Transit</th>\n",
       "      <td> 36.256578</td>\n",
       "      <td>-1</td>\n",
       "    </tr>\n",
       "    <tr>\n",
       "      <th>School Bus</th>\n",
       "      <td> 12.981514</td>\n",
       "      <td>-1</td>\n",
       "    </tr>\n",
       "    <tr>\n",
       "      <th>Other</th>\n",
       "      <td> 28.641833</td>\n",
       "      <td>-1</td>\n",
       "    </tr>\n",
       "  </tbody>\n",
       "</table>\n",
       "</div>"
      ],
      "text/plain": [
       "            2006 Survey  2014 Survey\n",
       "Walk           7.416369           -1\n",
       "Bike          17.391815           -1\n",
       "SOV           27.304804           -1\n",
       "HOV2          23.599792           -1\n",
       "HOV3+         20.208893           -1\n",
       "Transit       36.256578           -1\n",
       "School Bus    12.981514           -1\n",
       "Other         28.641833           -1"
      ]
     },
     "execution_count": 81,
     "metadata": {},
     "output_type": "execute_result"
    }
   ],
   "source": [
    "df"
   ]
  },
  {
   "cell_type": "code",
   "execution_count": 82,
   "metadata": {
    "collapsed": false
   },
   "outputs": [
    {
     "data": {
      "text/html": [
       "<div id=\"chart_idirFIhFmh\"</div>\n",
       "    <script type=\"text/javascript\">new Highcharts.Chart({\"title\":{\"text\":\"Average (Auto) Tour Time by Mode\"},\"series\":[{\"data\":[[\"Walk\",7.4163688312],[\"Bike\",17.3918151815],[\"SOV\",27.3048036574],[\"HOV2\",23.5997921519],[\"HOV3+\",20.2088934779],[\"Transit\",36.2565784832],[\"School Bus\",12.9815143603],[\"Other\",28.6418333333]],\"name\":\"2006 Survey\",\"yAxis\":0},{\"data\":[[\"Walk\",-1.0],[\"Bike\",-1.0],[\"SOV\",-1.0],[\"HOV2\",-1.0],[\"HOV3+\",-1.0],[\"Transit\",-1.0],[\"School Bus\",-1.0],[\"Other\",-1.0]],\"name\":\"2014 Survey\",\"yAxis\":0}],\"yAxis\":[{\"max\":30,\"min\":0}],\"chart\":{\"renderTo\":\"chart_idirFIhFmh\",\"type\":\"column\"},\"xAxis\":{\"categories\":[\"Walk\",\"Bike\",\"SOV\",\"HOV2\",\"HOV3+\",\"Transit\",\"School Bus\",\"Other\"]},\"legend\":{\"enabled\":true}});</script>"
      ],
      "text/plain": [
       "<IPython.core.display.HTML object>"
      ]
     },
     "metadata": {},
     "output_type": "display_data"
    }
   ],
   "source": [
    "display_charts(df, kind='bar', title='Average (Auto) Tour Time by Mode', ylim=(0, 30))"
   ]
  },
  {
   "cell_type": "markdown",
   "metadata": {},
   "source": [
    "---"
   ]
  },
  {
   "cell_type": "markdown",
   "metadata": {},
   "source": [
    "## Tour Mode Share"
   ]
  },
  {
   "cell_type": "code",
   "execution_count": 83,
   "metadata": {
    "collapsed": false
   },
   "outputs": [
    {
     "data": {
      "text/html": [
       "<div style=\"max-height:1000px;max-width:1500px;overflow:auto;\">\n",
       "<table border=\"1\" class=\"dataframe\">\n",
       "  <thead>\n",
       "    <tr style=\"text-align: right;\">\n",
       "      <th></th>\n",
       "      <th>2006 Survey</th>\n",
       "      <th>2014 Survey</th>\n",
       "    </tr>\n",
       "  </thead>\n",
       "  <tbody>\n",
       "    <tr>\n",
       "      <th>Walk</th>\n",
       "      <td> 0.073047</td>\n",
       "      <td> 0.207833</td>\n",
       "    </tr>\n",
       "    <tr>\n",
       "      <th>Bike</th>\n",
       "      <td> 0.011498</td>\n",
       "      <td> 0.024133</td>\n",
       "    </tr>\n",
       "    <tr>\n",
       "      <th>SOV</th>\n",
       "      <td> 0.394263</td>\n",
       "      <td> 0.322307</td>\n",
       "    </tr>\n",
       "    <tr>\n",
       "      <th>HOV2</th>\n",
       "      <td> 0.211779</td>\n",
       "      <td> 0.183856</td>\n",
       "    </tr>\n",
       "    <tr>\n",
       "      <th>HOV3+</th>\n",
       "      <td> 0.220506</td>\n",
       "      <td> 0.118947</td>\n",
       "    </tr>\n",
       "    <tr>\n",
       "      <th>Transit</th>\n",
       "      <td> 0.043031</td>\n",
       "      <td> 0.112134</td>\n",
       "    </tr>\n",
       "    <tr>\n",
       "      <th>School Bus</th>\n",
       "      <td> 0.043600</td>\n",
       "      <td> 0.017527</td>\n",
       "    </tr>\n",
       "    <tr>\n",
       "      <th>Other</th>\n",
       "      <td> 0.002277</td>\n",
       "      <td> 0.013263</td>\n",
       "    </tr>\n",
       "  </tbody>\n",
       "</table>\n",
       "</div>"
      ],
      "text/plain": [
       "            2006 Survey  2014 Survey\n",
       "Walk           0.073047     0.207833\n",
       "Bike           0.011498     0.024133\n",
       "SOV            0.394263     0.322307\n",
       "HOV2           0.211779     0.183856\n",
       "HOV3+          0.220506     0.118947\n",
       "Transit        0.043031     0.112134\n",
       "School Bus     0.043600     0.017527\n",
       "Other          0.002277     0.013263"
      ]
     },
     "execution_count": 83,
     "metadata": {},
     "output_type": "execute_result"
    }
   ],
   "source": [
    "df = tour_modes_df/tour_modes_df.sum()\n",
    "df"
   ]
  },
  {
   "cell_type": "code",
   "execution_count": 84,
   "metadata": {
    "collapsed": false
   },
   "outputs": [
    {
     "data": {
      "text/html": [
       "<div id=\"chart_idlBztPWnd\"</div>\n",
       "    <script type=\"text/javascript\">new Highcharts.Chart({\"title\":{\"text\":\"Tour Mode Share\"},\"series\":[{\"data\":[[\"Walk\",0.0730467119],[\"Bike\",0.0114977422],[\"SOV\",0.3942625128],[\"HOV2\",0.2117785451],[\"HOV3+\",0.2205062042],[\"Transit\",0.0430311539],[\"School Bus\",0.0436003491],[\"Other\",0.0022767806]],\"name\":\"2006 Survey\",\"yAxis\":0},{\"data\":[[\"Walk\",0.2078327352],[\"Bike\",0.02413273],[\"SOV\",0.3223071722],[\"HOV2\",0.1838560358],[\"HOV3+\",0.1189473137],[\"Transit\",0.1121339783],[\"School Bus\",0.0175274354],[\"Other\",0.0132625995]],\"name\":\"2014 Survey\",\"yAxis\":0}],\"yAxis\":[{\"max\":0.5,\"min\":0}],\"chart\":{\"renderTo\":\"chart_idlBztPWnd\",\"type\":\"column\"},\"xAxis\":{\"categories\":[\"Walk\",\"Bike\",\"SOV\",\"HOV2\",\"HOV3+\",\"Transit\",\"School Bus\",\"Other\"]},\"legend\":{\"enabled\":true}});</script>"
      ],
      "text/plain": [
       "<IPython.core.display.HTML object>"
      ]
     },
     "metadata": {},
     "output_type": "display_data"
    }
   ],
   "source": [
    "display_charts(df, kind='bar', title='Tour Mode Share', ylim=(0, 0.5))"
   ]
  },
  {
   "cell_type": "markdown",
   "metadata": {},
   "source": [
    "---"
   ]
  },
  {
   "cell_type": "markdown",
   "metadata": {},
   "source": [
    "## Tour Mode Share by Purpose"
   ]
  },
  {
   "cell_type": "code",
   "execution_count": null,
   "metadata": {
    "collapsed": true
   },
   "outputs": [],
   "source": []
  },
  {
   "cell_type": "markdown",
   "metadata": {
    "collapsed": true
   },
   "source": [
    "## Tour Auto Distance"
   ]
  },
  {
   "cell_type": "code",
   "execution_count": 85,
   "metadata": {
    "collapsed": false
   },
   "outputs": [],
   "source": [
    "varname = 'Auto Distance'\n",
    "\n",
    "tourlen_base = [i for i in tour_base[varname][:]]\n",
    "tourlen_scen = [i for i in tour_scen[varname][:]]"
   ]
  },
  {
   "cell_type": "code",
   "execution_count": 86,
   "metadata": {
    "collapsed": false
   },
   "outputs": [
    {
     "data": {
      "text/plain": [
       "<matplotlib.legend.Legend at 0xcf5ccf8>"
      ]
     },
     "execution_count": 86,
     "metadata": {},
     "output_type": "execute_result"
    },
    {
     "data": {
      "image/png": "[encoded data removed]",
      "text/plain": [
       "<matplotlib.figure.Figure at 0xcd53828>"
      ]
     },
     "metadata": {},
     "output_type": "display_data"
    }
   ],
   "source": [
    "bins = 1000\n",
    "\n",
    "P.hist(tourlen_scen, bins=bins, normed=True, histtype='step', color='b', label=scen_name)\n",
    "P.hist(tourlen_base, bins=bins, normed=True, histtype='step', color='grey', alpha=0.3, label=base_name)\n",
    "P.xlim([0,40])    # Cutting the tail at 40 to focus on shorter trip distribution\n",
    "P.xlabel('Trip Length')\n",
    "P.ylabel('Distribution')\n",
    "P.legend()"
   ]
  },
  {
   "cell_type": "markdown",
   "metadata": {
    "collapsed": true
   },
   "source": [
    "## Tour Time"
   ]
  },
  {
   "cell_type": "code",
   "execution_count": 87,
   "metadata": {
    "collapsed": true
   },
   "outputs": [],
   "source": [
    "varname = 'Auto Distance'\n",
    "\n",
    "tourtime_base = [i for i in tour_base[varname][:]]\n",
    "tourtime_scen = [i for i in tour_scen[varname][:]]"
   ]
  },
  {
   "cell_type": "code",
   "execution_count": 88,
   "metadata": {
    "collapsed": false
   },
   "outputs": [
    {
     "data": {
      "text/plain": [
       "<matplotlib.legend.Legend at 0xd4012b0>"
      ]
     },
     "execution_count": 88,
     "metadata": {},
     "output_type": "execute_result"
    },
    {
     "data": {
      "image/png": "[encoded data removed]",
      "text/plain": [
       "<matplotlib.figure.Figure at 0xd401b00>"
      ]
     },
     "metadata": {},
     "output_type": "display_data"
    }
   ],
   "source": [
    "bins = 1000\n",
    "\n",
    "P.hist(tourtime_scen, bins=bins, normed=True, histtype='step', color='b', label=scen_name)\n",
    "P.hist(tourtime_base, bins=bins, normed=True, histtype='step', color='grey', alpha=0.3, label=base_name)\n",
    "P.xlim([0,40])    # Cutting the tail at 40 to focus on shorter trip distribution\n",
    "P.xlabel('Trip Time')\n",
    "P.ylabel('Distribution')\n",
    "P.legend()"
   ]
  }
 ],
 "metadata": {
  "kernelspec": {
   "display_name": "Python 2",
   "language": "python",
   "name": "python2"
  },
  "language_info": {
   "codemirror_mode": {
    "name": "ipython",
    "version": 2
   },
   "file_extension": ".py",
   "mimetype": "text/x-python",
   "name": "python",
   "nbconvert_exporter": "python",
   "pygments_lexer": "ipython2",
   "version": "2.7.9"
  }
 },
 "nbformat": 4,
 "nbformat_minor": 0
}
