{
 "cells": [
  {
   "cell_type": "markdown",
   "metadata": {
    "collapsed": false
   },
   "source": [
    "## Results from Daysim Trip Demand"
   ]
  },
  {
   "cell_type": "markdown",
   "metadata": {},
   "source": [
    "*Summaries:*\n",
    "    - Total Trips & People\n",
    "    - Trips by Purpose\n",
    "    - Trip Rates by Purpose\n",
    "    - Trips by Mode\n",
    "    - Trip Length Distribution\n",
    "    - Travel Time by Mode\n",
    "    - Mode Share\n",
    "    - Value of Time\n",
    "    - Park and Ride\n",
    "---"
   ]
  },
  {
   "cell_type": "code",
   "execution_count": 275,
   "metadata": {
    "collapsed": false
   },
   "outputs": [
    {
     "data": {
      "text/html": [
       "<script>\n",
       "code_show=true; \n",
       "function code_toggle() {\n",
       " if (code_show){\n",
       " $('div.input').hide();\n",
       " } else {\n",
       " $('div.input').show();\n",
       " }\n",
       " code_show = !code_show\n",
       "} \n",
       "$( document ).ready(code_toggle);\n",
       "</script>\n",
       "<form action=\"javascript:code_toggle()\"><input type=\"submit\" value=\"Click here to toggle on/off the raw code.\"></form>"
      ],
      "text/plain": [
       "<IPython.core.display.HTML object>"
      ]
     },
     "execution_count": 275,
     "metadata": {},
     "output_type": "execute_result"
    }
   ],
   "source": [
    "from IPython.display import HTML\n",
    "\n",
    "HTML('''<script>\n",
    "code_show=true; \n",
    "function code_toggle() {\n",
    " if (code_show){\n",
    " $('div.input').hide();\n",
    " } else {\n",
    " $('div.input').show();\n",
    " }\n",
    " code_show = !code_show\n",
    "} \n",
    "$( document ).ready(code_toggle);\n",
    "</script>\n",
    "<form action=\"javascript:code_toggle()\"><input type=\"submit\" value=\"Click here to toggle on/off the raw code.\"></form>''')"
   ]
  },
  {
   "cell_type": "code",
   "execution_count": 276,
   "metadata": {
    "collapsed": false
   },
   "outputs": [
    {
     "name": "stdout",
     "output_type": "stream",
     "text": [
      "Populating the interactive namespace from numpy and matplotlib\n"
     ]
    }
   ],
   "source": [
    "import os\n",
    "import numpy as np\n",
    "import pandas as pd\n",
    "import h5py\n",
    "import pylab as P\n",
    "from IPython.display import display, display_pretty, Javascript, HTML\n",
    "from pandas_highcharts.core import serialize\n",
    "from pandas_highcharts.display import display_charts\n",
    "import matplotlib.pyplot as plt\n",
    "\n",
    "# Show charts in notebook\n",
    "%pylab inline"
   ]
  },
  {
   "cell_type": "code",
   "execution_count": 277,
   "metadata": {
    "collapsed": false
   },
   "outputs": [],
   "source": [
    "# Set main model directory to parent directory\n",
    "\n",
    "# 2006 survey\n",
    "model_dir = r'R:\\SoundCast\\releases\\TransportationFutures2010\\scripts\\summarize'\n",
    "\n",
    "# 2014 survey\n",
    "base_dir = r'R:\\SoundCast\\releases\\TransportationFutures2010\\scripts\\summarize' "
   ]
  },
  {
   "cell_type": "code",
   "execution_count": null,
   "metadata": {
    "collapsed": true
   },
   "outputs": [],
   "source": []
  },
  {
   "cell_type": "code",
   "execution_count": 278,
   "metadata": {
    "collapsed": false
   },
   "outputs": [],
   "source": [
    "# Read Model Scenario Results\n",
    "scen = h5py.File(model_dir + r'/survey.h5','r+')\n",
    "scen_name = '2006 Survey'"
   ]
  },
  {
   "cell_type": "code",
   "execution_count": 279,
   "metadata": {
    "collapsed": false
   },
   "outputs": [],
   "source": [
    "# Read Base Data\n",
    "base_file = r'/survey14.h5'\n",
    "\n",
    "base = h5py.File(base_dir + base_file ,'r+')\n",
    "base_name = '2014 Survey'"
   ]
  },
  {
   "cell_type": "code",
   "execution_count": 280,
   "metadata": {
    "collapsed": false
   },
   "outputs": [],
   "source": [
    "# Get trip data into a single dataframe for base and scen\n",
    "data_table = 'Trip'\n",
    "\n",
    "trip_scen = pd.DataFrame(data={'Household ID': [i[0] for i in scen[data_table]['hhno'][:]],\n",
    "                               'Person Number': [i[0] for i in scen[data_table]['pno'][:]],\n",
    "                                'Travel Time': [i[0] for i in scen[data_table]['travtime'][:]],\n",
    "                                'Travel Cost': [i[0] for i in scen[data_table]['travcost'][:]],\n",
    "                                'Travel Distance': [i[0] for i in scen[data_table]['travdist'][:]],\n",
    "                                'Mode': [i[0] for i in scen[data_table]['mode'][:]],\n",
    "                                'Purpose': [i[0] for i in scen[data_table]['dpurp'][:]],\n",
    "                                'Expansion Factor': [i[0] for i in scen[data_table]['trexpfac'][:]]})\n",
    "\n",
    "trip_scen = pd.DataFrame(data={'Household ID': [i[0] for i in base[data_table]['hhno'][:]],\n",
    "                               'Person Number': [i[0] for i in base[data_table]['pno'][:]],\n",
    "                                'Travel Time': [i[0] for i in base[data_table]['travtime'][:]],\n",
    "                                'Travel Cost': [i[0] for i in base[data_table]['travcost'][:]],\n",
    "                                'Travel Distance': [i[0] for i in base[data_table]['travdist'][:]],\n",
    "                                'Mode': [i[0] for i in base[data_table]['mode'][:]],\n",
    "                                'Purpose': [i[0] for i in base[data_table]['dpurp'][:]],\n",
    "                                'Expansion Factor': [i[0] for i in base[data_table]['trexpfac'][:]]})"
   ]
  },
  {
   "cell_type": "code",
   "execution_count": 281,
   "metadata": {
    "collapsed": false
   },
   "outputs": [],
   "source": [
    "# Create unique ID for person by concatenating household ID and person number \n",
    "trip_scen['personID'] = (trip_scen['Household ID'].astype('str')+trip_scen['Person Number'].astype('str')).astype('int')\n",
    "trip_base['personID'] = (trip_base['Household ID'].astype('str')+trip_base['Person Number'].astype('str')).astype('int')"
   ]
  },
  {
   "cell_type": "code",
   "execution_count": 282,
   "metadata": {
    "collapsed": true
   },
   "outputs": [],
   "source": [
    "## Cleanup"
   ]
  },
  {
   "cell_type": "code",
   "execution_count": 283,
   "metadata": {
    "collapsed": false
   },
   "outputs": [],
   "source": [
    "# Perform some cleanup to make sure datasets match\n",
    "# For 2006, move recreational purpose -> social\n",
    "#           move medical purpose -> personal business\n",
    "# trip_scen"
   ]
  },
  {
   "cell_type": "code",
   "execution_count": 284,
   "metadata": {
    "collapsed": true
   },
   "outputs": [],
   "source": [
    "# Remove all mode '7' (drive to transit) trips"
   ]
  },
  {
   "cell_type": "markdown",
   "metadata": {},
   "source": [
    "## Trip Overview"
   ]
  },
  {
   "cell_type": "markdown",
   "metadata": {},
   "source": [
    "**Total Trips**"
   ]
  },
  {
   "cell_type": "code",
   "execution_count": 285,
   "metadata": {
    "collapsed": false
   },
   "outputs": [
    {
     "name": "stdout",
     "output_type": "stream",
     "text": [
      "2006 Survey: 13056266\n",
      "2014 Survey: 13056266\n"
     ]
    }
   ],
   "source": [
    "print scen_name + \": \"+ str(trip_scen['Expansion Factor'].sum()).split('.')[0]\n",
    "print base_name + \": \"+ str(trip_base['Expansion Factor'].sum()).split('.')[0]"
   ]
  },
  {
   "cell_type": "markdown",
   "metadata": {},
   "source": [
    "**Total People**"
   ]
  },
  {
   "cell_type": "code",
   "execution_count": 286,
   "metadata": {
    "collapsed": false
   },
   "outputs": [
    {
     "name": "stdout",
     "output_type": "stream",
     "text": [
      "2006 Survey: 54617\n",
      "2014 Survey: 54617\n"
     ]
    }
   ],
   "source": [
    "print scen_name + \": \"+ str(trip_scen['personID'].count()).split('.')[0]\n",
    "print base_name + \": \"+ str(trip_base['personID'].count()).split('.')[0]"
   ]
  },
  {
   "cell_type": "code",
   "execution_count": null,
   "metadata": {
    "collapsed": true
   },
   "outputs": [],
   "source": []
  },
  {
   "cell_type": "code",
   "execution_count": null,
   "metadata": {
    "collapsed": true
   },
   "outputs": [],
   "source": []
  },
  {
   "cell_type": "code",
   "execution_count": 287,
   "metadata": {
    "collapsed": false
   },
   "outputs": [],
   "source": [
    "container = 'Trip'\n",
    "fieldname = 'Trip Purpose'\n",
    "fieldvar = 'dpurp'\n",
    "labels = {\n",
    "  0: \"None/Home\",  \n",
    "  1: \"Work\",\n",
    "  2: \"School\",\n",
    "  3: \"Escort\",\n",
    "  4: \"Personal Business\",\n",
    "  5: \"Shopping\",\n",
    "  6: \"Meal\",\n",
    "  7: \"Social\",\n",
    "  8: \"Recreational\",\n",
    "  9: \"Medical\",\n",
    "  10: \"Change mode\"\n",
    "}\n",
    "\n",
    "# Create a labeled dataframe for base and scen data\n",
    "base_trip_purp = pd.DataFrame(np.asarray(base[container][fieldvar]), columns=[fieldvar])\n",
    "base_trip_purp[fieldname] = [labels[x] for x in base_trip_purp[fieldvar].as_matrix()]\n",
    "df_base = base_trip_purp.groupby(fieldname).count()[fieldvar]    # Sum by category\n",
    "df_base = df_base/df_base.sum()     # Convert totals to shares\n",
    "\n",
    "scen_trip_purp = pd.DataFrame(np.asarray(scen[container][fieldvar]), columns=[fieldvar])\n",
    "scen_trip_purp[fieldname] = [labels[x] for x in scen_trip_purp[fieldvar].as_matrix()]\n",
    "df_scen = scen_trip_purp.groupby(fieldname).count()[fieldvar]    # Sum by category\n",
    "df_scen = df_scen/df_scen.sum()     # Convert totals to shares"
   ]
  },
  {
   "cell_type": "markdown",
   "metadata": {},
   "source": [
    "## Total Trips by Purpose"
   ]
  },
  {
   "cell_type": "code",
   "execution_count": null,
   "metadata": {
    "collapsed": false
   },
   "outputs": [],
   "source": []
  },
  {
   "cell_type": "code",
   "execution_count": 288,
   "metadata": {
    "collapsed": false
   },
   "outputs": [
    {
     "data": {
      "text/html": [
       "<div style=\"max-height:1000px;max-width:1500px;overflow:auto;\">\n",
       "<table border=\"1\" class=\"dataframe\">\n",
       "  <thead>\n",
       "    <tr style=\"text-align: right;\">\n",
       "      <th></th>\n",
       "      <th>2006 Survey</th>\n",
       "      <th>2014 Survey</th>\n",
       "    </tr>\n",
       "  </thead>\n",
       "  <tbody>\n",
       "    <tr>\n",
       "      <th>Change mode</th>\n",
       "      <td>   844</td>\n",
       "      <td>   271</td>\n",
       "    </tr>\n",
       "    <tr>\n",
       "      <th>Escort</th>\n",
       "      <td>  7551</td>\n",
       "      <td>  2934</td>\n",
       "    </tr>\n",
       "    <tr>\n",
       "      <th>Meal</th>\n",
       "      <td>  3824</td>\n",
       "      <td>  3296</td>\n",
       "    </tr>\n",
       "    <tr>\n",
       "      <th>Medical</th>\n",
       "      <td>  1396</td>\n",
       "      <td>   NaN</td>\n",
       "    </tr>\n",
       "    <tr>\n",
       "      <th>None/Home</th>\n",
       "      <td> 26172</td>\n",
       "      <td> 18516</td>\n",
       "    </tr>\n",
       "    <tr>\n",
       "      <th>Personal Business</th>\n",
       "      <td>  6708</td>\n",
       "      <td>  5440</td>\n",
       "    </tr>\n",
       "    <tr>\n",
       "      <th>Recreational</th>\n",
       "      <td>  4066</td>\n",
       "      <td>   NaN</td>\n",
       "    </tr>\n",
       "    <tr>\n",
       "      <th>School</th>\n",
       "      <td>  3784</td>\n",
       "      <td>  4367</td>\n",
       "    </tr>\n",
       "    <tr>\n",
       "      <th>Shopping</th>\n",
       "      <td>  7260</td>\n",
       "      <td>  6210</td>\n",
       "    </tr>\n",
       "    <tr>\n",
       "      <th>Social</th>\n",
       "      <td>  2518</td>\n",
       "      <td>  5358</td>\n",
       "    </tr>\n",
       "    <tr>\n",
       "      <th>Work</th>\n",
       "      <td> 10644</td>\n",
       "      <td>  8225</td>\n",
       "    </tr>\n",
       "  </tbody>\n",
       "</table>\n",
       "</div>"
      ],
      "text/plain": [
       "                   2006 Survey  2014 Survey\n",
       "Change mode                844          271\n",
       "Escort                    7551         2934\n",
       "Meal                      3824         3296\n",
       "Medical                   1396          NaN\n",
       "None/Home                26172        18516\n",
       "Personal Business         6708         5440\n",
       "Recreational              4066          NaN\n",
       "School                    3784         4367\n",
       "Shopping                  7260         6210\n",
       "Social                    2518         5358\n",
       "Work                     10644         8225"
      ]
     },
     "execution_count": 288,
     "metadata": {},
     "output_type": "execute_result"
    }
   ],
   "source": [
    "trip_purpose_df = pd.DataFrame([scen_trip_purp.groupby('Trip Purpose').count()['dpurp'],\n",
    "                                base_trip_purp.groupby('Trip Purpose').count()['dpurp']]).T\n",
    "trip_purpose_df.columns=([scen_name,base_name])\n",
    "trip_purpose_df"
   ]
  },
  {
   "cell_type": "code",
   "execution_count": 289,
   "metadata": {
    "collapsed": false
   },
   "outputs": [
    {
     "data": {
      "text/html": [
       "<div id=\"chart_iduDwYDYke\"</div>\n",
       "    <script type=\"text/javascript\">new Highcharts.Chart({\"title\":{\"text\":\"Total Trips by Purpose\"},\"series\":[{\"data\":[[\"Change mode\",844.0],[\"Escort\",7551.0],[\"Meal\",3824.0],[\"Medical\",1396.0],[\"None\\/Home\",26172.0],[\"Personal Business\",6708.0],[\"Recreational\",4066.0],[\"School\",3784.0],[\"Shopping\",7260.0],[\"Social\",2518.0],[\"Work\",10644.0]],\"name\":\"2006 Survey\",\"yAxis\":0},{\"data\":[[\"Change mode\",271.0],[\"Escort\",2934.0],[\"Meal\",3296.0],[\"Medical\",null],[\"None\\/Home\",18516.0],[\"Personal Business\",5440.0],[\"Recreational\",null],[\"School\",4367.0],[\"Shopping\",6210.0],[\"Social\",5358.0],[\"Work\",8225.0]],\"name\":\"2014 Survey\",\"yAxis\":0}],\"yAxis\":[{}],\"chart\":{\"renderTo\":\"chart_iduDwYDYke\",\"type\":\"column\"},\"xAxis\":{\"categories\":[\"Change mode\",\"Escort\",\"Meal\",\"Medical\",\"None\\/Home\",\"Personal Business\",\"Recreational\",\"School\",\"Shopping\",\"Social\",\"Work\"]},\"legend\":{\"enabled\":true}});</script>"
      ],
      "text/plain": [
       "<IPython.core.display.HTML object>"
      ]
     },
     "metadata": {},
     "output_type": "display_data"
    }
   ],
   "source": [
    "display_charts(trip_purpose_df, title='Total Trips by Purpose', kind='bar')"
   ]
  },
  {
   "cell_type": "markdown",
   "metadata": {},
   "source": [
    "---"
   ]
  },
  {
   "cell_type": "markdown",
   "metadata": {},
   "source": [
    "## Trip Rates by Purpose"
   ]
  },
  {
   "cell_type": "code",
   "execution_count": 290,
   "metadata": {
    "collapsed": false
   },
   "outputs": [
    {
     "data": {
      "text/html": [
       "<div style=\"max-height:1000px;max-width:1500px;overflow:auto;\">\n",
       "<table border=\"1\" class=\"dataframe\">\n",
       "  <thead>\n",
       "    <tr style=\"text-align: right;\">\n",
       "      <th></th>\n",
       "      <th>2006 Survey</th>\n",
       "      <th>2014 Survey</th>\n",
       "    </tr>\n",
       "  </thead>\n",
       "  <tbody>\n",
       "    <tr>\n",
       "      <th>Change mode</th>\n",
       "      <td> 0.011288</td>\n",
       "      <td> 0.004962</td>\n",
       "    </tr>\n",
       "    <tr>\n",
       "      <th>Escort</th>\n",
       "      <td> 0.100994</td>\n",
       "      <td> 0.053720</td>\n",
       "    </tr>\n",
       "    <tr>\n",
       "      <th>Meal</th>\n",
       "      <td> 0.051146</td>\n",
       "      <td> 0.060348</td>\n",
       "    </tr>\n",
       "    <tr>\n",
       "      <th>Medical</th>\n",
       "      <td> 0.018671</td>\n",
       "      <td>      NaN</td>\n",
       "    </tr>\n",
       "    <tr>\n",
       "      <th>None/Home</th>\n",
       "      <td> 0.350047</td>\n",
       "      <td> 0.339015</td>\n",
       "    </tr>\n",
       "    <tr>\n",
       "      <th>Personal Business</th>\n",
       "      <td> 0.089719</td>\n",
       "      <td> 0.099603</td>\n",
       "    </tr>\n",
       "    <tr>\n",
       "      <th>Recreational</th>\n",
       "      <td> 0.054382</td>\n",
       "      <td>      NaN</td>\n",
       "    </tr>\n",
       "    <tr>\n",
       "      <th>School</th>\n",
       "      <td> 0.050611</td>\n",
       "      <td> 0.079957</td>\n",
       "    </tr>\n",
       "    <tr>\n",
       "      <th>Shopping</th>\n",
       "      <td> 0.097102</td>\n",
       "      <td> 0.113701</td>\n",
       "    </tr>\n",
       "    <tr>\n",
       "      <th>Social</th>\n",
       "      <td> 0.033678</td>\n",
       "      <td> 0.098101</td>\n",
       "    </tr>\n",
       "    <tr>\n",
       "      <th>Work</th>\n",
       "      <td> 0.142362</td>\n",
       "      <td> 0.150594</td>\n",
       "    </tr>\n",
       "  </tbody>\n",
       "</table>\n",
       "</div>"
      ],
      "text/plain": [
       "                   2006 Survey  2014 Survey\n",
       "Change mode           0.011288     0.004962\n",
       "Escort                0.100994     0.053720\n",
       "Meal                  0.051146     0.060348\n",
       "Medical               0.018671          NaN\n",
       "None/Home             0.350047     0.339015\n",
       "Personal Business     0.089719     0.099603\n",
       "Recreational          0.054382          NaN\n",
       "School                0.050611     0.079957\n",
       "Shopping              0.097102     0.113701\n",
       "Social                0.033678     0.098101\n",
       "Work                  0.142362     0.150594"
      ]
     },
     "execution_count": 290,
     "metadata": {},
     "output_type": "execute_result"
    }
   ],
   "source": [
    "trip_p_df = pd.DataFrame([df_scen, df_base]).T\n",
    "trip_p_df.columns = [ scen_name, base_name]\n",
    "\n",
    "trip_p_df"
   ]
  },
  {
   "cell_type": "code",
   "execution_count": 291,
   "metadata": {
    "collapsed": false
   },
   "outputs": [
    {
     "data": {
      "text/html": [
       "<div id=\"chart_idWnmNGDce\"</div>\n",
       "    <script type=\"text/javascript\">new Highcharts.Chart({\"title\":{\"text\":\"Trip Rates by Purpose\"},\"series\":[{\"data\":[[\"Change mode\",0.0112884026],[\"Escort\",0.1009937539],[\"Meal\",0.0511455589],[\"Medical\",0.018671339],[\"None\\/Home\",0.3500474808],[\"Personal Business\",0.0897187262],[\"Recreational\",0.054382281],[\"School\",0.0506105635],[\"Shopping\",0.0971016625],[\"Social\",0.0336779595],[\"Work\",0.1423622721]],\"name\":\"2006 Survey\",\"yAxis\":0},{\"data\":[[\"Change mode\",0.0049618251],[\"Escort\",0.0537195379],[\"Meal\",0.0603475108],[\"Medical\",null],[\"None\\/Home\",0.3390153249],[\"Personal Business\",0.0996026878],[\"Recreational\",null],[\"School\",0.07995679],[\"Shopping\",0.1137008624],[\"Social\",0.0981013238],[\"Work\",0.1505941374]],\"name\":\"2014 Survey\",\"yAxis\":0}],\"yAxis\":[{}],\"chart\":{\"renderTo\":\"chart_idWnmNGDce\",\"type\":\"column\"},\"xAxis\":{\"categories\":[\"Change mode\",\"Escort\",\"Meal\",\"Medical\",\"None\\/Home\",\"Personal Business\",\"Recreational\",\"School\",\"Shopping\",\"Social\",\"Work\"]},\"legend\":{\"enabled\":true}});</script>"
      ],
      "text/plain": [
       "<IPython.core.display.HTML object>"
      ]
     },
     "metadata": {},
     "output_type": "display_data"
    }
   ],
   "source": [
    "display_charts(trip_p_df, title='Trip Rates by Purpose', kind='bar')"
   ]
  },
  {
   "cell_type": "markdown",
   "metadata": {},
   "source": [
    "---"
   ]
  },
  {
   "cell_type": "markdown",
   "metadata": {},
   "source": [
    "# Trips by Mode"
   ]
  },
  {
   "cell_type": "code",
   "execution_count": 292,
   "metadata": {
    "collapsed": false
   },
   "outputs": [
    {
     "data": {
      "text/html": [
       "<div style=\"max-height:1000px;max-width:1500px;overflow:auto;\">\n",
       "<table border=\"1\" class=\"dataframe\">\n",
       "  <thead>\n",
       "    <tr style=\"text-align: right;\">\n",
       "      <th></th>\n",
       "      <th>2006 Survey</th>\n",
       "      <th>2014 Survey</th>\n",
       "    </tr>\n",
       "  </thead>\n",
       "  <tbody>\n",
       "    <tr>\n",
       "      <th>Walk</th>\n",
       "      <td> 12902</td>\n",
       "      <td> 12902</td>\n",
       "    </tr>\n",
       "    <tr>\n",
       "      <th>Bike</th>\n",
       "      <td>  1288</td>\n",
       "      <td>  1288</td>\n",
       "    </tr>\n",
       "    <tr>\n",
       "      <th>SOV</th>\n",
       "      <td> 20480</td>\n",
       "      <td> 20480</td>\n",
       "    </tr>\n",
       "    <tr>\n",
       "      <th>HOV2</th>\n",
       "      <td>  9502</td>\n",
       "      <td>  9502</td>\n",
       "    </tr>\n",
       "    <tr>\n",
       "      <th>HOV3+</th>\n",
       "      <td>  4861</td>\n",
       "      <td>  4861</td>\n",
       "    </tr>\n",
       "    <tr>\n",
       "      <th>Transit</th>\n",
       "      <td>  4632</td>\n",
       "      <td>  4632</td>\n",
       "    </tr>\n",
       "    <tr>\n",
       "      <th>School Bus</th>\n",
       "      <td>   579</td>\n",
       "      <td>   579</td>\n",
       "    </tr>\n",
       "    <tr>\n",
       "      <th>Other</th>\n",
       "      <td>   373</td>\n",
       "      <td>   373</td>\n",
       "    </tr>\n",
       "  </tbody>\n",
       "</table>\n",
       "</div>"
      ],
      "text/plain": [
       "            2006 Survey  2014 Survey\n",
       "Walk              12902        12902\n",
       "Bike               1288         1288\n",
       "SOV               20480        20480\n",
       "HOV2               9502         9502\n",
       "HOV3+              4861         4861\n",
       "Transit            4632         4632\n",
       "School Bus          579          579\n",
       "Other               373          373"
      ]
     },
     "execution_count": 292,
     "metadata": {},
     "output_type": "execute_result"
    }
   ],
   "source": [
    "trip_modes_df = pd.DataFrame([trip_scen.groupby('Mode').count()['Household ID'],\n",
    "                               trip_base.groupby('Mode').count()['Household ID']]).T\n",
    "trip_modes_df.columns=([scen_name,base_name])\n",
    "trip_modes_df=trip_modes_df[trip_modes_df.index <>7]\n",
    "trip_modes_df.index=['Walk', 'Bike', 'SOV', 'HOV2', 'HOV3+', 'Transit', 'School Bus', 'Other']\n",
    "trip_modes_df"
   ]
  },
  {
   "cell_type": "code",
   "execution_count": 293,
   "metadata": {
    "collapsed": false
   },
   "outputs": [
    {
     "data": {
      "text/html": [
       "<div id=\"chart_idsChCohVe\"</div>\n",
       "    <script type=\"text/javascript\">new Highcharts.Chart({\"title\":{\"text\":\"Total Trips by Mode\"},\"series\":[{\"data\":[[\"Walk\",12902],[\"Bike\",1288],[\"SOV\",20480],[\"HOV2\",9502],[\"HOV3+\",4861],[\"Transit\",4632],[\"School Bus\",579],[\"Other\",373]],\"name\":\"2006 Survey\",\"yAxis\":0},{\"data\":[[\"Walk\",12902],[\"Bike\",1288],[\"SOV\",20480],[\"HOV2\",9502],[\"HOV3+\",4861],[\"Transit\",4632],[\"School Bus\",579],[\"Other\",373]],\"name\":\"2014 Survey\",\"yAxis\":0}],\"yAxis\":[{}],\"chart\":{\"renderTo\":\"chart_idsChCohVe\",\"type\":\"column\"},\"xAxis\":{\"categories\":[\"Walk\",\"Bike\",\"SOV\",\"HOV2\",\"HOV3+\",\"Transit\",\"School Bus\",\"Other\"]},\"legend\":{\"enabled\":true}});</script>"
      ],
      "text/plain": [
       "<IPython.core.display.HTML object>"
      ]
     },
     "metadata": {},
     "output_type": "display_data"
    }
   ],
   "source": [
    "display_charts(trip_modes_df, kind='bar', title='Total Trips by Mode')"
   ]
  },
  {
   "cell_type": "markdown",
   "metadata": {},
   "source": [
    "---"
   ]
  },
  {
   "cell_type": "markdown",
   "metadata": {},
   "source": [
    "## Travel Time by Mode"
   ]
  },
  {
   "cell_type": "code",
   "execution_count": 294,
   "metadata": {
    "collapsed": false
   },
   "outputs": [],
   "source": [
    "avg_dist_by_mode_scen = trip_scen.groupby('Mode').mean()[['Travel Time']]\n",
    "\n",
    "# Remove 7 (other) mode\n",
    "avg_dist_by_mode_scen = avg_dist_by_mode_scen[avg_dist_by_mode_scen.index <> 7]\n",
    "avg_dist_by_mode_base = trip_base.groupby('Mode').mean()[['Travel Time']]"
   ]
  },
  {
   "cell_type": "code",
   "execution_count": 295,
   "metadata": {
    "collapsed": false
   },
   "outputs": [],
   "source": [
    "df = pd.DataFrame([avg_dist_by_mode_scen['Travel Time'], avg_dist_by_mode_base['Travel Time']]).T\n",
    "df.columns = [ scen_name, base_name]\n",
    "df.index = ['Walk', 'Bike', 'SOV', 'HOV2', 'HOV3+', 'Transit', 'School Bus', 'Other']"
   ]
  },
  {
   "cell_type": "code",
   "execution_count": 296,
   "metadata": {
    "collapsed": false
   },
   "outputs": [
    {
     "data": {
      "text/html": [
       "<div style=\"max-height:1000px;max-width:1500px;overflow:auto;\">\n",
       "<table border=\"1\" class=\"dataframe\">\n",
       "  <thead>\n",
       "    <tr style=\"text-align: right;\">\n",
       "      <th></th>\n",
       "      <th>2006 Survey</th>\n",
       "      <th>2014 Survey</th>\n",
       "    </tr>\n",
       "  </thead>\n",
       "  <tbody>\n",
       "    <tr>\n",
       "      <th>Walk</th>\n",
       "      <td> 1</td>\n",
       "      <td> 1</td>\n",
       "    </tr>\n",
       "    <tr>\n",
       "      <th>Bike</th>\n",
       "      <td> 1</td>\n",
       "      <td> 1</td>\n",
       "    </tr>\n",
       "    <tr>\n",
       "      <th>SOV</th>\n",
       "      <td> 1</td>\n",
       "      <td> 1</td>\n",
       "    </tr>\n",
       "    <tr>\n",
       "      <th>HOV2</th>\n",
       "      <td> 1</td>\n",
       "      <td> 1</td>\n",
       "    </tr>\n",
       "    <tr>\n",
       "      <th>HOV3+</th>\n",
       "      <td> 1</td>\n",
       "      <td> 1</td>\n",
       "    </tr>\n",
       "    <tr>\n",
       "      <th>Transit</th>\n",
       "      <td> 1</td>\n",
       "      <td> 1</td>\n",
       "    </tr>\n",
       "    <tr>\n",
       "      <th>School Bus</th>\n",
       "      <td> 1</td>\n",
       "      <td> 1</td>\n",
       "    </tr>\n",
       "    <tr>\n",
       "      <th>Other</th>\n",
       "      <td> 1</td>\n",
       "      <td> 1</td>\n",
       "    </tr>\n",
       "  </tbody>\n",
       "</table>\n",
       "</div>"
      ],
      "text/plain": [
       "            2006 Survey  2014 Survey\n",
       "Walk                  1            1\n",
       "Bike                  1            1\n",
       "SOV                   1            1\n",
       "HOV2                  1            1\n",
       "HOV3+                 1            1\n",
       "Transit               1            1\n",
       "School Bus            1            1\n",
       "Other                 1            1"
      ]
     },
     "execution_count": 296,
     "metadata": {},
     "output_type": "execute_result"
    }
   ],
   "source": [
    "df"
   ]
  },
  {
   "cell_type": "code",
   "execution_count": 297,
   "metadata": {
    "collapsed": false
   },
   "outputs": [
    {
     "data": {
      "text/html": [
       "<div id=\"chart_idNkwcQegU\"</div>\n",
       "    <script type=\"text/javascript\">new Highcharts.Chart({\"title\":{\"text\":\"Average Travel Time by Mode\"},\"series\":[{\"data\":[[\"Walk\",1.0],[\"Bike\",1.0],[\"SOV\",1.0],[\"HOV2\",1.0],[\"HOV3+\",1.0],[\"Transit\",1.0],[\"School Bus\",1.0],[\"Other\",1.0]],\"name\":\"2006 Survey\",\"yAxis\":0},{\"data\":[[\"Walk\",1.0],[\"Bike\",1.0],[\"SOV\",1.0],[\"HOV2\",1.0],[\"HOV3+\",1.0],[\"Transit\",1.0],[\"School Bus\",1.0],[\"Other\",1.0]],\"name\":\"2014 Survey\",\"yAxis\":0}],\"yAxis\":[{\"max\":30,\"min\":0}],\"chart\":{\"renderTo\":\"chart_idNkwcQegU\",\"type\":\"column\"},\"xAxis\":{\"categories\":[\"Walk\",\"Bike\",\"SOV\",\"HOV2\",\"HOV3+\",\"Transit\",\"School Bus\",\"Other\"]},\"legend\":{\"enabled\":true}});</script>"
      ],
      "text/plain": [
       "<IPython.core.display.HTML object>"
      ]
     },
     "metadata": {},
     "output_type": "display_data"
    }
   ],
   "source": [
    "display_charts(df, kind='bar', title='Average Travel Time by Mode', ylim=(0, 30))"
   ]
  },
  {
   "cell_type": "markdown",
   "metadata": {},
   "source": [
    "---"
   ]
  },
  {
   "cell_type": "code",
   "execution_count": null,
   "metadata": {
    "collapsed": true
   },
   "outputs": [],
   "source": []
  },
  {
   "cell_type": "code",
   "execution_count": null,
   "metadata": {
    "collapsed": true
   },
   "outputs": [],
   "source": []
  },
  {
   "cell_type": "markdown",
   "metadata": {},
   "source": [
    "## Mode Share"
   ]
  },
  {
   "cell_type": "code",
   "execution_count": 298,
   "metadata": {
    "collapsed": false
   },
   "outputs": [
    {
     "data": {
      "text/html": [
       "<div style=\"max-height:1000px;max-width:1500px;overflow:auto;\">\n",
       "<table border=\"1\" class=\"dataframe\">\n",
       "  <thead>\n",
       "    <tr style=\"text-align: right;\">\n",
       "      <th></th>\n",
       "      <th>2006 Survey</th>\n",
       "      <th>2014 Survey</th>\n",
       "    </tr>\n",
       "  </thead>\n",
       "  <tbody>\n",
       "    <tr>\n",
       "      <th>Walk</th>\n",
       "      <td> 0.078123</td>\n",
       "      <td> 0.236227</td>\n",
       "    </tr>\n",
       "    <tr>\n",
       "      <th>Bike</th>\n",
       "      <td> 0.010446</td>\n",
       "      <td> 0.023582</td>\n",
       "    </tr>\n",
       "    <tr>\n",
       "      <th>SOV</th>\n",
       "      <td> 0.466931</td>\n",
       "      <td> 0.374975</td>\n",
       "    </tr>\n",
       "    <tr>\n",
       "      <th>HOV2</th>\n",
       "      <td> 0.200717</td>\n",
       "      <td> 0.173975</td>\n",
       "    </tr>\n",
       "    <tr>\n",
       "      <th>HOV3+</th>\n",
       "      <td> 0.175438</td>\n",
       "      <td> 0.089002</td>\n",
       "    </tr>\n",
       "    <tr>\n",
       "      <th>Transit</th>\n",
       "      <td> 0.040834</td>\n",
       "      <td> 0.084809</td>\n",
       "    </tr>\n",
       "    <tr>\n",
       "      <th>School Bus</th>\n",
       "      <td> 0.025854</td>\n",
       "      <td> 0.010601</td>\n",
       "    </tr>\n",
       "    <tr>\n",
       "      <th>Other</th>\n",
       "      <td> 0.001565</td>\n",
       "      <td> 0.006829</td>\n",
       "    </tr>\n",
       "  </tbody>\n",
       "</table>\n",
       "</div>"
      ],
      "text/plain": [
       "            2006 Survey  2014 Survey\n",
       "Walk           0.078123     0.236227\n",
       "Bike           0.010446     0.023582\n",
       "SOV            0.466931     0.374975\n",
       "HOV2           0.200717     0.173975\n",
       "HOV3+          0.175438     0.089002\n",
       "Transit        0.040834     0.084809\n",
       "School Bus     0.025854     0.010601\n",
       "Other          0.001565     0.006829"
      ]
     },
     "execution_count": 298,
     "metadata": {},
     "output_type": "execute_result"
    }
   ],
   "source": [
    "base_mode_share = trips_by_mode_base/trips_by_mode_base.sum()\n",
    "scen_mode_share = trips_by_mode_scen/trips_by_mode_scen.sum()\n",
    "\n",
    "# Remove 7 (other) mode\n",
    "scen_mode_share = scen_mode_share[scen_mode_share.index <> 7]\n",
    "\n",
    "scen_mode_share.index = ['Walk', 'Bike', 'SOV', 'HOV2', 'HOV3+', 'Transit', 'School Bus', 'Other']\n",
    "base_mode_share.index = ['Walk', 'Bike', 'SOV', 'HOV2', 'HOV3+', 'Transit', 'School Bus', 'Other']\n",
    "\n",
    "scen_mode_share.columns = ['Mode Share']\n",
    "base_mode_share.columns = ['Mode Share']\n",
    "\n",
    "df = pd.DataFrame([scen_mode_share['Mode Share'], base_mode_share['Mode Share']]).T\n",
    "df.columns = [scen_name, base_name]\n",
    "df"
   ]
  },
  {
   "cell_type": "code",
   "execution_count": 299,
   "metadata": {
    "collapsed": false
   },
   "outputs": [
    {
     "data": {
      "text/html": [
       "<div id=\"chart_idMOzETXGQ\"</div>\n",
       "    <script type=\"text/javascript\">new Highcharts.Chart({\"title\":{\"text\":\"Mode Share\"},\"series\":[{\"data\":[[\"Walk\",0.0781227012],[\"Bike\",0.0104457849],[\"SOV\",0.4669305977],[\"HOV2\",0.2007168938],[\"HOV3+\",0.1754383618],[\"Transit\",0.0408335228],[\"School Bus\",0.025853652],[\"Other\",0.0015648615]],\"name\":\"2006 Survey\",\"yAxis\":0},{\"data\":[[\"Walk\",0.2362268158],[\"Bike\",0.0235824011],[\"SOV\",0.3749748247],[\"HOV2\",0.1739751359],[\"HOV3+\",0.0890015929],[\"Transit\",0.0848087592],[\"School Bus\",0.0106010949],[\"Other\",0.0068293755]],\"name\":\"2014 Survey\",\"yAxis\":0}],\"yAxis\":[{\"max\":0.5,\"min\":0}],\"chart\":{\"renderTo\":\"chart_idMOzETXGQ\",\"type\":\"column\"},\"xAxis\":{\"categories\":[\"Walk\",\"Bike\",\"SOV\",\"HOV2\",\"HOV3+\",\"Transit\",\"School Bus\",\"Other\"]},\"legend\":{\"enabled\":true}});</script>"
      ],
      "text/plain": [
       "<IPython.core.display.HTML object>"
      ]
     },
     "metadata": {},
     "output_type": "display_data"
    }
   ],
   "source": [
    "display_charts(df, kind='bar', title='Mode Share', ylim=(0, 0.5))"
   ]
  },
  {
   "cell_type": "markdown",
   "metadata": {},
   "source": [
    "---"
   ]
  },
  {
   "cell_type": "code",
   "execution_count": null,
   "metadata": {
    "collapsed": true
   },
   "outputs": [],
   "source": []
  },
  {
   "cell_type": "markdown",
   "metadata": {
    "collapsed": true
   },
   "source": [
    "## Trip Length"
   ]
  },
  {
   "cell_type": "code",
   "execution_count": 300,
   "metadata": {
    "collapsed": true
   },
   "outputs": [],
   "source": [
    "varname = 'travdist'\n",
    "\n",
    "triplen_base = [i[0] for i in base['Trip'][varname][:]]\n",
    "triplen_scen = [i[0] for i in scen['Trip'][varname][:]]"
   ]
  },
  {
   "cell_type": "code",
   "execution_count": 301,
   "metadata": {
    "collapsed": false
   },
   "outputs": [
    {
     "data": {
      "text/plain": [
       "<matplotlib.legend.Legend at 0x14cb6358>"
      ]
     },
     "execution_count": 301,
     "metadata": {},
     "output_type": "execute_result"
    },
    {
     "data": {
      "image/png": "[encoded data removed]",
      "text/plain": [
       "<matplotlib.figure.Figure at 0x13d38320>"
      ]
     },
     "metadata": {},
     "output_type": "display_data"
    }
   ],
   "source": [
    "bins = 1000\n",
    "\n",
    "P.hist(triplen_scen, bins=bins, normed=True, histtype='step', color='b', label=scen_name)\n",
    "P.hist(triplen_base, bins=bins, normed=True, histtype='step', color='grey', alpha=0.3, label=base_name)\n",
    "P.xlim([0,40])    # Cutting the tail at 40 to focus on shorter trip distribution\n",
    "P.xlabel('Trip Length')\n",
    "P.ylabel('Distribution')\n",
    "P.legend()"
   ]
  },
  {
   "cell_type": "markdown",
   "metadata": {
    "collapsed": true
   },
   "source": [
    "## Travel Time"
   ]
  },
  {
   "cell_type": "code",
   "execution_count": 302,
   "metadata": {
    "collapsed": true
   },
   "outputs": [],
   "source": [
    "varname = 'travtime'\n",
    "\n",
    "triptime_base = [i[0] for i in base['Trip'][varname][:]]\n",
    "triptime_scen = [i[0] for i in scen['Trip'][varname][:]]"
   ]
  },
  {
   "cell_type": "code",
   "execution_count": 303,
   "metadata": {
    "collapsed": false
   },
   "outputs": [
    {
     "data": {
      "text/plain": [
       "<matplotlib.legend.Legend at 0xe418c50>"
      ]
     },
     "execution_count": 303,
     "metadata": {},
     "output_type": "execute_result"
    },
    {
     "data": {
      "image/png": "[encoded data removed]",
      "text/plain": [
       "<matplotlib.figure.Figure at 0xe418b70>"
      ]
     },
     "metadata": {},
     "output_type": "display_data"
    }
   ],
   "source": [
    "bins = 1000\n",
    "\n",
    "P.hist(triptime_scen, bins=bins, normed=True, histtype='step', color='b', label=scen_name)\n",
    "P.hist(triptime_base, bins=bins, normed=True, histtype='step', color='grey', alpha=0.3, label=base_name)\n",
    "P.xlim([0,40])    # Cutting the tail at 40 to focus on shorter trip distribution\n",
    "P.xlabel('Trip Time')\n",
    "P.ylabel('Distribution')\n",
    "P.legend()"
   ]
  },
  {
   "cell_type": "markdown",
   "metadata": {
    "collapsed": true
   },
   "source": [
    "## Value of Time"
   ]
  },
  {
   "cell_type": "code",
   "execution_count": 304,
   "metadata": {
    "collapsed": false
   },
   "outputs": [],
   "source": [
    "# varname = 'vot'\n",
    "\n",
    "# vot_base = np.asarray(base['Trip'][varname])\n",
    "# vot_scen = np.asarray(scen['Trip'][varname])"
   ]
  },
  {
   "cell_type": "code",
   "execution_count": 305,
   "metadata": {
    "collapsed": false
   },
   "outputs": [],
   "source": [
    "# bins = 1000\n",
    "\n",
    "# P.hist(vot_scen, bins=bins, normed=True, histtype='step', color='b', label=scen_name)\n",
    "# P.hist(vot_base, bins=bins, normed=True, histtype='step', color='grey', alpha=0.3, label=base_name)\n",
    "# P.xlim([0,70])    # Cutting the tail at 70 to focus on shorter trip distribution\n",
    "# P.xlabel('Value of Time')\n",
    "# P.ylabel('Distribution')\n",
    "# P.legend()"
   ]
  },
  {
   "cell_type": "markdown",
   "metadata": {
    "collapsed": true
   },
   "source": [
    "## Park and Ride Trips"
   ]
  },
  {
   "cell_type": "code",
   "execution_count": null,
   "metadata": {
    "collapsed": true
   },
   "outputs": [],
   "source": []
  },
  {
   "cell_type": "code",
   "execution_count": null,
   "metadata": {
    "collapsed": true
   },
   "outputs": [],
   "source": []
  }
 ],
 "metadata": {
  "kernelspec": {
   "display_name": "Python 2",
   "language": "python",
   "name": "python2"
  },
  "language_info": {
   "codemirror_mode": {
    "name": "ipython",
    "version": 2
   },
   "file_extension": ".py",
   "mimetype": "text/x-python",
   "name": "python",
   "nbconvert_exporter": "python",
   "pygments_lexer": "ipython2",
   "version": "2.7.9"
  }
 },
 "nbformat": 4,
 "nbformat_minor": 0
}
