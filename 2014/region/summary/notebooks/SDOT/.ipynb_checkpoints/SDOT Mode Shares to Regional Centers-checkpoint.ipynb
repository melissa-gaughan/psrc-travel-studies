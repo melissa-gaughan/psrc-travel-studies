{
 "cells": [
  {
   "cell_type": "code",
   "execution_count": 79,
   "metadata": {
    "collapsed": true
   },
   "outputs": [],
   "source": [
    "# Mode shares to Seattle RGCs\n",
    "import pandas as pd\n",
    "\n",
    "pd.options.mode.chained_assignment = None  # default='warn'"
   ]
  },
  {
   "cell_type": "code",
   "execution_count": 83,
   "metadata": {
    "collapsed": false
   },
   "outputs": [],
   "source": [
    "# import data (release 3)\n",
    "trip_file = r'J:\\Projects\\Surveys\\HHTravel\\Survey2014\\Data\\Export\\Release 3\\General Release\\Unzipped\\2014-pr3-hhsurvey-trips.csv'\n",
    "trips = pd.read_csv(trip_file)"
   ]
  },
  {
   "cell_type": "code",
   "execution_count": 156,
   "metadata": {
    "collapsed": true
   },
   "outputs": [],
   "source": [
    "seattle_rgcs = ['Seattle CBD', 'First Hill/Capitol Hill', 'Northgate',\n",
    "             'South Lake Union','University Community','Uptown Queen Anne']"
   ]
  },
  {
   "cell_type": "code",
   "execution_count": 273,
   "metadata": {
    "collapsed": true
   },
   "outputs": [],
   "source": [
    "def format_pivot(df):\n",
    "    '''\n",
    "    Format pivot table results to include Seattle RGCs, select modes\n",
    "    '''\n",
    "    # select only trips to seattle locations\n",
    "    df = df[seattle_rgcs]\n",
    "    \n",
    "    df.fillna(0,inplace=True)\n",
    "    \n",
    "    # Add another columns for Seattle City Center, which includes multiple RGCs\n",
    "    df['City Center'] = df['Seattle CBD']+df['First Hill/Capitol Hill']+df['South Lake Union']\\\n",
    "        +df['Uptown Queen Anne']\n",
    "     \n",
    "    # Save total trips by RGC for later use\n",
    "    sum_row = df.sum()\n",
    "    \n",
    "    # Redefine modes (note: loc[] refers to mode number, iloc[] is an index)\n",
    "\n",
    "    # SOV: includes \"Drive alone\"\n",
    "    df.loc['SOV'] = df.loc[1]    \n",
    "\n",
    "    # HOV: includes \"Drove/rode ONLY with other hh members,\"\n",
    "    # \"drove/rode with people not in hh,\" and vanpool\n",
    "    df.loc['HOV'] = df.loc[2]+df.loc[3]+df.loc[5]\n",
    "\n",
    "    df.loc['Bike'] = df.loc[6]\n",
    "    df.loc['Walk'] = df.loc[7]\n",
    "    df.loc['Bus'] = df.loc[8]\n",
    "    df.loc['Train'] = df.loc[9]\n",
    "    df.loc['Ferry'] = df.loc[10]\n",
    "    df.loc['Streetcar'] = df.loc[11]\n",
    "    \n",
    "    df = df.loc[['SOV','HOV','Bike','Walk','Bus','Train','Ferry','Streetcar']]\n",
    "\n",
    "    # Calculate \"other\" as the sum of all trips to RGC minus sum of selected modes\n",
    "    # Other includes all other modes such as taxi, motorcycle, school bus,\n",
    "    # and also 'other', which falls outside even those categories\n",
    "    df.loc['Other'] = sum_row - df.sum()\n",
    "        \n",
    "    return df"
   ]
  },
  {
   "cell_type": "markdown",
   "metadata": {},
   "source": [
    "**All trips to/within Seattle RGCs**"
   ]
  },
  {
   "cell_type": "code",
   "execution_count": 215,
   "metadata": {
    "collapsed": false
   },
   "outputs": [],
   "source": [
    "all_trips_to_rgc = pd.pivot_table(data=trips, cols='d_rgc_name', index='mode', \n",
    "               values='expwt_final', aggfunc='sum')\n",
    "\n",
    "df = format_pivot(all_trips_to_rgc)\n",
    "df.to_clipboard()"
   ]
  },
  {
   "cell_type": "markdown",
   "metadata": {},
   "source": [
    "**All Commute Trips to/within Seattle RGCs**"
   ]
  },
  {
   "cell_type": "code",
   "execution_count": 221,
   "metadata": {
    "collapsed": false
   },
   "outputs": [],
   "source": [
    "# Filter for commute trips \n",
    "\n",
    "# Since we are concerned with trips to/within RGCs, consider commute trip as home->work trips only\n",
    "commute_trips = trips[(trips['d_purpose'] == 2) & (trips['o_purpose'] == 1)]"
   ]
  },
  {
   "cell_type": "code",
   "execution_count": 222,
   "metadata": {
    "collapsed": false
   },
   "outputs": [],
   "source": [
    "commute_trips_to_rgc = pd.pivot_table(data=commute_trips, cols='d_rgc_name', index='mode', \n",
    "               values='expwt_final', aggfunc='sum')\n",
    "\n",
    "df = format_pivot(commute_trips_to_rgc)\n",
    "df.to_clipboard()"
   ]
  },
  {
   "cell_type": "markdown",
   "metadata": {},
   "source": [
    "**Non-commute Trips to/within Seattle RGCs**"
   ]
  },
  {
   "cell_type": "code",
   "execution_count": 241,
   "metadata": {
    "collapsed": false
   },
   "outputs": [],
   "source": [
    "# filter for non-work trips ending in RGC zone\n",
    "\n",
    "# exclude all trips with destination of work\n",
    "non_commute = trips[-((trips['d_purpose'] == 2) & (trips['o_purpose'] == 1))]"
   ]
  },
  {
   "cell_type": "code",
   "execution_count": 242,
   "metadata": {
    "collapsed": false
   },
   "outputs": [
    {
     "data": {
      "text/plain": [
       "True"
      ]
     },
     "execution_count": 242,
     "metadata": {},
     "output_type": "execute_result"
    }
   ],
   "source": [
    "# non-commute trips should be any trip that wasn't defined as a commute trip\n",
    "len(non_commute)+len(commute_trips)==len(trips)"
   ]
  },
  {
   "cell_type": "code",
   "execution_count": 244,
   "metadata": {
    "collapsed": false
   },
   "outputs": [],
   "source": [
    "non_commute_to_rgc = pd.pivot_table(data=non_commute, cols='d_rgc_name', index='mode', \n",
    "               values='expwt_final', aggfunc='sum')\n",
    "\n",
    "df = format_pivot(non_commute_to_rgc)\n",
    "df.to_clipboard()"
   ]
  },
  {
   "cell_type": "markdown",
   "metadata": {},
   "source": [
    "**All Trips, for Households living in Seattle RGCs**"
   ]
  },
  {
   "cell_type": "code",
   "execution_count": 250,
   "metadata": {
    "collapsed": false
   },
   "outputs": [],
   "source": [
    "# Select only households that live within the Seattle RGCs\n",
    "# need the household info to join with trip data\n",
    "hh_file = hh = r'J:\\Projects\\Surveys\\HHTravel\\Survey2014\\Data\\Export\\Release 3\\General Release\\Unzipped\\2014-pr3-hhsurvey-households.csv'\n",
    "hh = pd.read_csv(hh_file)"
   ]
  },
  {
   "cell_type": "code",
   "execution_count": 257,
   "metadata": {
    "collapsed": false
   },
   "outputs": [],
   "source": [
    "trip_hh = trips.merge(hh,on='hhid')"
   ]
  },
  {
   "cell_type": "code",
   "execution_count": 258,
   "metadata": {
    "collapsed": false
   },
   "outputs": [],
   "source": [
    "seattle_rgc_trip_hh = trip_hh[trip_hh['h_rgc_name'].isin(seattle_rgcs)]"
   ]
  },
  {
   "cell_type": "code",
   "execution_count": 259,
   "metadata": {
    "collapsed": false
   },
   "outputs": [],
   "source": [
    "rgc_hh_mode_share = pd.pivot_table(data=seattle_rgc_trip_hh, cols='d_rgc_name', index='mode', \n",
    "               values='expwt_final', aggfunc='sum')\n",
    "\n",
    "df = format_pivot(rgc_hh_mode_share)\n",
    "df.to_clipboard()"
   ]
  },
  {
   "cell_type": "markdown",
   "metadata": {},
   "source": [
    "**Non-Work Trips for Households Living in Seattle RGCs**"
   ]
  },
  {
   "cell_type": "code",
   "execution_count": 260,
   "metadata": {
    "collapsed": true
   },
   "outputs": [],
   "source": [
    "# This query is for households living in seattle rgcs, but targeted for non-commute trips only"
   ]
  },
  {
   "cell_type": "code",
   "execution_count": 270,
   "metadata": {
    "collapsed": false
   },
   "outputs": [
    {
     "name": "stdout",
     "output_type": "stream",
     "text": [
      "4796\n"
     ]
    }
   ],
   "source": [
    "# Since we are no longer considering trips by the destination location,\n",
    "# we should filter out all commute trips -> this includes home-work and work-home\n",
    "\n",
    "# First filter out the home->work trips\n",
    "sea_noncom = seattle_rgc_trip_hh[-((seattle_rgc_trip_hh['d_purpose'] == 2) & \\\n",
    "                                   (seattle_rgc_trip_hh['o_purpose'] == 1))]\n",
    "print len(sea_noncom)\n"
   ]
  },
  {
   "cell_type": "code",
   "execution_count": 271,
   "metadata": {
    "collapsed": false
   },
   "outputs": [
    {
     "name": "stdout",
     "output_type": "stream",
     "text": [
      "4349\n"
     ]
    }
   ],
   "source": [
    "# Next filter those results to remove all work->home trips too!\n",
    "sea_noncom = sea_noncom[-((sea_noncom['d_purpose'] == 1) & \\\n",
    "                                   (sea_noncom['o_purpose'] == 2))]\n",
    "print len(sea_noncom)"
   ]
  },
  {
   "cell_type": "code",
   "execution_count": 274,
   "metadata": {
    "collapsed": false
   },
   "outputs": [],
   "source": [
    "noncommute = pd.pivot_table(data=sea_noncom, cols='d_rgc_name', index='mode', \n",
    "               values='expwt_final', aggfunc='sum')\n",
    "\n",
    "df = format_pivot(noncommute)\n",
    "df.to_clipboard()"
   ]
  },
  {
   "cell_type": "markdown",
   "metadata": {},
   "source": [
    "Sample Count:\n",
    "    to count samples, do the following for each category"
   ]
  },
  {
   "cell_type": "code",
   "execution_count": 184,
   "metadata": {
    "collapsed": false
   },
   "outputs": [
    {
     "data": {
      "text/plain": [
       "d_rgc_name\n",
       "Seattle CBD                2874\n",
       "First Hill/Capitol Hill    2126\n",
       "Northgate                   416\n",
       "South Lake Union            583\n",
       "University Community       1208\n",
       "Uptown Queen Anne           566\n",
       "City Center                6149\n",
       "dtype: float64"
      ]
     },
     "execution_count": 184,
     "metadata": {},
     "output_type": "execute_result"
    }
   ],
   "source": [
    "# Change aggfunc='sum' to aggfunc='count' in the pivot_table method\n",
    "all_trips_to_rgc = pd.pivot_table(data=trips, cols='d_rgc_name', index='mode', \n",
    "               values='expwt_final', aggfunc='count')\n",
    "\n",
    "df = format_pivot(all_trips_to_rgc)\n",
    "df.sum()"
   ]
  },
  {
   "cell_type": "code",
   "execution_count": null,
   "metadata": {
    "collapsed": true
   },
   "outputs": [],
   "source": []
  }
 ],
 "metadata": {
  "kernelspec": {
   "display_name": "Python 2",
   "language": "python",
   "name": "python2"
  },
  "language_info": {
   "codemirror_mode": {
    "name": "ipython",
    "version": 2
   },
   "file_extension": ".py",
   "mimetype": "text/x-python",
   "name": "python",
   "nbconvert_exporter": "python",
   "pygments_lexer": "ipython2",
   "version": "2.7.9"
  }
 },
 "nbformat": 4,
 "nbformat_minor": 0
}
