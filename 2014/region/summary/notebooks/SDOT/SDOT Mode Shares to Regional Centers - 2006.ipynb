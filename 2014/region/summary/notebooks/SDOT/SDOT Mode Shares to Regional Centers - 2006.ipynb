{
 "cells": [
  {
   "cell_type": "code",
   "execution_count": 186,
   "metadata": {
    "collapsed": true
   },
   "outputs": [],
   "source": [
    "# Mode shares to Seattle RGCs (2006 survey)\n",
    "import pandas as pd\n",
    "import h5py\n",
    "pd.options.mode.chained_assignment = None  # default='warn'"
   ]
  },
  {
   "cell_type": "code",
   "execution_count": 187,
   "metadata": {
    "collapsed": false
   },
   "outputs": [],
   "source": [
    "# import data (using the 2006 survey h5 input for soundcast)\n",
    "h5_file = r'R:\\SoundCast\\Inputs\\2010\\etc\\survey.h5'\n",
    "h5 = h5py.File(h5_file)"
   ]
  },
  {
   "cell_type": "code",
   "execution_count": 188,
   "metadata": {
    "collapsed": false
   },
   "outputs": [],
   "source": [
    "def h5_to_df(h5,table):\n",
    "    df = pd.DataFrame()\n",
    "    for col in h5[table].keys():\n",
    "        df[col] = [i[0] for i in h5[table][col][:]]\n",
    "        \n",
    "    return df"
   ]
  },
  {
   "cell_type": "code",
   "execution_count": 189,
   "metadata": {
    "collapsed": false
   },
   "outputs": [
    {
     "name": "stdout",
     "output_type": "stream",
     "text": [
      "11128\n",
      "4741\n"
     ]
    }
   ],
   "source": [
    "# Import h5 tables as dataframes\n",
    "hh = h5_to_df(h5,'Household')\n",
    "trips = h5_to_df(h5,'Trip')\n",
    "print len(trip)\n",
    "print len(hh)"
   ]
  },
  {
   "cell_type": "code",
   "execution_count": 190,
   "metadata": {
    "collapsed": false
   },
   "outputs": [
    {
     "data": {
      "text/plain": [
       "Index([u'arrtm', u'dadtyp', u'day', u'deptm', u'dorp', u'dpcl', u'dpurp', u'dtaz', u'endacttm', u'half', u'hhno', u'mode', u'oadtyp', u'opcl', u'opurp', u'otaz', u'pathtype', u'pno', u'tour', u'travcost', u'travdist', u'travtime', u'trexpfac', u'tseg', u'tsvid'], dtype='object')"
      ]
     },
     "execution_count": 190,
     "metadata": {},
     "output_type": "execute_result"
    }
   ],
   "source": [
    "trips.columns"
   ]
  },
  {
   "cell_type": "code",
   "execution_count": 191,
   "metadata": {
    "collapsed": false
   },
   "outputs": [],
   "source": [
    "# Add lookup for RGC to trip destination parcel\n",
    "# Using file stored on R drive, sorry about the hard codes :/\n",
    "rgc_lookup =pd.read_csv(r'R:\\SoundCast\\releases\\TransportationFutures2010\\scripts\\summarize\\parcels_in_urbcens.csv')\n",
    "\n",
    "# rgc_lookup.groupby('NAME').count()"
   ]
  },
  {
   "cell_type": "code",
   "execution_count": 192,
   "metadata": {
    "collapsed": false
   },
   "outputs": [
    {
     "name": "stdout",
     "output_type": "stream",
     "text": [
      "11128\n"
     ]
    }
   ],
   "source": [
    "# Join to trip file based on trip destination parcel\n",
    "# returns only trips that end within an RGC\n",
    "trips = trips.merge(rgc_lookup, left_on='dpcl', right_on='hhparcel', how='inner')\n",
    "print len(trips)\n",
    "\n",
    "# rename the NAME column to something more understandable\n",
    "trips['d_rgc_name'] = trips['NAME']"
   ]
  },
  {
   "cell_type": "code",
   "execution_count": 193,
   "metadata": {
    "collapsed": false
   },
   "outputs": [
    {
     "name": "stdout",
     "output_type": "stream",
     "text": [
      "223\n"
     ]
    }
   ],
   "source": [
    "# Join RGC to household location\n",
    "hh = hh.merge(rgc_lookup, left_on='hhparcel',right_on='hhparcel',how='inner')\n",
    "hh['hh_rgc_name'] = hh['NAME']\n",
    "print len(hh)"
   ]
  },
  {
   "cell_type": "code",
   "execution_count": 194,
   "metadata": {
    "collapsed": false
   },
   "outputs": [],
   "source": [
    "# Join household data to trips\n",
    "trip_hh = trips.merge(hh,on='hhno')\n"
   ]
  },
  {
   "cell_type": "code",
   "execution_count": 195,
   "metadata": {
    "collapsed": true
   },
   "outputs": [],
   "source": [
    "seattle_rgcs = ['Seattle Downtown', 'Seattle First Hill/Capitol Hill', 'Seattle Northgate',\n",
    "             'Seattle South Lake Union','Seattle University Community','Seattle Uptown']"
   ]
  },
  {
   "cell_type": "code",
   "execution_count": 196,
   "metadata": {
    "collapsed": true
   },
   "outputs": [],
   "source": [
    "def format_pivot(df):\n",
    "    '''\n",
    "    Format pivot table results to include Seattle RGCs, select modes\n",
    "    '''\n",
    "    # select only trips to seattle locations\n",
    "    df = df[seattle_rgcs]\n",
    "    \n",
    "    df.fillna(0,inplace=True)\n",
    "    \n",
    "    # Add another columns for Seattle City Center, which includes multiple RGCs\n",
    "    df['City Center'] = df['Seattle Downtown']+df['Seattle First Hill/Capitol Hill']+df['Seattle South Lake Union']\\\n",
    "        +df['Seattle Uptown']\n",
    "     \n",
    "    # Save total trips by RGC for later use\n",
    "    sum_row = df.sum()\n",
    "    \n",
    "    # Redefine modes (note: loc[] refers to mode number, iloc[] is an index)\n",
    "\n",
    "    # SOV: includes \"Drive alone\"\n",
    "    df.loc['SOV'] = df.loc[3]    \n",
    "\n",
    "    # HOV: includes \"Drove/rode ONLY with other hh members,\"\n",
    "    # \"drove/rode with people not in hh,\" and vanpool\n",
    "    df.loc['HOV'] = df.loc[4]+df.loc[5]\n",
    "\n",
    "    df.loc['Bike'] = df.loc[2]\n",
    "    df.loc['Walk'] = df.loc[1]\n",
    "    df.loc['Transit'] = df.loc[6]   \n",
    "    df = df.loc[['SOV','HOV','Bike','Walk','Transit']]\n",
    "\n",
    "    # Calculate \"other\" as the sum of all trips to RGC minus sum of selected modes\n",
    "    # Other includes all other modes such as taxi, motorcycle, school bus,\n",
    "    # and also 'other', which falls outside even those categories\n",
    "    df.loc['Other'] = sum_row - df.sum()\n",
    "        \n",
    "    return df"
   ]
  },
  {
   "cell_type": "markdown",
   "metadata": {},
   "source": [
    "**All trips to/within Seattle RGCs**"
   ]
  },
  {
   "cell_type": "code",
   "execution_count": 198,
   "metadata": {
    "collapsed": false
   },
   "outputs": [],
   "source": [
    "all_trips_to_rgc = pd.pivot_table(data=trips, cols='d_rgc_name', index='mode', \n",
    "               values='trexpfac', aggfunc='sum')\n",
    "\n",
    "df = format_pivot(all_trips_to_rgc)\n",
    "df.to_clipboard()\n"
   ]
  },
  {
   "cell_type": "markdown",
   "metadata": {},
   "source": [
    "**All Commute Trips to/within Seattle RGCs**"
   ]
  },
  {
   "cell_type": "code",
   "execution_count": 199,
   "metadata": {
    "collapsed": false
   },
   "outputs": [],
   "source": [
    "# Filter for commute trips \n",
    "\n",
    "# Since we are concerned with trips to/within RGCs, consider commute trip as home->work trips only\n",
    "commute_trips = trips[(trips['dpurp'] == 1) & (trips['opurp'] == 0)]"
   ]
  },
  {
   "cell_type": "code",
   "execution_count": 201,
   "metadata": {
    "collapsed": false
   },
   "outputs": [],
   "source": [
    "commute_trips_to_rgc = pd.pivot_table(data=commute_trips, cols='d_rgc_name', index='mode', \n",
    "               values='trexpfac', aggfunc='sum')\n",
    "\n",
    "df = format_pivot(commute_trips_to_rgc)\n",
    "df.to_clipboard()"
   ]
  },
  {
   "cell_type": "markdown",
   "metadata": {},
   "source": [
    "**Non-commute Trips to/within Seattle RGCs**"
   ]
  },
  {
   "cell_type": "code",
   "execution_count": 202,
   "metadata": {
    "collapsed": false
   },
   "outputs": [],
   "source": [
    "# filter for non-work trips ending in RGC zone\n",
    "\n",
    "# exclude all trips with destination of work\n",
    "non_commute = trips[-((trips['dpurp'] == 1) & (trips['opurp'] == 0))]"
   ]
  },
  {
   "cell_type": "code",
   "execution_count": 203,
   "metadata": {
    "collapsed": false
   },
   "outputs": [
    {
     "data": {
      "text/plain": [
       "True"
      ]
     },
     "execution_count": 203,
     "metadata": {},
     "output_type": "execute_result"
    }
   ],
   "source": [
    "# non-commute trips should be any trip that wasn't defined as a commute trip\n",
    "len(non_commute)+len(commute_trips)==len(trips)"
   ]
  },
  {
   "cell_type": "code",
   "execution_count": 204,
   "metadata": {
    "collapsed": false
   },
   "outputs": [],
   "source": [
    "non_commute_to_rgc = pd.pivot_table(data=non_commute, cols='d_rgc_name', index='mode', \n",
    "               values='trexpfac', aggfunc='sum')\n",
    "\n",
    "df = format_pivot(non_commute_to_rgc)\n",
    "df.to_clipboard()"
   ]
  },
  {
   "cell_type": "markdown",
   "metadata": {},
   "source": [
    "**All Trips, for Households living in Seattle RGCs**"
   ]
  },
  {
   "cell_type": "code",
   "execution_count": 207,
   "metadata": {
    "collapsed": false
   },
   "outputs": [],
   "source": [
    "seattle_rgc_trip_hh = trip_hh[trip_hh['hh_rgc_name'].isin(seattle_rgcs)]"
   ]
  },
  {
   "cell_type": "code",
   "execution_count": 208,
   "metadata": {
    "collapsed": false
   },
   "outputs": [],
   "source": [
    "rgc_hh_mode_share = pd.pivot_table(data=seattle_rgc_trip_hh, cols='d_rgc_name', index='mode', \n",
    "               values='trexpfac', aggfunc='sum')\n",
    "\n",
    "df = format_pivot(rgc_hh_mode_share)\n",
    "df.to_clipboard()"
   ]
  },
  {
   "cell_type": "markdown",
   "metadata": {},
   "source": [
    "**Non-Work Trips for Households Living in Seattle RGCs**"
   ]
  },
  {
   "cell_type": "code",
   "execution_count": 209,
   "metadata": {
    "collapsed": true
   },
   "outputs": [],
   "source": [
    "# This query is for households living in seattle rgcs, but targeted for non-commute trips only"
   ]
  },
  {
   "cell_type": "code",
   "execution_count": 210,
   "metadata": {
    "collapsed": false
   },
   "outputs": [
    {
     "name": "stdout",
     "output_type": "stream",
     "text": [
      "933\n"
     ]
    }
   ],
   "source": [
    "# Since we are no longer considering trips by the destination location,\n",
    "# we should filter out all commute trips -> this includes home-work and work-home\n",
    "\n",
    "# First filter out the home->work trips\n",
    "sea_noncom = seattle_rgc_trip_hh[-((seattle_rgc_trip_hh['dpurp'] == 1) & \\\n",
    "                                   (seattle_rgc_trip_hh['opurp'] == 0))]\n",
    "print len(sea_noncom)\n"
   ]
  },
  {
   "cell_type": "code",
   "execution_count": 211,
   "metadata": {
    "collapsed": false
   },
   "outputs": [
    {
     "name": "stdout",
     "output_type": "stream",
     "text": [
      "800\n"
     ]
    }
   ],
   "source": [
    "# Next filter those results to remove all work->home trips too!\n",
    "sea_noncom = sea_noncom[-((sea_noncom['dpurp'] == 0) & \\\n",
    "                                   (sea_noncom['opurp'] == 1))]\n",
    "print len(sea_noncom)"
   ]
  },
  {
   "cell_type": "code",
   "execution_count": 212,
   "metadata": {
    "collapsed": false
   },
   "outputs": [],
   "source": [
    "noncommute = pd.pivot_table(data=sea_noncom, cols='d_rgc_name', index='mode', \n",
    "               values='trexpfac', aggfunc='sum')\n",
    "\n",
    "df = format_pivot(noncommute)\n",
    "df.to_clipboard()"
   ]
  },
  {
   "cell_type": "markdown",
   "metadata": {},
   "source": [
    "Sample Count:\n",
    "    to count samples, do the following for each category"
   ]
  },
  {
   "cell_type": "code",
   "execution_count": 151,
   "metadata": {
    "collapsed": false
   },
   "outputs": [
    {
     "data": {
      "text/plain": [
       "d_rgc_name\n",
       "Seattle Downtown                   2465\n",
       "Seattle First Hill/Capitol Hill    1295\n",
       "Seattle Northgate                   460\n",
       "Seattle South Lake Union            305\n",
       "Seattle University Community       1005\n",
       "Seattle Uptown                      386\n",
       "City Center                        4451\n",
       "dtype: float64"
      ]
     },
     "execution_count": 151,
     "metadata": {},
     "output_type": "execute_result"
    }
   ],
   "source": [
    "# Change aggfunc='sum' to aggfunc='count' in the pivot_table method\n",
    "all_trips_to_rgc = pd.pivot_table(data=trips, cols='d_rgc_name', index='mode', \n",
    "               values='trexpfac', aggfunc='count')\n",
    "\n",
    "df = format_pivot(all_trips_to_rgc)\n",
    "df.sum()"
   ]
  },
  {
   "cell_type": "code",
   "execution_count": null,
   "metadata": {
    "collapsed": true
   },
   "outputs": [],
   "source": []
  }
 ],
 "metadata": {
  "kernelspec": {
   "display_name": "Python 2",
   "language": "python",
   "name": "python2"
  },
  "language_info": {
   "codemirror_mode": {
    "name": "ipython",
    "version": 2
   },
   "file_extension": ".py",
   "mimetype": "text/x-python",
   "name": "python",
   "nbconvert_exporter": "python",
   "pygments_lexer": "ipython2",
   "version": "2.7.9"
  }
 },
 "nbformat": 4,
 "nbformat_minor": 0
}
