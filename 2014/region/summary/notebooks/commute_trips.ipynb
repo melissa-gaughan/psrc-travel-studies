{
 "metadata": {
  "name": "",
  "signature": "sha256:1982c076f8b824c9d5c000b7b8a616b00e1e02498514304efb2ed295c2307365"
 },
 "nbformat": 3,
 "nbformat_minor": 0,
 "worksheets": [
  {
   "cells": [
    {
     "cell_type": "code",
     "collapsed": false,
     "input": [
      "# "
     ],
     "language": "python",
     "metadata": {},
     "outputs": [],
     "prompt_number": 6
    },
    {
     "cell_type": "code",
     "collapsed": false,
     "input": [
      "import numpy as np\n",
      "import pandas as pd\n",
      "import load_data as data"
     ],
     "language": "python",
     "metadata": {},
     "outputs": [
      {
       "output_type": "stream",
       "stream": "stderr",
       "text": [
        "C:\\Anaconda\\lib\\site-packages\\pandas\\io\\parsers.py:1070: DtypeWarning: Columns (41) have mixed types. Specify dtype option on import or set low_memory=False.\n",
        "  data = self._reader.read(nrows)\n"
       ]
      }
     ],
     "prompt_number": 1
    },
    {
     "cell_type": "code",
     "collapsed": false,
     "input": [
      "commute = data.trip.query('d_purpose == 2 and o_purpose == 1')"
     ],
     "language": "python",
     "metadata": {},
     "outputs": [],
     "prompt_number": 2
    },
    {
     "cell_type": "code",
     "collapsed": false,
     "input": [
      "# Total mode share by county\n",
      "df = pd.pivot_table(data.trip, rows='mode', cols='dcnty', aggfunc='sum')['expwt_2']\n",
      "df.to_clipboard()"
     ],
     "language": "python",
     "metadata": {},
     "outputs": [],
     "prompt_number": 4
    },
    {
     "cell_type": "code",
     "collapsed": false,
     "input": [
      "# commute only mode share by county\n",
      "df = pd.pivot_table(commute, rows='mode', cols='dcnty', aggfunc='sum')['expwt_2']\n",
      "df.to_clipboard()"
     ],
     "language": "python",
     "metadata": {},
     "outputs": [],
     "prompt_number": 25
    },
    {
     "cell_type": "code",
     "collapsed": false,
     "input": [
      "avg_trip_len"
     ],
     "language": "python",
     "metadata": {},
     "outputs": [
      {
       "metadata": {},
       "output_type": "pyout",
       "prompt_number": 4,
       "text": [
        "8.0958962112502917"
       ]
      }
     ],
     "prompt_number": 4
    },
    {
     "cell_type": "code",
     "collapsed": false,
     "input": [
      "# Need temp column for storing results for pivot table\n",
      "data.trip['wt_gdist'] = data.trip.gdist * data.trip.expwt_2\n",
      "\n",
      "data.trip['wt_gtime'] = data.trip.gtime * data.trip.expwt_2"
     ],
     "language": "python",
     "metadata": {},
     "outputs": [],
     "prompt_number": 5
    },
    {
     "cell_type": "code",
     "collapsed": false,
     "input": [
      "# Average trip length by mode\n",
      "mode_group = data.trip.groupby('mode').sum()\n",
      "mode_group.wt_avg = mode_group['wt_gdist']/data.trip.groupby('mode').expwt_2.sum()\n",
      "\n",
      "# Final trip length by mode table\n",
      "mode_group.wt_avg.to_clipboard()"
     ],
     "language": "python",
     "metadata": {},
     "outputs": [],
     "prompt_number": 6
    },
    {
     "cell_type": "code",
     "collapsed": false,
     "input": [
      "# Average trip length by purpose\n",
      "purp_group = data.trip.groupby('d_purpose').sum()\n",
      "purp_group.wt_avg = purp_group['wt_gdist']/data.trip.groupby('d_purpose').expwt_2.sum()\n",
      "\n",
      "# Final trip length by purpose table\n",
      "purp_group.wt_avg.to_clipboard()"
     ],
     "language": "python",
     "metadata": {},
     "outputs": [],
     "prompt_number": 7
    },
    {
     "cell_type": "code",
     "collapsed": false,
     "input": [
      "# Average trip time by mode\n",
      "mode_group.wt_avg_time = mode_group['wt_gtime']/data.trip.groupby('mode').expwt_2.sum()\n",
      "\n",
      "# Final trip length by mode table\n",
      "mode_group.wt_avg_time.to_clipboard()"
     ],
     "language": "python",
     "metadata": {},
     "outputs": [],
     "prompt_number": 8
    },
    {
     "cell_type": "code",
     "collapsed": false,
     "input": [
      "# Average trip time by purpose\n",
      "mode_group.wt_avg_time_purp = mode_group['wt_gtime']/data.trip.groupby('d_purpose').expwt_2.sum()\n",
      "\n",
      "# Final trip length by pur table\n",
      "mode_group.wt_avg_time_purp.to_clipboard()"
     ],
     "language": "python",
     "metadata": {},
     "outputs": [],
     "prompt_number": 9
    },
    {
     "cell_type": "code",
     "collapsed": false,
     "input": [
      "# Average trip time by county\n",
      "cnty_group = data.trip.groupby('dcnty').sum()\n",
      "mode_group.wt_avg_time_purp = mode_group['wt_gtime']/data.trip.groupby('dcnty').expwt_2.sum()\n",
      "\n",
      "# Final trip length by pur table\n",
      "mode_group.wt_avg_time_purp.to_clipboard()"
     ],
     "language": "python",
     "metadata": {},
     "outputs": [],
     "prompt_number": 10
    },
    {
     "cell_type": "code",
     "collapsed": false,
     "input": [
      "purp_group.index"
     ],
     "language": "python",
     "metadata": {},
     "outputs": [
      {
       "metadata": {},
       "output_type": "pyout",
       "prompt_number": 13,
       "text": [
        "Int64Index([1, 2, 3, 4, 5, 6, 7, 8, 9, 10, 11, 12, 13, 14, 15, 16], dtype='int64')"
       ]
      }
     ],
     "prompt_number": 13
    },
    {
     "cell_type": "code",
     "collapsed": false,
     "input": [
      "data.trip.groupby('mode').expwt_2.count()"
     ],
     "language": "python",
     "metadata": {},
     "outputs": [
      {
       "metadata": {},
       "output_type": "pyout",
       "prompt_number": 19,
       "text": [
        "mode\n",
        "-99        30\n",
        " 1      19481\n",
        " 2      11385\n",
        " 3       2782\n",
        " 4        129\n",
        " 5        123\n",
        " 6        926\n",
        " 7       8827\n",
        " 8       2902\n",
        " 9        168\n",
        " 10       115\n",
        " 11        15\n",
        " 12       586\n",
        " 13        87\n",
        " 14        18\n",
        " 15       170\n",
        " 16       112\n",
        " 17        31\n",
        "dtype: int64"
       ]
      }
     ],
     "prompt_number": 19
    },
    {
     "cell_type": "code",
     "collapsed": false,
     "input": [],
     "language": "python",
     "metadata": {},
     "outputs": []
    }
   ],
   "metadata": {}
  }
 ]
}