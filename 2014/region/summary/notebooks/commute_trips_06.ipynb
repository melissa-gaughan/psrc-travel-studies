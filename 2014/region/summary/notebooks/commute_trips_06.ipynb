{
 "metadata": {
  "name": "",
  "signature": "sha256:c84406f2ea3105436c48ca6c3b434fd1ffe9eb75715218f56a84a4cdfddbd9d6"
 },
 "nbformat": 3,
 "nbformat_minor": 0,
 "worksheets": [
  {
   "cells": [
    {
     "cell_type": "code",
     "collapsed": false,
     "input": [
      "import numpy as np\n",
      "import pandas as pd\n",
      "#import load_data as data"
     ],
     "language": "python",
     "metadata": {},
     "outputs": [],
     "prompt_number": 1
    },
    {
     "cell_type": "code",
     "collapsed": false,
     "input": [
      "# Laoding this in manually, seemed to have problems otherwise\n",
      "trip = pd.read_csv(r'data/2006/trips.csv')\n",
      "parcel_city = pd.read_csv(r'data/parcel_to_city.csv')"
     ],
     "language": "python",
     "metadata": {},
     "outputs": [],
     "prompt_number": 2
    },
    {
     "cell_type": "code",
     "collapsed": false,
     "input": [
      "# Filter out trips with negative fields\n",
      "trip = trip.query('opcl > 0 and otaz > 0 and travtime >= 0 and travcost >= 0 and travdist >=0 and trexpfac >=0')"
     ],
     "language": "python",
     "metadata": {},
     "outputs": [],
     "prompt_number": 3
    },
    {
     "cell_type": "code",
     "collapsed": false,
     "input": [
      "# Join city name to trip file (based on destination location)\n",
      "newtrip = pd.merge(trip, parcel_city, left_on='dpcl', right_on='PIN')\n",
      "newtrip.drop_duplicates(inplace=True)"
     ],
     "language": "python",
     "metadata": {},
     "outputs": [],
     "prompt_number": 4
    },
    {
     "cell_type": "code",
     "collapsed": false,
     "input": [
      "expwt = 'trexpfac'"
     ],
     "language": "python",
     "metadata": {},
     "outputs": [],
     "prompt_number": 5
    },
    {
     "cell_type": "code",
     "collapsed": false,
     "input": [
      "# total mode share for region\n",
      "newtrip.groupby('mode').sum()[expwt].to_clipboard()"
     ],
     "language": "python",
     "metadata": {},
     "outputs": [],
     "prompt_number": 7
    },
    {
     "cell_type": "code",
     "collapsed": false,
     "input": [
      "# total only mode share by county\n",
      "df = pd.pivot_table(newtrip, rows='mode', cols='COUNTY', aggfunc='sum')[expwt]\n",
      "df.to_clipboard()"
     ],
     "language": "python",
     "metadata": {},
     "outputs": [],
     "prompt_number": 14
    },
    {
     "cell_type": "code",
     "collapsed": false,
     "input": [
      "len(data.trip)"
     ],
     "language": "python",
     "metadata": {},
     "outputs": [
      {
       "metadata": {},
       "output_type": "pyout",
       "prompt_number": 22,
       "text": [
        "14906"
       ]
      }
     ],
     "prompt_number": 22
    },
    {
     "cell_type": "code",
     "collapsed": false,
     "input": [
      "commute = newtrip.query('opurp == 0 and dpurp == 1')"
     ],
     "language": "python",
     "metadata": {},
     "outputs": [],
     "prompt_number": 8
    },
    {
     "cell_type": "code",
     "collapsed": false,
     "input": [
      "# total mode share for region\n",
      "commute.groupby('mode').sum()[expwt].to_clipboard()"
     ],
     "language": "python",
     "metadata": {},
     "outputs": [],
     "prompt_number": 9
    },
    {
     "cell_type": "code",
     "collapsed": false,
     "input": [
      "# commute only mode share by county\n",
      "df = pd.pivot_table(commute, rows='mode', cols='COUNTY', aggfunc='sum')[expwt]\n",
      "df.to_clipboard()"
     ],
     "language": "python",
     "metadata": {},
     "outputs": [],
     "prompt_number": 18
    },
    {
     "cell_type": "code",
     "collapsed": false,
     "input": [],
     "language": "python",
     "metadata": {},
     "outputs": []
    },
    {
     "cell_type": "code",
     "collapsed": false,
     "input": [],
     "language": "python",
     "metadata": {},
     "outputs": []
    },
    {
     "cell_type": "code",
     "collapsed": false,
     "input": [],
     "language": "python",
     "metadata": {},
     "outputs": []
    },
    {
     "cell_type": "code",
     "collapsed": false,
     "input": [
      "# Define KC subareas\n",
      "# Reference: http://your.kingcounty.gov/budget/agr/agr03/03AGRCH4b.pdf\n",
      "seashore_cities = ['SEATTLE', 'SHORELINE','LAKE FOREST PARK']\n",
      "south_cities = ['BURIEN', 'NORMANDY PARK', 'SEATAC', 'TUKWILA', 'RENTON','DES MOINES', 'KENT', 'FEDERAL WAY',\n",
      "                'AUBURN', 'ALGONA', 'MILTON', 'PACIFIC', 'COVINGTON', 'MAPLE VALLEY', 'BLACK DIAMOND']\n",
      "east_cities = ['BOTHELL','WOODINVILLE', 'KENMORE', 'KIRKLAND', 'REDMOND','HUNTS POINT', 'YARROW POINT', 'CLYDE MILL',\n",
      "               'MEDINA', 'BELLEVUE', 'BEAUX ARTS', 'SAMMAMISH', 'MERCER ISLAND', 'NEWCASTLE', 'ISSAQUAH']\n",
      "all_kc_cities = seashore_cities + south_cities + east_cities"
     ],
     "language": "python",
     "metadata": {},
     "outputs": [],
     "prompt_number": 19
    },
    {
     "cell_type": "code",
     "collapsed": false,
     "input": [
      "# Convert string to upper case to match subarea city definitions\n",
      "newtrip.JURIS = [x.upper() for x in newtrip.JURIS]"
     ],
     "language": "python",
     "metadata": {},
     "outputs": [],
     "prompt_number": 27
    },
    {
     "cell_type": "code",
     "collapsed": false,
     "input": [
      "# Sort by home location in each subarea\n",
      "\n",
      "seashore_df = newtrip.query('JURIS in seashore_cities')\n",
      "south_df = newtrip.query('JURIS in south_cities')\n",
      "east_df = newtrip.query('JURIS in east_cities')\n",
      "\n",
      "seashore_df['subarea'] = 'Sea-Shore'\n",
      "south_df['subarea'] = 'South'\n",
      "east_df['subarea'] = 'East King'\n",
      "\n",
      "# All King County households with subarea labels\n",
      "kc_trips = pd.concat(objs=[seashore_df,south_df,east_df], axis=0, join='outer', \n",
      "               join_axes=None, ignore_index=False,\n",
      "               keys=None, levels=None, names=None, verify_integrity=False)"
     ],
     "language": "python",
     "metadata": {},
     "outputs": [],
     "prompt_number": 29
    },
    {
     "cell_type": "code",
     "collapsed": false,
     "input": [
      "# modes in king county subareas\n",
      "df = pd.pivot_table(kc_trips, rows='mode', cols='subarea', aggfunc='sum')[expwt]\n",
      "df.to_clipboard()"
     ],
     "language": "python",
     "metadata": {},
     "outputs": [],
     "prompt_number": 30
    },
    {
     "cell_type": "code",
     "collapsed": false,
     "input": [
      "# commute modes by kc subareas\n",
      "commute = kc_trips.query('opurp == 0 and dpurp == 1')\n",
      "df = pd.pivot_table(commute, rows='mode', cols='subarea', aggfunc='sum')[expwt]\n",
      "df.to_clipboard()"
     ],
     "language": "python",
     "metadata": {},
     "outputs": [],
     "prompt_number": 31
    },
    {
     "cell_type": "code",
     "collapsed": false,
     "input": [
      "# Need temp column for storing results for pivot table\n",
      "data.trip['wt_gdist'] = data.trip.gdist * data.trip.expwt_2\n",
      "\n",
      "data.trip['wt_gtime'] = data.trip.gtime * data.trip.expwt_2"
     ],
     "language": "python",
     "metadata": {},
     "outputs": [],
     "prompt_number": 5
    },
    {
     "cell_type": "code",
     "collapsed": false,
     "input": [
      "# Average trip length by mode\n",
      "mode_group = data.trip.groupby('mode').sum()\n",
      "mode_group.wt_avg = mode_group['wt_gdist']/data.trip.groupby('mode').expwt_2.sum()\n",
      "\n",
      "# Final trip length by mode table\n",
      "mode_group.wt_avg.to_clipboard()"
     ],
     "language": "python",
     "metadata": {},
     "outputs": [],
     "prompt_number": 6
    },
    {
     "cell_type": "code",
     "collapsed": false,
     "input": [
      "# Average trip length by purpose\n",
      "purp_group = data.trip.groupby('d_purpose').sum()\n",
      "purp_group.wt_avg = purp_group['wt_gdist']/data.trip.groupby('d_purpose').expwt_2.sum()\n",
      "\n",
      "# Final trip length by purpose table\n",
      "purp_group.wt_avg.to_clipboard()"
     ],
     "language": "python",
     "metadata": {},
     "outputs": [],
     "prompt_number": 7
    },
    {
     "cell_type": "code",
     "collapsed": false,
     "input": [
      "# Average trip time by mode\n",
      "mode_group.wt_avg_time = mode_group['wt_gtime']/data.trip.groupby('mode').expwt_2.sum()\n",
      "\n",
      "# Final trip length by mode table\n",
      "mode_group.wt_avg_time.to_clipboard()"
     ],
     "language": "python",
     "metadata": {},
     "outputs": [],
     "prompt_number": 8
    },
    {
     "cell_type": "code",
     "collapsed": false,
     "input": [
      "# Average trip time by purpose\n",
      "mode_group.wt_avg_time_purp = mode_group['wt_gtime']/data.trip.groupby('d_purpose').expwt_2.sum()\n",
      "\n",
      "# Final trip length by pur table\n",
      "mode_group.wt_avg_time_purp.to_clipboard()"
     ],
     "language": "python",
     "metadata": {},
     "outputs": [],
     "prompt_number": 9
    },
    {
     "cell_type": "code",
     "collapsed": false,
     "input": [
      "# Average trip time by county\n",
      "cnty_group = data.trip.groupby('dcnty').sum()\n",
      "mode_group.wt_avg_time_purp = mode_group['wt_gtime']/data.trip.groupby('dcnty').expwt_2.sum()\n",
      "\n",
      "# Final trip length by pur table\n",
      "mode_group.wt_avg_time_purp.to_clipboard()"
     ],
     "language": "python",
     "metadata": {},
     "outputs": [],
     "prompt_number": 10
    },
    {
     "cell_type": "code",
     "collapsed": false,
     "input": [
      "purp_group.index"
     ],
     "language": "python",
     "metadata": {},
     "outputs": [
      {
       "metadata": {},
       "output_type": "pyout",
       "prompt_number": 13,
       "text": [
        "Int64Index([1, 2, 3, 4, 5, 6, 7, 8, 9, 10, 11, 12, 13, 14, 15, 16], dtype='int64')"
       ]
      }
     ],
     "prompt_number": 13
    },
    {
     "cell_type": "code",
     "collapsed": false,
     "input": [
      "data.trip.groupby('mode').expwt_2.count()"
     ],
     "language": "python",
     "metadata": {},
     "outputs": [
      {
       "metadata": {},
       "output_type": "pyout",
       "prompt_number": 19,
       "text": [
        "mode\n",
        "-99        30\n",
        " 1      19481\n",
        " 2      11385\n",
        " 3       2782\n",
        " 4        129\n",
        " 5        123\n",
        " 6        926\n",
        " 7       8827\n",
        " 8       2902\n",
        " 9        168\n",
        " 10       115\n",
        " 11        15\n",
        " 12       586\n",
        " 13        87\n",
        " 14        18\n",
        " 15       170\n",
        " 16       112\n",
        " 17        31\n",
        "dtype: int64"
       ]
      }
     ],
     "prompt_number": 19
    },
    {
     "cell_type": "code",
     "collapsed": false,
     "input": [],
     "language": "python",
     "metadata": {},
     "outputs": []
    }
   ],
   "metadata": {}
  }
 ]
}