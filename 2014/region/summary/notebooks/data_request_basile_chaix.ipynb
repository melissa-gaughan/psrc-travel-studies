{
 "cells": [
  {
   "cell_type": "code",
   "execution_count": 1,
   "metadata": {
    "collapsed": false
   },
   "outputs": [],
   "source": [
    "# "
   ]
  },
  {
   "cell_type": "code",
   "execution_count": 4,
   "metadata": {
    "collapsed": false
   },
   "outputs": [],
   "source": [
    "import numpy as np\n",
    "import pandas as pd"
   ]
  },
  {
   "cell_type": "code",
   "execution_count": 5,
   "metadata": {
    "collapsed": false
   },
   "outputs": [
    {
     "name": "stderr",
     "output_type": "stream",
     "text": [
      "C:\\Users\\Brice\\AppData\\Local\\Continuum\\Anaconda\\lib\\site-packages\\pandas\\io\\parsers.py:1159: DtypeWarning: Columns (6,56,57,58,59,60) have mixed types. Specify dtype option on import or set low_memory=False.\n",
      "  data = self._reader.read(nrows)\n"
     ]
    }
   ],
   "source": [
    "trip = pd.read_csv(r'J:\\Projects\\Surveys\\HHTravel\\Survey2014\\Data\\Export\\Release 3\\General Release\\Unzipped\\2014-pr3-hhsurvey-trips.csv')"
   ]
  },
  {
   "cell_type": "code",
   "execution_count": 49,
   "metadata": {
    "collapsed": false
   },
   "outputs": [
    {
     "name": "stderr",
     "output_type": "stream",
     "text": [
      "C:\\Users\\Brice\\AppData\\Local\\Continuum\\Anaconda\\lib\\site-packages\\pandas\\io\\parsers.py:1159: DtypeWarning: Columns (107) have mixed types. Specify dtype option on import or set low_memory=False.\n",
      "  data = self._reader.read(nrows)\n"
     ]
    }
   ],
   "source": [
    "person = pd.read_csv(r'J:\\Projects\\Surveys\\HHTravel\\Survey2014\\Data\\Export\\Release 3\\General Release\\Unzipped\\2014-pr3-hhsurvey-persons.csv')"
   ]
  },
  {
   "cell_type": "code",
   "execution_count": 9,
   "metadata": {
    "collapsed": false
   },
   "outputs": [],
   "source": [
    "# Filter out values with negative reported trip times\n",
    "trip = trip.query('trip_dur_reported > 0')"
   ]
  },
  {
   "cell_type": "code",
   "execution_count": 10,
   "metadata": {
    "collapsed": false
   },
   "outputs": [],
   "source": [
    "expwt = 'expwt_final'"
   ]
  },
  {
   "cell_type": "code",
   "execution_count": 40,
   "metadata": {
    "collapsed": false
   },
   "outputs": [],
   "source": [
    "# Information on the average distance covered and average time spent in the different modes \n",
    "# (especially car), e.g., per day."
   ]
  },
  {
   "cell_type": "code",
   "execution_count": 33,
   "metadata": {
    "collapsed": false
   },
   "outputs": [],
   "source": [
    "# Create field that is the weighted distance and time\n",
    "trip['wt_gdist'] = trip.gdist * trip[expwt]\n",
    "trip['wt_gtime'] = trip.gtime * trip[expwt]\n",
    "trip['wt_reported_time'] = trip.trip_dur_reported * trip[expwt]"
   ]
  },
  {
   "cell_type": "code",
   "execution_count": 53,
   "metadata": {
    "collapsed": false
   },
   "outputs": [],
   "source": [
    "# Total persons in region\n",
    "total_pop = person[expwt].sum()"
   ]
  },
  {
   "cell_type": "code",
   "execution_count": 212,
   "metadata": {
    "collapsed": false
   },
   "outputs": [
    {
     "data": {
      "text/plain": [
       "3464535.644400008"
      ]
     },
     "execution_count": 212,
     "metadata": {},
     "output_type": "execute_result"
    }
   ],
   "source": [
    "total_pop"
   ]
  },
  {
   "cell_type": "code",
   "execution_count": null,
   "metadata": {
    "collapsed": false
   },
   "outputs": [],
   "source": []
  },
  {
   "cell_type": "code",
   "execution_count": null,
   "metadata": {
    "collapsed": true
   },
   "outputs": [],
   "source": []
  },
  {
   "cell_type": "code",
   "execution_count": null,
   "metadata": {
    "collapsed": true
   },
   "outputs": [],
   "source": []
  },
  {
   "cell_type": "code",
   "execution_count": 184,
   "metadata": {
    "collapsed": false
   },
   "outputs": [],
   "source": [
    "# Count of all people using mode at least once\n",
    "\n",
    "# list of trips by mode by person\n",
    "trips_by_mode = pd.pivot_table(data=trip, rows='personID', columns='mode', aggfunc='count', values=expwt, fill_value=0)\n",
    "\n",
    "# Replace the sum with a 1 for indicator of use of this mode in the day\n",
    "indicator_df = trips_by_mode[[i for i in range(1,18)]].applymap(lambda x: 1 if x > 0 else 0)\n",
    "\n",
    "indicator_df['personid'] = indicator_df.index\n",
    "\n",
    "# Join the list of persons to the original person file to get expansion weight\n",
    "df = pd.merge(indicator_df,person[['personid',expwt]],on='personid')"
   ]
  },
  {
   "cell_type": "code",
   "execution_count": null,
   "metadata": {
    "collapsed": false
   },
   "outputs": [],
   "source": []
  },
  {
   "cell_type": "code",
   "execution_count": 191,
   "metadata": {
    "collapsed": false
   },
   "outputs": [],
   "source": [
    "# Get total number of people using each mode per day (for one or more trips per day)\n",
    "# Sum the expansion weight times the indicator for each person \n",
    "my_dict = {}\n",
    "for i in range(1,18):\n",
    "    my_dict[i] = (df[i]*df[expwt]).sum()"
   ]
  },
  {
   "cell_type": "code",
   "execution_count": 203,
   "metadata": {
    "collapsed": false
   },
   "outputs": [],
   "source": [
    "# Dictionary to dataframe\n",
    "results = pd.DataFrame.from_dict(my_dict.values())\n",
    "results.index=my_dict.keys()\n",
    "results.to_clipboard()"
   ]
  },
  {
   "cell_type": "markdown",
   "metadata": {},
   "source": [
    "-------------------"
   ]
  },
  {
   "cell_type": "code",
   "execution_count": 206,
   "metadata": {
    "collapsed": false
   },
   "outputs": [],
   "source": [
    "# Distances covered in miles by individual persons per day\n",
    "# For all trips by this mode\n",
    "total_dist_by_mode = pd.pivot_table(data=trip, rows='personID', columns='mode', aggfunc='sum', values='wt_gdist', fill_value=0).sum()"
   ]
  },
  {
   "cell_type": "code",
   "execution_count": null,
   "metadata": {
    "collapsed": true
   },
   "outputs": [],
   "source": [
    "# Need a count of all the people using each mode at least once a day "
   ]
  },
  {
   "cell_type": "code",
   "execution_count": 208,
   "metadata": {
    "collapsed": true
   },
   "outputs": [],
   "source": [
    "# Time in vehicle by individual persons per day\n",
    "mean_time_by_mode = pd.pivot_table(data=trip, rows='personID', columns='mode', aggfunc='sum', values='wt_gtime', fill_value=0).sum()/total_pop\n",
    "total_time_by_mode = pd.pivot_table(data=trip, rows='personID', columns='mode', aggfunc='sum', values='wt_gtime', fill_value=0).sum()\n"
   ]
  },
  {
   "cell_type": "code",
   "execution_count": 210,
   "metadata": {
    "collapsed": true
   },
   "outputs": [],
   "source": [
    "# Time in vehicle by individual persons per day\n",
    "mean_time_by_mode_reported = pd.pivot_table(data=trip, rows='personID', columns='mode', aggfunc='sum', values='wt_reported_time', fill_value=0).sum()/total_pop\n",
    "total_time_by_mode_reported = pd.pivot_table(data=trip, rows='personID', columns='mode', aggfunc='sum', values='wt_reported_time', fill_value=0).sum()\n",
    "# total_dist_by_mode"
   ]
  },
  {
   "cell_type": "code",
   "execution_count": 211,
   "metadata": {
    "collapsed": false
   },
   "outputs": [],
   "source": [
    "total_time_by_mode_reported.to_clipboard()"
   ]
  },
  {
   "cell_type": "code",
   "execution_count": 44,
   "metadata": {
    "collapsed": false
   },
   "outputs": [],
   "source": [
    "df = data.trip\n",
    "\n",
    "# Aggregate modes\n",
    "hbw = df.query('d_purpose == 2 and o_purpose == 1')\n",
    "hbo = df.query('o_purpose == 1 and d_purpose != 2')\n",
    "nhb = df.query('o_purpose != 1')"
   ]
  },
  {
   "cell_type": "code",
   "execution_count": 50,
   "metadata": {
    "collapsed": false
   },
   "outputs": [],
   "source": [
    "df = hbo\n",
    "\n",
    "# Average trip DURATION by mode\n",
    "mode_group = df.groupby('mode').sum()\n",
    "mode_group.wt_avg = mode_group['wt_reported_time']/df.groupby('mode')[expwt].sum()\n",
    "\n",
    "# Final trip length by mode table\n",
    "mode_group.wt_avg.to_clipboard()"
   ]
  },
  {
   "cell_type": "code",
   "execution_count": 51,
   "metadata": {
    "collapsed": false
   },
   "outputs": [],
   "source": [
    "mode_group[expwt].to_clipboard()"
   ]
  },
  {
   "cell_type": "code",
   "execution_count": 20,
   "metadata": {
    "collapsed": false
   },
   "outputs": [],
   "source": [
    "# Average trip time by purpose\n",
    "mode_group.wt_avg_time_purp = mode_group['wt_gtime']/data.trip.groupby('d_purpose').expwt_2.sum()\n",
    "\n",
    "# Final trip length by pur table\n",
    "mode_group.wt_avg_time_purp.to_clipboard()"
   ]
  },
  {
   "cell_type": "code",
   "execution_count": 13,
   "metadata": {
    "collapsed": false
   },
   "outputs": [],
   "source": [
    "# Average trip time by county\n",
    "cnty_group = data.trip.groupby('dcnty').sum()\n",
    "mode_group.wt_avg_time_purp = mode_group['wt_gtime']/data.trip.groupby('dcnty').expwt_2.sum()\n",
    "\n",
    "# Final trip length by pur table\n",
    "mode_group.wt_avg_time_purp.to_clipboard()"
   ]
  },
  {
   "cell_type": "code",
   "execution_count": null,
   "metadata": {
    "collapsed": false
   },
   "outputs": [],
   "source": []
  }
 ],
 "metadata": {
  "kernelspec": {
   "display_name": "Python 2",
   "language": "python",
   "name": "python2"
  },
  "language_info": {
   "codemirror_mode": {
    "name": "ipython",
    "version": 2
   },
   "file_extension": ".py",
   "mimetype": "text/x-python",
   "name": "python",
   "nbconvert_exporter": "python",
   "pygments_lexer": "ipython2",
   "version": "2.7.9"
  }
 },
 "nbformat": 4,
 "nbformat_minor": 0
}
