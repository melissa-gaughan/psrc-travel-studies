{
 "metadata": {
  "name": "",
  "signature": "sha256:b9f90ab49ec6d9b8e62a9055aa675bdf6689024777c85ef74cd12eb3c0c6c239"
 },
 "nbformat": 3,
 "nbformat_minor": 0,
 "worksheets": [
  {
   "cells": [
    {
     "cell_type": "code",
     "collapsed": false,
     "input": [
      "# Results for KC Metro, split by King County sub-areas"
     ],
     "language": "python",
     "metadata": {},
     "outputs": [],
     "prompt_number": 1
    },
    {
     "cell_type": "code",
     "collapsed": false,
     "input": [
      "import numpy as np\n",
      "import pandas as pd\n",
      "import load_data as data\n",
      "\n",
      "print data.year"
     ],
     "language": "python",
     "metadata": {},
     "outputs": [
      {
       "output_type": "stream",
       "stream": "stdout",
       "text": [
        "2014\n"
       ]
      },
      {
       "output_type": "stream",
       "stream": "stderr",
       "text": [
        "C:\\Anaconda\\lib\\site-packages\\pandas\\io\\parsers.py:1070: DtypeWarning: Columns (41) have mixed types. Specify dtype option on import or set low_memory=False.\n",
        "  data = self._reader.read(nrows)\n"
       ]
      }
     ],
     "prompt_number": 1
    },
    {
     "cell_type": "code",
     "collapsed": false,
     "input": [
      "# Clean the data by removing very long and very short trips\n",
      "min_trip_len = 0.05\n",
      "max_trip_len = 200\n",
      "\n",
      "trip = data.trip[data.trip[data.trip_dist] > min_trip_len]   # remove any trip less ~ 250 ft\n",
      "trip = data.trip[data.trip[data.trip_dist] < max_trip_len] # remove any tips over 200 miles"
     ],
     "language": "python",
     "metadata": {},
     "outputs": [],
     "prompt_number": 2
    },
    {
     "cell_type": "code",
     "collapsed": false,
     "input": [
      "# Define KC subareas\n",
      "# Reference: http://your.kingcounty.gov/budget/agr/agr03/03AGRCH4b.pdf\n",
      "seashore_cities = ['SEATTLE', 'SHORELINE','LAKE FOREST PARK']\n",
      "south_cities = ['BURIEN', 'NORMANDY PARK', 'SEATAC', 'TUKWILA', 'RENTON','DES MOINES', 'KENT', 'FEDERAL WAY',\n",
      "                'AUBURN', 'ALGONA', 'MILTON', 'PACIFIC', 'COVINGTON', 'MAPLE VALLEY', 'BLACK DIAMOND']\n",
      "east_cities = ['BOTHELL','WOODINVILLE', 'KENMORE', 'KIRKLAND', 'REDMOND','HUNTS POINT', 'YARROW POINT', 'CLYDE MILL',\n",
      "               'MEDINA', 'BELLEVUE', 'BEAUX ARTS', 'SAMMAMISH', 'MERCER ISLAND', 'NEWCASTLE', 'ISSAQUAH']\n",
      "all_kc_cities = seashore_cities + south_cities + east_cities"
     ],
     "language": "python",
     "metadata": {},
     "outputs": [],
     "prompt_number": 3
    },
    {
     "cell_type": "code",
     "collapsed": false,
     "input": [
      "# Sort by trips ending in each subarea\n",
      "seashore_df = data.trip.query('dcity in seashore_cities')\n",
      "south_df = data.trip.query('dcity in south_cities')\n",
      "east_df = data.trip.query('dcity in east_cities')\n",
      "\n",
      "# Also consider trips to other places in King County\n",
      "all_king_df = data.trip.query('dcnty == 1')\n",
      "king_other_df = all_king_df.query('dcity not in all_kc_cities')"
     ],
     "language": "python",
     "metadata": {},
     "outputs": [],
     "prompt_number": 4
    },
    {
     "cell_type": "code",
     "collapsed": false,
     "input": [
      "# Add a subarea field and merge together\n",
      "seashore_df['subarea'] = 'Sea-Shore'\n",
      "south_df['subarea'] = 'South'\n",
      "east_df['subarea'] = 'East'\n",
      "\n",
      "# All King County trips with subarea labels\n",
      "kc_trips = pd.concat(objs=[seashore_df,south_df,east_df], axis=0, join='outer', \n",
      "               join_axes=None, ignore_index=False,\n",
      "               keys=None, levels=None, names=None, verify_integrity=False)"
     ],
     "language": "python",
     "metadata": {},
     "outputs": [],
     "prompt_number": 5
    },
    {
     "cell_type": "code",
     "collapsed": false,
     "input": [
      "# Total mode share\n",
      "mode_share = kc_trips.groupby(\"mode\")[\"expwt_2\"].count()\n",
      "mode_share.to_clipboard()"
     ],
     "language": "python",
     "metadata": {},
     "outputs": [],
     "prompt_number": 6
    },
    {
     "cell_type": "code",
     "collapsed": false,
     "input": [
      "# Mode share by county (destination within county)\n",
      "# Mode share by trip purpose\n",
      "mode_x_county = pd.pivot_table(kc_trips, rows=\"mode\", cols=\"subarea\", values=\"expwt_2\", aggfunc='count')\n",
      "mode_x_county.to_clipboard()"
     ],
     "language": "python",
     "metadata": {},
     "outputs": [],
     "prompt_number": 7
    },
    {
     "cell_type": "code",
     "collapsed": false,
     "input": [
      "# Mode share by trip purpose\n",
      "seashore_purp = pd.pivot_table(data=seashore_df, rows=\"mode\", cols=\"d_purpose\", values='expwt_2', aggfunc=\"count\")\n",
      "south_df = pd.pivot_table(data=south_df, rows=\"mode\", cols=\"d_purpose\", values='expwt_2', aggfunc=\"count\")\n",
      "east_df = pd.pivot_table(data=east_df, rows=\"mode\", cols=\"d_purpose\", values='expwt_2', aggfunc=\"count\")"
     ],
     "language": "python",
     "metadata": {},
     "outputs": [],
     "prompt_number": 8
    },
    {
     "cell_type": "code",
     "collapsed": false,
     "input": [
      "# Mode share for commute trips only\n",
      "commute = kc_trips.query('d_purpose == 2 and o_purpose == 1')"
     ],
     "language": "python",
     "metadata": {},
     "outputs": [],
     "prompt_number": 20
    },
    {
     "cell_type": "code",
     "collapsed": false,
     "input": [
      "# Commute share by county\n",
      "df = pd.pivot_table(commute, rows='mode', cols='dcnty', aggfunc='sum')['expwt_2']\n",
      "df.to_clipboard()"
     ],
     "language": "python",
     "metadata": {},
     "outputs": [],
     "prompt_number": 21
    },
    {
     "cell_type": "code",
     "collapsed": false,
     "input": [
      "# Commute share by subarea\n",
      "df = pd.pivot_table(commute, rows='mode', cols='subarea', aggfunc='sum')['expwt_2']\n",
      "df.to_clipboard()"
     ],
     "language": "python",
     "metadata": {},
     "outputs": [],
     "prompt_number": 22
    },
    {
     "cell_type": "code",
     "collapsed": false,
     "input": [
      "# Transit trips in KC Metro area\n",
      "transit_trips = kc_trips.query('mode == 8 or mode == 9 or mode == 10 or mode == 11')"
     ],
     "language": "python",
     "metadata": {},
     "outputs": [],
     "prompt_number": 6
    },
    {
     "cell_type": "code",
     "collapsed": false,
     "input": [
      "df = transit_trips.groupby('d_purpose').sum()['expwt_2']\n",
      "df.to_clipboard()"
     ],
     "language": "python",
     "metadata": {},
     "outputs": [],
     "prompt_number": 9
    },
    {
     "cell_type": "code",
     "collapsed": false,
     "input": [
      "df = pd.pivot_table(transit_trips, rows='d_purpose', cols='subarea', aggfunc='sum')['expwt_2']\n",
      "df.to_clipboard()"
     ],
     "language": "python",
     "metadata": {},
     "outputs": [],
     "prompt_number": 16
    },
    {
     "cell_type": "code",
     "collapsed": false,
     "input": [
      "# Drive alone trips in KC Metro area\n",
      "drive_alone = kc_trips.query('mode == 1')\n",
      "\n",
      "df = pd.pivot_table(drive_alone, rows='d_purpose', cols='subarea', aggfunc='sum')['expwt_2']\n",
      "df.to_clipboard()"
     ],
     "language": "python",
     "metadata": {},
     "outputs": [],
     "prompt_number": 19
    },
    {
     "cell_type": "code",
     "collapsed": false,
     "input": [
      "df = drive_alone.groupby('d_purpose').sum()['expwt_2']\n",
      "df.to_clipboard()"
     ],
     "language": "python",
     "metadata": {},
     "outputs": [],
     "prompt_number": 21
    },
    {
     "cell_type": "code",
     "collapsed": false,
     "input": [],
     "language": "python",
     "metadata": {},
     "outputs": []
    }
   ],
   "metadata": {}
  }
 ]
}