{
 "metadata": {
  "name": "",
  "signature": "sha256:dddfc01d551dc9e728735ccabe954c7bb3b7ef786e5f011f0d1bec2f9e8bf7ab"
 },
 "nbformat": 3,
 "nbformat_minor": 0,
 "worksheets": [
  {
   "cells": [
    {
     "cell_type": "code",
     "collapsed": false,
     "input": [
      "# Mode shares for/by:\n",
      "# - region, all trips\n",
      "# - destination within regional growth centers\n",
      "# - trip purpose\n",
      "# - grocery trips"
     ],
     "language": "python",
     "metadata": {},
     "outputs": [],
     "prompt_number": 28
    },
    {
     "cell_type": "code",
     "collapsed": false,
     "input": [
      "import numpy as np\n",
      "import pandas as pd\n",
      "import load_data as data\n",
      "\n",
      "print data.year"
     ],
     "language": "python",
     "metadata": {},
     "outputs": [
      {
       "output_type": "stream",
       "stream": "stdout",
       "text": [
        "2014\n"
       ]
      }
     ],
     "prompt_number": 29
    },
    {
     "cell_type": "code",
     "collapsed": false,
     "input": [
      "# Temp directory\n",
      "#data.trip = pd.read_csv(r'X:\\DSA\\HHSurveys\\2014 Survey\\Summaries\\Release 2\\Data Request Summary Sheets\\NPS - Katrina Rabeler\\PuyallupTripDestinations.csv')\n",
      "commute = data.trip.query('o_purpose == 1 and d_purpose == 2')\n",
      "expwt = 'expwt_final'"
     ],
     "language": "python",
     "metadata": {},
     "outputs": [],
     "prompt_number": 45
    },
    {
     "cell_type": "code",
     "collapsed": false,
     "input": [
      "# Clean the data by removing very long and very short trips\n",
      "min_trip_len = 0.05\n",
      "max_trip_len = 200\n",
      "\n",
      "trip = data.trip[data.trip[data.trip_dist] > min_trip_len]   # remove any trip less ~ 250 ft\n",
      "trip = data.trip[data.trip[data.trip_dist] < max_trip_len] # remove any tips over 200 miles"
     ],
     "language": "python",
     "metadata": {},
     "outputs": [],
     "prompt_number": 31
    },
    {
     "cell_type": "code",
     "collapsed": false,
     "input": [
      "# Total mode share\n",
      "mode_share = commute.groupby(data.mode)[expwt].sum()\n",
      "mode_share.to_clipboard()"
     ],
     "language": "python",
     "metadata": {},
     "outputs": [],
     "prompt_number": 32
    },
    {
     "cell_type": "code",
     "collapsed": false,
     "input": [
      "king"
     ],
     "language": "python",
     "metadata": {},
     "outputs": [
      {
       "ename": "NameError",
       "evalue": "name 'king' is not defined",
       "output_type": "pyerr",
       "traceback": [
        "\u001b[1;31m---------------------------------------------------------------------------\u001b[0m\n\u001b[1;31mNameError\u001b[0m                                 Traceback (most recent call last)",
        "\u001b[1;32m<ipython-input-33-df75421e8167>\u001b[0m in \u001b[0;36m<module>\u001b[1;34m()\u001b[0m\n\u001b[1;32m----> 1\u001b[1;33m \u001b[0mking\u001b[0m\u001b[1;33m\u001b[0m\u001b[0m\n\u001b[0m",
        "\u001b[1;31mNameError\u001b[0m: name 'king' is not defined"
       ]
      }
     ],
     "prompt_number": 33
    },
    {
     "cell_type": "code",
     "collapsed": false,
     "input": [],
     "language": "python",
     "metadata": {},
     "outputs": [],
     "prompt_number": 33
    },
    {
     "cell_type": "code",
     "collapsed": false,
     "input": [],
     "language": "python",
     "metadata": {},
     "outputs": [],
     "prompt_number": 33
    },
    {
     "cell_type": "code",
     "collapsed": false,
     "input": [],
     "language": "python",
     "metadata": {},
     "outputs": [],
     "prompt_number": 33
    },
    {
     "cell_type": "code",
     "collapsed": false,
     "input": [
      "# Mode share by trip purpose\n",
      "mode_x_purp = pd.pivot_table(trip, rows=data.mode, cols=data.d_purpose, values=data.exp_wt, aggfunc='sum')\n",
      "mode_x_purp.to_clipboard()"
     ],
     "language": "python",
     "metadata": {},
     "outputs": [],
     "prompt_number": 34
    },
    {
     "cell_type": "code",
     "collapsed": false,
     "input": [
      "# Mode share by county (destination within county)\n",
      "# Mode share by trip purpose\n",
      "mode_x_county = pd.pivot_table(trip.query('o_purpose == 1 and d_purpose == 2'), rows=data.mode, cols=data.county, values=expwt, aggfunc='sum')\n",
      "mode_x_county.to_clipboard()"
     ],
     "language": "python",
     "metadata": {},
     "outputs": [],
     "prompt_number": 35
    },
    {
     "cell_type": "code",
     "collapsed": false,
     "input": [
      "# Mode share of all trips to regional center\n",
      "if data.year == 2014:\n",
      "    df = pd.pivot_table(data=data.trips_rgc, rows=data.mode, cols=data.rgc_name, values='expwt_final', aggfunc=\"count\")\n",
      "    df.to_clipboard()\n",
      "else:\n",
      "    df = pd.pivot_table(data=trip, rows=data.mode, cols=data.rgc_name, values=data.exp_wt, aggfunc=\"count\")\n",
      "    df.to_clipboard()"
     ],
     "language": "python",
     "metadata": {},
     "outputs": [],
     "prompt_number": 36
    },
    {
     "cell_type": "code",
     "collapsed": false,
     "input": [
      "# Commute mode share of trips to regional center\n",
      "if data.year == 2014:\n",
      "    commute = data.trips_rgc.query('d_purpose == 2 and o_purpose == 1')\n",
      "    df = pd.pivot_table(data=commute, rows=data.mode, cols=data.rgc_name, values='expwt_final', aggfunc=\"count\")\n",
      "    df.to_clipboard()\n",
      "else:\n",
      "    commute = dtrip.query('dpurp == 1 and opurp == 0')\n",
      "    df = pd.pivot_table(data=trip, rows=data.mode, cols=data.rgc_name, values=data.exp_wt, aggfunc=\"count\")\n",
      "    df.to_clipboard()"
     ],
     "language": "python",
     "metadata": {},
     "outputs": [],
     "prompt_number": 37
    },
    {
     "cell_type": "code",
     "collapsed": false,
     "input": [
      "# Mode share by age\n",
      "df = pd.pivot_table(data.person_hh, rows=\"mode\", cols=data.age, values=data.exp_wt, aggfunc='count')\n",
      "df.to_clipboard()"
     ],
     "language": "python",
     "metadata": {},
     "outputs": [],
     "prompt_number": 38
    },
    {
     "cell_type": "code",
     "collapsed": false,
     "input": [
      "# Mode of grocery shopping trips (only for 2014 survey)\n",
      "#grocery_trips = data.rgc_trip.query('d_purpose == 4')\n",
      "\n",
      "# Grocery trips by RGC\n",
      "#df = pd.pivot_table(data=grocery_trips, values='expwt_final', rows='mode', cols='rgc_name', aggfunc='sum')\n",
      "#df.to_clipboard()\n",
      "\n",
      "# Grocery trips by County\n",
      "#df = pd.pivot_table(data=grocery_trips, values='expwt_final', rows='mode', cols='dcnty', aggfunc='count')\n",
      "#df.to_clipboard()"
     ],
     "language": "python",
     "metadata": {},
     "outputs": [],
     "prompt_number": 39
    },
    {
     "cell_type": "code",
     "collapsed": false,
     "input": [
      "# Mode share by lifecycle\n",
      "df = pd.pivot_table(data=data.trip_hh, values=expwt, rows='mode', cols='lifecycle', aggfunc='count')\n",
      "df.to_clipboard()"
     ],
     "language": "python",
     "metadata": {},
     "outputs": [],
     "prompt_number": 40
    },
    {
     "cell_type": "code",
     "collapsed": false,
     "input": [
      "# Mode share by county\n",
      "df = pd.pivot_table(data=data.trip_hh.query('dcnty == 4'), values=expwt, rows='mode', cols='lifecycle', aggfunc='sum')\n",
      "df.to_clipboard()"
     ],
     "language": "python",
     "metadata": {},
     "outputs": [],
     "prompt_number": 41
    },
    {
     "cell_type": "code",
     "collapsed": false,
     "input": [
      "# Lifecycle by county\n",
      "# Mode share by county\n",
      "df = pd.pivot_table(data=data.hh, values='expwt_2', rows='h_county_name', cols='lifecycle', aggfunc='count')\n",
      "df.to_clipboard()"
     ],
     "language": "python",
     "metadata": {},
     "outputs": [],
     "prompt_number": 42
    },
    {
     "cell_type": "code",
     "collapsed": false,
     "input": [
      "# Commute mode share by household location\n",
      "\n",
      "# join commute to households data\n",
      "commute_hh = pd.merge(commute, data.hh, left_on='hhid', right_on='hhid')\n",
      "\n",
      "\n"
     ],
     "language": "python",
     "metadata": {},
     "outputs": [
      {
       "ename": "AttributeError",
       "evalue": "'DataFrame' object has no attribute 'household'",
       "output_type": "pyerr",
       "traceback": [
        "\u001b[1;31m---------------------------------------------------------------------------\u001b[0m\n\u001b[1;31mAttributeError\u001b[0m                            Traceback (most recent call last)",
        "\u001b[1;32m<ipython-input-64-85ddf4759f03>\u001b[0m in \u001b[0;36m<module>\u001b[1;34m()\u001b[0m\n\u001b[0;32m      2\u001b[0m \u001b[1;33m\u001b[0m\u001b[0m\n\u001b[0;32m      3\u001b[0m \u001b[1;31m# join commute to households data\u001b[0m\u001b[1;33m\u001b[0m\u001b[1;33m\u001b[0m\u001b[0m\n\u001b[1;32m----> 4\u001b[1;33m \u001b[0mcommute_hh\u001b[0m \u001b[1;33m=\u001b[0m \u001b[0mpd\u001b[0m\u001b[1;33m.\u001b[0m\u001b[0mmerge\u001b[0m\u001b[1;33m(\u001b[0m\u001b[0mcommute\u001b[0m\u001b[1;33m,\u001b[0m \u001b[0mdata\u001b[0m\u001b[1;33m.\u001b[0m\u001b[0mhousehold\u001b[0m\u001b[1;33m,\u001b[0m \u001b[0mleft_on\u001b[0m\u001b[1;33m=\u001b[0m\u001b[1;34m'hhid'\u001b[0m\u001b[1;33m,\u001b[0m \u001b[0mright_on\u001b[0m\u001b[1;33m=\u001b[0m\u001b[1;34m'hhid'\u001b[0m\u001b[1;33m)\u001b[0m\u001b[1;33m\u001b[0m\u001b[0m\n\u001b[0m\u001b[0;32m      5\u001b[0m \u001b[1;33m\u001b[0m\u001b[0m\n\u001b[0;32m      6\u001b[0m \u001b[1;33m\u001b[0m\u001b[0m\n",
        "\u001b[1;32mC:\\Anaconda\\lib\\site-packages\\pandas\\core\\generic.pyc\u001b[0m in \u001b[0;36m__getattr__\u001b[1;34m(self, name)\u001b[0m\n\u001b[0;32m   1813\u001b[0m                 \u001b[1;32mreturn\u001b[0m \u001b[0mself\u001b[0m\u001b[1;33m[\u001b[0m\u001b[0mname\u001b[0m\u001b[1;33m]\u001b[0m\u001b[1;33m\u001b[0m\u001b[0m\n\u001b[0;32m   1814\u001b[0m             raise AttributeError(\"'%s' object has no attribute '%s'\" %\n\u001b[1;32m-> 1815\u001b[1;33m                                  (type(self).__name__, name))\n\u001b[0m\u001b[0;32m   1816\u001b[0m \u001b[1;33m\u001b[0m\u001b[0m\n\u001b[0;32m   1817\u001b[0m     \u001b[1;32mdef\u001b[0m \u001b[0m__setattr__\u001b[0m\u001b[1;33m(\u001b[0m\u001b[0mself\u001b[0m\u001b[1;33m,\u001b[0m \u001b[0mname\u001b[0m\u001b[1;33m,\u001b[0m \u001b[0mvalue\u001b[0m\u001b[1;33m)\u001b[0m\u001b[1;33m:\u001b[0m\u001b[1;33m\u001b[0m\u001b[0m\n",
        "\u001b[1;31mAttributeError\u001b[0m: 'DataFrame' object has no attribute 'household'"
       ]
      }
     ],
     "prompt_number": 64
    },
    {
     "cell_type": "code",
     "collapsed": false,
     "input": [
      "commute_hh.query('h_county_name == \"King\"').groupby('mode').sum()['expwt_2'].to_clipboard()"
     ],
     "language": "python",
     "metadata": {},
     "outputs": [],
     "prompt_number": 76
    },
    {
     "cell_type": "code",
     "collapsed": false,
     "input": [
      "commute_hh.groupby('h_county_name').count()['expwt_2']"
     ],
     "language": "python",
     "metadata": {},
     "outputs": [
      {
       "metadata": {},
       "output_type": "pyout",
       "prompt_number": 75,
       "text": [
        "h_county_name\n",
        "King             2854\n",
        "Kitsap            200\n",
        "Pierce            660\n",
        "Snohomish         595\n",
        "Name: expwt_2, dtype: int64"
       ]
      }
     ],
     "prompt_number": 75
    },
    {
     "cell_type": "code",
     "collapsed": false,
     "input": [],
     "language": "python",
     "metadata": {},
     "outputs": []
    }
   ],
   "metadata": {}
  }
 ]
}