{
 "metadata": {
  "name": "",
  "signature": "sha256:7b1190ef477087d0c5bc1c909574125815139f2697b4bd553bf440f801228947"
 },
 "nbformat": 3,
 "nbformat_minor": 0,
 "worksheets": [
  {
   "cells": [
    {
     "cell_type": "code",
     "collapsed": false,
     "input": [
      "# Stated preference responses from person data\n",
      "# Use of real-time information and smartphones to make travel decisions"
     ],
     "language": "python",
     "metadata": {
      "slideshow": {
       "slide_type": "slide"
      }
     },
     "outputs": [],
     "prompt_number": 2
    },
    {
     "cell_type": "code",
     "collapsed": false,
     "input": [
      "%matplotlib inline\n",
      "import numpy as np\n",
      "import pandas as pd\n",
      "import load_data as data\n",
      "import matplotlib\n",
      "import matplotlib.pyplot as plt"
     ],
     "language": "python",
     "metadata": {
      "slideshow": {
       "slide_type": "subslide"
      }
     },
     "outputs": [
      {
       "output_type": "stream",
       "stream": "stderr",
       "text": [
        "C:\\Anaconda\\lib\\site-packages\\pandas\\io\\parsers.py:1070: DtypeWarning: Columns (68,69,70,71,72) have mixed types. Specify dtype option on import or set low_memory=False.\n",
        "  data = self._reader.read(nrows)\n",
        "C:\\Anaconda\\lib\\site-packages\\pandas\\io\\parsers.py:1070: DtypeWarning: Columns (41) have mixed types. Specify dtype option on import or set low_memory=False.\n",
        "  data = self._reader.read(nrows)\n"
       ]
      },
      {
       "output_type": "stream",
       "stream": "stderr",
       "text": [
        "C:\\Anaconda\\lib\\site-packages\\pandas\\io\\parsers.py:1070: DtypeWarning: Columns (42) have mixed types. Specify dtype option on import or set low_memory=False.\n",
        "  data = self._reader.read(nrows)\n"
       ]
      }
     ],
     "prompt_number": 4
    },
    {
     "cell_type": "code",
     "collapsed": false,
     "input": [
      "# Define KC subareas\n",
      "# Reference: http://your.kingcounty.gov/budget/agr/agr03/03AGRCH4b.pdf\n",
      "seashore_cities = ['SEATTLE', 'SHORELINE','LAKE FOREST PARK']\n",
      "south_cities = ['BURIEN', 'NORMANDY PARK', 'SEATAC', 'TUKWILA', 'RENTON','DES MOINES', 'KENT', 'FEDERAL WAY',\n",
      "                'AUBURN', 'ALGONA', 'MILTON', 'PACIFIC', 'COVINGTON', 'MAPLE VALLEY', 'BLACK DIAMOND']\n",
      "east_cities = ['BOTHELL','WOODINVILLE', 'KENMORE', 'KIRKLAND', 'REDMOND','HUNTS POINT', 'YARROW POINT', 'CLYDE MILL',\n",
      "               'MEDINA', 'BELLEVUE', 'BEAUX ARTS', 'SAMMAMISH', 'MERCER ISLAND', 'NEWCASTLE', 'ISSAQUAH']\n",
      "all_kc_cities = seashore_cities + south_cities + east_cities"
     ],
     "language": "python",
     "metadata": {},
     "outputs": [],
     "prompt_number": 5
    },
    {
     "cell_type": "code",
     "collapsed": false,
     "input": [
      "# Join person file to household file\n",
      "personhh = pd.merge(data.person, data.hh, left_on='hhid', right_on='hhid')"
     ],
     "language": "python",
     "metadata": {},
     "outputs": [],
     "prompt_number": 6
    },
    {
     "cell_type": "code",
     "collapsed": false,
     "input": [
      "# Sort by home location in each subarea\n",
      "\n",
      "seashore_df = personhh.query('h_city in seashore_cities')\n",
      "south_df = personhh.query('h_city in south_cities')\n",
      "east_df = personhh.query('h_city in east_cities')\n",
      "\n",
      "# Also consider trips to other places in King County\n",
      "all_king_df = personhh.query('h_county_name == 1')\n",
      "king_other_df = all_king_df.query('h_city not in all_kc_cities')\n",
      "\n",
      "seashore_df['subarea'] = 'Sea-Shore'\n",
      "south_df['subarea'] = 'South'\n",
      "east_df['subarea'] = 'East King'\n",
      "\n",
      "# All King County households with subarea labels\n",
      "kc_hh = pd.concat(objs=[seashore_df,south_df,east_df], axis=0, join='outer', \n",
      "               join_axes=None, ignore_index=False,\n",
      "               keys=None, levels=None, names=None, verify_integrity=False)"
     ],
     "language": "python",
     "metadata": {},
     "outputs": [],
     "prompt_number": 7
    },
    {
     "cell_type": "code",
     "collapsed": false,
     "input": [
      "# Transit households\n",
      "\n",
      "# Rides transit 5 or more time sa week\n",
      "heavy_kc_hh = kc_hh.query('transit_freq == 1 or transit_freq == 2')\n",
      "\n",
      "# Rides transit occassionally (1 to 4 days a week)\n",
      "mid_kc_hh = kc_hh.query('transit_freq == 3 or transit_freq == 4')\n",
      "\n",
      "# Never uses transit or uses infrequently\n",
      "no_kc_hh = kc_hh.query('transit_freq == 5 or transit_freq == 6 or transit_freq == 7')\n",
      "\n",
      "heavy_kc_hh['transittype'] = 'Heavy Transit'\n",
      "mid_kc_hh['transittype'] = 'Mid Transit'\n",
      "no_kc_hh['transittype'] = 'Rare Transit'\n",
      "\n",
      "# All King County households with subarea labels\n",
      "kc_hh = pd.concat(objs=[heavy_kc_hh,mid_kc_hh,no_kc_hh], axis=0, join='outer', \n",
      "               join_axes=None, ignore_index=False,\n",
      "               keys=None, levels=None, names=None, verify_integrity=False)"
     ],
     "language": "python",
     "metadata": {},
     "outputs": [],
     "prompt_number": 8
    },
    {
     "cell_type": "code",
     "collapsed": false,
     "input": [
      "# Define the df we want to use\n",
      "_df = kc_hh"
     ],
     "language": "python",
     "metadata": {},
     "outputs": [],
     "prompt_number": 9
    },
    {
     "cell_type": "code",
     "collapsed": false,
     "input": [
      "df = _df.pivot_table(values='expwt_2_x', cols='transittype', rows='info_travelroutes', aggfunc=\"sum\")\n",
      "df.to_clipboard()"
     ],
     "language": "python",
     "metadata": {},
     "outputs": [],
     "prompt_number": 19
    },
    {
     "cell_type": "code",
     "collapsed": false,
     "input": [
      "df = _df.pivot_table(values='expwt_2_x', cols='transittype', rows='info_traveltime', aggfunc=\"sum\")\n",
      "df.to_clipboard()"
     ],
     "language": "python",
     "metadata": {},
     "outputs": [],
     "prompt_number": 12
    },
    {
     "cell_type": "code",
     "collapsed": false,
     "input": [
      "df = _df.pivot_table(values='expwt_2_x', cols='transittype', rows='info_congestion', aggfunc=\"sum\")\n",
      "df.to_clipboard()"
     ],
     "language": "python",
     "metadata": {},
     "outputs": [],
     "prompt_number": 13
    },
    {
     "cell_type": "code",
     "collapsed": false,
     "input": [
      "df = _df.pivot_table(values='expwt_2_x', cols='transittype', rows='info_arrivaltime', aggfunc=\"sum\")\n",
      "df.to_clipboard()"
     ],
     "language": "python",
     "metadata": {},
     "outputs": [],
     "prompt_number": 17
    },
    {
     "cell_type": "code",
     "collapsed": false,
     "input": [
      "df = _df.pivot_table(values='expwt_2_x', cols='transittype', rows='info_transitoptions', aggfunc=\"sum\")\n",
      "df.to_clipboard()"
     ],
     "language": "python",
     "metadata": {},
     "outputs": [],
     "prompt_number": 14
    },
    {
     "cell_type": "code",
     "collapsed": false,
     "input": [
      "df = _df.pivot_table(values='expwt_2_x', cols='transittype', rows='info_parking', aggfunc=\"sum\")\n",
      "df.to_clipboard()"
     ],
     "language": "python",
     "metadata": {},
     "outputs": [],
     "prompt_number": 15
    },
    {
     "cell_type": "code",
     "collapsed": false,
     "input": [
      "df = _df.pivot_table(values='expwt_2_x', cols='transittype', rows='info_carshare', aggfunc=\"sum\")\n",
      "df.to_clipboard()"
     ],
     "language": "python",
     "metadata": {},
     "outputs": [],
     "prompt_number": 18
    },
    {
     "cell_type": "code",
     "collapsed": false,
     "input": [
      "df = _df.pivot_table(values='expwt_2_x', cols='transittype', rows='info_other', aggfunc=\"sum\")\n",
      "df.to_clipboard()"
     ],
     "language": "python",
     "metadata": {},
     "outputs": [],
     "prompt_number": 16
    },
    {
     "cell_type": "code",
     "collapsed": false,
     "input": [
      "# Travel info impact on travel plans: I start my trip earlier\n",
      "df = _df.pivot_table(values='expwt_2_x', cols='subarea', rows='impact_earlier', aggfunc=\"sum\")\n",
      "df.to_clipboard()"
     ],
     "language": "python",
     "metadata": {},
     "outputs": [],
     "prompt_number": 36
    },
    {
     "cell_type": "code",
     "collapsed": false,
     "input": [
      "# Travel info impact on travel plans: I start my trip later\n",
      "df = _df.pivot_table(values='expwt_2_x', cols='subarea', rows='impact_later', aggfunc=\"sum\")\n",
      "df.to_clipboard()"
     ],
     "language": "python",
     "metadata": {},
     "outputs": [],
     "prompt_number": 37
    },
    {
     "cell_type": "code",
     "collapsed": false,
     "input": [
      "# Travel info impact on travel plans: I choose a completely different route than originally planned\n",
      "df = _df.pivot_table(values='expwt_2_x', cols='subarea', rows='impact_diffroute', aggfunc=\"sum\")\n",
      "df.to_clipboard()"
     ],
     "language": "python",
     "metadata": {},
     "outputs": [],
     "prompt_number": 38
    },
    {
     "cell_type": "code",
     "collapsed": false,
     "input": [
      "# Travel info impact on travel plans: I take my planned route, but with small changes to avoid congestion\n",
      "df = _df.pivot_table(values='expwt_2_x', cols='subarea', rows='impact_smallchange', aggfunc=\"sum\")\n",
      "df.to_clipboard()"
     ],
     "language": "python",
     "metadata": {},
     "outputs": [],
     "prompt_number": 39
    },
    {
     "cell_type": "code",
     "collapsed": false,
     "input": [
      "# Travel info impact on travel plans: I choose a different travel mode (e.g. I take the bus instead of driving)\n",
      "df = _df.pivot_table(values='expwt_2_x', cols='subarea', rows='impact_diffmode', aggfunc=\"sum\")\n",
      "df.to_clipboard()"
     ],
     "language": "python",
     "metadata": {},
     "outputs": [],
     "prompt_number": 40
    },
    {
     "cell_type": "code",
     "collapsed": false,
     "input": [
      "# Travel info impact on travel plans: Travel info impact on travel plans: I postpone or cancel my trip\n",
      "df = _df.pivot_table(values='expwt_2_x', cols='subarea', rows='impact_postpone', aggfunc=\"sum\")\n",
      "df.to_clipboard()"
     ],
     "language": "python",
     "metadata": {},
     "outputs": [],
     "prompt_number": 41
    },
    {
     "cell_type": "code",
     "collapsed": false,
     "input": [
      "# Travel info impact on travel plans: I change the number or order of the stops I plan to make on my trip\n",
      "df = _df.pivot_table(values='expwt_2_x', cols='subarea', rows='impact_order', aggfunc=\"sum\")\n",
      "df.to_clipboard()"
     ],
     "language": "python",
     "metadata": {},
     "outputs": [],
     "prompt_number": 47
    },
    {
     "cell_type": "code",
     "collapsed": false,
     "input": [],
     "language": "python",
     "metadata": {},
     "outputs": []
    }
   ],
   "metadata": {}
  }
 ]
}