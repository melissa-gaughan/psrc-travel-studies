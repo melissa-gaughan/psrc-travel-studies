{
 "metadata": {
  "name": "",
  "signature": "sha256:bdea4bda02415a480947b66079cec62841de59e3eedc327a47b71b9dcb8da22b"
 },
 "nbformat": 3,
 "nbformat_minor": 0,
 "worksheets": [
  {
   "cells": [
    {
     "cell_type": "code",
     "collapsed": false,
     "input": [
      "# Residence factors for households in King County subareas"
     ],
     "language": "python",
     "metadata": {},
     "outputs": [],
     "prompt_number": 1
    },
    {
     "cell_type": "code",
     "collapsed": false,
     "input": [
      "import numpy as np\n",
      "import pandas as pd\n",
      "import load_data as data\n",
      "\n",
      "print data.year"
     ],
     "language": "python",
     "metadata": {},
     "outputs": [
      {
       "output_type": "stream",
       "stream": "stdout",
       "text": [
        "2014\n"
       ]
      },
      {
       "output_type": "stream",
       "stream": "stderr",
       "text": [
        "C:\\Anaconda\\lib\\site-packages\\pandas\\io\\parsers.py:1070: DtypeWarning: Columns (41) have mixed types. Specify dtype option on import or set low_memory=False.\n",
        "  data = self._reader.read(nrows)\n"
       ]
      }
     ],
     "prompt_number": 1
    },
    {
     "cell_type": "code",
     "collapsed": false,
     "input": [
      "# Define KC subareas\n",
      "# Reference: http://your.kingcounty.gov/budget/agr/agr03/03AGRCH4b.pdf\n",
      "seashore_cities = ['SEATTLE', 'SHORELINE','LAKE FOREST PARK']\n",
      "south_cities = ['BURIEN', 'NORMANDY PARK', 'SEATAC', 'TUKWILA', 'RENTON','DES MOINES', 'KENT', 'FEDERAL WAY',\n",
      "                'AUBURN', 'ALGONA', 'MILTON', 'PACIFIC', 'COVINGTON', 'MAPLE VALLEY', 'BLACK DIAMOND']\n",
      "east_cities = ['BOTHELL','WOODINVILLE', 'KENMORE', 'KIRKLAND', 'REDMOND','HUNTS POINT', 'YARROW POINT', 'CLYDE MILL',\n",
      "               'MEDINA', 'BELLEVUE', 'BEAUX ARTS', 'SAMMAMISH', 'MERCER ISLAND', 'NEWCASTLE', 'ISSAQUAH']\n",
      "all_kc_cities = seashore_cities + south_cities + east_cities"
     ],
     "language": "python",
     "metadata": {},
     "outputs": [],
     "prompt_number": 2
    },
    {
     "cell_type": "code",
     "collapsed": false,
     "input": [
      "# Sort by home location in each subarea\n",
      "\n",
      "seashore_df = data.hh.query('h_city in seashore_cities')\n",
      "south_df = data.hh.query('h_city in south_cities')\n",
      "east_df = data.hh.query('h_city in east_cities')\n",
      "\n",
      "# Also consider trips to other places in King County\n",
      "all_king_df = data.hh.query('h_county_name == 1')\n",
      "king_other_df = all_king_df.query('h_city not in all_kc_cities')\n",
      "\n",
      "seashore_df['subarea'] = 'Sea-Shore'\n",
      "south_df['subarea'] = 'South'\n",
      "east_df['subarea'] = 'East King'\n",
      "\n",
      "# All King County households with subarea labels\n",
      "kc_hh = pd.concat(objs=[seashore_df,south_df,east_df], axis=0, join='outer', \n",
      "               join_axes=None, ignore_index=False,\n",
      "               keys=None, levels=None, names=None, verify_integrity=False)"
     ],
     "language": "python",
     "metadata": {},
     "outputs": [],
     "prompt_number": 4
    },
    {
     "cell_type": "code",
     "collapsed": false,
     "input": [
      "# Add information about cohorts to household information\n",
      "zero_car = kc_hh.query('vehicle_count == 0')\n",
      "car_lean = kc_hh.query('numadults < vehicle_count')\n",
      "car_equal = kc_hh.query('numadults == vehicle_count')\n",
      "car_rich = kc_hh.query('numadults > vehicle_count and vehicle_count > 0')\n",
      "\n",
      "zero_car['cohort'] = 'Zero-Car'\n",
      "car_lean['cohort'] = 'Car-Lean'\n",
      "car_equal['cohort'] = 'Car-Equal'\n",
      "car_rich['cohort'] = 'Car-Rich'\n",
      "\n",
      "# All King County households with subarea labels\n",
      "kc_hh = pd.concat(objs=[zero_car,car_lean,car_equal,car_rich], axis=0, join='outer', \n",
      "               join_axes=None, ignore_index=False,\n",
      "               keys=None, levels=None, names=None, verify_integrity=False)"
     ],
     "language": "python",
     "metadata": {},
     "outputs": [],
     "prompt_number": 4
    },
    {
     "cell_type": "code",
     "collapsed": false,
     "input": [
      "# cohort by subarea\n",
      "df = pd.pivot_table(data=kc_hh, rows=\"cohort\", cols=\"subarea\", values='expwt_2', aggfunc=\"sum\")\n",
      "df.to_clipboard()"
     ],
     "language": "python",
     "metadata": {},
     "outputs": [],
     "prompt_number": 84
    },
    {
     "cell_type": "code",
     "collapsed": false,
     "input": [
      "# Join trip files to the updated household records\n",
      "trip = pd.merge(data.trip, kc_hh, left_on='hhid', right_on='hhid')\n",
      "\n",
      "seashore_df_trip = trip.query('h_city in seashore_cities')\n",
      "south_df_trip = trip.query('h_city in south_cities')\n",
      "east_df_trip = trip.query('h_city in east_cities')\n",
      "\n"
     ],
     "language": "python",
     "metadata": {},
     "outputs": [],
     "prompt_number": 13
    },
    {
     "cell_type": "code",
     "collapsed": false,
     "input": [
      "# mode share by cohort\n",
      "df = pd.pivot_table(data=trip, rows=\"mode\", cols=\"cohort\", values='expwt_2_x', aggfunc=\"count\")\n",
      "df.to_clipboard()"
     ],
     "language": "python",
     "metadata": {},
     "outputs": [],
     "prompt_number": 14
    },
    {
     "cell_type": "code",
     "collapsed": false,
     "input": [
      "# Breakdown by lifecycle\n",
      "df = pd.pivot_table(data=kc_hh, rows=\"lifecycle\", cols=\"subarea\", values='expwt_2', aggfunc=\"count\")\n",
      "df.to_clipboard()"
     ],
     "language": "python",
     "metadata": {},
     "outputs": [],
     "prompt_number": 15
    },
    {
     "cell_type": "code",
     "collapsed": false,
     "input": [
      "# Mode share by lifecycle\n",
      "seashore_mode = pd.pivot_table(data=seashore_df_trip, rows=\"mode\", cols=\"lifecycle\", values='expwt_2_x', aggfunc=\"sum\")\n",
      "south_mode = pd.pivot_table(data=south_df_trip, rows=\"mode\", cols=\"lifecycle\", values='expwt_2_x', aggfunc=\"sum\")\n",
      "east_mode = pd.pivot_table(data=east_df_trip, rows=\"mode\", cols=\"lifecycle\", values='expwt_2_x', aggfunc=\"count\")\n",
      "\n",
      "seashore_mode.to_clipboard()"
     ],
     "language": "python",
     "metadata": {},
     "outputs": [],
     "prompt_number": 27
    },
    {
     "cell_type": "code",
     "collapsed": false,
     "input": [
      "# Mode share by county (destination within county)\n",
      "# Mode share by trip purpose\n",
      "mode_x_county = pd.pivot_table(kc_trips, rows=\"mode\", cols=\"subarea\", values=\"expwt_2\", aggfunc='count')\n",
      "mode_x_county.to_clipboard()"
     ],
     "language": "python",
     "metadata": {},
     "outputs": [],
     "prompt_number": 104
    },
    {
     "cell_type": "code",
     "collapsed": false,
     "input": [
      "# Mode share by trip purpose\n",
      "seashore_purp = pd.pivot_table(data=seashore_df, rows=\"mode\", cols=\"d_purpose\", values='expwt_2', aggfunc=\"count\")\n",
      "south_df = pd.pivot_table(data=south_df, rows=\"mode\", cols=\"d_purpose\", values='expwt_2', aggfunc=\"count\")\n",
      "east_df = pd.pivot_table(data=east_df, rows=\"mode\", cols=\"d_purpose\", values='expwt_2', aggfunc=\"count\")"
     ],
     "language": "python",
     "metadata": {},
     "outputs": [],
     "prompt_number": 130
    },
    {
     "cell_type": "code",
     "collapsed": false,
     "input": [
      "aggfunc_resfac = 'sum'"
     ],
     "language": "python",
     "metadata": {},
     "outputs": [],
     "prompt_number": 16
    },
    {
     "cell_type": "code",
     "collapsed": false,
     "input": [
      "# Residential factors by subarea\n",
      "df = pd.pivot_table(data=kc_hh, rows=\"res_factors_hhchange\", cols=\"subarea\", values='expwt_2', aggfunc=aggfunc_resfac)\n",
      "df.to_clipboard()"
     ],
     "language": "python",
     "metadata": {},
     "outputs": [],
     "prompt_number": 18
    },
    {
     "cell_type": "code",
     "collapsed": false,
     "input": [
      "df = pd.pivot_table(data=kc_hh, rows=\"res_factors_afford\", cols=\"subarea\", values='expwt_2', aggfunc=aggfunc_resfac)\n",
      "df.to_clipboard()"
     ],
     "language": "python",
     "metadata": {},
     "outputs": [],
     "prompt_number": 19
    },
    {
     "cell_type": "code",
     "collapsed": false,
     "input": [
      "df = pd.pivot_table(data=kc_hh, rows=\"res_factors_school\", cols=\"subarea\", values='expwt_2', aggfunc=aggfunc_resfac)\n",
      "df.to_clipboard()"
     ],
     "language": "python",
     "metadata": {},
     "outputs": [],
     "prompt_number": 20
    },
    {
     "cell_type": "code",
     "collapsed": false,
     "input": [
      "df = pd.pivot_table(data=kc_hh, rows=\"res_factors_walk\", cols=\"subarea\", values='expwt_2', aggfunc=aggfunc_resfac)\n",
      "df.to_clipboard()"
     ],
     "language": "python",
     "metadata": {},
     "outputs": [],
     "prompt_number": 21
    },
    {
     "cell_type": "code",
     "collapsed": false,
     "input": [
      "df = pd.pivot_table(data=kc_hh, rows=\"res_factors_space\", cols=\"subarea\", values='expwt_2', aggfunc=aggfunc_resfac)\n",
      "df.to_clipboard()"
     ],
     "language": "python",
     "metadata": {},
     "outputs": [],
     "prompt_number": 22
    },
    {
     "cell_type": "code",
     "collapsed": false,
     "input": [
      "df = pd.pivot_table(data=kc_hh, rows=\"res_factors_closefam\", cols=\"subarea\", values='expwt_2', aggfunc=aggfunc_resfac)\n",
      "df.to_clipboard()"
     ],
     "language": "python",
     "metadata": {},
     "outputs": [],
     "prompt_number": 23
    },
    {
     "cell_type": "code",
     "collapsed": false,
     "input": [
      "df = pd.pivot_table(data=kc_hh, rows=\"res_factors_transit\", cols=\"subarea\", values='expwt_2', aggfunc=aggfunc_resfac)\n",
      "df.to_clipboard()"
     ],
     "language": "python",
     "metadata": {},
     "outputs": [],
     "prompt_number": 24
    },
    {
     "cell_type": "code",
     "collapsed": false,
     "input": [
      "df = pd.pivot_table(data=kc_hh, rows=\"res_factors_hwy\", cols=\"subarea\", values='expwt_2', aggfunc=aggfunc_resfac)\n",
      "df.to_clipboard()"
     ],
     "language": "python",
     "metadata": {},
     "outputs": [],
     "prompt_number": 25
    },
    {
     "cell_type": "code",
     "collapsed": false,
     "input": [
      "df = pd.pivot_table(data=kc_hh, rows=\"res_factors_30min\", cols=\"subarea\", values='expwt_2', aggfunc=aggfunc_resfac)\n",
      "df.to_clipboard()"
     ],
     "language": "python",
     "metadata": {},
     "outputs": [],
     "prompt_number": 26
    },
    {
     "cell_type": "code",
     "collapsed": false,
     "input": [],
     "language": "python",
     "metadata": {},
     "outputs": []
    }
   ],
   "metadata": {}
  }
 ]
}