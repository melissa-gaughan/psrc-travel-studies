{
 "metadata": {
  "name": "",
  "signature": "sha256:5ee0f0ac7417713228c8375caedcbd6c993ae63c1c8f6811d34b398800a7bc31"
 },
 "nbformat": 3,
 "nbformat_minor": 0,
 "worksheets": [
  {
   "cells": [
    {
     "cell_type": "code",
     "collapsed": false,
     "input": [
      "# Stated preference responses from person data\n",
      "# Factors influencing walking, bike, and transit use"
     ],
     "language": "python",
     "metadata": {},
     "outputs": [],
     "prompt_number": 1
    },
    {
     "cell_type": "code",
     "collapsed": false,
     "input": [
      "import numpy as np\n",
      "import pandas as pd\n",
      "import load_data as data"
     ],
     "language": "python",
     "metadata": {},
     "outputs": [
      {
       "output_type": "stream",
       "stream": "stderr",
       "text": [
        "C:\\Anaconda\\lib\\site-packages\\pandas\\io\\parsers.py:1070: DtypeWarning: Columns (41) have mixed types. Specify dtype option on import or set low_memory=False.\n",
        "  data = self._reader.read(nrows)\n",
        "C:\\Anaconda\\lib\\site-packages\\pandas\\io\\parsers.py:1070: DtypeWarning: Columns (42) have mixed types. Specify dtype option on import or set low_memory=False.\n",
        "  data = self._reader.read(nrows)\n"
       ]
      }
     ],
     "prompt_number": 2
    },
    {
     "cell_type": "code",
     "collapsed": false,
     "input": [
      "# Transit Access modes for all transit trips\n",
      "expwt = 'expwt_final'"
     ],
     "language": "python",
     "metadata": {},
     "outputs": [],
     "prompt_number": 3
    },
    {
     "cell_type": "code",
     "collapsed": false,
     "input": [
      "access_mode = data.trip.groupby(\"mode_acc\")[expwt].sum()\n",
      "access_mode.to_clipboard()"
     ],
     "language": "python",
     "metadata": {},
     "outputs": [],
     "prompt_number": 4
    },
    {
     "cell_type": "code",
     "collapsed": false,
     "input": [
      "# Work trips only\n",
      "work_trips = data.trip.query(\"d_purpose == 2\")"
     ],
     "language": "python",
     "metadata": {},
     "outputs": [],
     "prompt_number": 5
    },
    {
     "cell_type": "code",
     "collapsed": false,
     "input": [
      "# Transit access for work trips only\n",
      "work_access_mode = work_trips.groupby(\"mode_acc\")[expwt].count()\n",
      "work_access_mode\n"
     ],
     "language": "python",
     "metadata": {},
     "outputs": [
      {
       "metadata": {},
       "output_type": "pyout",
       "prompt_number": 6,
       "text": [
        "mode_acc\n",
        "1           797\n",
        "2            21\n",
        "3            99\n",
        "5            28\n",
        "6             1\n",
        "dtype: int64"
       ]
      }
     ],
     "prompt_number": 6
    },
    {
     "cell_type": "code",
     "collapsed": false,
     "input": [
      "# Sound Transit trips only (should be about 40% motorized...)\n",
      "stbus_trips = data.trip.query(\"transitsystem1 == 12\")\n",
      "sttrain_trips = data.trip.query(\"transitsystem1 == 13\")\n",
      "\n",
      "# Sound transit work trips only\n",
      "stbus_trips_work = work_trips.query(\"transitsystem1 == 12\")\n",
      "sttrain_trips_work = work_trips.query(\"transitsystem1 == 13\")\n",
      "\n",
      "# All trips by Sound Transit\n",
      "stbus_access = stbus_trips.groupby(\"mode_acc\")[expwt].sum()\n",
      "sttrain_trips = sttrain_trips.groupby(\"mode_acc\")[expwt].sum()\n",
      "\n",
      "# Home to Work trips only\n",
      "stbus_access_work = stbus_trips_work.groupby(\"mode_acc\")[expwt].sum()\n",
      "sttrain_access_work = sttrain_trips_work.groupby(\"mode_acc\")[expwt].sum()\n",
      "\n",
      "sttrain_access_work.to_clipboard()"
     ],
     "language": "python",
     "metadata": {},
     "outputs": [],
     "prompt_number": 7
    },
    {
     "cell_type": "code",
     "collapsed": false,
     "input": [
      "# Linked trips only\n",
      "linked_trips = data.trip.query(\"num_trips_linked > 0\")"
     ],
     "language": "python",
     "metadata": {},
     "outputs": [],
     "prompt_number": 8
    },
    {
     "cell_type": "code",
     "collapsed": false,
     "input": [
      "# Access modes for linked trips\n",
      "linked_acc = linked_trips.groupby(\"mode_acc\")[expwt].sum()\n",
      "linked_acc.to_clipboard()"
     ],
     "language": "python",
     "metadata": {},
     "outputs": [],
     "prompt_number": 9
    },
    {
     "cell_type": "code",
     "collapsed": false,
     "input": [
      "# Mode split for linked trips\n",
      "linked_mode = linked_trips.groupby(\"mode\")[expwt].sum()\n",
      "linked_mode.to_clipboard()"
     ],
     "language": "python",
     "metadata": {},
     "outputs": [],
     "prompt_number": 10
    },
    {
     "cell_type": "code",
     "collapsed": false,
     "input": [
      "# How many transit trips have an access mode listed?\n",
      "access_listed = data.trip.query(\"mode_acc > 0\")\n",
      "transit_trips = data.trip.query(\"mode == 8 or mode == 9 or mode == 10 or mode == 11\")"
     ],
     "language": "python",
     "metadata": {},
     "outputs": [],
     "prompt_number": 11
    },
    {
     "cell_type": "code",
     "collapsed": false,
     "input": [
      "print len(access_listed)\n",
      "print len(transit_trips)"
     ],
     "language": "python",
     "metadata": {},
     "outputs": [
      {
       "output_type": "stream",
       "stream": "stdout",
       "text": [
        "3301\n",
        "3202\n"
       ]
      }
     ],
     "prompt_number": 12
    },
    {
     "cell_type": "code",
     "collapsed": false,
     "input": [
      "# Mode splits for access_listed\n",
      "df = access_listed.groupby(\"mode\")[expwt].sum()\n",
      "df.to_clipboard()"
     ],
     "language": "python",
     "metadata": {},
     "outputs": [],
     "prompt_number": 13
    },
    {
     "cell_type": "code",
     "collapsed": false,
     "input": [
      "# How many transit trips have a transit system listed?\n",
      "df = transit_trips.groupby('transitsystem1')[expwt].sum()\n",
      "df.to_clipboard()"
     ],
     "language": "python",
     "metadata": {},
     "outputs": [],
     "prompt_number": 14
    },
    {
     "cell_type": "code",
     "collapsed": false,
     "input": [
      "data.trip.groupby('mode')[expwt].count()"
     ],
     "language": "python",
     "metadata": {},
     "outputs": [
      {
       "metadata": {},
       "output_type": "pyout",
       "prompt_number": 15,
       "text": [
        "mode\n",
        "-99        30\n",
        " 1      19480\n",
        " 2      11384\n",
        " 3       2781\n",
        " 4        128\n",
        " 5        123\n",
        " 6        926\n",
        " 7       8821\n",
        " 8       2903\n",
        " 9        168\n",
        " 10       115\n",
        " 11        15\n",
        " 12       587\n",
        " 13        87\n",
        " 14        18\n",
        " 15       169\n",
        " 16       112\n",
        " 17        32\n",
        "dtype: int64"
       ]
      }
     ],
     "prompt_number": 15
    },
    {
     "cell_type": "code",
     "collapsed": false,
     "input": [
      "df = pd.pivot_table(data.trip, rows=\"mode\", cols=\"mode_acc\", aggfunc=\"count\")[expwt]\n",
      "df.to_clipboard()"
     ],
     "language": "python",
     "metadata": {},
     "outputs": [],
     "prompt_number": 16
    },
    {
     "cell_type": "code",
     "collapsed": false,
     "input": [
      "# Access for KC Metro trips only\n"
     ],
     "language": "python",
     "metadata": {},
     "outputs": [],
     "prompt_number": 17
    },
    {
     "cell_type": "code",
     "collapsed": false,
     "input": [
      "# Define KC subareas\n",
      "# Reference: http://your.kingcounty.gov/budget/agr/agr03/03AGRCH4b.pdf\n",
      "seashore_cities = ['SEATTLE', 'SHORELINE','LAKE FOREST PARK']\n",
      "south_cities = ['BURIEN', 'NORMANDY PARK', 'SEATAC', 'TUKWILA', 'RENTON','DES MOINES', 'KENT', 'FEDERAL WAY',\n",
      "                'AUBURN', 'ALGONA', 'MILTON', 'PACIFIC', 'COVINGTON', 'MAPLE VALLEY', 'BLACK DIAMOND']\n",
      "east_cities = ['BOTHELL','WOODINVILLE', 'KENMORE', 'KIRKLAND', 'REDMOND','HUNTS POINT', 'YARROW POINT', 'CLYDE MILL',\n",
      "               'MEDINA', 'BELLEVUE', 'BEAUX ARTS', 'SAMMAMISH', 'MERCER ISLAND', 'NEWCASTLE', 'ISSAQUAH']\n",
      "all_kc_cities = seashore_cities + south_cities + east_cities"
     ],
     "language": "python",
     "metadata": {},
     "outputs": [],
     "prompt_number": 18
    },
    {
     "cell_type": "code",
     "collapsed": false,
     "input": [
      "# Sort by trips ending in each subarea\n",
      "seashore_df = data.trip.query('dcity in seashore_cities')\n",
      "south_df = data.trip.query('dcity in south_cities')\n",
      "east_df = data.trip.query('dcity in east_cities')\n",
      "\n",
      "# Also consider trips to other places in King County\n",
      "all_king_df = data.trip.query('dcnty == 1')\n",
      "king_other_df = all_king_df.query('dcity not in all_kc_cities')"
     ],
     "language": "python",
     "metadata": {},
     "outputs": [],
     "prompt_number": 19
    },
    {
     "cell_type": "code",
     "collapsed": false,
     "input": [
      "# Add a subarea field and merge together\n",
      "seashore_df['subarea'] = 'Sea-Shore'\n",
      "south_df['subarea'] = 'South'\n",
      "east_df['subarea'] = 'East'\n",
      "\n",
      "# All King County trips with subarea labels\n",
      "kc_trips = pd.concat(objs=[seashore_df,south_df,east_df], axis=0, join='outer', \n",
      "               join_axes=None, ignore_index=False,\n",
      "               keys=None, levels=None, names=None, verify_integrity=False)"
     ],
     "language": "python",
     "metadata": {},
     "outputs": [],
     "prompt_number": 20
    },
    {
     "cell_type": "code",
     "collapsed": false,
     "input": [
      "df = pd.pivot_table(kc_trips, rows='mode_acc', cols='subarea', aggfunc='count')[expwt]\n",
      "df.to_clipboard()"
     ],
     "language": "python",
     "metadata": {},
     "outputs": [],
     "prompt_number": 22
    },
    {
     "cell_type": "code",
     "collapsed": false,
     "input": [
      "# commute trips only\n",
      "work_trips_kc = kc_trips.query(\"d_purpose == 2\")\n",
      "df = pd.pivot_table(work_trips_kc, rows='mode_acc', cols='subarea', aggfunc='sum')[expwt]\n",
      "df.to_clipboard()"
     ],
     "language": "python",
     "metadata": {},
     "outputs": [],
     "prompt_number": 24
    },
    {
     "cell_type": "code",
     "collapsed": false,
     "input": [],
     "language": "python",
     "metadata": {},
     "outputs": []
    }
   ],
   "metadata": {}
  }
 ]
}