{
 "cells": [
  {
   "cell_type": "code",
   "execution_count": 1,
   "metadata": {
    "collapsed": false
   },
   "outputs": [],
   "source": [
    "# Stated preference responses from person data\n",
    "# Factors influencing walking, bike, and transit use"
   ]
  },
  {
   "cell_type": "code",
   "execution_count": 3,
   "metadata": {
    "collapsed": false
   },
   "outputs": [],
   "source": [
    "import numpy as np\n",
    "import pandas as pd\n",
    "# import load_data as data"
   ]
  },
  {
   "cell_type": "code",
   "execution_count": 113,
   "metadata": {
    "collapsed": true
   },
   "outputs": [],
   "source": [
    "trip = pd.read_csv(r'J:\\Projects\\Surveys\\HHTravel\\Survey2014\\Data\\Export\\Release 3\\General Release\\Unzipped\\2014-pr3-hhsurvey-trips.csv')"
   ]
  },
  {
   "cell_type": "code",
   "execution_count": 95,
   "metadata": {
    "collapsed": false
   },
   "outputs": [],
   "source": [
    "# Transit Access modes for all transit trips\n",
    "expwt = 'expwt_final'"
   ]
  },
  {
   "cell_type": "code",
   "execution_count": 11,
   "metadata": {
    "collapsed": false
   },
   "outputs": [
    {
     "data": {
      "text/plain": [
       "mode_acc\n",
       "1.0    3003\n",
       "2.0      47\n",
       "3.0     162\n",
       "4.0       4\n",
       "5.0      63\n",
       "6.0       2\n",
       "7.0      15\n",
       "Name: expwt_final, dtype: int64"
      ]
     },
     "execution_count": 11,
     "metadata": {},
     "output_type": "execute_result"
    }
   ],
   "source": [
    "access_mode = trip.groupby(\"mode_acc\")[expwt].count()\n",
    "access_mode.to_clipboard()\n",
    "access_mode"
   ]
  },
  {
   "cell_type": "code",
   "execution_count": 171,
   "metadata": {
    "collapsed": false
   },
   "outputs": [],
   "source": [
    "# Access mode by county\n",
    "pd.pivot_table(trip, values=expwt, index='mode_acc', columns='ocnty', aggfunc='sum').to_clipboard()"
   ]
  },
  {
   "cell_type": "code",
   "execution_count": 145,
   "metadata": {
    "collapsed": false
   },
   "outputs": [],
   "source": [
    "# Work trips only\n",
    "work_trips = trip.query(\"d_purpose == 2\")"
   ]
  },
  {
   "cell_type": "code",
   "execution_count": 173,
   "metadata": {
    "collapsed": false
   },
   "outputs": [],
   "source": [
    "pd.pivot_table(work_trips, values=expwt, index='mode_acc', columns='ocnty', aggfunc='count').to_clipboard()"
   ]
  },
  {
   "cell_type": "code",
   "execution_count": 35,
   "metadata": {
    "collapsed": false
   },
   "outputs": [],
   "source": [
    "trip.groupby(['transitsystem1','transitsystem2']).count()[expwt].to_clipboard()"
   ]
  },
  {
   "cell_type": "code",
   "execution_count": 62,
   "metadata": {
    "collapsed": false
   },
   "outputs": [
    {
     "data": {
      "text/plain": [
       "dcnty\n",
       "1    2.568328e+06\n",
       "2    2.482631e+05\n",
       "3    5.537981e+05\n",
       "4    3.278869e+05\n",
       "5    3.200257e+04\n",
       "8    7.992686e+04\n",
       "9             NaN\n",
       "Name: sys1_exp, dtype: float64"
      ]
     },
     "execution_count": 62,
     "metadata": {},
     "output_type": "execute_result"
    }
   ],
   "source": [
    "trip.groupby('dcnty').sum()['sys1_exp']"
   ]
  },
  {
   "cell_type": "code",
   "execution_count": 61,
   "metadata": {
    "collapsed": false
   },
   "outputs": [],
   "source": [
    "trip['sys1_exp']=trip['transitsystem1']*trip[expwt]\n",
    "trip['sys2_exp']=trip['transitsystem2']*trip[expwt]\n",
    "trip['sys3_exp']=trip['transitsystem3']*trip[expwt]\n",
    "trip['sys4_exp']=trip['transitsystem4']*trip[expwt]"
   ]
  },
  {
   "cell_type": "code",
   "execution_count": null,
   "metadata": {
    "collapsed": true
   },
   "outputs": [],
   "source": []
  },
  {
   "cell_type": "code",
   "execution_count": null,
   "metadata": {
    "collapsed": true
   },
   "outputs": [],
   "source": []
  },
  {
   "cell_type": "code",
   "execution_count": 134,
   "metadata": {
    "collapsed": false
   },
   "outputs": [
    {
     "data": {
      "text/plain": [
       "3317"
      ]
     },
     "execution_count": 134,
     "metadata": {},
     "output_type": "execute_result"
    }
   ],
   "source": [
    "(trip['transitsystem1']*trip[expwt]).count()"
   ]
  },
  {
   "cell_type": "code",
   "execution_count": 146,
   "metadata": {
    "collapsed": false
   },
   "outputs": [
    {
     "name": "stdout",
     "output_type": "stream",
     "text": [
      "1\n",
      "2\n",
      "3\n",
      "4\n"
     ]
    }
   ],
   "source": [
    "for i in xrange(1,5):\n",
    "    print i\n",
    "    work_trips.ix[work_trips['transitsystem'+str(i)]>0, 'sys_flag'+str(i)] = 1\n",
    "    work_trips.ix[work_trips['sys_flag'+str(i)] !=1, 'sys_flag'+str(i)] = 0\n",
    "    \n",
    "    work_trips['sys_exp'+str(i)] = work_trips['sys_flag'+str(i)]*work_trips[expwt]"
   ]
  },
  {
   "cell_type": "code",
   "execution_count": null,
   "metadata": {
    "collapsed": true
   },
   "outputs": [],
   "source": [
    "for i in xrange(1,5):\n",
    "    print i\n",
    "    trip.ix[trip['transitsystem'+str(i)]>0, 'sys_flag'+str(i)] = 1\n",
    "    trip.ix[trip['sys_flag'+str(i)] !=1, 'sys_flag'+str(i)] = 0\n",
    "    \n",
    "    trip['sys_exp'+str(i)] = trip['sys_flag'+str(i)]*trip[expwt]"
   ]
  },
  {
   "cell_type": "code",
   "execution_count": 144,
   "metadata": {
    "collapsed": false
   },
   "outputs": [],
   "source": [
    "trip.groupby('dcnty').sum()['sys_flag4'].to_clipboard()"
   ]
  },
  {
   "cell_type": "code",
   "execution_count": 161,
   "metadata": {
    "collapsed": true
   },
   "outputs": [],
   "source": [
    "work_trips.groupby('dcnty').sum()['sys_flag3'].to_clipboard()"
   ]
  },
  {
   "cell_type": "code",
   "execution_count": 169,
   "metadata": {
    "collapsed": false
   },
   "outputs": [
    {
     "data": {
      "text/plain": [
       "0.0"
      ]
     },
     "execution_count": 169,
     "metadata": {},
     "output_type": "execute_result"
    }
   ],
   "source": [
    "work_trips['sys_exp4'].sum()"
   ]
  },
  {
   "cell_type": "code",
   "execution_count": 19,
   "metadata": {
    "collapsed": false
   },
   "outputs": [],
   "source": [
    "# Transit access for work trips only\n",
    "work_access_mode = work_trips.groupby(\"mode_acc\")[expwt].sum()\n",
    "work_access_mode.to_clipboard()\n"
   ]
  },
  {
   "cell_type": "code",
   "execution_count": 7,
   "metadata": {
    "collapsed": false
   },
   "outputs": [],
   "source": [
    "# Sound Transit trips only (should be about 40% motorized...)\n",
    "stbus_trips = data.trip.query(\"transitsystem1 == 12\")\n",
    "sttrain_trips = data.trip.query(\"transitsystem1 == 13\")\n",
    "\n",
    "# Sound transit work trips only\n",
    "stbus_trips_work = work_trips.query(\"transitsystem1 == 12\")\n",
    "sttrain_trips_work = work_trips.query(\"transitsystem1 == 13\")\n",
    "\n",
    "# All trips by Sound Transit\n",
    "stbus_access = stbus_trips.groupby(\"mode_acc\")[expwt].sum()\n",
    "sttrain_trips = sttrain_trips.groupby(\"mode_acc\")[expwt].sum()\n",
    "\n",
    "# Home to Work trips only\n",
    "stbus_access_work = stbus_trips_work.groupby(\"mode_acc\")[expwt].sum()\n",
    "sttrain_access_work = sttrain_trips_work.groupby(\"mode_acc\")[expwt].sum()\n",
    "\n",
    "sttrain_access_work.to_clipboard()"
   ]
  },
  {
   "cell_type": "code",
   "execution_count": 8,
   "metadata": {
    "collapsed": false
   },
   "outputs": [],
   "source": [
    "# Linked trips only\n",
    "linked_trips = data.trip.query(\"num_trips_linked > 0\")"
   ]
  },
  {
   "cell_type": "code",
   "execution_count": 9,
   "metadata": {
    "collapsed": false
   },
   "outputs": [],
   "source": [
    "# Access modes for linked trips\n",
    "linked_acc = linked_trips.groupby(\"mode_acc\")[expwt].sum()\n",
    "linked_acc.to_clipboard()"
   ]
  },
  {
   "cell_type": "code",
   "execution_count": 10,
   "metadata": {
    "collapsed": false
   },
   "outputs": [],
   "source": [
    "# Mode split for linked trips\n",
    "linked_mode = linked_trips.groupby(\"mode\")[expwt].sum()\n",
    "linked_mode.to_clipboard()"
   ]
  },
  {
   "cell_type": "code",
   "execution_count": 11,
   "metadata": {
    "collapsed": false
   },
   "outputs": [],
   "source": [
    "# How many transit trips have an access mode listed?\n",
    "access_listed = data.trip.query(\"mode_acc > 0\")\n",
    "transit_trips = data.trip.query(\"mode == 8 or mode == 9 or mode == 10 or mode == 11\")"
   ]
  },
  {
   "cell_type": "code",
   "execution_count": 12,
   "metadata": {
    "collapsed": false
   },
   "outputs": [
    {
     "name": "stdout",
     "output_type": "stream",
     "text": [
      "3301\n",
      "3202\n"
     ]
    }
   ],
   "source": [
    "print len(access_listed)\n",
    "print len(transit_trips)"
   ]
  },
  {
   "cell_type": "code",
   "execution_count": 13,
   "metadata": {
    "collapsed": false
   },
   "outputs": [],
   "source": [
    "# Mode splits for access_listed\n",
    "df = access_listed.groupby(\"mode\")[expwt].sum()\n",
    "df.to_clipboard()"
   ]
  },
  {
   "cell_type": "code",
   "execution_count": 14,
   "metadata": {
    "collapsed": false
   },
   "outputs": [],
   "source": [
    "# How many transit trips have a transit system listed?\n",
    "df = transit_trips.groupby('transitsystem1')[expwt].sum()\n",
    "df.to_clipboard()"
   ]
  },
  {
   "cell_type": "code",
   "execution_count": 15,
   "metadata": {
    "collapsed": false
   },
   "outputs": [
    {
     "data": {
      "text/plain": [
       "mode\n",
       "-99        30\n",
       " 1      19480\n",
       " 2      11384\n",
       " 3       2781\n",
       " 4        128\n",
       " 5        123\n",
       " 6        926\n",
       " 7       8821\n",
       " 8       2903\n",
       " 9        168\n",
       " 10       115\n",
       " 11        15\n",
       " 12       587\n",
       " 13        87\n",
       " 14        18\n",
       " 15       169\n",
       " 16       112\n",
       " 17        32\n",
       "dtype: int64"
      ]
     },
     "execution_count": 15,
     "metadata": {},
     "output_type": "execute_result"
    }
   ],
   "source": [
    "data.trip.groupby('mode')[expwt].count()"
   ]
  },
  {
   "cell_type": "code",
   "execution_count": 16,
   "metadata": {
    "collapsed": false
   },
   "outputs": [],
   "source": [
    "df = pd.pivot_table(data.trip, rows=\"mode\", cols=\"mode_acc\", aggfunc=\"count\")[expwt]\n",
    "df.to_clipboard()"
   ]
  },
  {
   "cell_type": "code",
   "execution_count": 17,
   "metadata": {
    "collapsed": false
   },
   "outputs": [],
   "source": [
    "# Access for KC Metro trips only\n"
   ]
  },
  {
   "cell_type": "code",
   "execution_count": 18,
   "metadata": {
    "collapsed": false
   },
   "outputs": [],
   "source": [
    "# Define KC subareas\n",
    "# Reference: http://your.kingcounty.gov/budget/agr/agr03/03AGRCH4b.pdf\n",
    "seashore_cities = ['SEATTLE', 'SHORELINE','LAKE FOREST PARK']\n",
    "south_cities = ['BURIEN', 'NORMANDY PARK', 'SEATAC', 'TUKWILA', 'RENTON','DES MOINES', 'KENT', 'FEDERAL WAY',\n",
    "                'AUBURN', 'ALGONA', 'MILTON', 'PACIFIC', 'COVINGTON', 'MAPLE VALLEY', 'BLACK DIAMOND']\n",
    "east_cities = ['BOTHELL','WOODINVILLE', 'KENMORE', 'KIRKLAND', 'REDMOND','HUNTS POINT', 'YARROW POINT', 'CLYDE MILL',\n",
    "               'MEDINA', 'BELLEVUE', 'BEAUX ARTS', 'SAMMAMISH', 'MERCER ISLAND', 'NEWCASTLE', 'ISSAQUAH']\n",
    "all_kc_cities = seashore_cities + south_cities + east_cities"
   ]
  },
  {
   "cell_type": "code",
   "execution_count": 19,
   "metadata": {
    "collapsed": false
   },
   "outputs": [],
   "source": [
    "# Sort by trips ending in each subarea\n",
    "seashore_df = data.trip.query('dcity in seashore_cities')\n",
    "south_df = data.trip.query('dcity in south_cities')\n",
    "east_df = data.trip.query('dcity in east_cities')\n",
    "\n",
    "# Also consider trips to other places in King County\n",
    "all_king_df = data.trip.query('dcnty == 1')\n",
    "king_other_df = all_king_df.query('dcity not in all_kc_cities')"
   ]
  },
  {
   "cell_type": "code",
   "execution_count": 20,
   "metadata": {
    "collapsed": false
   },
   "outputs": [],
   "source": [
    "# Add a subarea field and merge together\n",
    "seashore_df['subarea'] = 'Sea-Shore'\n",
    "south_df['subarea'] = 'South'\n",
    "east_df['subarea'] = 'East'\n",
    "\n",
    "# All King County trips with subarea labels\n",
    "kc_trips = pd.concat(objs=[seashore_df,south_df,east_df], axis=0, join='outer', \n",
    "               join_axes=None, ignore_index=False,\n",
    "               keys=None, levels=None, names=None, verify_integrity=False)"
   ]
  },
  {
   "cell_type": "code",
   "execution_count": 22,
   "metadata": {
    "collapsed": false
   },
   "outputs": [],
   "source": [
    "df = pd.pivot_table(kc_trips, rows='mode_acc', cols='subarea', aggfunc='count')[expwt]\n",
    "df.to_clipboard()"
   ]
  },
  {
   "cell_type": "code",
   "execution_count": 24,
   "metadata": {
    "collapsed": false
   },
   "outputs": [],
   "source": [
    "# commute trips only\n",
    "work_trips_kc = kc_trips.query(\"d_purpose == 2\")\n",
    "df = pd.pivot_table(work_trips_kc, rows='mode_acc', cols='subarea', aggfunc='sum')[expwt]\n",
    "df.to_clipboard()"
   ]
  },
  {
   "cell_type": "code",
   "execution_count": null,
   "metadata": {
    "collapsed": false
   },
   "outputs": [],
   "source": []
  }
 ],
 "metadata": {
  "kernelspec": {
   "display_name": "Python 2",
   "language": "python",
   "name": "python2"
  },
  "language_info": {
   "codemirror_mode": {
    "name": "ipython",
    "version": 2
   },
   "file_extension": ".py",
   "mimetype": "text/x-python",
   "name": "python",
   "nbconvert_exporter": "python",
   "pygments_lexer": "ipython2",
   "version": "2.7.9"
  }
 },
 "nbformat": 4,
 "nbformat_minor": 0
}
