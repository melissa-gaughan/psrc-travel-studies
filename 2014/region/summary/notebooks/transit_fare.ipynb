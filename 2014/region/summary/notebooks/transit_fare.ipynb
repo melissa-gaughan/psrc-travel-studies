{
 "metadata": {
  "name": "",
  "signature": "sha256:bde8fb683d963aa44d997d8314f6480afd7573dcaf5f26531c40042a715d8c11"
 },
 "nbformat": 3,
 "nbformat_minor": 0,
 "worksheets": [
  {
   "cells": [
    {
     "cell_type": "code",
     "collapsed": false,
     "input": [
      "# Residence factors for households in King County subareas"
     ],
     "language": "python",
     "metadata": {},
     "outputs": [],
     "prompt_number": 1
    },
    {
     "cell_type": "code",
     "collapsed": false,
     "input": [
      "import numpy as np\n",
      "import pandas as pd\n",
      "import load_data as data\n",
      "\n",
      "print data.year"
     ],
     "language": "python",
     "metadata": {},
     "outputs": [
      {
       "output_type": "stream",
       "stream": "stdout",
       "text": [
        "2014\n"
       ]
      },
      {
       "output_type": "stream",
       "stream": "stderr",
       "text": [
        "C:\\Anaconda\\lib\\site-packages\\pandas\\io\\parsers.py:1070: DtypeWarning: Columns (41) have mixed types. Specify dtype option on import or set low_memory=False.\n",
        "  data = self._reader.read(nrows)\n"
       ]
      }
     ],
     "prompt_number": 2
    },
    {
     "cell_type": "code",
     "collapsed": false,
     "input": [
      "# Define KC subareas\n",
      "# Reference: http://your.kingcounty.gov/budget/agr/agr03/03AGRCH4b.pdf\n",
      "seashore_cities = ['SEATTLE', 'SHORELINE','LAKE FOREST PARK']\n",
      "south_cities = ['BURIEN', 'NORMANDY PARK', 'SEATAC', 'TUKWILA', 'RENTON','DES MOINES', 'KENT', 'FEDERAL WAY',\n",
      "                'AUBURN', 'ALGONA', 'MILTON', 'PACIFIC', 'COVINGTON', 'MAPLE VALLEY', 'BLACK DIAMOND']\n",
      "east_cities = ['BOTHELL','WOODINVILLE', 'KENMORE', 'KIRKLAND', 'REDMOND','HUNTS POINT', 'YARROW POINT', 'CLYDE MILL',\n",
      "               'MEDINA', 'BELLEVUE', 'BEAUX ARTS', 'SAMMAMISH', 'MERCER ISLAND', 'NEWCASTLE', 'ISSAQUAH']\n",
      "all_kc_cities = seashore_cities + south_cities + east_cities"
     ],
     "language": "python",
     "metadata": {},
     "outputs": [],
     "prompt_number": 40
    },
    {
     "cell_type": "code",
     "collapsed": false,
     "input": [
      "east_cities"
     ],
     "language": "python",
     "metadata": {},
     "outputs": [
      {
       "metadata": {},
       "output_type": "pyout",
       "prompt_number": 41,
       "text": [
        "['BOTHELL',\n",
        " 'WOODINVILLE',\n",
        " 'KENMORE',\n",
        " 'KIRKLAND',\n",
        " 'REDMOND',\n",
        " 'HUNTS POINT',\n",
        " 'YARROW POINT',\n",
        " 'CLYDE MILL',\n",
        " 'MEDINA',\n",
        " 'BELLEVUE',\n",
        " 'BEAUX ARTS',\n",
        " 'SAMMAMISH',\n",
        " 'MERCER ISLAND',\n",
        " 'NEWCASTLE',\n",
        " 'ISSAQUAH']"
       ]
      }
     ],
     "prompt_number": 41
    },
    {
     "cell_type": "code",
     "collapsed": false,
     "input": [
      "# Join person file to household file\n",
      "#personhh = pd.merge(data.person, data.hh, left_on='hhid', right_on='hhid')\n",
      "\n",
      "# Use the workplace location file\n"
     ],
     "language": "python",
     "metadata": {},
     "outputs": [],
     "prompt_number": 4
    },
    {
     "cell_type": "code",
     "collapsed": false,
     "input": [
      "# Sort by home location in each subarea\n",
      "\n",
      "seashore_df = personhh.query('h_city in seashore_cities')\n",
      "south_df = personhh.query('h_city in south_cities')\n",
      "east_df = personhh.query('h_city in east_cities')\n",
      "\n",
      "# Also consider trips to other places in King County\n",
      "all_king_df = personhh.query('h_county_name == 1')\n",
      "king_other_df = all_king_df.query('h_city not in all_kc_cities')\n",
      "\n",
      "seashore_df['subarea'] = 'Sea-Shore'\n",
      "south_df['subarea'] = 'South'\n",
      "east_df['subarea'] = 'East King'\n",
      "\n",
      "# All King County households with subarea labels\n",
      "kc_hh = pd.concat(objs=[seashore_df,south_df,east_df], axis=0, join='outer', \n",
      "               join_axes=None, ignore_index=False,\n",
      "               keys=None, levels=None, names=None, verify_integrity=False)"
     ],
     "language": "python",
     "metadata": {},
     "outputs": [],
     "prompt_number": 5
    },
    {
     "cell_type": "code",
     "collapsed": false,
     "input": [],
     "language": "python",
     "metadata": {},
     "outputs": []
    },
    {
     "cell_type": "code",
     "collapsed": false,
     "input": [
      "aggfunc_resfac = 'sum'\n",
      "expwt='expwt_2_x'"
     ],
     "language": "python",
     "metadata": {},
     "outputs": [],
     "prompt_number": 11
    },
    {
     "cell_type": "code",
     "collapsed": false,
     "input": [
      "# Typical Transit fare by subarea\n",
      "df = pd.pivot_table(data=kc_hh, rows=\"transitpay_orca\", cols=\"subarea\", values=expwt, aggfunc=aggfunc_resfac)\n",
      "df.to_clipboard()"
     ],
     "language": "python",
     "metadata": {},
     "outputs": [],
     "prompt_number": 16
    },
    {
     "cell_type": "code",
     "collapsed": false,
     "input": [
      "df = pd.pivot_table(data=kc_hh, rows=\"transitpay_cash\", cols=\"subarea\", values=expwt, aggfunc=aggfunc_resfac)\n",
      "df.to_clipboard()"
     ],
     "language": "python",
     "metadata": {},
     "outputs": [],
     "prompt_number": 17
    },
    {
     "cell_type": "code",
     "collapsed": false,
     "input": [
      "df = pd.pivot_table(data=kc_hh, rows=\"transitpay_tickets\", cols=\"subarea\", values=expwt, aggfunc=aggfunc_resfac)\n",
      "df.to_clipboard()"
     ],
     "language": "python",
     "metadata": {},
     "outputs": [],
     "prompt_number": 18
    },
    {
     "cell_type": "code",
     "collapsed": false,
     "input": [
      "df = pd.pivot_table(data=kc_hh, rows=\"transitpay_upass\", cols=\"subarea\", values=expwt, aggfunc=aggfunc_resfac)\n",
      "df.to_clipboard()"
     ],
     "language": "python",
     "metadata": {},
     "outputs": [],
     "prompt_number": 19
    },
    {
     "cell_type": "code",
     "collapsed": false,
     "input": [
      "df = pd.pivot_table(data=kc_hh, rows=\"transitpay_permit\", cols=\"subarea\", values=expwt, aggfunc=aggfunc_resfac)\n",
      "df.to_clipboard()"
     ],
     "language": "python",
     "metadata": {},
     "outputs": [],
     "prompt_number": 20
    },
    {
     "cell_type": "code",
     "collapsed": false,
     "input": [
      "df = pd.pivot_table(data=kc_hh, rows=\"transitpay_flex\", cols=\"subarea\", values=expwt, aggfunc=aggfunc_resfac)\n",
      "df.to_clipboard()"
     ],
     "language": "python",
     "metadata": {},
     "outputs": [],
     "prompt_number": 21
    },
    {
     "cell_type": "code",
     "collapsed": false,
     "input": [
      "df = pd.pivot_table(data=kc_hh, rows=\"transitpay_access\", cols=\"subarea\", values=expwt, aggfunc=aggfunc_resfac)\n",
      "df.to_clipboard()"
     ],
     "language": "python",
     "metadata": {},
     "outputs": [],
     "prompt_number": 22
    },
    {
     "cell_type": "code",
     "collapsed": false,
     "input": [
      "df = pd.pivot_table(data=kc_hh, rows=\"transitpay_school\", cols=\"subarea\", values=expwt, aggfunc=aggfunc_resfac)\n",
      "df.to_clipboard()"
     ],
     "language": "python",
     "metadata": {},
     "outputs": [],
     "prompt_number": 23
    },
    {
     "cell_type": "code",
     "collapsed": false,
     "input": [
      "df = pd.pivot_table(data=kc_hh, rows=\"transitpay_govt\", cols=\"subarea\", values=expwt, aggfunc=aggfunc_resfac)\n",
      "df.to_clipboard()"
     ],
     "language": "python",
     "metadata": {},
     "outputs": [],
     "prompt_number": 24
    },
    {
     "cell_type": "code",
     "collapsed": false,
     "input": [
      "df = pd.pivot_table(data=kc_hh, rows=\"transitpay_other\", cols=\"subarea\", values=expwt, aggfunc=aggfunc_resfac)\n",
      "df.to_clipboard()"
     ],
     "language": "python",
     "metadata": {},
     "outputs": [],
     "prompt_number": 25
    },
    {
     "cell_type": "code",
     "collapsed": false,
     "input": [
      "df = pd.pivot_table(data=kc_hh, rows=\"transitpay_dontknow\", cols=\"subarea\", values=expwt, aggfunc=aggfunc_resfac)\n",
      "df.to_clipboard()"
     ],
     "language": "python",
     "metadata": {},
     "outputs": [],
     "prompt_number": 26
    },
    {
     "cell_type": "code",
     "collapsed": false,
     "input": [
      "# Transit subsidy\n",
      "df = pd.pivot_table(data=kc_hh, rows=\"transit_subsidy\", cols=\"subarea\", values=expwt, aggfunc=aggfunc_resfac)\n",
      "df.to_clipboard()\n"
     ],
     "language": "python",
     "metadata": {},
     "outputs": [],
     "prompt_number": 27
    },
    {
     "cell_type": "code",
     "collapsed": false,
     "input": [
      "# Commute Benefits\n",
      "df = pd.pivot_table(data=kc_hh, rows=\"choose_work\", cols=\"subarea\", values=expwt, aggfunc=aggfunc_resfac)\n",
      "df.to_clipboard()"
     ],
     "language": "python",
     "metadata": {},
     "outputs": [],
     "prompt_number": 33
    },
    {
     "cell_type": "code",
     "collapsed": false,
     "input": [
      "df = pd.pivot_table(data=kc_hh, rows=\"choose_weather\", cols=\"subarea\", values=expwt, aggfunc=aggfunc_resfac)\n",
      "df.to_clipboard()"
     ],
     "language": "python",
     "metadata": {},
     "outputs": [],
     "prompt_number": 34
    },
    {
     "cell_type": "code",
     "collapsed": false,
     "input": [
      "df = pd.pivot_table(data=kc_hh, rows=\"benefits_flextime\", cols=\"subarea\", values=expwt, aggfunc=aggfunc_resfac)\n",
      "df.to_clipboard()"
     ],
     "language": "python",
     "metadata": {},
     "outputs": [],
     "prompt_number": 35
    },
    {
     "cell_type": "code",
     "collapsed": false,
     "input": [
      "df = pd.pivot_table(data=kc_hh, rows=\"benefits_compressed\", cols=\"subarea\", values=expwt, aggfunc=aggfunc_resfac)\n",
      "df.to_clipboard()"
     ],
     "language": "python",
     "metadata": {},
     "outputs": [],
     "prompt_number": 36
    },
    {
     "cell_type": "code",
     "collapsed": false,
     "input": [
      "df = pd.pivot_table(data=kc_hh, rows=\"benefits_parking\", cols=\"subarea\", values=expwt, aggfunc=aggfunc_resfac)\n",
      "df.to_clipboard()"
     ],
     "language": "python",
     "metadata": {},
     "outputs": [],
     "prompt_number": 37
    },
    {
     "cell_type": "code",
     "collapsed": false,
     "input": [
      "df = pd.pivot_table(data=kc_hh, rows=\"benefits_transit\", cols=\"subarea\", values=expwt, aggfunc=aggfunc_resfac)\n",
      "df.to_clipboard()"
     ],
     "language": "python",
     "metadata": {},
     "outputs": [],
     "prompt_number": 38
    },
    {
     "cell_type": "code",
     "collapsed": false,
     "input": [
      "df = pd.pivot_table(data=kc_hh, rows=\"benefits_commute\", cols=\"subarea\", values=expwt, aggfunc=aggfunc_resfac)\n",
      "df.to_clipboard()"
     ],
     "language": "python",
     "metadata": {},
     "outputs": [],
     "prompt_number": 39
    },
    {
     "cell_type": "code",
     "collapsed": false,
     "input": [],
     "language": "python",
     "metadata": {},
     "outputs": []
    }
   ],
   "metadata": {}
  }
 ]
}