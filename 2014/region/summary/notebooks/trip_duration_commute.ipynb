{
 "metadata": {
  "name": "",
  "signature": "sha256:33ec17054ffd91e92c8d6fe6cfcbae14700e6a5a69dee766222245d35045190b"
 },
 "nbformat": 3,
 "nbformat_minor": 0,
 "worksheets": [
  {
   "cells": [
    {
     "cell_type": "code",
     "collapsed": false,
     "input": [
      "# "
     ],
     "language": "python",
     "metadata": {},
     "outputs": [],
     "prompt_number": 6
    },
    {
     "cell_type": "code",
     "collapsed": false,
     "input": [
      "import numpy as np\n",
      "import pandas as pd\n",
      "import load_data as data"
     ],
     "language": "python",
     "metadata": {},
     "outputs": [
      {
       "output_type": "stream",
       "stream": "stderr",
       "text": [
        "C:\\Anaconda\\lib\\site-packages\\pandas\\io\\parsers.py:1070: DtypeWarning: Columns (68,69,70,71,72) have mixed types. Specify dtype option on import or set low_memory=False.\n",
        "  data = self._reader.read(nrows)\n",
        "C:\\Anaconda\\lib\\site-packages\\pandas\\io\\parsers.py:1070: DtypeWarning: Columns (41) have mixed types. Specify dtype option on import or set low_memory=False.\n",
        "  data = self._reader.read(nrows)\n"
       ]
      },
      {
       "output_type": "stream",
       "stream": "stderr",
       "text": [
        "C:\\Anaconda\\lib\\site-packages\\pandas\\io\\parsers.py:1070: DtypeWarning: Columns (42) have mixed types. Specify dtype option on import or set low_memory=False.\n",
        "  data = self._reader.read(nrows)\n"
       ]
      }
     ],
     "prompt_number": 1
    },
    {
     "cell_type": "code",
     "collapsed": false,
     "input": [
      "# Filter out values with negative reported trip times\n",
      "data.trip = data.trip.query('trip_dur_reported > 0')"
     ],
     "language": "python",
     "metadata": {},
     "outputs": [],
     "prompt_number": 2
    },
    {
     "cell_type": "code",
     "collapsed": false,
     "input": [
      "expwt = 'expwt_final'"
     ],
     "language": "python",
     "metadata": {},
     "outputs": [],
     "prompt_number": 8
    },
    {
     "cell_type": "code",
     "collapsed": false,
     "input": [
      "# Select commute only trips\n",
      "commute = data.trip"
     ],
     "language": "python",
     "metadata": {},
     "outputs": [],
     "prompt_number": 40
    },
    {
     "cell_type": "code",
     "collapsed": false,
     "input": [
      "# Need temp column for storing results for pivot table\n",
      "commute['wt_gdist'] = commute.gdist * commute[expwt]\n",
      "\n",
      "commute['wt_gtime'] = commute.gtime * commute[expwt]\n",
      "\n",
      "commute['wt_reported_time'] = commute.trip_dur_reported * commute[expwt]"
     ],
     "language": "python",
     "metadata": {},
     "outputs": [],
     "prompt_number": 41
    },
    {
     "cell_type": "code",
     "collapsed": false,
     "input": [
      "# Average trip DURATION by mode\n",
      "mode_group = commute.groupby('mode').sum()\n",
      "mode_group.wt_avg = mode_group['wt_reported_time']/data.trip.groupby('mode')[expwt].sum()\n",
      "\n",
      "# Final trip DURATION by mode table\n",
      "mode_group.wt_avg.to_clipboard()"
     ],
     "language": "python",
     "metadata": {},
     "outputs": [],
     "prompt_number": 42
    },
    {
     "cell_type": "code",
     "collapsed": false,
     "input": [
      "# Split results by general mode to create pivot table\n",
      "sov = data.trip.query('mode == 1')\n",
      "hov = data.trip.query('mode in [2, 3, 4]')\n",
      "transit = data.trip.query('mode in [8,9,10,11]')\n",
      "walk = data.trip.query('mode == 7')"
     ],
     "language": "python",
     "metadata": {},
     "outputs": [],
     "prompt_number": 43
    },
    {
     "cell_type": "code",
     "collapsed": false,
     "input": [
      "df = data.trip\n",
      "\n",
      "# Aggregate modes\n",
      "hbw = df.query('d_purpose == 2 and o_purpose == 1')\n",
      "hbo = df.query('o_purpose == 1 and d_purpose != 2')\n",
      "nhb = df.query('o_purpose != 1')"
     ],
     "language": "python",
     "metadata": {},
     "outputs": [],
     "prompt_number": 44
    },
    {
     "cell_type": "code",
     "collapsed": false,
     "input": [
      "df = hbo\n",
      "\n",
      "# Average trip DURATION by mode\n",
      "mode_group = df.groupby('mode').sum()\n",
      "mode_group.wt_avg = mode_group['wt_reported_time']/df.groupby('mode')[expwt].sum()\n",
      "\n",
      "# Final trip length by mode table\n",
      "mode_group.wt_avg.to_clipboard()"
     ],
     "language": "python",
     "metadata": {},
     "outputs": [],
     "prompt_number": 50
    },
    {
     "cell_type": "code",
     "collapsed": false,
     "input": [
      "mode_group[expwt].to_clipboard()"
     ],
     "language": "python",
     "metadata": {},
     "outputs": [],
     "prompt_number": 51
    },
    {
     "cell_type": "code",
     "collapsed": false,
     "input": [
      "# Average trip time by purpose\n",
      "mode_group.wt_avg_time_purp = mode_group['wt_gtime']/data.trip.groupby('d_purpose').expwt_2.sum()\n",
      "\n",
      "# Final trip length by pur table\n",
      "mode_group.wt_avg_time_purp.to_clipboard()"
     ],
     "language": "python",
     "metadata": {},
     "outputs": [],
     "prompt_number": 20
    },
    {
     "cell_type": "code",
     "collapsed": false,
     "input": [
      "# Average trip time by county\n",
      "cnty_group = data.trip.groupby('dcnty').sum()\n",
      "mode_group.wt_avg_time_purp = mode_group['wt_gtime']/data.trip.groupby('dcnty').expwt_2.sum()\n",
      "\n",
      "# Final trip length by pur table\n",
      "mode_group.wt_avg_time_purp.to_clipboard()"
     ],
     "language": "python",
     "metadata": {},
     "outputs": [],
     "prompt_number": 13
    },
    {
     "cell_type": "code",
     "collapsed": false,
     "input": [],
     "language": "python",
     "metadata": {},
     "outputs": []
    }
   ],
   "metadata": {}
  }
 ]
}