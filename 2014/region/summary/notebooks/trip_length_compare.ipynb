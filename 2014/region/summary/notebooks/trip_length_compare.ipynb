{
 "metadata": {
  "name": "",
  "signature": "sha256:49b4d8564b9a31263208bc56757e9a1102311be590e247787bac9e093f80344b"
 },
 "nbformat": 3,
 "nbformat_minor": 0,
 "worksheets": [
  {
   "cells": [
    {
     "cell_type": "code",
     "collapsed": false,
     "input": [
      "# "
     ],
     "language": "python",
     "metadata": {},
     "outputs": [],
     "prompt_number": 6
    },
    {
     "cell_type": "code",
     "collapsed": false,
     "input": [
      "import numpy as np\n",
      "import pandas as pd\n",
      "import load_data as data"
     ],
     "language": "python",
     "metadata": {},
     "outputs": [
      {
       "output_type": "stream",
       "stream": "stderr",
       "text": [
        "C:\\Anaconda\\lib\\site-packages\\pandas\\io\\parsers.py:1070: DtypeWarning: Columns (68,69,70,71,72) have mixed types. Specify dtype option on import or set low_memory=False.\n",
        "  data = self._reader.read(nrows)\n",
        "C:\\Anaconda\\lib\\site-packages\\pandas\\io\\parsers.py:1070: DtypeWarning: Columns (41) have mixed types. Specify dtype option on import or set low_memory=False.\n",
        "  data = self._reader.read(nrows)\n"
       ]
      },
      {
       "output_type": "stream",
       "stream": "stderr",
       "text": [
        "C:\\Anaconda\\lib\\site-packages\\pandas\\io\\parsers.py:1070: DtypeWarning: Columns (42) have mixed types. Specify dtype option on import or set low_memory=False.\n",
        "  data = self._reader.read(nrows)\n"
       ]
      }
     ],
     "prompt_number": 1
    },
    {
     "cell_type": "code",
     "collapsed": false,
     "input": [
      "# Filter out values with negative reported trip times\n",
      "data.trip = data.trip.query('trip_dur_reported > 0')"
     ],
     "language": "python",
     "metadata": {},
     "outputs": [],
     "prompt_number": 2
    },
    {
     "cell_type": "code",
     "collapsed": false,
     "input": [
      "expwt = 'expwt_final'"
     ],
     "language": "python",
     "metadata": {},
     "outputs": [],
     "prompt_number": 16
    },
    {
     "cell_type": "code",
     "collapsed": false,
     "input": [
      "# Need temp column for storing results for pivot table\n",
      "data.trip['wt_gdist'] = data.trip.gdist * data.trip[expwt]\n",
      "\n",
      "data.trip['wt_gtime'] = data.trip.gtime * data.trip[expwt]\n",
      "\n",
      "data.trip['wt_reported_time'] = data.trip.trip_dur_reported * data.trip[expwt]"
     ],
     "language": "python",
     "metadata": {},
     "outputs": [],
     "prompt_number": 17
    },
    {
     "cell_type": "code",
     "collapsed": false,
     "input": [
      "# Average trip DURATION by mode\n",
      "mode_group = data.trip.groupby('mode').sum()\n",
      "mode_group.wt_avg = mode_group['wt_gdist']/data.trip.groupby('mode')[expwt].sum()\n",
      "\n",
      "# Final trip length by mode table\n",
      "mode_group.wt_avg.to_clipboard()"
     ],
     "language": "python",
     "metadata": {},
     "outputs": [],
     "prompt_number": 18
    },
    {
     "cell_type": "code",
     "collapsed": false,
     "input": [
      "# Split results by general mode to create pivot table\n",
      "sov = data.trip.query('mode == 1')\n",
      "hov = data.trip.query('mode in [2, 3, 4]')\n",
      "transit = data.trip.query('mode in [8,9,10,11]')\n",
      "walk = data.trip.query('mode == 7')"
     ],
     "language": "python",
     "metadata": {},
     "outputs": [],
     "prompt_number": 19
    },
    {
     "cell_type": "code",
     "collapsed": false,
     "input": [
      "df = data.trip\n",
      "\n",
      "# Aggregate modes\n",
      "hbw = df.query('d_purpose == 2 and o_purpose == 1')\n",
      "hbo = df.query('o_purpose == 1 and d_purpose != 2')\n",
      "nhb = df.query('o_purpose != 1')"
     ],
     "language": "python",
     "metadata": {},
     "outputs": [],
     "prompt_number": 20
    },
    {
     "cell_type": "code",
     "collapsed": false,
     "input": [
      "df = nhb\n",
      "\n",
      "# Average trip DURATION by mode\n",
      "mode_group = df.groupby('mode').sum()\n",
      "mode_group.wt_avg = mode_group['wt_gdist']/df.groupby('mode').expwt_2.sum()\n",
      "\n",
      "# Final trip length by mode table\n",
      "mode_group.wt_avg.to_clipboard()"
     ],
     "language": "python",
     "metadata": {},
     "outputs": [
      {
       "ename": "AttributeError",
       "evalue": "'DataFrameGroupBy' object has no attribute 'expwt_2'",
       "output_type": "pyerr",
       "traceback": [
        "\u001b[1;31m---------------------------------------------------------------------------\u001b[0m\n\u001b[1;31mAttributeError\u001b[0m                            Traceback (most recent call last)",
        "\u001b[1;32m<ipython-input-21-034fc8e28499>\u001b[0m in \u001b[0;36m<module>\u001b[1;34m()\u001b[0m\n\u001b[0;32m      3\u001b[0m \u001b[1;31m# Average trip DURATION by mode\u001b[0m\u001b[1;33m\u001b[0m\u001b[1;33m\u001b[0m\u001b[0m\n\u001b[0;32m      4\u001b[0m \u001b[0mmode_group\u001b[0m \u001b[1;33m=\u001b[0m \u001b[0mdf\u001b[0m\u001b[1;33m.\u001b[0m\u001b[0mgroupby\u001b[0m\u001b[1;33m(\u001b[0m\u001b[1;34m'mode'\u001b[0m\u001b[1;33m)\u001b[0m\u001b[1;33m.\u001b[0m\u001b[0msum\u001b[0m\u001b[1;33m(\u001b[0m\u001b[1;33m)\u001b[0m\u001b[1;33m\u001b[0m\u001b[0m\n\u001b[1;32m----> 5\u001b[1;33m \u001b[0mmode_group\u001b[0m\u001b[1;33m.\u001b[0m\u001b[0mwt_avg\u001b[0m \u001b[1;33m=\u001b[0m \u001b[0mmode_group\u001b[0m\u001b[1;33m[\u001b[0m\u001b[1;34m'wt_gdist'\u001b[0m\u001b[1;33m]\u001b[0m\u001b[1;33m/\u001b[0m\u001b[0mdf\u001b[0m\u001b[1;33m.\u001b[0m\u001b[0mgroupby\u001b[0m\u001b[1;33m(\u001b[0m\u001b[1;34m'mode'\u001b[0m\u001b[1;33m)\u001b[0m\u001b[1;33m.\u001b[0m\u001b[0mexpwt_2\u001b[0m\u001b[1;33m.\u001b[0m\u001b[0msum\u001b[0m\u001b[1;33m(\u001b[0m\u001b[1;33m)\u001b[0m\u001b[1;33m\u001b[0m\u001b[0m\n\u001b[0m\u001b[0;32m      6\u001b[0m \u001b[1;33m\u001b[0m\u001b[0m\n\u001b[0;32m      7\u001b[0m \u001b[1;31m# Final trip length by mode table\u001b[0m\u001b[1;33m\u001b[0m\u001b[1;33m\u001b[0m\u001b[0m\n",
        "\u001b[1;32mC:\\Anaconda\\lib\\site-packages\\pandas\\core\\groupby.pyc\u001b[0m in \u001b[0;36m__getattr__\u001b[1;34m(self, attr)\u001b[0m\n\u001b[0;32m    296\u001b[0m \u001b[1;33m\u001b[0m\u001b[0m\n\u001b[0;32m    297\u001b[0m         raise AttributeError(\"%r object has no attribute %r\" %\n\u001b[1;32m--> 298\u001b[1;33m                              (type(self).__name__, attr))\n\u001b[0m\u001b[0;32m    299\u001b[0m \u001b[1;33m\u001b[0m\u001b[0m\n\u001b[0;32m    300\u001b[0m     \u001b[1;32mdef\u001b[0m \u001b[0m__getitem__\u001b[0m\u001b[1;33m(\u001b[0m\u001b[0mself\u001b[0m\u001b[1;33m,\u001b[0m \u001b[0mkey\u001b[0m\u001b[1;33m)\u001b[0m\u001b[1;33m:\u001b[0m\u001b[1;33m\u001b[0m\u001b[0m\n",
        "\u001b[1;31mAttributeError\u001b[0m: 'DataFrameGroupBy' object has no attribute 'expwt_2'"
       ]
      }
     ],
     "prompt_number": 21
    },
    {
     "cell_type": "code",
     "collapsed": false,
     "input": [],
     "language": "python",
     "metadata": {},
     "outputs": []
    },
    {
     "cell_type": "code",
     "collapsed": false,
     "input": [
      "# Average trip time by purpose\n",
      "mode_group.wt_avg_time_purp = mode_group['wt_gtime']/data.trip.groupby('d_purpose').expwt_2.sum()\n",
      "\n",
      "# Final trip length by pur table\n",
      "mode_group.wt_avg_time_purp.to_clipboard()"
     ],
     "language": "python",
     "metadata": {},
     "outputs": [],
     "prompt_number": 20
    },
    {
     "cell_type": "code",
     "collapsed": false,
     "input": [
      "# Average trip time by county\n",
      "cnty_group = data.trip.groupby('dcnty').sum()\n",
      "mode_group.wt_avg_time_purp = mode_group['wt_gtime']/data.trip.groupby('dcnty').expwt_2.sum()\n",
      "\n",
      "# Final trip length by pur table\n",
      "mode_group.wt_avg_time_purp.to_clipboard()"
     ],
     "language": "python",
     "metadata": {},
     "outputs": [],
     "prompt_number": 13
    },
    {
     "cell_type": "code",
     "collapsed": false,
     "input": [],
     "language": "python",
     "metadata": {},
     "outputs": []
    }
   ],
   "metadata": {}
  }
 ]
}