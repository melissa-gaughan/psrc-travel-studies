{
 "cells": [
  {
   "cell_type": "code",
   "execution_count": 1,
   "metadata": {
    "collapsed": true
   },
   "outputs": [],
   "source": [
    "# Apply under-reporting weights, using factors from 2017 survey analysis\n",
    "import pandas as pd"
   ]
  },
  {
   "cell_type": "code",
   "execution_count": 27,
   "metadata": {
    "collapsed": true
   },
   "outputs": [],
   "source": [
    "# Read in household survey trip records\n",
    "df = pd.read_excel(r'J:\\Projects\\Surveys\\HHTravel\\Survey2014\\Data\\Final database\\Release 4\\2014-pr3-M-hhsurvey-trips-LINKED.xlsx',\n",
    "                  sheetname='Linked trips')"
   ]
  },
  {
   "cell_type": "code",
   "execution_count": 28,
   "metadata": {
    "collapsed": true
   },
   "outputs": [],
   "source": [
    "# expwt_final\n",
    "\n",
    "# Create columns for adjustment factors\n",
    "\n",
    "# Identify mandatory-non-mandatory\n",
    "# non-mandatory HB trips are trips that are not from home -> school/work/work-related & school/work/work-related -> home\n",
    "df['non_mandatory'] = 'mandatory'\n",
    "_filter = ((df['o_purpose'] == 1) & (df['d_purpose'].isin([2,3,6])) | ((df['d_purpose'] == 1) & df['o_purpose'].isin([2,3,6])))\n",
    "df.ix[_filter, 'non_mandatory'] = 'non-mandatory'\n",
    "\n",
    "# Create column for simplified modes\n",
    "# auto mode includes all hh vehicles tirps, carshare trips, vanpool\n",
    "df['mode_for_weighting'] = 'other'\n",
    "df.ix[df['mode'].isin([1,2,3,4,5]), 'mode_for_weighting'] = 'auto'\n",
    "\n",
    "# bike\n",
    "df.ix[df['mode'].isin([6]), 'mode_for_weighting'] = 'bike'\n",
    "\n",
    "# walk\n",
    "df.ix[df['mode'].isin([7]), 'mode_for_weighting'] = 'walk'\n",
    "\n",
    "# transit\n",
    "df.ix[df['mode'].isin([8,9,10,11]), 'mode_for_weighting'] = 'transit'"
   ]
  },
  {
   "cell_type": "code",
   "execution_count": 45,
   "metadata": {},
   "outputs": [],
   "source": [
    "# Set base weight adjustment to 1\n",
    "df['wt_adj_factor'] = 1\n",
    "\n",
    "# Certain trip purposes and modes need an adjustment factpr\n",
    "# Transit \n",
    "_filter = (df['non_mandatory'] == 'non-mandatory') & (df['mode_for_weighting'].isin(['transit','other']))\n",
    "df.ix[_filter,'wt_adj_factor'] = 1.15\n",
    "\n",
    "# # Non-mandatory auto trips 0-1 miles\n",
    "_filter = (df['non_mandatory'] == 'non-mandatory') & (df['mode_for_weighting'].isin(['auto'])) & (df['gdist'] < 1)\n",
    "df.ix[_filter,'wt_adj_factor'] = 2\n",
    "\n",
    "# # Non-mandatory auto trips > 1 mile\n",
    "_filter = (df['non_mandatory'] == 'non-mandatory') & (df['mode_for_weighting'].isin(['auto'])) & (df['gdist'] >= 1)\n",
    "df.ix[_filter,'wt_adj_factor'] = 1.15"
   ]
  },
  {
   "cell_type": "code",
   "execution_count": 49,
   "metadata": {},
   "outputs": [],
   "source": [
    "# Multiple the existing weights by this adjustment factor to get a new adjusted weight\n",
    "df['trip_wt_final'] = df['expwt_final']*df['wt_adj_factor']"
   ]
  },
  {
   "cell_type": "code",
   "execution_count": 58,
   "metadata": {},
   "outputs": [],
   "source": [
    "# Load person file to get total population using hh/person weights\n",
    "person = pd.read_excel(r'J:\\Projects\\Surveys\\HHTravel\\Survey2014\\Data\\Final database\\Release 4\\2014-pr3-M-hhsurvey-persons.xlsx',\n",
    "                      sheetname='Data1')"
   ]
  },
  {
   "cell_type": "code",
   "execution_count": 65,
   "metadata": {},
   "outputs": [
    {
     "data": {
      "text/plain": [
       "3464535.644400008"
      ]
     },
     "execution_count": 65,
     "metadata": {},
     "output_type": "execute_result"
    }
   ],
   "source": [
    "tot_person = person['expwt_final'].sum()\n",
    "tot_person"
   ]
  },
  {
   "cell_type": "code",
   "execution_count": null,
   "metadata": {
    "collapsed": true
   },
   "outputs": [],
   "source": [
    "# Get total person days\n",
    "person_days = pd.read_excel(r'J:\\Projects\\Surveys\\HHTravel\\Survey2014\\Data\\Final database\\Release 4\\2014-pr3-M-hhsurvey-persons.xlsx',\n",
    "                      sheetname='Data1')"
   ]
  },
  {
   "cell_type": "code",
   "execution_count": 60,
   "metadata": {},
   "outputs": [
    {
     "data": {
      "text/plain": [
       "4.009771256741059"
      ]
     },
     "execution_count": 60,
     "metadata": {},
     "output_type": "execute_result"
    }
   ],
   "source": [
    "df['trip_wt_final'].sum()/tot_person"
   ]
  },
  {
   "cell_type": "code",
   "execution_count": 61,
   "metadata": {},
   "outputs": [
    {
     "data": {
      "text/plain": [
       "3.8392630489744968"
      ]
     },
     "execution_count": 61,
     "metadata": {},
     "output_type": "execute_result"
    }
   ],
   "source": [
    "df['expwt_final'].sum()/tot_person"
   ]
  },
  {
   "cell_type": "code",
   "execution_count": 53,
   "metadata": {},
   "outputs": [],
   "source": [
    "# Write results to file\n",
    "df.to_excel(r'trips_2014_adjusted_wt.xlsx', index=False)"
   ]
  },
  {
   "cell_type": "code",
   "execution_count": 64,
   "metadata": {},
   "outputs": [
    {
     "data": {
      "text/plain": [
       "13301263.681399997"
      ]
     },
     "execution_count": 64,
     "metadata": {},
     "output_type": "execute_result"
    }
   ],
   "source": [
    "df['expwt_final'].sum()"
   ]
  },
  {
   "cell_type": "code",
   "execution_count": 68,
   "metadata": {},
   "outputs": [],
   "source": [
    "# For 2017 survey, person-day totals\n",
    "pd17 = pd.read_excel(r'J:\\Projects\\Surveys\\HHTravel\\Survey2017\\Data\\Dataset from RSG 180307\\person_day_level_weights.xlsx',\n",
    "                     sheetname='person_day_level_weights')"
   ]
  },
  {
   "cell_type": "code",
   "execution_count": 95,
   "metadata": {},
   "outputs": [],
   "source": [
    "# pd17"
   ]
  },
  {
   "cell_type": "code",
   "execution_count": 70,
   "metadata": {},
   "outputs": [
    {
     "data": {
      "text/plain": [
       "4897102.927818465"
      ]
     },
     "execution_count": 70,
     "metadata": {},
     "output_type": "execute_result"
    }
   ],
   "source": [
    "pd17['hh_wt_final'].sum()"
   ]
  },
  {
   "cell_type": "code",
   "execution_count": 72,
   "metadata": {},
   "outputs": [
    {
     "data": {
      "text/plain": [
       "3850151.9588035243"
      ]
     },
     "execution_count": 72,
     "metadata": {},
     "output_type": "execute_result"
    }
   ],
   "source": [
    "pd17['hh_day_wt_final'].sum()"
   ]
  },
  {
   "cell_type": "code",
   "execution_count": 74,
   "metadata": {},
   "outputs": [
    {
     "data": {
      "text/plain": [
       "4807970.040778006"
      ]
     },
     "execution_count": 74,
     "metadata": {},
     "output_type": "execute_result"
    }
   ],
   "source": [
    "pd17['hh_wt_adjusted'].sum()"
   ]
  },
  {
   "cell_type": "code",
   "execution_count": 77,
   "metadata": {},
   "outputs": [
    {
     "data": {
      "text/plain": [
       "3781685.4633519715"
      ]
     },
     "execution_count": 77,
     "metadata": {},
     "output_type": "execute_result"
    }
   ],
   "source": [
    "pd17['hh_day_wt_adjusted'].sum()"
   ]
  },
  {
   "cell_type": "code",
   "execution_count": 96,
   "metadata": {
    "collapsed": true
   },
   "outputs": [],
   "source": [
    "# Person weights\n",
    "ps17 = pd.read_excel(r'J:\\Projects\\Surveys\\HHTravel\\Survey2017\\Data\\Dataset from RSG 180307\\person_level_weights.xlsx',\n",
    "                     sheetname='person_level_weights')"
   ]
  },
  {
   "cell_type": "code",
   "execution_count": 98,
   "metadata": {},
   "outputs": [
    {
     "data": {
      "text/plain": [
       "3850151.958803499"
      ]
     },
     "execution_count": 98,
     "metadata": {},
     "output_type": "execute_result"
    }
   ],
   "source": [
    "ps17['hh_wt_final'].sum()"
   ]
  },
  {
   "cell_type": "code",
   "execution_count": 100,
   "metadata": {},
   "outputs": [
    {
     "data": {
      "text/plain": [
       "3533789.234364999"
      ]
     },
     "execution_count": 100,
     "metadata": {},
     "output_type": "execute_result"
    }
   ],
   "source": [
    "ps17['hh_day_wt_final'].sum()"
   ]
  },
  {
   "cell_type": "code",
   "execution_count": 102,
   "metadata": {},
   "outputs": [
    {
     "data": {
      "text/plain": [
       "3781685.463351941"
      ]
     },
     "execution_count": 102,
     "metadata": {},
     "output_type": "execute_result"
    }
   ],
   "source": [
    "ps17['hh_wt_adjusted'].sum()"
   ]
  },
  {
   "cell_type": "code",
   "execution_count": 104,
   "metadata": {},
   "outputs": [
    {
     "data": {
      "text/plain": [
       "3476452.931693045"
      ]
     },
     "execution_count": 104,
     "metadata": {},
     "output_type": "execute_result"
    }
   ],
   "source": [
    "ps17['hh_day_wt_adjusted'].sum()"
   ]
  },
  {
   "cell_type": "code",
   "execution_count": 88,
   "metadata": {},
   "outputs": [],
   "source": [
    "# GPS Weighted 2014 data\n",
    "gps14_person = pd.read_csv(r'R:\\SoundCastDocuments\\2014Estimation\\Files_From_Mark_2014\\gps_weights_11_3_16\\original\\precP14_w.dat',\n",
    "                           delim_whitespace=True)"
   ]
  },
  {
   "cell_type": "code",
   "execution_count": 90,
   "metadata": {},
   "outputs": [
    {
     "data": {
      "text/plain": [
       "3708517.966599983"
      ]
     },
     "execution_count": 90,
     "metadata": {},
     "output_type": "execute_result"
    }
   ],
   "source": [
    "gps14_person['psexpfac'].sum()"
   ]
  },
  {
   "cell_type": "code",
   "execution_count": 91,
   "metadata": {},
   "outputs": [
    {
     "data": {
      "text/plain": [
       "1530318.962199996"
      ]
     },
     "execution_count": 91,
     "metadata": {},
     "output_type": "execute_result"
    }
   ],
   "source": [
    "# GPS Weighted 2014 data\n",
    "gps14_hh = pd.read_csv(r'R:\\SoundCastDocuments\\2014Estimation\\Files_From_Mark_2014\\gps_weights_11_3_16\\original\\hrecP14_w.dat',\n",
    "                           delim_whitespace=True)\n",
    "gps14_hh['hhexpfac'].sum()"
   ]
  },
  {
   "cell_type": "code",
   "execution_count": 92,
   "metadata": {
    "collapsed": true
   },
   "outputs": [],
   "source": [
    "# GPS Weighted 2014 data\n",
    "gps14_trip = pd.read_csv(r'R:\\SoundCastDocuments\\2014Estimation\\Files_From_Mark_2014\\gps_weights_11_3_16\\original\\tripP14_w.dat',\n",
    "                           delim_whitespace=True)"
   ]
  },
  {
   "cell_type": "code",
   "execution_count": 93,
   "metadata": {},
   "outputs": [
    {
     "data": {
      "text/plain": [
       "16842635.243592683"
      ]
     },
     "execution_count": 93,
     "metadata": {},
     "output_type": "execute_result"
    }
   ],
   "source": [
    "gps14_trip['trexpfac'].sum()"
   ]
  },
  {
   "cell_type": "code",
   "execution_count": 105,
   "metadata": {
    "collapsed": true
   },
   "outputs": [],
   "source": [
    "gps14_pday = pd.read_csv(r'R:\\SoundCastDocuments\\2014Estimation\\Files_From_Mark_2014\\gps_weights_11_3_16\\original\\pdayP14_w.dat',\n",
    "                           delim_whitespace=True)"
   ]
  },
  {
   "cell_type": "code",
   "execution_count": 107,
   "metadata": {},
   "outputs": [
    {
     "data": {
      "text/plain": [
       "3708517.9658475714"
      ]
     },
     "execution_count": 107,
     "metadata": {},
     "output_type": "execute_result"
    }
   ],
   "source": [
    "gps14_pday['pdexpfac'].sum()"
   ]
  },
  {
   "cell_type": "code",
   "execution_count": null,
   "metadata": {
    "collapsed": true
   },
   "outputs": [],
   "source": []
  }
 ],
 "metadata": {
  "kernelspec": {
   "display_name": "Python 2",
   "language": "python",
   "name": "python2"
  },
  "language_info": {
   "codemirror_mode": {
    "name": "ipython",
    "version": 2
   },
   "file_extension": ".py",
   "mimetype": "text/x-python",
   "name": "python",
   "nbconvert_exporter": "python",
   "pygments_lexer": "ipython2",
   "version": "2.7.14"
  }
 },
 "nbformat": 4,
 "nbformat_minor": 2
}
