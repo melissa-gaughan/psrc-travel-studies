{
 "cells": [
  {
   "cell_type": "code",
   "execution_count": 48,
   "metadata": {},
   "outputs": [],
   "source": [
    "import pandas as pd\n",
    "import os"
   ]
  },
  {
   "cell_type": "code",
   "execution_count": 85,
   "metadata": {},
   "outputs": [
    {
     "ename": "SyntaxError",
     "evalue": "invalid syntax (<ipython-input-85-90594800d8e7>, line 4)",
     "output_type": "error",
     "traceback": [
      "\u001b[1;36m  File \u001b[1;32m\"<ipython-input-85-90594800d8e7>\"\u001b[1;36m, line \u001b[1;32m4\u001b[0m\n\u001b[1;33m    'Grand Slam':r'L:\\vision2050\\soundcast\\grand_slam\\2050',\u001b[0m\n\u001b[1;37m                ^\u001b[0m\n\u001b[1;31mSyntaxError\u001b[0m\u001b[1;31m:\u001b[0m invalid syntax\n"
     ]
    }
   ],
   "source": [
    "# df_orig = pd.read_excel(r'J:\\Projects\\V2050\\PUGS-PA\\Model_Output\\soundcast_screening_factors_11_6_19.xlsx',\n",
    "#                        sheetname='DSEIS-RUG')\n",
    "run_dict = {'Short Fuse': r'N:\\vision2050\\soundcast\\short_fuse\\2050',\n",
    "           'Grand Slam':r'L:\\vision2050\\soundcast\\grand_slam\\2050',\n",
    "           'Torpedo': r'L:\\vision2050\\soundcast\\torpedo\\2050',\n",
    "           'DSEIS RUG': r'L:\\vision2050\\soundcast\\dseis\\integrated\\final_runs\\rug\\rug_run_5.run_2018_10_25_09_07\\2050',\n",
    "           'DSEIS STC': r'L:\\vision2050\\soundcast\\dseis\\integrated\\final_runs\\stc\\stc_run_6.run_2018_10_23_11_15\\2050',\n",
    "           'DSEIS TFG': r'L:\\vision2050\\soundcast\\dseis\\integrated\\final_runs\\tod\\tod_run_8.run_2018_10_29_15_01\\2050'}\n",
    "with pd.ExcelWriter(r'C:\\users\\bnichols\\compare_rg.xlsx') as writer:  # doctest: +SKIP            \n",
    "    for scen_name, run_dir in run_dict.iteritems():\n",
    "        df_orig = pd.read_csv(os.path.join(run_dir,r'outputs\\Vision2050_long_list_measures - Copy.csv'))\n",
    "        df_new = pd.read_csv(os.path.join(run_dir,r'outputs\\Vision2050_long_list_measures.csv'))\n",
    "        df = df_orig.merge(df_new, on=['Data Item','Geography','Grouping'], suffixes=['_old','_new'])\n",
    "        df['diff'] = df['Value_new']-df['Value_old']\n",
    "        df.to_excel(writer, sheet_name=scen_name)"
   ]
  },
  {
   "cell_type": "code",
   "execution_count": 69,
   "metadata": {},
   "outputs": [],
   "source": [
    "# compare the old and new taz tables\n",
    "df_ds = pd.read_csv(r'L:\\vision2050\\soundcast\\setup\\TAZ_Reg_Geog_11_21_19_ds.csv')"
   ]
  },
  {
   "cell_type": "code",
   "execution_count": 62,
   "metadata": {},
   "outputs": [],
   "source": [
    "df_old = pd.read_csv(r'L:\\vision2050\\soundcast\\torpedo\\2050\\scripts\\summarize\\inputs\\TAZ_Reg_Geog.csv')"
   ]
  },
  {
   "cell_type": "code",
   "execution_count": 65,
   "metadata": {},
   "outputs": [],
   "source": [
    "df = df_old.merge(df_ds, on='taz_p', suffixes=['_old','_ds'])"
   ]
  },
  {
   "cell_type": "code",
   "execution_count": 67,
   "metadata": {},
   "outputs": [],
   "source": [
    "df.to_csv(r'C:\\users\\bnichols\\taz_rg.csv')"
   ]
  },
  {
   "cell_type": "code",
   "execution_count": 81,
   "metadata": {},
   "outputs": [],
   "source": [
    "df = pd.read_csv(r'L:\\vision2050\\soundcast\\setup\\parcel_tract_county_pa.csv')\n",
    "df.loc[df['rg_proposed'] == 'Metro','rg_proposed'] = 'Metropolitan Cities'\n",
    "df.loc[df['rg_proposed'] == 'CitiesTowns','rg_proposed'] = 'Cities and Towns'\n",
    "df.loc[df['rg_proposed'] == 'HCT','rg_proposed'] = 'HCT Communities'\n",
    "df.loc[df['rg_proposed'] == 'UU','rg_proposed'] = 'Urban Unincorporated'\n",
    "df.loc[df['rg_proposed'] == 'Core','rg_proposed'] = 'Core Cities'\n",
    "df.to_csv(r'L:\\vision2050\\soundcast\\setup\\parcel_tract_county_pa.csv',index=False)"
   ]
  },
  {
   "cell_type": "code",
   "execution_count": 82,
   "metadata": {},
   "outputs": [],
   "source": [
    "df = pd.read_csv(r'L:\\vision2050\\soundcast\\setup\\parcel_tract_county_pa.csv')"
   ]
  },
  {
   "cell_type": "code",
   "execution_count": 83,
   "metadata": {},
   "outputs": [
    {
     "data": {
      "text/html": [
       "<div>\n",
       "<style scoped>\n",
       "    .dataframe tbody tr th:only-of-type {\n",
       "        vertical-align: middle;\n",
       "    }\n",
       "\n",
       "    .dataframe tbody tr th {\n",
       "        vertical-align: top;\n",
       "    }\n",
       "\n",
       "    .dataframe thead th {\n",
       "        text-align: right;\n",
       "    }\n",
       "</style>\n",
       "<table border=\"1\" class=\"dataframe\">\n",
       "  <thead>\n",
       "    <tr style=\"text-align: right;\">\n",
       "      <th></th>\n",
       "      <th>parcel_id</th>\n",
       "      <th>census_tract</th>\n",
       "      <th>city_id</th>\n",
       "      <th>county_id</th>\n",
       "      <th>city_name</th>\n",
       "      <th>fips_rgs_id</th>\n",
       "      <th>rgs_id</th>\n",
       "    </tr>\n",
       "    <tr>\n",
       "      <th>rg_proposed</th>\n",
       "      <th></th>\n",
       "      <th></th>\n",
       "      <th></th>\n",
       "      <th></th>\n",
       "      <th></th>\n",
       "      <th></th>\n",
       "      <th></th>\n",
       "    </tr>\n",
       "  </thead>\n",
       "  <tbody>\n",
       "    <tr>\n",
       "      <th>Cities and Towns</th>\n",
       "      <td>117569</td>\n",
       "      <td>117569</td>\n",
       "      <td>117569</td>\n",
       "      <td>117569</td>\n",
       "      <td>117569</td>\n",
       "      <td>117569</td>\n",
       "      <td>117569</td>\n",
       "    </tr>\n",
       "    <tr>\n",
       "      <th>Core Cities</th>\n",
       "      <td>233163</td>\n",
       "      <td>233163</td>\n",
       "      <td>233163</td>\n",
       "      <td>233163</td>\n",
       "      <td>233163</td>\n",
       "      <td>233163</td>\n",
       "      <td>233163</td>\n",
       "    </tr>\n",
       "    <tr>\n",
       "      <th>HCT Communities</th>\n",
       "      <td>271664</td>\n",
       "      <td>271664</td>\n",
       "      <td>271664</td>\n",
       "      <td>271664</td>\n",
       "      <td>271664</td>\n",
       "      <td>271664</td>\n",
       "      <td>271664</td>\n",
       "    </tr>\n",
       "    <tr>\n",
       "      <th>Metropolitan Cities</th>\n",
       "      <td>328267</td>\n",
       "      <td>328267</td>\n",
       "      <td>328267</td>\n",
       "      <td>328267</td>\n",
       "      <td>328267</td>\n",
       "      <td>328267</td>\n",
       "      <td>328267</td>\n",
       "    </tr>\n",
       "    <tr>\n",
       "      <th>Rural</th>\n",
       "      <td>272065</td>\n",
       "      <td>272065</td>\n",
       "      <td>272065</td>\n",
       "      <td>272065</td>\n",
       "      <td>272065</td>\n",
       "      <td>272065</td>\n",
       "      <td>272065</td>\n",
       "    </tr>\n",
       "    <tr>\n",
       "      <th>Urban Unincorporated</th>\n",
       "      <td>53657</td>\n",
       "      <td>53657</td>\n",
       "      <td>53657</td>\n",
       "      <td>53657</td>\n",
       "      <td>53657</td>\n",
       "      <td>53657</td>\n",
       "      <td>53657</td>\n",
       "    </tr>\n",
       "  </tbody>\n",
       "</table>\n",
       "</div>"
      ],
      "text/plain": [
       "                      parcel_id  census_tract  city_id  county_id  city_name  \\\n",
       "rg_proposed                                                                    \n",
       "Cities and Towns         117569        117569   117569     117569     117569   \n",
       "Core Cities              233163        233163   233163     233163     233163   \n",
       "HCT Communities          271664        271664   271664     271664     271664   \n",
       "Metropolitan Cities      328267        328267   328267     328267     328267   \n",
       "Rural                    272065        272065   272065     272065     272065   \n",
       "Urban Unincorporated      53657         53657    53657      53657      53657   \n",
       "\n",
       "                      fips_rgs_id  rgs_id  \n",
       "rg_proposed                                \n",
       "Cities and Towns           117569  117569  \n",
       "Core Cities                233163  233163  \n",
       "HCT Communities            271664  271664  \n",
       "Metropolitan Cities        328267  328267  \n",
       "Rural                      272065  272065  \n",
       "Urban Unincorporated        53657   53657  "
      ]
     },
     "execution_count": 83,
     "metadata": {},
     "output_type": "execute_result"
    }
   ],
   "source": [
    "df.groupby('rg_proposed').count()"
   ]
  },
  {
   "cell_type": "code",
   "execution_count": null,
   "metadata": {},
   "outputs": [],
   "source": []
  }
 ],
 "metadata": {
  "kernelspec": {
   "display_name": "Python 2",
   "language": "python",
   "name": "python2"
  },
  "language_info": {
   "codemirror_mode": {
    "name": "ipython",
    "version": 2
   },
   "file_extension": ".py",
   "mimetype": "text/x-python",
   "name": "python",
   "nbconvert_exporter": "python",
   "pygments_lexer": "ipython2",
   "version": "2.7.14"
  }
 },
 "nbformat": 4,
 "nbformat_minor": 2
}
