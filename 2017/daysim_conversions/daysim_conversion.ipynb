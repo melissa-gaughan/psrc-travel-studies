{
 "cells": [
  {
   "cell_type": "code",
   "execution_count": 168,
   "metadata": {
    "collapsed": true
   },
   "outputs": [],
   "source": [
    "# Convert Household, Person, and Trip files to Daysim format for estimation and calibration"
   ]
  },
  {
   "cell_type": "code",
   "execution_count": 5,
   "metadata": {
    "collapsed": true
   },
   "outputs": [],
   "source": [
    "import pandas as pd"
   ]
  },
  {
   "cell_type": "code",
   "execution_count": 1,
   "metadata": {
    "collapsed": true
   },
   "outputs": [],
   "source": [
    "# Flexible column names, given that these may change in future surveys\n",
    "hhno = 'hhid'\n",
    "hownrent = 'rent_own'\n",
    "hrestype = 'res_type'\n",
    "hhincome = 'hhincome_detailed'\n",
    "hhtaz = 'final_home_taz2010'\n",
    "hhexpfac = 'hh_wt_revised'\n",
    "hhwkrs = 'numworkers'\n",
    "hhvehs = 'vehicle_count'\n",
    "pno = 'pernum'"
   ]
  },
  {
   "cell_type": "markdown",
   "metadata": {},
   "source": [
    "# Household"
   ]
  },
  {
   "cell_type": "code",
   "execution_count": 2,
   "metadata": {
    "collapsed": true
   },
   "outputs": [],
   "source": [
    "def total_persons_to_hh(hh, person, daysim_field, filter_field, \n",
    "                        filter_field_list, hhid_col=hhno, wt_col=hhexpfac):\n",
    "    \n",
    "    \"\"\"Use person field to calculate total number of person in a household for a given field\n",
    "    e.g., total number of full-time workers\"\"\"\n",
    "    \n",
    "    df = person[person[filter_field].isin(filter_field_list)]\n",
    "    df = df.groupby(hhid_col).count().reset_index()[[wt_col,hhid_col]]\n",
    "    df.rename(columns={wt_col: daysim_field}, inplace=True)\n",
    "    \n",
    "    # Join to households\n",
    "    hh = pd.merge(hh, df, how='left', on=hhid_col)\n",
    "    hh[daysim_field].fillna(0, inplace=True)\n",
    "    \n",
    "    return hh"
   ]
  },
  {
   "cell_type": "code",
   "execution_count": 3,
   "metadata": {
    "collapsed": true
   },
   "outputs": [],
   "source": [
    "# lookup maps for various fields\n",
    "hownrent_map = {1:1, # Own: own\n",
    "                2:2, # Rent: rent\n",
    "                3:3, # provided by job/military: other\n",
    "                4:3, # other: other\n",
    "                5:3} # prefer not to answer: other\n",
    "\n",
    "hhrestype_map = {1:1, # SFH: SFH\n",
    "                 2:2, # Townhouse (attached house): duplex/triplex/rowhouse\n",
    "                 3:2, # Building with 3 or fewer apartments/condos: duplex/triplex/rowhouse\n",
    "                 4:3, # Building with 4 or more apartments/condos: apartment/condo\n",
    "                 5:4, # Mobile home/trailer: Mobile home/trailer\n",
    "                 6:5, # Dorm or institutional housing: Dorm room/rented room\n",
    "                 7:6, # other: other\n",
    "                   }\n",
    "\n",
    "# Use the midpoint of the ranges provided since DaySim uses actual values\n",
    "income_map = {\n",
    "    1: 5000,\n",
    "    2: 17500,\n",
    "    3: 30000,\n",
    "    4: 42500,\n",
    "    5: 62500,\n",
    "    6: 87500,\n",
    "    7: 125000,\n",
    "    8: 175000,\n",
    "    9: 225000,\n",
    "    10: 250000,\n",
    "    11: -1\n",
    "}"
   ]
  },
  {
   "cell_type": "code",
   "execution_count": 6,
   "metadata": {},
   "outputs": [],
   "source": [
    "hh = pd.read_excel(r'J:\\Projects\\Surveys\\HHTravel\\Survey2017\\Data\\Export\\Version 2\\Restricted\\In-house\\2017-internal-v2-R-1-household.xlsx',\n",
    "                         skiprows=1)\n",
    "person = pd.read_excel(r'J:\\Projects\\Surveys\\HHTravel\\Survey2017\\Data\\Export\\Version 2\\Restricted\\In-house\\2017-internal-v2-R-2-person.xlsx',\n",
    "                      skiprows=1)"
   ]
  },
  {
   "cell_type": "code",
   "execution_count": 7,
   "metadata": {
    "collapsed": true
   },
   "outputs": [],
   "source": [
    "# Do some up-front data prep\n",
    "# This may be different for new data sets\n",
    "# Identify high school students based on their school name\n",
    "# This will not include all students, but we can start with these students\n",
    "person['high_school'] = 0\n",
    "person['school_loc_name'].fillna(' ', inplace=True)\n",
    "person.ix[(person['school_loc_name'].str.contains(\"High\", na=False)) &\n",
    "          (person['schooltype'].isin([3,4])), \"high_school\"] = 1\n",
    "\n",
    "# Students not in this group will be assumed as high school students\n",
    "# if they're in age group 16-17, and 18-24 and are in K12 (public or private) 3, 4\n",
    "# This is probably excluding some in the 12-15 year group, should try to sort this out better in the future\n",
    "person.ix[(person['high_school'] != 0) & \n",
    "          (person['age'].isin([4,5])) &\n",
    "          (person['schooltype'].isin([3,4])), 'high_school'] = 1"
   ]
  },
  {
   "cell_type": "code",
   "execution_count": 8,
   "metadata": {
    "collapsed": true
   },
   "outputs": [],
   "source": [
    "# Full-time workers\n",
    "hh = total_persons_to_hh(hh, person, daysim_field='hhftw', filter_field='employment', filter_field_list=[1])\n",
    "\n",
    "# Part-time workers\n",
    "hh = total_persons_to_hh(hh, person, daysim_field='hhptw', filter_field='employment', filter_field_list=[2])\n",
    "\n",
    "# Retirees\n",
    "hh = total_persons_to_hh(hh, person, daysim_field='hhret', filter_field='employment', filter_field_list=[6])\n",
    "\n",
    "# Other Adults\n",
    "hh = total_persons_to_hh(hh, person, daysim_field='hhoad', filter_field='employment', filter_field_list=[3,4,5,7])\n",
    "\n",
    "# University Students\n",
    "hh = total_persons_to_hh(hh, person, daysim_field='hhuni', filter_field='schooltype', filter_field_list=[6])\n",
    "\n",
    "# High school students\n",
    "hh = total_persons_to_hh(hh, person, daysim_field='hhhsc', filter_field='high_school', filter_field_list=[1])\n",
    "\n",
    "# k12 age 5-15\n",
    "age5_12 = person[person['age'].isin([2,3])]\n",
    "hh = total_persons_to_hh(hh, age5_12, daysim_field='hh515', filter_field='schooltype', filter_field_list=[3,4])\n",
    "\n",
    "# age under 5\n",
    "hh = total_persons_to_hh(hh, person, daysim_field='hhcu5', filter_field='age', filter_field_list=[1])\n",
    "\n",
    "hh['hownrent'] = hh[hownrent].map(hownrent_map) \n",
    "hh['hrestype'] = hh[hrestype].map(hhrestype_map) \n",
    "hh['hhincome'] = hh[hhincome].map(income_map) \n",
    "hh['hhtaz'] = hh[hhtaz]\n",
    "hh['hhexpfac'] = hh[hhexpfac]\n",
    "hh['hhwkrs'] = hh[hhwkrs]\n",
    "hh['hhno'] = hh[hhno]\n",
    "hh['hhvehs'] = hh[hhvehs]"
   ]
  },
  {
   "cell_type": "code",
   "execution_count": 175,
   "metadata": {
    "collapsed": true
   },
   "outputs": [],
   "source": [
    "# Need the parcel ID as well!\n",
    "# Use geopandas to find nearest parcel node?\n",
    "import geopandas as gpd"
   ]
  },
  {
   "cell_type": "code",
   "execution_count": 11,
   "metadata": {
    "collapsed": true
   },
   "outputs": [],
   "source": [
    "# daysim_fields = ['hhno','hhsize','hhvehs','hhwkrs','hhftw','hhptw','hhret','hhoad','hhuni','hhhsc','hh515',\n",
    "#                  'hhcu5','hhincome','hownrent','hrestype','hhparcel','hhtaz','hhexpfac','samptype']\n",
    "# Without parcel field\n",
    "daysim_fields = ['hhno','hhsize','hhvehs','hhwkrs','hhftw','hhptw','hhret','hhoad','hhuni','hhhsc','hh515',\n",
    "                 'hhcu5','hhincome','hownrent','hrestype','hhtaz','hhexpfac']"
   ]
  },
  {
   "cell_type": "markdown",
   "metadata": {},
   "source": [
    "# Person"
   ]
  },
  {
   "cell_type": "code",
   "execution_count": 100,
   "metadata": {},
   "outputs": [],
   "source": [
    "# Reload to start with fresh data\n",
    "person = pd.read_excel(r'J:\\Projects\\Surveys\\HHTravel\\Survey2017\\Data\\Export\\Version 2\\Restricted\\In-house\\2017-internal-v2-R-2-person.xlsx',\n",
    "                      skiprows=1)"
   ]
  },
  {
   "cell_type": "code",
   "execution_count": 109,
   "metadata": {},
   "outputs": [],
   "source": [
    "# Person Type\n",
    "\n",
    "# Full time worker\n",
    "person.ix[person['employment'] == 1, 'pptyp'] = 1\n",
    "\n",
    "# Part-time worker\n",
    "person.ix[person['employment'] == 2, 'pptyp'] = 2\n",
    "\n",
    "# Non-working adult age 65+\n",
    "person.ix[(person['employment'] != 1) &  (person['age'].isin([10,11,12])), 'pptyp'] = 3\n",
    "\n",
    "# High school student age 16+\n",
    "person.ix[(person['age'] >= 4) & (person['schooltype'].isin([3,4,5])), 'pptyp'] = 6\n",
    "\n",
    "# university student (full-time)\n",
    "person.ix[(person['schooltype'].isin([6,7])) & (person['student'] == 3), 'pptyp'] = 5\n",
    "\n",
    "# Child age 5-15\n",
    "person.ix[person['schooltype'].isin([2,3]), 'pptyp'] = 7\n",
    "\n",
    "# child under 5\n",
    "person.ix[person['schooltype'].isin([1]), 'pptyp'] = 8\n",
    "\n",
    "# Non-working adult age 65 should accoutn for all others\n",
    "person.ix[person['pptyp'].isnull(), 'pptyp'] = 4\n",
    "\n",
    "# Person worker type\n",
    "person.ix[person['employment'].isin([1]), 'pwtyp'] = 1\n",
    "person.ix[person['employment'].isin([2]), 'pwtyp'] = 2\n",
    "person.ix[person['employment'].isin([3,4,5,6,7]), 'pwtyp'] = 0\n",
    "person['pwtyp'].fillna(0,inplace=True)\n",
    "\n",
    "# Transit pass availability\n",
    "# Care about people that have subsidized/free passes\n",
    "# people that perceive transit cost as 0\n",
    "person['ptpass'] = 0\n",
    "person.ix[(person['tran_pass_12'].isin([1,2])) | (person['benefits_3'].isin([2,3])),'ptpass'] = 1\n",
    "\n",
    "# Paid parking at work (any subsidization counts as 'paid')\n",
    "person['ppaidprk'] = 0\n",
    "person.ix[person['workpass'].isin([3,4]), 'ppaidprk'] = 1\n",
    "\n",
    "# Take median age\n",
    "age_map = {\n",
    "    1: 2,\n",
    "    2: 8,\n",
    "    3: 14,\n",
    "    4: 17,\n",
    "    5: 21,\n",
    "    6: 30,\n",
    "    7: 40,\n",
    "    8: 50,\n",
    "    9: 60,\n",
    "    10: 70,\n",
    "    11: 80,\n",
    "    12: 85\n",
    "}\n",
    "\n",
    "gender_map = {\n",
    "    1: 1,    # male: male\n",
    "    2: 2,    # female: female\n",
    "    3: 9,    # another: missing\n",
    "    4: 9     # prefer not to answer: missing\n",
    "}\n",
    "\n",
    "pstyp_map = {\n",
    "    1: 0,\n",
    "    2: 1,\n",
    "    3: 2\n",
    "}\n",
    "\n",
    "person['age'] = person['age'].astype('int')\n",
    "person['pagey'] = person['age'].map(hownrent_map)\n",
    "person['pgend'] = person['gender'].map(gender_map)\n",
    "person['pstyp'] = person['student'].map(pstyp_map)\n",
    "person['pstyp'].fillna(0,inplace=True)\n",
    "person['hhno'] = person['hhid']\n",
    "person['pno'] = person['pernum']\n",
    "person['psexpfac'] = person['hh_wt_revised']\n",
    "\n",
    "# Need:\n",
    "# pwpcl\n",
    "# pwtaz\n",
    "# pwautime\n",
    "# pwaudist\n",
    "# pspcl\n",
    "# psautime\n",
    "# psaudist\n",
    "# puwmode\n",
    "# puwarrp\n",
    "# puwdepp"
   ]
  },
  {
   "cell_type": "code",
   "execution_count": 103,
   "metadata": {
    "collapsed": true
   },
   "outputs": [],
   "source": [
    "# daysim_cols = ['hhno', 'pno', 'pptyp', 'pagey', 'pgend', 'pwtyp', 'pwpcl', 'pwtaz', 'pwautime',\n",
    "#                'pwaudist', 'pstyp', 'pspcl', 'pstaz', 'psautime', 'psaudist', 'puwmode', 'puwarrp', \n",
    "#                'puwdepp', 'ptpass', 'ppaidprk', 'pdiary', 'pproxy', 'psexpfac']\n",
    "\n",
    "daysim_cols = ['hhno', 'pno', 'pptyp', 'pagey', 'pgend', 'pwtyp', 'pstyp', \n",
    "               'ptpass', 'ppaidprk', 'psexpfac','age']"
   ]
  },
  {
   "cell_type": "markdown",
   "metadata": {},
   "source": [
    "# Trips"
   ]
  },
  {
   "cell_type": "code",
   "execution_count": 110,
   "metadata": {
    "collapsed": true
   },
   "outputs": [],
   "source": [
    "trip = pd.read_excel(r'J:\\Projects\\Surveys\\HHTravel\\Survey2017\\Data\\Export\\Version 2\\Restricted\\In-house\\2017-internal-v2-R-5-trip.xlsx',\n",
    "                      skiprows=1)"
   ]
  },
  {
   "cell_type": "code",
   "execution_count": 150,
   "metadata": {},
   "outputs": [],
   "source": [
    "trip['hhno'] = trip['hhid']\n",
    "trip['pno'] = trip['pernum']\n",
    "trip['day'] = trip['daynum'].astype(int)\n",
    "# Need: \n",
    "# tour\n",
    "# half\n",
    "# tseg\n",
    "trip['tsvid'] = trip['tripnum']\n",
    "\n",
    "# Recode purposes\n",
    "purpose_map = {\n",
    "    1: 0, # home\n",
    "    6: 2, # school\n",
    "    9: 3, # escort\n",
    "    10: 1, # work\n",
    "    11: 1, # work-related\n",
    "    14: 1, # work-related\n",
    "    30: 5, # grocery -> shop\n",
    "    32: 5, # other shopping -> shop\n",
    "    33: 4,\n",
    "    34: 9, # medical\n",
    "    50: 6, # restaurant -> meal\n",
    "    51: 8, \n",
    "    52: 7,\n",
    "    53: 8,\n",
    "    54: 7, # religious/community/volunteer -> social\n",
    "    56: 7, # family activity -> social\n",
    "    60: 10, # change mode\n",
    "    62: 7, # other social\n",
    "    97: -1 # other\n",
    "}\n",
    "\n",
    "dorp_map = {\n",
    "    1: 1,\n",
    "    2: 2,\n",
    "    3: 9\n",
    "}\n",
    "\n",
    "trip['opurp'] = trip['origin_purpose'].map(purpose_map)\n",
    "trip['dpurp'] = trip['dest_purpose'].map(purpose_map)\n",
    "\n",
    "trip['dorp'] = trip['dest_purpose'].map(dorp_map)\n",
    "\n",
    "# origin TAZ\n",
    "trip['otaz'] = trip['o_taz2010']\n",
    "trip['dtaz'] = trip['d_taz2010']\n",
    "\n",
    "# Survey reports time in minutes after midnight\n",
    "# # convert to minutes after 3 am\n",
    "# trip['deptm'] = trip['depart_time_mam']+(60*3)\n",
    "# trip['arrtm'] = trip['arrival_time_mam']\n",
    "\n",
    "# calculate activity duration \n",
    "# trip['a_dur'] = trip['activity_duration']\n",
    "# trip['a_dur'].fillna(0, inplace=True)\n",
    "# trip['endacttm'] = trip['a_dur'].astype(int)\n",
    "\n",
    "# path type\n",
    "\n",
    "# toll\n",
    "\n",
    "trip['trexpfac'] = trip['trip_weight_revised']"
   ]
  },
  {
   "cell_type": "code",
   "execution_count": null,
   "metadata": {
    "collapsed": true
   },
   "outputs": [],
   "source": []
  }
 ],
 "metadata": {
  "kernelspec": {
   "display_name": "Python 2",
   "language": "python",
   "name": "python2"
  },
  "language_info": {
   "codemirror_mode": {
    "name": "ipython",
    "version": 2
   },
   "file_extension": ".py",
   "mimetype": "text/x-python",
   "name": "python",
   "nbconvert_exporter": "python",
   "pygments_lexer": "ipython2",
   "version": "2.7.14"
  }
 },
 "nbformat": 4,
 "nbformat_minor": 2
}
