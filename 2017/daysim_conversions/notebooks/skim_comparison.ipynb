{
 "cells": [
  {
   "cell_type": "code",
   "execution_count": 17,
   "metadata": {},
   "outputs": [],
   "source": [
    "import pandas as pd"
   ]
  },
  {
   "cell_type": "code",
   "execution_count": 18,
   "metadata": {},
   "outputs": [],
   "source": [
    "import h5py"
   ]
  },
  {
   "cell_type": "code",
   "execution_count": 109,
   "metadata": {},
   "outputs": [],
   "source": [
    "h5_18 = h5py.File(r'S:\\sc_ferry_11_1_19\\inputs\\model\\roster\\5to6.h5')"
   ]
  },
  {
   "cell_type": "code",
   "execution_count": 100,
   "metadata": {},
   "outputs": [],
   "source": [
    "df18 = pd.DataFrame(h5_18['Skims']['sov_inc1t'][:])/100.0"
   ]
  },
  {
   "cell_type": "code",
   "execution_count": 107,
   "metadata": {},
   "outputs": [],
   "source": [
    "h5_14 = h5py.File(r'C:\\Users\\bnichols\\Documents\\estimation_2017\\brice_2014\\inputs\\5to6.h5')"
   ]
  },
  {
   "cell_type": "code",
   "execution_count": 97,
   "metadata": {},
   "outputs": [],
   "source": [
    "df14 = pd.DataFrame(h5_14['Skims']['svtl1t'][:])/100.0"
   ]
  },
  {
   "cell_type": "code",
   "execution_count": 50,
   "metadata": {},
   "outputs": [],
   "source": [
    "diff = df18-df14"
   ]
  },
  {
   "cell_type": "code",
   "execution_count": 55,
   "metadata": {},
   "outputs": [],
   "source": [
    "diff.sum().to_csv(r'C:\\Users\\bnichols\\Documents\\estimation_2017\\skim_comparison\\18_minus_14_sov1t.csv')"
   ]
  },
  {
   "cell_type": "code",
   "execution_count": 71,
   "metadata": {},
   "outputs": [],
   "source": [
    "_df = pd.DataFrame(df14.sum()).reset\n",
    "df = _df.merge(pd.DataFrame(df18.sum()))"
   ]
  },
  {
   "cell_type": "code",
   "execution_count": 75,
   "metadata": {},
   "outputs": [],
   "source": [
    "df = pd.read_csv(r'R:\\e2projects_two\\SoundCastDocuments\\2014Estimation\\Files_From_Mark_2014\\gps_weights_11_3_16\\formatted\\tripP14_w.dat')"
   ]
  },
  {
   "cell_type": "code",
   "execution_count": 79,
   "metadata": {},
   "outputs": [],
   "source": [
    "time_field= 'deptm'"
   ]
  },
  {
   "cell_type": "code",
   "execution_count": 90,
   "metadata": {},
   "outputs": [],
   "source": [
    "import numpy as np\n",
    "hours = np.asarray(df[time_field].astype('str').str[:-2].astype('int'))"
   ]
  },
  {
   "cell_type": "code",
   "execution_count": 86,
   "metadata": {},
   "outputs": [
    {
     "data": {
      "text/plain": [
       "0"
      ]
     },
     "execution_count": 86,
     "metadata": {},
     "output_type": "execute_result"
    }
   ],
   "source": [
    "hours -3"
   ]
  },
  {
   "cell_type": "code",
   "execution_count": 110,
   "metadata": {},
   "outputs": [
    {
     "data": {
      "text/plain": [
       "[u'auxwa',\n",
       " u'auxwf',\n",
       " u'auxwr',\n",
       " u'biket',\n",
       " u'heavy_truckc',\n",
       " u'heavy_truckt',\n",
       " u'hov2_inc1c',\n",
       " u'hov2_inc1t',\n",
       " u'hov2_inc2c',\n",
       " u'hov2_inc2t',\n",
       " u'hov2_inc3c',\n",
       " u'hov2_inc3t',\n",
       " u'hov3_inc1c',\n",
       " u'hov3_inc1t',\n",
       " u'hov3_inc2c',\n",
       " u'hov3_inc2t',\n",
       " u'hov3_inc3c',\n",
       " u'hov3_inc3t',\n",
       " u'indices',\n",
       " u'ivtwa',\n",
       " u'ivtwab',\n",
       " u'ivtwac',\n",
       " u'ivtwaf',\n",
       " u'ivtwap',\n",
       " u'ivtwar',\n",
       " u'ivtwf',\n",
       " u'ivtwfb',\n",
       " u'ivtwfc',\n",
       " u'ivtwff',\n",
       " u'ivtwfp',\n",
       " u'ivtwfr',\n",
       " u'ivtwr',\n",
       " u'ivtwrb',\n",
       " u'ivtwrc',\n",
       " u'ivtwrf',\n",
       " u'ivtwrp',\n",
       " u'ivtwrr',\n",
       " u'iwtwa',\n",
       " u'iwtwf',\n",
       " u'iwtwr',\n",
       " u'medium_truckc',\n",
       " u'medium_truckt',\n",
       " u'mfbkat',\n",
       " u'mfbkpt',\n",
       " u'ndbwa',\n",
       " u'ndbwf',\n",
       " u'ndbwr',\n",
       " u'sov_inc1c',\n",
       " u'sov_inc1t',\n",
       " u'sov_inc2c',\n",
       " u'sov_inc2t',\n",
       " u'sov_inc3c',\n",
       " u'sov_inc3t',\n",
       " u'twtwa',\n",
       " u'twtwf',\n",
       " u'twtwr',\n",
       " u'walkt',\n",
       " u'xfrwa',\n",
       " u'xfrwf',\n",
       " u'xfrwr']"
      ]
     },
     "execution_count": 110,
     "metadata": {},
     "output_type": "execute_result"
    }
   ],
   "source": [
    "h5_18['Skims'].keys()"
   ]
  },
  {
   "cell_type": "code",
   "execution_count": null,
   "metadata": {},
   "outputs": [],
   "source": []
  }
 ],
 "metadata": {
  "kernelspec": {
   "display_name": "Python 2",
   "language": "python",
   "name": "python2"
  },
  "language_info": {
   "codemirror_mode": {
    "name": "ipython",
    "version": 2
   },
   "file_extension": ".py",
   "mimetype": "text/x-python",
   "name": "python",
   "nbconvert_exporter": "python",
   "pygments_lexer": "ipython2",
   "version": "2.7.14"
  }
 },
 "nbformat": 4,
 "nbformat_minor": 2
}
