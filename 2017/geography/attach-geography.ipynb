{
 "cells": [
  {
   "cell_type": "code",
   "execution_count": 2,
   "metadata": {
    "collapsed": true
   },
   "outputs": [],
   "source": [
    "import pandas as pd\n",
    "import geopandas as gpd\n",
    "from shapely.geometry import Point, LineString, Polygon"
   ]
  },
  {
   "cell_type": "markdown",
   "metadata": {},
   "source": [
    "# Household Records\n",
    "Attach geography based on lat-long values"
   ]
  },
  {
   "cell_type": "code",
   "execution_count": 149,
   "metadata": {
    "collapsed": true
   },
   "outputs": [],
   "source": [
    "hh = pd.read_excel(r'J:\\Projects\\Surveys\\HHTravel\\Survey2017\\Data\\Geolayers\\1-Household-v3-Public.xlsx',\n",
    "                  sheetname='1-Household')"
   ]
  },
  {
   "cell_type": "markdown",
   "metadata": {},
   "source": [
    "### Geography of past HH location"
   ]
  },
  {
   "cell_type": "code",
   "execution_count": 150,
   "metadata": {},
   "outputs": [],
   "source": [
    "geog = hh.apply(lambda x: Point((float(x.prev_home_lng), float(x.prev_home_lat))), axis=1)\n",
    "geog = gpd.GeoSeries(geog)\n",
    "geog.crs = {'init': 'epsg:4326'}    # WGS 84\n",
    "hh['lat_lon_geog'] =  geog\n",
    "hh['geometry'] = geog.to_crs(epsg='2285') # Replace default geometry field with the projected epsg=2285 projection to match shapefiles\n",
    "hh.crs = {'init': 'epsg:2285'}"
   ]
  },
  {
   "cell_type": "code",
   "execution_count": 151,
   "metadata": {
    "collapsed": true
   },
   "outputs": [],
   "source": [
    "# Filter out for households that have coordinates for previous home location\n",
    "_hh = hh[-hh['prev_home_lat'].isnull()]\n",
    "_hh.crs = {'init': 'epsg:2285'}"
   ]
  },
  {
   "cell_type": "code",
   "execution_count": 152,
   "metadata": {
    "collapsed": true
   },
   "outputs": [],
   "source": [
    "# Load geography layers\n",
    "tract = gpd.GeoDataFrame.from_file(r'W:\\geodata\\census\\Tract\\tract2010.shp')\n",
    "tract.crs = {'init' :'epsg:2285'}\n",
    "\n",
    "block = gpd.GeoDataFrame.from_file(r'W:\\geodata\\census\\Block\\block2010.shp')\n",
    "block.crs = {'init' :'epsg:2285'}\n",
    "\n",
    "block_group = gpd.GeoDataFrame.from_file(r'R:\\Brice\\blockgrp2010.shp')\n",
    "block_group.crs = {'init' :'epsg:2285'} # PUMA is not a projected shapefile; need to project \n",
    "\n",
    "puma = gpd.GeoDataFrame.from_file(r'W:\\geodata\\census\\PUMAs\\reg10puma.shp')\n",
    "puma.crs = {'init' :'epsg:4326'}\n",
    "puma['geometry'] = puma['geometry'].to_crs(epsg='2285')\n",
    "puma.crs = {'init': 'epsg:2285'}\n",
    "\n",
    "rgc = gpd.GeoDataFrame.from_file(r'R:\\Brice\\urbcen.shp')\n",
    "rgc.crs = {'init' :'epsg:2285'}\n",
    "\n",
    "taz = gpd.GeoDataFrame.from_file(r'W:\\geodata\\forecast\\taz2010.shp')\n",
    "taz.crs = {'init' :'epsg:2285'}"
   ]
  },
  {
   "cell_type": "code",
   "execution_count": 153,
   "metadata": {
    "collapsed": true
   },
   "outputs": [],
   "source": [
    "def spatial_join(gdf1, gdf2, keep_field, rename_field, crs):\n",
    "    \"\"\"Spatial join two geodataframes, left intersect with base on gdf1\"\"\"\n",
    "    df = gpd.sjoin(gdf1, gdf2[['geometry',keep_field]], how=\"left\", op='intersects')\n",
    "    df = df.rename(columns={keep_field: rename_field})\n",
    "    df = df.drop(['index_right'], axis=1)\n",
    "    df.crs = crs\n",
    "    \n",
    "    return df"
   ]
  },
  {
   "cell_type": "code",
   "execution_count": 154,
   "metadata": {},
   "outputs": [],
   "source": [
    "# Attach tract ID\n",
    "df = spatial_join(gdf1=_hh, gdf2=tract, keep_field='GEOID10', rename_field='prev_home_tract', crs=hh.crs)\n",
    "\n",
    "# Attach block ID\n",
    "df = spatial_join(gdf1=df, gdf2=block, keep_field='GEOID10', rename_field='prev_home_block', crs=hh.crs)\n",
    "\n",
    "# Attach block group ID\n",
    "df = spatial_join(gdf1=df, gdf2=block_group, keep_field='GEOID10', rename_field='prev_home_bg', crs=hh.crs)\n",
    "\n",
    "# attach puma\n",
    "df = spatial_join(gdf1=df, gdf2=puma, keep_field='PUMACE10', rename_field='prev_home_puma10', crs=hh.crs)\n",
    "\n",
    "# attach rgc\n",
    "df = spatial_join(gdf1=df, gdf2=rgc, keep_field='NAME', rename_field='prev_home_rgcname', crs=hh.crs)\n",
    "\n",
    "# attach taz\n",
    "df = spatial_join(gdf1=df, gdf2=taz, keep_field='TAZ', rename_field='prev_home_taz', crs=hh.crs)"
   ]
  },
  {
   "cell_type": "code",
   "execution_count": 156,
   "metadata": {},
   "outputs": [],
   "source": [
    "# Merge with original file\n",
    "df_hh = pd.merge(hh, df[['hhid','prev_home_tract','prev_home_block','prev_home_bg',\n",
    "                        'prev_home_puma10','prev_home_rgcname','prev_home_taz']], on='hhid', how='left')\n",
    "\n",
    "# Drop geometry fields\n",
    "df_hh = df_hh.drop(['lat_lon_geog','geometry'], axis=1)\n",
    "\n",
    "# Export to CSV\n",
    "df_hh.to_excel(r'J:\\Projects\\Surveys\\HHTravel\\Survey2017\\Data\\Geolayers\\geolayers-added\\1-Household-v3-Public.xlsx',\n",
    "          index=False, sheet_name='1-Household')"
   ]
  },
  {
   "cell_type": "markdown",
   "metadata": {},
   "source": [
    "# Person File"
   ]
  },
  {
   "cell_type": "code",
   "execution_count": 157,
   "metadata": {
    "collapsed": true
   },
   "outputs": [],
   "source": [
    "person = pd.read_excel(r'J:\\Projects\\Surveys\\HHTravel\\Survey2017\\Data\\Geolayers\\2-Person-v3-Public.xlsx',\n",
    "                  sheetname='2-Person', skiprows=1)"
   ]
  },
  {
   "cell_type": "markdown",
   "metadata": {},
   "source": [
    "### Current Work Location"
   ]
  },
  {
   "cell_type": "code",
   "execution_count": 158,
   "metadata": {},
   "outputs": [],
   "source": [
    "geog = person.apply(lambda x: Point((float(x.work_lng), float(x.work_lat))), axis=1)\n",
    "geog = gpd.GeoSeries(geog)\n",
    "geog.crs = {'init': 'epsg:4326'}    # WGS 84\n",
    "person['lat_lon_geog'] =  geog\n",
    "person['geometry'] = geog.to_crs(epsg='2285') # Replace default geometry field with the projected epsg=2285 projection to match shapefiles\n",
    "person.crs = {'init': 'epsg:2285'}"
   ]
  },
  {
   "cell_type": "code",
   "execution_count": 159,
   "metadata": {},
   "outputs": [],
   "source": [
    "# Filter out for persons that have coordinates for work location\n",
    "_person = person[-person['work_lat'].isnull()]\n",
    "_person.crs = {'init': 'epsg:2285'}"
   ]
  },
  {
   "cell_type": "code",
   "execution_count": 160,
   "metadata": {},
   "outputs": [],
   "source": [
    "# Attach tract ID\n",
    "df = spatial_join(gdf1=_person, gdf2=tract, keep_field='GEOID10', rename_field='work_tract', crs=person.crs)\n",
    "\n",
    "# Attach block ID\n",
    "df = spatial_join(gdf1=df, gdf2=block, keep_field='GEOID10', rename_field='work_block', crs=person.crs)\n",
    "\n",
    "# Attach block group ID\n",
    "df = spatial_join(gdf1=df, gdf2=block_group, keep_field='GEOID10', rename_field='work_bg', crs=person.crs)\n",
    "\n",
    "# attach puma\n",
    "df = spatial_join(gdf1=df, gdf2=puma, keep_field='PUMACE10', rename_field='work_puma10', crs=person.crs)\n",
    "\n",
    "# attach rgc\n",
    "df = spatial_join(gdf1=df, gdf2=rgc, keep_field='NAME', rename_field='work_rgcname', crs=person.crs)\n",
    "\n",
    "# attach taz\n",
    "df = spatial_join(gdf1=df, gdf2=taz, keep_field='TAZ', rename_field='work_taz', crs=person.crs)"
   ]
  },
  {
   "cell_type": "code",
   "execution_count": 161,
   "metadata": {},
   "outputs": [],
   "source": [
    "# Merge with original file\n",
    "df_person = pd.merge(person, df[['personid','work_tract','work_block','work_bg',\n",
    "                        'work_puma10','work_rgcname','work_taz']], on='personid', how='left')\n",
    "\n",
    "# Drop geometry fields\n",
    "df_person = df_person.drop(['lat_lon_geog','geometry'], axis=1)"
   ]
  },
  {
   "cell_type": "markdown",
   "metadata": {},
   "source": [
    "### Previous Work Location"
   ]
  },
  {
   "cell_type": "code",
   "execution_count": 162,
   "metadata": {
    "collapsed": true
   },
   "outputs": [],
   "source": [
    "geog = person.apply(lambda x: Point((float(x.prev_work_lng), float(x.prev_work_lat))), axis=1)\n",
    "geog = gpd.GeoSeries(geog)\n",
    "geog.crs = {'init': 'epsg:4326'}    # WGS 84\n",
    "person['lat_lon_geog'] =  geog\n",
    "person['geometry'] = geog.to_crs(epsg='2285') # Replace default geometry field with the projected epsg=2285 projection to match shapefiles\n",
    "person.crs = {'init': 'epsg:2285'}"
   ]
  },
  {
   "cell_type": "code",
   "execution_count": 163,
   "metadata": {
    "collapsed": true
   },
   "outputs": [],
   "source": [
    "# Filter out for persons that have coordinates for previous work location\n",
    "_person = person[-person['prev_work_lat'].isnull()]\n",
    "_person.crs = {'init': 'epsg:2285'}"
   ]
  },
  {
   "cell_type": "code",
   "execution_count": 164,
   "metadata": {
    "collapsed": true
   },
   "outputs": [],
   "source": [
    "# Attach tract ID\n",
    "df = spatial_join(gdf1=_person, gdf2=tract, keep_field='GEOID10', rename_field='prev_work_tract', crs=person.crs)\n",
    "\n",
    "# Attach block ID\n",
    "df = spatial_join(gdf1=df, gdf2=block, keep_field='GEOID10', rename_field='prev_work_block', crs=person.crs)\n",
    "\n",
    "# Attach block group ID\n",
    "df = spatial_join(gdf1=df, gdf2=block_group, keep_field='GEOID10', rename_field='prev_work_bg', crs=person.crs)\n",
    "\n",
    "# attach puma\n",
    "df = spatial_join(gdf1=df, gdf2=puma, keep_field='PUMACE10', rename_field='prev_work_puma10', crs=person.crs)\n",
    "\n",
    "# attach rgc\n",
    "df = spatial_join(gdf1=df, gdf2=rgc, keep_field='NAME', rename_field='prev_work_rgcname', crs=person.crs)\n",
    "\n",
    "# attach taz\n",
    "df = spatial_join(gdf1=df, gdf2=taz, keep_field='TAZ', rename_field='prev_work_taz', crs=person.crs)"
   ]
  },
  {
   "cell_type": "code",
   "execution_count": 165,
   "metadata": {},
   "outputs": [],
   "source": [
    "# Merge with original file\n",
    "df_person = pd.merge(df_person, df[['personid','prev_work_tract','prev_work_block','prev_work_bg',\n",
    "                        'prev_work_puma10','prev_work_rgcname','prev_work_taz']], on='personid', how='left')"
   ]
  },
  {
   "cell_type": "markdown",
   "metadata": {},
   "source": [
    "### School Location"
   ]
  },
  {
   "cell_type": "code",
   "execution_count": 166,
   "metadata": {
    "collapsed": true
   },
   "outputs": [],
   "source": [
    "geog = person.apply(lambda x: Point((float(x.school_loc_lng), float(x.school_loc_lat))), axis=1)\n",
    "geog = gpd.GeoSeries(geog)\n",
    "geog.crs = {'init': 'epsg:4326'}    # WGS 84\n",
    "person['lat_lon_geog'] =  geog\n",
    "person['geometry'] = geog.to_crs(epsg='2285') # Replace default geometry field with the projected epsg=2285 projection to match shapefiles\n",
    "person.crs = {'init': 'epsg:2285'}"
   ]
  },
  {
   "cell_type": "code",
   "execution_count": 167,
   "metadata": {
    "collapsed": true
   },
   "outputs": [],
   "source": [
    "# Filter out for persons that have coordinates for school location\n",
    "_person = person[-person['school_loc_lat'].isnull()]\n",
    "_person.crs = {'init': 'epsg:2285'}"
   ]
  },
  {
   "cell_type": "code",
   "execution_count": 168,
   "metadata": {
    "collapsed": true
   },
   "outputs": [],
   "source": [
    "# Attach tract ID\n",
    "df = spatial_join(gdf1=_person, gdf2=tract, keep_field='GEOID10', rename_field='school_tract', crs=person.crs)\n",
    "\n",
    "# Attach block ID\n",
    "df = spatial_join(gdf1=df, gdf2=block, keep_field='GEOID10', rename_field='school_block', crs=person.crs)\n",
    "\n",
    "# Attach block group ID\n",
    "df = spatial_join(gdf1=df, gdf2=block_group, keep_field='GEOID10', rename_field='school_bg', crs=person.crs)\n",
    "\n",
    "# attach puma\n",
    "df = spatial_join(gdf1=df, gdf2=puma, keep_field='PUMACE10', rename_field='school_puma10', crs=person.crs)\n",
    "\n",
    "# attach rgc\n",
    "df = spatial_join(gdf1=df, gdf2=rgc, keep_field='NAME', rename_field='school_rgcname', crs=person.crs)\n",
    "\n",
    "# attach taz\n",
    "df = spatial_join(gdf1=df, gdf2=taz, keep_field='TAZ', rename_field='school_taz', crs=person.crs)"
   ]
  },
  {
   "cell_type": "code",
   "execution_count": 169,
   "metadata": {
    "collapsed": true
   },
   "outputs": [],
   "source": [
    "# Merge with original file\n",
    "df_person = pd.merge(df_person, df[['personid','school_tract','school_block','school_bg',\n",
    "                        'school_puma10','school_rgcname','school_taz']], on='personid', how='left')"
   ]
  },
  {
   "cell_type": "code",
   "execution_count": 170,
   "metadata": {
    "collapsed": true
   },
   "outputs": [],
   "source": [
    "# Write Person file to excel\n",
    "df_person.to_excel(r'J:\\Projects\\Surveys\\HHTravel\\Survey2017\\Data\\Geolayers\\geolayers-added\\2-Person-v3-Public.xlsx',\n",
    "          index=False, sheet_name='2-Person')"
   ]
  },
  {
   "cell_type": "markdown",
   "metadata": {},
   "source": [
    "# Trip File"
   ]
  },
  {
   "cell_type": "code",
   "execution_count": 186,
   "metadata": {
    "collapsed": true
   },
   "outputs": [],
   "source": [
    "trip = pd.read_excel(r'J:\\Projects\\Surveys\\HHTravel\\Survey2017\\Data\\Geolayers\\5-Trip-v2-Public.xlsx',\n",
    "                  sheetname='5-Trip', skiprows=1)"
   ]
  },
  {
   "cell_type": "markdown",
   "metadata": {},
   "source": [
    "### Trip Origin"
   ]
  },
  {
   "cell_type": "code",
   "execution_count": 187,
   "metadata": {
    "collapsed": true
   },
   "outputs": [],
   "source": [
    "geog = trip.apply(lambda x: Point((float(x.origin_lng), float(x.origin_lat))), axis=1)\n",
    "geog = gpd.GeoSeries(geog)\n",
    "geog.crs = {'init': 'epsg:4326'}    # WGS 84\n",
    "trip['lat_lon_geog'] =  geog\n",
    "trip['geometry'] = geog.to_crs(epsg='2285') # Replace default geometry field with the projected epsg=2285 projection to match shapefiles\n",
    "trip.crs = {'init': 'epsg:2285'}"
   ]
  },
  {
   "cell_type": "code",
   "execution_count": 188,
   "metadata": {},
   "outputs": [],
   "source": [
    "# Attach tract ID\n",
    "df = spatial_join(gdf1=trip, gdf2=tract, keep_field='GEOID10', rename_field='o_tract', crs=person.crs)\n",
    "\n",
    "# Attach block ID\n",
    "df = spatial_join(gdf1=df, gdf2=block, keep_field='GEOID10', rename_field='o_block', crs=person.crs)\n",
    "\n",
    "# Attach block group ID\n",
    "df = spatial_join(gdf1=df, gdf2=block_group, keep_field='GEOID10', rename_field='o_bg', crs=person.crs)\n",
    "\n",
    "# attach puma\n",
    "df = spatial_join(gdf1=df, gdf2=puma, keep_field='PUMACE10', rename_field='o_puma10', crs=person.crs)\n",
    "\n",
    "# attach rgc\n",
    "df = spatial_join(gdf1=df, gdf2=rgc, keep_field='NAME', rename_field='o_rgcname', crs=person.crs)\n",
    "\n",
    "# attach taz\n",
    "df = spatial_join(gdf1=df, gdf2=taz, keep_field='TAZ', rename_field='o_taz', crs=person.crs)"
   ]
  },
  {
   "cell_type": "code",
   "execution_count": 189,
   "metadata": {},
   "outputs": [],
   "source": [
    "# Merge with original file\n",
    "df_trip = pd.merge(trip, df[['tripid','o_tract','o_block','o_bg',\n",
    "                        'o_puma10','o_rgcname','o_taz']], on='tripid', how='left')"
   ]
  },
  {
   "cell_type": "markdown",
   "metadata": {},
   "source": [
    "### Trip Destination"
   ]
  },
  {
   "cell_type": "code",
   "execution_count": 190,
   "metadata": {
    "collapsed": true
   },
   "outputs": [],
   "source": [
    "geog = trip.apply(lambda x: Point((float(x.dest_lng), float(x.dest_lat))), axis=1)\n",
    "geog = gpd.GeoSeries(geog)\n",
    "geog.crs = {'init': 'epsg:4326'}    # WGS 84\n",
    "trip['lat_lon_geog'] =  geog\n",
    "trip['geometry'] = geog.to_crs(epsg='2285') # Replace default geometry field with the projected epsg=2285 projection to match shapefiles\n",
    "trip.crs = {'init': 'epsg:2285'}"
   ]
  },
  {
   "cell_type": "code",
   "execution_count": 191,
   "metadata": {
    "collapsed": true
   },
   "outputs": [],
   "source": [
    "# Attach tract ID\n",
    "df = spatial_join(gdf1=trip, gdf2=tract, keep_field='GEOID10', rename_field='d_tract', crs=person.crs)\n",
    "\n",
    "# Attach block ID\n",
    "df = spatial_join(gdf1=df, gdf2=block, keep_field='GEOID10', rename_field='d_block', crs=person.crs)\n",
    "\n",
    "# Attach block group ID\n",
    "df = spatial_join(gdf1=df, gdf2=block_group, keep_field='GEOID10', rename_field='d_bg', crs=person.crs)\n",
    "\n",
    "# attach puma\n",
    "df = spatial_join(gdf1=df, gdf2=puma, keep_field='PUMACE10', rename_field='d_puma10', crs=person.crs)\n",
    "\n",
    "# attach rgc\n",
    "df = spatial_join(gdf1=df, gdf2=rgc, keep_field='NAME', rename_field='d_rgcname', crs=person.crs)\n",
    "\n",
    "# attach taz\n",
    "df = spatial_join(gdf1=df, gdf2=taz, keep_field='TAZ', rename_field='d_taz', crs=person.crs)"
   ]
  },
  {
   "cell_type": "code",
   "execution_count": 192,
   "metadata": {},
   "outputs": [],
   "source": [
    "# Merge with original file\n",
    "df_trip = pd.merge(df_trip, df[['tripid','d_tract','d_block','d_bg',\n",
    "                        'd_puma10','d_rgcname','d_taz']], on='tripid', how='left')"
   ]
  },
  {
   "cell_type": "code",
   "execution_count": 193,
   "metadata": {},
   "outputs": [],
   "source": [
    "# Drop geometry fields\n",
    "df_trip = df_trip.drop(['lat_lon_geog','geometry'], axis=1)\n",
    "\n",
    "df_trip.to_excel(r'J:\\Projects\\Surveys\\HHTravel\\Survey2017\\Data\\Geolayers\\geolayers-added\\5-Trip-v3-Public.xlsx',\n",
    "          index=False, sheet_name='5-Trip')"
   ]
  },
  {
   "cell_type": "code",
   "execution_count": null,
   "metadata": {
    "collapsed": true
   },
   "outputs": [],
   "source": []
  }
 ],
 "metadata": {
  "kernelspec": {
   "display_name": "Python 2",
   "language": "python",
   "name": "python2"
  },
  "language_info": {
   "codemirror_mode": {
    "name": "ipython",
    "version": 2
   },
   "file_extension": ".py",
   "mimetype": "text/x-python",
   "name": "python",
   "nbconvert_exporter": "python",
   "pygments_lexer": "ipython2",
   "version": "2.7.14"
  }
 },
 "nbformat": 4,
 "nbformat_minor": 2
}
