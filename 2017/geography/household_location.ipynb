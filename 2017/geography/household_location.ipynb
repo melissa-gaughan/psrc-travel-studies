{
 "cells": [
  {
   "cell_type": "code",
   "execution_count": 1,
   "metadata": {},
   "outputs": [],
   "source": [
    "# Using geopandas to spatially join household xy with various geographies"
   ]
  },
  {
   "cell_type": "code",
   "execution_count": 7,
   "metadata": {},
   "outputs": [],
   "source": [
    "import pandas as pd\n",
    "import geopandas as gpd\n",
    "from shapely.geometry import Point, LineString, Polygon"
   ]
  },
  {
   "cell_type": "code",
   "execution_count": 92,
   "metadata": {},
   "outputs": [],
   "source": [
    "hh = pd.read_excel(r'J:\\Projects\\Surveys\\HHTravel\\Survey2017\\Data\\Dataset_2 August 2017\\Household\\1-Household-v2.xlsx',\n",
    "                  sheetname='1-Household')"
   ]
  },
  {
   "cell_type": "code",
   "execution_count": 31,
   "metadata": {},
   "outputs": [],
   "source": [
    "# create a geometry column, required for turning df into a geo df\n",
    "# df['geometry'] = df.apply(lambda x: Point((float(x.final_lng), float(x.final_lat))), axis=1)\n",
    "# df.crs = {'init': 'epsg:4326'}    # WGS 84"
   ]
  },
  {
   "cell_type": "code",
   "execution_count": 93,
   "metadata": {},
   "outputs": [],
   "source": [
    "geog = hh.apply(lambda x: Point((float(x.final_lng), float(x.final_lat))), axis=1)\n",
    "geog = gpd.GeoSeries(geog)\n",
    "geog.crs = {'init': 'epsg:4326'}    # WGS 84\n",
    "hh['lat_lon_geog'] =  geog\n",
    "hh['geometry'] = geog.to_crs(epsg='2285') # Replace default geometry field with the projected epsg=2285 projection to match shapefiles\n",
    "hh.crs = {'init': 'epsg:2285'}"
   ]
  },
  {
   "cell_type": "code",
   "execution_count": 150,
   "metadata": {},
   "outputs": [],
   "source": [
    "# Load geography layers\n",
    "tract = gpd.GeoDataFrame.from_file(r'W:\\geodata\\census\\Tract\\tract2010.shp')\n",
    "tract.crs = {'init' :'epsg:2285'}\n",
    "\n",
    "block = gpd.GeoDataFrame.from_file(r'W:\\geodata\\census\\Block\\block2010.shp')\n",
    "block.crs = {'init' :'epsg:2285'}\n",
    "\n",
    "block_group = gpd.GeoDataFrame.from_file(r'R:\\Brice\\blockgrp2010.shp')\n",
    "block_group.crs = {'init' :'epsg:2285'} # PUMA is not a projected shapefile; need to project \n",
    "\n",
    "puma = gpd.GeoDataFrame.from_file(r'W:\\geodata\\census\\PUMAs\\reg10puma.shp')\n",
    "puma.crs = {'init' :'epsg:4326'}\n",
    "puma['geometry'] = puma['geometry'].to_crs(epsg='2285')\n",
    "puma.crs = {'init': 'epsg:2285'}\n",
    "\n",
    "rgc = gpd.GeoDataFrame.from_file(r'R:\\Brice\\urbcen.shp')\n",
    "rgc.crs = {'init' :'epsg:2285'}\n",
    "\n",
    "urbv = gpd.GeoDataFrame.from_file(r'W:\\geodata\\political\\urbanvillages.shp')\n",
    "urbv.crs = {'init' :'epsg:2285'}\n",
    "\n",
    "taz = gpd.GeoDataFrame.from_file(r'W:\\geodata\\forecast\\taz2010.shp')\n",
    "taz.crs = {'init' :'epsg:2285'}"
   ]
  },
  {
   "cell_type": "code",
   "execution_count": 151,
   "metadata": {},
   "outputs": [],
   "source": [
    "def spatial_join(gdf1, gdf2, keep_field, rename_field, crs):\n",
    "    \"\"\"Spatial join two geodataframes, left intersect with base on gdf1\"\"\"\n",
    "    df = gpd.sjoin(gdf1, gdf2[['geometry',keep_field]], how=\"left\", op='intersects')\n",
    "    df = df.rename(columns={keep_field: rename_field})\n",
    "    df = df.drop(['index_right','index_left'], axis=1)\n",
    "    df.crs = crs\n",
    "    \n",
    "    return df"
   ]
  },
  {
   "cell_type": "code",
   "execution_count": 152,
   "metadata": {},
   "outputs": [],
   "source": [
    "# Attach tract ID\n",
    "df = spatial_join(gdf1=hh, gdf2=tract, keep_field='GEOID10', rename_field='final_tract', crs=hh.crs)\n",
    "\n",
    "# Attach block ID\n",
    "df = spatial_join(gdf1=df, gdf2=block, keep_field='GEOID10', rename_field='final_block', crs=hh.crs)\n",
    "\n",
    "# Attach block group ID\n",
    "df = spatial_join(gdf1=df, gdf2=block_group, keep_field='GEOID10', rename_field='final_bg', crs=hh.crs)\n",
    "\n",
    "# attach puma\n",
    "df = spatial_join(gdf1=df, gdf2=puma, keep_field='PUMACE10', rename_field='final_puma10', crs=hh.crs)\n",
    "\n",
    "# attach rgc\n",
    "df = spatial_join(gdf1=df, gdf2=rgc, keep_field='NAME', rename_field='final_rgcname', crs=hh.crs)\n",
    "\n",
    "# attach urban village\n",
    "df = spatial_join(gdf1=df, gdf2=urbv, keep_field='UV_NAME', rename_field='final_uvname', crs=hh.crs)\n",
    "\n",
    "# attach taz\n",
    "df = spatial_join(gdf1=df, gdf2=taz, keep_field='TAZ', rename_field='final_hhtaz', crs=hh.crs)"
   ]
  },
  {
   "cell_type": "code",
   "execution_count": 155,
   "metadata": {},
   "outputs": [],
   "source": [
    "# Drop geometry fields\n",
    "df = df.drop(['lat_lon_geog','geometry'], axis=1)\n",
    "\n",
    "# Export to CSV\n",
    "df.to_csv(r'J:\\Projects\\Surveys\\HHTravel\\Survey2017\\Data\\Dataset_2 August 2017\\Household\\1-Household-v3-geocoded.csv',\n",
    "          index=False)"
   ]
  },
  {
   "cell_type": "code",
   "execution_count": null,
   "metadata": {},
   "outputs": [],
   "source": []
  }
 ],
 "metadata": {
  "kernelspec": {
   "display_name": "Python 2",
   "language": "python",
   "name": "python2"
  },
  "language_info": {
   "codemirror_mode": {
    "name": "ipython",
    "version": 2
   },
   "file_extension": ".py",
   "mimetype": "text/x-python",
   "name": "python",
   "nbconvert_exporter": "python",
   "pygments_lexer": "ipython2",
   "version": "2.7.13"
  }
 },
 "nbformat": 4,
 "nbformat_minor": 2
}
