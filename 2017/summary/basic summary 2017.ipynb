{
 "cells": [
  {
   "cell_type": "code",
   "execution_count": 1,
   "metadata": {},
   "outputs": [],
   "source": [
    "import pandas as pd"
   ]
  },
  {
   "cell_type": "code",
   "execution_count": 2,
   "metadata": {},
   "outputs": [],
   "source": [
    "# File names and directories\n",
    "survey_2017_dir = 'J:/Projects/Surveys/HHTravel/Survey2017/Data/Export/Version 3/Public/'\n",
    "person_file_name = '2017-pr3-2-person.xlsx'\n",
    "day_file_name = '2017-pr3-4-day.xlsx'\n",
    "trip_file_name = '2017-pr3-5-trip.xlsx'\n",
    "codebook_file_name = '2017-pr2-codebook.xlsx'\n",
    "\n",
    "day_weight_name = 'hh_day_wt_revised'\n",
    "\n",
    "# I'm using the combined 2017+2019 codebook because it's easier to work with and merge.\n",
    "codebook_loc = 'J:/Projects/Surveys/HHTravel/Survey2019/Data/Dataset_24_January_2020/PSRC_2019_HTS_Deliverable_012420/PSRC_2019_HTS_Deliverable_012420/Weighted_Dataset_012420/'\n",
    "codebook_file='Combined_Codebook_012420.xlsx'\n",
    "output_file = 'C:/Users/SChildress/Documents/GitHub/travel-studies/2017/summary/delivery_summary.xlsx'"
   ]
  },
  {
   "cell_type": "code",
   "execution_count": 3,
   "metadata": {},
   "outputs": [
    {
     "name": "stderr",
     "output_type": "stream",
     "text": [
      "C:\\Users\\SChildress\\AppData\\Local\\Continuum\\anaconda3\\lib\\site-packages\\pandas\\util\\_decorators.py:188: FutureWarning: The `sheetname` keyword is deprecated, use `sheet_name` instead\n",
      "  return func(*args, **kwargs)\n"
     ]
    }
   ],
   "source": [
    "trip=pd.read_excel(survey_2017_dir+trip_file_name, skiprows=1)\n",
    "person=pd.read_excel(survey_2017_dir+person_file_name, skiprows=1)\n",
    "day = pd.read_excel(survey_2017_dir+day_file_name, skiprows=1)\n",
    "codebook_values = pd.read_excel(codebook_loc+codebook_file, sheet_name='Values')\n",
    "codebook_variables =pd.read_excel(codebook_loc+codebook_file, sheetname='Data Overview')"
   ]
  },
  {
   "cell_type": "code",
   "execution_count": 4,
   "metadata": {},
   "outputs": [],
   "source": [
    "def compare_weighted_table(codebook_values, dataset, item, weight_name):\n",
    "    dataset=dataset.dropna(subset=[item])\n",
    "    print(dataset.head())\n",
    "    grouped_share=(dataset.groupby(item).sum()[weight_name]/dataset.sum()[weight_name]).reset_index()\n",
    "    grouped_total=dataset.groupby(item).sum()[weight_name].reset_index()\n",
    "    grouped=pd.merge(grouped_share,grouped_total, on = item, suffixes=['_share', '_total']).reset_index()  \n",
    "    values=codebook_values.loc[codebook_values['variable']==item]\n",
    "\n",
    "    values=codebook_values.loc[codebook_values['variable']==item]\n",
    "    variable =codebook_variables.loc[codebook_variables['variable']==item, 'description'].values[0]\n",
    "    missing_values_df = pd.DataFrame({'variable': [item, item, item],'value':[-9999,-9998, 995], 'label':\n",
    "                                     ['Missing:Technical Error', 'Missing: Non-response', 'Missing:Skip logic']})\n",
    "    values = values.append(missing_values_df)\n",
    "    summary=pd.merge(values, grouped,left_on='value', right_on=item)\n",
    "    summary['variable']=variable\n",
    "    return summary"
   ]
  },
  {
   "cell_type": "code",
   "execution_count": 5,
   "metadata": {},
   "outputs": [
    {
     "data": {
      "text/plain": [
       "14863632.515248515"
      ]
     },
     "execution_count": 5,
     "metadata": {},
     "output_type": "execute_result"
    }
   ],
   "source": [
    "trip['trip_weight_revised'].sum()"
   ]
  },
  {
   "cell_type": "code",
   "execution_count": 6,
   "metadata": {},
   "outputs": [
    {
     "data": {
      "text/plain": [
       "3517601.4533461123"
      ]
     },
     "execution_count": 6,
     "metadata": {},
     "output_type": "execute_result"
    }
   ],
   "source": [
    "person['hh_day_wt_revised'].sum()"
   ]
  },
  {
   "cell_type": "code",
   "execution_count": 8,
   "metadata": {},
   "outputs": [
    {
     "data": {
      "text/plain": [
       "3848075.8562588026"
      ]
     },
     "execution_count": 8,
     "metadata": {},
     "output_type": "execute_result"
    }
   ],
   "source": [
    "person['hh_wt_revised'].sum()"
   ]
  },
  {
   "cell_type": "code",
   "execution_count": null,
   "metadata": {},
   "outputs": [],
   "source": []
  }
 ],
 "metadata": {
  "anaconda-cloud": {},
  "kernelspec": {
   "display_name": "Python 3",
   "language": "python",
   "name": "python3"
  },
  "language_info": {
   "codemirror_mode": {
    "name": "ipython",
    "version": 3
   },
   "file_extension": ".py",
   "mimetype": "text/x-python",
   "name": "python",
   "nbconvert_exporter": "python",
   "pygments_lexer": "ipython3",
   "version": "3.7.3"
  }
 },
 "nbformat": 4,
 "nbformat_minor": 1
}
