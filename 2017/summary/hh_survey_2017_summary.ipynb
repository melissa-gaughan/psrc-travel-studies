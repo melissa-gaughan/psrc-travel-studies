{
 "cells": [
  {
   "cell_type": "code",
   "execution_count": 1,
   "metadata": {
    "collapsed": true
   },
   "outputs": [],
   "source": [
    "import pandas as pd\n",
    "import math"
   ]
  },
  {
   "cell_type": "code",
   "execution_count": 2,
   "metadata": {
    "collapsed": false
   },
   "outputs": [],
   "source": [
    "# File names and directories\n",
    "survey_2017_dir = 'J:/Projects/Surveys/HHTravel/Survey2017/Data/Export/Version 2/Public/'\n",
    "hh_file_name = '2017-pr2-1-household.xlsx'\n",
    "person_file_name = '2017-pr2-2-person.xlsx'\n",
    "vehicle_file_name = '2017-pr2-3-vehicle.xlsx'\n",
    "day_file_name = '2017-pr2-4-day.xlsx'\n",
    "trip_file_name = '2017-pr2-5-trip.xlsx'\n",
    "codebook_file_name = '2017-pr2-codebook.xlsx'\n",
    "codebook_hh_name = '1-HH'\n",
    "codebook_person_name = '2-PERSON'\n",
    "codebook_vehicle_name = '3-VEHICLE'\n",
    "codebook_day_name = '4-DAY'\n",
    "codebook_trip_name = '5-TRIP'"
   ]
  },
  {
   "cell_type": "code",
   "execution_count": 3,
   "metadata": {
    "collapsed": true
   },
   "outputs": [],
   "source": [
    "#How do travel patterns differ by gender?\n",
    "# by County?\n",
    "# Mode Choice\n",
    "# Distance to Work\n",
    "# Time spent walking and biking\n",
    "# Travelling with Children/purpose\n",
    "# income and gender, age and whatever, employment\n",
    "\n"
   ]
  },
  {
   "cell_type": "code",
   "execution_count": 4,
   "metadata": {
    "collapsed": false
   },
   "outputs": [],
   "source": [
    "#merge_hh_person_trips"
   ]
  },
  {
   "cell_type": "code",
   "execution_count": 5,
   "metadata": {
    "collapsed": true
   },
   "outputs": [],
   "source": [
    "#apply_weights"
   ]
  },
  {
   "cell_type": "code",
   "execution_count": 6,
   "metadata": {
    "collapsed": true
   },
   "outputs": [],
   "source": [
    "#create_cross_tab_with_weights"
   ]
  },
  {
   "cell_type": "code",
   "execution_count": 7,
   "metadata": {
    "collapsed": false
   },
   "outputs": [],
   "source": [
    "#start easy, mode choice\n",
    "hh = pd.read_excel(survey_2017_dir+hh_file_name, skiprows=1)\n",
    "person= pd.read_excel(survey_2017_dir+person_file_name, skiprows=1)\n",
    "trip = pd.read_excel(survey_2017_dir+person_file_name, skiprows=1)\n"
   ]
  },
  {
   "cell_type": "code",
   "execution_count": 8,
   "metadata": {
    "collapsed": true
   },
   "outputs": [],
   "source": [
    "codebook_hh = pd.read_excel(survey_2017_dir+codebook_file_name, skiprows=2, sheet_name = codebook_hh_name)\n",
    "codebook_person = pd.read_excel(survey_2017_dir+codebook_file_name, skiprows=2, sheet_name = codebook_person_name)\n",
    "codebook_vehicle = pd.read_excel(survey_2017_dir+codebook_file_name, skiprows=2, sheet_name = codebook_vehicle_name)\n",
    "codebook_day = pd.read_excel(survey_2017_dir+codebook_file_name, skiprows=2, sheet_name = codebook_day_name)\n",
    "codebook_trip = pd.read_excel(survey_2017_dir+codebook_file_name, skiprows=2, sheet_name = codebook_trip_name)"
   ]
  },
  {
   "cell_type": "code",
   "execution_count": 9,
   "metadata": {
    "collapsed": false
   },
   "outputs": [],
   "source": [
    "def make_codebook(codebook):\n",
    "    var_names = pd.DataFrame(columns=['Field', 'Variable', 'Value'])\n",
    "    count = 1\n",
    "    var_names_dict = []\n",
    "    for index, row in codebook_hh.iterrows():\n",
    "        if count == 1:\n",
    "            last_row = row\n",
    "        elif row['Field'] == 'Valid Values':\n",
    "        # the field name comes in the row befor valid values, get it\n",
    "            field_name = last_row['Field']\n",
    "            var_names_dict.append({'Field' : field_name, 'Variable': row['Variable'], 'Value':row['Value']})\n",
    "        elif not(math.isnan(float(row['Variable']))):\n",
    "        # this happens when your getting another variable value)\n",
    "             var_names_dict.append({'Field' : field_name, 'Variable': row['Variable'], 'Value':row['Value']})\n",
    "        last_row = row\n",
    "        count = count + 1\n",
    "    var_names = var_names.append(var_names_dict)\n",
    "    return var_names\n",
    "    "
   ]
  },
  {
   "cell_type": "code",
   "execution_count": 10,
   "metadata": {
    "collapsed": false
   },
   "outputs": [],
   "source": [
    "hh_var_names = make_codebook(codebook_hh)\n",
    "person_var_names = make_codebook(codebook_person)\n",
    "vehicle_var_names = make_codebook(codebook_vehicle)\n",
    "trip_var_names = make_codebook(codebook_trip)"
   ]
  },
  {
   "cell_type": "code",
   "execution_count": 15,
   "metadata": {
    "collapsed": false
   },
   "outputs": [
    {
     "data": {
      "text/html": [
       "<div>\n",
       "<table border=\"1\" class=\"dataframe\">\n",
       "  <thead>\n",
       "    <tr style=\"text-align: right;\">\n",
       "      <th></th>\n",
       "      <th>Field</th>\n",
       "      <th>Variable</th>\n",
       "      <th>Value</th>\n",
       "    </tr>\n",
       "  </thead>\n",
       "  <tbody>\n",
       "    <tr>\n",
       "      <th>0</th>\n",
       "      <td>hhgroup</td>\n",
       "      <td>1.0</td>\n",
       "      <td>rMove</td>\n",
       "    </tr>\n",
       "    <tr>\n",
       "      <th>1</th>\n",
       "      <td>hhgroup</td>\n",
       "      <td>2.0</td>\n",
       "      <td>rSurvey</td>\n",
       "    </tr>\n",
       "    <tr>\n",
       "      <th>2</th>\n",
       "      <td>sample_segment</td>\n",
       "      <td>1.0</td>\n",
       "      <td>PSRC - Regular-Low</td>\n",
       "    </tr>\n",
       "    <tr>\n",
       "      <th>3</th>\n",
       "      <td>sample_segment</td>\n",
       "      <td>2.0</td>\n",
       "      <td>PSRC - Regular-Medium</td>\n",
       "    </tr>\n",
       "    <tr>\n",
       "      <th>4</th>\n",
       "      <td>sample_segment</td>\n",
       "      <td>3.0</td>\n",
       "      <td>PSRC - Regular-High</td>\n",
       "    </tr>\n",
       "  </tbody>\n",
       "</table>\n",
       "</div>"
      ],
      "text/plain": [
       "            Field  Variable                  Value\n",
       "0         hhgroup       1.0                  rMove\n",
       "1         hhgroup       2.0                rSurvey\n",
       "2  sample_segment       1.0     PSRC - Regular-Low\n",
       "3  sample_segment       2.0  PSRC - Regular-Medium\n",
       "4  sample_segment       3.0    PSRC - Regular-High"
      ]
     },
     "execution_count": 15,
     "metadata": {},
     "output_type": "execute_result"
    }
   ],
   "source": [
    "hh_var_names.head()"
   ]
  },
  {
   "cell_type": "code",
   "execution_count": 13,
   "metadata": {
    "collapsed": false
   },
   "outputs": [
    {
     "data": {
      "text/html": [
       "<div>\n",
       "<table border=\"1\" class=\"dataframe\">\n",
       "  <thead>\n",
       "    <tr style=\"text-align: right;\">\n",
       "      <th></th>\n",
       "      <th>hhid</th>\n",
       "      <th>personid</th>\n",
       "      <th>pernum</th>\n",
       "      <th>sample_segment</th>\n",
       "      <th>hhgroup</th>\n",
       "      <th>traveldate</th>\n",
       "      <th>relationship</th>\n",
       "      <th>proxy_parent</th>\n",
       "      <th>proxy</th>\n",
       "      <th>age</th>\n",
       "      <th>...</th>\n",
       "      <th>wbt_bikemore_3</th>\n",
       "      <th>wbt_bikemore_4</th>\n",
       "      <th>wbt_bikemore_5</th>\n",
       "      <th>rmove_incentive</th>\n",
       "      <th>call_center</th>\n",
       "      <th>mobile_device</th>\n",
       "      <th>num_trips</th>\n",
       "      <th>nwkdays</th>\n",
       "      <th>hh_wt_revised</th>\n",
       "      <th>hh_day_wt_revised</th>\n",
       "    </tr>\n",
       "  </thead>\n",
       "  <tbody>\n",
       "    <tr>\n",
       "      <th>0</th>\n",
       "      <td>17100005</td>\n",
       "      <td>1710000501</td>\n",
       "      <td>1</td>\n",
       "      <td>23</td>\n",
       "      <td>2</td>\n",
       "      <td>2017-05-24</td>\n",
       "      <td>0</td>\n",
       "      <td>NaN</td>\n",
       "      <td>1</td>\n",
       "      <td>9</td>\n",
       "      <td>...</td>\n",
       "      <td>5.0</td>\n",
       "      <td>5.0</td>\n",
       "      <td>5.0</td>\n",
       "      <td>NaN</td>\n",
       "      <td>0.0</td>\n",
       "      <td>0.0</td>\n",
       "      <td>5</td>\n",
       "      <td>1</td>\n",
       "      <td>24.441709</td>\n",
       "      <td>24.441709</td>\n",
       "    </tr>\n",
       "    <tr>\n",
       "      <th>1</th>\n",
       "      <td>17100005</td>\n",
       "      <td>1710000502</td>\n",
       "      <td>2</td>\n",
       "      <td>23</td>\n",
       "      <td>2</td>\n",
       "      <td>2017-05-24</td>\n",
       "      <td>1</td>\n",
       "      <td>NaN</td>\n",
       "      <td>3</td>\n",
       "      <td>10</td>\n",
       "      <td>...</td>\n",
       "      <td>NaN</td>\n",
       "      <td>NaN</td>\n",
       "      <td>NaN</td>\n",
       "      <td>NaN</td>\n",
       "      <td>0.0</td>\n",
       "      <td>0.0</td>\n",
       "      <td>3</td>\n",
       "      <td>1</td>\n",
       "      <td>24.441709</td>\n",
       "      <td>24.441709</td>\n",
       "    </tr>\n",
       "    <tr>\n",
       "      <th>2</th>\n",
       "      <td>17100024</td>\n",
       "      <td>1710002401</td>\n",
       "      <td>1</td>\n",
       "      <td>51</td>\n",
       "      <td>2</td>\n",
       "      <td>2017-04-12</td>\n",
       "      <td>0</td>\n",
       "      <td>NaN</td>\n",
       "      <td>1</td>\n",
       "      <td>6</td>\n",
       "      <td>...</td>\n",
       "      <td>2.0</td>\n",
       "      <td>4.0</td>\n",
       "      <td>4.0</td>\n",
       "      <td>NaN</td>\n",
       "      <td>0.0</td>\n",
       "      <td>0.0</td>\n",
       "      <td>8</td>\n",
       "      <td>1</td>\n",
       "      <td>26.224981</td>\n",
       "      <td>26.224981</td>\n",
       "    </tr>\n",
       "    <tr>\n",
       "      <th>3</th>\n",
       "      <td>17100024</td>\n",
       "      <td>1710002402</td>\n",
       "      <td>2</td>\n",
       "      <td>51</td>\n",
       "      <td>2</td>\n",
       "      <td>2017-04-12</td>\n",
       "      <td>1</td>\n",
       "      <td>NaN</td>\n",
       "      <td>2</td>\n",
       "      <td>6</td>\n",
       "      <td>...</td>\n",
       "      <td>5.0</td>\n",
       "      <td>5.0</td>\n",
       "      <td>5.0</td>\n",
       "      <td>NaN</td>\n",
       "      <td>0.0</td>\n",
       "      <td>0.0</td>\n",
       "      <td>4</td>\n",
       "      <td>1</td>\n",
       "      <td>26.224981</td>\n",
       "      <td>26.224981</td>\n",
       "    </tr>\n",
       "    <tr>\n",
       "      <th>4</th>\n",
       "      <td>17100024</td>\n",
       "      <td>1710002403</td>\n",
       "      <td>3</td>\n",
       "      <td>51</td>\n",
       "      <td>2</td>\n",
       "      <td>2017-04-12</td>\n",
       "      <td>2</td>\n",
       "      <td>NaN</td>\n",
       "      <td>3</td>\n",
       "      <td>1</td>\n",
       "      <td>...</td>\n",
       "      <td>NaN</td>\n",
       "      <td>NaN</td>\n",
       "      <td>NaN</td>\n",
       "      <td>NaN</td>\n",
       "      <td>NaN</td>\n",
       "      <td>NaN</td>\n",
       "      <td>2</td>\n",
       "      <td>1</td>\n",
       "      <td>26.224981</td>\n",
       "      <td>26.224981</td>\n",
       "    </tr>\n",
       "  </tbody>\n",
       "</table>\n",
       "<p>5 rows × 113 columns</p>\n",
       "</div>"
      ],
      "text/plain": [
       "       hhid    personid  pernum  sample_segment  hhgroup traveldate  \\\n",
       "0  17100005  1710000501       1              23        2 2017-05-24   \n",
       "1  17100005  1710000502       2              23        2 2017-05-24   \n",
       "2  17100024  1710002401       1              51        2 2017-04-12   \n",
       "3  17100024  1710002402       2              51        2 2017-04-12   \n",
       "4  17100024  1710002403       3              51        2 2017-04-12   \n",
       "\n",
       "   relationship  proxy_parent  proxy  age        ...          wbt_bikemore_3  \\\n",
       "0             0           NaN      1    9        ...                     5.0   \n",
       "1             1           NaN      3   10        ...                     NaN   \n",
       "2             0           NaN      1    6        ...                     2.0   \n",
       "3             1           NaN      2    6        ...                     5.0   \n",
       "4             2           NaN      3    1        ...                     NaN   \n",
       "\n",
       "   wbt_bikemore_4  wbt_bikemore_5  rmove_incentive  call_center  \\\n",
       "0             5.0             5.0              NaN          0.0   \n",
       "1             NaN             NaN              NaN          0.0   \n",
       "2             4.0             4.0              NaN          0.0   \n",
       "3             5.0             5.0              NaN          0.0   \n",
       "4             NaN             NaN              NaN          NaN   \n",
       "\n",
       "   mobile_device  num_trips  nwkdays  hh_wt_revised  hh_day_wt_revised  \n",
       "0            0.0          5        1      24.441709          24.441709  \n",
       "1            0.0          3        1      24.441709          24.441709  \n",
       "2            0.0          8        1      26.224981          26.224981  \n",
       "3            0.0          4        1      26.224981          26.224981  \n",
       "4            NaN          2        1      26.224981          26.224981  \n",
       "\n",
       "[5 rows x 113 columns]"
      ]
     },
     "execution_count": 13,
     "metadata": {},
     "output_type": "execute_result"
    }
   ],
   "source": [
    "# join the codebook to the variables??"
   ]
  }
 ],
 "metadata": {
  "anaconda-cloud": {},
  "kernelspec": {
   "display_name": "Python [conda env:Anaconda2]",
   "language": "python",
   "name": "conda-env-Anaconda2-py"
  },
  "language_info": {
   "codemirror_mode": {
    "name": "ipython",
    "version": 2
   },
   "file_extension": ".py",
   "mimetype": "text/x-python",
   "name": "python",
   "nbconvert_exporter": "python",
   "pygments_lexer": "ipython2",
   "version": "2.7.12"
  }
 },
 "nbformat": 4,
 "nbformat_minor": 1
}
