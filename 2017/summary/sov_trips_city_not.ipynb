{
 "cells": [
  {
   "cell_type": "code",
   "execution_count": 1,
   "metadata": {},
   "outputs": [],
   "source": [
    "import pandas as pd\n",
    "import math"
   ]
  },
  {
   "cell_type": "code",
   "execution_count": 2,
   "metadata": {},
   "outputs": [],
   "source": [
    "# File names and directories\n",
    "survey_2017_dir = 'J:/Projects/Surveys/HHTravel/Survey2017/Data/Export/Version 2/Public/'\n",
    "hh_file_name = '2017-pr2-1-household.xlsx'\n",
    "person_file_name = '2017-pr2-2-person.xlsx'\n",
    "vehicle_file_name = '2017-pr2-3-vehicle.xlsx'\n",
    "day_file_name = '2017-pr2-4-day.xlsx'\n",
    "trip_file_name = '2017-pr2-5-trip.xlsx'\n",
    "codebook_file_name = '2017-pr2-codebook.xlsx'\n",
    "codebook_hh_name = '1-HH'\n",
    "codebook_person_name = '2-PERSON'\n",
    "codebook_vehicle_name = '3-VEHICLE'\n",
    "codebook_day_name = '4-DAY'\n",
    "codebook_trip_name = '5-TRIP'"
   ]
  },
  {
   "cell_type": "code",
   "execution_count": 3,
   "metadata": {},
   "outputs": [],
   "source": [
    "#How do travel patterns differ by gender?\n",
    "# by County?\n",
    "# Mode Choice\n",
    "# Distance to Work\n",
    "# Time spent walking and biking\n",
    "# Travelling with Children/purpose\n",
    "# income and gender, age and whatever, employment\n",
    "\n"
   ]
  },
  {
   "cell_type": "code",
   "execution_count": 4,
   "metadata": {},
   "outputs": [],
   "source": [
    "#merge_hh_person_trips"
   ]
  },
  {
   "cell_type": "code",
   "execution_count": 5,
   "metadata": {},
   "outputs": [],
   "source": [
    "#apply_weights"
   ]
  },
  {
   "cell_type": "code",
   "execution_count": 6,
   "metadata": {},
   "outputs": [],
   "source": [
    "#create_cross_tab_with_weights"
   ]
  },
  {
   "cell_type": "code",
   "execution_count": 7,
   "metadata": {},
   "outputs": [],
   "source": [
    "#start easy, mode choice\n",
    "hh = pd.read_excel(survey_2017_dir+hh_file_name, skiprows=1)\n",
    "person= pd.read_excel(survey_2017_dir+person_file_name, skiprows=1)\n",
    "trip = pd.read_excel(survey_2017_dir+trip_file_name, skiprows=1)\n"
   ]
  },
  {
   "cell_type": "code",
   "execution_count": 8,
   "metadata": {},
   "outputs": [],
   "source": [
    "codebook_hh = pd.read_excel(survey_2017_dir+codebook_file_name, skiprows=2, sheet_name = codebook_hh_name)\n",
    "codebook_person = pd.read_excel(survey_2017_dir+codebook_file_name, skiprows=2, sheet_name = codebook_person_name)\n",
    "codebook_vehicle = pd.read_excel(survey_2017_dir+codebook_file_name, skiprows=2, sheet_name = codebook_vehicle_name)\n",
    "codebook_day = pd.read_excel(survey_2017_dir+codebook_file_name, skiprows=2, sheet_name = codebook_day_name)\n",
    "codebook_trip = pd.read_excel(survey_2017_dir+codebook_file_name, skiprows=2, sheet_name = codebook_trip_name)"
   ]
  },
  {
   "cell_type": "code",
   "execution_count": 9,
   "metadata": {},
   "outputs": [],
   "source": [
    "def make_codebook(codebook):\n",
    "    var_names = pd.DataFrame(columns=['Field', 'Variable', 'Value'])\n",
    "    count = 1\n",
    "    var_names_dict = []\n",
    "    for index, row in codebook_hh.iterrows():\n",
    "        if count == 1:\n",
    "            last_row = row\n",
    "        elif row['Field'] == 'Valid Values':\n",
    "        # the field name comes in the row befor valid values, get it\n",
    "            field_name = last_row['Field']\n",
    "            var_names_dict.append({'Field' : field_name, 'Variable': row['Variable'], 'Value':row['Value']})\n",
    "        elif not(math.isnan(float(row['Variable']))):\n",
    "        # this happens when your getting another variable value)\n",
    "             var_names_dict.append({'Field' : field_name, 'Variable': row['Variable'], 'Value':row['Value']})\n",
    "        last_row = row\n",
    "        count = count + 1\n",
    "    var_names = var_names.append(var_names_dict)\n",
    "    return var_names\n",
    "    "
   ]
  },
  {
   "cell_type": "code",
   "execution_count": 10,
   "metadata": {},
   "outputs": [],
   "source": [
    "hh_var_names = make_codebook(codebook_hh)\n",
    "person_var_names = make_codebook(codebook_person)\n",
    "vehicle_var_names = make_codebook(codebook_vehicle)\n",
    "trip_var_names = make_codebook(codebook_trip)"
   ]
  },
  {
   "cell_type": "code",
   "execution_count": 11,
   "metadata": {},
   "outputs": [
    {
     "data": {
      "text/html": [
       "<div>\n",
       "<style scoped>\n",
       "    .dataframe tbody tr th:only-of-type {\n",
       "        vertical-align: middle;\n",
       "    }\n",
       "\n",
       "    .dataframe tbody tr th {\n",
       "        vertical-align: top;\n",
       "    }\n",
       "\n",
       "    .dataframe thead th {\n",
       "        text-align: right;\n",
       "    }\n",
       "</style>\n",
       "<table border=\"1\" class=\"dataframe\">\n",
       "  <thead>\n",
       "    <tr style=\"text-align: right;\">\n",
       "      <th></th>\n",
       "      <th>Field</th>\n",
       "      <th>Variable</th>\n",
       "      <th>Value</th>\n",
       "    </tr>\n",
       "  </thead>\n",
       "  <tbody>\n",
       "    <tr>\n",
       "      <th>0</th>\n",
       "      <td>hhgroup</td>\n",
       "      <td>1.0</td>\n",
       "      <td>rMove</td>\n",
       "    </tr>\n",
       "    <tr>\n",
       "      <th>1</th>\n",
       "      <td>hhgroup</td>\n",
       "      <td>2.0</td>\n",
       "      <td>rSurvey</td>\n",
       "    </tr>\n",
       "    <tr>\n",
       "      <th>2</th>\n",
       "      <td>sample_segment</td>\n",
       "      <td>1.0</td>\n",
       "      <td>PSRC - Regular-Low</td>\n",
       "    </tr>\n",
       "    <tr>\n",
       "      <th>3</th>\n",
       "      <td>sample_segment</td>\n",
       "      <td>2.0</td>\n",
       "      <td>PSRC - Regular-Medium</td>\n",
       "    </tr>\n",
       "    <tr>\n",
       "      <th>4</th>\n",
       "      <td>sample_segment</td>\n",
       "      <td>3.0</td>\n",
       "      <td>PSRC - Regular-High</td>\n",
       "    </tr>\n",
       "  </tbody>\n",
       "</table>\n",
       "</div>"
      ],
      "text/plain": [
       "            Field  Variable                  Value\n",
       "0         hhgroup       1.0                  rMove\n",
       "1         hhgroup       2.0                rSurvey\n",
       "2  sample_segment       1.0     PSRC - Regular-Low\n",
       "3  sample_segment       2.0  PSRC - Regular-Medium\n",
       "4  sample_segment       3.0    PSRC - Regular-High"
      ]
     },
     "execution_count": 11,
     "metadata": {},
     "output_type": "execute_result"
    }
   ],
   "source": [
    "hh_var_names.head()"
   ]
  },
  {
   "cell_type": "code",
   "execution_count": 12,
   "metadata": {},
   "outputs": [],
   "source": [
    "# join the codebook to the variables??\n",
    "def merge_hh_person_trip(hh, person,trip):\n",
    "    hh_person =pd.merge(hh, person, on= 'hhid', suffixes=['', 'person'], how ='right')\n",
    "    hh_person_trip = pd.merge(hh_person, trip, on= ['hhid', 'personid'], suffixes=['','trip'], how ='right')\n",
    "    return hh_person_trip\n",
    "\n",
    "def merge_hh_person(hh, person):\n",
    "    hh_person =pd.merge(hh, person, on= 'hhid', suffixes=['', 'person'], how ='right')\n",
    "    return hh_person\n",
    "\n",
    "person_detail = merge_hh_person(hh, person)\n",
    "trip_detail = merge_hh_person_trip(hh, person, trip)"
   ]
  },
  {
   "cell_type": "code",
   "execution_count": 13,
   "metadata": {},
   "outputs": [],
   "source": [
    "drive_trips = trip_detail.loc[(trip_detail['mode_1']>2)& (trip_detail['mode_1']<23)]"
   ]
  },
  {
   "cell_type": "code",
   "execution_count": 14,
   "metadata": {},
   "outputs": [
    {
     "name": "stderr",
     "output_type": "stream",
     "text": [
      "C:\\Users\\SChildress\\AppData\\Local\\Continuum\\anaconda3\\lib\\site-packages\\ipykernel_launcher.py:2: SettingWithCopyWarning: \n",
      "A value is trying to be set on a copy of a slice from a DataFrame.\n",
      "Try using .loc[row_indexer,col_indexer] = value instead\n",
      "\n",
      "See the caveats in the documentation: http://pandas.pydata.org/pandas-docs/stable/indexing.html#indexing-view-versus-copy\n",
      "  \n",
      "C:\\Users\\SChildress\\AppData\\Local\\Continuum\\anaconda3\\lib\\site-packages\\ipykernel_launcher.py:3: SettingWithCopyWarning: \n",
      "A value is trying to be set on a copy of a slice from a DataFrame.\n",
      "Try using .loc[row_indexer,col_indexer] = value instead\n",
      "\n",
      "See the caveats in the documentation: http://pandas.pydata.org/pandas-docs/stable/indexing.html#indexing-view-versus-copy\n",
      "  This is separate from the ipykernel package so we can avoid doing imports until\n"
     ]
    }
   ],
   "source": [
    "\n",
    "drive_trips['origin_seattle'] = 'not origin Seattle'\n",
    "drive_trips['destination_seattle'] = 'not destination Seattle'"
   ]
  },
  {
   "cell_type": "code",
   "execution_count": 15,
   "metadata": {},
   "outputs": [],
   "source": [
    "sov_trips = drive_trips.loc[drive_trips['travelers_total']==1]"
   ]
  },
  {
   "cell_type": "code",
   "execution_count": 16,
   "metadata": {},
   "outputs": [],
   "source": [
    "hov_trips = drive_trips.loc[drive_trips['travelers_total']>1]"
   ]
  },
  {
   "cell_type": "code",
   "execution_count": 17,
   "metadata": {},
   "outputs": [
    {
     "name": "stderr",
     "output_type": "stream",
     "text": [
      "C:\\Users\\SChildress\\AppData\\Local\\Continuum\\anaconda3\\lib\\site-packages\\pandas\\core\\indexing.py:543: SettingWithCopyWarning: \n",
      "A value is trying to be set on a copy of a slice from a DataFrame.\n",
      "Try using .loc[row_indexer,col_indexer] = value instead\n",
      "\n",
      "See the caveats in the documentation: http://pandas.pydata.org/pandas-docs/stable/indexing.html#indexing-view-versus-copy\n",
      "  self.obj[item] = s\n"
     ]
    }
   ],
   "source": [
    "hov_trips.loc[(hov_trips['o_puma10']>=11601) & (hov_trips['o_puma10']<=11605), 'origin_seattle']= 'origin in Seattle'"
   ]
  },
  {
   "cell_type": "code",
   "execution_count": 18,
   "metadata": {},
   "outputs": [
    {
     "name": "stderr",
     "output_type": "stream",
     "text": [
      "C:\\Users\\SChildress\\AppData\\Local\\Continuum\\anaconda3\\lib\\site-packages\\ipykernel_launcher.py:4: SettingWithCopyWarning: \n",
      "A value is trying to be set on a copy of a slice from a DataFrame.\n",
      "Try using .loc[row_indexer,col_indexer] = value instead\n",
      "\n",
      "See the caveats in the documentation: http://pandas.pydata.org/pandas-docs/stable/indexing.html#indexing-view-versus-copy\n",
      "  after removing the cwd from sys.path.\n",
      "C:\\Users\\SChildress\\AppData\\Local\\Continuum\\anaconda3\\lib\\site-packages\\ipykernel_launcher.py:5: SettingWithCopyWarning: \n",
      "A value is trying to be set on a copy of a slice from a DataFrame.\n",
      "Try using .loc[row_indexer,col_indexer] = value instead\n",
      "\n",
      "See the caveats in the documentation: http://pandas.pydata.org/pandas-docs/stable/indexing.html#indexing-view-versus-copy\n",
      "  \"\"\"\n"
     ]
    }
   ],
   "source": [
    "# Seattle PUMAs 11603, 11602, 11601, 11604, 11605\n",
    "# that indicates what percentage of workday single-occupant vehicle travel in and out of Seattle originates within the City vs. from elsewhere in the region.\n",
    "\n",
    "sov_trips['origin_seattle'] = 'not origin Seattle'\n",
    "sov_trips['destination_seattle'] = 'not destination Seattle'"
   ]
  },
  {
   "cell_type": "code",
   "execution_count": 19,
   "metadata": {},
   "outputs": [],
   "source": [
    "sov_trips.loc[(sov_trips['o_puma10']>=11601) & (sov_trips['o_puma10']<=11605), 'origin_seattle']= 'origin in Seattle'\n"
   ]
  },
  {
   "cell_type": "code",
   "execution_count": 20,
   "metadata": {},
   "outputs": [],
   "source": [
    "sov_trips.loc[(sov_trips['d_puma10']>=11601) & (sov_trips['d_puma10']<=11605), 'destination_seattle']= 'destination in Seattle'"
   ]
  },
  {
   "cell_type": "code",
   "execution_count": 21,
   "metadata": {},
   "outputs": [
    {
     "name": "stderr",
     "output_type": "stream",
     "text": [
      "C:\\Users\\SChildress\\AppData\\Local\\Continuum\\anaconda3\\lib\\site-packages\\pandas\\io\\clipboards.py:127: FutureWarning: The signature of `Series.to_csv` was aligned to that of `DataFrame.to_csv`, and argument 'header' will change its default value from False to True: please pass an explicit value to suppress this warning.\n",
      "  obj.to_csv(buf, sep=sep, encoding='utf-8', **kwargs)\n"
     ]
    }
   ],
   "source": [
    "sov_trips.groupby(['origin_seattle', 'd_rgcname']).sum()['trip_weight_revised'].to_clipboard()"
   ]
  }
 ],
 "metadata": {
  "anaconda-cloud": {},
  "kernelspec": {
   "display_name": "Python 3",
   "language": "python",
   "name": "python3"
  },
  "language_info": {
   "codemirror_mode": {
    "name": "ipython",
    "version": 3
   },
   "file_extension": ".py",
   "mimetype": "text/x-python",
   "name": "python",
   "nbconvert_exporter": "python",
   "pygments_lexer": "ipython3",
   "version": "3.7.3"
  }
 },
 "nbformat": 4,
 "nbformat_minor": 1
}
