{
 "cells": [
  {
   "cell_type": "code",
   "execution_count": 1,
   "metadata": {},
   "outputs": [],
   "source": [
    "import pandas as pd\n",
    "import pyodbc\n",
    "# File names and directories\n",
    "survey_dir = 'J:/Projects/Surveys/HHTravel/Survey2019/Data/PSRC_2019_HTS_Deliverable_022020/Weighted_Data_022020/'\n",
    "hh_file_name = '1_household.csv'\n",
    "person_file_name = '2_person.csv'\n",
    "vehicle_file_name = '3_vehicle.csv'\n",
    "day_file_name = '4_day.csv'\n",
    "trip_file_name = '5_trip.csv'\n",
    "\n",
    "#sql_conn = pyodbc.connect('DRIVER={SQL Server}; SERVER=AWS-PROD-SQL\\COHO;DATABASE=HouseholdTravelSurvey2019;trusted_connection=true')\n",
    "#trip_table_name = \"HHSurvey.Trip\"\n",
    "#trip  = pd.read_sql('SELECT * FROM '+trip_table_name, con = sql_conn)\n",
    "\n",
    "hh_weight_2017 = 'hh_wt_revised'\n",
    "hh_weight_2019 = 'hh_wt_2019'\n",
    "hh_weight_combined = 'hh_wt_combined'\n",
    "hh_weight_names =[hh_weight_2017, hh_weight_2019, hh_weight_combined]\n",
    "\n",
    "day_weight_2017 = 'hh_day_wt_revised'\n",
    "day_weight_2019 = 'hh_day_wt_2019'\n",
    "day_weight_combined = 'hh_day_wt_combined'\n",
    "day_weight_names =[day_weight_2017, day_weight_2019, day_weight_combined]\n",
    "\n",
    "trip_weight_2017 = 'trip_weight_revised'\n",
    "trip_weight_2019 ='trip_wt_2019'\n",
    "trip_weight_combined = 'trip_wt_combined'\n",
    "trip_weight_names =[trip_weight_2017, trip_weight_2019, trip_weight_combined]\n",
    "\n",
    "codebook_file = 'Combined_Codebook_022020.xlsx'\n",
    "output_file_hh = 'C:/Users/SChildress/Documents/GitHub/travel-studies/2019/summary/hh_summary.xlsx'\n",
    "output_file_person= 'C:/Users/SChildress/Documents/GitHub/travel-studies/2019/summary/person_summary.xlsx'\n",
    "output_file_day= 'C:/Users/SChildress/Documents/GitHub/travel-studies/2019/summary/day_summary.xlsx'\n",
    "output_file_trip= 'C:/Users/SChildress/Documents/GitHub/travel-studies/2019/summary/trip_summary.xlsx'"
   ]
  },
  {
   "cell_type": "code",
   "execution_count": 2,
   "metadata": {},
   "outputs": [],
   "source": [
    "def merge_hh_person_trip(hh,person,trip):\n",
    "    hh_person =pd.merge(hh, person, on= 'hhid', suffixes=['', 'person'], how ='right')\n",
    "    hh_person_trip = pd.merge(hh_person, trip,on='personid', suffixes=['','trip'], how ='right')\n",
    "    return hh_person_trip\n",
    "\n",
    "def merge_hh_person(hh, person):\n",
    "    hh_person =pd.merge(hh, person, on= 'hhid', suffixes=['', 'person'], how ='right')\n",
    "    return hh_person\n"
   ]
  },
  {
   "cell_type": "code",
   "execution_count": 3,
   "metadata": {},
   "outputs": [
    {
     "name": "stderr",
     "output_type": "stream",
     "text": [
      "C:\\Users\\SChildress\\AppData\\Local\\Continuum\\anaconda3\\lib\\site-packages\\IPython\\core\\interactiveshell.py:3049: DtypeWarning: Columns (8,44,45,53,56,57,65,72,73,81) have mixed types. Specify dtype option on import or set low_memory=False.\n",
      "  interactivity=interactivity, compiler=compiler, result=result)\n",
      "C:\\Users\\SChildress\\AppData\\Local\\Continuum\\anaconda3\\lib\\site-packages\\IPython\\core\\interactiveshell.py:3049: DtypeWarning: Columns (0,10,11,20,24,37,39,106,112,118,120,121,128) have mixed types. Specify dtype option on import or set low_memory=False.\n",
      "  interactivity=interactivity, compiler=compiler, result=result)\n",
      "C:\\Users\\SChildress\\AppData\\Local\\Continuum\\anaconda3\\lib\\site-packages\\IPython\\core\\interactiveshell.py:3049: DtypeWarning: Columns (14,15,21,23,34,45) have mixed types. Specify dtype option on import or set low_memory=False.\n",
      "  interactivity=interactivity, compiler=compiler, result=result)\n"
     ]
    }
   ],
   "source": [
    "hh = pd.read_csv(survey_dir+hh_file_name, encoding = 'latin-1')\n",
    "person= pd.read_csv(survey_dir+person_file_name, encoding = 'latin-1')\n",
    "trip = pd.read_csv(survey_dir+trip_file_name, encoding = 'latin-1')\n",
    "day= pd.read_csv(survey_dir+day_file_name, encoding='latin-1')"
   ]
  },
  {
   "cell_type": "code",
   "execution_count": 4,
   "metadata": {},
   "outputs": [
    {
     "name": "stderr",
     "output_type": "stream",
     "text": [
      "C:\\Users\\SChildress\\AppData\\Local\\Continuum\\anaconda3\\lib\\site-packages\\pandas\\util\\_decorators.py:188: FutureWarning: The `sheetname` keyword is deprecated, use `sheet_name` instead\n",
      "  return func(*args, **kwargs)\n"
     ]
    }
   ],
   "source": [
    "codebook_values = pd.read_excel(survey_dir+codebook_file, sheetname='Values')\n",
    "codebook_variables =pd.read_excel(survey_dir+codebook_file, sheet_name='Data Overview')"
   ]
  },
  {
   "cell_type": "code",
   "execution_count": 5,
   "metadata": {},
   "outputs": [],
   "source": [
    "person_detail = merge_hh_person(hh, person)\n",
    "trip_detail = merge_hh_person_trip(hh, person, trip)"
   ]
  },
  {
   "cell_type": "code",
   "execution_count": 6,
   "metadata": {},
   "outputs": [
    {
     "data": {
      "text/plain": [
       "3846534.75774668"
      ]
     },
     "execution_count": 6,
     "metadata": {},
     "output_type": "execute_result"
    }
   ],
   "source": [
    "person_detail['hh_wt_revised'].sum()"
   ]
  },
  {
   "cell_type": "code",
   "execution_count": 7,
   "metadata": {},
   "outputs": [
    {
     "data": {
      "text/plain": [
       "4051429.1495613307"
      ]
     },
     "execution_count": 7,
     "metadata": {},
     "output_type": "execute_result"
    }
   ],
   "source": [
    "person_detail['hh_wt_2019'].sum()"
   ]
  },
  {
   "cell_type": "code",
   "execution_count": 8,
   "metadata": {},
   "outputs": [
    {
     "data": {
      "text/plain": [
       "4050211.7293452667"
      ]
     },
     "execution_count": 8,
     "metadata": {},
     "output_type": "execute_result"
    }
   ],
   "source": [
    "person_detail['hh_wt_combined'].sum()"
   ]
  },
  {
   "cell_type": "code",
   "execution_count": 9,
   "metadata": {},
   "outputs": [
    {
     "data": {
      "text/plain": [
       "17700251.336261034"
      ]
     },
     "execution_count": 9,
     "metadata": {},
     "output_type": "execute_result"
    }
   ],
   "source": [
    "trip_detail['trip_wt_combined'].sum()"
   ]
  },
  {
   "cell_type": "code",
   "execution_count": 10,
   "metadata": {},
   "outputs": [
    {
     "data": {
      "text/plain": [
       "17774204.311235707"
      ]
     },
     "execution_count": 10,
     "metadata": {},
     "output_type": "execute_result"
    }
   ],
   "source": [
    "trip_detail['trip_wt_2019'].sum()"
   ]
  },
  {
   "cell_type": "code",
   "execution_count": 11,
   "metadata": {},
   "outputs": [],
   "source": [
    "def compare_weighted_table(codebook_values, dataset, item, weight_names):\n",
    "    dataset=dataset.dropna(subset=[item]).reset_index()\n",
    "    grouped_total=dataset.groupby(item).sum()[weight_names].reset_index()\n",
    "    for weight_name in weight_names:\n",
    "        grouped_sum = grouped_total.sum()[weight_name]\n",
    "        grouped_total[weight_name+'_share']=grouped_total[weight_name]/grouped_sum\n",
    "   \n",
    "\n",
    "   \n",
    "    values=codebook_values.loc[codebook_values['variable']==item]\n",
    "    variable =codebook_variables.loc[codebook_variables['variable']==item, 'description'].values[0]\n",
    "    missing_values_df = pd.DataFrame({'variable': [item, item, item],'value':[-9999,-9998, 995], 'label':\n",
    "                                     ['Missing:Technical Error', 'Missing: Non-response', 'Missing:Skip logic']})\n",
    "    values = values.append(missing_values_df)\n",
    "    summary=pd.merge(values, grouped_total,left_on='value', right_on=item)\n",
    "    summary['variable']=variable\n",
    "\n",
    "    return summary"
   ]
  },
  {
   "cell_type": "code",
   "execution_count": 13,
   "metadata": {},
   "outputs": [],
   "source": [
    "hh_vars =['final_home_rgcnum', 'hhsize', 'hhincome_broad', 'prev_res_factors_housing_cost', 'prev_res_factors_income_change']\n",
    "person_vars=['age', 'gender', 'worker', 'race_afam', 'race_asian', 'mode_freq_1', 'mode_freq_2', 'av_concern_1']\n",
    "day_vars =['delivery_pkgs_freq', 'delivery_grocery_freq', 'delivery_food_freq','delivery_work_freq','online_shop_time']\n",
    "trip_vars =['d_purpose', 'd_purp_cat', 'mode_1', 'mode_acc' ]\n",
    "\n",
    "with pd.ExcelWriter(output_file_hh) as writer:  \n",
    "    for hh_var in hh_vars:\n",
    "        compare_weighted_table(codebook_values, hh, hh_var, hh_weight_names).to_excel(writer,sheet_name=hh_var)\n",
    "        \n",
    "with pd.ExcelWriter(output_file_person) as writer:  \n",
    "    for person_var in person_vars:\n",
    "        compare_weighted_table(codebook_values, person, person_var,hh_weight_names).to_excel(writer,sheet_name=person_var)\n",
    "        \n",
    "with pd.ExcelWriter(output_file_day) as writer:  \n",
    "    for day_var in day_vars:\n",
    "        compare_weighted_table(codebook_values, day, day_var, day_weight_names).to_excel(writer,sheet_name=day_var)\n",
    "        \n",
    "with pd.ExcelWriter(output_file_trip) as writer:  \n",
    "    for trip_var in trip_vars:\n",
    "        compare_weighted_table(codebook_values, trip_detail, trip_var, trip_weight_names).to_excel(writer,sheet_name=trip_var)"
   ]
  },
  {
   "cell_type": "code",
   "execution_count": null,
   "metadata": {},
   "outputs": [],
   "source": [
    "compare_weighted_table(codebook_values, person, 'commute_mode', hh_weight_names).to_clipboard()"
   ]
  },
  {
   "cell_type": "code",
   "execution_count": null,
   "metadata": {},
   "outputs": [],
   "source": [
    "pd.DataFrame(trip.columns).to_clipboard()"
   ]
  },
  {
   "cell_type": "code",
   "execution_count": null,
   "metadata": {},
   "outputs": [],
   "source": [
    "person_trip = merge_hh_person_trip(hh,person,trip)"
   ]
  },
  {
   "cell_type": "code",
   "execution_count": null,
   "metadata": {},
   "outputs": [],
   "source": [
    "work_trips=person_trip[(person_trip['o_purpose']==1) & (person_trip['d_purpose']==10)]"
   ]
  },
  {
   "cell_type": "code",
   "execution_count": null,
   "metadata": {},
   "outputs": [],
   "source": [
    "grouped_total=work_trips.groupby(['commute_mode','mode_1']).sum()['trip_weight_revised'].reset_index()"
   ]
  },
  {
   "cell_type": "code",
   "execution_count": null,
   "metadata": {},
   "outputs": [],
   "source": [
    "def lookup_codes(grouped_total, item):\n",
    "    values=codebook_values.loc[codebook_values['variable']==item]\n",
    "    variable =codebook_variables.loc[codebook_variables['variable']==item, 'description'].values[0]\n",
    "    missing_values_df = pd.DataFrame({'variable': [item, item, item],'value':[-9999,-9998, 995], 'label':\n",
    "                                         ['Missing:Technical Error', 'Missing: Non-response', 'Missing:Skip logic']})\n",
    "    values = values.append(missing_values_df)\n",
    "    summary=pd.merge(values, grouped_total,left_on='value', right_on=item)\n",
    "    summary[item+'_variable']=variable\n",
    "    return summary"
   ]
  },
  {
   "cell_type": "code",
   "execution_count": null,
   "metadata": {},
   "outputs": [],
   "source": [
    "commute_mode_df = lookup_codes(grouped_total,'commute_mode')\n",
    "commute_trip_df = lookup_codes(commute_mode_df, 'mode_1')"
   ]
  },
  {
   "cell_type": "code",
   "execution_count": null,
   "metadata": {},
   "outputs": [],
   "source": [
    "commute_trip_df.to_clipboard()"
   ]
  },
  {
   "cell_type": "code",
   "execution_count": 15,
   "metadata": {},
   "outputs": [
    {
     "data": {
      "text/plain": [
       "delivery_pkgs_freq\n",
       "0.0      8.115029e+05\n",
       "1.0      2.875785e+05\n",
       "2.0      4.820425e+04\n",
       "3.0      1.533521e+04\n",
       "4.0      2.598697e+02\n",
       "5.0      9.389906e+01\n",
       "995.0    2.888454e+06\n",
       "Name: hh_day_wt_2019, dtype: float64"
      ]
     },
     "execution_count": 15,
     "metadata": {},
     "output_type": "execute_result"
    }
   ],
   "source": [
    "day.groupby(['delivery_pkgs_freq']).sum()[day_weight_2019]"
   ]
  },
  {
   "cell_type": "code",
   "execution_count": null,
   "metadata": {},
   "outputs": [],
   "source": []
  }
 ],
 "metadata": {
  "kernelspec": {
   "display_name": "Python 3",
   "language": "python",
   "name": "python3"
  },
  "language_info": {
   "codemirror_mode": {
    "name": "ipython",
    "version": 3
   },
   "file_extension": ".py",
   "mimetype": "text/x-python",
   "name": "python",
   "nbconvert_exporter": "python",
   "pygments_lexer": "ipython3",
   "version": "3.7.3"
  }
 },
 "nbformat": 4,
 "nbformat_minor": 2
}
