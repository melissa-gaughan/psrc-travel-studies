{
 "cells": [
  {
   "cell_type": "code",
   "execution_count": 1,
   "metadata": {},
   "outputs": [],
   "source": [
    "import pandas as pd\n",
    "import pyodbc\n",
    "# File names and directories\n",
    "#survey_dir = 'J:/Projects/Surveys/HHTravel/Survey2019/Data/Dataset_24_January_2020/PSRC_2019_HTS_Deliverable_012420/PSRC_2019_HTS_Deliverable_012420/Weighted_Dataset_012420/'\n",
    "#hh_file_name = '1_household.csv'\n",
    "#person_file_name = '2_person.csv'\n",
    "#vehicle_file_name = '3_vehicle.csv'\n",
    "#day_file_name = '4_day.csv'\n",
    "#trip_file_name = '5_trip.csv'\n",
    "\n",
    "sql_conn = pyodbc.connect('DRIVER={SQL Server}; SERVER=AWS-PROD-SQL\\COHO;DATABASE=HouseholdTravelSurvey2019;trusted_connection=true')\n",
    "trip_table_name = \"HHSurvey.Trip\"\n",
    "trip  = pd.read_sql('SELECT * FROM '+trip_table_name, con = sql_conn)\n",
    "\n",
    "hh_weight_2017 = 'hh_wt_revised'\n",
    "hh_weight_2019 = 'hh_wt_2019'\n",
    "hh_weight_combined = 'hh_wt_combined'\n",
    "hh_weight_names =[hh_weight_2017, hh_weight_2019, hh_weight_combined]\n",
    "\n",
    "day_weight_2017 = 'hh_day_wt_revised'\n",
    "day_weight_2019 = 'hh_day_wt_2019'\n",
    "day_weight_combined = 'hh_day_wt_combined'\n",
    "day_weight_names =[day_weight_2017, day_weight_2019, day_weight_combined]\n",
    "\n",
    "trip_weight_2017 = 'trip_weight_2017_new'\n",
    "trip_weight_2019 ='trip_weight_2019'\n",
    "trip_weight_combined = 'trip_weight_combined'\n",
    "trip_weight_names =[trip_weight_2017, trip_weight_2019, trip_weight_combined]\n",
    "\n",
    "codebook_file = 'Combined_Codebook_012420.xlsx'\n",
    "output_file_hh = 'C:/Users/SChildress/Documents/GitHub/travel-studies/2019/summary/hh_summary_elmer.xlsx'\n",
    "output_file_person= 'C:/Users/SChildress/Documents/GitHub/travel-studies/2019/summary/person_summary_elmer.xlsx'\n",
    "output_file_day= 'C:/Users/SChildress/Documents/GitHub/travel-studies/2019/summary/day_summary_elmer.xlsx'\n",
    "output_file_trip= 'C:/Users/SChildress/Documents/GitHub/travel-studies/2019/summary/trip_summary_elmer.xlsx'"
   ]
  },
  {
   "cell_type": "code",
   "execution_count": 2,
   "metadata": {},
   "outputs": [],
   "source": [
    "def merge_hh_person_trip(hh,person,trip):\n",
    "    hh_person =pd.merge(hh, person, on= 'hhid', suffixes=['', 'person'], how ='right')\n",
    "    hh_person_trip = pd.merge(hh_person, trip,on='personid', suffixes=['','trip'], how ='right')\n",
    "    return hh_person_trip\n",
    "\n",
    "def merge_hh_person(hh, person):\n",
    "    hh_person =pd.merge(hh, person, on= 'hhid', suffixes=['', 'person'], how ='right')\n",
    "    return hh_person\n"
   ]
  },
  {
   "cell_type": "code",
   "execution_count": 3,
   "metadata": {},
   "outputs": [
    {
     "name": "stderr",
     "output_type": "stream",
     "text": [
      "C:\\Users\\SChildress\\AppData\\Local\\Continuum\\anaconda3\\lib\\site-packages\\IPython\\core\\interactiveshell.py:3049: DtypeWarning: Columns (8,44,45,53,56,57,65,72,73,81) have mixed types. Specify dtype option on import or set low_memory=False.\n",
      "  interactivity=interactivity, compiler=compiler, result=result)\n",
      "C:\\Users\\SChildress\\AppData\\Local\\Continuum\\anaconda3\\lib\\site-packages\\IPython\\core\\interactiveshell.py:3049: DtypeWarning: Columns (0,10,11,20,24,37,39,106,112,118,120,121,128) have mixed types. Specify dtype option on import or set low_memory=False.\n",
      "  interactivity=interactivity, compiler=compiler, result=result)\n",
      "C:\\Users\\SChildress\\AppData\\Local\\Continuum\\anaconda3\\lib\\site-packages\\IPython\\core\\interactiveshell.py:3049: DtypeWarning: Columns (14,15,21,23,34,45) have mixed types. Specify dtype option on import or set low_memory=False.\n",
      "  interactivity=interactivity, compiler=compiler, result=result)\n"
     ]
    }
   ],
   "source": [
    "hh = pd.read_csv(survey_dir+hh_file_name, encoding = 'latin-1')\n",
    "person= pd.read_csv(survey_dir+person_file_name, encoding = 'latin-1')\n",
    "trip = pd.read_csv(survey_dir+trip_file_name, encoding = 'latin-1')\n",
    "day= pd.read_csv(survey_dir+day_file_name, encoding='latin-1')"
   ]
  },
  {
   "cell_type": "code",
   "execution_count": 4,
   "metadata": {},
   "outputs": [
    {
     "name": "stderr",
     "output_type": "stream",
     "text": [
      "C:\\Users\\SChildress\\AppData\\Local\\Continuum\\anaconda3\\lib\\site-packages\\pandas\\util\\_decorators.py:188: FutureWarning: The `sheetname` keyword is deprecated, use `sheet_name` instead\n",
      "  return func(*args, **kwargs)\n"
     ]
    }
   ],
   "source": [
    "codebook_values = pd.read_excel(survey_dir+codebook_file, sheetname='Values')\n",
    "codebook_variables =pd.read_excel(survey_dir+codebook_file, sheet_name='Data Overview')"
   ]
  },
  {
   "cell_type": "code",
   "execution_count": 5,
   "metadata": {},
   "outputs": [],
   "source": [
    "person_detail = merge_hh_person(hh, person)\n",
    "trip_detail = merge_hh_person_trip(hh, person, trip)"
   ]
  },
  {
   "cell_type": "code",
   "execution_count": 6,
   "metadata": {},
   "outputs": [],
   "source": [
    "trip_detail['trip_weight_combined'] = trip_detail['hh_day_wt_combined']*trip_detail['trip_wt']\n",
    "trip_detail['trip_weight_2017_new'] =trip_detail['hh_day_wt_revised']*trip_detail['trip_wt']\n",
    "trip_detail['trip_weight_2019'] =trip_detail['hh_day_wt_2019']*trip_detail['trip_wt']"
   ]
  },
  {
   "cell_type": "code",
   "execution_count": 18,
   "metadata": {},
   "outputs": [
    {
     "data": {
      "text/html": [
       "<div>\n",
       "<style scoped>\n",
       "    .dataframe tbody tr th:only-of-type {\n",
       "        vertical-align: middle;\n",
       "    }\n",
       "\n",
       "    .dataframe tbody tr th {\n",
       "        vertical-align: top;\n",
       "    }\n",
       "\n",
       "    .dataframe thead th {\n",
       "        text-align: right;\n",
       "    }\n",
       "</style>\n",
       "<table border=\"1\" class=\"dataframe\">\n",
       "  <thead>\n",
       "    <tr style=\"text-align: right;\">\n",
       "      <th></th>\n",
       "      <th>recid</th>\n",
       "      <th>hhid</th>\n",
       "      <th>survey_year</th>\n",
       "      <th>cityofredmond</th>\n",
       "      <th>cityofseattle</th>\n",
       "      <th>psrc</th>\n",
       "      <th>hhgroup</th>\n",
       "      <th>sample_segment</th>\n",
       "      <th>sample_lat</th>\n",
       "      <th>sample_lng</th>\n",
       "      <th>...</th>\n",
       "      <th>user_added</th>\n",
       "      <th>analyst_split_loop</th>\n",
       "      <th>quality_flag</th>\n",
       "      <th>nwkdaystrip</th>\n",
       "      <th>hh_day_wt_revisedtrip</th>\n",
       "      <th>trip_weight_revised</th>\n",
       "      <th>trip_wt</th>\n",
       "      <th>trip_weight_combined</th>\n",
       "      <th>trip_weight_2017_new</th>\n",
       "      <th>trip_weight_2019</th>\n",
       "    </tr>\n",
       "  </thead>\n",
       "  <tbody>\n",
       "    <tr>\n",
       "      <th>0</th>\n",
       "      <td>NaN</td>\n",
       "      <td>17100005</td>\n",
       "      <td>2017</td>\n",
       "      <td>1.0</td>\n",
       "      <td>0</td>\n",
       "      <td>0</td>\n",
       "      <td>2</td>\n",
       "      <td>23</td>\n",
       "      <td>NaN</td>\n",
       "      <td>NaN</td>\n",
       "      <td>...</td>\n",
       "      <td>NaN</td>\n",
       "      <td>NaN</td>\n",
       "      <td>NaN</td>\n",
       "      <td>1.0</td>\n",
       "      <td>24.441709</td>\n",
       "      <td>28.107965</td>\n",
       "      <td>1.377205</td>\n",
       "      <td>50.484257</td>\n",
       "      <td>33.661240</td>\n",
       "      <td>0.0</td>\n",
       "    </tr>\n",
       "    <tr>\n",
       "      <th>1</th>\n",
       "      <td>NaN</td>\n",
       "      <td>17100005</td>\n",
       "      <td>2017</td>\n",
       "      <td>1.0</td>\n",
       "      <td>0</td>\n",
       "      <td>0</td>\n",
       "      <td>2</td>\n",
       "      <td>23</td>\n",
       "      <td>NaN</td>\n",
       "      <td>NaN</td>\n",
       "      <td>...</td>\n",
       "      <td>NaN</td>\n",
       "      <td>NaN</td>\n",
       "      <td>NaN</td>\n",
       "      <td>1.0</td>\n",
       "      <td>24.441709</td>\n",
       "      <td>28.107965</td>\n",
       "      <td>2.000000</td>\n",
       "      <td>73.314085</td>\n",
       "      <td>48.883418</td>\n",
       "      <td>0.0</td>\n",
       "    </tr>\n",
       "    <tr>\n",
       "      <th>2</th>\n",
       "      <td>NaN</td>\n",
       "      <td>17100005</td>\n",
       "      <td>2017</td>\n",
       "      <td>1.0</td>\n",
       "      <td>0</td>\n",
       "      <td>0</td>\n",
       "      <td>2</td>\n",
       "      <td>23</td>\n",
       "      <td>NaN</td>\n",
       "      <td>NaN</td>\n",
       "      <td>...</td>\n",
       "      <td>NaN</td>\n",
       "      <td>NaN</td>\n",
       "      <td>NaN</td>\n",
       "      <td>1.0</td>\n",
       "      <td>24.441709</td>\n",
       "      <td>28.107965</td>\n",
       "      <td>1.377205</td>\n",
       "      <td>50.484257</td>\n",
       "      <td>33.661240</td>\n",
       "      <td>0.0</td>\n",
       "    </tr>\n",
       "    <tr>\n",
       "      <th>3</th>\n",
       "      <td>NaN</td>\n",
       "      <td>17100005</td>\n",
       "      <td>2017</td>\n",
       "      <td>1.0</td>\n",
       "      <td>0</td>\n",
       "      <td>0</td>\n",
       "      <td>2</td>\n",
       "      <td>23</td>\n",
       "      <td>NaN</td>\n",
       "      <td>NaN</td>\n",
       "      <td>...</td>\n",
       "      <td>NaN</td>\n",
       "      <td>NaN</td>\n",
       "      <td>NaN</td>\n",
       "      <td>1.0</td>\n",
       "      <td>24.441709</td>\n",
       "      <td>28.107965</td>\n",
       "      <td>1.377205</td>\n",
       "      <td>50.484257</td>\n",
       "      <td>33.661240</td>\n",
       "      <td>0.0</td>\n",
       "    </tr>\n",
       "    <tr>\n",
       "      <th>4</th>\n",
       "      <td>NaN</td>\n",
       "      <td>17100005</td>\n",
       "      <td>2017</td>\n",
       "      <td>1.0</td>\n",
       "      <td>0</td>\n",
       "      <td>0</td>\n",
       "      <td>2</td>\n",
       "      <td>23</td>\n",
       "      <td>NaN</td>\n",
       "      <td>NaN</td>\n",
       "      <td>...</td>\n",
       "      <td>NaN</td>\n",
       "      <td>NaN</td>\n",
       "      <td>NaN</td>\n",
       "      <td>1.0</td>\n",
       "      <td>24.441709</td>\n",
       "      <td>28.107965</td>\n",
       "      <td>1.377205</td>\n",
       "      <td>50.484257</td>\n",
       "      <td>33.661240</td>\n",
       "      <td>0.0</td>\n",
       "    </tr>\n",
       "  </tbody>\n",
       "</table>\n",
       "<p>5 rows × 389 columns</p>\n",
       "</div>"
      ],
      "text/plain": [
       "   recid      hhid  survey_year  cityofredmond  cityofseattle  psrc  hhgroup  \\\n",
       "0    NaN  17100005         2017            1.0              0     0        2   \n",
       "1    NaN  17100005         2017            1.0              0     0        2   \n",
       "2    NaN  17100005         2017            1.0              0     0        2   \n",
       "3    NaN  17100005         2017            1.0              0     0        2   \n",
       "4    NaN  17100005         2017            1.0              0     0        2   \n",
       "\n",
       "   sample_segment  sample_lat  sample_lng  ... user_added  analyst_split_loop  \\\n",
       "0              23         NaN         NaN  ...        NaN                 NaN   \n",
       "1              23         NaN         NaN  ...        NaN                 NaN   \n",
       "2              23         NaN         NaN  ...        NaN                 NaN   \n",
       "3              23         NaN         NaN  ...        NaN                 NaN   \n",
       "4              23         NaN         NaN  ...        NaN                 NaN   \n",
       "\n",
       "   quality_flag  nwkdaystrip hh_day_wt_revisedtrip  trip_weight_revised  \\\n",
       "0           NaN          1.0             24.441709            28.107965   \n",
       "1           NaN          1.0             24.441709            28.107965   \n",
       "2           NaN          1.0             24.441709            28.107965   \n",
       "3           NaN          1.0             24.441709            28.107965   \n",
       "4           NaN          1.0             24.441709            28.107965   \n",
       "\n",
       "    trip_wt  trip_weight_combined  trip_weight_2017_new  trip_weight_2019  \n",
       "0  1.377205             50.484257             33.661240               0.0  \n",
       "1  2.000000             73.314085             48.883418               0.0  \n",
       "2  1.377205             50.484257             33.661240               0.0  \n",
       "3  1.377205             50.484257             33.661240               0.0  \n",
       "4  1.377205             50.484257             33.661240               0.0  \n",
       "\n",
       "[5 rows x 389 columns]"
      ]
     },
     "execution_count": 18,
     "metadata": {},
     "output_type": "execute_result"
    }
   ],
   "source": [
    "trip_detail.head()"
   ]
  },
  {
   "cell_type": "code",
   "execution_count": 7,
   "metadata": {},
   "outputs": [
    {
     "data": {
      "text/plain": [
       "3846534.75774668"
      ]
     },
     "execution_count": 7,
     "metadata": {},
     "output_type": "execute_result"
    }
   ],
   "source": [
    "person_detail['hh_wt_revised'].sum()"
   ]
  },
  {
   "cell_type": "code",
   "execution_count": 8,
   "metadata": {},
   "outputs": [
    {
     "data": {
      "text/plain": [
       "4000379.576593959"
      ]
     },
     "execution_count": 8,
     "metadata": {},
     "output_type": "execute_result"
    }
   ],
   "source": [
    "person_detail['hh_wt_2019'].sum()"
   ]
  },
  {
   "cell_type": "code",
   "execution_count": 9,
   "metadata": {},
   "outputs": [
    {
     "data": {
      "text/plain": [
       "4038366.9649513243"
      ]
     },
     "execution_count": 9,
     "metadata": {},
     "output_type": "execute_result"
    }
   ],
   "source": [
    "person_detail['hh_wt_combined'].sum()"
   ]
  },
  {
   "cell_type": "code",
   "execution_count": 10,
   "metadata": {},
   "outputs": [
    {
     "data": {
      "text/plain": [
       "20640065.439464726"
      ]
     },
     "execution_count": 10,
     "metadata": {},
     "output_type": "execute_result"
    }
   ],
   "source": [
    "trip_detail['trip_weight_2017_new'].sum()"
   ]
  },
  {
   "cell_type": "code",
   "execution_count": 11,
   "metadata": {},
   "outputs": [
    {
     "data": {
      "text/plain": [
       "22541151.842166528"
      ]
     },
     "execution_count": 11,
     "metadata": {},
     "output_type": "execute_result"
    }
   ],
   "source": [
    "trip_detail['trip_weight_combined'].sum()"
   ]
  },
  {
   "cell_type": "code",
   "execution_count": 12,
   "metadata": {},
   "outputs": [
    {
     "data": {
      "text/plain": [
       "23050450.69337095"
      ]
     },
     "execution_count": 12,
     "metadata": {},
     "output_type": "execute_result"
    }
   ],
   "source": [
    "trip_detail['trip_weight_2019'].sum()"
   ]
  },
  {
   "cell_type": "code",
   "execution_count": 13,
   "metadata": {},
   "outputs": [
    {
     "data": {
      "text/plain": [
       "12359732.697588062"
      ]
     },
     "execution_count": 13,
     "metadata": {},
     "output_type": "execute_result"
    }
   ],
   "source": [
    "trip_detail['trip_weight_revised'].sum()"
   ]
  },
  {
   "cell_type": "code",
   "execution_count": 14,
   "metadata": {},
   "outputs": [],
   "source": [
    "def compare_weighted_table(codebook_values, dataset, item, weight_names):\n",
    "    dataset=dataset.dropna(subset=[item]).reset_index()\n",
    "    grouped_total=dataset.groupby(item).sum()[weight_names].reset_index()\n",
    "    for weight_name in weight_names:\n",
    "        grouped_sum = grouped_total.sum()[weight_name]\n",
    "        grouped_total[weight_name+'_share']=grouped_total[weight_name]/grouped_sum\n",
    "   \n",
    "\n",
    "   \n",
    "    values=codebook_values.loc[codebook_values['variable']==item]\n",
    "    variable =codebook_variables.loc[codebook_variables['variable']==item, 'description'].values[0]\n",
    "    missing_values_df = pd.DataFrame({'variable': [item, item, item],'value':[-9999,-9998, 995], 'label':\n",
    "                                     ['Missing:Technical Error', 'Missing: Non-response', 'Missing:Skip logic']})\n",
    "    values = values.append(missing_values_df)\n",
    "    summary=pd.merge(values, grouped_total,left_on='value', right_on=item)\n",
    "    summary['variable']=variable\n",
    "\n",
    "    return summary"
   ]
  },
  {
   "cell_type": "code",
   "execution_count": 23,
   "metadata": {},
   "outputs": [],
   "source": [
    "hh_vars =['final_home_rgcnum', 'hhsize', 'hhincome_broad', 'prev_res_factors_housing_cost', 'prev_res_factors_income_change']\n",
    "person_vars=['age', 'gender', 'worker', 'race_afam', 'race_asian', 'mode_freq_1', 'mode_freq_2', 'av_concern_1']\n",
    "day_vars =['delivery_pkgs_freq', 'num_trips']\n",
    "trip_vars =['d_purpose', 'd_purp_cat', 'mode_1', 'mode_acc' ]\n",
    "\n",
    "with pd.ExcelWriter(output_file_hh) as writer:  \n",
    "    for hh_var in hh_vars:\n",
    "        compare_weighted_table(codebook_values, hh, hh_var, hh_weight_names).to_excel(writer,sheet_name=hh_var)\n",
    "        \n",
    "with pd.ExcelWriter(output_file_person) as writer:  \n",
    "    for person_var in person_vars:\n",
    "        compare_weighted_table(codebook_values, person, person_var,hh_weight_names).to_excel(writer,sheet_name=person_var)\n",
    "        \n",
    "with pd.ExcelWriter(output_file_day) as writer:  \n",
    "    for day_var in day_vars:\n",
    "        compare_weighted_table(codebook_values, day, day_var, day_weight_names).to_excel(writer,sheet_name=day_var)\n",
    "        \n",
    "with pd.ExcelWriter(output_file_trip) as writer:  \n",
    "    for trip_var in trip_vars:\n",
    "        compare_weighted_table(codebook_values, trip_detail, trip_var, trip_weight_names).to_excel(writer,sheet_name=trip_var)"
   ]
  },
  {
   "cell_type": "code",
   "execution_count": null,
   "metadata": {},
   "outputs": [],
   "source": []
  }
 ],
 "metadata": {
  "kernelspec": {
   "display_name": "Python 3",
   "language": "python",
   "name": "python3"
  },
  "language_info": {
   "codemirror_mode": {
    "name": "ipython",
    "version": 3
   },
   "file_extension": ".py",
   "mimetype": "text/x-python",
   "name": "python",
   "nbconvert_exporter": "python",
   "pygments_lexer": "ipython3",
   "version": "3.7.3"
  }
 },
 "nbformat": 4,
 "nbformat_minor": 2
}
