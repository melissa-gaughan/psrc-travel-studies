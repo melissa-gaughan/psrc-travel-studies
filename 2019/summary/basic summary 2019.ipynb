{
 "cells": [
  {
   "cell_type": "code",
   "execution_count": 1,
   "metadata": {},
   "outputs": [],
   "source": [
    "import pandas as pd\n",
    "import pyodbc\n",
    "# File names and directories\n",
    "survey_dir = 'J:/Projects/Surveys/HHTravel/Survey2019/Data/PSRC_2019_HTS_Deliverable_022020/Weighted_Data_022020/'\n",
    "hh_file_name = '1_household.csv'\n",
    "person_file_name = '2_person.csv'\n",
    "vehicle_file_name = '3_vehicle.csv'\n",
    "day_file_name = '4_day.csv'\n",
    "trip_file_name = '5_trip.csv'\n",
    "\n",
    "mode_simple_file =  'C:/Users/SChildress/Documents/GitHub/travel-studies/2019/summary/mode_simple.xlsx'\n",
    "purpose_simple_file =  'C:/Users/SChildress/Documents/GitHub/travel-studies/2019/summary/purpose_simple.xlsx'\n",
    "\n",
    "#sql_conn = pyodbc.connect('DRIVER={SQL Server}; SERVER=AWS-PROD-SQL\\COHO;DATABASE=HouseholdTravelSurvey2019;trusted_connection=true')\n",
    "#trip_table_name = \"HHSurvey.Trip\"\n",
    "#trip  = pd.read_sql('SELECT * FROM '+trip_table_name, con = sql_conn)\n",
    "\n",
    "hh_weight_2017 = 'hh_wt_revised'\n",
    "hh_weight_2019 = 'hh_wt_2019'\n",
    "hh_weight_combined = 'hh_wt_combined'\n",
    "hh_weight_names =[hh_weight_2017, hh_weight_2019, hh_weight_combined]\n",
    "\n",
    "day_weight_2017 = 'hh_day_wt_revised'\n",
    "day_weight_2019 = 'hh_day_wt_2019'\n",
    "day_weight_combined = 'hh_day_wt_combined'\n",
    "day_weight_names =[day_weight_2017, day_weight_2019, day_weight_combined]\n",
    "\n",
    "trip_weight_2017 = 'trip_weight_revised'\n",
    "trip_weight_2019 ='trip_wt_2019'\n",
    "trip_weight_combined = 'trip_wt_combined'\n",
    "trip_weight_names =[trip_weight_2017, trip_weight_2019, trip_weight_combined]\n",
    "\n",
    "codebook_file = 'Combined_Codebook_022020.xlsx'\n",
    "output_file_hh = 'C:/Users/SChildress/Documents/GitHub/travel-studies/2019/summary/hh_summary.xlsx'\n",
    "output_file_person= 'C:/Users/SChildress/Documents/GitHub/travel-studies/2019/summary/person_summary.xlsx'\n",
    "output_file_day= 'C:/Users/SChildress/Documents/GitHub/travel-studies/2019/summary/day_summary.xlsx'\n",
    "output_file_trip= 'C:/Users/SChildress/Documents/GitHub/travel-studies/2019/summary/trip_summary.xlsx'"
   ]
  },
  {
   "cell_type": "code",
   "execution_count": 2,
   "metadata": {},
   "outputs": [],
   "source": [
    "def merge_hh_person_trip(hh,person,trip):\n",
    "    hh_person =pd.merge(hh, person, on= 'hhid', suffixes=['', 'person'], how ='right')\n",
    "    hh_person_trip = pd.merge(hh_person, trip,on='personid', suffixes=['','trip'], how ='right')\n",
    "    return hh_person_trip\n",
    "\n",
    "def merge_hh_person(hh, person):\n",
    "    hh_person =pd.merge(hh, person, on= 'hhid', suffixes=['', 'person'], how ='right')\n",
    "    return hh_person\n"
   ]
  },
  {
   "cell_type": "code",
   "execution_count": 3,
   "metadata": {},
   "outputs": [
    {
     "name": "stderr",
     "output_type": "stream",
     "text": [
      "C:\\Users\\SChildress\\AppData\\Local\\Continuum\\anaconda3\\lib\\site-packages\\IPython\\core\\interactiveshell.py:3049: DtypeWarning: Columns (8,44,45,53,56,57,65,72,73,81) have mixed types. Specify dtype option on import or set low_memory=False.\n",
      "  interactivity=interactivity, compiler=compiler, result=result)\n",
      "C:\\Users\\SChildress\\AppData\\Local\\Continuum\\anaconda3\\lib\\site-packages\\IPython\\core\\interactiveshell.py:3049: DtypeWarning: Columns (0,10,11,20,24,37,39,106,112,118,120,121,128) have mixed types. Specify dtype option on import or set low_memory=False.\n",
      "  interactivity=interactivity, compiler=compiler, result=result)\n",
      "C:\\Users\\SChildress\\AppData\\Local\\Continuum\\anaconda3\\lib\\site-packages\\IPython\\core\\interactiveshell.py:3049: DtypeWarning: Columns (14,15,21,23,34,45) have mixed types. Specify dtype option on import or set low_memory=False.\n",
      "  interactivity=interactivity, compiler=compiler, result=result)\n"
     ]
    }
   ],
   "source": [
    "hh = pd.read_csv(survey_dir+hh_file_name, encoding = 'latin-1')\n",
    "person= pd.read_csv(survey_dir+person_file_name, encoding = 'latin-1')\n",
    "trip = pd.read_csv(survey_dir+trip_file_name, encoding = 'latin-1')\n",
    "day= pd.read_csv(survey_dir+day_file_name, encoding='latin-1')"
   ]
  },
  {
   "cell_type": "code",
   "execution_count": 4,
   "metadata": {},
   "outputs": [],
   "source": [
    "mode_simple= pd.read_excel(mode_simple_file)\n",
    "purpose_simple = pd.read_excel(purpose_simple_file)"
   ]
  },
  {
   "cell_type": "code",
   "execution_count": 4,
   "metadata": {},
   "outputs": [],
   "source": [
    "codebook_values = pd.read_excel(survey_dir+codebook_file, sheet_name='Values')\n",
    "codebook_variables =pd.read_excel(survey_dir+codebook_file, sheet_name='Data Overview')"
   ]
  },
  {
   "cell_type": "code",
   "execution_count": 5,
   "metadata": {},
   "outputs": [],
   "source": [
    "person_detail = merge_hh_person(hh, person)\n",
    "trip_detail = merge_hh_person_trip(hh, person, trip)"
   ]
  },
  {
   "cell_type": "code",
   "execution_count": 7,
   "metadata": {},
   "outputs": [],
   "source": [
    "def compare_weighted_table(codebook_values, dataset, item, weight_names):\n",
    "    dataset=dataset.dropna(subset=[item]).reset_index()\n",
    "    grouped_total=dataset.groupby(item).sum()[weight_names].reset_index()\n",
    "    for weight_name in weight_names:\n",
    "        grouped_sum = grouped_total.sum()[weight_name]\n",
    "        grouped_total[weight_name+'_share']=grouped_total[weight_name]/grouped_sum\n",
    "   \n",
    "\n",
    "   \n",
    "    values=codebook_values.loc[codebook_values['variable']==item]\n",
    "    variable =codebook_variables.loc[codebook_variables['variable']==item, 'description'].values[0]\n",
    "    missing_values_df = pd.DataFrame({'variable': [item, item, item],'value':[-9999,-9998, 995], 'label':\n",
    "                                     ['Missing:Technical Error', 'Missing: Non-response', 'Missing:Skip logic']})\n",
    "    values = values.append(missing_values_df)\n",
    "    summary=pd.merge(values, grouped_total,left_on='value', right_on=item)\n",
    "    summary['variable']=variable\n",
    "\n",
    "    return summary"
   ]
  },
  {
   "cell_type": "code",
   "execution_count": 7,
   "metadata": {},
   "outputs": [
    {
     "data": {
      "text/plain": [
       "mode_freq_5  gender\n",
       "-9998.0      1         3.174344e+03\n",
       "             2         4.766524e+03\n",
       " 1.0         1         6.417805e+03\n",
       "             2         4.982310e+03\n",
       "             3         0.000000e+00\n",
       " 2.0         1         3.187617e+03\n",
       "             2         7.320451e+03\n",
       "             4         7.376416e+01\n",
       " 3.0         1         2.828396e+04\n",
       "             2         2.281493e+04\n",
       "             3         2.594607e+01\n",
       "             4         5.248742e+02\n",
       " 4.0         1         3.796072e+04\n",
       "             2         2.137535e+04\n",
       "             3         3.051032e+02\n",
       "             4         6.616236e+01\n",
       " 5.0         1         1.474208e+05\n",
       "             2         1.533201e+05\n",
       "             3         3.132786e+02\n",
       "             4         7.829382e+03\n",
       " 6.0         1         2.936135e+05\n",
       "             2         2.947395e+05\n",
       "             3         1.305896e+03\n",
       "             4         1.987105e+04\n",
       " 7.0         1         1.023475e+06\n",
       "             2         1.023763e+06\n",
       "             3         5.358264e+03\n",
       "             4         1.955857e+04\n",
       " 995.0       1         4.559002e+05\n",
       "             2         4.162110e+05\n",
       "             3         1.350684e+04\n",
       "             4         3.396297e+04\n",
       "Name: hh_wt_2019, dtype: float64"
      ]
     },
     "execution_count": 7,
     "metadata": {},
     "output_type": "execute_result"
    }
   ],
   "source": [
    "person.groupby(['mode_freq_5', 'gender']).sum()[hh_weight_2019]"
   ]
  },
  {
   "cell_type": "code",
   "execution_count": 8,
   "metadata": {},
   "outputs": [],
   "source": [
    "hh_vars =['final_home_rgcnum', 'hhsize', 'hhincome_broad', 'prev_res_factors_housing_cost', 'prev_res_factors_income_change']\n",
    "person_vars=['age', 'gender', 'worker', 'race_afam', 'race_asian', 'mode_freq_1', 'mode_freq_2', 'av_concern_1']\n",
    "day_vars =['delivery_pkgs_freq', 'delivery_grocery_freq', 'delivery_food_freq','delivery_work_freq','online_shop_time']\n",
    "trip_vars =['d_purpose', 'd_purp_cat', 'mode_1', 'mode_acc' ]\n",
    "\n",
    "with pd.ExcelWriter(output_file_hh) as writer:  \n",
    "    for hh_var in hh_vars:\n",
    "        compare_weighted_table(codebook_values, hh, hh_var, hh_weight_names).to_excel(writer,sheet_name=hh_var)\n",
    "        \n",
    "with pd.ExcelWriter(output_file_person) as writer:  \n",
    "    for person_var in person_vars:\n",
    "        compare_weighted_table(codebook_values, person, person_var,hh_weight_names).to_excel(writer,sheet_name=person_var)\n",
    "        \n",
    "with pd.ExcelWriter(output_file_day) as writer:  \n",
    "    for day_var in day_vars:\n",
    "        compare_weighted_table(codebook_values, day, day_var, day_weight_names).to_excel(writer,sheet_name=day_var)\n",
    "        \n",
    "with pd.ExcelWriter(output_file_trip) as writer:  \n",
    "    for trip_var in trip_vars:\n",
    "        compare_weighted_table(codebook_values, trip_detail, trip_var, trip_weight_names).to_excel(writer,sheet_name=trip_var)"
   ]
  },
  {
   "cell_type": "code",
   "execution_count": 9,
   "metadata": {},
   "outputs": [],
   "source": [
    "compare_weighted_table(codebook_values, person, 'commute_mode', hh_weight_names).to_clipboard()"
   ]
  },
  {
   "cell_type": "code",
   "execution_count": 10,
   "metadata": {},
   "outputs": [],
   "source": [
    "pd.DataFrame(trip.columns).to_clipboard()"
   ]
  },
  {
   "cell_type": "code",
   "execution_count": 11,
   "metadata": {},
   "outputs": [],
   "source": [
    "person_trip = merge_hh_person_trip(hh,person,trip)"
   ]
  },
  {
   "cell_type": "code",
   "execution_count": 12,
   "metadata": {},
   "outputs": [],
   "source": [
    "work_trips=person_trip[(person_trip['o_purpose']==1) & (person_trip['d_purpose']==10)]"
   ]
  },
  {
   "cell_type": "code",
   "execution_count": 13,
   "metadata": {},
   "outputs": [],
   "source": [
    "grouped_total=work_trips.groupby(['commute_mode','mode_1']).sum()['trip_weight_revised'].reset_index()"
   ]
  },
  {
   "cell_type": "code",
   "execution_count": 14,
   "metadata": {},
   "outputs": [],
   "source": [
    "def lookup_codes(grouped_total, item):\n",
    "    values=codebook_values.loc[codebook_values['variable']==item]\n",
    "    variable =codebook_variables.loc[codebook_variables['variable']==item, 'description'].values[0]\n",
    "    missing_values_df = pd.DataFrame({'variable': [item, item, item],'value':[-9999,-9998, 995], 'label':\n",
    "                                         ['Missing:Technical Error', 'Missing: Non-response', 'Missing:Skip logic']})\n",
    "    values = values.append(missing_values_df)\n",
    "    summary=pd.merge(values, grouped_total,left_on='value', right_on=item)\n",
    "    summary[item+'_variable']=variable\n",
    "    return summary"
   ]
  },
  {
   "cell_type": "code",
   "execution_count": 15,
   "metadata": {},
   "outputs": [],
   "source": [
    "mode_data=pd.read_excel(output_file_trip, sheet_name='mode_1')\n",
    "mode_codes = pd.merge(mode_data,mode_simple, left_on='label', right_on ='Primary Mode')\n",
    "mode_codes.groupby('Mode Simple').sum().to_clipboard()\n"
   ]
  },
  {
   "cell_type": "code",
   "execution_count": null,
   "metadata": {},
   "outputs": [],
   "source": []
  }
 ],
 "metadata": {
  "kernelspec": {
   "display_name": "Python 3",
   "language": "python",
   "name": "python3"
  },
  "language_info": {
   "codemirror_mode": {
    "name": "ipython",
    "version": 3
   },
   "file_extension": ".py",
   "mimetype": "text/x-python",
   "name": "python",
   "nbconvert_exporter": "python",
   "pygments_lexer": "ipython3",
   "version": "3.7.3"
  }
 },
 "nbformat": 4,
 "nbformat_minor": 2
}
