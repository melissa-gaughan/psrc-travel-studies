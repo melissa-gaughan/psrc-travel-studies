{
 "cells": [
  {
   "cell_type": "code",
   "execution_count": 2,
   "metadata": {},
   "outputs": [],
   "source": [
    "import pandas as pd\n",
    "import pyodbc\n",
    "# File names and directories\n",
    "survey_dir = 'J:/Projects/Surveys/HHTravel/Survey2019/Data/PSRC_2019_HTS_RSG_Final_Deliverable/'\n",
    "\n",
    "day_file_name = '4_Day.csv'\n",
    "\n",
    "day_weight_2017 = 'hh_day_wt_revised'\n",
    "day_weight_2019 = 'hh_day_wt_2019'\n",
    "day_weight_combined = 'hh_day_wt_combined'\n",
    "day_weight_names =[day_weight_2017, day_weight_2019, day_weight_combined]\n",
    "\n",
    "codebook_file = 'Combined_Codebook_022020.xlsx'\n"
   ]
  },
  {
   "cell_type": "code",
   "execution_count": 3,
   "metadata": {},
   "outputs": [
    {
     "name": "stderr",
     "output_type": "stream",
     "text": [
      "C:\\Users\\SChildress\\AppData\\Local\\Continuum\\anaconda3\\lib\\site-packages\\IPython\\core\\interactiveshell.py:3049: DtypeWarning: Columns (14,15,21,23,34,45) have mixed types. Specify dtype option on import or set low_memory=False.\n",
      "  interactivity=interactivity, compiler=compiler, result=result)\n"
     ]
    }
   ],
   "source": [
    "day= pd.read_csv(survey_dir+day_file_name, encoding='latin-1')"
   ]
  },
  {
   "cell_type": "code",
   "execution_count": 4,
   "metadata": {},
   "outputs": [],
   "source": [
    "codebook_values = pd.read_excel(survey_dir+codebook_file, sheet_name='Values')\n",
    "codebook_variables =pd.read_excel(survey_dir+codebook_file, sheet_name='Data Overview')"
   ]
  },
  {
   "cell_type": "code",
   "execution_count": 5,
   "metadata": {},
   "outputs": [],
   "source": [
    "def compare_weighted_table(codebook_values, dataset, item, weight_names):\n",
    "    dataset=dataset.dropna(subset=[item]).reset_index()\n",
    "    grouped_total=dataset.groupby(item).sum()[weight_names].reset_index()\n",
    "    for weight_name in weight_names:\n",
    "        grouped_sum = grouped_total.sum()[weight_name]\n",
    "        grouped_total[weight_name+'_share']=grouped_total[weight_name]/grouped_sum\n",
    "   \n",
    "\n",
    "   \n",
    "    values=codebook_values.loc[codebook_values['variable']==item]\n",
    "    variable =codebook_variables.loc[codebook_variables['variable']==item, 'description'].values[0]\n",
    "    missing_values_df = pd.DataFrame({'variable': [item, item, item],'value':[-9999,-9998, 995], 'label':\n",
    "                                     ['Missing:Technical Error', 'Missing: Non-response', 'Missing:Skip logic']})\n",
    "    values = values.append(missing_values_df)\n",
    "    summary=pd.merge(values, grouped_total,left_on='value', right_on=item)\n",
    "    summary['variable']=variable\n",
    "\n",
    "    return summary"
   ]
  },
  {
   "cell_type": "code",
   "execution_count": 10,
   "metadata": {},
   "outputs": [
    {
     "data": {
      "text/plain": [
       "1685877.0421063895"
      ]
     },
     "execution_count": 10,
     "metadata": {},
     "output_type": "execute_result"
    }
   ],
   "source": [
    "day.groupby(['hhid','daynum']).first().sum()['hh_day_wt_2019']"
   ]
  },
  {
   "cell_type": "code",
   "execution_count": null,
   "metadata": {},
   "outputs": [],
   "source": []
  }
 ],
 "metadata": {
  "kernelspec": {
   "display_name": "Python 3",
   "language": "python",
   "name": "python3"
  },
  "language_info": {
   "codemirror_mode": {
    "name": "ipython",
    "version": 3
   },
   "file_extension": ".py",
   "mimetype": "text/x-python",
   "name": "python",
   "nbconvert_exporter": "python",
   "pygments_lexer": "ipython3",
   "version": "3.7.3"
  }
 },
 "nbformat": 4,
 "nbformat_minor": 2
}
