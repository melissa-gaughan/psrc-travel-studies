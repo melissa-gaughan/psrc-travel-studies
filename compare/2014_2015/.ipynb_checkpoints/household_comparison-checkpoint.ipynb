{
 "cells": [
  {
   "cell_type": "code",
   "execution_count": 44,
   "metadata": {
    "collapsed": true
   },
   "outputs": [],
   "source": [
    "import pandas as pd\n",
    "import numpy as np"
   ]
  },
  {
   "cell_type": "code",
   "execution_count": 17,
   "metadata": {
    "collapsed": false
   },
   "outputs": [],
   "source": [
    "# Load 2014 and 2015 survey household data\n",
    "hh14 = pd.read_excel(r'data\\2014\\2014-pr3-hhsurvey-households.xlsx', sheet='Sheet1')\n",
    "# hh15 = pd.read_excel(r'data\\2015\\1_PSRC2015_HH_2015-07-02.xlsx', sheet='Sheet1')"
   ]
  },
  {
   "cell_type": "code",
   "execution_count": 86,
   "metadata": {
    "collapsed": true
   },
   "outputs": [],
   "source": [
    "expwt14 = 'expwt_2'\n",
    "expwt15 = 'hhid'    # No weights yet so just using arbitrary column to sum up counts\n",
    "\n",
    "hh14.year = '2014'\n",
    "hh15.year = '2015'"
   ]
  },
  {
   "cell_type": "code",
   "execution_count": 246,
   "metadata": {
    "collapsed": false
   },
   "outputs": [],
   "source": [
    "def df_sample(df1, df2, field, agg1, agg2, report_avg=True):\n",
    "    '''Compare samples from two surveys in the same dataframe'''\n",
    "    df = pd.DataFrame()\n",
    "    df[df1.year + ' Samples'] = df1.groupby(field).count()[agg1]\n",
    "    df[df2.year + ' Samples'] = df2.groupby(field).count()[agg2]\n",
    "    df[\" \"*5] = \"\"    # empty col to separate samples from shares\n",
    "    df[df1.year + ' Shares'] = (df1.groupby(field).count()[agg1]/df1[agg1].count()).round(2)\n",
    "    df[df2.year + ' Shares'] = (df2.groupby(field).count()[agg2]/df2[agg2].count()).round(2)\n",
    "\n",
    "    print df  \n",
    "    print \"---------\" * 10\n",
    "    \n",
    "    if report_avg:\n",
    "        print \"Sample average \" + df1.year + \": \" + str(np.round(df1[field].mean(),2))\n",
    "        print \"Sample average \" + df2.year + \": \" + str(np.round(df2[field].mean(),2))"
   ]
  },
  {
   "cell_type": "markdown",
   "metadata": {},
   "source": [
    "** Number of Adults**"
   ]
  },
  {
   "cell_type": "code",
   "execution_count": 224,
   "metadata": {
    "collapsed": false
   },
   "outputs": [
    {
     "name": "stdout",
     "output_type": "stream",
     "text": [
      "           2014 Samples  2015 Samples        2014 Shares  2015 Shares\n",
      "numadults                                                            \n",
      "1                  2315           970               0.38         0.40\n",
      "2                  3297          1289               0.55         0.53\n",
      "3                   328           140               0.05         0.06\n",
      "4                    79            28               0.01         0.01\n",
      "5                    12             3               0.00         0.00\n",
      "6                     4           NaN               0.00          NaN\n",
      "7                     1           NaN               0.00          NaN\n",
      "------------------------------------------------------------------------------------------\n",
      "Sample average 2014: 1.71\n",
      "Sample average 2015: 1.69\n"
     ]
    }
   ],
   "source": [
    "df_sample(hh14, hh15, 'numadults', expwt14, expwt15)"
   ]
  },
  {
   "cell_type": "markdown",
   "metadata": {},
   "source": [
    "** Household Size **"
   ]
  },
  {
   "cell_type": "code",
   "execution_count": 225,
   "metadata": {
    "collapsed": false
   },
   "outputs": [
    {
     "name": "stdout",
     "output_type": "stream",
     "text": [
      "        2014 Samples  2015 Samples        2014 Shares  2015 Shares\n",
      "hhsize                                                            \n",
      "1               2195           933               0.36         0.38\n",
      "2               2444           955               0.40         0.39\n",
      "3                723           284               0.12         0.12\n",
      "4                497           194               0.08         0.08\n",
      "5                123            46               0.02         0.02\n",
      "6                 37            14               0.01         0.01\n",
      "7                 15             3               0.00         0.00\n",
      "8                  2             1               0.00         0.00\n",
      "------------------------------------------------------------------------------------------\n",
      "Sample average 2014: 2.02\n",
      "Sample average 2015: 1.98\n"
     ]
    }
   ],
   "source": [
    "df_sample(hh14, hh15, 'hhsize', expwt14, expwt15)"
   ]
  },
  {
   "cell_type": "markdown",
   "metadata": {},
   "source": [
    "** Number of Children **"
   ]
  },
  {
   "cell_type": "code",
   "execution_count": 226,
   "metadata": {
    "collapsed": false
   },
   "outputs": [
    {
     "name": "stdout",
     "output_type": "stream",
     "text": [
      "             2014 Samples  2015 Samples        2014 Shares  2015 Shares\n",
      "numchildren                                                            \n",
      "0                    4875          1992               0.81         0.82\n",
      "1                     591           225               0.10         0.09\n",
      "2                     445           164               0.07         0.07\n",
      "3                      93            34               0.02         0.01\n",
      "4                      23            11               0.00         0.00\n",
      "5                       8             4               0.00         0.00\n",
      "6                       1           NaN               0.00          NaN\n",
      "------------------------------------------------------------------------------------------\n",
      "Sample average 2014: 0.31\n",
      "Sample average 2015: 0.3\n"
     ]
    }
   ],
   "source": [
    "df_sample(hh14, hh15, 'numchildren', expwt14, expwt15)"
   ]
  },
  {
   "cell_type": "markdown",
   "metadata": {},
   "source": [
    "** Number of Workers **"
   ]
  },
  {
   "cell_type": "code",
   "execution_count": 227,
   "metadata": {
    "collapsed": false
   },
   "outputs": [
    {
     "name": "stdout",
     "output_type": "stream",
     "text": [
      "            2014 Samples  2015 Samples        2014 Shares  2015 Shares\n",
      "numworkers                                                            \n",
      "0                   1405           719               0.23         0.30\n",
      "1                   2617           986               0.43         0.41\n",
      "2                   1853           664               0.31         0.27\n",
      "3                    133            52               0.02         0.02\n",
      "4                     25             7               0.00         0.00\n",
      "5                      2             2               0.00         0.00\n",
      "7                      1           NaN               0.00          NaN\n",
      "------------------------------------------------------------------------------------------\n",
      "Sample average 2014: 1.13\n",
      "Sample average 2015: 1.03\n"
     ]
    }
   ],
   "source": [
    "df_sample(hh14, hh15, 'numworkers', expwt14, expwt15)"
   ]
  },
  {
   "cell_type": "markdown",
   "metadata": {},
   "source": [
    "** Lifecycle **"
   ]
  },
  {
   "cell_type": "code",
   "execution_count": 233,
   "metadata": {
    "collapsed": false
   },
   "outputs": [
    {
     "name": "stdout",
     "output_type": "stream",
     "text": [
      "           2014 Samples  2015 Samples        2014 Shares  2015 Shares\n",
      "lifecycle                                                            \n",
      "1                   542           198               0.09         0.08\n",
      "2                   619           240               0.10         0.10\n",
      "3                   482           148               0.08         0.06\n",
      "4                  1136           493               0.19         0.20\n",
      "5                   577           292               0.10         0.12\n",
      "6                   675           215               0.11         0.09\n",
      "7                  1352           511               0.22         0.21\n",
      "8                   653           333               0.11         0.14\n",
      "------------------------------------------------------------------------------------------\n",
      "Sample average 2014: 4.87\n",
      "Sample average 2015: 4.97\n"
     ]
    }
   ],
   "source": [
    "df_sample(hh14, hh15, 'lifecycle', expwt14, expwt15)"
   ]
  },
  {
   "cell_type": "markdown",
   "metadata": {},
   "source": [
    "** Income **"
   ]
  },
  {
   "cell_type": "code",
   "execution_count": 234,
   "metadata": {
    "collapsed": false
   },
   "outputs": [
    {
     "name": "stdout",
     "output_type": "stream",
     "text": [
      "                    2014 Samples  2015 Samples        2014 Shares  2015 Shares\n",
      "hh_income_detailed                                                            \n",
      "1                            225            86               0.04         0.04\n",
      "2                            513           245               0.08         0.10\n",
      "3                            455           183               0.08         0.08\n",
      "4                            642           276               0.11         0.11\n",
      "5                            995           353               0.16         0.15\n",
      "6                            830           323               0.14         0.13\n",
      "7                            994           406               0.16         0.17\n",
      "8                            370           146               0.06         0.06\n",
      "9                            159            78               0.03         0.03\n",
      "10                           158            74               0.03         0.03\n",
      "98                           695           260               0.12         0.11\n",
      "------------------------------------------------------------------------------------------\n",
      "Sample average 2014: 15.93\n",
      "Sample average 2015: 15.17\n"
     ]
    }
   ],
   "source": [
    "df_sample(hh14, hh15, 'hh_income_detailed', expwt14, expwt15)"
   ]
  },
  {
   "cell_type": "markdown",
   "metadata": {},
   "source": [
    "** County **"
   ]
  },
  {
   "cell_type": "code",
   "execution_count": 242,
   "metadata": {
    "collapsed": false
   },
   "outputs": [
    {
     "name": "stdout",
     "output_type": "stream",
     "text": [
      "               2014 Samples  2015 Samples        2014 Shares  2015 Shares\n",
      "h_county_name                                                            \n",
      "King                   3871          1459               0.64         0.60\n",
      "Kitsap                  366           127               0.06         0.05\n",
      "Pierce                 1007           548               0.17         0.23\n",
      "Snohomish               792           296               0.13         0.12\n",
      "------------------------------------------------------------------------------------------\n"
     ]
    }
   ],
   "source": [
    "df_sample(hh14, hh15, 'h_county_name', expwt14, expwt15, report_avg=False)"
   ]
  },
  {
   "cell_type": "code",
   "execution_count": null,
   "metadata": {
    "collapsed": true
   },
   "outputs": [],
   "source": [
    "# Notice that the oversample from Pierce shows up in the county distribution"
   ]
  },
  {
   "cell_type": "code",
   "execution_count": 247,
   "metadata": {
    "collapsed": false
   },
   "outputs": [
    {
     "name": "stdout",
     "output_type": "stream",
     "text": [
      "                         2014 Samples  2015 Samples        2014 Shares  \\\n",
      "h_district_name                                                          \n",
      "East Side                         857           312               0.14   \n",
      "Everett-Lynwood-Edmonds           378           148               0.06   \n",
      "Kitsap                            366           127               0.06   \n",
      "North Seattle-Shoreline          1047           399               0.17   \n",
      "Renton-FedWay-Kent                438           157               0.07   \n",
      "Seattle CBD                      1107           418               0.18   \n",
      "South Pierce                      572           188               0.09   \n",
      "Suburban Snohomish                414           148               0.07   \n",
      "Tacoma                            434           360               0.07   \n",
      "West-South Seattle                423           173               0.07   \n",
      "\n",
      "                         2015 Shares  \n",
      "h_district_name                       \n",
      "East Side                       0.13  \n",
      "Everett-Lynwood-Edmonds         0.06  \n",
      "Kitsap                          0.05  \n",
      "North Seattle-Shoreline         0.16  \n",
      "Renton-FedWay-Kent              0.06  \n",
      "Seattle CBD                     0.17  \n",
      "South Pierce                    0.08  \n",
      "Suburban Snohomish              0.06  \n",
      "Tacoma                          0.15  \n",
      "West-South Seattle              0.07  \n",
      "------------------------------------------------------------------------------------------\n"
     ]
    }
   ],
   "source": [
    "df_sample(hh14, hh15, 'h_district_name', expwt14, expwt15, report_avg=False)"
   ]
  },
  {
   "cell_type": "markdown",
   "metadata": {},
   "source": [
    "** Residence Type **"
   ]
  },
  {
   "cell_type": "code",
   "execution_count": 251,
   "metadata": {
    "collapsed": false
   },
   "outputs": [
    {
     "name": "stdout",
     "output_type": "stream",
     "text": [
      "          2014 Samples  2015 Samples        2014 Shares  2015 Shares\n",
      "res_type                                                            \n",
      "1                 3144          1320               0.52         0.54\n",
      "2                  349           129               0.06         0.05\n",
      "3                  162            56               0.03         0.02\n",
      "4                   87            37               0.01         0.02\n",
      "5                 2176           850               0.36         0.35\n",
      "6                   78            28               0.01         0.01\n",
      "7                   23             3               0.00         0.00\n",
      "8                   17             7               0.00         0.00\n",
      "------------------------------------------------------------------------------------------\n"
     ]
    }
   ],
   "source": [
    "df_sample(hh14, hh15, 'res_type', expwt14, expwt15, report_avg=False)"
   ]
  },
  {
   "cell_type": "code",
   "execution_count": 252,
   "metadata": {
    "collapsed": false
   },
   "outputs": [
    {
     "name": "stdout",
     "output_type": "stream",
     "text": [
      "                  2014 Samples  2015 Samples        2014 Shares  2015 Shares\n",
      "res_factors_walk                                                            \n",
      "1                          409           136               0.07         0.06\n",
      "2                          428           162               0.07         0.07\n",
      "3                          687           268               0.11         0.11\n",
      "4                         1851           782               0.31         0.32\n",
      "5                         2661          1082               0.44         0.45\n",
      "------------------------------------------------------------------------------------------\n"
     ]
    }
   ],
   "source": [
    "df_sample(hh14, hh15, 'res_factors_walk', expwt14, expwt15, report_avg=False)"
   ]
  },
  {
   "cell_type": "code",
   "execution_count": 253,
   "metadata": {
    "collapsed": false
   },
   "outputs": [
    {
     "name": "stdout",
     "output_type": "stream",
     "text": [
      "                    2014 Samples  2015 Samples        2014 Shares  2015 Shares\n",
      "res_factors_afford                                                            \n",
      "1                            290           112               0.05         0.05\n",
      "2                            217            79               0.04         0.03\n",
      "3                            404           155               0.07         0.06\n",
      "4                           1686           682               0.28         0.28\n",
      "5                           3439          1402               0.57         0.58\n",
      "------------------------------------------------------------------------------------------\n"
     ]
    }
   ],
   "source": [
    "df_sample(hh14, hh15, 'res_factors_afford', expwt14, expwt15, report_avg=False)"
   ]
  },
  {
   "cell_type": "code",
   "execution_count": 254,
   "metadata": {
    "collapsed": false
   },
   "outputs": [
    {
     "name": "stdout",
     "output_type": "stream",
     "text": [
      "                     2014 Samples  2015 Samples        2014 Shares  \\\n",
      "res_factors_transit                                                  \n",
      "1                            1035           390               0.17   \n",
      "2                             664           258               0.11   \n",
      "3                            1055           434               0.17   \n",
      "4                            1405           598               0.23   \n",
      "5                            1877           750               0.31   \n",
      "\n",
      "                     2015 Shares  \n",
      "res_factors_transit               \n",
      "1                           0.16  \n",
      "2                           0.11  \n",
      "3                           0.18  \n",
      "4                           0.25  \n",
      "5                           0.31  \n",
      "------------------------------------------------------------------------------------------\n"
     ]
    }
   ],
   "source": [
    "df_sample(hh14, hh15, 'res_factors_transit', expwt14, expwt15, report_avg=False)"
   ]
  },
  {
   "cell_type": "code",
   "execution_count": null,
   "metadata": {
    "collapsed": true
   },
   "outputs": [],
   "source": []
  }
 ],
 "metadata": {
  "kernelspec": {
   "display_name": "Python 2",
   "language": "python",
   "name": "python2"
  },
  "language_info": {
   "codemirror_mode": {
    "name": "ipython",
    "version": 2
   },
   "file_extension": ".py",
   "mimetype": "text/x-python",
   "name": "python",
   "nbconvert_exporter": "python",
   "pygments_lexer": "ipython2",
   "version": "2.7.9"
  }
 },
 "nbformat": 4,
 "nbformat_minor": 0
}
