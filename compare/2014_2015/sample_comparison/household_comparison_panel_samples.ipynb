{
 "cells": [
  {
   "cell_type": "markdown",
   "metadata": {},
   "source": [
    "Comparing the panel households to cross-sectional households for 2015\n",
    "not using any weights"
   ]
  },
  {
   "cell_type": "code",
   "execution_count": 1,
   "metadata": {
    "collapsed": true
   },
   "outputs": [],
   "source": [
    "import pandas as pd\n",
    "import numpy as np"
   ]
  },
  {
   "cell_type": "code",
   "execution_count": 20,
   "metadata": {
    "collapsed": false
   },
   "outputs": [],
   "source": [
    "# Load 2014 and 2015 survey household data\n",
    "hh15 = pd.read_excel(r'J:\\Projects\\Surveys\\HHTravel\\Survey2015\\Data\\Household\\1_PSRC2015_HH_2015-07-27_V1.2.xlsx', sheet='Data')"
   ]
  },
  {
   "cell_type": "code",
   "execution_count": 23,
   "metadata": {
    "collapsed": true
   },
   "outputs": [],
   "source": [
    "hh15panel = hh15[hh15['sampletype'] == 2]\n",
    "hh15cc = hh15[hh15['sampletype'] == 1]"
   ]
  },
  {
   "cell_type": "code",
   "execution_count": 24,
   "metadata": {
    "collapsed": true
   },
   "outputs": [],
   "source": [
    "expwt15cc = 'hhid'\n",
    "expwt15panel = 'hhid'    # No weights yet so just using arbitrary column to sum up counts\n",
    "\n",
    "hh15panel.year = 'panel'\n",
    "hh15cc.year = 'cross-section'"
   ]
  },
  {
   "cell_type": "code",
   "execution_count": 25,
   "metadata": {
    "collapsed": false
   },
   "outputs": [],
   "source": [
    "def df_sample(df1, df2, field, agg1, agg2, report_avg=True, print_df=False):\n",
    "    '''Compare samples from two surveys in the same dataframe'''\n",
    "    df = pd.DataFrame()\n",
    "    df[df1.year + ' Samples'] = df1.groupby(field).count()[agg1]\n",
    "    df[df2.year + ' Samples'] = df2.groupby(field).count()[agg2]\n",
    "    df[\" \"*5] = \"\"    # empty col to separate samples from shares\n",
    "    df[df1.year + ' Shares'] = (df1.groupby(field).count()[agg1]/df1[agg1].count()).round(2)\n",
    "    df[df2.year + ' Shares'] = (df2.groupby(field).count()[agg2]/df2[agg2].count()).round(2)\n",
    "\n",
    "    if print_df:\n",
    "        print df  \n",
    "\n",
    "        print \"---------\" * 10\n",
    "\n",
    "        if report_avg:\n",
    "            print \"Sample average \" + df1.year + \": \" + str(np.round(df1[field].mean(),2))\n",
    "            print \"Sample average \" + df2.year + \": \" + str(np.round(df2[field].mean(),2))\n",
    "            \n",
    "    else:\n",
    "        return df"
   ]
  },
  {
   "cell_type": "code",
   "execution_count": 26,
   "metadata": {
    "collapsed": false
   },
   "outputs": [],
   "source": [
    "def df_weighted(df1, df2, field, agg1, agg2):\n",
    "    '''Compare weighted results from two data sources'''\n",
    "    df = pd.DataFrame()\n",
    "    df[df1.year] = df1.groupby(field).sum()[agg1]\n",
    "    df[df2.year] = df2.groupby(field).sum()[agg2]\n",
    "    df[\" \"*5] = \"\"    # empty col to separate samples from shares\n",
    "    df[df1.year + ' Shares'] = (df1.groupby(field).sum()[agg1]/df1[agg1].sum()).round(2)\n",
    "    df[df2.year + ' Shares'] = (df2.groupby(field).sum()[agg2]/df2[agg2].sum()).round(2)\n",
    "    \n",
    "    return df"
   ]
  },
  {
   "cell_type": "markdown",
   "metadata": {},
   "source": [
    "** Number of Adults**"
   ]
  },
  {
   "cell_type": "code",
   "execution_count": 27,
   "metadata": {
    "collapsed": false
   },
   "outputs": [
    {
     "data": {
      "text/html": [
       "<div style=\"max-height:1000px;max-width:1500px;overflow:auto;\">\n",
       "<table border=\"1\" class=\"dataframe\">\n",
       "  <thead>\n",
       "    <tr style=\"text-align: right;\">\n",
       "      <th></th>\n",
       "      <th>cross-section</th>\n",
       "      <th>panel</th>\n",
       "      <th>     </th>\n",
       "      <th>cross-section Shares</th>\n",
       "      <th>panel Shares</th>\n",
       "    </tr>\n",
       "    <tr>\n",
       "      <th>numadults</th>\n",
       "      <th></th>\n",
       "      <th></th>\n",
       "      <th></th>\n",
       "      <th></th>\n",
       "      <th></th>\n",
       "    </tr>\n",
       "  </thead>\n",
       "  <tbody>\n",
       "    <tr>\n",
       "      <th>1</th>\n",
       "      <td> 4650933064</td>\n",
       "      <td>  9336104572</td>\n",
       "      <td> </td>\n",
       "      <td> 0.38</td>\n",
       "      <td> 0.41</td>\n",
       "    </tr>\n",
       "    <tr>\n",
       "      <th>2</th>\n",
       "      <td> 6961284265</td>\n",
       "      <td> 11677384297</td>\n",
       "      <td> </td>\n",
       "      <td> 0.56</td>\n",
       "      <td> 0.51</td>\n",
       "    </tr>\n",
       "    <tr>\n",
       "      <th>3</th>\n",
       "      <td>  649317165</td>\n",
       "      <td>  1368023812</td>\n",
       "      <td> </td>\n",
       "      <td> 0.05</td>\n",
       "      <td> 0.06</td>\n",
       "    </tr>\n",
       "    <tr>\n",
       "      <th>4</th>\n",
       "      <td>  135902937</td>\n",
       "      <td>   267967565</td>\n",
       "      <td> </td>\n",
       "      <td> 0.01</td>\n",
       "      <td> 0.01</td>\n",
       "    </tr>\n",
       "  </tbody>\n",
       "</table>\n",
       "</div>"
      ],
      "text/plain": [
       "           cross-section        panel        cross-section Shares  \\\n",
       "numadults                                                           \n",
       "1             4650933064   9336104572                        0.38   \n",
       "2             6961284265  11677384297                        0.56   \n",
       "3              649317165   1368023812                        0.05   \n",
       "4              135902937    267967565                        0.01   \n",
       "\n",
       "           panel Shares  \n",
       "numadults                \n",
       "1                  0.41  \n",
       "2                  0.51  \n",
       "3                  0.06  \n",
       "4                  0.01  "
      ]
     },
     "execution_count": 27,
     "metadata": {},
     "output_type": "execute_result"
    }
   ],
   "source": [
    "df_weighted(hh15cc, hh15panel, 'numadults', expwt15cc, expwt15panel)"
   ]
  },
  {
   "cell_type": "markdown",
   "metadata": {},
   "source": [
    "** Household Size **"
   ]
  },
  {
   "cell_type": "code",
   "execution_count": 28,
   "metadata": {
    "collapsed": false
   },
   "outputs": [
    {
     "data": {
      "text/html": [
       "<div style=\"max-height:1000px;max-width:1500px;overflow:auto;\">\n",
       "<table border=\"1\" class=\"dataframe\">\n",
       "  <thead>\n",
       "    <tr style=\"text-align: right;\">\n",
       "      <th></th>\n",
       "      <th>cross-section Samples</th>\n",
       "      <th>panel Samples</th>\n",
       "      <th>     </th>\n",
       "      <th>cross-section Shares</th>\n",
       "      <th>panel Shares</th>\n",
       "    </tr>\n",
       "    <tr>\n",
       "      <th>hhsize</th>\n",
       "      <th></th>\n",
       "      <th></th>\n",
       "      <th></th>\n",
       "      <th></th>\n",
       "      <th></th>\n",
       "    </tr>\n",
       "  </thead>\n",
       "  <tbody>\n",
       "    <tr>\n",
       "      <th>1</th>\n",
       "      <td> 294</td>\n",
       "      <td> 639</td>\n",
       "      <td> </td>\n",
       "      <td> 0.36</td>\n",
       "      <td> 0.40</td>\n",
       "    </tr>\n",
       "    <tr>\n",
       "      <th>2</th>\n",
       "      <td> 337</td>\n",
       "      <td> 618</td>\n",
       "      <td> </td>\n",
       "      <td> 0.41</td>\n",
       "      <td> 0.38</td>\n",
       "    </tr>\n",
       "    <tr>\n",
       "      <th>3</th>\n",
       "      <td>  95</td>\n",
       "      <td> 189</td>\n",
       "      <td> </td>\n",
       "      <td> 0.12</td>\n",
       "      <td> 0.12</td>\n",
       "    </tr>\n",
       "    <tr>\n",
       "      <th>4</th>\n",
       "      <td>  72</td>\n",
       "      <td> 122</td>\n",
       "      <td> </td>\n",
       "      <td> 0.09</td>\n",
       "      <td> 0.08</td>\n",
       "    </tr>\n",
       "    <tr>\n",
       "      <th>5</th>\n",
       "      <td>  16</td>\n",
       "      <td>  30</td>\n",
       "      <td> </td>\n",
       "      <td> 0.02</td>\n",
       "      <td> 0.02</td>\n",
       "    </tr>\n",
       "    <tr>\n",
       "      <th>6</th>\n",
       "      <td>   5</td>\n",
       "      <td>   9</td>\n",
       "      <td> </td>\n",
       "      <td> 0.01</td>\n",
       "      <td> 0.01</td>\n",
       "    </tr>\n",
       "    <tr>\n",
       "      <th>7</th>\n",
       "      <td>   2</td>\n",
       "      <td>   1</td>\n",
       "      <td> </td>\n",
       "      <td> 0.00</td>\n",
       "      <td> 0.00</td>\n",
       "    </tr>\n",
       "  </tbody>\n",
       "</table>\n",
       "</div>"
      ],
      "text/plain": [
       "        cross-section Samples  panel Samples        cross-section Shares  \\\n",
       "hhsize                                                                     \n",
       "1                         294            639                        0.36   \n",
       "2                         337            618                        0.41   \n",
       "3                          95            189                        0.12   \n",
       "4                          72            122                        0.09   \n",
       "5                          16             30                        0.02   \n",
       "6                           5              9                        0.01   \n",
       "7                           2              1                        0.00   \n",
       "\n",
       "        panel Shares  \n",
       "hhsize                \n",
       "1               0.40  \n",
       "2               0.38  \n",
       "3               0.12  \n",
       "4               0.08  \n",
       "5               0.02  \n",
       "6               0.01  \n",
       "7               0.00  "
      ]
     },
     "execution_count": 28,
     "metadata": {},
     "output_type": "execute_result"
    }
   ],
   "source": [
    "df_sample(hh15cc, hh15panel, 'hhsize', expwt15cc, expwt15panel)"
   ]
  },
  {
   "cell_type": "markdown",
   "metadata": {},
   "source": [
    "** Number of Children **"
   ]
  },
  {
   "cell_type": "code",
   "execution_count": 30,
   "metadata": {
    "collapsed": false
   },
   "outputs": [
    {
     "data": {
      "text/html": [
       "<div style=\"max-height:1000px;max-width:1500px;overflow:auto;\">\n",
       "<table border=\"1\" class=\"dataframe\">\n",
       "  <thead>\n",
       "    <tr style=\"text-align: right;\">\n",
       "      <th></th>\n",
       "      <th>cross-section Samples</th>\n",
       "      <th>panel Samples</th>\n",
       "      <th>     </th>\n",
       "      <th>cross-section Shares</th>\n",
       "      <th>panel Shares</th>\n",
       "    </tr>\n",
       "    <tr>\n",
       "      <th>numchildren</th>\n",
       "      <th></th>\n",
       "      <th></th>\n",
       "      <th></th>\n",
       "      <th></th>\n",
       "      <th></th>\n",
       "    </tr>\n",
       "  </thead>\n",
       "  <tbody>\n",
       "    <tr>\n",
       "      <th>0</th>\n",
       "      <td> 663</td>\n",
       "      <td> 1329</td>\n",
       "      <td> </td>\n",
       "      <td> 0.81</td>\n",
       "      <td> 0.83</td>\n",
       "    </tr>\n",
       "    <tr>\n",
       "      <th>1</th>\n",
       "      <td>  74</td>\n",
       "      <td>  151</td>\n",
       "      <td> </td>\n",
       "      <td> 0.09</td>\n",
       "      <td> 0.09</td>\n",
       "    </tr>\n",
       "    <tr>\n",
       "      <th>2</th>\n",
       "      <td>  64</td>\n",
       "      <td>  100</td>\n",
       "      <td> </td>\n",
       "      <td> 0.08</td>\n",
       "      <td> 0.06</td>\n",
       "    </tr>\n",
       "    <tr>\n",
       "      <th>3</th>\n",
       "      <td>  14</td>\n",
       "      <td>   20</td>\n",
       "      <td> </td>\n",
       "      <td> 0.02</td>\n",
       "      <td> 0.01</td>\n",
       "    </tr>\n",
       "    <tr>\n",
       "      <th>4</th>\n",
       "      <td>   4</td>\n",
       "      <td>    7</td>\n",
       "      <td> </td>\n",
       "      <td> 0.00</td>\n",
       "      <td> 0.00</td>\n",
       "    </tr>\n",
       "    <tr>\n",
       "      <th>5</th>\n",
       "      <td>   2</td>\n",
       "      <td>    2</td>\n",
       "      <td> </td>\n",
       "      <td> 0.00</td>\n",
       "      <td> 0.00</td>\n",
       "    </tr>\n",
       "  </tbody>\n",
       "</table>\n",
       "</div>"
      ],
      "text/plain": [
       "             cross-section Samples  panel Samples        cross-section Shares  \\\n",
       "numchildren                                                                     \n",
       "0                              663           1329                        0.81   \n",
       "1                               74            151                        0.09   \n",
       "2                               64            100                        0.08   \n",
       "3                               14             20                        0.02   \n",
       "4                                4              7                        0.00   \n",
       "5                                2              2                        0.00   \n",
       "\n",
       "             panel Shares  \n",
       "numchildren                \n",
       "0                    0.83  \n",
       "1                    0.09  \n",
       "2                    0.06  \n",
       "3                    0.01  \n",
       "4                    0.00  \n",
       "5                    0.00  "
      ]
     },
     "execution_count": 30,
     "metadata": {},
     "output_type": "execute_result"
    }
   ],
   "source": [
    "df_sample(hh15cc, hh15panel, 'numchildren', expwt15cc, expwt15panel)"
   ]
  },
  {
   "cell_type": "markdown",
   "metadata": {},
   "source": [
    "** Number of Workers **"
   ]
  },
  {
   "cell_type": "code",
   "execution_count": 31,
   "metadata": {
    "collapsed": false
   },
   "outputs": [
    {
     "data": {
      "text/html": [
       "<div style=\"max-height:1000px;max-width:1500px;overflow:auto;\">\n",
       "<table border=\"1\" class=\"dataframe\">\n",
       "  <thead>\n",
       "    <tr style=\"text-align: right;\">\n",
       "      <th></th>\n",
       "      <th>cross-section Samples</th>\n",
       "      <th>panel Samples</th>\n",
       "      <th>     </th>\n",
       "      <th>cross-section Shares</th>\n",
       "      <th>panel Shares</th>\n",
       "    </tr>\n",
       "    <tr>\n",
       "      <th>numworkers</th>\n",
       "      <th></th>\n",
       "      <th></th>\n",
       "      <th></th>\n",
       "      <th></th>\n",
       "      <th></th>\n",
       "    </tr>\n",
       "  </thead>\n",
       "  <tbody>\n",
       "    <tr>\n",
       "      <th>0</th>\n",
       "      <td> 253</td>\n",
       "      <td> 466</td>\n",
       "      <td> </td>\n",
       "      <td> 0.31</td>\n",
       "      <td> 0.29</td>\n",
       "    </tr>\n",
       "    <tr>\n",
       "      <th>1</th>\n",
       "      <td> 309</td>\n",
       "      <td> 677</td>\n",
       "      <td> </td>\n",
       "      <td> 0.38</td>\n",
       "      <td> 0.42</td>\n",
       "    </tr>\n",
       "    <tr>\n",
       "      <th>2</th>\n",
       "      <td> 240</td>\n",
       "      <td> 424</td>\n",
       "      <td> </td>\n",
       "      <td> 0.29</td>\n",
       "      <td> 0.26</td>\n",
       "    </tr>\n",
       "    <tr>\n",
       "      <th>3</th>\n",
       "      <td>  18</td>\n",
       "      <td>  34</td>\n",
       "      <td> </td>\n",
       "      <td> 0.02</td>\n",
       "      <td> 0.02</td>\n",
       "    </tr>\n",
       "    <tr>\n",
       "      <th>4</th>\n",
       "      <td>   1</td>\n",
       "      <td>   6</td>\n",
       "      <td> </td>\n",
       "      <td> 0.00</td>\n",
       "      <td> 0.00</td>\n",
       "    </tr>\n",
       "  </tbody>\n",
       "</table>\n",
       "</div>"
      ],
      "text/plain": [
       "            cross-section Samples  panel Samples        cross-section Shares  \\\n",
       "numworkers                                                                     \n",
       "0                             253            466                        0.31   \n",
       "1                             309            677                        0.38   \n",
       "2                             240            424                        0.29   \n",
       "3                              18             34                        0.02   \n",
       "4                               1              6                        0.00   \n",
       "\n",
       "            panel Shares  \n",
       "numworkers                \n",
       "0                   0.29  \n",
       "1                   0.42  \n",
       "2                   0.26  \n",
       "3                   0.02  \n",
       "4                   0.00  "
      ]
     },
     "execution_count": 31,
     "metadata": {},
     "output_type": "execute_result"
    }
   ],
   "source": [
    "df_sample(hh15cc, hh15panel, 'numworkers', expwt15cc, expwt15panel)"
   ]
  },
  {
   "cell_type": "markdown",
   "metadata": {},
   "source": [
    "** Lifecycle **"
   ]
  },
  {
   "cell_type": "code",
   "execution_count": 32,
   "metadata": {
    "collapsed": false
   },
   "outputs": [
    {
     "data": {
      "text/html": [
       "<div style=\"max-height:1000px;max-width:1500px;overflow:auto;\">\n",
       "<table border=\"1\" class=\"dataframe\">\n",
       "  <thead>\n",
       "    <tr style=\"text-align: right;\">\n",
       "      <th></th>\n",
       "      <th>cross-section Samples</th>\n",
       "      <th>panel Samples</th>\n",
       "      <th>     </th>\n",
       "      <th>cross-section Shares</th>\n",
       "      <th>panel Shares</th>\n",
       "    </tr>\n",
       "    <tr>\n",
       "      <th>lifecycle</th>\n",
       "      <th></th>\n",
       "      <th></th>\n",
       "      <th></th>\n",
       "      <th></th>\n",
       "      <th></th>\n",
       "    </tr>\n",
       "  </thead>\n",
       "  <tbody>\n",
       "    <tr>\n",
       "      <th>1</th>\n",
       "      <td>  64</td>\n",
       "      <td> 134</td>\n",
       "      <td> </td>\n",
       "      <td> 0.08</td>\n",
       "      <td> 0.08</td>\n",
       "    </tr>\n",
       "    <tr>\n",
       "      <th>2</th>\n",
       "      <td>  94</td>\n",
       "      <td> 146</td>\n",
       "      <td> </td>\n",
       "      <td> 0.11</td>\n",
       "      <td> 0.09</td>\n",
       "    </tr>\n",
       "    <tr>\n",
       "      <th>3</th>\n",
       "      <td>  44</td>\n",
       "      <td> 104</td>\n",
       "      <td> </td>\n",
       "      <td> 0.05</td>\n",
       "      <td> 0.06</td>\n",
       "    </tr>\n",
       "    <tr>\n",
       "      <th>4</th>\n",
       "      <td> 151</td>\n",
       "      <td> 342</td>\n",
       "      <td> </td>\n",
       "      <td> 0.18</td>\n",
       "      <td> 0.21</td>\n",
       "    </tr>\n",
       "    <tr>\n",
       "      <th>5</th>\n",
       "      <td>  99</td>\n",
       "      <td> 193</td>\n",
       "      <td> </td>\n",
       "      <td> 0.12</td>\n",
       "      <td> 0.12</td>\n",
       "    </tr>\n",
       "    <tr>\n",
       "      <th>6</th>\n",
       "      <td>  71</td>\n",
       "      <td> 144</td>\n",
       "      <td> </td>\n",
       "      <td> 0.09</td>\n",
       "      <td> 0.09</td>\n",
       "    </tr>\n",
       "    <tr>\n",
       "      <th>7</th>\n",
       "      <td> 182</td>\n",
       "      <td> 329</td>\n",
       "      <td> </td>\n",
       "      <td> 0.22</td>\n",
       "      <td> 0.20</td>\n",
       "    </tr>\n",
       "    <tr>\n",
       "      <th>8</th>\n",
       "      <td> 116</td>\n",
       "      <td> 217</td>\n",
       "      <td> </td>\n",
       "      <td> 0.14</td>\n",
       "      <td> 0.13</td>\n",
       "    </tr>\n",
       "  </tbody>\n",
       "</table>\n",
       "</div>"
      ],
      "text/plain": [
       "           cross-section Samples  panel Samples        cross-section Shares  \\\n",
       "lifecycle                                                                     \n",
       "1                             64            134                        0.08   \n",
       "2                             94            146                        0.11   \n",
       "3                             44            104                        0.05   \n",
       "4                            151            342                        0.18   \n",
       "5                             99            193                        0.12   \n",
       "6                             71            144                        0.09   \n",
       "7                            182            329                        0.22   \n",
       "8                            116            217                        0.14   \n",
       "\n",
       "           panel Shares  \n",
       "lifecycle                \n",
       "1                  0.08  \n",
       "2                  0.09  \n",
       "3                  0.06  \n",
       "4                  0.21  \n",
       "5                  0.12  \n",
       "6                  0.09  \n",
       "7                  0.20  \n",
       "8                  0.13  "
      ]
     },
     "execution_count": 32,
     "metadata": {},
     "output_type": "execute_result"
    }
   ],
   "source": [
    "df_sample(hh15cc, hh15panel, 'lifecycle', expwt15cc, expwt15panel)"
   ]
  },
  {
   "cell_type": "markdown",
   "metadata": {},
   "source": [
    "** Income **"
   ]
  },
  {
   "cell_type": "code",
   "execution_count": 33,
   "metadata": {
    "collapsed": false
   },
   "outputs": [
    {
     "data": {
      "text/html": [
       "<div style=\"max-height:1000px;max-width:1500px;overflow:auto;\">\n",
       "<table border=\"1\" class=\"dataframe\">\n",
       "  <thead>\n",
       "    <tr style=\"text-align: right;\">\n",
       "      <th></th>\n",
       "      <th>cross-section Samples</th>\n",
       "      <th>panel Samples</th>\n",
       "      <th>     </th>\n",
       "      <th>cross-section Shares</th>\n",
       "      <th>panel Shares</th>\n",
       "    </tr>\n",
       "    <tr>\n",
       "      <th>hh_income_detailed</th>\n",
       "      <th></th>\n",
       "      <th></th>\n",
       "      <th></th>\n",
       "      <th></th>\n",
       "      <th></th>\n",
       "    </tr>\n",
       "  </thead>\n",
       "  <tbody>\n",
       "    <tr>\n",
       "      <th>1 </th>\n",
       "      <td>  26</td>\n",
       "      <td>  60</td>\n",
       "      <td> </td>\n",
       "      <td> 0.03</td>\n",
       "      <td> 0.04</td>\n",
       "    </tr>\n",
       "    <tr>\n",
       "      <th>2 </th>\n",
       "      <td>  84</td>\n",
       "      <td> 161</td>\n",
       "      <td> </td>\n",
       "      <td> 0.10</td>\n",
       "      <td> 0.10</td>\n",
       "    </tr>\n",
       "    <tr>\n",
       "      <th>3 </th>\n",
       "      <td>  61</td>\n",
       "      <td> 122</td>\n",
       "      <td> </td>\n",
       "      <td> 0.07</td>\n",
       "      <td> 0.08</td>\n",
       "    </tr>\n",
       "    <tr>\n",
       "      <th>4 </th>\n",
       "      <td>  92</td>\n",
       "      <td> 184</td>\n",
       "      <td> </td>\n",
       "      <td> 0.11</td>\n",
       "      <td> 0.11</td>\n",
       "    </tr>\n",
       "    <tr>\n",
       "      <th>5 </th>\n",
       "      <td> 120</td>\n",
       "      <td> 233</td>\n",
       "      <td> </td>\n",
       "      <td> 0.15</td>\n",
       "      <td> 0.14</td>\n",
       "    </tr>\n",
       "    <tr>\n",
       "      <th>6 </th>\n",
       "      <td> 104</td>\n",
       "      <td> 219</td>\n",
       "      <td> </td>\n",
       "      <td> 0.13</td>\n",
       "      <td> 0.14</td>\n",
       "    </tr>\n",
       "    <tr>\n",
       "      <th>7 </th>\n",
       "      <td> 132</td>\n",
       "      <td> 274</td>\n",
       "      <td> </td>\n",
       "      <td> 0.16</td>\n",
       "      <td> 0.17</td>\n",
       "    </tr>\n",
       "    <tr>\n",
       "      <th>8 </th>\n",
       "      <td>  50</td>\n",
       "      <td>  96</td>\n",
       "      <td> </td>\n",
       "      <td> 0.06</td>\n",
       "      <td> 0.06</td>\n",
       "    </tr>\n",
       "    <tr>\n",
       "      <th>9 </th>\n",
       "      <td>  26</td>\n",
       "      <td>  52</td>\n",
       "      <td> </td>\n",
       "      <td> 0.03</td>\n",
       "      <td> 0.03</td>\n",
       "    </tr>\n",
       "    <tr>\n",
       "      <th>10</th>\n",
       "      <td>  24</td>\n",
       "      <td>  50</td>\n",
       "      <td> </td>\n",
       "      <td> 0.03</td>\n",
       "      <td> 0.03</td>\n",
       "    </tr>\n",
       "    <tr>\n",
       "      <th>98</th>\n",
       "      <td> 102</td>\n",
       "      <td> 158</td>\n",
       "      <td> </td>\n",
       "      <td> 0.12</td>\n",
       "      <td> 0.10</td>\n",
       "    </tr>\n",
       "  </tbody>\n",
       "</table>\n",
       "</div>"
      ],
      "text/plain": [
       "                    cross-section Samples  panel Samples        \\\n",
       "hh_income_detailed                                               \n",
       "1                                      26             60         \n",
       "2                                      84            161         \n",
       "3                                      61            122         \n",
       "4                                      92            184         \n",
       "5                                     120            233         \n",
       "6                                     104            219         \n",
       "7                                     132            274         \n",
       "8                                      50             96         \n",
       "9                                      26             52         \n",
       "10                                     24             50         \n",
       "98                                    102            158         \n",
       "\n",
       "                    cross-section Shares  panel Shares  \n",
       "hh_income_detailed                                      \n",
       "1                                   0.03          0.04  \n",
       "2                                   0.10          0.10  \n",
       "3                                   0.07          0.08  \n",
       "4                                   0.11          0.11  \n",
       "5                                   0.15          0.14  \n",
       "6                                   0.13          0.14  \n",
       "7                                   0.16          0.17  \n",
       "8                                   0.06          0.06  \n",
       "9                                   0.03          0.03  \n",
       "10                                  0.03          0.03  \n",
       "98                                  0.12          0.10  "
      ]
     },
     "execution_count": 33,
     "metadata": {},
     "output_type": "execute_result"
    }
   ],
   "source": [
    "df_sample(hh15cc, hh15panel, 'hh_income_detailed', expwt15cc, expwt15panel)"
   ]
  },
  {
   "cell_type": "markdown",
   "metadata": {},
   "source": [
    "** County **"
   ]
  },
  {
   "cell_type": "code",
   "execution_count": 34,
   "metadata": {
    "collapsed": false
   },
   "outputs": [
    {
     "data": {
      "text/html": [
       "<div style=\"max-height:1000px;max-width:1500px;overflow:auto;\">\n",
       "<table border=\"1\" class=\"dataframe\">\n",
       "  <thead>\n",
       "    <tr style=\"text-align: right;\">\n",
       "      <th></th>\n",
       "      <th>cross-section Samples</th>\n",
       "      <th>panel Samples</th>\n",
       "      <th>     </th>\n",
       "      <th>cross-section Shares</th>\n",
       "      <th>panel Shares</th>\n",
       "    </tr>\n",
       "    <tr>\n",
       "      <th>h_county_name</th>\n",
       "      <th></th>\n",
       "      <th></th>\n",
       "      <th></th>\n",
       "      <th></th>\n",
       "      <th></th>\n",
       "    </tr>\n",
       "  </thead>\n",
       "  <tbody>\n",
       "    <tr>\n",
       "      <th>King</th>\n",
       "      <td> 371</td>\n",
       "      <td> 1088</td>\n",
       "      <td> </td>\n",
       "      <td> 0.45</td>\n",
       "      <td> 0.68</td>\n",
       "    </tr>\n",
       "    <tr>\n",
       "      <th>Kitsap</th>\n",
       "      <td>  47</td>\n",
       "      <td>   80</td>\n",
       "      <td> </td>\n",
       "      <td> 0.06</td>\n",
       "      <td> 0.05</td>\n",
       "    </tr>\n",
       "    <tr>\n",
       "      <th>Pierce</th>\n",
       "      <td> 299</td>\n",
       "      <td>  249</td>\n",
       "      <td> </td>\n",
       "      <td> 0.36</td>\n",
       "      <td> 0.15</td>\n",
       "    </tr>\n",
       "    <tr>\n",
       "      <th>Snohomish</th>\n",
       "      <td> 104</td>\n",
       "      <td>  192</td>\n",
       "      <td> </td>\n",
       "      <td> 0.13</td>\n",
       "      <td> 0.12</td>\n",
       "    </tr>\n",
       "  </tbody>\n",
       "</table>\n",
       "</div>"
      ],
      "text/plain": [
       "               cross-section Samples  panel Samples        \\\n",
       "h_county_name                                               \n",
       "King                             371           1088         \n",
       "Kitsap                            47             80         \n",
       "Pierce                           299            249         \n",
       "Snohomish                        104            192         \n",
       "\n",
       "               cross-section Shares  panel Shares  \n",
       "h_county_name                                      \n",
       "King                           0.45          0.68  \n",
       "Kitsap                         0.06          0.05  \n",
       "Pierce                         0.36          0.15  \n",
       "Snohomish                      0.13          0.12  "
      ]
     },
     "execution_count": 34,
     "metadata": {},
     "output_type": "execute_result"
    }
   ],
   "source": [
    "df_sample(hh15cc, hh15panel, 'h_county_name', expwt15cc, expwt15panel, report_avg=False)"
   ]
  },
  {
   "cell_type": "code",
   "execution_count": null,
   "metadata": {
    "collapsed": true
   },
   "outputs": [],
   "source": [
    "# Notice that the oversample from Pierce shows up in the county distribution"
   ]
  },
  {
   "cell_type": "code",
   "execution_count": 35,
   "metadata": {
    "collapsed": false
   },
   "outputs": [
    {
     "data": {
      "text/html": [
       "<div style=\"max-height:1000px;max-width:1500px;overflow:auto;\">\n",
       "<table border=\"1\" class=\"dataframe\">\n",
       "  <thead>\n",
       "    <tr style=\"text-align: right;\">\n",
       "      <th></th>\n",
       "      <th>cross-section Samples</th>\n",
       "      <th>panel Samples</th>\n",
       "      <th>     </th>\n",
       "      <th>cross-section Shares</th>\n",
       "      <th>panel Shares</th>\n",
       "    </tr>\n",
       "    <tr>\n",
       "      <th>h_district_name</th>\n",
       "      <th></th>\n",
       "      <th></th>\n",
       "      <th></th>\n",
       "      <th></th>\n",
       "      <th></th>\n",
       "    </tr>\n",
       "  </thead>\n",
       "  <tbody>\n",
       "    <tr>\n",
       "      <th>East Side</th>\n",
       "      <td>  86</td>\n",
       "      <td> 226</td>\n",
       "      <td> </td>\n",
       "      <td> 0.10</td>\n",
       "      <td> 0.14</td>\n",
       "    </tr>\n",
       "    <tr>\n",
       "      <th>Everett-Lynwood-Edmonds</th>\n",
       "      <td>  50</td>\n",
       "      <td>  98</td>\n",
       "      <td> </td>\n",
       "      <td> 0.06</td>\n",
       "      <td> 0.06</td>\n",
       "    </tr>\n",
       "    <tr>\n",
       "      <th>Kitsap</th>\n",
       "      <td>  47</td>\n",
       "      <td>  80</td>\n",
       "      <td> </td>\n",
       "      <td> 0.06</td>\n",
       "      <td> 0.05</td>\n",
       "    </tr>\n",
       "    <tr>\n",
       "      <th>North Seattle-Shoreline</th>\n",
       "      <td>  89</td>\n",
       "      <td> 310</td>\n",
       "      <td> </td>\n",
       "      <td> 0.11</td>\n",
       "      <td> 0.19</td>\n",
       "    </tr>\n",
       "    <tr>\n",
       "      <th>Renton-FedWay-Kent</th>\n",
       "      <td>  59</td>\n",
       "      <td>  98</td>\n",
       "      <td> </td>\n",
       "      <td> 0.07</td>\n",
       "      <td> 0.06</td>\n",
       "    </tr>\n",
       "    <tr>\n",
       "      <th>Seattle CBD</th>\n",
       "      <td>  89</td>\n",
       "      <td> 329</td>\n",
       "      <td> </td>\n",
       "      <td> 0.11</td>\n",
       "      <td> 0.20</td>\n",
       "    </tr>\n",
       "    <tr>\n",
       "      <th>South Pierce</th>\n",
       "      <td>  56</td>\n",
       "      <td> 132</td>\n",
       "      <td> </td>\n",
       "      <td> 0.07</td>\n",
       "      <td> 0.08</td>\n",
       "    </tr>\n",
       "    <tr>\n",
       "      <th>Suburban Snohomish</th>\n",
       "      <td>  54</td>\n",
       "      <td>  94</td>\n",
       "      <td> </td>\n",
       "      <td> 0.07</td>\n",
       "      <td> 0.06</td>\n",
       "    </tr>\n",
       "    <tr>\n",
       "      <th>Tacoma</th>\n",
       "      <td> 243</td>\n",
       "      <td> 117</td>\n",
       "      <td> </td>\n",
       "      <td> 0.30</td>\n",
       "      <td> 0.07</td>\n",
       "    </tr>\n",
       "    <tr>\n",
       "      <th>West-South Seattle</th>\n",
       "      <td>  48</td>\n",
       "      <td> 125</td>\n",
       "      <td> </td>\n",
       "      <td> 0.06</td>\n",
       "      <td> 0.08</td>\n",
       "    </tr>\n",
       "  </tbody>\n",
       "</table>\n",
       "</div>"
      ],
      "text/plain": [
       "                         cross-section Samples  panel Samples        \\\n",
       "h_district_name                                                       \n",
       "East Side                                   86            226         \n",
       "Everett-Lynwood-Edmonds                     50             98         \n",
       "Kitsap                                      47             80         \n",
       "North Seattle-Shoreline                     89            310         \n",
       "Renton-FedWay-Kent                          59             98         \n",
       "Seattle CBD                                 89            329         \n",
       "South Pierce                                56            132         \n",
       "Suburban Snohomish                          54             94         \n",
       "Tacoma                                     243            117         \n",
       "West-South Seattle                          48            125         \n",
       "\n",
       "                         cross-section Shares  panel Shares  \n",
       "h_district_name                                              \n",
       "East Side                                0.10          0.14  \n",
       "Everett-Lynwood-Edmonds                  0.06          0.06  \n",
       "Kitsap                                   0.06          0.05  \n",
       "North Seattle-Shoreline                  0.11          0.19  \n",
       "Renton-FedWay-Kent                       0.07          0.06  \n",
       "Seattle CBD                              0.11          0.20  \n",
       "South Pierce                             0.07          0.08  \n",
       "Suburban Snohomish                       0.07          0.06  \n",
       "Tacoma                                   0.30          0.07  \n",
       "West-South Seattle                       0.06          0.08  "
      ]
     },
     "execution_count": 35,
     "metadata": {},
     "output_type": "execute_result"
    }
   ],
   "source": [
    "df_sample(hh15cc, hh15panel, 'h_district_name', expwt15cc, expwt15panel, report_avg=False)"
   ]
  },
  {
   "cell_type": "markdown",
   "metadata": {},
   "source": [
    "** Residence Type **"
   ]
  },
  {
   "cell_type": "markdown",
   "metadata": {},
   "source": [
    "** more apartment dwellers in panel, fewer SFH**"
   ]
  },
  {
   "cell_type": "code",
   "execution_count": 36,
   "metadata": {
    "collapsed": false
   },
   "outputs": [
    {
     "data": {
      "text/html": [
       "<div style=\"max-height:1000px;max-width:1500px;overflow:auto;\">\n",
       "<table border=\"1\" class=\"dataframe\">\n",
       "  <thead>\n",
       "    <tr style=\"text-align: right;\">\n",
       "      <th></th>\n",
       "      <th>cross-section Samples</th>\n",
       "      <th>panel Samples</th>\n",
       "      <th>     </th>\n",
       "      <th>cross-section Shares</th>\n",
       "      <th>panel Shares</th>\n",
       "    </tr>\n",
       "    <tr>\n",
       "      <th>res_type</th>\n",
       "      <th></th>\n",
       "      <th></th>\n",
       "      <th></th>\n",
       "      <th></th>\n",
       "      <th></th>\n",
       "    </tr>\n",
       "  </thead>\n",
       "  <tbody>\n",
       "    <tr>\n",
       "      <th>1</th>\n",
       "      <td> 478</td>\n",
       "      <td> 842</td>\n",
       "      <td> </td>\n",
       "      <td> 0.58</td>\n",
       "      <td> 0.52</td>\n",
       "    </tr>\n",
       "    <tr>\n",
       "      <th>2</th>\n",
       "      <td>  46</td>\n",
       "      <td>  83</td>\n",
       "      <td> </td>\n",
       "      <td> 0.06</td>\n",
       "      <td> 0.05</td>\n",
       "    </tr>\n",
       "    <tr>\n",
       "      <th>3</th>\n",
       "      <td>  25</td>\n",
       "      <td>  31</td>\n",
       "      <td> </td>\n",
       "      <td> 0.03</td>\n",
       "      <td> 0.02</td>\n",
       "    </tr>\n",
       "    <tr>\n",
       "      <th>4</th>\n",
       "      <td>  20</td>\n",
       "      <td>  17</td>\n",
       "      <td> </td>\n",
       "      <td> 0.02</td>\n",
       "      <td> 0.01</td>\n",
       "    </tr>\n",
       "    <tr>\n",
       "      <th>5</th>\n",
       "      <td> 240</td>\n",
       "      <td> 610</td>\n",
       "      <td> </td>\n",
       "      <td> 0.29</td>\n",
       "      <td> 0.38</td>\n",
       "    </tr>\n",
       "    <tr>\n",
       "      <th>6</th>\n",
       "      <td>   9</td>\n",
       "      <td>  19</td>\n",
       "      <td> </td>\n",
       "      <td> 0.01</td>\n",
       "      <td> 0.01</td>\n",
       "    </tr>\n",
       "    <tr>\n",
       "      <th>8</th>\n",
       "      <td>   3</td>\n",
       "      <td>   4</td>\n",
       "      <td> </td>\n",
       "      <td> 0.00</td>\n",
       "      <td> 0.00</td>\n",
       "    </tr>\n",
       "  </tbody>\n",
       "</table>\n",
       "</div>"
      ],
      "text/plain": [
       "          cross-section Samples  panel Samples        cross-section Shares  \\\n",
       "res_type                                                                     \n",
       "1                           478            842                        0.58   \n",
       "2                            46             83                        0.06   \n",
       "3                            25             31                        0.03   \n",
       "4                            20             17                        0.02   \n",
       "5                           240            610                        0.29   \n",
       "6                             9             19                        0.01   \n",
       "8                             3              4                        0.00   \n",
       "\n",
       "          panel Shares  \n",
       "res_type                \n",
       "1                 0.52  \n",
       "2                 0.05  \n",
       "3                 0.02  \n",
       "4                 0.01  \n",
       "5                 0.38  \n",
       "6                 0.01  \n",
       "8                 0.00  "
      ]
     },
     "execution_count": 36,
     "metadata": {},
     "output_type": "execute_result"
    }
   ],
   "source": [
    "df_sample(hh15cc, hh15panel, 'res_type', expwt15cc, expwt15panel, report_avg=False)"
   ]
  },
  {
   "cell_type": "code",
   "execution_count": 252,
   "metadata": {
    "collapsed": false
   },
   "outputs": [
    {
     "name": "stdout",
     "output_type": "stream",
     "text": [
      "                  2014 Samples  2015 Samples        2014 Shares  2015 Shares\n",
      "res_factors_walk                                                            \n",
      "1                          409           136               0.07         0.06\n",
      "2                          428           162               0.07         0.07\n",
      "3                          687           268               0.11         0.11\n",
      "4                         1851           782               0.31         0.32\n",
      "5                         2661          1082               0.44         0.45\n",
      "------------------------------------------------------------------------------------------\n"
     ]
    }
   ],
   "source": [
    "df_sample(hh14, hh15, 'res_factors_walk', expwt14, expwt15, report_avg=False)"
   ]
  },
  {
   "cell_type": "code",
   "execution_count": 253,
   "metadata": {
    "collapsed": false
   },
   "outputs": [
    {
     "name": "stdout",
     "output_type": "stream",
     "text": [
      "                    2014 Samples  2015 Samples        2014 Shares  2015 Shares\n",
      "res_factors_afford                                                            \n",
      "1                            290           112               0.05         0.05\n",
      "2                            217            79               0.04         0.03\n",
      "3                            404           155               0.07         0.06\n",
      "4                           1686           682               0.28         0.28\n",
      "5                           3439          1402               0.57         0.58\n",
      "------------------------------------------------------------------------------------------\n"
     ]
    }
   ],
   "source": [
    "df_sample(hh14, hh15, 'res_factors_afford', expwt14, expwt15, report_avg=False)"
   ]
  },
  {
   "cell_type": "code",
   "execution_count": 254,
   "metadata": {
    "collapsed": false
   },
   "outputs": [
    {
     "name": "stdout",
     "output_type": "stream",
     "text": [
      "                     2014 Samples  2015 Samples        2014 Shares  \\\n",
      "res_factors_transit                                                  \n",
      "1                            1035           390               0.17   \n",
      "2                             664           258               0.11   \n",
      "3                            1055           434               0.17   \n",
      "4                            1405           598               0.23   \n",
      "5                            1877           750               0.31   \n",
      "\n",
      "                     2015 Shares  \n",
      "res_factors_transit               \n",
      "1                           0.16  \n",
      "2                           0.11  \n",
      "3                           0.18  \n",
      "4                           0.25  \n",
      "5                           0.31  \n",
      "------------------------------------------------------------------------------------------\n"
     ]
    }
   ],
   "source": [
    "df_sample(hh14, hh15, 'res_factors_transit', expwt14, expwt15, report_avg=False)"
   ]
  },
  {
   "cell_type": "code",
   "execution_count": null,
   "metadata": {
    "collapsed": true
   },
   "outputs": [],
   "source": []
  }
 ],
 "metadata": {
  "kernelspec": {
   "display_name": "Python 2",
   "language": "python",
   "name": "python2"
  },
  "language_info": {
   "codemirror_mode": {
    "name": "ipython",
    "version": 2
   },
   "file_extension": ".py",
   "mimetype": "text/x-python",
   "name": "python",
   "nbconvert_exporter": "python",
   "pygments_lexer": "ipython2",
   "version": "2.7.9"
  }
 },
 "nbformat": 4,
 "nbformat_minor": 0
}
