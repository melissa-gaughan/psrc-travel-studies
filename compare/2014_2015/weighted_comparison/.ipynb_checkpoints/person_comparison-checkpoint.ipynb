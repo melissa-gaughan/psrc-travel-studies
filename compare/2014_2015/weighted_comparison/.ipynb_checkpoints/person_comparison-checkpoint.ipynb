{
 "cells": [
  {
   "cell_type": "code",
   "execution_count": 44,
   "metadata": {
    "collapsed": false
   },
   "outputs": [
    {
     "data": {
      "text/html": [
       "\n",
       "<script src=\"//code.highcharts.com/stock/highstock.js\"></script>\n",
       "<script src=\"//code.highcharts.com/highcharts-more.js\"></script>\n",
       "<script src=\"//code.highcharts.com/modules/exporting.js\"></script>\n"
      ],
      "text/plain": [
       "<IPython.core.display.HTML object>"
      ]
     },
     "metadata": {},
     "output_type": "display_data"
    },
    {
     "name": "stdout",
     "output_type": "stream",
     "text": [
      "Populating the interactive namespace from numpy and matplotlib\n"
     ]
    }
   ],
   "source": [
    "import pandas as pd\n",
    "import numpy as np\n",
    "from IPython.display import display, display_pretty, Javascript, HTML\n",
    "from pandas_highcharts.core import serialize\n",
    "from pandas_highcharts.display import display_charts\n",
    "import matplotlib.pyplot as plt\n",
    "\n",
    "# Show charts in notebook\n",
    "%pylab inline"
   ]
  },
  {
   "cell_type": "code",
   "execution_count": 12,
   "metadata": {
    "collapsed": true
   },
   "outputs": [],
   "source": [
    "# Load 2014 and 2015 survey household data\n",
    "hh14 = pd.read_excel(r'J:\\Projects\\Surveys\\HHTravel\\Survey2014\\Data\\Final database\\Release 4\\2014-pr3-M-hhsurvey-households.xlsx', sheet='Data')\n",
    "hh15 = pd.read_excel(r'J:\\Projects\\Surveys\\HHTravel\\Survey2015\\Data\\Household\\1_PSRC2015_HH_2015-07-27_V1.2.xlsx', sheet='Data')"
   ]
  },
  {
   "cell_type": "code",
   "execution_count": 5,
   "metadata": {
    "collapsed": false
   },
   "outputs": [],
   "source": [
    "# Load 2014 and 2015 survey household data\n",
    "person14 = pd.read_excel(r'J:\\Projects\\Surveys\\HHTravel\\Survey2014\\Data\\Final database\\Release 4\\2014-pr3-M-hhsurvey-persons.xlsx', sheet='Data')\n",
    "person15 = pd.read_excel(r'J:\\Projects\\Surveys\\HHTravel\\Survey2015\\Data\\Person\\3_PSRC2015_Person_2015-07-27_V1.2.xlsx', sheet='Data')"
   ]
  },
  {
   "cell_type": "code",
   "execution_count": 20,
   "metadata": {
    "collapsed": false
   },
   "outputs": [
    {
     "data": {
      "text/plain": [
       "4786"
      ]
     },
     "execution_count": 20,
     "metadata": {},
     "output_type": "execute_result"
    }
   ],
   "source": [
    "len(person15)"
   ]
  },
  {
   "cell_type": "code",
   "execution_count": 14,
   "metadata": {
    "collapsed": false
   },
   "outputs": [],
   "source": [
    "# Load the combined 2014-2015 dataset to get expansion weights\n",
    "hh14_15 = pd.read_excel(r'J:\\Projects\\Surveys\\HHTravel\\Survey2014\\Data\\Combined\\1_Combined_HH_2015-11-17.xlsx', sheet='Data')"
   ]
  },
  {
   "cell_type": "code",
   "execution_count": 16,
   "metadata": {
    "collapsed": false
   },
   "outputs": [
    {
     "data": {
      "text/plain": [
       "2428"
      ]
     },
     "execution_count": 16,
     "metadata": {},
     "output_type": "execute_result"
    }
   ],
   "source": [
    "# Select only the 2015 household records\n",
    "hh14_15=hh14_15[hh14_15['datasource'] == 'hts2015']\n",
    "len(hh14_15)"
   ]
  },
  {
   "cell_type": "code",
   "execution_count": 17,
   "metadata": {
    "collapsed": true
   },
   "outputs": [],
   "source": [
    "person15 = pd.merge(person15,hh14_15[['hhid','expwt_h1415']],on='hhid')"
   ]
  },
  {
   "cell_type": "code",
   "execution_count": 28,
   "metadata": {
    "collapsed": false
   },
   "outputs": [],
   "source": [
    "per14 = person14\n",
    "per15 = person15"
   ]
  },
  {
   "cell_type": "code",
   "execution_count": 41,
   "metadata": {
    "collapsed": false
   },
   "outputs": [],
   "source": [
    "df1 = per14\n",
    "df2 = per15"
   ]
  },
  {
   "cell_type": "code",
   "execution_count": 31,
   "metadata": {
    "collapsed": false
   },
   "outputs": [],
   "source": [
    "expwt14 = 'expwt_final'\n",
    "expwt15 = 'expwt_h1415'    # No weights yet so just using arbitrary column to sum up counts\n",
    "\n",
    "person14.year = '2014'\n",
    "person15.year = '2015'"
   ]
  },
  {
   "cell_type": "code",
   "execution_count": 48,
   "metadata": {
    "collapsed": false
   },
   "outputs": [],
   "source": [
    "labels = {\n",
    "1: \"<5\",\n",
    "2: \"5-11\",\n",
    "3: \"12-15\",\n",
    "4: \"16-17\",\n",
    "5: \"18-24\",\n",
    "6: \"25-34\",\n",
    "7: \"35-44\",\n",
    "8: \"45-54\",\n",
    "9: \"55-64\",\n",
    "10: \"65-74\",\n",
    "11: \"75-84\",\n",
    "12: \"85+\"}\n",
    "\n",
    "\n",
    "df1['age'] = ([labels[x] for x in df1['age']])\n",
    "df2['age'] = ([labels[x] for x in df2['age']])"
   ]
  },
  {
   "cell_type": "code",
   "execution_count": 60,
   "metadata": {
    "collapsed": false
   },
   "outputs": [],
   "source": [
    "labels = {\n",
    "0: \"No answer\",\n",
    "1: \"Employed full-time\",\n",
    "2: \"Employed part-time\",\n",
    "3: \"Self-employed\",\n",
    "4: \"Unpaid volunteed\",\n",
    "5: \"Homemaker\",\n",
    "6: \"Retired\",\n",
    "7: \"Not employed\"\n",
    "}\n",
    "\n",
    "df1['employment'].fillna(0, inplace=True)\n",
    "df2['employment'].fillna(0, inplace=True)\n",
    "df1['employment'] = ([labels[x] for x in df1['employment']])\n",
    "df2['employment'] = ([labels[x] for x in df2['employment']])"
   ]
  },
  {
   "cell_type": "code",
   "execution_count": null,
   "metadata": {
    "collapsed": true
   },
   "outputs": [],
   "source": [
    "labels = {\n",
    "1: \"male\",\n",
    "2: \"female\"\n",
    "}\n",
    "\n",
    "df1['gender'] = ([labels[x] for x in df1['gender']])\n",
    "df2['gender'] = ([labels[x] for x in df2['gender']])"
   ]
  },
  {
   "cell_type": "code",
   "execution_count": 69,
   "metadata": {
    "collapsed": false
   },
   "outputs": [],
   "source": [
    "fieldname = 'student'\n",
    "labels = {\n",
    "0: \"No response\",\n",
    "1: \"Not a student\",\n",
    "2: \"Full-time student\",\n",
    "3: \"Part-time student\",\n",
    "4: \"Vocational/technical student\"\n",
    "}\n",
    "\n",
    "df1[fieldname].fillna(0, inplace=True)\n",
    "df2[fieldname].fillna(0, inplace=True)\n",
    "df1[fieldname] = ([labels[x] for x in df1[fieldname]])\n",
    "df2[fieldname] = ([labels[x] for x in df2[fieldname]])"
   ]
  },
  {
   "cell_type": "code",
   "execution_count": 70,
   "metadata": {
    "collapsed": true
   },
   "outputs": [],
   "source": [
    "fieldname = 'education'\n",
    "labels = {\n",
    "0: \"No response\",\n",
    "1: \"Less than high school\",\n",
    "2: \"High school graduate\",\n",
    "3: \"Some college\",\n",
    "4: \"Vocational/technical training\",\n",
    "5: \"Associates degree\",\n",
    "6: \"Bachelor degree\",\n",
    "7: \"Graduate/post-graduate degree\"\n",
    "}\n",
    "\n",
    "df1[fieldname].fillna(0, inplace=True)\n",
    "df2[fieldname].fillna(0, inplace=True)\n",
    "df1[fieldname] = ([labels[x] for x in df1[fieldname]])\n",
    "df2[fieldname] = ([labels[x] for x in df2[fieldname]])"
   ]
  },
  {
   "cell_type": "code",
   "execution_count": null,
   "metadata": {
    "collapsed": true
   },
   "outputs": [],
   "source": []
  },
  {
   "cell_type": "code",
   "execution_count": 25,
   "metadata": {
    "collapsed": false
   },
   "outputs": [],
   "source": [
    "def df_sample(df1, df2, field, agg1, agg2, report_avg=True, print_df=False):\n",
    "    '''Compare samples from two surveys in the same dataframe'''\n",
    "    df = pd.DataFrame()\n",
    "    df[df1.year + ' Samples'] = df1.groupby(field).count()[agg1]\n",
    "    df[df2.year + ' Samples'] = df2.groupby(field).count()[agg2]\n",
    "    df[\" \"*5] = \"\"    # empty col to separate samples from shares\n",
    "    df[df1.year + ' Shares'] = (df1.groupby(field).count()[agg1]/df1[agg1].count()).round(2)\n",
    "    df[df2.year + ' Shares'] = (df2.groupby(field).count()[agg2]/df2[agg2].count()).round(2)\n",
    "\n",
    "    if print_df:\n",
    "        print df  \n",
    "\n",
    "        print \"---------\" * 10\n",
    "\n",
    "        if report_avg:\n",
    "            print \"Sample average \" + df1.year + \": \" + str(np.round(df1[field].mean(),2))\n",
    "            print \"Sample average \" + df2.year + \": \" + str(np.round(df2[field].mean(),2))\n",
    "            \n",
    "    else:\n",
    "        return df"
   ]
  },
  {
   "cell_type": "code",
   "execution_count": 26,
   "metadata": {
    "collapsed": true
   },
   "outputs": [],
   "source": [
    "def df_weighted(df1, df2, field, agg1, agg2):\n",
    "    '''Compare weighted results from two data sources'''\n",
    "    df = pd.DataFrame()\n",
    "    df[df1.year] = df1.groupby(field).sum()[agg1]\n",
    "    df[df2.year] = df2.groupby(field).sum()[agg2]\n",
    "    df[\" \"*5] = \"\"    # empty col to separate samples from shares\n",
    "    df[df1.year + ' Shares'] = (df1.groupby(field).sum()[agg1]/df1[agg1].sum()).round(2)\n",
    "    df[df2.year + ' Shares'] = (df2.groupby(field).sum()[agg2]/df2[agg2].sum()).round(2)\n",
    "    \n",
    "    return df"
   ]
  },
  {
   "cell_type": "code",
   "execution_count": 27,
   "metadata": {
    "collapsed": true
   },
   "outputs": [],
   "source": [
    "def df_mean(df, fieldname):\n",
    "    '''Calculate mean for categorical dataframes'''\n",
    "    mean = {}\n",
    "    mean[df1.year] = (df[df1.year]*df.index).sum()/(df[df1.year].sum())\n",
    "    mean[df2.year] = (df[df2.year]*df.index).sum()/(df[df2.year].sum())\n",
    "    print 'Mean - ' + fieldname\n",
    "    print df1.year + ': ' + str(mean[df1.year])\n",
    "    print df2.year + ': ' + str(mean[df2.year])"
   ]
  },
  {
   "cell_type": "code",
   "execution_count": null,
   "metadata": {
    "collapsed": true
   },
   "outputs": [],
   "source": []
  },
  {
   "cell_type": "markdown",
   "metadata": {},
   "source": [
    "** Age Category**"
   ]
  },
  {
   "cell_type": "code",
   "execution_count": 49,
   "metadata": {
    "collapsed": false
   },
   "outputs": [
    {
     "data": {
      "text/html": [
       "<div style=\"max-height:1000px;max-width:1500px;overflow:auto;\">\n",
       "<table border=\"1\" class=\"dataframe\">\n",
       "  <thead>\n",
       "    <tr style=\"text-align: right;\">\n",
       "      <th></th>\n",
       "      <th>2014</th>\n",
       "      <th>2015</th>\n",
       "      <th>     </th>\n",
       "      <th>2014 Shares</th>\n",
       "      <th>2015 Shares</th>\n",
       "    </tr>\n",
       "    <tr>\n",
       "      <th>age</th>\n",
       "      <th></th>\n",
       "      <th></th>\n",
       "      <th></th>\n",
       "      <th></th>\n",
       "      <th></th>\n",
       "    </tr>\n",
       "  </thead>\n",
       "  <tbody>\n",
       "    <tr>\n",
       "      <th>12-15</th>\n",
       "      <td> 184165.9639</td>\n",
       "      <td> 190764.542597</td>\n",
       "      <td> </td>\n",
       "      <td> 0.05</td>\n",
       "      <td> 0.05</td>\n",
       "    </tr>\n",
       "    <tr>\n",
       "      <th>16-17</th>\n",
       "      <td>  81213.2928</td>\n",
       "      <td>  75486.747351</td>\n",
       "      <td> </td>\n",
       "      <td> 0.02</td>\n",
       "      <td> 0.02</td>\n",
       "    </tr>\n",
       "    <tr>\n",
       "      <th>18-24</th>\n",
       "      <td> 202720.4296</td>\n",
       "      <td> 195725.567723</td>\n",
       "      <td> </td>\n",
       "      <td> 0.06</td>\n",
       "      <td> 0.05</td>\n",
       "    </tr>\n",
       "    <tr>\n",
       "      <th>25-34</th>\n",
       "      <td> 543963.5019</td>\n",
       "      <td> 556810.857804</td>\n",
       "      <td> </td>\n",
       "      <td> 0.16</td>\n",
       "      <td> 0.15</td>\n",
       "    </tr>\n",
       "    <tr>\n",
       "      <th>35-44</th>\n",
       "      <td> 506535.8516</td>\n",
       "      <td> 560040.845658</td>\n",
       "      <td> </td>\n",
       "      <td> 0.15</td>\n",
       "      <td> 0.15</td>\n",
       "    </tr>\n",
       "    <tr>\n",
       "      <th>45-54</th>\n",
       "      <td> 526958.4817</td>\n",
       "      <td> 511913.650486</td>\n",
       "      <td> </td>\n",
       "      <td> 0.15</td>\n",
       "      <td> 0.14</td>\n",
       "    </tr>\n",
       "    <tr>\n",
       "      <th>5-11</th>\n",
       "      <td> 306435.4751</td>\n",
       "      <td> 376064.417550</td>\n",
       "      <td> </td>\n",
       "      <td> 0.09</td>\n",
       "      <td> 0.10</td>\n",
       "    </tr>\n",
       "    <tr>\n",
       "      <th>55-64</th>\n",
       "      <td> 489038.0149</td>\n",
       "      <td> 512457.194449</td>\n",
       "      <td> </td>\n",
       "      <td> 0.14</td>\n",
       "      <td> 0.14</td>\n",
       "    </tr>\n",
       "    <tr>\n",
       "      <th>65-74</th>\n",
       "      <td> 272537.3586</td>\n",
       "      <td> 277338.494330</td>\n",
       "      <td> </td>\n",
       "      <td> 0.08</td>\n",
       "      <td> 0.08</td>\n",
       "    </tr>\n",
       "    <tr>\n",
       "      <th>75-84</th>\n",
       "      <td> 100813.0721</td>\n",
       "      <td> 115584.030035</td>\n",
       "      <td> </td>\n",
       "      <td> 0.03</td>\n",
       "      <td> 0.03</td>\n",
       "    </tr>\n",
       "    <tr>\n",
       "      <th>85+</th>\n",
       "      <td>  28058.4185</td>\n",
       "      <td>  30315.558243</td>\n",
       "      <td> </td>\n",
       "      <td> 0.01</td>\n",
       "      <td> 0.01</td>\n",
       "    </tr>\n",
       "    <tr>\n",
       "      <th>&lt;5</th>\n",
       "      <td> 222095.7837</td>\n",
       "      <td> 283832.492431</td>\n",
       "      <td> </td>\n",
       "      <td> 0.06</td>\n",
       "      <td> 0.08</td>\n",
       "    </tr>\n",
       "  </tbody>\n",
       "</table>\n",
       "</div>"
      ],
      "text/plain": [
       "              2014           2015        2014 Shares  2015 Shares\n",
       "age                                                              \n",
       "12-15  184165.9639  190764.542597               0.05         0.05\n",
       "16-17   81213.2928   75486.747351               0.02         0.02\n",
       "18-24  202720.4296  195725.567723               0.06         0.05\n",
       "25-34  543963.5019  556810.857804               0.16         0.15\n",
       "35-44  506535.8516  560040.845658               0.15         0.15\n",
       "45-54  526958.4817  511913.650486               0.15         0.14\n",
       "5-11   306435.4751  376064.417550               0.09         0.10\n",
       "55-64  489038.0149  512457.194449               0.14         0.14\n",
       "65-74  272537.3586  277338.494330               0.08         0.08\n",
       "75-84  100813.0721  115584.030035               0.03         0.03\n",
       "85+     28058.4185   30315.558243               0.01         0.01\n",
       "<5     222095.7837  283832.492431               0.06         0.08"
      ]
     },
     "execution_count": 49,
     "metadata": {},
     "output_type": "execute_result"
    }
   ],
   "source": [
    "fieldname = 'age'\n",
    "df = df_weighted(per14, per15, fieldname, expwt14, expwt15)\n",
    "df"
   ]
  },
  {
   "cell_type": "code",
   "execution_count": 51,
   "metadata": {
    "collapsed": false
   },
   "outputs": [
    {
     "data": {
      "text/html": [
       "<div id=\"chart_idwGebAzQJ\"</div>\n",
       "    <script type=\"text/javascript\">new Highcharts.Chart({\"title\":{\"text\":\"age\"},\"series\":[{\"data\":[[\"12-15\",0.05],[\"16-17\",0.02],[\"18-24\",0.06],[\"25-34\",0.16],[\"35-44\",0.15],[\"45-54\",0.15],[\"5-11\",0.09],[\"55-64\",0.14],[\"65-74\",0.08],[\"75-84\",0.03],[\"85+\",0.01],[\"<5\",0.06]],\"name\":\"2014 Shares\",\"yAxis\":0},{\"data\":[[\"12-15\",0.05],[\"16-17\",0.02],[\"18-24\",0.05],[\"25-34\",0.15],[\"35-44\",0.15],[\"45-54\",0.14],[\"5-11\",0.1],[\"55-64\",0.14],[\"65-74\",0.08],[\"75-84\",0.03],[\"85+\",0.01],[\"<5\",0.08]],\"name\":\"2015 Shares\",\"yAxis\":0}],\"yAxis\":[{}],\"chart\":{\"renderTo\":\"chart_idwGebAzQJ\",\"type\":\"column\"},\"xAxis\":{\"categories\":[\"12-15\",\"16-17\",\"18-24\",\"25-34\",\"35-44\",\"45-54\",\"5-11\",\"55-64\",\"65-74\",\"75-84\",\"85+\",\"<5\"],\"title\":{\"text\":\"age\"}},\"legend\":{\"enabled\":true}});</script>"
      ],
      "text/plain": [
       "<IPython.core.display.HTML object>"
      ]
     },
     "metadata": {},
     "output_type": "display_data"
    }
   ],
   "source": [
    "df = df[[df1.year + ' Shares',df2.year + ' Shares']]\n",
    "display_charts(df, kind='bar', title=fieldname)"
   ]
  },
  {
   "cell_type": "markdown",
   "metadata": {},
   "source": [
    "** Gender **"
   ]
  },
  {
   "cell_type": "code",
   "execution_count": 53,
   "metadata": {
    "collapsed": false
   },
   "outputs": [
    {
     "data": {
      "text/html": [
       "<div style=\"max-height:1000px;max-width:1500px;overflow:auto;\">\n",
       "<table border=\"1\" class=\"dataframe\">\n",
       "  <thead>\n",
       "    <tr style=\"text-align: right;\">\n",
       "      <th></th>\n",
       "      <th>2014</th>\n",
       "      <th>2015</th>\n",
       "      <th>     </th>\n",
       "      <th>2014 Shares</th>\n",
       "      <th>2015 Shares</th>\n",
       "    </tr>\n",
       "    <tr>\n",
       "      <th>gender</th>\n",
       "      <th></th>\n",
       "      <th></th>\n",
       "      <th></th>\n",
       "      <th></th>\n",
       "      <th></th>\n",
       "    </tr>\n",
       "  </thead>\n",
       "  <tbody>\n",
       "    <tr>\n",
       "      <th>1</th>\n",
       "      <td> 1655805.1547</td>\n",
       "      <td> 1944793.844615</td>\n",
       "      <td> </td>\n",
       "      <td> 0.48</td>\n",
       "      <td> 0.53</td>\n",
       "    </tr>\n",
       "    <tr>\n",
       "      <th>2</th>\n",
       "      <td> 1808730.4897</td>\n",
       "      <td> 1741540.554044</td>\n",
       "      <td> </td>\n",
       "      <td> 0.52</td>\n",
       "      <td> 0.47</td>\n",
       "    </tr>\n",
       "  </tbody>\n",
       "</table>\n",
       "</div>"
      ],
      "text/plain": [
       "                2014            2015        2014 Shares  2015 Shares\n",
       "gender                                                              \n",
       "1       1655805.1547  1944793.844615               0.48         0.53\n",
       "2       1808730.4897  1741540.554044               0.52         0.47"
      ]
     },
     "execution_count": 53,
     "metadata": {},
     "output_type": "execute_result"
    }
   ],
   "source": [
    "fieldname = 'gender'\n",
    "df = df_weighted(per14, per15, fieldname, expwt14, expwt15)\n",
    "df"
   ]
  },
  {
   "cell_type": "code",
   "execution_count": 54,
   "metadata": {
    "collapsed": false
   },
   "outputs": [
    {
     "data": {
      "text/html": [
       "<div id=\"chart_idUMzPFkON\"</div>\n",
       "    <script type=\"text/javascript\">new Highcharts.Chart({\"title\":{\"text\":\"gender\"},\"series\":[{\"data\":[[1,0.48],[2,0.52]],\"name\":\"2014 Shares\",\"yAxis\":0},{\"data\":[[1,0.53],[2,0.47]],\"name\":\"2015 Shares\",\"yAxis\":0}],\"yAxis\":[{}],\"chart\":{\"renderTo\":\"chart_idUMzPFkON\",\"type\":\"column\"},\"xAxis\":{\"title\":{\"text\":\"gender\"}},\"legend\":{\"enabled\":true}});</script>"
      ],
      "text/plain": [
       "<IPython.core.display.HTML object>"
      ]
     },
     "metadata": {},
     "output_type": "display_data"
    }
   ],
   "source": [
    "df = df[[df1.year + ' Shares',df2.year + ' Shares']]\n",
    "display_charts(df, kind='bar', title=fieldname)"
   ]
  },
  {
   "cell_type": "markdown",
   "metadata": {},
   "source": [
    "** Employment **"
   ]
  },
  {
   "cell_type": "code",
   "execution_count": 79,
   "metadata": {
    "collapsed": false
   },
   "outputs": [
    {
     "data": {
      "text/html": [
       "<div style=\"max-height:1000px;max-width:1500px;overflow:auto;\">\n",
       "<table border=\"1\" class=\"dataframe\">\n",
       "  <thead>\n",
       "    <tr style=\"text-align: right;\">\n",
       "      <th></th>\n",
       "      <th>2014</th>\n",
       "      <th>2015</th>\n",
       "      <th>     </th>\n",
       "      <th>2014 Shares</th>\n",
       "      <th>2015 Shares</th>\n",
       "    </tr>\n",
       "    <tr>\n",
       "      <th>employment</th>\n",
       "      <th></th>\n",
       "      <th></th>\n",
       "      <th></th>\n",
       "      <th></th>\n",
       "      <th></th>\n",
       "    </tr>\n",
       "  </thead>\n",
       "  <tbody>\n",
       "    <tr>\n",
       "      <th>Employed full-time</th>\n",
       "      <td> 1295664.5362</td>\n",
       "      <td> 1355625.408051</td>\n",
       "      <td> </td>\n",
       "      <td> 0.37</td>\n",
       "      <td> 0.37</td>\n",
       "    </tr>\n",
       "    <tr>\n",
       "      <th>Employed part-time</th>\n",
       "      <td>  349441.4752</td>\n",
       "      <td>  352876.335554</td>\n",
       "      <td> </td>\n",
       "      <td> 0.10</td>\n",
       "      <td> 0.10</td>\n",
       "    </tr>\n",
       "    <tr>\n",
       "      <th>Homemaker</th>\n",
       "      <td>  172112.6044</td>\n",
       "      <td>  220030.630080</td>\n",
       "      <td> </td>\n",
       "      <td> 0.05</td>\n",
       "      <td> 0.06</td>\n",
       "    </tr>\n",
       "    <tr>\n",
       "      <th>No answer</th>\n",
       "      <td>  793910.5155</td>\n",
       "      <td>  926148.199929</td>\n",
       "      <td> </td>\n",
       "      <td> 0.23</td>\n",
       "      <td> 0.25</td>\n",
       "    </tr>\n",
       "    <tr>\n",
       "      <th>Not employed</th>\n",
       "      <td>  229365.2958</td>\n",
       "      <td>  162321.715023</td>\n",
       "      <td> </td>\n",
       "      <td> 0.07</td>\n",
       "      <td> 0.04</td>\n",
       "    </tr>\n",
       "    <tr>\n",
       "      <th>Retired</th>\n",
       "      <td>  385945.3978</td>\n",
       "      <td>  419060.888294</td>\n",
       "      <td> </td>\n",
       "      <td> 0.11</td>\n",
       "      <td> 0.11</td>\n",
       "    </tr>\n",
       "    <tr>\n",
       "      <th>Self-employed</th>\n",
       "      <td>  213930.6533</td>\n",
       "      <td>  228674.107502</td>\n",
       "      <td> </td>\n",
       "      <td> 0.06</td>\n",
       "      <td> 0.06</td>\n",
       "    </tr>\n",
       "    <tr>\n",
       "      <th>Unpaid volunteed</th>\n",
       "      <td>   24165.1662</td>\n",
       "      <td>   21597.114227</td>\n",
       "      <td> </td>\n",
       "      <td> 0.01</td>\n",
       "      <td> 0.01</td>\n",
       "    </tr>\n",
       "  </tbody>\n",
       "</table>\n",
       "</div>"
      ],
      "text/plain": [
       "                            2014            2015        2014 Shares  \\\n",
       "employment                                                            \n",
       "Employed full-time  1295664.5362  1355625.408051               0.37   \n",
       "Employed part-time   349441.4752   352876.335554               0.10   \n",
       "Homemaker            172112.6044   220030.630080               0.05   \n",
       "No answer            793910.5155   926148.199929               0.23   \n",
       "Not employed         229365.2958   162321.715023               0.07   \n",
       "Retired              385945.3978   419060.888294               0.11   \n",
       "Self-employed        213930.6533   228674.107502               0.06   \n",
       "Unpaid volunteed      24165.1662    21597.114227               0.01   \n",
       "\n",
       "                    2015 Shares  \n",
       "employment                       \n",
       "Employed full-time         0.37  \n",
       "Employed part-time         0.10  \n",
       "Homemaker                  0.06  \n",
       "No answer                  0.25  \n",
       "Not employed               0.04  \n",
       "Retired                    0.11  \n",
       "Self-employed              0.06  \n",
       "Unpaid volunteed           0.01  "
      ]
     },
     "execution_count": 79,
     "metadata": {},
     "output_type": "execute_result"
    }
   ],
   "source": [
    "fieldname = 'Employment'\n",
    "df = df_weighted(per14, per15, 'employment', expwt14, expwt15)\n",
    "df"
   ]
  },
  {
   "cell_type": "code",
   "execution_count": 80,
   "metadata": {
    "collapsed": false
   },
   "outputs": [
    {
     "data": {
      "text/html": [
       "<div id=\"chart_idrxNbYoYG\"</div>\n",
       "    <script type=\"text/javascript\">new Highcharts.Chart({\"title\":{\"text\":\"Employment\"},\"series\":[{\"data\":[[\"Employed full-time\",0.37],[\"Employed part-time\",0.1],[\"Homemaker\",0.05],[\"No answer\",0.23],[\"Not employed\",0.07],[\"Retired\",0.11],[\"Self-employed\",0.06],[\"Unpaid volunteed\",0.01]],\"name\":\"2014 Shares\",\"yAxis\":0},{\"data\":[[\"Employed full-time\",0.37],[\"Employed part-time\",0.1],[\"Homemaker\",0.06],[\"No answer\",0.25],[\"Not employed\",0.04],[\"Retired\",0.11],[\"Self-employed\",0.06],[\"Unpaid volunteed\",0.01]],\"name\":\"2015 Shares\",\"yAxis\":0}],\"yAxis\":[{}],\"chart\":{\"renderTo\":\"chart_idrxNbYoYG\",\"type\":\"column\"},\"xAxis\":{\"categories\":[\"Employed full-time\",\"Employed part-time\",\"Homemaker\",\"No answer\",\"Not employed\",\"Retired\",\"Self-employed\",\"Unpaid volunteed\"],\"title\":{\"text\":\"employment\"}},\"legend\":{\"enabled\":true}});</script>"
      ],
      "text/plain": [
       "<IPython.core.display.HTML object>"
      ]
     },
     "metadata": {},
     "output_type": "display_data"
    }
   ],
   "source": [
    "df = df[[df1.year + ' Shares',df2.year + ' Shares']]\n",
    "display_charts(df, kind='bar', title=fieldname)"
   ]
  },
  {
   "cell_type": "markdown",
   "metadata": {},
   "source": [
    "** Student Status **"
   ]
  },
  {
   "cell_type": "code",
   "execution_count": 81,
   "metadata": {
    "collapsed": false
   },
   "outputs": [
    {
     "data": {
      "text/html": [
       "<div style=\"max-height:1000px;max-width:1500px;overflow:auto;\">\n",
       "<table border=\"1\" class=\"dataframe\">\n",
       "  <thead>\n",
       "    <tr style=\"text-align: right;\">\n",
       "      <th></th>\n",
       "      <th>2014</th>\n",
       "      <th>2015</th>\n",
       "      <th>     </th>\n",
       "      <th>2014 Shares</th>\n",
       "      <th>2015 Shares</th>\n",
       "    </tr>\n",
       "    <tr>\n",
       "      <th>student</th>\n",
       "      <th></th>\n",
       "      <th></th>\n",
       "      <th></th>\n",
       "      <th></th>\n",
       "      <th></th>\n",
       "    </tr>\n",
       "  </thead>\n",
       "  <tbody>\n",
       "    <tr>\n",
       "      <th>Full-time student</th>\n",
       "      <td>   87932.0643</td>\n",
       "      <td>   56039.267053</td>\n",
       "      <td> </td>\n",
       "      <td> 0.03</td>\n",
       "      <td> 0.02</td>\n",
       "    </tr>\n",
       "    <tr>\n",
       "      <th>No response</th>\n",
       "      <td>  793910.5155</td>\n",
       "      <td>  926148.199929</td>\n",
       "      <td> </td>\n",
       "      <td> 0.23</td>\n",
       "      <td> 0.25</td>\n",
       "    </tr>\n",
       "    <tr>\n",
       "      <th>Not a student</th>\n",
       "      <td> 2437268.1698</td>\n",
       "      <td> 2571752.831632</td>\n",
       "      <td> </td>\n",
       "      <td> 0.70</td>\n",
       "      <td> 0.70</td>\n",
       "    </tr>\n",
       "    <tr>\n",
       "      <th>Part-time student</th>\n",
       "      <td>  145424.8948</td>\n",
       "      <td>  132394.100045</td>\n",
       "      <td> </td>\n",
       "      <td> 0.04</td>\n",
       "      <td> 0.04</td>\n",
       "    </tr>\n",
       "  </tbody>\n",
       "</table>\n",
       "</div>"
      ],
      "text/plain": [
       "                           2014            2015        2014 Shares  \\\n",
       "student                                                              \n",
       "Full-time student    87932.0643    56039.267053               0.03   \n",
       "No response         793910.5155   926148.199929               0.23   \n",
       "Not a student      2437268.1698  2571752.831632               0.70   \n",
       "Part-time student   145424.8948   132394.100045               0.04   \n",
       "\n",
       "                   2015 Shares  \n",
       "student                         \n",
       "Full-time student         0.02  \n",
       "No response               0.25  \n",
       "Not a student             0.70  \n",
       "Part-time student         0.04  "
      ]
     },
     "execution_count": 81,
     "metadata": {},
     "output_type": "execute_result"
    }
   ],
   "source": [
    "fieldname = 'Student Status'\n",
    "df = df_weighted(per14, per15, 'student', expwt14, expwt15)\n",
    "df"
   ]
  },
  {
   "cell_type": "code",
   "execution_count": 82,
   "metadata": {
    "collapsed": false
   },
   "outputs": [
    {
     "data": {
      "text/html": [
       "<div id=\"chart_idoHFkmlnZ\"</div>\n",
       "    <script type=\"text/javascript\">new Highcharts.Chart({\"title\":{\"text\":\"Student Status\"},\"series\":[{\"data\":[[\"Full-time student\",0.03],[\"No response\",0.23],[\"Not a student\",0.7],[\"Part-time student\",0.04]],\"name\":\"2014 Shares\",\"yAxis\":0},{\"data\":[[\"Full-time student\",0.02],[\"No response\",0.25],[\"Not a student\",0.7],[\"Part-time student\",0.04]],\"name\":\"2015 Shares\",\"yAxis\":0}],\"yAxis\":[{}],\"chart\":{\"renderTo\":\"chart_idoHFkmlnZ\",\"type\":\"column\"},\"xAxis\":{\"categories\":[\"Full-time student\",\"No response\",\"Not a student\",\"Part-time student\"],\"title\":{\"text\":\"student\"}},\"legend\":{\"enabled\":true}});</script>"
      ],
      "text/plain": [
       "<IPython.core.display.HTML object>"
      ]
     },
     "metadata": {},
     "output_type": "display_data"
    }
   ],
   "source": [
    "df = df[[df1.year + ' Shares',df2.year + ' Shares']]\n",
    "display_charts(df, kind='bar', title=fieldname)"
   ]
  },
  {
   "cell_type": "markdown",
   "metadata": {},
   "source": [
    "** Education **"
   ]
  },
  {
   "cell_type": "code",
   "execution_count": 83,
   "metadata": {
    "collapsed": false
   },
   "outputs": [
    {
     "data": {
      "text/html": [
       "<div style=\"max-height:1000px;max-width:1500px;overflow:auto;\">\n",
       "<table border=\"1\" class=\"dataframe\">\n",
       "  <thead>\n",
       "    <tr style=\"text-align: right;\">\n",
       "      <th></th>\n",
       "      <th>2014</th>\n",
       "      <th>2015</th>\n",
       "      <th>     </th>\n",
       "      <th>2014 Shares</th>\n",
       "      <th>2015 Shares</th>\n",
       "    </tr>\n",
       "    <tr>\n",
       "      <th>education</th>\n",
       "      <th></th>\n",
       "      <th></th>\n",
       "      <th></th>\n",
       "      <th></th>\n",
       "      <th></th>\n",
       "    </tr>\n",
       "  </thead>\n",
       "  <tbody>\n",
       "    <tr>\n",
       "      <th>Associates degree</th>\n",
       "      <td> 237721.3285</td>\n",
       "      <td> 217968.862305</td>\n",
       "      <td> </td>\n",
       "      <td> 0.07</td>\n",
       "      <td> 0.06</td>\n",
       "    </tr>\n",
       "    <tr>\n",
       "      <th>Bachelor degree</th>\n",
       "      <td> 873411.3585</td>\n",
       "      <td> 900925.500289</td>\n",
       "      <td> </td>\n",
       "      <td> 0.25</td>\n",
       "      <td> 0.24</td>\n",
       "    </tr>\n",
       "    <tr>\n",
       "      <th>Graduate/post-graduate degree</th>\n",
       "      <td> 554493.4891</td>\n",
       "      <td> 632994.698973</td>\n",
       "      <td> </td>\n",
       "      <td> 0.16</td>\n",
       "      <td> 0.17</td>\n",
       "    </tr>\n",
       "    <tr>\n",
       "      <th>High school graduate</th>\n",
       "      <td> 308881.4595</td>\n",
       "      <td> 325176.887280</td>\n",
       "      <td> </td>\n",
       "      <td> 0.09</td>\n",
       "      <td> 0.09</td>\n",
       "    </tr>\n",
       "    <tr>\n",
       "      <th>Less than high school</th>\n",
       "      <td>  71289.6480</td>\n",
       "      <td>  57293.361377</td>\n",
       "      <td> </td>\n",
       "      <td> 0.02</td>\n",
       "      <td> 0.02</td>\n",
       "    </tr>\n",
       "    <tr>\n",
       "      <th>No response</th>\n",
       "      <td> 793910.5155</td>\n",
       "      <td> 926148.199929</td>\n",
       "      <td> </td>\n",
       "      <td> 0.23</td>\n",
       "      <td> 0.25</td>\n",
       "    </tr>\n",
       "    <tr>\n",
       "      <th>Some college</th>\n",
       "      <td> 475639.8167</td>\n",
       "      <td> 496970.734301</td>\n",
       "      <td> </td>\n",
       "      <td> 0.14</td>\n",
       "      <td> 0.13</td>\n",
       "    </tr>\n",
       "    <tr>\n",
       "      <th>Vocational/technical training</th>\n",
       "      <td> 149188.0286</td>\n",
       "      <td> 128856.154206</td>\n",
       "      <td> </td>\n",
       "      <td> 0.04</td>\n",
       "      <td> 0.03</td>\n",
       "    </tr>\n",
       "  </tbody>\n",
       "</table>\n",
       "</div>"
      ],
      "text/plain": [
       "                                      2014           2015        2014 Shares  \\\n",
       "education                                                                      \n",
       "Associates degree              237721.3285  217968.862305               0.07   \n",
       "Bachelor degree                873411.3585  900925.500289               0.25   \n",
       "Graduate/post-graduate degree  554493.4891  632994.698973               0.16   \n",
       "High school graduate           308881.4595  325176.887280               0.09   \n",
       "Less than high school           71289.6480   57293.361377               0.02   \n",
       "No response                    793910.5155  926148.199929               0.23   \n",
       "Some college                   475639.8167  496970.734301               0.14   \n",
       "Vocational/technical training  149188.0286  128856.154206               0.04   \n",
       "\n",
       "                               2015 Shares  \n",
       "education                                   \n",
       "Associates degree                     0.06  \n",
       "Bachelor degree                       0.24  \n",
       "Graduate/post-graduate degree         0.17  \n",
       "High school graduate                  0.09  \n",
       "Less than high school                 0.02  \n",
       "No response                           0.25  \n",
       "Some college                          0.13  \n",
       "Vocational/technical training         0.03  "
      ]
     },
     "execution_count": 83,
     "metadata": {},
     "output_type": "execute_result"
    }
   ],
   "source": [
    "fieldname = 'Education'\n",
    "df = df_weighted(per14, per15, 'education', expwt14, expwt15)\n",
    "df"
   ]
  },
  {
   "cell_type": "code",
   "execution_count": 84,
   "metadata": {
    "collapsed": false
   },
   "outputs": [
    {
     "data": {
      "text/html": [
       "<div id=\"chart_idxgFvYiLG\"</div>\n",
       "    <script type=\"text/javascript\">new Highcharts.Chart({\"title\":{\"text\":\"Education\"},\"series\":[{\"data\":[[\"Associates degree\",0.07],[\"Bachelor degree\",0.25],[\"Graduate\\/post-graduate degree\",0.16],[\"High school graduate\",0.09],[\"Less than high school\",0.02],[\"No response\",0.23],[\"Some college\",0.14],[\"Vocational\\/technical training\",0.04]],\"name\":\"2014 Shares\",\"yAxis\":0},{\"data\":[[\"Associates degree\",0.06],[\"Bachelor degree\",0.24],[\"Graduate\\/post-graduate degree\",0.17],[\"High school graduate\",0.09],[\"Less than high school\",0.02],[\"No response\",0.25],[\"Some college\",0.13],[\"Vocational\\/technical training\",0.03]],\"name\":\"2015 Shares\",\"yAxis\":0}],\"yAxis\":[{}],\"chart\":{\"renderTo\":\"chart_idxgFvYiLG\",\"type\":\"column\"},\"xAxis\":{\"categories\":[\"Associates degree\",\"Bachelor degree\",\"Graduate\\/post-graduate degree\",\"High school graduate\",\"Less than high school\",\"No response\",\"Some college\",\"Vocational\\/technical training\"],\"title\":{\"text\":\"education\"}},\"legend\":{\"enabled\":true}});</script>"
      ],
      "text/plain": [
       "<IPython.core.display.HTML object>"
      ]
     },
     "metadata": {},
     "output_type": "display_data"
    }
   ],
   "source": [
    "df = df[[df1.year + ' Shares',df2.year + ' Shares']]\n",
    "display_charts(df, kind='bar', title=fieldname)"
   ]
  },
  {
   "cell_type": "markdown",
   "metadata": {},
   "source": [
    "** Smartphone **"
   ]
  },
  {
   "cell_type": "code",
   "execution_count": 85,
   "metadata": {
    "collapsed": false
   },
   "outputs": [
    {
     "data": {
      "text/html": [
       "<div style=\"max-height:1000px;max-width:1500px;overflow:auto;\">\n",
       "<table border=\"1\" class=\"dataframe\">\n",
       "  <thead>\n",
       "    <tr style=\"text-align: right;\">\n",
       "      <th></th>\n",
       "      <th>2014</th>\n",
       "      <th>2015</th>\n",
       "      <th>     </th>\n",
       "      <th>2014 Shares</th>\n",
       "      <th>2015 Shares</th>\n",
       "    </tr>\n",
       "    <tr>\n",
       "      <th>smartphone</th>\n",
       "      <th></th>\n",
       "      <th></th>\n",
       "      <th></th>\n",
       "      <th></th>\n",
       "      <th></th>\n",
       "    </tr>\n",
       "  </thead>\n",
       "  <tbody>\n",
       "    <tr>\n",
       "      <th>1</th>\n",
       "      <td> 1951882.0535</td>\n",
       "      <td> 2148729.210594</td>\n",
       "      <td> </td>\n",
       "      <td> 0.56</td>\n",
       "      <td> 0.58</td>\n",
       "    </tr>\n",
       "    <tr>\n",
       "      <th>2</th>\n",
       "      <td>  133606.7094</td>\n",
       "      <td>   95156.605950</td>\n",
       "      <td> </td>\n",
       "      <td> 0.04</td>\n",
       "      <td> 0.03</td>\n",
       "    </tr>\n",
       "    <tr>\n",
       "      <th>3</th>\n",
       "      <td>  666349.6588</td>\n",
       "      <td>  591787.129537</td>\n",
       "      <td> </td>\n",
       "      <td> 0.19</td>\n",
       "      <td> 0.16</td>\n",
       "    </tr>\n",
       "  </tbody>\n",
       "</table>\n",
       "</div>"
      ],
      "text/plain": [
       "                    2014            2015        2014 Shares  2015 Shares\n",
       "smartphone                                                              \n",
       "1           1951882.0535  2148729.210594               0.56         0.58\n",
       "2            133606.7094    95156.605950               0.04         0.03\n",
       "3            666349.6588   591787.129537               0.19         0.16"
      ]
     },
     "execution_count": 85,
     "metadata": {},
     "output_type": "execute_result"
    }
   ],
   "source": [
    "fieldname = 'Smartphone'\n",
    "df = df_weighted(per14, per15, 'smartphone', expwt14, expwt15)\n",
    "df"
   ]
  },
  {
   "cell_type": "code",
   "execution_count": 86,
   "metadata": {
    "collapsed": false
   },
   "outputs": [
    {
     "data": {
      "text/html": [
       "<div id=\"chart_idRzWhHMwe\"</div>\n",
       "    <script type=\"text/javascript\">new Highcharts.Chart({\"title\":{\"text\":\"Smartphone\"},\"series\":[{\"data\":[[1.0,0.56],[2.0,0.04],[3.0,0.19]],\"name\":\"2014 Shares\",\"yAxis\":0},{\"data\":[[1.0,0.58],[2.0,0.03],[3.0,0.16]],\"name\":\"2015 Shares\",\"yAxis\":0}],\"yAxis\":[{}],\"chart\":{\"renderTo\":\"chart_idRzWhHMwe\",\"type\":\"column\"},\"xAxis\":{\"title\":{\"text\":\"smartphone\"}},\"legend\":{\"enabled\":true}});</script>"
      ],
      "text/plain": [
       "<IPython.core.display.HTML object>"
      ]
     },
     "metadata": {},
     "output_type": "display_data"
    }
   ],
   "source": [
    "df = df[[df1.year + ' Shares',df2.year + ' Shares']]\n",
    "display_charts(df, kind='bar', title=fieldname)"
   ]
  },
  {
   "cell_type": "markdown",
   "metadata": {},
   "source": [
    "** License **"
   ]
  },
  {
   "cell_type": "code",
   "execution_count": 87,
   "metadata": {
    "collapsed": false
   },
   "outputs": [
    {
     "data": {
      "text/html": [
       "<div style=\"max-height:1000px;max-width:1500px;overflow:auto;\">\n",
       "<table border=\"1\" class=\"dataframe\">\n",
       "  <thead>\n",
       "    <tr style=\"text-align: right;\">\n",
       "      <th></th>\n",
       "      <th>2014</th>\n",
       "      <th>2015</th>\n",
       "      <th>     </th>\n",
       "      <th>2014 Shares</th>\n",
       "      <th>2015 Shares</th>\n",
       "    </tr>\n",
       "    <tr>\n",
       "      <th>license</th>\n",
       "      <th></th>\n",
       "      <th></th>\n",
       "      <th></th>\n",
       "      <th></th>\n",
       "      <th></th>\n",
       "    </tr>\n",
       "  </thead>\n",
       "  <tbody>\n",
       "    <tr>\n",
       "      <th>1</th>\n",
       "      <td> 2525601.1818</td>\n",
       "      <td> 2623833.630139</td>\n",
       "      <td> </td>\n",
       "      <td> 0.73</td>\n",
       "      <td> 0.71</td>\n",
       "    </tr>\n",
       "    <tr>\n",
       "      <th>2</th>\n",
       "      <td>  226237.2399</td>\n",
       "      <td>  211839.315943</td>\n",
       "      <td> </td>\n",
       "      <td> 0.07</td>\n",
       "      <td> 0.06</td>\n",
       "    </tr>\n",
       "  </tbody>\n",
       "</table>\n",
       "</div>"
      ],
      "text/plain": [
       "                 2014            2015        2014 Shares  2015 Shares\n",
       "license                                                              \n",
       "1        2525601.1818  2623833.630139               0.73         0.71\n",
       "2         226237.2399   211839.315943               0.07         0.06"
      ]
     },
     "execution_count": 87,
     "metadata": {},
     "output_type": "execute_result"
    }
   ],
   "source": [
    "fieldname = 'License'\n",
    "df = df_weighted(per14, per15, 'license', expwt14, expwt15)\n",
    "df"
   ]
  },
  {
   "cell_type": "code",
   "execution_count": 88,
   "metadata": {
    "collapsed": false
   },
   "outputs": [
    {
     "data": {
      "text/html": [
       "<div id=\"chart_idKXkSEcXD\"</div>\n",
       "    <script type=\"text/javascript\">new Highcharts.Chart({\"title\":{\"text\":\"License\"},\"series\":[{\"data\":[[1.0,0.73],[2.0,0.07]],\"name\":\"2014 Shares\",\"yAxis\":0},{\"data\":[[1.0,0.71],[2.0,0.06]],\"name\":\"2015 Shares\",\"yAxis\":0}],\"yAxis\":[{}],\"chart\":{\"renderTo\":\"chart_idKXkSEcXD\",\"type\":\"column\"},\"xAxis\":{\"title\":{\"text\":\"license\"}},\"legend\":{\"enabled\":true}});</script>"
      ],
      "text/plain": [
       "<IPython.core.display.HTML object>"
      ]
     },
     "metadata": {},
     "output_type": "display_data"
    }
   ],
   "source": [
    "df = df[[df1.year + ' Shares',df2.year + ' Shares']]\n",
    "display_charts(df, kind='bar', title=fieldname)"
   ]
  },
  {
   "cell_type": "markdown",
   "metadata": {},
   "source": [
    "** Toll Frequency **"
   ]
  },
  {
   "cell_type": "code",
   "execution_count": 89,
   "metadata": {
    "collapsed": false
   },
   "outputs": [
    {
     "data": {
      "text/html": [
       "<div style=\"max-height:1000px;max-width:1500px;overflow:auto;\">\n",
       "<table border=\"1\" class=\"dataframe\">\n",
       "  <thead>\n",
       "    <tr style=\"text-align: right;\">\n",
       "      <th></th>\n",
       "      <th>2014</th>\n",
       "      <th>2015</th>\n",
       "      <th>     </th>\n",
       "      <th>2014 Shares</th>\n",
       "      <th>2015 Shares</th>\n",
       "    </tr>\n",
       "    <tr>\n",
       "      <th>tollfreq</th>\n",
       "      <th></th>\n",
       "      <th></th>\n",
       "      <th></th>\n",
       "      <th></th>\n",
       "      <th></th>\n",
       "    </tr>\n",
       "  </thead>\n",
       "  <tbody>\n",
       "    <tr>\n",
       "      <th>1</th>\n",
       "      <td>   70595.2680</td>\n",
       "      <td>   66722.403237</td>\n",
       "      <td> </td>\n",
       "      <td> 0.02</td>\n",
       "      <td> 0.02</td>\n",
       "    </tr>\n",
       "    <tr>\n",
       "      <th>2</th>\n",
       "      <td>   58957.2288</td>\n",
       "      <td>   65333.835142</td>\n",
       "      <td> </td>\n",
       "      <td> 0.02</td>\n",
       "      <td> 0.02</td>\n",
       "    </tr>\n",
       "    <tr>\n",
       "      <th>3</th>\n",
       "      <td>   52248.0384</td>\n",
       "      <td>   85117.005446</td>\n",
       "      <td> </td>\n",
       "      <td> 0.02</td>\n",
       "      <td> 0.02</td>\n",
       "    </tr>\n",
       "    <tr>\n",
       "      <th>4</th>\n",
       "      <td>  269844.7279</td>\n",
       "      <td>  323073.857154</td>\n",
       "      <td> </td>\n",
       "      <td> 0.08</td>\n",
       "      <td> 0.09</td>\n",
       "    </tr>\n",
       "    <tr>\n",
       "      <th>5</th>\n",
       "      <td> 1078156.4438</td>\n",
       "      <td> 1229842.628754</td>\n",
       "      <td> </td>\n",
       "      <td> 0.31</td>\n",
       "      <td> 0.33</td>\n",
       "    </tr>\n",
       "    <tr>\n",
       "      <th>6</th>\n",
       "      <td> 1108222.0112</td>\n",
       "      <td>  973030.224350</td>\n",
       "      <td> </td>\n",
       "      <td> 0.32</td>\n",
       "      <td> 0.26</td>\n",
       "    </tr>\n",
       "    <tr>\n",
       "      <th>7</th>\n",
       "      <td>  113814.7036</td>\n",
       "      <td>   92552.991998</td>\n",
       "      <td> </td>\n",
       "      <td> 0.03</td>\n",
       "      <td> 0.03</td>\n",
       "    </tr>\n",
       "  </tbody>\n",
       "</table>\n",
       "</div>"
      ],
      "text/plain": [
       "                  2014            2015        2014 Shares  2015 Shares\n",
       "tollfreq                                                              \n",
       "1           70595.2680    66722.403237               0.02         0.02\n",
       "2           58957.2288    65333.835142               0.02         0.02\n",
       "3           52248.0384    85117.005446               0.02         0.02\n",
       "4          269844.7279   323073.857154               0.08         0.09\n",
       "5         1078156.4438  1229842.628754               0.31         0.33\n",
       "6         1108222.0112   973030.224350               0.32         0.26\n",
       "7          113814.7036    92552.991998               0.03         0.03"
      ]
     },
     "execution_count": 89,
     "metadata": {},
     "output_type": "execute_result"
    }
   ],
   "source": [
    "fieldname = 'Toll Frequency'\n",
    "df = df_weighted(per14, per15, 'tollfreq', expwt14, expwt15)\n",
    "df"
   ]
  },
  {
   "cell_type": "code",
   "execution_count": 90,
   "metadata": {
    "collapsed": false
   },
   "outputs": [
    {
     "data": {
      "text/html": [
       "<div id=\"chart_idGzrGburc\"</div>\n",
       "    <script type=\"text/javascript\">new Highcharts.Chart({\"title\":{\"text\":\"Toll Frequency\"},\"series\":[{\"data\":[[1.0,0.02],[2.0,0.02],[3.0,0.02],[4.0,0.08],[5.0,0.31],[6.0,0.32],[7.0,0.03]],\"name\":\"2014 Shares\",\"yAxis\":0},{\"data\":[[1.0,0.02],[2.0,0.02],[3.0,0.02],[4.0,0.09],[5.0,0.33],[6.0,0.26],[7.0,0.03]],\"name\":\"2015 Shares\",\"yAxis\":0}],\"yAxis\":[{}],\"chart\":{\"renderTo\":\"chart_idGzrGburc\",\"type\":\"column\"},\"xAxis\":{\"title\":{\"text\":\"tollfreq\"}},\"legend\":{\"enabled\":true}});</script>"
      ],
      "text/plain": [
       "<IPython.core.display.HTML object>"
      ]
     },
     "metadata": {},
     "output_type": "display_data"
    }
   ],
   "source": [
    "df = df[[df1.year + ' Shares',df2.year + ' Shares']]\n",
    "display_charts(df, kind='bar', title=fieldname)"
   ]
  },
  {
   "cell_type": "markdown",
   "metadata": {
    "collapsed": true
   },
   "source": [
    "** School Frequency **"
   ]
  },
  {
   "cell_type": "code",
   "execution_count": 91,
   "metadata": {
    "collapsed": false
   },
   "outputs": [
    {
     "data": {
      "text/html": [
       "<div style=\"max-height:1000px;max-width:1500px;overflow:auto;\">\n",
       "<table border=\"1\" class=\"dataframe\">\n",
       "  <thead>\n",
       "    <tr style=\"text-align: right;\">\n",
       "      <th></th>\n",
       "      <th>2014</th>\n",
       "      <th>2015</th>\n",
       "      <th>     </th>\n",
       "      <th>2014 Shares</th>\n",
       "      <th>2015 Shares</th>\n",
       "    </tr>\n",
       "    <tr>\n",
       "      <th>school_freq</th>\n",
       "      <th></th>\n",
       "      <th></th>\n",
       "      <th></th>\n",
       "      <th></th>\n",
       "      <th></th>\n",
       "    </tr>\n",
       "  </thead>\n",
       "  <tbody>\n",
       "    <tr>\n",
       "      <th>1</th>\n",
       "      <td>  20178.9670</td>\n",
       "      <td>  15066.198112</td>\n",
       "      <td> </td>\n",
       "      <td> 0.01</td>\n",
       "      <td> 0.00</td>\n",
       "    </tr>\n",
       "    <tr>\n",
       "      <th>2</th>\n",
       "      <td> 531246.5246</td>\n",
       "      <td> 593991.101407</td>\n",
       "      <td> </td>\n",
       "      <td> 0.15</td>\n",
       "      <td> 0.16</td>\n",
       "    </tr>\n",
       "    <tr>\n",
       "      <th>3</th>\n",
       "      <td>  28299.8459</td>\n",
       "      <td>  23250.160543</td>\n",
       "      <td> </td>\n",
       "      <td> 0.01</td>\n",
       "      <td> 0.01</td>\n",
       "    </tr>\n",
       "    <tr>\n",
       "      <th>4</th>\n",
       "      <td>  27230.4133</td>\n",
       "      <td>  26639.862624</td>\n",
       "      <td> </td>\n",
       "      <td> 0.01</td>\n",
       "      <td> 0.01</td>\n",
       "    </tr>\n",
       "    <tr>\n",
       "      <th>5</th>\n",
       "      <td>  32456.6742</td>\n",
       "      <td>  18575.806290</td>\n",
       "      <td> </td>\n",
       "      <td> 0.01</td>\n",
       "      <td> 0.01</td>\n",
       "    </tr>\n",
       "    <tr>\n",
       "      <th>6</th>\n",
       "      <td>  17459.3016</td>\n",
       "      <td>   8974.652654</td>\n",
       "      <td> </td>\n",
       "      <td> 0.01</td>\n",
       "      <td> 0.00</td>\n",
       "    </tr>\n",
       "    <tr>\n",
       "      <th>7</th>\n",
       "      <td>  14710.8742</td>\n",
       "      <td>   9771.494654</td>\n",
       "      <td> </td>\n",
       "      <td> 0.00</td>\n",
       "      <td> 0.00</td>\n",
       "    </tr>\n",
       "    <tr>\n",
       "      <th>8</th>\n",
       "      <td>  67337.9850</td>\n",
       "      <td>  59262.109693</td>\n",
       "      <td> </td>\n",
       "      <td> 0.02</td>\n",
       "      <td> 0.02</td>\n",
       "    </tr>\n",
       "  </tbody>\n",
       "</table>\n",
       "</div>"
      ],
      "text/plain": [
       "                    2014           2015        2014 Shares  2015 Shares\n",
       "school_freq                                                            \n",
       "1             20178.9670   15066.198112               0.01         0.00\n",
       "2            531246.5246  593991.101407               0.15         0.16\n",
       "3             28299.8459   23250.160543               0.01         0.01\n",
       "4             27230.4133   26639.862624               0.01         0.01\n",
       "5             32456.6742   18575.806290               0.01         0.01\n",
       "6             17459.3016    8974.652654               0.01         0.00\n",
       "7             14710.8742    9771.494654               0.00         0.00\n",
       "8             67337.9850   59262.109693               0.02         0.02"
      ]
     },
     "execution_count": 91,
     "metadata": {},
     "output_type": "execute_result"
    }
   ],
   "source": [
    "fieldname = 'School Frequency'\n",
    "df = df_weighted(per14, per15, 'school_freq', expwt14, expwt15)\n",
    "df"
   ]
  },
  {
   "cell_type": "code",
   "execution_count": 92,
   "metadata": {
    "collapsed": false
   },
   "outputs": [
    {
     "data": {
      "text/html": [
       "<div id=\"chart_idZgaDNYEW\"</div>\n",
       "    <script type=\"text/javascript\">new Highcharts.Chart({\"title\":{\"text\":\"School Frequency\"},\"series\":[{\"data\":[[1.0,0.01],[2.0,0.15],[3.0,0.01],[4.0,0.01],[5.0,0.01],[6.0,0.01],[7.0,0.0],[8.0,0.02]],\"name\":\"2014 Shares\",\"yAxis\":0},{\"data\":[[1.0,0.0],[2.0,0.16],[3.0,0.01],[4.0,0.01],[5.0,0.01],[6.0,0.0],[7.0,0.0],[8.0,0.02]],\"name\":\"2015 Shares\",\"yAxis\":0}],\"yAxis\":[{}],\"chart\":{\"renderTo\":\"chart_idZgaDNYEW\",\"type\":\"column\"},\"xAxis\":{\"title\":{\"text\":\"school_freq\"}},\"legend\":{\"enabled\":true}});</script>"
      ],
      "text/plain": [
       "<IPython.core.display.HTML object>"
      ]
     },
     "metadata": {},
     "output_type": "display_data"
    }
   ],
   "source": [
    "df = df[[df1.year + ' Shares',df2.year + ' Shares']]\n",
    "display_charts(df, kind='bar', title=fieldname)"
   ]
  },
  {
   "cell_type": "markdown",
   "metadata": {},
   "source": [
    "** Use of transit **"
   ]
  },
  {
   "cell_type": "code",
   "execution_count": 93,
   "metadata": {
    "collapsed": false
   },
   "outputs": [
    {
     "data": {
      "text/html": [
       "<div style=\"max-height:1000px;max-width:1500px;overflow:auto;\">\n",
       "<table border=\"1\" class=\"dataframe\">\n",
       "  <thead>\n",
       "    <tr style=\"text-align: right;\">\n",
       "      <th></th>\n",
       "      <th>2014</th>\n",
       "      <th>2015</th>\n",
       "      <th>     </th>\n",
       "      <th>2014 Shares</th>\n",
       "      <th>2015 Shares</th>\n",
       "    </tr>\n",
       "    <tr>\n",
       "      <th>transit_freq</th>\n",
       "      <th></th>\n",
       "      <th></th>\n",
       "      <th></th>\n",
       "      <th></th>\n",
       "      <th></th>\n",
       "    </tr>\n",
       "  </thead>\n",
       "  <tbody>\n",
       "    <tr>\n",
       "      <th>1</th>\n",
       "      <td>   69823.1002</td>\n",
       "      <td>   74772.533183</td>\n",
       "      <td> </td>\n",
       "      <td> 0.02</td>\n",
       "      <td> 0.02</td>\n",
       "    </tr>\n",
       "    <tr>\n",
       "      <th>2</th>\n",
       "      <td>  213975.6761</td>\n",
       "      <td>  254900.178101</td>\n",
       "      <td> </td>\n",
       "      <td> 0.06</td>\n",
       "      <td> 0.07</td>\n",
       "    </tr>\n",
       "    <tr>\n",
       "      <th>3</th>\n",
       "      <td>  204018.8176</td>\n",
       "      <td>  174250.758600</td>\n",
       "      <td> </td>\n",
       "      <td> 0.06</td>\n",
       "      <td> 0.05</td>\n",
       "    </tr>\n",
       "    <tr>\n",
       "      <th>4</th>\n",
       "      <td>   88571.6358</td>\n",
       "      <td>   85053.393613</td>\n",
       "      <td> </td>\n",
       "      <td> 0.03</td>\n",
       "      <td> 0.02</td>\n",
       "    </tr>\n",
       "    <tr>\n",
       "      <th>5</th>\n",
       "      <td>  358390.4855</td>\n",
       "      <td>  451086.589302</td>\n",
       "      <td> </td>\n",
       "      <td> 0.10</td>\n",
       "      <td> 0.12</td>\n",
       "    </tr>\n",
       "    <tr>\n",
       "      <th>6</th>\n",
       "      <td>  703590.4876</td>\n",
       "      <td>  744995.479130</td>\n",
       "      <td> </td>\n",
       "      <td> 0.20</td>\n",
       "      <td> 0.20</td>\n",
       "    </tr>\n",
       "    <tr>\n",
       "      <th>7</th>\n",
       "      <td> 1604069.6579</td>\n",
       "      <td> 1617442.974301</td>\n",
       "      <td> </td>\n",
       "      <td> 0.46</td>\n",
       "      <td> 0.44</td>\n",
       "    </tr>\n",
       "  </tbody>\n",
       "</table>\n",
       "</div>"
      ],
      "text/plain": [
       "                      2014            2015        2014 Shares  2015 Shares\n",
       "transit_freq                                                              \n",
       "1               69823.1002    74772.533183               0.02         0.02\n",
       "2              213975.6761   254900.178101               0.06         0.07\n",
       "3              204018.8176   174250.758600               0.06         0.05\n",
       "4               88571.6358    85053.393613               0.03         0.02\n",
       "5              358390.4855   451086.589302               0.10         0.12\n",
       "6              703590.4876   744995.479130               0.20         0.20\n",
       "7             1604069.6579  1617442.974301               0.46         0.44"
      ]
     },
     "execution_count": 93,
     "metadata": {},
     "output_type": "execute_result"
    }
   ],
   "source": [
    "fieldname = 'Transt Use Frequency'\n",
    "df = df_weighted(per14, per15, 'transit_freq', expwt14, expwt15)\n",
    "df"
   ]
  },
  {
   "cell_type": "code",
   "execution_count": 94,
   "metadata": {
    "collapsed": false
   },
   "outputs": [
    {
     "data": {
      "text/html": [
       "<div id=\"chart_idnhzLOuug\"</div>\n",
       "    <script type=\"text/javascript\">new Highcharts.Chart({\"title\":{\"text\":\"Transt Use Frequency\"},\"series\":[{\"data\":[[1.0,0.02],[2.0,0.06],[3.0,0.06],[4.0,0.03],[5.0,0.1],[6.0,0.2],[7.0,0.46]],\"name\":\"2014 Shares\",\"yAxis\":0},{\"data\":[[1.0,0.02],[2.0,0.07],[3.0,0.05],[4.0,0.02],[5.0,0.12],[6.0,0.2],[7.0,0.44]],\"name\":\"2015 Shares\",\"yAxis\":0}],\"yAxis\":[{}],\"chart\":{\"renderTo\":\"chart_idnhzLOuug\",\"type\":\"column\"},\"xAxis\":{\"title\":{\"text\":\"transit_freq\"}},\"legend\":{\"enabled\":true}});</script>"
      ],
      "text/plain": [
       "<IPython.core.display.HTML object>"
      ]
     },
     "metadata": {},
     "output_type": "display_data"
    }
   ],
   "source": [
    "df = df[[df1.year + ' Shares',df2.year + ' Shares']]\n",
    "display_charts(df, kind='bar', title=fieldname)"
   ]
  },
  {
   "cell_type": "markdown",
   "metadata": {},
   "source": [
    "** Bike Frequency **"
   ]
  },
  {
   "cell_type": "code",
   "execution_count": 98,
   "metadata": {
    "collapsed": false
   },
   "outputs": [
    {
     "data": {
      "text/html": [
       "<div style=\"max-height:1000px;max-width:1500px;overflow:auto;\">\n",
       "<table border=\"1\" class=\"dataframe\">\n",
       "  <thead>\n",
       "    <tr style=\"text-align: right;\">\n",
       "      <th></th>\n",
       "      <th>2014</th>\n",
       "      <th>2015</th>\n",
       "      <th>     </th>\n",
       "      <th>2014 Shares</th>\n",
       "      <th>2015 Shares</th>\n",
       "    </tr>\n",
       "    <tr>\n",
       "      <th>bike_freq</th>\n",
       "      <th></th>\n",
       "      <th></th>\n",
       "      <th></th>\n",
       "      <th></th>\n",
       "      <th></th>\n",
       "    </tr>\n",
       "  </thead>\n",
       "  <tbody>\n",
       "    <tr>\n",
       "      <th>1</th>\n",
       "      <td>   33822.3347</td>\n",
       "      <td>   25523.745683</td>\n",
       "      <td> </td>\n",
       "      <td> 0.01</td>\n",
       "      <td> 0.01</td>\n",
       "    </tr>\n",
       "    <tr>\n",
       "      <th>2</th>\n",
       "      <td>   55796.3914</td>\n",
       "      <td>   48883.161486</td>\n",
       "      <td> </td>\n",
       "      <td> 0.02</td>\n",
       "      <td> 0.01</td>\n",
       "    </tr>\n",
       "    <tr>\n",
       "      <th>3</th>\n",
       "      <td>  188977.1983</td>\n",
       "      <td>  235568.810954</td>\n",
       "      <td> </td>\n",
       "      <td> 0.05</td>\n",
       "      <td> 0.06</td>\n",
       "    </tr>\n",
       "    <tr>\n",
       "      <th>4</th>\n",
       "      <td>  109656.1765</td>\n",
       "      <td>  199154.099954</td>\n",
       "      <td> </td>\n",
       "      <td> 0.03</td>\n",
       "      <td> 0.05</td>\n",
       "    </tr>\n",
       "    <tr>\n",
       "      <th>5</th>\n",
       "      <td>  245687.1710</td>\n",
       "      <td>  221274.736570</td>\n",
       "      <td> </td>\n",
       "      <td> 0.07</td>\n",
       "      <td> 0.06</td>\n",
       "    </tr>\n",
       "    <tr>\n",
       "      <th>6</th>\n",
       "      <td>  647664.5590</td>\n",
       "      <td>  640956.058536</td>\n",
       "      <td> </td>\n",
       "      <td> 0.19</td>\n",
       "      <td> 0.17</td>\n",
       "    </tr>\n",
       "    <tr>\n",
       "      <th>7</th>\n",
       "      <td> 1875764.3387</td>\n",
       "      <td> 2031141.293047</td>\n",
       "      <td> </td>\n",
       "      <td> 0.54</td>\n",
       "      <td> 0.55</td>\n",
       "    </tr>\n",
       "  </tbody>\n",
       "</table>\n",
       "</div>"
      ],
      "text/plain": [
       "                   2014            2015        2014 Shares  2015 Shares\n",
       "bike_freq                                                              \n",
       "1            33822.3347    25523.745683               0.01         0.01\n",
       "2            55796.3914    48883.161486               0.02         0.01\n",
       "3           188977.1983   235568.810954               0.05         0.06\n",
       "4           109656.1765   199154.099954               0.03         0.05\n",
       "5           245687.1710   221274.736570               0.07         0.06\n",
       "6           647664.5590   640956.058536               0.19         0.17\n",
       "7          1875764.3387  2031141.293047               0.54         0.55"
      ]
     },
     "execution_count": 98,
     "metadata": {},
     "output_type": "execute_result"
    }
   ],
   "source": [
    "fieldname = 'Bike Use Frequency'\n",
    "df = df_weighted(per14, per15, 'bike_freq', expwt14, expwt15)\n",
    "df.drop(df.index[df.index.get_loc(-99)],inplace=True)   # drop no-response field\n",
    "df"
   ]
  },
  {
   "cell_type": "code",
   "execution_count": 99,
   "metadata": {
    "collapsed": false
   },
   "outputs": [
    {
     "data": {
      "text/html": [
       "<div id=\"chart_idqOrgVvxS\"</div>\n",
       "    <script type=\"text/javascript\">new Highcharts.Chart({\"title\":{\"text\":\"Bike Use Frequency\"},\"series\":[{\"data\":[[1.0,0.01],[2.0,0.02],[3.0,0.05],[4.0,0.03],[5.0,0.07],[6.0,0.19],[7.0,0.54]],\"name\":\"2014 Shares\",\"yAxis\":0},{\"data\":[[1.0,0.01],[2.0,0.01],[3.0,0.06],[4.0,0.05],[5.0,0.06],[6.0,0.17],[7.0,0.55]],\"name\":\"2015 Shares\",\"yAxis\":0}],\"yAxis\":[{}],\"chart\":{\"renderTo\":\"chart_idqOrgVvxS\",\"type\":\"column\"},\"xAxis\":{\"title\":{\"text\":\"bike_freq\"}},\"legend\":{\"enabled\":true}});</script>"
      ],
      "text/plain": [
       "<IPython.core.display.HTML object>"
      ]
     },
     "metadata": {},
     "output_type": "display_data"
    }
   ],
   "source": [
    "df = df[[df1.year + ' Shares',df2.year + ' Shares']]\n",
    "display_charts(df, kind='bar', title=fieldname)"
   ]
  },
  {
   "cell_type": "markdown",
   "metadata": {},
   "source": [
    "** Walk Frequency **"
   ]
  },
  {
   "cell_type": "code",
   "execution_count": 101,
   "metadata": {
    "collapsed": false
   },
   "outputs": [
    {
     "data": {
      "text/html": [
       "<div style=\"max-height:1000px;max-width:1500px;overflow:auto;\">\n",
       "<table border=\"1\" class=\"dataframe\">\n",
       "  <thead>\n",
       "    <tr style=\"text-align: right;\">\n",
       "      <th></th>\n",
       "      <th>2014</th>\n",
       "      <th>2015</th>\n",
       "      <th>     </th>\n",
       "      <th>2014 Shares</th>\n",
       "      <th>2015 Shares</th>\n",
       "    </tr>\n",
       "    <tr>\n",
       "      <th>walk_freq</th>\n",
       "      <th></th>\n",
       "      <th></th>\n",
       "      <th></th>\n",
       "      <th></th>\n",
       "      <th></th>\n",
       "    </tr>\n",
       "  </thead>\n",
       "  <tbody>\n",
       "    <tr>\n",
       "      <th>1</th>\n",
       "      <td> 406400.5191</td>\n",
       "      <td> 430207.228748</td>\n",
       "      <td> </td>\n",
       "      <td> 0.12</td>\n",
       "      <td> 0.12</td>\n",
       "    </tr>\n",
       "    <tr>\n",
       "      <th>2</th>\n",
       "      <td> 342140.8455</td>\n",
       "      <td> 411610.148506</td>\n",
       "      <td> </td>\n",
       "      <td> 0.10</td>\n",
       "      <td> 0.11</td>\n",
       "    </tr>\n",
       "    <tr>\n",
       "      <th>3</th>\n",
       "      <td> 847660.7077</td>\n",
       "      <td> 852660.035459</td>\n",
       "      <td> </td>\n",
       "      <td> 0.24</td>\n",
       "      <td> 0.23</td>\n",
       "    </tr>\n",
       "    <tr>\n",
       "      <th>4</th>\n",
       "      <td> 321458.4548</td>\n",
       "      <td> 330882.093467</td>\n",
       "      <td> </td>\n",
       "      <td> 0.09</td>\n",
       "      <td> 0.09</td>\n",
       "    </tr>\n",
       "    <tr>\n",
       "      <th>5</th>\n",
       "      <td> 425238.7992</td>\n",
       "      <td> 427210.885529</td>\n",
       "      <td> </td>\n",
       "      <td> 0.12</td>\n",
       "      <td> 0.12</td>\n",
       "    </tr>\n",
       "    <tr>\n",
       "      <th>6</th>\n",
       "      <td> 299501.8353</td>\n",
       "      <td> 286403.630310</td>\n",
       "      <td> </td>\n",
       "      <td> 0.09</td>\n",
       "      <td> 0.08</td>\n",
       "    </tr>\n",
       "    <tr>\n",
       "      <th>7</th>\n",
       "      <td> 514967.0080</td>\n",
       "      <td> 663527.884209</td>\n",
       "      <td> </td>\n",
       "      <td> 0.15</td>\n",
       "      <td> 0.18</td>\n",
       "    </tr>\n",
       "  </tbody>\n",
       "</table>\n",
       "</div>"
      ],
      "text/plain": [
       "                  2014           2015        2014 Shares  2015 Shares\n",
       "walk_freq                                                            \n",
       "1          406400.5191  430207.228748               0.12         0.12\n",
       "2          342140.8455  411610.148506               0.10         0.11\n",
       "3          847660.7077  852660.035459               0.24         0.23\n",
       "4          321458.4548  330882.093467               0.09         0.09\n",
       "5          425238.7992  427210.885529               0.12         0.12\n",
       "6          299501.8353  286403.630310               0.09         0.08\n",
       "7          514967.0080  663527.884209               0.15         0.18"
      ]
     },
     "execution_count": 101,
     "metadata": {},
     "output_type": "execute_result"
    }
   ],
   "source": [
    "fieldname = 'Walk Frequency'\n",
    "df = df_weighted(per14, per15, 'walk_freq', expwt14, expwt15)\n",
    "df.drop(df.index[df.index.get_loc(-99)],inplace=True)   # drop no-response field\n",
    "df"
   ]
  },
  {
   "cell_type": "code",
   "execution_count": 102,
   "metadata": {
    "collapsed": false
   },
   "outputs": [
    {
     "data": {
      "text/html": [
       "<div id=\"chart_idrlrkQvaY\"</div>\n",
       "    <script type=\"text/javascript\">new Highcharts.Chart({\"title\":{\"text\":\"Walk Frequency\"},\"series\":[{\"data\":[[1.0,0.12],[2.0,0.1],[3.0,0.24],[4.0,0.09],[5.0,0.12],[6.0,0.09],[7.0,0.15]],\"name\":\"2014 Shares\",\"yAxis\":0},{\"data\":[[1.0,0.12],[2.0,0.11],[3.0,0.23],[4.0,0.09],[5.0,0.12],[6.0,0.08],[7.0,0.18]],\"name\":\"2015 Shares\",\"yAxis\":0}],\"yAxis\":[{}],\"chart\":{\"renderTo\":\"chart_idrlrkQvaY\",\"type\":\"column\"},\"xAxis\":{\"title\":{\"text\":\"walk_freq\"}},\"legend\":{\"enabled\":true}});</script>"
      ],
      "text/plain": [
       "<IPython.core.display.HTML object>"
      ]
     },
     "metadata": {},
     "output_type": "display_data"
    }
   ],
   "source": [
    "df = df[[df1.year + ' Shares',df2.year + ' Shares']]\n",
    "display_charts(df, kind='bar', title=fieldname)"
   ]
  },
  {
   "cell_type": "markdown",
   "metadata": {},
   "source": [
    "** Transit Subsidy **"
   ]
  },
  {
   "cell_type": "markdown",
   "metadata": {},
   "source": [
    "** Telecommute Frequency **"
   ]
  },
  {
   "cell_type": "markdown",
   "metadata": {},
   "source": [
    "** Work Benefits: Flextime**"
   ]
  },
  {
   "cell_type": "markdown",
   "metadata": {},
   "source": [
    "**Work Benefits: Compressed Work Week**"
   ]
  },
  {
   "cell_type": "markdown",
   "metadata": {},
   "source": [
    "**Work Benefits: Free Parking**"
   ]
  },
  {
   "cell_type": "markdown",
   "metadata": {},
   "source": [
    "**Work Benefits: Transit Pass**"
   ]
  },
  {
   "cell_type": "markdown",
   "metadata": {},
   "source": [
    "** Work Benefits: Other Commute Subsidies**"
   ]
  },
  {
   "cell_type": "markdown",
   "metadata": {},
   "source": [
    "** Would Carpool if: Gas Cost OVer $5/gal**"
   ]
  },
  {
   "cell_type": "markdown",
   "metadata": {},
   "source": [
    "**Would Carpool if: Price of Parking Increased 50%**"
   ]
  },
  {
   "cell_type": "markdown",
   "metadata": {},
   "source": [
    "**Would Carpool if: tolls were more than $5+ per trip **"
   ]
  },
  {
   "cell_type": "markdown",
   "metadata": {},
   "source": [
    "** Would Carpool if: HOV saved 10 min. per trip  **"
   ]
  },
  {
   "cell_type": "markdown",
   "metadata": {},
   "source": [
    "**Would Carpool if: transit saved 10+ min. per trip (over SOV)**"
   ]
  },
  {
   "cell_type": "markdown",
   "metadata": {},
   "source": [
    "**Would Carpool if: other reason**"
   ]
  },
  {
   "cell_type": "markdown",
   "metadata": {},
   "source": [
    "**Would Carpool if: none of those would affect me**"
   ]
  },
  {
   "cell_type": "markdown",
   "metadata": {},
   "source": [
    "** Has Car2Go Membership **"
   ]
  },
  {
   "cell_type": "markdown",
   "metadata": {},
   "source": [
    "**Car2Go Use Frequency**"
   ]
  },
  {
   "cell_type": "markdown",
   "metadata": {},
   "source": [
    "** RelayRides Membership **"
   ]
  },
  {
   "cell_type": "markdown",
   "metadata": {},
   "source": [
    "**ZipCar Membership**"
   ]
  },
  {
   "cell_type": "markdown",
   "metadata": {},
   "source": [
    "**No CarShare Membership**"
   ]
  },
  {
   "cell_type": "markdown",
   "metadata": {},
   "source": [
    "**Pronto Membership**"
   ]
  },
  {
   "cell_type": "markdown",
   "metadata": {},
   "source": [
    "** Uber Usage Frequnecy **"
   ]
  },
  {
   "cell_type": "code",
   "execution_count": 105,
   "metadata": {
    "collapsed": false
   },
   "outputs": [
    {
     "ename": "KeyError",
     "evalue": "'share_freq_uberx'",
     "output_type": "error",
     "traceback": [
      "\u001b[1;31m---------------------------------------------------------------------------\u001b[0m",
      "\u001b[1;31mKeyError\u001b[0m                                  Traceback (most recent call last)",
      "\u001b[1;32m<ipython-input-105-d5db19e7a6c8>\u001b[0m in \u001b[0;36m<module>\u001b[1;34m()\u001b[0m\n\u001b[0;32m      1\u001b[0m \u001b[1;31m# fieldname = 'Smartphone Type'\u001b[0m\u001b[1;33m\u001b[0m\u001b[1;33m\u001b[0m\u001b[0m\n\u001b[1;32m----> 2\u001b[1;33m \u001b[0mdf\u001b[0m \u001b[1;33m=\u001b[0m \u001b[0mdf_weighted\u001b[0m\u001b[1;33m(\u001b[0m\u001b[0mper14\u001b[0m\u001b[1;33m,\u001b[0m \u001b[0mper15\u001b[0m\u001b[1;33m,\u001b[0m \u001b[1;34m'share_freq_uberx'\u001b[0m\u001b[1;33m,\u001b[0m \u001b[0mexpwt14\u001b[0m\u001b[1;33m,\u001b[0m \u001b[0mexpwt15\u001b[0m\u001b[1;33m)\u001b[0m\u001b[1;33m\u001b[0m\u001b[0m\n\u001b[0m\u001b[0;32m      3\u001b[0m \u001b[1;31m# df.drop(df.index[df.index.get_loc(-99)],inplace=True)   # drop no-response field\u001b[0m\u001b[1;33m\u001b[0m\u001b[1;33m\u001b[0m\u001b[0m\n\u001b[0;32m      4\u001b[0m \u001b[0mdf\u001b[0m\u001b[1;33m\u001b[0m\u001b[0m\n",
      "\u001b[1;32m<ipython-input-26-751153da5344>\u001b[0m in \u001b[0;36mdf_weighted\u001b[1;34m(df1, df2, field, agg1, agg2)\u001b[0m\n\u001b[0;32m      2\u001b[0m     \u001b[1;34m'''Compare weighted results from two data sources'''\u001b[0m\u001b[1;33m\u001b[0m\u001b[0m\n\u001b[0;32m      3\u001b[0m     \u001b[0mdf\u001b[0m \u001b[1;33m=\u001b[0m \u001b[0mpd\u001b[0m\u001b[1;33m.\u001b[0m\u001b[0mDataFrame\u001b[0m\u001b[1;33m(\u001b[0m\u001b[1;33m)\u001b[0m\u001b[1;33m\u001b[0m\u001b[0m\n\u001b[1;32m----> 4\u001b[1;33m     \u001b[0mdf\u001b[0m\u001b[1;33m[\u001b[0m\u001b[0mdf1\u001b[0m\u001b[1;33m.\u001b[0m\u001b[0myear\u001b[0m\u001b[1;33m]\u001b[0m \u001b[1;33m=\u001b[0m \u001b[0mdf1\u001b[0m\u001b[1;33m.\u001b[0m\u001b[0mgroupby\u001b[0m\u001b[1;33m(\u001b[0m\u001b[0mfield\u001b[0m\u001b[1;33m)\u001b[0m\u001b[1;33m.\u001b[0m\u001b[0msum\u001b[0m\u001b[1;33m(\u001b[0m\u001b[1;33m)\u001b[0m\u001b[1;33m[\u001b[0m\u001b[0magg1\u001b[0m\u001b[1;33m]\u001b[0m\u001b[1;33m\u001b[0m\u001b[0m\n\u001b[0m\u001b[0;32m      5\u001b[0m     \u001b[0mdf\u001b[0m\u001b[1;33m[\u001b[0m\u001b[0mdf2\u001b[0m\u001b[1;33m.\u001b[0m\u001b[0myear\u001b[0m\u001b[1;33m]\u001b[0m \u001b[1;33m=\u001b[0m \u001b[0mdf2\u001b[0m\u001b[1;33m.\u001b[0m\u001b[0mgroupby\u001b[0m\u001b[1;33m(\u001b[0m\u001b[0mfield\u001b[0m\u001b[1;33m)\u001b[0m\u001b[1;33m.\u001b[0m\u001b[0msum\u001b[0m\u001b[1;33m(\u001b[0m\u001b[1;33m)\u001b[0m\u001b[1;33m[\u001b[0m\u001b[0magg2\u001b[0m\u001b[1;33m]\u001b[0m\u001b[1;33m\u001b[0m\u001b[0m\n\u001b[0;32m      6\u001b[0m     \u001b[0mdf\u001b[0m\u001b[1;33m[\u001b[0m\u001b[1;34m\" \"\u001b[0m\u001b[1;33m*\u001b[0m\u001b[1;36m5\u001b[0m\u001b[1;33m]\u001b[0m \u001b[1;33m=\u001b[0m \u001b[1;34m\"\"\u001b[0m    \u001b[1;31m# empty col to separate samples from shares\u001b[0m\u001b[1;33m\u001b[0m\u001b[0m\n",
      "\u001b[1;32mC:\\Users\\Brice\\AppData\\Local\\Continuum\\Anaconda\\lib\\site-packages\\pandas\\core\\generic.pyc\u001b[0m in \u001b[0;36mgroupby\u001b[1;34m(self, by, axis, level, as_index, sort, group_keys, squeeze)\u001b[0m\n\u001b[0;32m   2896\u001b[0m         \u001b[0maxis\u001b[0m \u001b[1;33m=\u001b[0m \u001b[0mself\u001b[0m\u001b[1;33m.\u001b[0m\u001b[0m_get_axis_number\u001b[0m\u001b[1;33m(\u001b[0m\u001b[0maxis\u001b[0m\u001b[1;33m)\u001b[0m\u001b[1;33m\u001b[0m\u001b[0m\n\u001b[0;32m   2897\u001b[0m         return groupby(self, by=by, axis=axis, level=level, as_index=as_index,\n\u001b[1;32m-> 2898\u001b[1;33m                        sort=sort, group_keys=group_keys, squeeze=squeeze)\n\u001b[0m\u001b[0;32m   2899\u001b[0m \u001b[1;33m\u001b[0m\u001b[0m\n\u001b[0;32m   2900\u001b[0m     \u001b[1;32mdef\u001b[0m \u001b[0masfreq\u001b[0m\u001b[1;33m(\u001b[0m\u001b[0mself\u001b[0m\u001b[1;33m,\u001b[0m \u001b[0mfreq\u001b[0m\u001b[1;33m,\u001b[0m \u001b[0mmethod\u001b[0m\u001b[1;33m=\u001b[0m\u001b[0mNone\u001b[0m\u001b[1;33m,\u001b[0m \u001b[0mhow\u001b[0m\u001b[1;33m=\u001b[0m\u001b[0mNone\u001b[0m\u001b[1;33m,\u001b[0m \u001b[0mnormalize\u001b[0m\u001b[1;33m=\u001b[0m\u001b[0mFalse\u001b[0m\u001b[1;33m)\u001b[0m\u001b[1;33m:\u001b[0m\u001b[1;33m\u001b[0m\u001b[0m\n",
      "\u001b[1;32mC:\\Users\\Brice\\AppData\\Local\\Continuum\\Anaconda\\lib\\site-packages\\pandas\\core\\groupby.pyc\u001b[0m in \u001b[0;36mgroupby\u001b[1;34m(obj, by, **kwds)\u001b[0m\n\u001b[0;32m   1191\u001b[0m         \u001b[1;32mraise\u001b[0m \u001b[0mTypeError\u001b[0m\u001b[1;33m(\u001b[0m\u001b[1;34m'invalid type: %s'\u001b[0m \u001b[1;33m%\u001b[0m \u001b[0mtype\u001b[0m\u001b[1;33m(\u001b[0m\u001b[0mobj\u001b[0m\u001b[1;33m)\u001b[0m\u001b[1;33m)\u001b[0m\u001b[1;33m\u001b[0m\u001b[0m\n\u001b[0;32m   1192\u001b[0m \u001b[1;33m\u001b[0m\u001b[0m\n\u001b[1;32m-> 1193\u001b[1;33m     \u001b[1;32mreturn\u001b[0m \u001b[0mklass\u001b[0m\u001b[1;33m(\u001b[0m\u001b[0mobj\u001b[0m\u001b[1;33m,\u001b[0m \u001b[0mby\u001b[0m\u001b[1;33m,\u001b[0m \u001b[1;33m**\u001b[0m\u001b[0mkwds\u001b[0m\u001b[1;33m)\u001b[0m\u001b[1;33m\u001b[0m\u001b[0m\n\u001b[0m\u001b[0;32m   1194\u001b[0m \u001b[1;33m\u001b[0m\u001b[0m\n\u001b[0;32m   1195\u001b[0m \u001b[1;33m\u001b[0m\u001b[0m\n",
      "\u001b[1;32mC:\\Users\\Brice\\AppData\\Local\\Continuum\\Anaconda\\lib\\site-packages\\pandas\\core\\groupby.pyc\u001b[0m in \u001b[0;36m__init__\u001b[1;34m(self, obj, keys, axis, level, grouper, exclusions, selection, as_index, sort, group_keys, squeeze)\u001b[0m\n\u001b[0;32m    381\u001b[0m         \u001b[1;32mif\u001b[0m \u001b[0mgrouper\u001b[0m \u001b[1;32mis\u001b[0m \u001b[0mNone\u001b[0m\u001b[1;33m:\u001b[0m\u001b[1;33m\u001b[0m\u001b[0m\n\u001b[0;32m    382\u001b[0m             grouper, exclusions, obj = _get_grouper(obj, keys, axis=axis,\n\u001b[1;32m--> 383\u001b[1;33m                                                     level=level, sort=sort)\n\u001b[0m\u001b[0;32m    384\u001b[0m \u001b[1;33m\u001b[0m\u001b[0m\n\u001b[0;32m    385\u001b[0m         \u001b[0mself\u001b[0m\u001b[1;33m.\u001b[0m\u001b[0mobj\u001b[0m \u001b[1;33m=\u001b[0m \u001b[0mobj\u001b[0m\u001b[1;33m\u001b[0m\u001b[0m\n",
      "\u001b[1;32mC:\\Users\\Brice\\AppData\\Local\\Continuum\\Anaconda\\lib\\site-packages\\pandas\\core\\groupby.pyc\u001b[0m in \u001b[0;36m_get_grouper\u001b[1;34m(obj, key, axis, level, sort)\u001b[0m\n\u001b[0;32m   2129\u001b[0m \u001b[1;33m\u001b[0m\u001b[0m\n\u001b[0;32m   2130\u001b[0m         \u001b[1;32melif\u001b[0m \u001b[0mis_in_axis\u001b[0m\u001b[1;33m(\u001b[0m\u001b[0mgpr\u001b[0m\u001b[1;33m)\u001b[0m\u001b[1;33m:\u001b[0m  \u001b[1;31m# df.groupby('name')\u001b[0m\u001b[1;33m\u001b[0m\u001b[0m\n\u001b[1;32m-> 2131\u001b[1;33m             \u001b[0min_axis\u001b[0m\u001b[1;33m,\u001b[0m \u001b[0mname\u001b[0m\u001b[1;33m,\u001b[0m \u001b[0mgpr\u001b[0m \u001b[1;33m=\u001b[0m \u001b[0mTrue\u001b[0m\u001b[1;33m,\u001b[0m \u001b[0mgpr\u001b[0m\u001b[1;33m,\u001b[0m \u001b[0mobj\u001b[0m\u001b[1;33m[\u001b[0m\u001b[0mgpr\u001b[0m\u001b[1;33m]\u001b[0m\u001b[1;33m\u001b[0m\u001b[0m\n\u001b[0m\u001b[0;32m   2132\u001b[0m             \u001b[0mexclusions\u001b[0m\u001b[1;33m.\u001b[0m\u001b[0mappend\u001b[0m\u001b[1;33m(\u001b[0m\u001b[0mname\u001b[0m\u001b[1;33m)\u001b[0m\u001b[1;33m\u001b[0m\u001b[0m\n\u001b[0;32m   2133\u001b[0m \u001b[1;33m\u001b[0m\u001b[0m\n",
      "\u001b[1;32mC:\\Users\\Brice\\AppData\\Local\\Continuum\\Anaconda\\lib\\site-packages\\pandas\\core\\frame.pyc\u001b[0m in \u001b[0;36m__getitem__\u001b[1;34m(self, key)\u001b[0m\n\u001b[0;32m   1778\u001b[0m             \u001b[1;32mreturn\u001b[0m \u001b[0mself\u001b[0m\u001b[1;33m.\u001b[0m\u001b[0m_getitem_multilevel\u001b[0m\u001b[1;33m(\u001b[0m\u001b[0mkey\u001b[0m\u001b[1;33m)\u001b[0m\u001b[1;33m\u001b[0m\u001b[0m\n\u001b[0;32m   1779\u001b[0m         \u001b[1;32melse\u001b[0m\u001b[1;33m:\u001b[0m\u001b[1;33m\u001b[0m\u001b[0m\n\u001b[1;32m-> 1780\u001b[1;33m             \u001b[1;32mreturn\u001b[0m \u001b[0mself\u001b[0m\u001b[1;33m.\u001b[0m\u001b[0m_getitem_column\u001b[0m\u001b[1;33m(\u001b[0m\u001b[0mkey\u001b[0m\u001b[1;33m)\u001b[0m\u001b[1;33m\u001b[0m\u001b[0m\n\u001b[0m\u001b[0;32m   1781\u001b[0m \u001b[1;33m\u001b[0m\u001b[0m\n\u001b[0;32m   1782\u001b[0m     \u001b[1;32mdef\u001b[0m \u001b[0m_getitem_column\u001b[0m\u001b[1;33m(\u001b[0m\u001b[0mself\u001b[0m\u001b[1;33m,\u001b[0m \u001b[0mkey\u001b[0m\u001b[1;33m)\u001b[0m\u001b[1;33m:\u001b[0m\u001b[1;33m\u001b[0m\u001b[0m\n",
      "\u001b[1;32mC:\\Users\\Brice\\AppData\\Local\\Continuum\\Anaconda\\lib\\site-packages\\pandas\\core\\frame.pyc\u001b[0m in \u001b[0;36m_getitem_column\u001b[1;34m(self, key)\u001b[0m\n\u001b[0;32m   1785\u001b[0m         \u001b[1;31m# get column\u001b[0m\u001b[1;33m\u001b[0m\u001b[1;33m\u001b[0m\u001b[0m\n\u001b[0;32m   1786\u001b[0m         \u001b[1;32mif\u001b[0m \u001b[0mself\u001b[0m\u001b[1;33m.\u001b[0m\u001b[0mcolumns\u001b[0m\u001b[1;33m.\u001b[0m\u001b[0mis_unique\u001b[0m\u001b[1;33m:\u001b[0m\u001b[1;33m\u001b[0m\u001b[0m\n\u001b[1;32m-> 1787\u001b[1;33m             \u001b[1;32mreturn\u001b[0m \u001b[0mself\u001b[0m\u001b[1;33m.\u001b[0m\u001b[0m_get_item_cache\u001b[0m\u001b[1;33m(\u001b[0m\u001b[0mkey\u001b[0m\u001b[1;33m)\u001b[0m\u001b[1;33m\u001b[0m\u001b[0m\n\u001b[0m\u001b[0;32m   1788\u001b[0m \u001b[1;33m\u001b[0m\u001b[0m\n\u001b[0;32m   1789\u001b[0m         \u001b[1;31m# duplicate columns & possible reduce dimensionaility\u001b[0m\u001b[1;33m\u001b[0m\u001b[1;33m\u001b[0m\u001b[0m\n",
      "\u001b[1;32mC:\\Users\\Brice\\AppData\\Local\\Continuum\\Anaconda\\lib\\site-packages\\pandas\\core\\generic.pyc\u001b[0m in \u001b[0;36m_get_item_cache\u001b[1;34m(self, item)\u001b[0m\n\u001b[0;32m   1066\u001b[0m         \u001b[0mres\u001b[0m \u001b[1;33m=\u001b[0m \u001b[0mcache\u001b[0m\u001b[1;33m.\u001b[0m\u001b[0mget\u001b[0m\u001b[1;33m(\u001b[0m\u001b[0mitem\u001b[0m\u001b[1;33m)\u001b[0m\u001b[1;33m\u001b[0m\u001b[0m\n\u001b[0;32m   1067\u001b[0m         \u001b[1;32mif\u001b[0m \u001b[0mres\u001b[0m \u001b[1;32mis\u001b[0m \u001b[0mNone\u001b[0m\u001b[1;33m:\u001b[0m\u001b[1;33m\u001b[0m\u001b[0m\n\u001b[1;32m-> 1068\u001b[1;33m             \u001b[0mvalues\u001b[0m \u001b[1;33m=\u001b[0m \u001b[0mself\u001b[0m\u001b[1;33m.\u001b[0m\u001b[0m_data\u001b[0m\u001b[1;33m.\u001b[0m\u001b[0mget\u001b[0m\u001b[1;33m(\u001b[0m\u001b[0mitem\u001b[0m\u001b[1;33m)\u001b[0m\u001b[1;33m\u001b[0m\u001b[0m\n\u001b[0m\u001b[0;32m   1069\u001b[0m             \u001b[0mres\u001b[0m \u001b[1;33m=\u001b[0m \u001b[0mself\u001b[0m\u001b[1;33m.\u001b[0m\u001b[0m_box_item_values\u001b[0m\u001b[1;33m(\u001b[0m\u001b[0mitem\u001b[0m\u001b[1;33m,\u001b[0m \u001b[0mvalues\u001b[0m\u001b[1;33m)\u001b[0m\u001b[1;33m\u001b[0m\u001b[0m\n\u001b[0;32m   1070\u001b[0m             \u001b[0mcache\u001b[0m\u001b[1;33m[\u001b[0m\u001b[0mitem\u001b[0m\u001b[1;33m]\u001b[0m \u001b[1;33m=\u001b[0m \u001b[0mres\u001b[0m\u001b[1;33m\u001b[0m\u001b[0m\n",
      "\u001b[1;32mC:\\Users\\Brice\\AppData\\Local\\Continuum\\Anaconda\\lib\\site-packages\\pandas\\core\\internals.pyc\u001b[0m in \u001b[0;36mget\u001b[1;34m(self, item, fastpath)\u001b[0m\n\u001b[0;32m   2847\u001b[0m \u001b[1;33m\u001b[0m\u001b[0m\n\u001b[0;32m   2848\u001b[0m             \u001b[1;32mif\u001b[0m \u001b[1;32mnot\u001b[0m \u001b[0misnull\u001b[0m\u001b[1;33m(\u001b[0m\u001b[0mitem\u001b[0m\u001b[1;33m)\u001b[0m\u001b[1;33m:\u001b[0m\u001b[1;33m\u001b[0m\u001b[0m\n\u001b[1;32m-> 2849\u001b[1;33m                 \u001b[0mloc\u001b[0m \u001b[1;33m=\u001b[0m \u001b[0mself\u001b[0m\u001b[1;33m.\u001b[0m\u001b[0mitems\u001b[0m\u001b[1;33m.\u001b[0m\u001b[0mget_loc\u001b[0m\u001b[1;33m(\u001b[0m\u001b[0mitem\u001b[0m\u001b[1;33m)\u001b[0m\u001b[1;33m\u001b[0m\u001b[0m\n\u001b[0m\u001b[0;32m   2850\u001b[0m             \u001b[1;32melse\u001b[0m\u001b[1;33m:\u001b[0m\u001b[1;33m\u001b[0m\u001b[0m\n\u001b[0;32m   2851\u001b[0m                 \u001b[0mindexer\u001b[0m \u001b[1;33m=\u001b[0m \u001b[0mnp\u001b[0m\u001b[1;33m.\u001b[0m\u001b[0marange\u001b[0m\u001b[1;33m(\u001b[0m\u001b[0mlen\u001b[0m\u001b[1;33m(\u001b[0m\u001b[0mself\u001b[0m\u001b[1;33m.\u001b[0m\u001b[0mitems\u001b[0m\u001b[1;33m)\u001b[0m\u001b[1;33m)\u001b[0m\u001b[1;33m[\u001b[0m\u001b[0misnull\u001b[0m\u001b[1;33m(\u001b[0m\u001b[0mself\u001b[0m\u001b[1;33m.\u001b[0m\u001b[0mitems\u001b[0m\u001b[1;33m)\u001b[0m\u001b[1;33m]\u001b[0m\u001b[1;33m\u001b[0m\u001b[0m\n",
      "\u001b[1;32mC:\\Users\\Brice\\AppData\\Local\\Continuum\\Anaconda\\lib\\site-packages\\pandas\\core\\index.pyc\u001b[0m in \u001b[0;36mget_loc\u001b[1;34m(self, key)\u001b[0m\n\u001b[0;32m   1400\u001b[0m         \u001b[0mloc\u001b[0m \u001b[1;33m:\u001b[0m \u001b[0mint\u001b[0m \u001b[1;32mif\u001b[0m \u001b[0munique\u001b[0m \u001b[0mindex\u001b[0m\u001b[1;33m,\u001b[0m \u001b[0mpossibly\u001b[0m \u001b[0mslice\u001b[0m \u001b[1;32mor\u001b[0m \u001b[0mmask\u001b[0m \u001b[1;32mif\u001b[0m \u001b[1;32mnot\u001b[0m\u001b[1;33m\u001b[0m\u001b[0m\n\u001b[0;32m   1401\u001b[0m         \"\"\"\n\u001b[1;32m-> 1402\u001b[1;33m         \u001b[1;32mreturn\u001b[0m \u001b[0mself\u001b[0m\u001b[1;33m.\u001b[0m\u001b[0m_engine\u001b[0m\u001b[1;33m.\u001b[0m\u001b[0mget_loc\u001b[0m\u001b[1;33m(\u001b[0m\u001b[0m_values_from_object\u001b[0m\u001b[1;33m(\u001b[0m\u001b[0mkey\u001b[0m\u001b[1;33m)\u001b[0m\u001b[1;33m)\u001b[0m\u001b[1;33m\u001b[0m\u001b[0m\n\u001b[0m\u001b[0;32m   1403\u001b[0m \u001b[1;33m\u001b[0m\u001b[0m\n\u001b[0;32m   1404\u001b[0m     \u001b[1;32mdef\u001b[0m \u001b[0mget_value\u001b[0m\u001b[1;33m(\u001b[0m\u001b[0mself\u001b[0m\u001b[1;33m,\u001b[0m \u001b[0mseries\u001b[0m\u001b[1;33m,\u001b[0m \u001b[0mkey\u001b[0m\u001b[1;33m)\u001b[0m\u001b[1;33m:\u001b[0m\u001b[1;33m\u001b[0m\u001b[0m\n",
      "\u001b[1;32mpandas\\index.pyx\u001b[0m in \u001b[0;36mpandas.index.IndexEngine.get_loc (pandas\\index.c:3820)\u001b[1;34m()\u001b[0m\n",
      "\u001b[1;32mpandas\\index.pyx\u001b[0m in \u001b[0;36mpandas.index.IndexEngine.get_loc (pandas\\index.c:3700)\u001b[1;34m()\u001b[0m\n",
      "\u001b[1;32mpandas\\hashtable.pyx\u001b[0m in \u001b[0;36mpandas.hashtable.PyObjectHashTable.get_item (pandas\\hashtable.c:12323)\u001b[1;34m()\u001b[0m\n",
      "\u001b[1;32mpandas\\hashtable.pyx\u001b[0m in \u001b[0;36mpandas.hashtable.PyObjectHashTable.get_item (pandas\\hashtable.c:12274)\u001b[1;34m()\u001b[0m\n",
      "\u001b[1;31mKeyError\u001b[0m: 'share_freq_uberx'"
     ]
    }
   ],
   "source": [
    "# fieldname = 'Smartphone Type'\n",
    "df = df_weighted(per14, per15, 'share_freq_uberx', expwt14, expwt15)\n",
    "# df.drop(df.index[df.index.get_loc(-99)],inplace=True)   # drop no-response field\n",
    "df"
   ]
  },
  {
   "cell_type": "code",
   "execution_count": null,
   "metadata": {
    "collapsed": true
   },
   "outputs": [],
   "source": []
  }
 ],
 "metadata": {
  "kernelspec": {
   "display_name": "Python 2",
   "language": "python",
   "name": "python2"
  },
  "language_info": {
   "codemirror_mode": {
    "name": "ipython",
    "version": 2
   },
   "file_extension": ".py",
   "mimetype": "text/x-python",
   "name": "python",
   "nbconvert_exporter": "python",
   "pygments_lexer": "ipython2",
   "version": "2.7.9"
  }
 },
 "nbformat": 4,
 "nbformat_minor": 0
}
