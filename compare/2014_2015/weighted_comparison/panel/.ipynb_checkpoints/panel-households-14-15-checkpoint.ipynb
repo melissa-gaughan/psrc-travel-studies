{
 "cells": [
  {
   "cell_type": "code",
   "execution_count": 1,
   "metadata": {
    "collapsed": false
   },
   "outputs": [
    {
     "data": {
      "text/html": [
       "\n",
       "<script src=\"//code.highcharts.com/stock/highstock.js\"></script>\n",
       "<script src=\"//code.highcharts.com/highcharts-more.js\"></script>\n",
       "<script src=\"//code.highcharts.com/modules/exporting.js\"></script>\n"
      ],
      "text/plain": [
       "<IPython.core.display.HTML object>"
      ]
     },
     "metadata": {},
     "output_type": "display_data"
    },
    {
     "name": "stdout",
     "output_type": "stream",
     "text": [
      "Populating the interactive namespace from numpy and matplotlib\n"
     ]
    }
   ],
   "source": [
    "import pandas as pd\n",
    "import numpy as np\n",
    "from IPython.display import display, display_pretty, Javascript, HTML\n",
    "from pandas_highcharts.core import serialize\n",
    "from pandas_highcharts.display import display_charts\n",
    "import matplotlib.pyplot as plt\n",
    "\n",
    "# Show charts in notebook\n",
    "%pylab inline"
   ]
  },
  {
   "cell_type": "code",
   "execution_count": 2,
   "metadata": {
    "collapsed": true
   },
   "outputs": [],
   "source": [
    "# adding an empty line to test"
   ]
  },
  {
   "cell_type": "code",
   "execution_count": 3,
   "metadata": {
    "collapsed": false,
    "scrolled": true
   },
   "outputs": [
    {
     "data": {
      "text/html": [
       "<script>\n",
       "code_show=true; \n",
       "function code_toggle() {\n",
       " if (code_show){\n",
       " $('div.input').hide();\n",
       " } else {\n",
       " $('div.input').show();\n",
       " }\n",
       " code_show = !code_show\n",
       "} \n",
       "$( document ).ready(code_toggle);\n",
       "</script>\n",
       "<form action=\"javascript:code_toggle()\"><input type=\"submit\" value=\"Click here to toggle on/off the raw code.\"></form>"
      ],
      "text/plain": [
       "<IPython.core.display.HTML object>"
      ]
     },
     "execution_count": 3,
     "metadata": {},
     "output_type": "execute_result"
    }
   ],
   "source": [
    "from IPython.display import HTML\n",
    "\n",
    "HTML('''<script>\n",
    "code_show=true; \n",
    "function code_toggle() {\n",
    " if (code_show){\n",
    " $('div.input').hide();\n",
    " } else {\n",
    " $('div.input').show();\n",
    " }\n",
    " code_show = !code_show\n",
    "} \n",
    "$( document ).ready(code_toggle);\n",
    "</script>\n",
    "<form action=\"javascript:code_toggle()\"><input type=\"submit\" value=\"Click here to toggle on/off the raw code.\"></form>''')"
   ]
  },
  {
   "cell_type": "code",
   "execution_count": 37,
   "metadata": {
    "collapsed": false
   },
   "outputs": [],
   "source": [
    "# Load 2014 and 2015 survey household data\n",
    "hh14 = pd.read_excel(r'J://Projects/Surveys/HHTravel/Survey2014/Data/Final database/Release 4/2014-pr3-M-hhsurvey-households.xlsx', sheet='Data')\n",
    "hh15 = pd.read_excel(r'J://Projects/Surveys/HHTravel/Survey2015/Data/Household/1_PSRC2015_HH_2015-07-27_V1.2.xlsx', sheet='Data')"
   ]
  },
  {
   "cell_type": "code",
   "execution_count": null,
   "metadata": {
    "collapsed": false
   },
   "outputs": [],
   "source": []
  },
  {
   "cell_type": "code",
   "execution_count": 38,
   "metadata": {
    "collapsed": false
   },
   "outputs": [],
   "source": [
    "# Load the combined 2014-2015 dataset to get expansion weights\n",
    "hh14_15 = pd.read_excel(r'J://Projects/Surveys/HHTravel/Survey2014/Data/Combined/1_Combined_HH_2015-11-17.xlsx', sheet='Data')"
   ]
  },
  {
   "cell_type": "code",
   "execution_count": 6,
   "metadata": {
    "collapsed": false
   },
   "outputs": [
    {
     "data": {
      "text/plain": [
       "2428"
      ]
     },
     "execution_count": 6,
     "metadata": {},
     "output_type": "execute_result"
    }
   ],
   "source": [
    "# Select only the 2015 household records\n",
    "hh14_15 =hh14_15[hh14_15['datasource'] == 'hts2015']\n",
    "len(hh14_15)"
   ]
  },
  {
   "cell_type": "code",
   "execution_count": 7,
   "metadata": {
    "collapsed": false
   },
   "outputs": [],
   "source": [
    "hh15 = pd.merge(hh15,hh14_15[['hhid','expwt_h1415']],on='hhid')"
   ]
  },
  {
   "cell_type": "code",
   "execution_count": 8,
   "metadata": {
    "collapsed": true
   },
   "outputs": [],
   "source": [
    "expwt14 = 'expwt_2'\n",
    "expwt15 = 'expwt_h1415'\n",
    "\n",
    "hh14.year = '2014'\n",
    "hh15.year = '2015'"
   ]
  },
  {
   "cell_type": "code",
   "execution_count": 9,
   "metadata": {
    "collapsed": true
   },
   "outputs": [],
   "source": [
    "# Create dataframe with 14 and 15 data as columns\n",
    "panel_hh = pd.merge(hh14, hh15, on='hhid', suffixes=['_14','_15'])"
   ]
  },
  {
   "cell_type": "code",
   "execution_count": 10,
   "metadata": {
    "collapsed": false
   },
   "outputs": [
    {
     "data": {
      "text/plain": [
       "16L"
      ]
     },
     "execution_count": 10,
     "metadata": {},
     "output_type": "execute_result"
    }
   ],
   "source": [
    "# Net change in household sample size\n",
    "(panel_hh['hhsize_15'] - panel_hh['hhsize_14']).sum()"
   ]
  },
  {
   "cell_type": "code",
   "execution_count": 11,
   "metadata": {
    "collapsed": false
   },
   "outputs": [
    {
     "data": {
      "text/plain": [
       "-1L"
      ]
     },
     "execution_count": 11,
     "metadata": {},
     "output_type": "execute_result"
    }
   ],
   "source": [
    "# Net change in household adults\n",
    "(panel_hh['numadults_15'] - panel_hh['numadults_14']).sum()"
   ]
  },
  {
   "cell_type": "code",
   "execution_count": 12,
   "metadata": {
    "collapsed": false
   },
   "outputs": [
    {
     "data": {
      "text/plain": [
       "17L"
      ]
     },
     "execution_count": 12,
     "metadata": {},
     "output_type": "execute_result"
    }
   ],
   "source": [
    "# Net change in children\n",
    "(panel_hh['numchildren_15'] - panel_hh['numchildren_14']).sum()"
   ]
  },
  {
   "cell_type": "code",
   "execution_count": 13,
   "metadata": {
    "collapsed": false
   },
   "outputs": [
    {
     "data": {
      "text/plain": [
       "0L"
      ]
     },
     "execution_count": 13,
     "metadata": {},
     "output_type": "execute_result"
    }
   ],
   "source": [
    "# Net change in income\n",
    "(panel_hh['hh_income_detailed_15'] - panel_hh['hh_income_detailed_15']).sum()"
   ]
  },
  {
   "cell_type": "code",
   "execution_count": 14,
   "metadata": {
    "collapsed": false
   },
   "outputs": [
    {
     "data": {
      "text/plain": [
       "40L"
      ]
     },
     "execution_count": 14,
     "metadata": {},
     "output_type": "execute_result"
    }
   ],
   "source": [
    "# Net change in total trips\n",
    "(panel_hh['hhnumtrips_15'] - panel_hh['hhnumtrips_14']).sum()"
   ]
  },
  {
   "cell_type": "code",
   "execution_count": 15,
   "metadata": {
    "collapsed": false
   },
   "outputs": [
    {
     "data": {
      "text/plain": [
       "-5061L"
      ]
     },
     "execution_count": 15,
     "metadata": {},
     "output_type": "execute_result"
    }
   ],
   "source": [
    "# Change in household TAZ?\n",
    "(panel_hh['h_taz2010_15'] - panel_hh['h_taz2010_14']).sum()"
   ]
  },
  {
   "cell_type": "code",
   "execution_count": 16,
   "metadata": {
    "collapsed": false
   },
   "outputs": [
    {
     "data": {
      "text/plain": [
       "-5L"
      ]
     },
     "execution_count": 16,
     "metadata": {},
     "output_type": "execute_result"
    }
   ],
   "source": [
    "# Change in rent/own?\n",
    "(panel_hh['rent_own_15'] - panel_hh['rent_own_14']).sum()"
   ]
  },
  {
   "cell_type": "code",
   "execution_count": 17,
   "metadata": {
    "collapsed": false
   },
   "outputs": [
    {
     "data": {
      "text/plain": [
       "-69L"
      ]
     },
     "execution_count": 17,
     "metadata": {},
     "output_type": "execute_result"
    }
   ],
   "source": [
    "# Change in rent/own?\n",
    "(panel_hh['res_type_15'] - panel_hh['res_type_14']).sum()"
   ]
  },
  {
   "cell_type": "code",
   "execution_count": 18,
   "metadata": {
    "collapsed": false
   },
   "outputs": [
    {
     "data": {
      "text/plain": [
       "95L"
      ]
     },
     "execution_count": 18,
     "metadata": {},
     "output_type": "execute_result"
    }
   ],
   "source": [
    "(panel_hh['res_factors_hhchange_15'] - panel_hh['res_factors_hhchange_14']).sum()"
   ]
  },
  {
   "cell_type": "code",
   "execution_count": 19,
   "metadata": {
    "collapsed": false
   },
   "outputs": [
    {
     "data": {
      "text/plain": [
       "res_factors_hhchange_delta\n",
       "-4                             22\n",
       "-3                             30\n",
       "-2                            215\n",
       "-1                            144\n",
       " 0                            751\n",
       " 1                            158\n",
       " 2                            210\n",
       " 3                             43\n",
       " 4                             35\n",
       "Name: hhid, dtype: int64"
      ]
     },
     "execution_count": 19,
     "metadata": {},
     "output_type": "execute_result"
    }
   ],
   "source": [
    "panel_hh['res_factors_hhchange_delta'] = panel_hh['res_factors_hhchange_15'] - panel_hh['res_factors_hhchange_14']\n",
    "panel_hh.groupby('res_factors_hhchange_delta').count()['hhid']"
   ]
  },
  {
   "cell_type": "code",
   "execution_count": 20,
   "metadata": {
    "collapsed": false
   },
   "outputs": [
    {
     "name": "stdout",
     "output_type": "stream",
     "text": [
      "\n",
      "2.63992537313\n"
     ]
    }
   ],
   "source": [
    "print \n",
    "print panel_hh['res_factors_hhchange_14'].mean()"
   ]
  },
  {
   "cell_type": "code",
   "execution_count": 21,
   "metadata": {
    "collapsed": false
   },
   "outputs": [],
   "source": [
    "def compare_factors(factor):\n",
    "    df = pd.DataFrame()\n",
    "    print '------------------------------------'\n",
    "    print 'change in ' + factor\n",
    "    print 'where 5 is most important'\n",
    "    print '------------------------------------'\n",
    "    df['14'] = panel_hh.groupby(factor +'_14').count()['hhid']\n",
    "    df['15'] = panel_hh.groupby(factor +'_15').count()['hhid']\n",
    "    df['change'] = df['15'] - df['14']\n",
    "    print df\n",
    "    print '-------------------------------------'\n",
    "    print '2014 mean: ' + str(panel_hh[factor +'_14'].mean())\n",
    "    print '2015 mean: ' + str(panel_hh[factor +'_15'].mean())\n",
    "    print 'mean change 2014-2015: '"
   ]
  },
  {
   "cell_type": "code",
   "execution_count": 22,
   "metadata": {
    "collapsed": true
   },
   "outputs": [],
   "source": [
    "def compare_location(factor):\n",
    "    df = pd.DataFrame()\n",
    "    print '------------------------------------'\n",
    "    print 'change in ' + factor\n",
    "    print 'where 5 is most important'\n",
    "    print '------------------------------------'\n",
    "    df['14'] = panel_hh.groupby(factor +'_14').count()['hhid']\n",
    "    df['15'] = panel_hh.groupby(factor +'_15').count()['hhid']\n",
    "    df['change'] = df['15'] - df['14']\n",
    "    print df"
   ]
  },
  {
   "cell_type": "code",
   "execution_count": 23,
   "metadata": {
    "collapsed": false
   },
   "outputs": [
    {
     "name": "stdout",
     "output_type": "stream",
     "text": [
      "------------------------------------\n",
      "change in res_factors_hhchange\n",
      "where 5 is most important\n",
      "------------------------------------\n",
      "                          14   15  change\n",
      "res_factors_hhchange_14                  \n",
      "1                        513  479     -34\n",
      "2                         75   84       9\n",
      "3                        661  666       5\n",
      "4                        196  200       4\n",
      "5                        163  179      16\n",
      "-------------------------------------\n",
      "2014 mean: 2.63992537313\n",
      "2015 mean: 2.69900497512\n",
      "mean change 2014-2015: \n"
     ]
    }
   ],
   "source": [
    "compare_factors('res_factors_hhchange')"
   ]
  },
  {
   "cell_type": "markdown",
   "metadata": {},
   "source": [
    "Affordability becomes more important in 2015"
   ]
  },
  {
   "cell_type": "code",
   "execution_count": 24,
   "metadata": {
    "collapsed": false
   },
   "outputs": [
    {
     "name": "stdout",
     "output_type": "stream",
     "text": [
      "------------------------------------\n",
      "change in res_factors_afford\n",
      "where 5 is most important\n",
      "------------------------------------\n",
      "                        14   15  change\n",
      "res_factors_afford_14                  \n",
      "1                       77   71      -6\n",
      "2                       63   45     -18\n",
      "3                      107  102      -5\n",
      "4                      459  474      15\n",
      "5                      902  916      14\n",
      "-------------------------------------\n",
      "2014 mean: 4.2723880597\n",
      "2015 mean: 4.31778606965\n",
      "mean change 2014-2015: \n"
     ]
    }
   ],
   "source": [
    "compare_factors('res_factors_afford')"
   ]
  },
  {
   "cell_type": "code",
   "execution_count": 25,
   "metadata": {
    "collapsed": false
   },
   "outputs": [
    {
     "name": "stdout",
     "output_type": "stream",
     "text": [
      "------------------------------------\n",
      "change in res_factors_school\n",
      "where 5 is most important\n",
      "------------------------------------\n",
      "                        14   15  change\n",
      "res_factors_school_14                  \n",
      "1                      544  555      11\n",
      "2                       98  106       8\n",
      "3                      452  436     -16\n",
      "4                      212  231      19\n",
      "5                      302  280     -22\n",
      "-------------------------------------\n",
      "2014 mean: 2.76990049751\n",
      "2015 mean: 2.73569651741\n",
      "mean change 2014-2015: \n"
     ]
    }
   ],
   "source": [
    "compare_factors('res_factors_school')"
   ]
  },
  {
   "cell_type": "markdown",
   "metadata": {},
   "source": [
    "More households note walkability as an important factor in 2015"
   ]
  },
  {
   "cell_type": "code",
   "execution_count": 26,
   "metadata": {
    "collapsed": false
   },
   "outputs": [
    {
     "name": "stdout",
     "output_type": "stream",
     "text": [
      "------------------------------------\n",
      "change in res_factors_walk\n",
      "where 5 is most important\n",
      "------------------------------------\n",
      "                      14   15  change\n",
      "res_factors_walk_14                  \n",
      "1                    110   87     -23\n",
      "2                    102   98      -4\n",
      "3                    169  160      -9\n",
      "4                    494  520      26\n",
      "5                    733  743      10\n",
      "-------------------------------------\n",
      "2014 mean: 4.01865671642\n",
      "2015 mean: 4.07835820896\n",
      "mean change 2014-2015: \n"
     ]
    }
   ],
   "source": [
    "compare_factors('res_factors_walk')"
   ]
  },
  {
   "cell_type": "markdown",
   "metadata": {},
   "source": [
    "They also think that space is more important in 2015..."
   ]
  },
  {
   "cell_type": "code",
   "execution_count": 27,
   "metadata": {
    "collapsed": false
   },
   "outputs": [
    {
     "name": "stdout",
     "output_type": "stream",
     "text": [
      "------------------------------------\n",
      "change in res_factors_space\n",
      "where 5 is most important\n",
      "------------------------------------\n",
      "                       14   15  change\n",
      "res_factors_space_14                  \n",
      "1                     170  150     -20\n",
      "2                     197  187     -10\n",
      "3                     324  321      -3\n",
      "4                     521  541      20\n",
      "5                     396  409      13\n",
      "-------------------------------------\n",
      "2014 mean: 3.48258706468\n",
      "2015 mean: 3.54228855721\n",
      "mean change 2014-2015: \n"
     ]
    }
   ],
   "source": [
    "compare_factors('res_factors_space')"
   ]
  },
  {
   "cell_type": "markdown",
   "metadata": {},
   "source": [
    "Kind of a wash for importance of being close to family"
   ]
  },
  {
   "cell_type": "code",
   "execution_count": 28,
   "metadata": {
    "collapsed": false
   },
   "outputs": [
    {
     "name": "stdout",
     "output_type": "stream",
     "text": [
      "------------------------------------\n",
      "change in res_factors_closefam\n",
      "where 5 is most important\n",
      "------------------------------------\n",
      "                          14   15  change\n",
      "res_factors_closefam_14                  \n",
      "1                        222  213      -9\n",
      "2                        174  160     -14\n",
      "3                        363  363       0\n",
      "4                        503  543      40\n",
      "5                        346  329     -17\n",
      "-------------------------------------\n",
      "2014 mean: 3.35883084577\n",
      "2015 mean: 3.38246268657\n",
      "mean change 2014-2015: \n"
     ]
    }
   ],
   "source": [
    "compare_factors('res_factors_closefam')"
   ]
  },
  {
   "cell_type": "markdown",
   "metadata": {},
   "source": [
    "Transit is important, but maybe not quite the most important thing compared to 2014"
   ]
  },
  {
   "cell_type": "code",
   "execution_count": 29,
   "metadata": {
    "collapsed": false
   },
   "outputs": [
    {
     "name": "stdout",
     "output_type": "stream",
     "text": [
      "------------------------------------\n",
      "change in res_factors_transit\n",
      "where 5 is most important\n",
      "------------------------------------\n",
      "                         14   15  change\n",
      "res_factors_transit_14                  \n",
      "1                       244  241      -3\n",
      "2                       163  157      -6\n",
      "3                       248  251       3\n",
      "4                       373  410      37\n",
      "5                       580  549     -31\n",
      "-------------------------------------\n",
      "2014 mean: 3.54850746269\n",
      "2015 mean: 3.54042288557\n",
      "mean change 2014-2015: \n"
     ]
    }
   ],
   "source": [
    "compare_factors('res_factors_transit')"
   ]
  },
  {
   "cell_type": "markdown",
   "metadata": {},
   "source": [
    "Being near a highway becomes less important"
   ]
  },
  {
   "cell_type": "code",
   "execution_count": 30,
   "metadata": {
    "collapsed": false
   },
   "outputs": [
    {
     "name": "stdout",
     "output_type": "stream",
     "text": [
      "------------------------------------\n",
      "change in res_factors_hwy\n",
      "where 5 is most important\n",
      "------------------------------------\n",
      "                     14   15  change\n",
      "res_factors_hwy_14                  \n",
      "1                   238  251      13\n",
      "2                   267  284      17\n",
      "3                   360  360       0\n",
      "4                   542  529     -13\n",
      "5                   201  184     -17\n",
      "-------------------------------------\n",
      "2014 mean: 3.125\n",
      "2015 mean: 3.06902985075\n",
      "mean change 2014-2015: \n"
     ]
    }
   ],
   "source": [
    "compare_factors('res_factors_hwy')"
   ]
  },
  {
   "cell_type": "markdown",
   "metadata": {},
   "source": [
    "A 30 minute commute may not be as important as it was in 2014"
   ]
  },
  {
   "cell_type": "code",
   "execution_count": 31,
   "metadata": {
    "collapsed": false
   },
   "outputs": [
    {
     "name": "stdout",
     "output_type": "stream",
     "text": [
      "------------------------------------\n",
      "change in res_factors_30min\n",
      "where 5 is most important\n",
      "------------------------------------\n",
      "                       14   15  change\n",
      "res_factors_30min_14                  \n",
      "1                     182  180      -2\n",
      "2                     101  102       1\n",
      "3                     256  284      28\n",
      "4                     338  344       6\n",
      "5                     731  698     -33\n",
      "-------------------------------------\n",
      "2014 mean: 3.8302238806\n",
      "2015 mean: 3.7947761194\n",
      "mean change 2014-2015: \n"
     ]
    }
   ],
   "source": [
    "compare_factors('res_factors_30min')"
   ]
  },
  {
   "cell_type": "markdown",
   "metadata": {},
   "source": [
    "Ups in N. Seattle, Ballard, Uptown, Pike/Pine, First Hill,\n",
    "downs in Capitol Hill, SLU, Belltown, Denny, CD"
   ]
  },
  {
   "cell_type": "code",
   "execution_count": 32,
   "metadata": {
    "collapsed": false
   },
   "outputs": [
    {
     "name": "stdout",
     "output_type": "stream",
     "text": [
      "------------------------------------\n",
      "change in h_uv_group\n",
      "where 5 is most important\n",
      "------------------------------------\n",
      "               14  15  change\n",
      "h_uv_group_14                \n",
      "1              28  26      -2\n",
      "2              14  25      11\n",
      "3              18  21       3\n",
      "4              23  22      -1\n",
      "5              21  22       1\n",
      "6              28  40      12\n",
      "7              11  10      -1\n",
      "8              23  31       8\n",
      "9              91  61     -30\n",
      "10             11  35      24\n",
      "11             34  55      21\n",
      "12             40  26     -14\n",
      "13             29  10     -19\n",
      "14             31  18     -13\n",
      "15             18  15      -3\n",
      "16              5   5       0\n",
      "17             11  13       2\n",
      "18              9  10       1\n",
      "-------------------------------------\n",
      "2014 mean: 9.05393258427\n",
      "2015 mean: 8.53707865169\n",
      "mean change 2014-2015: \n"
     ]
    }
   ],
   "source": [
    "compare_factors('h_uv_group')"
   ]
  },
  {
   "cell_type": "markdown",
   "metadata": {},
   "source": [
    "More households with kids under 5 and hhsize 1/2, 65+\n",
    "fewer hh w/no kids, size 1-2, 35-64\n",
    "more retirees and more children?"
   ]
  },
  {
   "cell_type": "code",
   "execution_count": 33,
   "metadata": {
    "collapsed": false
   },
   "outputs": [
    {
     "name": "stdout",
     "output_type": "stream",
     "text": [
      "------------------------------------\n",
      "change in lifecycle\n",
      "where 5 is most important\n",
      "------------------------------------\n",
      "               14   15  change\n",
      "lifecycle_14                  \n",
      "1             120  134      14\n",
      "2             149  146      -3\n",
      "3             105  103      -2\n",
      "4             355  342     -13\n",
      "5             174  193      19\n",
      "6             158  144     -14\n",
      "7             345  329     -16\n",
      "8             202  217      15\n",
      "-------------------------------------\n",
      "2014 mean: 4.9763681592\n",
      "2015 mean: 4.95708955224\n",
      "mean change 2014-2015: \n"
     ]
    }
   ],
   "source": [
    "compare_factors('lifecycle')"
   ]
  },
  {
   "cell_type": "markdown",
   "metadata": {},
   "source": [
    "Yep, more retirees"
   ]
  },
  {
   "cell_type": "code",
   "execution_count": 34,
   "metadata": {
    "collapsed": false
   },
   "outputs": [
    {
     "name": "stdout",
     "output_type": "stream",
     "text": [
      "------------------------------------\n",
      "change in numworkers\n",
      "where 5 is most important\n",
      "------------------------------------\n",
      "                14   15  change\n",
      "numworkers_14                  \n",
      "0              441  465      24\n",
      "1              702  677     -25\n",
      "2              430  424      -6\n",
      "3               28   34       6\n",
      "4                5    6       1\n",
      "5                2    2       0\n",
      "-------------------------------------\n",
      "2014 mean: 1.04228855721\n",
      "2015 mean: 1.032960199\n",
      "mean change 2014-2015: \n"
     ]
    }
   ],
   "source": [
    "compare_factors('numworkers')"
   ]
  },
  {
   "cell_type": "markdown",
   "metadata": {},
   "source": [
    "Movin' out of the CBD, heading to north, south, and west Seattle"
   ]
  },
  {
   "cell_type": "code",
   "execution_count": 35,
   "metadata": {
    "collapsed": false
   },
   "outputs": [
    {
     "name": "stdout",
     "output_type": "stream",
     "text": [
      "------------------------------------\n",
      "change in h_district_name\n",
      "where 5 is most important\n",
      "------------------------------------\n",
      "                          14   15  change\n",
      "h_district_name_14                       \n",
      "East Side                223  226       3\n",
      "Everett-Lynwood-Edmonds   98   98       0\n",
      "Kitsap                    82   80      -2\n",
      "North Seattle-Shoreline  305  310       5\n",
      "Renton-FedWay-Kent        97   98       1\n",
      "Seattle CBD              336  328      -8\n",
      "South Pierce             131  132       1\n",
      "Suburban Snohomish        96   94      -2\n",
      "Tacoma                   118  117      -1\n",
      "West-South Seattle       122  125       3\n"
     ]
    }
   ],
   "source": [
    "compare_location('h_district_name')"
   ]
  },
  {
   "cell_type": "markdown",
   "metadata": {},
   "source": [
    "Leaving kitsap and Snohomish, going to King"
   ]
  },
  {
   "cell_type": "code",
   "execution_count": 36,
   "metadata": {
    "collapsed": false
   },
   "outputs": [
    {
     "name": "stdout",
     "output_type": "stream",
     "text": [
      "------------------------------------\n",
      "change in h_county_name\n",
      "where 5 is most important\n",
      "------------------------------------\n",
      "                    14    15  change\n",
      "h_county_name_14                    \n",
      "King              1083  1087       4\n",
      "Kitsap              82    80      -2\n",
      "Pierce             249   249       0\n",
      "Snohomish          194   192      -2\n"
     ]
    }
   ],
   "source": [
    "compare_location('h_county_name')"
   ]
  },
  {
   "cell_type": "code",
   "execution_count": null,
   "metadata": {
    "collapsed": true
   },
   "outputs": [],
   "source": []
  }
 ],
 "metadata": {
  "kernelspec": {
   "display_name": "Python 2",
   "language": "python",
   "name": "python2"
  },
  "language_info": {
   "codemirror_mode": {
    "name": "ipython",
    "version": 2
   },
   "file_extension": ".py",
   "mimetype": "text/x-python",
   "name": "python",
   "nbconvert_exporter": "python",
   "pygments_lexer": "ipython2",
   "version": "2.7.9"
  }
 },
 "nbformat": 4,
 "nbformat_minor": 0
}
