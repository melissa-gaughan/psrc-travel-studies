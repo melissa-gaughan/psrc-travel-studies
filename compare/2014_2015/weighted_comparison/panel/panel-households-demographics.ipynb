{
 "cells": [
  {
   "cell_type": "code",
   "execution_count": 2,
   "metadata": {
    "collapsed": false
   },
   "outputs": [
    {
     "data": {
      "text/html": [
       "\n",
       "<script src=\"//code.highcharts.com/stock/highstock.js\"></script>\n",
       "<script src=\"//code.highcharts.com/highcharts-more.js\"></script>\n",
       "<script src=\"//code.highcharts.com/modules/exporting.js\"></script>\n"
      ],
      "text/plain": [
       "<IPython.core.display.HTML object>"
      ]
     },
     "metadata": {},
     "output_type": "display_data"
    },
    {
     "name": "stdout",
     "output_type": "stream",
     "text": [
      "Populating the interactive namespace from numpy and matplotlib\n"
     ]
    }
   ],
   "source": [
    "import pandas as pd\n",
    "import numpy as np\n",
    "from IPython.display import display, display_pretty, Javascript, HTML\n",
    "from pandas_highcharts.core import serialize\n",
    "from pandas_highcharts.display import display_charts\n",
    "import matplotlib.pyplot as plt\n",
    "\n",
    "# Show charts in notebook\n",
    "%pylab inline"
   ]
  },
  {
   "cell_type": "code",
   "execution_count": 3,
   "metadata": {
    "collapsed": true
   },
   "outputs": [],
   "source": [
    "# adding an empty line to test"
   ]
  },
  {
   "cell_type": "code",
   "execution_count": 4,
   "metadata": {
    "collapsed": false
   },
   "outputs": [
    {
     "data": {
      "text/html": [
       "<script>\n",
       "code_show=true; \n",
       "function code_toggle() {\n",
       " if (code_show){\n",
       " $('div.input').hide();\n",
       " } else {\n",
       " $('div.input').show();\n",
       " }\n",
       " code_show = !code_show\n",
       "} \n",
       "$( document ).ready(code_toggle);\n",
       "</script>\n",
       "<form action=\"javascript:code_toggle()\"><input type=\"submit\" value=\"Click here to toggle on/off the raw code.\"></form>"
      ],
      "text/plain": [
       "<IPython.core.display.HTML object>"
      ]
     },
     "execution_count": 4,
     "metadata": {},
     "output_type": "execute_result"
    }
   ],
   "source": [
    "from IPython.display import HTML\n",
    "\n",
    "HTML('''<script>\n",
    "code_show=true; \n",
    "function code_toggle() {\n",
    " if (code_show){\n",
    " $('div.input').hide();\n",
    " } else {\n",
    " $('div.input').show();\n",
    " }\n",
    " code_show = !code_show\n",
    "} \n",
    "$( document ).ready(code_toggle);\n",
    "</script>\n",
    "<form action=\"javascript:code_toggle()\"><input type=\"submit\" value=\"Click here to toggle on/off the raw code.\"></form>''')"
   ]
  },
  {
   "cell_type": "code",
   "execution_count": 5,
   "metadata": {
    "collapsed": false
   },
   "outputs": [],
   "source": [
    "# Load 2014 and 2015 survey household data\n",
    "hh14 = pd.read_excel(r'J:\\Projects\\Surveys\\HHTravel\\Survey2014\\Data\\Final database\\Release 4\\2014-pr3-M-hhsurvey-households.xlsx', sheet='Data')\n",
    "hh15 = pd.read_excel(r'J:\\Projects\\Surveys\\HHTravel\\Survey2015\\Data\\Household\\1_PSRC2015_HH_2015-07-27_V1.2.xlsx', sheet='Data')"
   ]
  },
  {
   "cell_type": "code",
   "execution_count": null,
   "metadata": {
    "collapsed": false
   },
   "outputs": [],
   "source": []
  },
  {
   "cell_type": "code",
   "execution_count": 6,
   "metadata": {
    "collapsed": false
   },
   "outputs": [],
   "source": [
    "# Load the combined 2014-2015 dataset to get expansion weights\n",
    "hh14_15 = pd.read_excel(r'J:\\Projects\\Surveys\\HHTravel\\Survey2014\\Data\\Combined\\1_Combined_HH_2015-11-17.xlsx', sheet='Data')"
   ]
  },
  {
   "cell_type": "code",
   "execution_count": 7,
   "metadata": {
    "collapsed": false
   },
   "outputs": [
    {
     "data": {
      "text/plain": [
       "2428"
      ]
     },
     "execution_count": 7,
     "metadata": {},
     "output_type": "execute_result"
    }
   ],
   "source": [
    "# Select only the 2015 household records\n",
    "hh14_15 =hh14_15[hh14_15['datasource'] == 'hts2015']\n",
    "len(hh14_15)"
   ]
  },
  {
   "cell_type": "code",
   "execution_count": 20,
   "metadata": {
    "collapsed": false
   },
   "outputs": [],
   "source": [
    "hh15 = pd.merge(hh15,hh14_15[['hhid','expwt_h1415']],on='hhid')"
   ]
  },
  {
   "cell_type": "code",
   "execution_count": 22,
   "metadata": {
    "collapsed": true
   },
   "outputs": [],
   "source": [
    "hh15panel = hh15[hh15['sampletype'] == 2]"
   ]
  },
  {
   "cell_type": "code",
   "execution_count": 59,
   "metadata": {
    "collapsed": true
   },
   "outputs": [],
   "source": [
    "expwt15 = 'expwt_h1415_x'\n",
    "expwt15panel = 'expwt_h1415_x'\n",
    "\n",
    "hh15.year = 'cross-section'\n",
    "hh15panel.year = 'panel'"
   ]
  },
  {
   "cell_type": "code",
   "execution_count": 47,
   "metadata": {
    "collapsed": false
   },
   "outputs": [
    {
     "data": {
      "text/plain": [
       "Index([u'chk', u'done', u'notes', u'hhid', u'sampletype', u'tacoma_addon', u'traveldate', u'dayofweek', u'hhnumtrips', u'vehicle_count', u'hhsize', u'numadults', u'numchildren', u'numworkers', u'lifecycle', u'hh_income_detailed', u'hh_income_followup', u'hh_income_broad', u'sample_segname', u'msg_haddress', u'msg_hlat', u'msg_hlng', u'rep_haddress', u'rep_hlat', u'rep_hlng', u'h_address', u'h_lat', u'h_lng', u'address_use_flag', u'panel_moveinspect', u'h_segname', u'h_county_name', u'h_taz2010', u'h_district_name', u'h_rgc_name', u'h_school_district_name', u'h_uv_name', u'h_uv_group', u'h_tract', u'h_block', u'h_bg', u'h_puma12', u'res_months', u'res_dur', u'rent_own', u'res_type', u'res_factors_hhchange', u'res_factors_afford', u'res_factors_school', u'res_factors_walk', u'res_factors_space', u'res_factors_closefam', u'res_factors_transit', u'res_factors_hwy', u'res_factors_30min', u'prev_rent_own', u'prev_res_type', u'prev_home_wa', u'prev_home_loc_address', u'prev_home_lat', u'prev_home_lng', u'prev_home_loc_city', u'prev_home_loc_st', u'prev_home_loc_zip', u'prev_home_loc_x', u'start_time_hhinfo_pst', u'end_time_hhinfo_pst', u'hh_info_dur', u'contact_email', u'contact_phonecall', u'contact_text', u'incentive_type', u'incentive_amt', u'giftcard_mail', u'call_center', u'user_ismobiledevice', u'foreign_language', u'participate', u'expwt_h1415_x', u'expwt_h1415_y'], dtype='object')"
      ]
     },
     "execution_count": 47,
     "metadata": {},
     "output_type": "execute_result"
    }
   ],
   "source": [
    "hh15.columns"
   ]
  },
  {
   "cell_type": "code",
   "execution_count": 48,
   "metadata": {
    "collapsed": true
   },
   "outputs": [],
   "source": [
    "df1 = hh15\n",
    "df2 = hh15panel"
   ]
  },
  {
   "cell_type": "code",
   "execution_count": 49,
   "metadata": {
    "collapsed": false
   },
   "outputs": [
    {
     "ename": "KeyError",
     "evalue": "' 50k-75k'",
     "output_type": "error",
     "traceback": [
      "\u001b[1;31m---------------------------------------------------------------------------\u001b[0m",
      "\u001b[1;31mKeyError\u001b[0m                                  Traceback (most recent call last)",
      "\u001b[1;32m<ipython-input-49-7e842cb81e00>\u001b[0m in \u001b[0;36m<module>\u001b[1;34m()\u001b[0m\n\u001b[0;32m     14\u001b[0m \u001b[1;33m\u001b[0m\u001b[0m\n\u001b[0;32m     15\u001b[0m \u001b[1;33m\u001b[0m\u001b[0m\n\u001b[1;32m---> 16\u001b[1;33m \u001b[0mdf1\u001b[0m\u001b[1;33m[\u001b[0m\u001b[1;34m'hh_income_detailed'\u001b[0m\u001b[1;33m]\u001b[0m \u001b[1;33m=\u001b[0m \u001b[1;33m(\u001b[0m\u001b[1;33m[\u001b[0m\u001b[0mlabels\u001b[0m\u001b[1;33m[\u001b[0m\u001b[0mx\u001b[0m\u001b[1;33m]\u001b[0m \u001b[1;32mfor\u001b[0m \u001b[0mx\u001b[0m \u001b[1;32min\u001b[0m \u001b[0mdf1\u001b[0m\u001b[1;33m[\u001b[0m\u001b[1;34m'hh_income_detailed'\u001b[0m\u001b[1;33m]\u001b[0m\u001b[1;33m]\u001b[0m\u001b[1;33m)\u001b[0m\u001b[1;33m\u001b[0m\u001b[0m\n\u001b[0m\u001b[0;32m     17\u001b[0m \u001b[0mdf2\u001b[0m\u001b[1;33m[\u001b[0m\u001b[1;34m'hh_income_detailed'\u001b[0m\u001b[1;33m]\u001b[0m \u001b[1;33m=\u001b[0m \u001b[1;33m(\u001b[0m\u001b[1;33m[\u001b[0m\u001b[0mlabels\u001b[0m\u001b[1;33m[\u001b[0m\u001b[0mx\u001b[0m\u001b[1;33m]\u001b[0m \u001b[1;32mfor\u001b[0m \u001b[0mx\u001b[0m \u001b[1;32min\u001b[0m \u001b[0mdf2\u001b[0m\u001b[1;33m[\u001b[0m\u001b[1;34m'hh_income_detailed'\u001b[0m\u001b[1;33m]\u001b[0m\u001b[1;33m]\u001b[0m\u001b[1;33m)\u001b[0m\u001b[1;33m\u001b[0m\u001b[0m\n",
      "\u001b[1;31mKeyError\u001b[0m: ' 50k-75k'"
     ]
    }
   ],
   "source": [
    "# Add labels for worker type\n",
    "labels = {\n",
    "1: \" <10k\",\n",
    "2: \" 10k-25k\",\n",
    "3: \" 25k-35k\",\n",
    "4: \" 35k-50k\",\n",
    "5: \" 50k-75k\",\n",
    "6: \" 75k-100k\",\n",
    "7: \"100k-150k\",\n",
    "8: \"150k-200k\",\n",
    "9: \"200k-250k\",\n",
    "10: \">250k\",\n",
    "98: \"Prefer not to answer\"}\n",
    "\n",
    "\n",
    "df1['hh_income_detailed'] = ([labels[x] for x in df1['hh_income_detailed']])\n",
    "df2['hh_income_detailed'] = ([labels[x] for x in df2['hh_income_detailed']])"
   ]
  },
  {
   "cell_type": "code",
   "execution_count": 50,
   "metadata": {
    "collapsed": false
   },
   "outputs": [
    {
     "ename": "KeyError",
     "evalue": "'Building with 4 or more apartments/condos'",
     "output_type": "error",
     "traceback": [
      "\u001b[1;31m---------------------------------------------------------------------------\u001b[0m",
      "\u001b[1;31mKeyError\u001b[0m                                  Traceback (most recent call last)",
      "\u001b[1;32m<ipython-input-50-3b7085d7b6bb>\u001b[0m in \u001b[0;36m<module>\u001b[1;34m()\u001b[0m\n\u001b[0;32m     11\u001b[0m }\n\u001b[0;32m     12\u001b[0m \u001b[1;33m\u001b[0m\u001b[0m\n\u001b[1;32m---> 13\u001b[1;33m \u001b[0mdf1\u001b[0m\u001b[1;33m[\u001b[0m\u001b[1;34m'res_type'\u001b[0m\u001b[1;33m]\u001b[0m \u001b[1;33m=\u001b[0m \u001b[1;33m(\u001b[0m\u001b[1;33m[\u001b[0m\u001b[0mlabels\u001b[0m\u001b[1;33m[\u001b[0m\u001b[0mx\u001b[0m\u001b[1;33m]\u001b[0m \u001b[1;32mfor\u001b[0m \u001b[0mx\u001b[0m \u001b[1;32min\u001b[0m \u001b[0mdf1\u001b[0m\u001b[1;33m[\u001b[0m\u001b[1;34m'res_type'\u001b[0m\u001b[1;33m]\u001b[0m\u001b[1;33m]\u001b[0m\u001b[1;33m)\u001b[0m\u001b[1;33m\u001b[0m\u001b[0m\n\u001b[0m\u001b[0;32m     14\u001b[0m \u001b[0mdf2\u001b[0m\u001b[1;33m[\u001b[0m\u001b[1;34m'res_type'\u001b[0m\u001b[1;33m]\u001b[0m \u001b[1;33m=\u001b[0m \u001b[1;33m(\u001b[0m\u001b[1;33m[\u001b[0m\u001b[0mlabels\u001b[0m\u001b[1;33m[\u001b[0m\u001b[0mx\u001b[0m\u001b[1;33m]\u001b[0m \u001b[1;32mfor\u001b[0m \u001b[0mx\u001b[0m \u001b[1;32min\u001b[0m \u001b[0mdf2\u001b[0m\u001b[1;33m[\u001b[0m\u001b[1;34m'res_type'\u001b[0m\u001b[1;33m]\u001b[0m\u001b[1;33m]\u001b[0m\u001b[1;33m)\u001b[0m\u001b[1;33m\u001b[0m\u001b[0m\n\u001b[0;32m     15\u001b[0m \u001b[1;33m\u001b[0m\u001b[0m\n",
      "\u001b[1;31mKeyError\u001b[0m: 'Building with 4 or more apartments/condos'"
     ]
    }
   ],
   "source": [
    "labels = {\n",
    "    0:'no response',\n",
    "1:'Single-family house (detached house)',\n",
    "2:'Townhouse (attached house)',\n",
    "3:'Multi-family house (3 or fewer apartments)',\n",
    "4:'Building with 3 or fewer apartments/condos',\n",
    "5:'Building with 4 or more apartments/condos',\n",
    "6:'Mobile home/trailer',\n",
    "7:'Dorm or institutional housing',\n",
    "8:'Other (including boat, RV, van, etc.)',\n",
    "}\n",
    "\n",
    "df1['res_type'] = ([labels[x] for x in df1['res_type']])\n",
    "df2['res_type'] = ([labels[x] for x in df2['res_type']])\n",
    "\n",
    "df1['prev_res_type'].fillna(0,inplace=True)\n",
    "df2['prev_res_type'].fillna(0,inplace=True)\n",
    "\n",
    "df1['prev_res_type'] = ([labels[x] for x in df1['prev_res_type']])\n",
    "df2['prev_res_type'] = ([labels[x] for x in df2['prev_res_type']])"
   ]
  },
  {
   "cell_type": "code",
   "execution_count": 51,
   "metadata": {
    "collapsed": false
   },
   "outputs": [],
   "source": [
    "# Replace RGC name on 2015 with matching 2014 name for Seattle RGCs\n",
    "labels = {\n",
    "    'no_rgc': 'Outside RGC',\n",
    "    'Seattle CBD': 'Seattle Downtown',\n",
    "    'First Hill/Capitol Hill': 'Seattle First Hill/Capitol Hill',\n",
    "    'South Lake Union': 'South Lake Union',\n",
    "    'Uptown': 'Seattle Uptown',\n",
    "    'Seattle University Community': 'Seattle University Community',\n",
    "    'Northgate': 'Seattle Northgate'\n",
    "}\n",
    "\n",
    "hh15['h_rgc_name'].fillna('no_rgc',inplace=True)\n",
    "hh14['h_rgc_name'].fillna('no_rgc',inplace=True)"
   ]
  },
  {
   "cell_type": "code",
   "execution_count": 52,
   "metadata": {
    "collapsed": false
   },
   "outputs": [],
   "source": [
    "hh15['h_rgc_name'].replace(to_replace=labels.keys(), value=labels.values(), inplace=True, limit=None, regex=False, method='pad', axis=None)\n",
    "hh14['h_rgc_name'].replace(to_replace=labels.keys(), value=labels.values(), inplace=True, limit=None, regex=False, method='pad', axis=None)"
   ]
  },
  {
   "cell_type": "code",
   "execution_count": 53,
   "metadata": {
    "collapsed": true
   },
   "outputs": [],
   "source": [
    "# Add"
   ]
  },
  {
   "cell_type": "code",
   "execution_count": 54,
   "metadata": {
    "collapsed": false
   },
   "outputs": [],
   "source": [
    "def df_sample(df1, df2, field, agg1, agg2, report_avg=True, print_df=False):\n",
    "    '''Compare samples from two surveys in the same dataframe'''\n",
    "    df = pd.DataFrame()\n",
    "    df[df1.year + ' Samples'] = df1.groupby(field).count()[agg1]\n",
    "    df[df2.year + ' Samples'] = df2.groupby(field).count()[agg2]\n",
    "    df[\" \"*5] = \"\"    # empty col to separate samples from shares\n",
    "    df[df1.year + ' Shares'] = (df1.groupby(field).count()[agg1]/df1[agg1].count()).round(2)\n",
    "    df[df2.year + ' Shares'] = (df2.groupby(field).count()[agg2]/df2[agg2].count()).round(2)\n",
    "\n",
    "    if print_df:\n",
    "        print df  \n",
    "\n",
    "        print \"---------\" * 10\n",
    "\n",
    "        if report_avg:\n",
    "            print \"Sample average \" + df1.year + \": \" + str(np.round(df1[field].mean(),2))\n",
    "            print \"Sample average \" + df2.year + \": \" + str(np.round(df2[field].mean(),2))\n",
    "            \n",
    "    else:\n",
    "        return df"
   ]
  },
  {
   "cell_type": "code",
   "execution_count": 55,
   "metadata": {
    "collapsed": false
   },
   "outputs": [],
   "source": [
    "def df_weighted(df1, df2, field, agg1, agg2):\n",
    "    '''Compare weighted results from two data sources'''\n",
    "    df = pd.DataFrame()\n",
    "    df[df1.year] = df1.groupby(field).sum()[agg1]\n",
    "    df[df2.year] = df2.groupby(field).sum()[agg2]\n",
    "    df[\" \"*5] = \"\"    # empty col to separate samples from shares\n",
    "    df[df1.year + ' Shares'] = (df1.groupby(field).sum()[agg1]/df1[agg1].sum()).round(2)\n",
    "    df[df2.year + ' Shares'] = (df2.groupby(field).sum()[agg2]/df2[agg2].sum()).round(2)\n",
    "    \n",
    "    return df"
   ]
  },
  {
   "cell_type": "code",
   "execution_count": 56,
   "metadata": {
    "collapsed": true
   },
   "outputs": [],
   "source": [
    "def df_mean(df, fieldname):\n",
    "    '''Calculate mean for categorical dataframes'''\n",
    "    mean = {}\n",
    "    mean[df1.year] = (df[df1.year]*df.index).sum()/(df[df1.year].sum())\n",
    "    mean[df2.year] = (df[df2.year]*df.index).sum()/(df[df2.year].sum())\n",
    "    print 'Mean - ' + fieldname\n",
    "    print df1.year + ': ' + str(mean[df1.year])\n",
    "    print df2.year + ': ' + str(mean[df2.year])"
   ]
  },
  {
   "cell_type": "markdown",
   "metadata": {},
   "source": [
    "---"
   ]
  },
  {
   "cell_type": "markdown",
   "metadata": {},
   "source": [
    "** Adults per Household **"
   ]
  },
  {
   "cell_type": "code",
   "execution_count": 60,
   "metadata": {
    "collapsed": false
   },
   "outputs": [
    {
     "data": {
      "text/html": [
       "<div style=\"max-height:1000px;max-width:1500px;overflow:auto;\">\n",
       "<table border=\"1\" class=\"dataframe\">\n",
       "  <thead>\n",
       "    <tr style=\"text-align: right;\">\n",
       "      <th></th>\n",
       "      <th>cross-section</th>\n",
       "      <th>panel</th>\n",
       "      <th>     </th>\n",
       "      <th>cross-section Shares</th>\n",
       "      <th>panel Shares</th>\n",
       "    </tr>\n",
       "    <tr>\n",
       "      <th>numadults</th>\n",
       "      <th></th>\n",
       "      <th></th>\n",
       "      <th></th>\n",
       "      <th></th>\n",
       "      <th></th>\n",
       "    </tr>\n",
       "  </thead>\n",
       "  <tbody>\n",
       "    <tr>\n",
       "      <th>1</th>\n",
       "      <td> 125810.749990</td>\n",
       "      <td> 125810.749990</td>\n",
       "      <td> </td>\n",
       "      <td> 0.26</td>\n",
       "      <td> 0.26</td>\n",
       "    </tr>\n",
       "    <tr>\n",
       "      <th>2</th>\n",
       "      <td> 270832.675210</td>\n",
       "      <td> 270832.675210</td>\n",
       "      <td> </td>\n",
       "      <td> 0.55</td>\n",
       "      <td> 0.55</td>\n",
       "    </tr>\n",
       "    <tr>\n",
       "      <th>3</th>\n",
       "      <td>  56938.384661</td>\n",
       "      <td>  56938.384661</td>\n",
       "      <td> </td>\n",
       "      <td> 0.12</td>\n",
       "      <td> 0.12</td>\n",
       "    </tr>\n",
       "    <tr>\n",
       "      <th>4</th>\n",
       "      <td>  30610.239128</td>\n",
       "      <td>  30610.239128</td>\n",
       "      <td> </td>\n",
       "      <td> 0.06</td>\n",
       "      <td> 0.06</td>\n",
       "    </tr>\n",
       "    <tr>\n",
       "      <th>5</th>\n",
       "      <td>   3833.055738</td>\n",
       "      <td>   3833.055738</td>\n",
       "      <td> </td>\n",
       "      <td> 0.01</td>\n",
       "      <td> 0.01</td>\n",
       "    </tr>\n",
       "  </tbody>\n",
       "</table>\n",
       "</div>"
      ],
      "text/plain": [
       "           cross-section          panel        cross-section Shares  \\\n",
       "numadults                                                             \n",
       "1          125810.749990  125810.749990                        0.26   \n",
       "2          270832.675210  270832.675210                        0.55   \n",
       "3           56938.384661   56938.384661                        0.12   \n",
       "4           30610.239128   30610.239128                        0.06   \n",
       "5            3833.055738    3833.055738                        0.01   \n",
       "\n",
       "           panel Shares  \n",
       "numadults                \n",
       "1                  0.26  \n",
       "2                  0.55  \n",
       "3                  0.12  \n",
       "4                  0.06  \n",
       "5                  0.01  "
      ]
     },
     "execution_count": 60,
     "metadata": {},
     "output_type": "execute_result"
    }
   ],
   "source": [
    "fieldname = 'Adults per Household'\n",
    "df = df_weighted(hh15, hh15panel, 'numadults', expwt15, expwt15panel)\n",
    "df.fillna(0,inplace=True)\n",
    "df"
   ]
  },
  {
   "cell_type": "code",
   "execution_count": 61,
   "metadata": {
    "collapsed": false
   },
   "outputs": [
    {
     "name": "stdout",
     "output_type": "stream",
     "text": [
      "Mean - Adults per Household\n",
      "cross-section: 2.00788336523\n",
      "panel: 2.00788336523\n"
     ]
    }
   ],
   "source": [
    "df_mean(df, fieldname)"
   ]
  },
  {
   "cell_type": "code",
   "execution_count": 62,
   "metadata": {
    "collapsed": false
   },
   "outputs": [
    {
     "data": {
      "text/html": [
       "<div id=\"chart_idBuydQykv\"</div>\n",
       "    <script type=\"text/javascript\">new Highcharts.Chart({\"title\":{\"text\":\"Adults per Household\"},\"series\":[{\"data\":[[1,0.26],[2,0.55],[3,0.12],[4,0.06],[5,0.01]],\"name\":\"cross-section Shares\",\"yAxis\":0},{\"data\":[[1,0.26],[2,0.55],[3,0.12],[4,0.06],[5,0.01]],\"name\":\"panel Shares\",\"yAxis\":0}],\"yAxis\":[{}],\"chart\":{\"renderTo\":\"chart_idBuydQykv\",\"type\":\"column\"},\"xAxis\":{\"max\":4,\"min\":0,\"title\":{\"text\":\"numadults\"}},\"legend\":{\"enabled\":true}});</script>"
      ],
      "text/plain": [
       "<IPython.core.display.HTML object>"
      ]
     },
     "metadata": {},
     "output_type": "display_data"
    }
   ],
   "source": [
    "df = df[[df1.year + ' Shares',df2.year + ' Shares']]\n",
    "display_charts(df, kind='bar', title=fieldname, xlim=(0,4))"
   ]
  },
  {
   "cell_type": "markdown",
   "metadata": {},
   "source": [
    "---"
   ]
  },
  {
   "cell_type": "markdown",
   "metadata": {},
   "source": [
    "** Household Size **"
   ]
  },
  {
   "cell_type": "code",
   "execution_count": 20,
   "metadata": {
    "collapsed": false
   },
   "outputs": [
    {
     "data": {
      "text/html": [
       "<div style=\"max-height:1000px;max-width:1500px;overflow:auto;\">\n",
       "<table border=\"1\" class=\"dataframe\">\n",
       "  <thead>\n",
       "    <tr style=\"text-align: right;\">\n",
       "      <th></th>\n",
       "      <th>2014</th>\n",
       "      <th>2015</th>\n",
       "      <th>     </th>\n",
       "      <th>2014 Shares</th>\n",
       "      <th>2015 Shares</th>\n",
       "    </tr>\n",
       "    <tr>\n",
       "      <th>hhsize</th>\n",
       "      <th></th>\n",
       "      <th></th>\n",
       "      <th></th>\n",
       "      <th></th>\n",
       "      <th></th>\n",
       "    </tr>\n",
       "  </thead>\n",
       "  <tbody>\n",
       "    <tr>\n",
       "      <th>1</th>\n",
       "      <td> 422516.9981</td>\n",
       "      <td> 437426.909433</td>\n",
       "      <td> </td>\n",
       "      <td> 0.29</td>\n",
       "      <td> 0.29</td>\n",
       "    </tr>\n",
       "    <tr>\n",
       "      <th>2</th>\n",
       "      <td> 492845.9979</td>\n",
       "      <td> 516130.841258</td>\n",
       "      <td> </td>\n",
       "      <td> 0.34</td>\n",
       "      <td> 0.34</td>\n",
       "    </tr>\n",
       "    <tr>\n",
       "      <th>3</th>\n",
       "      <td> 231467.9990</td>\n",
       "      <td> 242116.040001</td>\n",
       "      <td> </td>\n",
       "      <td> 0.16</td>\n",
       "      <td> 0.16</td>\n",
       "    </tr>\n",
       "    <tr>\n",
       "      <th>4</th>\n",
       "      <td> 194682.9999</td>\n",
       "      <td> 202476.688715</td>\n",
       "      <td> </td>\n",
       "      <td> 0.13</td>\n",
       "      <td> 0.13</td>\n",
       "    </tr>\n",
       "    <tr>\n",
       "      <th>5</th>\n",
       "      <td>  81309.2959</td>\n",
       "      <td>  77221.255288</td>\n",
       "      <td> </td>\n",
       "      <td> 0.06</td>\n",
       "      <td> 0.05</td>\n",
       "    </tr>\n",
       "    <tr>\n",
       "      <th>6</th>\n",
       "      <td>  28451.7610</td>\n",
       "      <td>  26045.524307</td>\n",
       "      <td> </td>\n",
       "      <td> 0.02</td>\n",
       "      <td> 0.02</td>\n",
       "    </tr>\n",
       "    <tr>\n",
       "      <th>7</th>\n",
       "      <td>   9152.5333</td>\n",
       "      <td>  21658.006983</td>\n",
       "      <td> </td>\n",
       "      <td> 0.01</td>\n",
       "      <td> 0.01</td>\n",
       "    </tr>\n",
       "    <tr>\n",
       "      <th>8</th>\n",
       "      <td>   1679.4091</td>\n",
       "      <td>   3002.895960</td>\n",
       "      <td> </td>\n",
       "      <td> 0.00</td>\n",
       "      <td> 0.00</td>\n",
       "    </tr>\n",
       "  </tbody>\n",
       "</table>\n",
       "</div>"
      ],
      "text/plain": [
       "               2014           2015        2014 Shares  2015 Shares\n",
       "hhsize                                                            \n",
       "1       422516.9981  437426.909433               0.29         0.29\n",
       "2       492845.9979  516130.841258               0.34         0.34\n",
       "3       231467.9990  242116.040001               0.16         0.16\n",
       "4       194682.9999  202476.688715               0.13         0.13\n",
       "5        81309.2959   77221.255288               0.06         0.05\n",
       "6        28451.7610   26045.524307               0.02         0.02\n",
       "7         9152.5333   21658.006983               0.01         0.01\n",
       "8         1679.4091    3002.895960               0.00         0.00"
      ]
     },
     "execution_count": 20,
     "metadata": {},
     "output_type": "execute_result"
    }
   ],
   "source": [
    "fieldname = 'Household Size'\n",
    "df = df_weighted(hh14, hh15, 'hhsize', expwt14, expwt15)\n",
    "df"
   ]
  },
  {
   "cell_type": "code",
   "execution_count": 21,
   "metadata": {
    "collapsed": false
   },
   "outputs": [
    {
     "name": "stdout",
     "output_type": "stream",
     "text": [
      "Mean - Household Size\n",
      "2014: 2.41849950512\n",
      "2015: 2.44021059898\n"
     ]
    }
   ],
   "source": [
    "df_mean(df, fieldname)"
   ]
  },
  {
   "cell_type": "code",
   "execution_count": 22,
   "metadata": {
    "collapsed": false
   },
   "outputs": [
    {
     "data": {
      "text/html": [
       "<div id=\"chart_idwwdhmZIu\"</div>\n",
       "    <script type=\"text/javascript\">new Highcharts.Chart({\"title\":{\"text\":\"Household Size\"},\"series\":[{\"data\":[[1,0.29],[2,0.34],[3,0.16],[4,0.13],[5,0.06],[6,0.02],[7,0.01],[8,0.0]],\"name\":\"2014 Shares\",\"yAxis\":0},{\"data\":[[1,0.29],[2,0.34],[3,0.16],[4,0.13],[5,0.05],[6,0.02],[7,0.01],[8,0.0]],\"name\":\"2015 Shares\",\"yAxis\":0}],\"yAxis\":[{}],\"chart\":{\"renderTo\":\"chart_idwwdhmZIu\",\"type\":\"column\"},\"xAxis\":{\"title\":{\"text\":\"hhsize\"}},\"legend\":{\"enabled\":true}});</script>"
      ],
      "text/plain": [
       "<IPython.core.display.HTML object>"
      ]
     },
     "metadata": {},
     "output_type": "display_data"
    }
   ],
   "source": [
    "df = df[[df1.year + ' Shares',df2.year + ' Shares']]\n",
    "display_charts(df, kind='bar', title=fieldname)"
   ]
  },
  {
   "cell_type": "markdown",
   "metadata": {},
   "source": [
    "** Number of Children **"
   ]
  },
  {
   "cell_type": "code",
   "execution_count": 23,
   "metadata": {
    "collapsed": false
   },
   "outputs": [
    {
     "data": {
      "text/html": [
       "<div style=\"max-height:1000px;max-width:1500px;overflow:auto;\">\n",
       "<table border=\"1\" class=\"dataframe\">\n",
       "  <thead>\n",
       "    <tr style=\"text-align: right;\">\n",
       "      <th></th>\n",
       "      <th>2014</th>\n",
       "      <th>2015</th>\n",
       "      <th>     </th>\n",
       "      <th>2014 Shares</th>\n",
       "      <th>2015 Shares</th>\n",
       "    </tr>\n",
       "    <tr>\n",
       "      <th>numchildren</th>\n",
       "      <th></th>\n",
       "      <th></th>\n",
       "      <th></th>\n",
       "      <th></th>\n",
       "      <th></th>\n",
       "    </tr>\n",
       "  </thead>\n",
       "  <tbody>\n",
       "    <tr>\n",
       "      <th>0</th>\n",
       "      <td> 999488.5356</td>\n",
       "      <td> 1044083.290218</td>\n",
       "      <td> </td>\n",
       "      <td> 0.68</td>\n",
       "      <td> 0.68</td>\n",
       "    </tr>\n",
       "    <tr>\n",
       "      <th>1</th>\n",
       "      <td> 207635.1024</td>\n",
       "      <td>  195398.622727</td>\n",
       "      <td> </td>\n",
       "      <td> 0.14</td>\n",
       "      <td> 0.13</td>\n",
       "    </tr>\n",
       "    <tr>\n",
       "      <th>2</th>\n",
       "      <td> 172140.3289</td>\n",
       "      <td>  181851.733369</td>\n",
       "      <td> </td>\n",
       "      <td> 0.12</td>\n",
       "      <td> 0.12</td>\n",
       "    </tr>\n",
       "    <tr>\n",
       "      <th>3</th>\n",
       "      <td>  63757.4392</td>\n",
       "      <td>   65779.936522</td>\n",
       "      <td> </td>\n",
       "      <td> 0.04</td>\n",
       "      <td> 0.04</td>\n",
       "    </tr>\n",
       "    <tr>\n",
       "      <th>4</th>\n",
       "      <td>  15645.8308</td>\n",
       "      <td>   14303.676166</td>\n",
       "      <td> </td>\n",
       "      <td> 0.01</td>\n",
       "      <td> 0.01</td>\n",
       "    </tr>\n",
       "    <tr>\n",
       "      <th>5</th>\n",
       "      <td>   2947.7428</td>\n",
       "      <td>   24660.902942</td>\n",
       "      <td> </td>\n",
       "      <td> 0.00</td>\n",
       "      <td> 0.02</td>\n",
       "    </tr>\n",
       "    <tr>\n",
       "      <th>6</th>\n",
       "      <td>    492.0145</td>\n",
       "      <td>            NaN</td>\n",
       "      <td> </td>\n",
       "      <td> 0.00</td>\n",
       "      <td>  NaN</td>\n",
       "    </tr>\n",
       "  </tbody>\n",
       "</table>\n",
       "</div>"
      ],
      "text/plain": [
       "                    2014            2015        2014 Shares  2015 Shares\n",
       "numchildren                                                             \n",
       "0            999488.5356  1044083.290218               0.68         0.68\n",
       "1            207635.1024   195398.622727               0.14         0.13\n",
       "2            172140.3289   181851.733369               0.12         0.12\n",
       "3             63757.4392    65779.936522               0.04         0.04\n",
       "4             15645.8308    14303.676166               0.01         0.01\n",
       "5              2947.7428    24660.902942               0.00         0.02\n",
       "6               492.0145             NaN               0.00          NaN"
      ]
     },
     "execution_count": 23,
     "metadata": {},
     "output_type": "execute_result"
    }
   ],
   "source": [
    "fieldname = 'Number of Children'\n",
    "df = df_weighted(hh14, hh15, 'numchildren', expwt14, expwt15)\n",
    "df"
   ]
  },
  {
   "cell_type": "code",
   "execution_count": 24,
   "metadata": {
    "collapsed": false
   },
   "outputs": [
    {
     "name": "stdout",
     "output_type": "stream",
     "text": [
      "Mean - Number of Children\n",
      "2014: 0.563202423124\n",
      "2015: 0.613966664205\n"
     ]
    }
   ],
   "source": [
    "df_mean(df, fieldname)"
   ]
  },
  {
   "cell_type": "code",
   "execution_count": 25,
   "metadata": {
    "collapsed": false
   },
   "outputs": [
    {
     "data": {
      "text/html": [
       "<div id=\"chart_idZuVRAZFv\"</div>\n",
       "    <script type=\"text/javascript\">new Highcharts.Chart({\"title\":{\"text\":\"Number of Children\"},\"series\":[{\"data\":[[0,0.68],[1,0.14],[2,0.12],[3,0.04],[4,0.01],[5,0.0],[6,0.0]],\"name\":\"2014 Shares\",\"yAxis\":0},{\"data\":[[0,0.68],[1,0.13],[2,0.12],[3,0.04],[4,0.01],[5,0.02],[6,null]],\"name\":\"2015 Shares\",\"yAxis\":0}],\"yAxis\":[{}],\"chart\":{\"renderTo\":\"chart_idZuVRAZFv\",\"type\":\"column\"},\"xAxis\":{\"title\":{\"text\":\"numchildren\"}},\"legend\":{\"enabled\":true}});</script>"
      ],
      "text/plain": [
       "<IPython.core.display.HTML object>"
      ]
     },
     "metadata": {},
     "output_type": "display_data"
    }
   ],
   "source": [
    "df = df[[df1.year + ' Shares',df2.year + ' Shares']]\n",
    "display_charts(df, kind='bar', title=fieldname)"
   ]
  },
  {
   "cell_type": "markdown",
   "metadata": {},
   "source": [
    "** Number of Workers **"
   ]
  },
  {
   "cell_type": "code",
   "execution_count": 26,
   "metadata": {
    "collapsed": false
   },
   "outputs": [
    {
     "data": {
      "text/html": [
       "<div style=\"max-height:1000px;max-width:1500px;overflow:auto;\">\n",
       "<table border=\"1\" class=\"dataframe\">\n",
       "  <thead>\n",
       "    <tr style=\"text-align: right;\">\n",
       "      <th></th>\n",
       "      <th>2014</th>\n",
       "      <th>2015</th>\n",
       "      <th>     </th>\n",
       "      <th>2014 Shares</th>\n",
       "      <th>2015 Shares</th>\n",
       "    </tr>\n",
       "    <tr>\n",
       "      <th>numworkers</th>\n",
       "      <th></th>\n",
       "      <th></th>\n",
       "      <th></th>\n",
       "      <th></th>\n",
       "      <th></th>\n",
       "    </tr>\n",
       "  </thead>\n",
       "  <tbody>\n",
       "    <tr>\n",
       "      <th>0</th>\n",
       "      <td> 286020.4990</td>\n",
       "      <td> 306814.447042</td>\n",
       "      <td> </td>\n",
       "      <td> 0.20</td>\n",
       "      <td> 0.20</td>\n",
       "    </tr>\n",
       "    <tr>\n",
       "      <th>1</th>\n",
       "      <td> 594265.6443</td>\n",
       "      <td> 618126.995490</td>\n",
       "      <td> </td>\n",
       "      <td> 0.41</td>\n",
       "      <td> 0.41</td>\n",
       "    </tr>\n",
       "    <tr>\n",
       "      <th>2</th>\n",
       "      <td> 478981.2097</td>\n",
       "      <td> 496173.985152</td>\n",
       "      <td> </td>\n",
       "      <td> 0.33</td>\n",
       "      <td> 0.33</td>\n",
       "    </tr>\n",
       "    <tr>\n",
       "      <th>3</th>\n",
       "      <td>  81951.1563</td>\n",
       "      <td>  80855.089218</td>\n",
       "      <td> </td>\n",
       "      <td> 0.06</td>\n",
       "      <td> 0.05</td>\n",
       "    </tr>\n",
       "    <tr>\n",
       "      <th>4</th>\n",
       "      <td>  17946.5580</td>\n",
       "      <td>  20908.122875</td>\n",
       "      <td> </td>\n",
       "      <td> 0.01</td>\n",
       "      <td> 0.01</td>\n",
       "    </tr>\n",
       "    <tr>\n",
       "      <th>5</th>\n",
       "      <td>   1752.9723</td>\n",
       "      <td>   3199.522169</td>\n",
       "      <td> </td>\n",
       "      <td> 0.00</td>\n",
       "      <td> 0.00</td>\n",
       "    </tr>\n",
       "    <tr>\n",
       "      <th>7</th>\n",
       "      <td>   1188.9546</td>\n",
       "      <td>           NaN</td>\n",
       "      <td> </td>\n",
       "      <td> 0.00</td>\n",
       "      <td>  NaN</td>\n",
       "    </tr>\n",
       "  </tbody>\n",
       "</table>\n",
       "</div>"
      ],
      "text/plain": [
       "                   2014           2015        2014 Shares  2015 Shares\n",
       "numworkers                                                            \n",
       "0           286020.4990  306814.447042               0.20         0.20\n",
       "1           594265.6443  618126.995490               0.41         0.41\n",
       "2           478981.2097  496173.985152               0.33         0.33\n",
       "3            81951.1563   80855.089218               0.06         0.05\n",
       "4            17946.5580   20908.122875               0.01         0.01\n",
       "5             1752.9723    3199.522169               0.00         0.00\n",
       "7             1188.9546            NaN               0.00          NaN"
      ]
     },
     "execution_count": 26,
     "metadata": {},
     "output_type": "execute_result"
    }
   ],
   "source": [
    "fieldname = 'Number of Workers'\n",
    "df = df_weighted(hh14, hh15, 'numworkers', expwt14, expwt15)\n",
    "df"
   ]
  },
  {
   "cell_type": "code",
   "execution_count": 27,
   "metadata": {
    "collapsed": false
   },
   "outputs": [
    {
     "name": "stdout",
     "output_type": "stream",
     "text": [
      "Mean - Number of Workers\n",
      "2014: 1.29057265698\n",
      "2015: 1.2795349442\n"
     ]
    }
   ],
   "source": [
    "df_mean(df, fieldname)"
   ]
  },
  {
   "cell_type": "code",
   "execution_count": 28,
   "metadata": {
    "collapsed": false
   },
   "outputs": [
    {
     "data": {
      "text/html": [
       "<div id=\"chart_idQyNmVFvu\"</div>\n",
       "    <script type=\"text/javascript\">new Highcharts.Chart({\"title\":{\"text\":\"Number of Workers\"},\"series\":[{\"data\":[[0,0.2],[1,0.41],[2,0.33],[3,0.06],[4,0.01],[5,0.0],[7,0.0]],\"name\":\"2014 Shares\",\"yAxis\":0},{\"data\":[[0,0.2],[1,0.41],[2,0.33],[3,0.05],[4,0.01],[5,0.0],[7,null]],\"name\":\"2015 Shares\",\"yAxis\":0}],\"yAxis\":[{}],\"chart\":{\"renderTo\":\"chart_idQyNmVFvu\",\"type\":\"column\"},\"xAxis\":{\"title\":{\"text\":\"numworkers\"}},\"legend\":{\"enabled\":true}});</script>"
      ],
      "text/plain": [
       "<IPython.core.display.HTML object>"
      ]
     },
     "metadata": {},
     "output_type": "display_data"
    }
   ],
   "source": [
    "df = df[[df1.year + ' Shares',df2.year + ' Shares']]\n",
    "display_charts(df, kind='bar', title=fieldname)"
   ]
  },
  {
   "cell_type": "markdown",
   "metadata": {},
   "source": [
    "** Income **"
   ]
  },
  {
   "cell_type": "code",
   "execution_count": 73,
   "metadata": {
    "collapsed": false
   },
   "outputs": [
    {
     "data": {
      "text/html": [
       "<div style=\"max-height:1000px;max-width:1500px;overflow:auto;\">\n",
       "<table border=\"1\" class=\"dataframe\">\n",
       "  <thead>\n",
       "    <tr style=\"text-align: right;\">\n",
       "      <th></th>\n",
       "      <th>2014</th>\n",
       "      <th>2015</th>\n",
       "      <th>     </th>\n",
       "      <th>2014 Shares</th>\n",
       "      <th>2015 Shares</th>\n",
       "    </tr>\n",
       "    <tr>\n",
       "      <th>hh_income_detailed</th>\n",
       "      <th></th>\n",
       "      <th></th>\n",
       "      <th></th>\n",
       "      <th></th>\n",
       "      <th></th>\n",
       "    </tr>\n",
       "  </thead>\n",
       "  <tbody>\n",
       "    <tr>\n",
       "      <th>100k-150k</th>\n",
       "      <td> 203805.9528</td>\n",
       "      <td> 217376.020723</td>\n",
       "      <td> </td>\n",
       "      <td> 0.14</td>\n",
       "      <td> 0.14</td>\n",
       "    </tr>\n",
       "    <tr>\n",
       "      <th>10k-25k</th>\n",
       "      <td> 158049.5916</td>\n",
       "      <td> 146979.342115</td>\n",
       "      <td> </td>\n",
       "      <td> 0.11</td>\n",
       "      <td> 0.10</td>\n",
       "    </tr>\n",
       "    <tr>\n",
       "      <th>150k-200k</th>\n",
       "      <td>  77315.1692</td>\n",
       "      <td>  88526.171024</td>\n",
       "      <td> </td>\n",
       "      <td> 0.05</td>\n",
       "      <td> 0.06</td>\n",
       "    </tr>\n",
       "    <tr>\n",
       "      <th>200k-250k</th>\n",
       "      <td>  36224.2372</td>\n",
       "      <td>  36158.807396</td>\n",
       "      <td> </td>\n",
       "      <td> 0.02</td>\n",
       "      <td> 0.02</td>\n",
       "    </tr>\n",
       "    <tr>\n",
       "      <th>25k-35k</th>\n",
       "      <td> 107948.6734</td>\n",
       "      <td> 119552.282955</td>\n",
       "      <td> </td>\n",
       "      <td> 0.07</td>\n",
       "      <td> 0.08</td>\n",
       "    </tr>\n",
       "    <tr>\n",
       "      <th>35k-50k</th>\n",
       "      <td> 169390.2994</td>\n",
       "      <td> 175272.532789</td>\n",
       "      <td> </td>\n",
       "      <td> 0.12</td>\n",
       "      <td> 0.11</td>\n",
       "    </tr>\n",
       "    <tr>\n",
       "      <th>50k-75k</th>\n",
       "      <td> 249011.1671</td>\n",
       "      <td> 259117.002374</td>\n",
       "      <td> </td>\n",
       "      <td> 0.17</td>\n",
       "      <td> 0.17</td>\n",
       "    </tr>\n",
       "    <tr>\n",
       "      <th>75k-100k</th>\n",
       "      <td> 179193.5086</td>\n",
       "      <td> 172813.026843</td>\n",
       "      <td> </td>\n",
       "      <td> 0.12</td>\n",
       "      <td> 0.11</td>\n",
       "    </tr>\n",
       "    <tr>\n",
       "      <th>&lt;10k</th>\n",
       "      <td>  71032.5988</td>\n",
       "      <td>  81168.998883</td>\n",
       "      <td> </td>\n",
       "      <td> 0.05</td>\n",
       "      <td> 0.05</td>\n",
       "    </tr>\n",
       "    <tr>\n",
       "      <th>&gt;250k</th>\n",
       "      <td>  35459.6228</td>\n",
       "      <td>  49525.344914</td>\n",
       "      <td> </td>\n",
       "      <td> 0.02</td>\n",
       "      <td> 0.03</td>\n",
       "    </tr>\n",
       "    <tr>\n",
       "      <th>Prefer not to answer</th>\n",
       "      <td> 174676.1733</td>\n",
       "      <td> 179588.631928</td>\n",
       "      <td> </td>\n",
       "      <td> 0.12</td>\n",
       "      <td> 0.12</td>\n",
       "    </tr>\n",
       "  </tbody>\n",
       "</table>\n",
       "</div>"
      ],
      "text/plain": [
       "                             2014           2015        2014 Shares  \\\n",
       "hh_income_detailed                                                    \n",
       "100k-150k             203805.9528  217376.020723               0.14   \n",
       "10k-25k               158049.5916  146979.342115               0.11   \n",
       "150k-200k              77315.1692   88526.171024               0.05   \n",
       "200k-250k              36224.2372   36158.807396               0.02   \n",
       "25k-35k               107948.6734  119552.282955               0.07   \n",
       "35k-50k               169390.2994  175272.532789               0.12   \n",
       "50k-75k               249011.1671  259117.002374               0.17   \n",
       "75k-100k              179193.5086  172813.026843               0.12   \n",
       "<10k                   71032.5988   81168.998883               0.05   \n",
       ">250k                  35459.6228   49525.344914               0.02   \n",
       "Prefer not to answer  174676.1733  179588.631928               0.12   \n",
       "\n",
       "                      2015 Shares  \n",
       "hh_income_detailed                 \n",
       "100k-150k                    0.14  \n",
       "10k-25k                      0.10  \n",
       "150k-200k                    0.06  \n",
       "200k-250k                    0.02  \n",
       "25k-35k                      0.08  \n",
       "35k-50k                      0.11  \n",
       "50k-75k                      0.17  \n",
       "75k-100k                     0.11  \n",
       "<10k                         0.05  \n",
       ">250k                        0.03  \n",
       "Prefer not to answer         0.12  "
      ]
     },
     "execution_count": 73,
     "metadata": {},
     "output_type": "execute_result"
    }
   ],
   "source": [
    "fieldname = 'Household Income'\n",
    "df = df_weighted(hh14, hh15, 'hh_income_detailed', expwt14, expwt15)\n",
    "df"
   ]
  },
  {
   "cell_type": "code",
   "execution_count": 88,
   "metadata": {
    "collapsed": false
   },
   "outputs": [
    {
     "data": {
      "text/html": [
       "<div id=\"chart_idNjBpDUPp\"</div>\n",
       "    <script type=\"text/javascript\">new Highcharts.Chart({\"title\":{\"text\":\"Household Income\"},\"series\":[{\"data\":[[\"100k-150k\",0.14],[\"10k-25k\",0.11],[\"150k-200k\",0.05],[\"200k-250k\",0.02],[\"25k-35k\",0.07],[\"35k-50k\",0.12],[\"50k-75k\",0.17],[\"75k-100k\",0.12],[\"<10k\",0.05],[\">250k\",0.02],[\"Prefer not to answer\",0.12]],\"name\":\"2014 Shares\",\"yAxis\":0},{\"data\":[[\"100k-150k\",0.14],[\"10k-25k\",0.1],[\"150k-200k\",0.06],[\"200k-250k\",0.02],[\"25k-35k\",0.08],[\"35k-50k\",0.11],[\"50k-75k\",0.17],[\"75k-100k\",0.11],[\"<10k\",0.05],[\">250k\",0.03],[\"Prefer not to answer\",0.12]],\"name\":\"2015 Shares\",\"yAxis\":0}],\"yAxis\":[{}],\"chart\":{\"renderTo\":\"chart_idNjBpDUPp\",\"type\":\"column\"},\"xAxis\":{\"categories\":[\"100k-150k\",\"10k-25k\",\"150k-200k\",\"200k-250k\",\"25k-35k\",\"35k-50k\",\"50k-75k\",\"75k-100k\",\"<10k\",\">250k\",\"Prefer not to answer\"],\"title\":{\"text\":\"hh_income_detailed\"}},\"legend\":{\"enabled\":true}});</script>"
      ],
      "text/plain": [
       "<IPython.core.display.HTML object>"
      ]
     },
     "metadata": {},
     "output_type": "display_data"
    }
   ],
   "source": [
    "df = df[[df1.year + ' Shares',df2.year + ' Shares']]\n",
    "display_charts(df, kind='bar', title=fieldname)"
   ]
  },
  {
   "cell_type": "markdown",
   "metadata": {},
   "source": [
    "** County **"
   ]
  },
  {
   "cell_type": "code",
   "execution_count": 95,
   "metadata": {
    "collapsed": false
   },
   "outputs": [
    {
     "data": {
      "text/html": [
       "<div style=\"max-height:1000px;max-width:1500px;overflow:auto;\">\n",
       "<table border=\"1\" class=\"dataframe\">\n",
       "  <thead>\n",
       "    <tr style=\"text-align: right;\">\n",
       "      <th></th>\n",
       "      <th>2014</th>\n",
       "      <th>2015</th>\n",
       "      <th>     </th>\n",
       "      <th>2014 Shares</th>\n",
       "      <th>2015 Shares</th>\n",
       "    </tr>\n",
       "    <tr>\n",
       "      <th>h_county_name</th>\n",
       "      <th></th>\n",
       "      <th></th>\n",
       "      <th></th>\n",
       "      <th></th>\n",
       "      <th></th>\n",
       "    </tr>\n",
       "  </thead>\n",
       "  <tbody>\n",
       "    <tr>\n",
       "      <th>King</th>\n",
       "      <td> 793419.8858</td>\n",
       "      <td> 808948.971527</td>\n",
       "      <td> </td>\n",
       "      <td> 0.54</td>\n",
       "      <td> 0.53</td>\n",
       "    </tr>\n",
       "    <tr>\n",
       "      <th>Kitsap</th>\n",
       "      <td>  97665.0010</td>\n",
       "      <td>  96341.278612</td>\n",
       "      <td> </td>\n",
       "      <td> 0.07</td>\n",
       "      <td> 0.06</td>\n",
       "    </tr>\n",
       "    <tr>\n",
       "      <th>Pierce</th>\n",
       "      <td> 302475.1091</td>\n",
       "      <td> 353511.224986</td>\n",
       "      <td> </td>\n",
       "      <td> 0.21</td>\n",
       "      <td> 0.23</td>\n",
       "    </tr>\n",
       "    <tr>\n",
       "      <th>Snohomish</th>\n",
       "      <td> 268546.9983</td>\n",
       "      <td> 267276.686819</td>\n",
       "      <td> </td>\n",
       "      <td> 0.18</td>\n",
       "      <td> 0.18</td>\n",
       "    </tr>\n",
       "  </tbody>\n",
       "</table>\n",
       "</div>"
      ],
      "text/plain": [
       "                      2014           2015        2014 Shares  2015 Shares\n",
       "h_county_name                                                            \n",
       "King           793419.8858  808948.971527               0.54         0.53\n",
       "Kitsap          97665.0010   96341.278612               0.07         0.06\n",
       "Pierce         302475.1091  353511.224986               0.21         0.23\n",
       "Snohomish      268546.9983  267276.686819               0.18         0.18"
      ]
     },
     "execution_count": 95,
     "metadata": {},
     "output_type": "execute_result"
    }
   ],
   "source": [
    "fieldname = 'County'\n",
    "df = df_weighted(hh14, hh15, 'h_county_name', expwt14, expwt15)\n",
    "df"
   ]
  },
  {
   "cell_type": "code",
   "execution_count": 96,
   "metadata": {
    "collapsed": false
   },
   "outputs": [
    {
     "data": {
      "text/html": [
       "<div id=\"chart_iddlbyYFzR\"</div>\n",
       "    <script type=\"text/javascript\">new Highcharts.Chart({\"title\":{\"text\":\"County\"},\"series\":[{\"data\":[[\"King\",0.54],[\"Kitsap\",0.07],[\"Pierce\",0.21],[\"Snohomish\",0.18]],\"name\":\"2014 Shares\",\"yAxis\":0},{\"data\":[[\"King\",0.53],[\"Kitsap\",0.06],[\"Pierce\",0.23],[\"Snohomish\",0.18]],\"name\":\"2015 Shares\",\"yAxis\":0}],\"yAxis\":[{}],\"chart\":{\"renderTo\":\"chart_iddlbyYFzR\",\"type\":\"column\"},\"xAxis\":{\"categories\":[\"King\",\"Kitsap\",\"Pierce\",\"Snohomish\"],\"title\":{\"text\":\"h_county_name\"}},\"legend\":{\"enabled\":true}});</script>"
      ],
      "text/plain": [
       "<IPython.core.display.HTML object>"
      ]
     },
     "metadata": {},
     "output_type": "display_data"
    }
   ],
   "source": [
    "df = df[[df1.year + ' Shares',df2.year + ' Shares']]\n",
    "display_charts(df, kind='bar', title=fieldname)"
   ]
  },
  {
   "cell_type": "markdown",
   "metadata": {},
   "source": [
    "** District **"
   ]
  },
  {
   "cell_type": "code",
   "execution_count": 98,
   "metadata": {
    "collapsed": false
   },
   "outputs": [
    {
     "data": {
      "text/html": [
       "<div style=\"max-height:1000px;max-width:1500px;overflow:auto;\">\n",
       "<table border=\"1\" class=\"dataframe\">\n",
       "  <thead>\n",
       "    <tr style=\"text-align: right;\">\n",
       "      <th></th>\n",
       "      <th>2014</th>\n",
       "      <th>2015</th>\n",
       "      <th>     </th>\n",
       "      <th>2014 Shares</th>\n",
       "      <th>2015 Shares</th>\n",
       "    </tr>\n",
       "    <tr>\n",
       "      <th>h_district_name</th>\n",
       "      <th></th>\n",
       "      <th></th>\n",
       "      <th></th>\n",
       "      <th></th>\n",
       "      <th></th>\n",
       "    </tr>\n",
       "  </thead>\n",
       "  <tbody>\n",
       "    <tr>\n",
       "      <th>East Side</th>\n",
       "      <td> 244912.5556</td>\n",
       "      <td> 240095.695141</td>\n",
       "      <td> </td>\n",
       "      <td> 0.17</td>\n",
       "      <td> 0.16</td>\n",
       "    </tr>\n",
       "    <tr>\n",
       "      <th>Everett-Lynwood-Edmonds</th>\n",
       "      <td> 111875.5679</td>\n",
       "      <td> 110759.474921</td>\n",
       "      <td> </td>\n",
       "      <td> 0.08</td>\n",
       "      <td> 0.07</td>\n",
       "    </tr>\n",
       "    <tr>\n",
       "      <th>Kitsap</th>\n",
       "      <td>  97665.0010</td>\n",
       "      <td>  96341.278612</td>\n",
       "      <td> </td>\n",
       "      <td> 0.07</td>\n",
       "      <td> 0.06</td>\n",
       "    </tr>\n",
       "    <tr>\n",
       "      <th>North Seattle-Shoreline</th>\n",
       "      <td> 144468.7298</td>\n",
       "      <td> 142241.230849</td>\n",
       "      <td> </td>\n",
       "      <td> 0.10</td>\n",
       "      <td> 0.09</td>\n",
       "    </tr>\n",
       "    <tr>\n",
       "      <th>Renton-FedWay-Kent</th>\n",
       "      <td> 201948.5012</td>\n",
       "      <td> 215864.885587</td>\n",
       "      <td> </td>\n",
       "      <td> 0.14</td>\n",
       "      <td> 0.14</td>\n",
       "    </tr>\n",
       "    <tr>\n",
       "      <th>Seattle CBD</th>\n",
       "      <td>  99845.8544</td>\n",
       "      <td> 109335.480604</td>\n",
       "      <td> </td>\n",
       "      <td> 0.07</td>\n",
       "      <td> 0.07</td>\n",
       "    </tr>\n",
       "    <tr>\n",
       "      <th>South Pierce</th>\n",
       "      <td> 202939.3474</td>\n",
       "      <td> 159403.196203</td>\n",
       "      <td> </td>\n",
       "      <td> 0.14</td>\n",
       "      <td> 0.10</td>\n",
       "    </tr>\n",
       "    <tr>\n",
       "      <th>Suburban Snohomish</th>\n",
       "      <td> 156671.4304</td>\n",
       "      <td> 156517.211898</td>\n",
       "      <td> </td>\n",
       "      <td> 0.11</td>\n",
       "      <td> 0.10</td>\n",
       "    </tr>\n",
       "    <tr>\n",
       "      <th>Tacoma</th>\n",
       "      <td>  98815.8924</td>\n",
       "      <td> 194108.028783</td>\n",
       "      <td> </td>\n",
       "      <td> 0.07</td>\n",
       "      <td> 0.13</td>\n",
       "    </tr>\n",
       "    <tr>\n",
       "      <th>West-South Seattle</th>\n",
       "      <td> 102964.1141</td>\n",
       "      <td> 101411.679346</td>\n",
       "      <td> </td>\n",
       "      <td> 0.07</td>\n",
       "      <td> 0.07</td>\n",
       "    </tr>\n",
       "  </tbody>\n",
       "</table>\n",
       "</div>"
      ],
      "text/plain": [
       "                                2014           2015        2014 Shares  \\\n",
       "h_district_name                                                          \n",
       "East Side                244912.5556  240095.695141               0.17   \n",
       "Everett-Lynwood-Edmonds  111875.5679  110759.474921               0.08   \n",
       "Kitsap                    97665.0010   96341.278612               0.07   \n",
       "North Seattle-Shoreline  144468.7298  142241.230849               0.10   \n",
       "Renton-FedWay-Kent       201948.5012  215864.885587               0.14   \n",
       "Seattle CBD               99845.8544  109335.480604               0.07   \n",
       "South Pierce             202939.3474  159403.196203               0.14   \n",
       "Suburban Snohomish       156671.4304  156517.211898               0.11   \n",
       "Tacoma                    98815.8924  194108.028783               0.07   \n",
       "West-South Seattle       102964.1141  101411.679346               0.07   \n",
       "\n",
       "                         2015 Shares  \n",
       "h_district_name                       \n",
       "East Side                       0.16  \n",
       "Everett-Lynwood-Edmonds         0.07  \n",
       "Kitsap                          0.06  \n",
       "North Seattle-Shoreline         0.09  \n",
       "Renton-FedWay-Kent              0.14  \n",
       "Seattle CBD                     0.07  \n",
       "South Pierce                    0.10  \n",
       "Suburban Snohomish              0.10  \n",
       "Tacoma                          0.13  \n",
       "West-South Seattle              0.07  "
      ]
     },
     "execution_count": 98,
     "metadata": {},
     "output_type": "execute_result"
    }
   ],
   "source": [
    "fieldname = 'District'\n",
    "df = df_weighted(hh14, hh15, 'h_district_name', expwt14, expwt15)\n",
    "df"
   ]
  },
  {
   "cell_type": "code",
   "execution_count": 99,
   "metadata": {
    "collapsed": false
   },
   "outputs": [
    {
     "data": {
      "text/html": [
       "<div id=\"chart_idqiwaothH\"</div>\n",
       "    <script type=\"text/javascript\">new Highcharts.Chart({\"title\":{\"text\":\"District\"},\"series\":[{\"data\":[[\"East Side\",0.17],[\"Everett-Lynwood-Edmonds\",0.08],[\"Kitsap\",0.07],[\"North Seattle-Shoreline\",0.1],[\"Renton-FedWay-Kent\",0.14],[\"Seattle CBD\",0.07],[\"South Pierce\",0.14],[\"Suburban Snohomish\",0.11],[\"Tacoma\",0.07],[\"West-South Seattle\",0.07]],\"name\":\"2014 Shares\",\"yAxis\":0},{\"data\":[[\"East Side\",0.16],[\"Everett-Lynwood-Edmonds\",0.07],[\"Kitsap\",0.06],[\"North Seattle-Shoreline\",0.09],[\"Renton-FedWay-Kent\",0.14],[\"Seattle CBD\",0.07],[\"South Pierce\",0.1],[\"Suburban Snohomish\",0.1],[\"Tacoma\",0.13],[\"West-South Seattle\",0.07]],\"name\":\"2015 Shares\",\"yAxis\":0}],\"yAxis\":[{}],\"chart\":{\"renderTo\":\"chart_idqiwaothH\",\"type\":\"column\"},\"xAxis\":{\"categories\":[\"East Side\",\"Everett-Lynwood-Edmonds\",\"Kitsap\",\"North Seattle-Shoreline\",\"Renton-FedWay-Kent\",\"Seattle CBD\",\"South Pierce\",\"Suburban Snohomish\",\"Tacoma\",\"West-South Seattle\"],\"title\":{\"text\":\"h_district_name\"}},\"legend\":{\"enabled\":true}});</script>"
      ],
      "text/plain": [
       "<IPython.core.display.HTML object>"
      ]
     },
     "metadata": {},
     "output_type": "display_data"
    }
   ],
   "source": [
    "df = df[[df1.year + ' Shares',df2.year + ' Shares']]\n",
    "display_charts(df, kind='bar', title=fieldname)"
   ]
  },
  {
   "cell_type": "markdown",
   "metadata": {},
   "source": [
    "** Regional Growth Center **"
   ]
  },
  {
   "cell_type": "code",
   "execution_count": 255,
   "metadata": {
    "collapsed": false
   },
   "outputs": [
    {
     "data": {
      "text/html": [
       "<div style=\"max-height:1000px;max-width:1500px;overflow:auto;\">\n",
       "<table border=\"1\" class=\"dataframe\">\n",
       "  <thead>\n",
       "    <tr style=\"text-align: right;\">\n",
       "      <th></th>\n",
       "      <th>2014</th>\n",
       "      <th>2015</th>\n",
       "      <th>     </th>\n",
       "      <th>2014 Shares</th>\n",
       "      <th>2015 Shares</th>\n",
       "    </tr>\n",
       "    <tr>\n",
       "      <th>h_rgc_name</th>\n",
       "      <th></th>\n",
       "      <th></th>\n",
       "      <th></th>\n",
       "      <th></th>\n",
       "      <th></th>\n",
       "    </tr>\n",
       "  </thead>\n",
       "  <tbody>\n",
       "    <tr>\n",
       "      <th>Auburn</th>\n",
       "      <td>     631.3311</td>\n",
       "      <td>    2278.203430</td>\n",
       "      <td> </td>\n",
       "      <td> 0.00</td>\n",
       "      <td> 0.00</td>\n",
       "    </tr>\n",
       "    <tr>\n",
       "      <th>Bellevue</th>\n",
       "      <td>    5841.7628</td>\n",
       "      <td>    4584.332044</td>\n",
       "      <td> </td>\n",
       "      <td> 0.00</td>\n",
       "      <td> 0.00</td>\n",
       "    </tr>\n",
       "    <tr>\n",
       "      <th>Bothell Canyon Park</th>\n",
       "      <td>     195.1288</td>\n",
       "      <td>            NaN</td>\n",
       "      <td> </td>\n",
       "      <td> 0.00</td>\n",
       "      <td>  NaN</td>\n",
       "    </tr>\n",
       "    <tr>\n",
       "      <th>Bremerton</th>\n",
       "      <td>    2161.4236</td>\n",
       "      <td>    1092.103417</td>\n",
       "      <td> </td>\n",
       "      <td> 0.00</td>\n",
       "      <td> 0.00</td>\n",
       "    </tr>\n",
       "    <tr>\n",
       "      <th>Burien</th>\n",
       "      <td>     375.4329</td>\n",
       "      <td>    1785.593971</td>\n",
       "      <td> </td>\n",
       "      <td> 0.00</td>\n",
       "      <td> 0.00</td>\n",
       "    </tr>\n",
       "    <tr>\n",
       "      <th>Everett</th>\n",
       "      <td>    2028.3215</td>\n",
       "      <td>    3810.525439</td>\n",
       "      <td> </td>\n",
       "      <td> 0.00</td>\n",
       "      <td> 0.00</td>\n",
       "    </tr>\n",
       "    <tr>\n",
       "      <th>Kent</th>\n",
       "      <td>     189.2049</td>\n",
       "      <td>            NaN</td>\n",
       "      <td> </td>\n",
       "      <td> 0.00</td>\n",
       "      <td>  NaN</td>\n",
       "    </tr>\n",
       "    <tr>\n",
       "      <th>Kirkland Totem Lake</th>\n",
       "      <td>    1175.2607</td>\n",
       "      <td>            NaN</td>\n",
       "      <td> </td>\n",
       "      <td> 0.00</td>\n",
       "      <td>  NaN</td>\n",
       "    </tr>\n",
       "    <tr>\n",
       "      <th>Lakewood</th>\n",
       "      <td>    2504.1317</td>\n",
       "      <td>    2090.260904</td>\n",
       "      <td> </td>\n",
       "      <td> 0.00</td>\n",
       "      <td> 0.00</td>\n",
       "    </tr>\n",
       "    <tr>\n",
       "      <th>Lynnwood</th>\n",
       "      <td>    1054.2915</td>\n",
       "      <td>     336.745056</td>\n",
       "      <td> </td>\n",
       "      <td> 0.00</td>\n",
       "      <td> 0.00</td>\n",
       "    </tr>\n",
       "    <tr>\n",
       "      <th>Outside RGC</th>\n",
       "      <td> 1367874.9984</td>\n",
       "      <td> 1397771.418889</td>\n",
       "      <td> </td>\n",
       "      <td> 0.94</td>\n",
       "      <td> 0.92</td>\n",
       "    </tr>\n",
       "    <tr>\n",
       "      <th>Puyallup Downtown</th>\n",
       "      <td>    1139.5040</td>\n",
       "      <td>     486.262237</td>\n",
       "      <td> </td>\n",
       "      <td> 0.00</td>\n",
       "      <td> 0.00</td>\n",
       "    </tr>\n",
       "    <tr>\n",
       "      <th>Puyallup South Hill</th>\n",
       "      <td>    1200.7929</td>\n",
       "      <td>            NaN</td>\n",
       "      <td> </td>\n",
       "      <td> 0.00</td>\n",
       "      <td>  NaN</td>\n",
       "    </tr>\n",
       "    <tr>\n",
       "      <th>Redmond Downtown</th>\n",
       "      <td>    2584.0693</td>\n",
       "      <td>            NaN</td>\n",
       "      <td> </td>\n",
       "      <td> 0.00</td>\n",
       "      <td>  NaN</td>\n",
       "    </tr>\n",
       "    <tr>\n",
       "      <th>Redmond-Overlake</th>\n",
       "      <td>     508.5244</td>\n",
       "      <td>     260.952252</td>\n",
       "      <td> </td>\n",
       "      <td> 0.00</td>\n",
       "      <td> 0.00</td>\n",
       "    </tr>\n",
       "    <tr>\n",
       "      <th>Renton</th>\n",
       "      <td>    2075.5282</td>\n",
       "      <td>    3734.024227</td>\n",
       "      <td> </td>\n",
       "      <td> 0.00</td>\n",
       "      <td> 0.00</td>\n",
       "    </tr>\n",
       "    <tr>\n",
       "      <th>SeaTac</th>\n",
       "      <td>    1040.7106</td>\n",
       "      <td>     150.937995</td>\n",
       "      <td> </td>\n",
       "      <td> 0.00</td>\n",
       "      <td> 0.00</td>\n",
       "    </tr>\n",
       "    <tr>\n",
       "      <th>Seattle Downtown</th>\n",
       "      <td>   14444.7775</td>\n",
       "      <td>    9758.177301</td>\n",
       "      <td> </td>\n",
       "      <td> 0.01</td>\n",
       "      <td> 0.01</td>\n",
       "    </tr>\n",
       "    <tr>\n",
       "      <th>Seattle First Hill/Capitol Hill</th>\n",
       "      <td>   27940.4260</td>\n",
       "      <td>   29718.334995</td>\n",
       "      <td> </td>\n",
       "      <td> 0.02</td>\n",
       "      <td> 0.02</td>\n",
       "    </tr>\n",
       "    <tr>\n",
       "      <th>Seattle Northgate</th>\n",
       "      <td>    2395.8691</td>\n",
       "      <td>    2398.023301</td>\n",
       "      <td> </td>\n",
       "      <td> 0.00</td>\n",
       "      <td> 0.00</td>\n",
       "    </tr>\n",
       "    <tr>\n",
       "      <th>Seattle South Lake Union</th>\n",
       "      <td>    2632.0316</td>\n",
       "      <td>            NaN</td>\n",
       "      <td> </td>\n",
       "      <td> 0.00</td>\n",
       "      <td>  NaN</td>\n",
       "    </tr>\n",
       "    <tr>\n",
       "      <th>Seattle University Community</th>\n",
       "      <td>    6064.8524</td>\n",
       "      <td>            NaN</td>\n",
       "      <td> </td>\n",
       "      <td> 0.00</td>\n",
       "      <td>  NaN</td>\n",
       "    </tr>\n",
       "    <tr>\n",
       "      <th>Seattle Uptown</th>\n",
       "      <td>    5183.4803</td>\n",
       "      <td>    9754.517595</td>\n",
       "      <td> </td>\n",
       "      <td> 0.00</td>\n",
       "      <td> 0.01</td>\n",
       "    </tr>\n",
       "    <tr>\n",
       "      <th>Silverdale</th>\n",
       "      <td>    2318.1165</td>\n",
       "      <td>     622.544506</td>\n",
       "      <td> </td>\n",
       "      <td> 0.00</td>\n",
       "      <td> 0.00</td>\n",
       "    </tr>\n",
       "    <tr>\n",
       "      <th>Tacoma Downtown</th>\n",
       "      <td>    7473.2637</td>\n",
       "      <td>   25721.451852</td>\n",
       "      <td> </td>\n",
       "      <td> 0.01</td>\n",
       "      <td> 0.02</td>\n",
       "    </tr>\n",
       "    <tr>\n",
       "      <th>Tacoma Mall</th>\n",
       "      <td>    1073.7598</td>\n",
       "      <td>    4477.707207</td>\n",
       "      <td> </td>\n",
       "      <td> 0.00</td>\n",
       "      <td> 0.00</td>\n",
       "    </tr>\n",
       "  </tbody>\n",
       "</table>\n",
       "</div>"
      ],
      "text/plain": [
       "                                         2014            2015        \\\n",
       "h_rgc_name                                                            \n",
       "Auburn                               631.3311     2278.203430         \n",
       "Bellevue                            5841.7628     4584.332044         \n",
       "Bothell Canyon Park                  195.1288             NaN         \n",
       "Bremerton                           2161.4236     1092.103417         \n",
       "Burien                               375.4329     1785.593971         \n",
       "Everett                             2028.3215     3810.525439         \n",
       "Kent                                 189.2049             NaN         \n",
       "Kirkland Totem Lake                 1175.2607             NaN         \n",
       "Lakewood                            2504.1317     2090.260904         \n",
       "Lynnwood                            1054.2915      336.745056         \n",
       "Outside RGC                      1367874.9984  1397771.418889         \n",
       "Puyallup Downtown                   1139.5040      486.262237         \n",
       "Puyallup South Hill                 1200.7929             NaN         \n",
       "Redmond Downtown                    2584.0693             NaN         \n",
       "Redmond-Overlake                     508.5244      260.952252         \n",
       "Renton                              2075.5282     3734.024227         \n",
       "SeaTac                              1040.7106      150.937995         \n",
       "Seattle Downtown                   14444.7775     9758.177301         \n",
       "Seattle First Hill/Capitol Hill    27940.4260    29718.334995         \n",
       "Seattle Northgate                   2395.8691     2398.023301         \n",
       "Seattle South Lake Union            2632.0316             NaN         \n",
       "Seattle University Community        6064.8524             NaN         \n",
       "Seattle Uptown                      5183.4803     9754.517595         \n",
       "Silverdale                          2318.1165      622.544506         \n",
       "Tacoma Downtown                     7473.2637    25721.451852         \n",
       "Tacoma Mall                         1073.7598     4477.707207         \n",
       "\n",
       "                                 2014 Shares  2015 Shares  \n",
       "h_rgc_name                                                 \n",
       "Auburn                                  0.00         0.00  \n",
       "Bellevue                                0.00         0.00  \n",
       "Bothell Canyon Park                     0.00          NaN  \n",
       "Bremerton                               0.00         0.00  \n",
       "Burien                                  0.00         0.00  \n",
       "Everett                                 0.00         0.00  \n",
       "Kent                                    0.00          NaN  \n",
       "Kirkland Totem Lake                     0.00          NaN  \n",
       "Lakewood                                0.00         0.00  \n",
       "Lynnwood                                0.00         0.00  \n",
       "Outside RGC                             0.94         0.92  \n",
       "Puyallup Downtown                       0.00         0.00  \n",
       "Puyallup South Hill                     0.00          NaN  \n",
       "Redmond Downtown                        0.00          NaN  \n",
       "Redmond-Overlake                        0.00         0.00  \n",
       "Renton                                  0.00         0.00  \n",
       "SeaTac                                  0.00         0.00  \n",
       "Seattle Downtown                        0.01         0.01  \n",
       "Seattle First Hill/Capitol Hill         0.02         0.02  \n",
       "Seattle Northgate                       0.00         0.00  \n",
       "Seattle South Lake Union                0.00          NaN  \n",
       "Seattle University Community            0.00          NaN  \n",
       "Seattle Uptown                          0.00         0.01  \n",
       "Silverdale                              0.00         0.00  \n",
       "Tacoma Downtown                         0.01         0.02  \n",
       "Tacoma Mall                             0.00         0.00  "
      ]
     },
     "execution_count": 255,
     "metadata": {},
     "output_type": "execute_result"
    }
   ],
   "source": [
    "fieldname = 'Regional Growth Center'\n",
    "df = df_weighted(hh14, hh15, 'h_rgc_name', expwt14, expwt15)\n",
    "df"
   ]
  },
  {
   "cell_type": "code",
   "execution_count": 256,
   "metadata": {
    "collapsed": false
   },
   "outputs": [
    {
     "data": {
      "text/html": [
       "<div id=\"chart_idfliQYkPz\"</div>\n",
       "    <script type=\"text/javascript\">new Highcharts.Chart({\"title\":{\"text\":\"Regional Growth Center\"},\"series\":[{\"data\":[[\"Auburn\",2278.2034299906],[\"Bellevue\",4584.3320440004],[\"Bothell Canyon Park\",null],[\"Bremerton\",1092.1034174085],[\"Burien\",1785.5939709055],[\"Everett\",3810.5254393677],[\"Kent\",null],[\"Kirkland Totem Lake\",null],[\"Lakewood\",2090.2609035785],[\"Lynnwood\",336.7450558049],[\"Puyallup Downtown\",486.2622366802],[\"Puyallup South Hill\",null],[\"Redmond Downtown\",null],[\"Redmond-Overlake\",260.9522517361],[\"Renton\",3734.0242272861],[\"SeaTac\",150.9379947753],[\"Seattle Downtown\",9758.1773007203],[\"Seattle First Hill\\/Capitol Hill\",29718.3349954835],[\"Seattle Northgate\",2398.0233014156],[\"Seattle South Lake Union\",null],[\"Seattle University Community\",null],[\"Seattle Uptown\",9754.5175953678],[\"Silverdale\",622.5445058513],[\"Tacoma Downtown\",25721.4518515148],[\"Tacoma Mall\",4477.7072074886]],\"name\":\"2015\",\"yAxis\":0},{\"data\":[[\"Auburn\",631.3311],[\"Bellevue\",5841.7628],[\"Bothell Canyon Park\",195.1288],[\"Bremerton\",2161.4236],[\"Burien\",375.4329],[\"Everett\",2028.3215],[\"Kent\",189.2049],[\"Kirkland Totem Lake\",1175.2607],[\"Lakewood\",2504.1317],[\"Lynnwood\",1054.2915],[\"Puyallup Downtown\",1139.504],[\"Puyallup South Hill\",1200.7929],[\"Redmond Downtown\",2584.0693],[\"Redmond-Overlake\",508.5244],[\"Renton\",2075.5282],[\"SeaTac\",1040.7106],[\"Seattle Downtown\",14444.7775],[\"Seattle First Hill\\/Capitol Hill\",27940.426],[\"Seattle Northgate\",2395.8691],[\"Seattle South Lake Union\",2632.0316],[\"Seattle University Community\",6064.8524],[\"Seattle Uptown\",5183.4803],[\"Silverdale\",2318.1165],[\"Tacoma Downtown\",7473.2637],[\"Tacoma Mall\",1073.7598]],\"name\":\"2014\",\"yAxis\":0}],\"yAxis\":[{}],\"chart\":{\"renderTo\":\"chart_idfliQYkPz\",\"type\":\"column\"},\"xAxis\":{\"categories\":[\"Auburn\",\"Bellevue\",\"Bothell Canyon Park\",\"Bremerton\",\"Burien\",\"Everett\",\"Kent\",\"Kirkland Totem Lake\",\"Lakewood\",\"Lynnwood\",\"Puyallup Downtown\",\"Puyallup South Hill\",\"Redmond Downtown\",\"Redmond-Overlake\",\"Renton\",\"SeaTac\",\"Seattle Downtown\",\"Seattle First Hill\\/Capitol Hill\",\"Seattle Northgate\",\"Seattle South Lake Union\",\"Seattle University Community\",\"Seattle Uptown\",\"Silverdale\",\"Tacoma Downtown\",\"Tacoma Mall\"],\"title\":{\"text\":\"h_rgc_name\"}},\"legend\":{\"enabled\":true}});</script>"
      ],
      "text/plain": [
       "<IPython.core.display.HTML object>"
      ]
     },
     "metadata": {},
     "output_type": "display_data"
    }
   ],
   "source": [
    "df.drop(df.index[df.index.get_loc('Outside RGC')],inplace=True)    # remove the no-growth-center row\n",
    "df = df[[df1.year,df2.year]]\n",
    "display_charts(df, kind='bar', title=fieldname)"
   ]
  },
  {
   "cell_type": "markdown",
   "metadata": {},
   "source": [
    "** Seattle Urban Village **"
   ]
  },
  {
   "cell_type": "code",
   "execution_count": 274,
   "metadata": {
    "collapsed": false
   },
   "outputs": [
    {
     "data": {
      "text/html": [
       "<div style=\"max-height:1000px;max-width:1500px;overflow:auto;\">\n",
       "<table border=\"1\" class=\"dataframe\">\n",
       "  <thead>\n",
       "    <tr style=\"text-align: right;\">\n",
       "      <th></th>\n",
       "      <th>2014</th>\n",
       "      <th>2015</th>\n",
       "      <th>     </th>\n",
       "      <th>2014 Shares</th>\n",
       "      <th>2015 Shares</th>\n",
       "    </tr>\n",
       "    <tr>\n",
       "      <th>h_uv_name</th>\n",
       "      <th></th>\n",
       "      <th></th>\n",
       "      <th></th>\n",
       "      <th></th>\n",
       "      <th></th>\n",
       "    </tr>\n",
       "  </thead>\n",
       "  <tbody>\n",
       "    <tr>\n",
       "      <th>12th Avenue</th>\n",
       "      <td>  1805.1624</td>\n",
       "      <td>   441.333116</td>\n",
       "      <td> </td>\n",
       "      <td> 0.00</td>\n",
       "      <td> 0.00</td>\n",
       "    </tr>\n",
       "    <tr>\n",
       "      <th>23rd &amp; Union-Jackson</th>\n",
       "      <td>  4330.7518</td>\n",
       "      <td> 10366.409348</td>\n",
       "      <td> </td>\n",
       "      <td> 0.00</td>\n",
       "      <td> 0.01</td>\n",
       "    </tr>\n",
       "    <tr>\n",
       "      <th>Admiral</th>\n",
       "      <td>   872.5395</td>\n",
       "      <td>    57.955363</td>\n",
       "      <td> </td>\n",
       "      <td> 0.00</td>\n",
       "      <td> 0.00</td>\n",
       "    </tr>\n",
       "    <tr>\n",
       "      <th>Aurora-Licton Springs</th>\n",
       "      <td>  2500.7465</td>\n",
       "      <td>  1211.734022</td>\n",
       "      <td> </td>\n",
       "      <td> 0.00</td>\n",
       "      <td> 0.00</td>\n",
       "    </tr>\n",
       "    <tr>\n",
       "      <th>Ballard</th>\n",
       "      <td>  6621.9679</td>\n",
       "      <td>  4782.606792</td>\n",
       "      <td> </td>\n",
       "      <td> 0.00</td>\n",
       "      <td> 0.00</td>\n",
       "    </tr>\n",
       "    <tr>\n",
       "      <th>Ballard-Interbay-Northend</th>\n",
       "      <td>   700.6601</td>\n",
       "      <td>   865.473673</td>\n",
       "      <td> </td>\n",
       "      <td> 0.00</td>\n",
       "      <td> 0.00</td>\n",
       "    </tr>\n",
       "    <tr>\n",
       "      <th>Belltown</th>\n",
       "      <td>  5780.0962</td>\n",
       "      <td>  2173.817681</td>\n",
       "      <td> </td>\n",
       "      <td> 0.00</td>\n",
       "      <td> 0.00</td>\n",
       "    </tr>\n",
       "    <tr>\n",
       "      <th>Bitter Lake Village</th>\n",
       "      <td>  1910.5767</td>\n",
       "      <td>  6636.960381</td>\n",
       "      <td> </td>\n",
       "      <td> 0.00</td>\n",
       "      <td> 0.00</td>\n",
       "    </tr>\n",
       "    <tr>\n",
       "      <th>Capitol Hill</th>\n",
       "      <td> 17462.5989</td>\n",
       "      <td>  9054.567828</td>\n",
       "      <td> </td>\n",
       "      <td> 0.01</td>\n",
       "      <td> 0.01</td>\n",
       "    </tr>\n",
       "    <tr>\n",
       "      <th>Chinatown-International District</th>\n",
       "      <td>  1770.9385</td>\n",
       "      <td>  1373.706884</td>\n",
       "      <td> </td>\n",
       "      <td> 0.00</td>\n",
       "      <td> 0.00</td>\n",
       "    </tr>\n",
       "    <tr>\n",
       "      <th>Columbia City</th>\n",
       "      <td>  1224.0041</td>\n",
       "      <td>  1784.514892</td>\n",
       "      <td> </td>\n",
       "      <td> 0.00</td>\n",
       "      <td> 0.00</td>\n",
       "    </tr>\n",
       "    <tr>\n",
       "      <th>Commercial Core</th>\n",
       "      <td>  3356.6704</td>\n",
       "      <td>  1249.849472</td>\n",
       "      <td> </td>\n",
       "      <td> 0.00</td>\n",
       "      <td> 0.00</td>\n",
       "    </tr>\n",
       "    <tr>\n",
       "      <th>Crown Hill</th>\n",
       "      <td>   452.5802</td>\n",
       "      <td>    45.775207</td>\n",
       "      <td> </td>\n",
       "      <td> 0.00</td>\n",
       "      <td> 0.00</td>\n",
       "    </tr>\n",
       "    <tr>\n",
       "      <th>Denny Triangle</th>\n",
       "      <td>  2363.3419</td>\n",
       "      <td>  1384.608839</td>\n",
       "      <td> </td>\n",
       "      <td> 0.00</td>\n",
       "      <td> 0.00</td>\n",
       "    </tr>\n",
       "    <tr>\n",
       "      <th>Eastlake</th>\n",
       "      <td>  2931.8942</td>\n",
       "      <td>   835.556997</td>\n",
       "      <td> </td>\n",
       "      <td> 0.00</td>\n",
       "      <td> 0.00</td>\n",
       "    </tr>\n",
       "    <tr>\n",
       "      <th>First Hill</th>\n",
       "      <td>  4877.5035</td>\n",
       "      <td>  7862.308316</td>\n",
       "      <td> </td>\n",
       "      <td> 0.00</td>\n",
       "      <td> 0.01</td>\n",
       "    </tr>\n",
       "    <tr>\n",
       "      <th>Fremont</th>\n",
       "      <td>  1772.0754</td>\n",
       "      <td>  5820.183946</td>\n",
       "      <td> </td>\n",
       "      <td> 0.00</td>\n",
       "      <td> 0.00</td>\n",
       "    </tr>\n",
       "    <tr>\n",
       "      <th>Greater Duwamish</th>\n",
       "      <td>   173.3320</td>\n",
       "      <td>  1077.703021</td>\n",
       "      <td> </td>\n",
       "      <td> 0.00</td>\n",
       "      <td> 0.00</td>\n",
       "    </tr>\n",
       "    <tr>\n",
       "      <th>Green Lake</th>\n",
       "      <td>  1422.3755</td>\n",
       "      <td>  2794.583055</td>\n",
       "      <td> </td>\n",
       "      <td> 0.00</td>\n",
       "      <td> 0.00</td>\n",
       "    </tr>\n",
       "    <tr>\n",
       "      <th>Greenwood-Phinney Ridge</th>\n",
       "      <td>   821.3145</td>\n",
       "      <td>  6212.458884</td>\n",
       "      <td> </td>\n",
       "      <td> 0.00</td>\n",
       "      <td> 0.00</td>\n",
       "    </tr>\n",
       "    <tr>\n",
       "      <th>Lake City</th>\n",
       "      <td>  1039.0643</td>\n",
       "      <td>  2588.265859</td>\n",
       "      <td> </td>\n",
       "      <td> 0.00</td>\n",
       "      <td> 0.00</td>\n",
       "    </tr>\n",
       "    <tr>\n",
       "      <th>MLK at Holly St</th>\n",
       "      <td>   623.9415</td>\n",
       "      <td>          NaN</td>\n",
       "      <td> </td>\n",
       "      <td> 0.00</td>\n",
       "      <td>  NaN</td>\n",
       "    </tr>\n",
       "    <tr>\n",
       "      <th>Madison-Miller</th>\n",
       "      <td>  2049.0561</td>\n",
       "      <td>  3707.693408</td>\n",
       "      <td> </td>\n",
       "      <td> 0.00</td>\n",
       "      <td> 0.00</td>\n",
       "    </tr>\n",
       "    <tr>\n",
       "      <th>Morgan Junction</th>\n",
       "      <td>  1052.8623</td>\n",
       "      <td>   912.913845</td>\n",
       "      <td> </td>\n",
       "      <td> 0.00</td>\n",
       "      <td> 0.00</td>\n",
       "    </tr>\n",
       "    <tr>\n",
       "      <th>North Beacon Hill</th>\n",
       "      <td>  1403.5982</td>\n",
       "      <td>  2017.487685</td>\n",
       "      <td> </td>\n",
       "      <td> 0.00</td>\n",
       "      <td> 0.00</td>\n",
       "    </tr>\n",
       "    <tr>\n",
       "      <th>North Rainier</th>\n",
       "      <td>  1786.5935</td>\n",
       "      <td>  1568.457873</td>\n",
       "      <td> </td>\n",
       "      <td> 0.00</td>\n",
       "      <td> 0.00</td>\n",
       "    </tr>\n",
       "    <tr>\n",
       "      <th>Northgate</th>\n",
       "      <td>  2395.8691</td>\n",
       "      <td>   815.426873</td>\n",
       "      <td> </td>\n",
       "      <td> 0.00</td>\n",
       "      <td> 0.00</td>\n",
       "    </tr>\n",
       "    <tr>\n",
       "      <th>Pike/Pine</th>\n",
       "      <td>  3751.0630</td>\n",
       "      <td> 12057.227018</td>\n",
       "      <td> </td>\n",
       "      <td> 0.00</td>\n",
       "      <td> 0.01</td>\n",
       "    </tr>\n",
       "    <tr>\n",
       "      <th>Pioneer Square</th>\n",
       "      <td>  1173.7305</td>\n",
       "      <td>   238.907406</td>\n",
       "      <td> </td>\n",
       "      <td> 0.00</td>\n",
       "      <td> 0.00</td>\n",
       "    </tr>\n",
       "    <tr>\n",
       "      <th>Rainier Beach</th>\n",
       "      <td>   951.2222</td>\n",
       "      <td>  1509.359246</td>\n",
       "      <td> </td>\n",
       "      <td> 0.00</td>\n",
       "      <td> 0.00</td>\n",
       "    </tr>\n",
       "    <tr>\n",
       "      <th>Ravenna</th>\n",
       "      <td>  1521.3620</td>\n",
       "      <td>   526.416534</td>\n",
       "      <td> </td>\n",
       "      <td> 0.00</td>\n",
       "      <td> 0.00</td>\n",
       "    </tr>\n",
       "    <tr>\n",
       "      <th>Roosevelt</th>\n",
       "      <td>   999.9276</td>\n",
       "      <td>   375.326433</td>\n",
       "      <td> </td>\n",
       "      <td> 0.00</td>\n",
       "      <td> 0.00</td>\n",
       "    </tr>\n",
       "    <tr>\n",
       "      <th>South Lake Union</th>\n",
       "      <td>  2632.0316</td>\n",
       "      <td>  4860.505917</td>\n",
       "      <td> </td>\n",
       "      <td> 0.00</td>\n",
       "      <td> 0.00</td>\n",
       "    </tr>\n",
       "    <tr>\n",
       "      <th>South Park</th>\n",
       "      <td>    90.8989</td>\n",
       "      <td>          NaN</td>\n",
       "      <td> </td>\n",
       "      <td> 0.00</td>\n",
       "      <td>  NaN</td>\n",
       "    </tr>\n",
       "    <tr>\n",
       "      <th>University Campus</th>\n",
       "      <td>   455.8579</td>\n",
       "      <td>   956.521899</td>\n",
       "      <td> </td>\n",
       "      <td> 0.00</td>\n",
       "      <td> 0.00</td>\n",
       "    </tr>\n",
       "    <tr>\n",
       "      <th>University District Northwest</th>\n",
       "      <td>  4132.9513</td>\n",
       "      <td>  7658.843502</td>\n",
       "      <td> </td>\n",
       "      <td> 0.00</td>\n",
       "      <td> 0.01</td>\n",
       "    </tr>\n",
       "    <tr>\n",
       "      <th>Upper Queen Anne</th>\n",
       "      <td>  1078.2559</td>\n",
       "      <td>  4830.820861</td>\n",
       "      <td> </td>\n",
       "      <td> 0.00</td>\n",
       "      <td> 0.00</td>\n",
       "    </tr>\n",
       "    <tr>\n",
       "      <th>Uptown</th>\n",
       "      <td>  5183.4803</td>\n",
       "      <td> 15792.364825</td>\n",
       "      <td> </td>\n",
       "      <td> 0.00</td>\n",
       "      <td> 0.01</td>\n",
       "    </tr>\n",
       "    <tr>\n",
       "      <th>Wallingford</th>\n",
       "      <td>  2943.8076</td>\n",
       "      <td>  3080.320733</td>\n",
       "      <td> </td>\n",
       "      <td> 0.00</td>\n",
       "      <td> 0.00</td>\n",
       "    </tr>\n",
       "    <tr>\n",
       "      <th>West Seattle Junction</th>\n",
       "      <td>  1561.5006</td>\n",
       "      <td>  1474.079370</td>\n",
       "      <td> </td>\n",
       "      <td> 0.00</td>\n",
       "      <td> 0.00</td>\n",
       "    </tr>\n",
       "    <tr>\n",
       "      <th>Westwood-Highland Park</th>\n",
       "      <td>  1278.8269</td>\n",
       "      <td>  2112.160994</td>\n",
       "      <td> </td>\n",
       "      <td> 0.00</td>\n",
       "      <td> 0.00</td>\n",
       "    </tr>\n",
       "  </tbody>\n",
       "</table>\n",
       "</div>"
      ],
      "text/plain": [
       "                                        2014          2015        2014 Shares  \\\n",
       "h_uv_name                                                                       \n",
       "12th Avenue                        1805.1624    441.333116               0.00   \n",
       "23rd & Union-Jackson               4330.7518  10366.409348               0.00   \n",
       "Admiral                             872.5395     57.955363               0.00   \n",
       "Aurora-Licton Springs              2500.7465   1211.734022               0.00   \n",
       "Ballard                            6621.9679   4782.606792               0.00   \n",
       "Ballard-Interbay-Northend           700.6601    865.473673               0.00   \n",
       "Belltown                           5780.0962   2173.817681               0.00   \n",
       "Bitter Lake Village                1910.5767   6636.960381               0.00   \n",
       "Capitol Hill                      17462.5989   9054.567828               0.01   \n",
       "Chinatown-International District   1770.9385   1373.706884               0.00   \n",
       "Columbia City                      1224.0041   1784.514892               0.00   \n",
       "Commercial Core                    3356.6704   1249.849472               0.00   \n",
       "Crown Hill                          452.5802     45.775207               0.00   \n",
       "Denny Triangle                     2363.3419   1384.608839               0.00   \n",
       "Eastlake                           2931.8942    835.556997               0.00   \n",
       "First Hill                         4877.5035   7862.308316               0.00   \n",
       "Fremont                            1772.0754   5820.183946               0.00   \n",
       "Greater Duwamish                    173.3320   1077.703021               0.00   \n",
       "Green Lake                         1422.3755   2794.583055               0.00   \n",
       "Greenwood-Phinney Ridge             821.3145   6212.458884               0.00   \n",
       "Lake City                          1039.0643   2588.265859               0.00   \n",
       "MLK at Holly St                     623.9415           NaN               0.00   \n",
       "Madison-Miller                     2049.0561   3707.693408               0.00   \n",
       "Morgan Junction                    1052.8623    912.913845               0.00   \n",
       "North Beacon Hill                  1403.5982   2017.487685               0.00   \n",
       "North Rainier                      1786.5935   1568.457873               0.00   \n",
       "Northgate                          2395.8691    815.426873               0.00   \n",
       "Pike/Pine                          3751.0630  12057.227018               0.00   \n",
       "Pioneer Square                     1173.7305    238.907406               0.00   \n",
       "Rainier Beach                       951.2222   1509.359246               0.00   \n",
       "Ravenna                            1521.3620    526.416534               0.00   \n",
       "Roosevelt                           999.9276    375.326433               0.00   \n",
       "South Lake Union                   2632.0316   4860.505917               0.00   \n",
       "South Park                           90.8989           NaN               0.00   \n",
       "University Campus                   455.8579    956.521899               0.00   \n",
       "University District Northwest      4132.9513   7658.843502               0.00   \n",
       "Upper Queen Anne                   1078.2559   4830.820861               0.00   \n",
       "Uptown                             5183.4803  15792.364825               0.00   \n",
       "Wallingford                        2943.8076   3080.320733               0.00   \n",
       "West Seattle Junction              1561.5006   1474.079370               0.00   \n",
       "Westwood-Highland Park             1278.8269   2112.160994               0.00   \n",
       "\n",
       "                                  2015 Shares  \n",
       "h_uv_name                                      \n",
       "12th Avenue                              0.00  \n",
       "23rd & Union-Jackson                     0.01  \n",
       "Admiral                                  0.00  \n",
       "Aurora-Licton Springs                    0.00  \n",
       "Ballard                                  0.00  \n",
       "Ballard-Interbay-Northend                0.00  \n",
       "Belltown                                 0.00  \n",
       "Bitter Lake Village                      0.00  \n",
       "Capitol Hill                             0.01  \n",
       "Chinatown-International District         0.00  \n",
       "Columbia City                            0.00  \n",
       "Commercial Core                          0.00  \n",
       "Crown Hill                               0.00  \n",
       "Denny Triangle                           0.00  \n",
       "Eastlake                                 0.00  \n",
       "First Hill                               0.01  \n",
       "Fremont                                  0.00  \n",
       "Greater Duwamish                         0.00  \n",
       "Green Lake                               0.00  \n",
       "Greenwood-Phinney Ridge                  0.00  \n",
       "Lake City                                0.00  \n",
       "MLK at Holly St                           NaN  \n",
       "Madison-Miller                           0.00  \n",
       "Morgan Junction                          0.00  \n",
       "North Beacon Hill                        0.00  \n",
       "North Rainier                            0.00  \n",
       "Northgate                                0.00  \n",
       "Pike/Pine                                0.01  \n",
       "Pioneer Square                           0.00  \n",
       "Rainier Beach                            0.00  \n",
       "Ravenna                                  0.00  \n",
       "Roosevelt                                0.00  \n",
       "South Lake Union                         0.00  \n",
       "South Park                                NaN  \n",
       "University Campus                        0.00  \n",
       "University District Northwest            0.01  \n",
       "Upper Queen Anne                         0.00  \n",
       "Uptown                                   0.01  \n",
       "Wallingford                              0.00  \n",
       "West Seattle Junction                    0.00  \n",
       "Westwood-Highland Park                   0.00  "
      ]
     },
     "execution_count": 274,
     "metadata": {},
     "output_type": "execute_result"
    }
   ],
   "source": [
    "fieldname = 'Seattle Urban Village'\n",
    "df = df_weighted(hh14, hh15, 'h_uv_name', expwt14, expwt15)\n",
    "numpy."
   ]
  },
  {
   "cell_type": "code",
   "execution_count": 270,
   "metadata": {
    "collapsed": false
   },
   "outputs": [
    {
     "data": {
      "text/html": [
       "<div id=\"chart_idNOzhAqSI\"</div>\n",
       "    <script type=\"text/javascript\">new Highcharts.Chart({\"title\":{\"text\":\"Seattle Urban Village\"},\"series\":[{\"data\":[[\"12th Avenue\",441.3331159496],[\"23rd & Union-Jackson\",10366.4093477863],[\"Admiral\",57.9553628905],[\"Aurora-Licton Springs\",1211.7340224625],[\"Ballard\",4782.6067922294],[\"Ballard-Interbay-Northend\",865.4736733167],[\"Belltown\",2173.81768099],[\"Bitter Lake Village\",6636.9603814488],[\"Capitol Hill\",9054.5678277621],[\"Chinatown-International District\",1373.7068837125],[\"Columbia City\",1784.514892216],[\"Commercial Core\",1249.8494720127],[\"Crown Hill\",45.775206539],[\"Denny Triangle\",1384.6088387256],[\"Eastlake\",835.556997327],[\"First Hill\",7862.308316399],[\"Fremont\",5820.1839464794],[\"Greater Duwamish\",1077.7030208692],[\"Green Lake\",2794.5830548148],[\"Greenwood-Phinney Ridge\",6212.4588844807],[\"Lake City\",2588.2658593378],[\"MLK at Holly St\",null],[\"Madison-Miller\",3707.6934078586],[\"Morgan Junction\",912.9138448683],[\"North Beacon Hill\",2017.4876854775],[\"North Rainier\",1568.4578729714],[\"Northgate\",815.4268733585],[\"Pike\\/Pine\",12057.2270184028],[\"Pioneer Square\",238.9074064909],[\"Rainier Beach\",1509.3592462498],[\"Ravenna\",526.4165338235],[\"Roosevelt\",375.3264328818],[\"South Lake Union\",4860.5059169358],[\"South Park\",null],[\"University Campus\",956.5218992985],[\"University District Northwest\",7658.8435016462],[\"Upper Queen Anne\",4830.8208608521],[\"Uptown\",15792.3648246395],[\"Wallingford\",3080.3207334365],[\"West Seattle Junction\",1474.0793701767],[\"Westwood-Highland Park\",2112.1609943369]],\"name\":\"2015\",\"yAxis\":0},{\"data\":[[\"12th Avenue\",1805.1624],[\"23rd & Union-Jackson\",4330.7518],[\"Admiral\",872.5395],[\"Aurora-Licton Springs\",2500.7465],[\"Ballard\",6621.9679],[\"Ballard-Interbay-Northend\",700.6601],[\"Belltown\",5780.0962],[\"Bitter Lake Village\",1910.5767],[\"Capitol Hill\",17462.5989],[\"Chinatown-International District\",1770.9385],[\"Columbia City\",1224.0041],[\"Commercial Core\",3356.6704],[\"Crown Hill\",452.5802],[\"Denny Triangle\",2363.3419],[\"Eastlake\",2931.8942],[\"First Hill\",4877.5035],[\"Fremont\",1772.0754],[\"Greater Duwamish\",173.332],[\"Green Lake\",1422.3755],[\"Greenwood-Phinney Ridge\",821.3145],[\"Lake City\",1039.0643],[\"MLK at Holly St\",623.9415],[\"Madison-Miller\",2049.0561],[\"Morgan Junction\",1052.8623],[\"North Beacon Hill\",1403.5982],[\"North Rainier\",1786.5935],[\"Northgate\",2395.8691],[\"Pike\\/Pine\",3751.063],[\"Pioneer Square\",1173.7305],[\"Rainier Beach\",951.2222],[\"Ravenna\",1521.362],[\"Roosevelt\",999.9276],[\"South Lake Union\",2632.0316],[\"South Park\",90.8989],[\"University Campus\",455.8579],[\"University District Northwest\",4132.9513],[\"Upper Queen Anne\",1078.2559],[\"Uptown\",5183.4803],[\"Wallingford\",2943.8076],[\"West Seattle Junction\",1561.5006],[\"Westwood-Highland Park\",1278.8269]],\"name\":\"2014\",\"yAxis\":0}],\"yAxis\":[{}],\"chart\":{\"renderTo\":\"chart_idNOzhAqSI\",\"type\":\"column\"},\"xAxis\":{\"categories\":[\"12th Avenue\",\"23rd & Union-Jackson\",\"Admiral\",\"Aurora-Licton Springs\",\"Ballard\",\"Ballard-Interbay-Northend\",\"Belltown\",\"Bitter Lake Village\",\"Capitol Hill\",\"Chinatown-International District\",\"Columbia City\",\"Commercial Core\",\"Crown Hill\",\"Denny Triangle\",\"Eastlake\",\"First Hill\",\"Fremont\",\"Greater Duwamish\",\"Green Lake\",\"Greenwood-Phinney Ridge\",\"Lake City\",\"MLK at Holly St\",\"Madison-Miller\",\"Morgan Junction\",\"North Beacon Hill\",\"North Rainier\",\"Northgate\",\"Pike\\/Pine\",\"Pioneer Square\",\"Rainier Beach\",\"Ravenna\",\"Roosevelt\",\"South Lake Union\",\"South Park\",\"University Campus\",\"University District Northwest\",\"Upper Queen Anne\",\"Uptown\",\"Wallingford\",\"West Seattle Junction\",\"Westwood-Highland Park\"],\"title\":{\"text\":\"h_uv_name\"}},\"legend\":{\"enabled\":true}});</script>"
      ],
      "text/plain": [
       "<IPython.core.display.HTML object>"
      ]
     },
     "metadata": {},
     "output_type": "display_data"
    }
   ],
   "source": [
    "df = df[[df1.year,df2.year]]\n",
    "display_charts(df, kind='bar', title=fieldname)"
   ]
  },
  {
   "cell_type": "code",
   "execution_count": null,
   "metadata": {
    "collapsed": true
   },
   "outputs": [],
   "source": []
  },
  {
   "cell_type": "markdown",
   "metadata": {},
   "source": [
    "** Residence Type **"
   ]
  },
  {
   "cell_type": "code",
   "execution_count": 263,
   "metadata": {
    "collapsed": false
   },
   "outputs": [
    {
     "data": {
      "text/html": [
       "<div style=\"max-height:1000px;max-width:1500px;overflow:auto;\">\n",
       "<table border=\"1\" class=\"dataframe\">\n",
       "  <thead>\n",
       "    <tr style=\"text-align: right;\">\n",
       "      <th></th>\n",
       "      <th>2014</th>\n",
       "      <th>2015</th>\n",
       "      <th>     </th>\n",
       "      <th>2014 Shares</th>\n",
       "      <th>2015 Shares</th>\n",
       "    </tr>\n",
       "    <tr>\n",
       "      <th>res_type</th>\n",
       "      <th></th>\n",
       "      <th></th>\n",
       "      <th></th>\n",
       "      <th></th>\n",
       "      <th></th>\n",
       "    </tr>\n",
       "  </thead>\n",
       "  <tbody>\n",
       "    <tr>\n",
       "      <th>Building with 3 or fewer apartments/condos</th>\n",
       "      <td>  23909.5765</td>\n",
       "      <td>  33315.023150</td>\n",
       "      <td> </td>\n",
       "      <td> 0.02</td>\n",
       "      <td> 0.02</td>\n",
       "    </tr>\n",
       "    <tr>\n",
       "      <th>Building with 4 or more apartments/condos</th>\n",
       "      <td> 335936.5727</td>\n",
       "      <td> 368190.805523</td>\n",
       "      <td> </td>\n",
       "      <td> 0.23</td>\n",
       "      <td> 0.24</td>\n",
       "    </tr>\n",
       "    <tr>\n",
       "      <th>Dorm or institutional housing</th>\n",
       "      <td>   4637.0874</td>\n",
       "      <td>    728.272526</td>\n",
       "      <td> </td>\n",
       "      <td> 0.00</td>\n",
       "      <td> 0.00</td>\n",
       "    </tr>\n",
       "    <tr>\n",
       "      <th>Mobile home/trailer</th>\n",
       "      <td>  28065.1432</td>\n",
       "      <td>  33009.219009</td>\n",
       "      <td> </td>\n",
       "      <td> 0.02</td>\n",
       "      <td> 0.02</td>\n",
       "    </tr>\n",
       "    <tr>\n",
       "      <th>Multi-family house (3 or fewer apartments)</th>\n",
       "      <td>  36328.3756</td>\n",
       "      <td>  37046.750829</td>\n",
       "      <td> </td>\n",
       "      <td> 0.02</td>\n",
       "      <td> 0.02</td>\n",
       "    </tr>\n",
       "    <tr>\n",
       "      <th>Other (including boat, RV, van, etc.)</th>\n",
       "      <td>   3547.6595</td>\n",
       "      <td>   1620.817353</td>\n",
       "      <td> </td>\n",
       "      <td> 0.00</td>\n",
       "      <td> 0.00</td>\n",
       "    </tr>\n",
       "    <tr>\n",
       "      <th>Single-family house (detached house)</th>\n",
       "      <td> 958122.6942</td>\n",
       "      <td> 977258.127442</td>\n",
       "      <td> </td>\n",
       "      <td> 0.66</td>\n",
       "      <td> 0.64</td>\n",
       "    </tr>\n",
       "    <tr>\n",
       "      <th>Townhouse (attached house)</th>\n",
       "      <td>  71559.8851</td>\n",
       "      <td>  74909.146112</td>\n",
       "      <td> </td>\n",
       "      <td> 0.05</td>\n",
       "      <td> 0.05</td>\n",
       "    </tr>\n",
       "  </tbody>\n",
       "</table>\n",
       "</div>"
      ],
      "text/plain": [
       "                                                   2014           2015        \\\n",
       "res_type                                                                       \n",
       "Building with 3 or fewer apartments/condos   23909.5765   33315.023150         \n",
       "Building with 4 or more apartments/condos   335936.5727  368190.805523         \n",
       "Dorm or institutional housing                 4637.0874     728.272526         \n",
       "Mobile home/trailer                          28065.1432   33009.219009         \n",
       "Multi-family house (3 or fewer apartments)   36328.3756   37046.750829         \n",
       "Other (including boat, RV, van, etc.)         3547.6595    1620.817353         \n",
       "Single-family house (detached house)        958122.6942  977258.127442         \n",
       "Townhouse (attached house)                   71559.8851   74909.146112         \n",
       "\n",
       "                                            2014 Shares  2015 Shares  \n",
       "res_type                                                              \n",
       "Building with 3 or fewer apartments/condos         0.02         0.02  \n",
       "Building with 4 or more apartments/condos          0.23         0.24  \n",
       "Dorm or institutional housing                      0.00         0.00  \n",
       "Mobile home/trailer                                0.02         0.02  \n",
       "Multi-family house (3 or fewer apartments)         0.02         0.02  \n",
       "Other (including boat, RV, van, etc.)              0.00         0.00  \n",
       "Single-family house (detached house)               0.66         0.64  \n",
       "Townhouse (attached house)                         0.05         0.05  "
      ]
     },
     "execution_count": 263,
     "metadata": {},
     "output_type": "execute_result"
    }
   ],
   "source": [
    "fieldname = 'Residence Type'\n",
    "df = df_weighted(hh14, hh15, 'res_type', expwt14, expwt15)\n",
    "df"
   ]
  },
  {
   "cell_type": "code",
   "execution_count": 264,
   "metadata": {
    "collapsed": false
   },
   "outputs": [
    {
     "data": {
      "text/html": [
       "<div id=\"chart_idfbQwtEdt\"</div>\n",
       "    <script type=\"text/javascript\">new Highcharts.Chart({\"title\":{\"text\":\"Residence Type\"},\"series\":[{\"data\":[[\"Building with 3 or fewer apartments\\/condos\",0.02],[\"Building with 4 or more apartments\\/condos\",0.23],[\"Dorm or institutional housing\",0.0],[\"Mobile home\\/trailer\",0.02],[\"Multi-family house (3 or fewer apartments)\",0.02],[\"Other (including boat, RV, van, etc.)\",0.0],[\"Single-family house (detached house)\",0.66],[\"Townhouse (attached house)\",0.05]],\"name\":\"2014 Shares\",\"yAxis\":0},{\"data\":[[\"Building with 3 or fewer apartments\\/condos\",0.02],[\"Building with 4 or more apartments\\/condos\",0.24],[\"Dorm or institutional housing\",0.0],[\"Mobile home\\/trailer\",0.02],[\"Multi-family house (3 or fewer apartments)\",0.02],[\"Other (including boat, RV, van, etc.)\",0.0],[\"Single-family house (detached house)\",0.64],[\"Townhouse (attached house)\",0.05]],\"name\":\"2015 Shares\",\"yAxis\":0}],\"yAxis\":[{}],\"chart\":{\"renderTo\":\"chart_idfbQwtEdt\",\"type\":\"column\"},\"xAxis\":{\"categories\":[\"Building with 3 or fewer apartments\\/condos\",\"Building with 4 or more apartments\\/condos\",\"Dorm or institutional housing\",\"Mobile home\\/trailer\",\"Multi-family house (3 or fewer apartments)\",\"Other (including boat, RV, van, etc.)\",\"Single-family house (detached house)\",\"Townhouse (attached house)\"],\"title\":{\"text\":\"res_type\"}},\"legend\":{\"enabled\":true}});</script>"
      ],
      "text/plain": [
       "<IPython.core.display.HTML object>"
      ]
     },
     "metadata": {},
     "output_type": "display_data"
    }
   ],
   "source": [
    "df = df[[df1.year + ' Shares',df2.year + ' Shares']]\n",
    "display_charts(df, kind='bar', title=fieldname)"
   ]
  },
  {
   "cell_type": "markdown",
   "metadata": {},
   "source": [
    "---"
   ]
  },
  {
   "cell_type": "markdown",
   "metadata": {},
   "source": [
    "## Factors Influencing Residence Location"
   ]
  },
  {
   "cell_type": "markdown",
   "metadata": {},
   "source": [
    "5 being very important,\n",
    "1 very unimportant"
   ]
  },
  {
   "cell_type": "markdown",
   "metadata": {},
   "source": [
    "**Importance of Walkability**"
   ]
  },
  {
   "cell_type": "code",
   "execution_count": 110,
   "metadata": {
    "collapsed": false
   },
   "outputs": [
    {
     "data": {
      "text/html": [
       "<div style=\"max-height:1000px;max-width:1500px;overflow:auto;\">\n",
       "<table border=\"1\" class=\"dataframe\">\n",
       "  <thead>\n",
       "    <tr style=\"text-align: right;\">\n",
       "      <th></th>\n",
       "      <th>2014</th>\n",
       "      <th>2015</th>\n",
       "      <th>     </th>\n",
       "      <th>2014 Shares</th>\n",
       "      <th>2015 Shares</th>\n",
       "    </tr>\n",
       "    <tr>\n",
       "      <th>res_factors_walk</th>\n",
       "      <th></th>\n",
       "      <th></th>\n",
       "      <th></th>\n",
       "      <th></th>\n",
       "      <th></th>\n",
       "    </tr>\n",
       "  </thead>\n",
       "  <tbody>\n",
       "    <tr>\n",
       "      <th>1</th>\n",
       "      <td> 118989.1150</td>\n",
       "      <td> 127199.397475</td>\n",
       "      <td> </td>\n",
       "      <td> 0.08</td>\n",
       "      <td> 0.08</td>\n",
       "    </tr>\n",
       "    <tr>\n",
       "      <th>2</th>\n",
       "      <td> 131229.4275</td>\n",
       "      <td> 130664.520395</td>\n",
       "      <td> </td>\n",
       "      <td> 0.09</td>\n",
       "      <td> 0.09</td>\n",
       "    </tr>\n",
       "    <tr>\n",
       "      <th>3</th>\n",
       "      <td> 219378.2983</td>\n",
       "      <td> 235978.268460</td>\n",
       "      <td> </td>\n",
       "      <td> 0.15</td>\n",
       "      <td> 0.15</td>\n",
       "    </tr>\n",
       "    <tr>\n",
       "      <th>4</th>\n",
       "      <td> 484939.2250</td>\n",
       "      <td> 487991.445058</td>\n",
       "      <td> </td>\n",
       "      <td> 0.33</td>\n",
       "      <td> 0.32</td>\n",
       "    </tr>\n",
       "    <tr>\n",
       "      <th>5</th>\n",
       "      <td> 507570.9284</td>\n",
       "      <td> 544244.530557</td>\n",
       "      <td> </td>\n",
       "      <td> 0.35</td>\n",
       "      <td> 0.36</td>\n",
       "    </tr>\n",
       "  </tbody>\n",
       "</table>\n",
       "</div>"
      ],
      "text/plain": [
       "                         2014           2015        2014 Shares  2015 Shares\n",
       "res_factors_walk                                                            \n",
       "1                 118989.1150  127199.397475               0.08         0.08\n",
       "2                 131229.4275  130664.520395               0.09         0.09\n",
       "3                 219378.2983  235978.268460               0.15         0.15\n",
       "4                 484939.2250  487991.445058               0.33         0.32\n",
       "5                 507570.9284  544244.530557               0.35         0.36"
      ]
     },
     "execution_count": 110,
     "metadata": {},
     "output_type": "execute_result"
    }
   ],
   "source": [
    "fieldname = 'Importance of Walkability'\n",
    "df = df_weighted(hh14, hh15, 'res_factors_walk', expwt14, expwt15)\n",
    "df"
   ]
  },
  {
   "cell_type": "code",
   "execution_count": 111,
   "metadata": {
    "collapsed": false
   },
   "outputs": [
    {
     "data": {
      "text/html": [
       "<div id=\"chart_idUgvXJNAj\"</div>\n",
       "    <script type=\"text/javascript\">new Highcharts.Chart({\"title\":{\"text\":\"Importance of Walkability\"},\"series\":[{\"data\":[[1,0.08],[2,0.09],[3,0.15],[4,0.33],[5,0.35]],\"name\":\"2014 Shares\",\"yAxis\":0},{\"data\":[[1,0.08],[2,0.09],[3,0.15],[4,0.32],[5,0.36]],\"name\":\"2015 Shares\",\"yAxis\":0}],\"yAxis\":[{}],\"chart\":{\"renderTo\":\"chart_idUgvXJNAj\",\"type\":\"column\"},\"xAxis\":{\"title\":{\"text\":\"res_factors_walk\"}},\"legend\":{\"enabled\":true}});</script>"
      ],
      "text/plain": [
       "<IPython.core.display.HTML object>"
      ]
     },
     "metadata": {},
     "output_type": "display_data"
    }
   ],
   "source": [
    "df = df[[df1.year + ' Shares',df2.year + ' Shares']]\n",
    "display_charts(df, kind='bar', title=fieldname)"
   ]
  },
  {
   "cell_type": "markdown",
   "metadata": {},
   "source": [
    "**Importance of Walkability**"
   ]
  },
  {
   "cell_type": "code",
   "execution_count": 112,
   "metadata": {
    "collapsed": false
   },
   "outputs": [
    {
     "data": {
      "text/html": [
       "<div style=\"max-height:1000px;max-width:1500px;overflow:auto;\">\n",
       "<table border=\"1\" class=\"dataframe\">\n",
       "  <thead>\n",
       "    <tr style=\"text-align: right;\">\n",
       "      <th></th>\n",
       "      <th>2014</th>\n",
       "      <th>2015</th>\n",
       "      <th>     </th>\n",
       "      <th>2014 Shares</th>\n",
       "      <th>2015 Shares</th>\n",
       "    </tr>\n",
       "    <tr>\n",
       "      <th>res_factors_afford</th>\n",
       "      <th></th>\n",
       "      <th></th>\n",
       "      <th></th>\n",
       "      <th></th>\n",
       "      <th></th>\n",
       "    </tr>\n",
       "  </thead>\n",
       "  <tbody>\n",
       "    <tr>\n",
       "      <th>1</th>\n",
       "      <td>  76861.3601</td>\n",
       "      <td> 103665.910627</td>\n",
       "      <td> </td>\n",
       "      <td> 0.05</td>\n",
       "      <td> 0.07</td>\n",
       "    </tr>\n",
       "    <tr>\n",
       "      <th>2</th>\n",
       "      <td>  44566.6699</td>\n",
       "      <td>  58372.400541</td>\n",
       "      <td> </td>\n",
       "      <td> 0.03</td>\n",
       "      <td> 0.04</td>\n",
       "    </tr>\n",
       "    <tr>\n",
       "      <th>3</th>\n",
       "      <td>  87241.2894</td>\n",
       "      <td>  99716.780940</td>\n",
       "      <td> </td>\n",
       "      <td> 0.06</td>\n",
       "      <td> 0.07</td>\n",
       "    </tr>\n",
       "    <tr>\n",
       "      <th>4</th>\n",
       "      <td> 378446.3723</td>\n",
       "      <td> 405414.136999</td>\n",
       "      <td> </td>\n",
       "      <td> 0.26</td>\n",
       "      <td> 0.27</td>\n",
       "    </tr>\n",
       "    <tr>\n",
       "      <th>5</th>\n",
       "      <td> 874991.3025</td>\n",
       "      <td> 858908.932839</td>\n",
       "      <td> </td>\n",
       "      <td> 0.60</td>\n",
       "      <td> 0.56</td>\n",
       "    </tr>\n",
       "  </tbody>\n",
       "</table>\n",
       "</div>"
      ],
      "text/plain": [
       "                           2014           2015        2014 Shares  2015 Shares\n",
       "res_factors_afford                                                            \n",
       "1                    76861.3601  103665.910627               0.05         0.07\n",
       "2                    44566.6699   58372.400541               0.03         0.04\n",
       "3                    87241.2894   99716.780940               0.06         0.07\n",
       "4                   378446.3723  405414.136999               0.26         0.27\n",
       "5                   874991.3025  858908.932839               0.60         0.56"
      ]
     },
     "execution_count": 112,
     "metadata": {},
     "output_type": "execute_result"
    }
   ],
   "source": [
    "fieldname = 'Importance of Walkability'\n",
    "df = df_weighted(hh14, hh15, 'res_factors_afford', expwt14, expwt15)\n",
    "df"
   ]
  },
  {
   "cell_type": "code",
   "execution_count": 113,
   "metadata": {
    "collapsed": false
   },
   "outputs": [
    {
     "data": {
      "text/html": [
       "<div id=\"chart_idnquWYWMI\"</div>\n",
       "    <script type=\"text/javascript\">new Highcharts.Chart({\"title\":{\"text\":\"Importance of Walkability\"},\"series\":[{\"data\":[[1,0.05],[2,0.03],[3,0.06],[4,0.26],[5,0.6]],\"name\":\"2014 Shares\",\"yAxis\":0},{\"data\":[[1,0.07],[2,0.04],[3,0.07],[4,0.27],[5,0.56]],\"name\":\"2015 Shares\",\"yAxis\":0}],\"yAxis\":[{}],\"chart\":{\"renderTo\":\"chart_idnquWYWMI\",\"type\":\"column\"},\"xAxis\":{\"title\":{\"text\":\"res_factors_afford\"}},\"legend\":{\"enabled\":true}});</script>"
      ],
      "text/plain": [
       "<IPython.core.display.HTML object>"
      ]
     },
     "metadata": {},
     "output_type": "display_data"
    }
   ],
   "source": [
    "df = df[[df1.year + ' Shares',df2.year + ' Shares']]\n",
    "display_charts(df, kind='bar', title=fieldname)"
   ]
  },
  {
   "cell_type": "markdown",
   "metadata": {},
   "source": [
    "** Importance of Transit Access**"
   ]
  },
  {
   "cell_type": "code",
   "execution_count": 114,
   "metadata": {
    "collapsed": false
   },
   "outputs": [
    {
     "data": {
      "text/html": [
       "<div style=\"max-height:1000px;max-width:1500px;overflow:auto;\">\n",
       "<table border=\"1\" class=\"dataframe\">\n",
       "  <thead>\n",
       "    <tr style=\"text-align: right;\">\n",
       "      <th></th>\n",
       "      <th>2014</th>\n",
       "      <th>2015</th>\n",
       "      <th>     </th>\n",
       "      <th>2014 Shares</th>\n",
       "      <th>2015 Shares</th>\n",
       "    </tr>\n",
       "    <tr>\n",
       "      <th>res_factors_transit</th>\n",
       "      <th></th>\n",
       "      <th></th>\n",
       "      <th></th>\n",
       "      <th></th>\n",
       "      <th></th>\n",
       "    </tr>\n",
       "  </thead>\n",
       "  <tbody>\n",
       "    <tr>\n",
       "      <th>1</th>\n",
       "      <td> 313443.7452</td>\n",
       "      <td> 315789.130455</td>\n",
       "      <td> </td>\n",
       "      <td> 0.21</td>\n",
       "      <td> 0.21</td>\n",
       "    </tr>\n",
       "    <tr>\n",
       "      <th>2</th>\n",
       "      <td> 199833.0247</td>\n",
       "      <td> 178659.838315</td>\n",
       "      <td> </td>\n",
       "      <td> 0.14</td>\n",
       "      <td> 0.12</td>\n",
       "    </tr>\n",
       "    <tr>\n",
       "      <th>3</th>\n",
       "      <td> 322417.9155</td>\n",
       "      <td> 348031.165870</td>\n",
       "      <td> </td>\n",
       "      <td> 0.22</td>\n",
       "      <td> 0.23</td>\n",
       "    </tr>\n",
       "    <tr>\n",
       "      <th>4</th>\n",
       "      <td> 307834.3613</td>\n",
       "      <td> 393215.695874</td>\n",
       "      <td> </td>\n",
       "      <td> 0.21</td>\n",
       "      <td> 0.26</td>\n",
       "    </tr>\n",
       "    <tr>\n",
       "      <th>5</th>\n",
       "      <td> 318577.9475</td>\n",
       "      <td> 290382.331431</td>\n",
       "      <td> </td>\n",
       "      <td> 0.22</td>\n",
       "      <td> 0.19</td>\n",
       "    </tr>\n",
       "  </tbody>\n",
       "</table>\n",
       "</div>"
      ],
      "text/plain": [
       "                            2014           2015        2014 Shares  \\\n",
       "res_factors_transit                                                  \n",
       "1                    313443.7452  315789.130455               0.21   \n",
       "2                    199833.0247  178659.838315               0.14   \n",
       "3                    322417.9155  348031.165870               0.22   \n",
       "4                    307834.3613  393215.695874               0.21   \n",
       "5                    318577.9475  290382.331431               0.22   \n",
       "\n",
       "                     2015 Shares  \n",
       "res_factors_transit               \n",
       "1                           0.21  \n",
       "2                           0.12  \n",
       "3                           0.23  \n",
       "4                           0.26  \n",
       "5                           0.19  "
      ]
     },
     "execution_count": 114,
     "metadata": {},
     "output_type": "execute_result"
    }
   ],
   "source": [
    "fieldname = 'Importance of Transit Access'\n",
    "df = df_weighted(hh14, hh15, 'res_factors_transit', expwt14, expwt15)\n",
    "df"
   ]
  },
  {
   "cell_type": "code",
   "execution_count": 115,
   "metadata": {
    "collapsed": false
   },
   "outputs": [
    {
     "data": {
      "text/html": [
       "<div id=\"chart_idnbyGArMs\"</div>\n",
       "    <script type=\"text/javascript\">new Highcharts.Chart({\"title\":{\"text\":\"Importance of Transit Access\"},\"series\":[{\"data\":[[1,0.21],[2,0.14],[3,0.22],[4,0.21],[5,0.22]],\"name\":\"2014 Shares\",\"yAxis\":0},{\"data\":[[1,0.21],[2,0.12],[3,0.23],[4,0.26],[5,0.19]],\"name\":\"2015 Shares\",\"yAxis\":0}],\"yAxis\":[{}],\"chart\":{\"renderTo\":\"chart_idnbyGArMs\",\"type\":\"column\"},\"xAxis\":{\"title\":{\"text\":\"res_factors_transit\"}},\"legend\":{\"enabled\":true}});</script>"
      ],
      "text/plain": [
       "<IPython.core.display.HTML object>"
      ]
     },
     "metadata": {},
     "output_type": "display_data"
    }
   ],
   "source": [
    "df = df[[df1.year + ' Shares',df2.year + ' Shares']]\n",
    "display_charts(df, kind='bar', title=fieldname)"
   ]
  },
  {
   "cell_type": "markdown",
   "metadata": {},
   "source": [
    "** Household Changes **"
   ]
  },
  {
   "cell_type": "code",
   "execution_count": 123,
   "metadata": {
    "collapsed": false
   },
   "outputs": [
    {
     "data": {
      "text/html": [
       "<div style=\"max-height:1000px;max-width:1500px;overflow:auto;\">\n",
       "<table border=\"1\" class=\"dataframe\">\n",
       "  <thead>\n",
       "    <tr style=\"text-align: right;\">\n",
       "      <th></th>\n",
       "      <th>2014</th>\n",
       "      <th>2015</th>\n",
       "      <th>     </th>\n",
       "      <th>2014 Shares</th>\n",
       "      <th>2015 Shares</th>\n",
       "    </tr>\n",
       "    <tr>\n",
       "      <th>res_factors_hhchange</th>\n",
       "      <th></th>\n",
       "      <th></th>\n",
       "      <th></th>\n",
       "      <th></th>\n",
       "      <th></th>\n",
       "    </tr>\n",
       "  </thead>\n",
       "  <tbody>\n",
       "    <tr>\n",
       "      <th>1</th>\n",
       "      <td> 379082.1835</td>\n",
       "      <td> 380045.107010</td>\n",
       "      <td> </td>\n",
       "      <td> 0.26</td>\n",
       "      <td> 0.25</td>\n",
       "    </tr>\n",
       "    <tr>\n",
       "      <th>2</th>\n",
       "      <td>  65538.5241</td>\n",
       "      <td>  92598.211950</td>\n",
       "      <td> </td>\n",
       "      <td> 0.04</td>\n",
       "      <td> 0.06</td>\n",
       "    </tr>\n",
       "    <tr>\n",
       "      <th>3</th>\n",
       "      <td> 624031.0963</td>\n",
       "      <td> 653587.919465</td>\n",
       "      <td> </td>\n",
       "      <td> 0.43</td>\n",
       "      <td> 0.43</td>\n",
       "    </tr>\n",
       "    <tr>\n",
       "      <th>4</th>\n",
       "      <td> 196927.2705</td>\n",
       "      <td> 213956.277631</td>\n",
       "      <td> </td>\n",
       "      <td> 0.13</td>\n",
       "      <td> 0.14</td>\n",
       "    </tr>\n",
       "    <tr>\n",
       "      <th>5</th>\n",
       "      <td> 196527.9198</td>\n",
       "      <td> 185890.645888</td>\n",
       "      <td> </td>\n",
       "      <td> 0.13</td>\n",
       "      <td> 0.12</td>\n",
       "    </tr>\n",
       "  </tbody>\n",
       "</table>\n",
       "</div>"
      ],
      "text/plain": [
       "                             2014           2015        2014 Shares  \\\n",
       "res_factors_hhchange                                                  \n",
       "1                     379082.1835  380045.107010               0.26   \n",
       "2                      65538.5241   92598.211950               0.04   \n",
       "3                     624031.0963  653587.919465               0.43   \n",
       "4                     196927.2705  213956.277631               0.13   \n",
       "5                     196527.9198  185890.645888               0.13   \n",
       "\n",
       "                      2015 Shares  \n",
       "res_factors_hhchange               \n",
       "1                            0.25  \n",
       "2                            0.06  \n",
       "3                            0.43  \n",
       "4                            0.14  \n",
       "5                            0.12  "
      ]
     },
     "execution_count": 123,
     "metadata": {},
     "output_type": "execute_result"
    }
   ],
   "source": [
    "fieldname = 'Household Changes'\n",
    "df = df_weighted(hh14, hh15, 'res_factors_hhchange', expwt14, expwt15)\n",
    "df"
   ]
  },
  {
   "cell_type": "code",
   "execution_count": 124,
   "metadata": {
    "collapsed": false
   },
   "outputs": [
    {
     "data": {
      "text/html": [
       "<div id=\"chart_idbkTxngCY\"</div>\n",
       "    <script type=\"text/javascript\">new Highcharts.Chart({\"title\":{\"text\":\"Household Changes\"},\"series\":[{\"data\":[[1,0.26],[2,0.04],[3,0.43],[4,0.13],[5,0.13]],\"name\":\"2014 Shares\",\"yAxis\":0},{\"data\":[[1,0.25],[2,0.06],[3,0.43],[4,0.14],[5,0.12]],\"name\":\"2015 Shares\",\"yAxis\":0}],\"yAxis\":[{}],\"chart\":{\"renderTo\":\"chart_idbkTxngCY\",\"type\":\"column\"},\"xAxis\":{\"title\":{\"text\":\"res_factors_hhchange\"}},\"legend\":{\"enabled\":true}});</script>"
      ],
      "text/plain": [
       "<IPython.core.display.HTML object>"
      ]
     },
     "metadata": {},
     "output_type": "display_data"
    }
   ],
   "source": [
    "df = df[[df1.year + ' Shares',df2.year + ' Shares']]\n",
    "display_charts(df, kind='bar', title=fieldname)"
   ]
  },
  {
   "cell_type": "markdown",
   "metadata": {},
   "source": [
    "** School **"
   ]
  },
  {
   "cell_type": "code",
   "execution_count": 125,
   "metadata": {
    "collapsed": false
   },
   "outputs": [
    {
     "data": {
      "text/html": [
       "<div style=\"max-height:1000px;max-width:1500px;overflow:auto;\">\n",
       "<table border=\"1\" class=\"dataframe\">\n",
       "  <thead>\n",
       "    <tr style=\"text-align: right;\">\n",
       "      <th></th>\n",
       "      <th>2014</th>\n",
       "      <th>2015</th>\n",
       "      <th>     </th>\n",
       "      <th>2014 Shares</th>\n",
       "      <th>2015 Shares</th>\n",
       "    </tr>\n",
       "    <tr>\n",
       "      <th>res_factors_school</th>\n",
       "      <th></th>\n",
       "      <th></th>\n",
       "      <th></th>\n",
       "      <th></th>\n",
       "      <th></th>\n",
       "    </tr>\n",
       "  </thead>\n",
       "  <tbody>\n",
       "    <tr>\n",
       "      <th>1</th>\n",
       "      <td> 352308.4163</td>\n",
       "      <td> 418600.868778</td>\n",
       "      <td> </td>\n",
       "      <td> 0.24</td>\n",
       "      <td> 0.27</td>\n",
       "    </tr>\n",
       "    <tr>\n",
       "      <th>2</th>\n",
       "      <td>  89494.4554</td>\n",
       "      <td>  78149.846461</td>\n",
       "      <td> </td>\n",
       "      <td> 0.06</td>\n",
       "      <td> 0.05</td>\n",
       "    </tr>\n",
       "    <tr>\n",
       "      <th>3</th>\n",
       "      <td> 397329.5240</td>\n",
       "      <td> 367834.573804</td>\n",
       "      <td> </td>\n",
       "      <td> 0.27</td>\n",
       "      <td> 0.24</td>\n",
       "    </tr>\n",
       "    <tr>\n",
       "      <th>4</th>\n",
       "      <td> 236242.1975</td>\n",
       "      <td> 251793.968083</td>\n",
       "      <td> </td>\n",
       "      <td> 0.16</td>\n",
       "      <td> 0.16</td>\n",
       "    </tr>\n",
       "    <tr>\n",
       "      <th>5</th>\n",
       "      <td> 386732.4010</td>\n",
       "      <td> 409698.904818</td>\n",
       "      <td> </td>\n",
       "      <td> 0.26</td>\n",
       "      <td> 0.27</td>\n",
       "    </tr>\n",
       "  </tbody>\n",
       "</table>\n",
       "</div>"
      ],
      "text/plain": [
       "                           2014           2015        2014 Shares  2015 Shares\n",
       "res_factors_school                                                            \n",
       "1                   352308.4163  418600.868778               0.24         0.27\n",
       "2                    89494.4554   78149.846461               0.06         0.05\n",
       "3                   397329.5240  367834.573804               0.27         0.24\n",
       "4                   236242.1975  251793.968083               0.16         0.16\n",
       "5                   386732.4010  409698.904818               0.26         0.27"
      ]
     },
     "execution_count": 125,
     "metadata": {},
     "output_type": "execute_result"
    }
   ],
   "source": [
    "fieldname = 'School Access'\n",
    "df = df_weighted(hh14, hh15, 'res_factors_school', expwt14, expwt15)\n",
    "df"
   ]
  },
  {
   "cell_type": "code",
   "execution_count": 126,
   "metadata": {
    "collapsed": false
   },
   "outputs": [
    {
     "data": {
      "text/html": [
       "<div id=\"chart_idbtcZudaR\"</div>\n",
       "    <script type=\"text/javascript\">new Highcharts.Chart({\"title\":{\"text\":\"School Access\"},\"series\":[{\"data\":[[1,0.24],[2,0.06],[3,0.27],[4,0.16],[5,0.26]],\"name\":\"2014 Shares\",\"yAxis\":0},{\"data\":[[1,0.27],[2,0.05],[3,0.24],[4,0.16],[5,0.27]],\"name\":\"2015 Shares\",\"yAxis\":0}],\"yAxis\":[{}],\"chart\":{\"renderTo\":\"chart_idbtcZudaR\",\"type\":\"column\"},\"xAxis\":{\"title\":{\"text\":\"res_factors_school\"}},\"legend\":{\"enabled\":true}});</script>"
      ],
      "text/plain": [
       "<IPython.core.display.HTML object>"
      ]
     },
     "metadata": {},
     "output_type": "display_data"
    }
   ],
   "source": [
    "df = df[[df1.year + ' Shares',df2.year + ' Shares']]\n",
    "display_charts(df, kind='bar', title=fieldname)"
   ]
  },
  {
   "cell_type": "markdown",
   "metadata": {},
   "source": [
    "** Space **"
   ]
  },
  {
   "cell_type": "code",
   "execution_count": 128,
   "metadata": {
    "collapsed": false
   },
   "outputs": [
    {
     "data": {
      "text/html": [
       "<div style=\"max-height:1000px;max-width:1500px;overflow:auto;\">\n",
       "<table border=\"1\" class=\"dataframe\">\n",
       "  <thead>\n",
       "    <tr style=\"text-align: right;\">\n",
       "      <th></th>\n",
       "      <th>2014</th>\n",
       "      <th>2015</th>\n",
       "      <th>     </th>\n",
       "      <th>2014 Shares</th>\n",
       "      <th>2015 Shares</th>\n",
       "    </tr>\n",
       "    <tr>\n",
       "      <th>res_factors_space</th>\n",
       "      <th></th>\n",
       "      <th></th>\n",
       "      <th></th>\n",
       "      <th></th>\n",
       "      <th></th>\n",
       "    </tr>\n",
       "  </thead>\n",
       "  <tbody>\n",
       "    <tr>\n",
       "      <th>1</th>\n",
       "      <td> 132532.0786</td>\n",
       "      <td> 195953.814804</td>\n",
       "      <td> </td>\n",
       "      <td> 0.09</td>\n",
       "      <td> 0.13</td>\n",
       "    </tr>\n",
       "    <tr>\n",
       "      <th>2</th>\n",
       "      <td> 144446.1853</td>\n",
       "      <td> 137478.251313</td>\n",
       "      <td> </td>\n",
       "      <td> 0.10</td>\n",
       "      <td> 0.09</td>\n",
       "    </tr>\n",
       "    <tr>\n",
       "      <th>3</th>\n",
       "      <td> 287316.9586</td>\n",
       "      <td> 276880.381796</td>\n",
       "      <td> </td>\n",
       "      <td> 0.20</td>\n",
       "      <td> 0.18</td>\n",
       "    </tr>\n",
       "    <tr>\n",
       "      <th>4</th>\n",
       "      <td> 498168.8827</td>\n",
       "      <td> 508284.748246</td>\n",
       "      <td> </td>\n",
       "      <td> 0.34</td>\n",
       "      <td> 0.33</td>\n",
       "    </tr>\n",
       "    <tr>\n",
       "      <th>5</th>\n",
       "      <td> 399642.8890</td>\n",
       "      <td> 407480.965787</td>\n",
       "      <td> </td>\n",
       "      <td> 0.27</td>\n",
       "      <td> 0.27</td>\n",
       "    </tr>\n",
       "  </tbody>\n",
       "</table>\n",
       "</div>"
      ],
      "text/plain": [
       "                          2014           2015        2014 Shares  2015 Shares\n",
       "res_factors_space                                                            \n",
       "1                  132532.0786  195953.814804               0.09         0.13\n",
       "2                  144446.1853  137478.251313               0.10         0.09\n",
       "3                  287316.9586  276880.381796               0.20         0.18\n",
       "4                  498168.8827  508284.748246               0.34         0.33\n",
       "5                  399642.8890  407480.965787               0.27         0.27"
      ]
     },
     "execution_count": 128,
     "metadata": {},
     "output_type": "execute_result"
    }
   ],
   "source": [
    "fieldname = 'Space'\n",
    "df = df_weighted(hh14, hh15, 'res_factors_space', expwt14, expwt15)\n",
    "df"
   ]
  },
  {
   "cell_type": "code",
   "execution_count": 129,
   "metadata": {
    "collapsed": false
   },
   "outputs": [
    {
     "data": {
      "text/html": [
       "<div id=\"chart_idBhMlaGEs\"</div>\n",
       "    <script type=\"text/javascript\">new Highcharts.Chart({\"title\":{\"text\":\"Space\"},\"series\":[{\"data\":[[1,0.09],[2,0.1],[3,0.2],[4,0.34],[5,0.27]],\"name\":\"2014 Shares\",\"yAxis\":0},{\"data\":[[1,0.13],[2,0.09],[3,0.18],[4,0.33],[5,0.27]],\"name\":\"2015 Shares\",\"yAxis\":0}],\"yAxis\":[{}],\"chart\":{\"renderTo\":\"chart_idBhMlaGEs\",\"type\":\"column\"},\"xAxis\":{\"title\":{\"text\":\"res_factors_space\"}},\"legend\":{\"enabled\":true}});</script>"
      ],
      "text/plain": [
       "<IPython.core.display.HTML object>"
      ]
     },
     "metadata": {},
     "output_type": "display_data"
    }
   ],
   "source": [
    "df = df[[df1.year + ' Shares',df2.year + ' Shares']]\n",
    "display_charts(df, kind='bar', title=fieldname)"
   ]
  },
  {
   "cell_type": "markdown",
   "metadata": {},
   "source": [
    "** Proximity to Family **"
   ]
  },
  {
   "cell_type": "code",
   "execution_count": 131,
   "metadata": {
    "collapsed": false
   },
   "outputs": [
    {
     "data": {
      "text/html": [
       "<div style=\"max-height:1000px;max-width:1500px;overflow:auto;\">\n",
       "<table border=\"1\" class=\"dataframe\">\n",
       "  <thead>\n",
       "    <tr style=\"text-align: right;\">\n",
       "      <th></th>\n",
       "      <th>2014</th>\n",
       "      <th>2015</th>\n",
       "      <th>     </th>\n",
       "      <th>2014 Shares</th>\n",
       "      <th>2015 Shares</th>\n",
       "    </tr>\n",
       "    <tr>\n",
       "      <th>res_factors_closefam</th>\n",
       "      <th></th>\n",
       "      <th></th>\n",
       "      <th></th>\n",
       "      <th></th>\n",
       "      <th></th>\n",
       "    </tr>\n",
       "  </thead>\n",
       "  <tbody>\n",
       "    <tr>\n",
       "      <th>1</th>\n",
       "      <td> 178709.9727</td>\n",
       "      <td> 185832.310835</td>\n",
       "      <td> </td>\n",
       "      <td> 0.12</td>\n",
       "      <td> 0.12</td>\n",
       "    </tr>\n",
       "    <tr>\n",
       "      <th>2</th>\n",
       "      <td> 159311.5886</td>\n",
       "      <td> 136569.908335</td>\n",
       "      <td> </td>\n",
       "      <td> 0.11</td>\n",
       "      <td> 0.09</td>\n",
       "    </tr>\n",
       "    <tr>\n",
       "      <th>3</th>\n",
       "      <td> 333036.5522</td>\n",
       "      <td> 405792.586359</td>\n",
       "      <td> </td>\n",
       "      <td> 0.23</td>\n",
       "      <td> 0.27</td>\n",
       "    </tr>\n",
       "    <tr>\n",
       "      <th>4</th>\n",
       "      <td> 459170.6686</td>\n",
       "      <td> 503396.916171</td>\n",
       "      <td> </td>\n",
       "      <td> 0.31</td>\n",
       "      <td> 0.33</td>\n",
       "    </tr>\n",
       "    <tr>\n",
       "      <th>5</th>\n",
       "      <td> 331878.2121</td>\n",
       "      <td> 294486.440245</td>\n",
       "      <td> </td>\n",
       "      <td> 0.23</td>\n",
       "      <td> 0.19</td>\n",
       "    </tr>\n",
       "  </tbody>\n",
       "</table>\n",
       "</div>"
      ],
      "text/plain": [
       "                             2014           2015        2014 Shares  \\\n",
       "res_factors_closefam                                                  \n",
       "1                     178709.9727  185832.310835               0.12   \n",
       "2                     159311.5886  136569.908335               0.11   \n",
       "3                     333036.5522  405792.586359               0.23   \n",
       "4                     459170.6686  503396.916171               0.31   \n",
       "5                     331878.2121  294486.440245               0.23   \n",
       "\n",
       "                      2015 Shares  \n",
       "res_factors_closefam               \n",
       "1                            0.12  \n",
       "2                            0.09  \n",
       "3                            0.27  \n",
       "4                            0.33  \n",
       "5                            0.19  "
      ]
     },
     "execution_count": 131,
     "metadata": {},
     "output_type": "execute_result"
    }
   ],
   "source": [
    "fieldname = 'Family'\n",
    "df = df_weighted(hh14, hh15, 'res_factors_closefam', expwt14, expwt15)\n",
    "df"
   ]
  },
  {
   "cell_type": "code",
   "execution_count": 132,
   "metadata": {
    "collapsed": false
   },
   "outputs": [
    {
     "data": {
      "text/html": [
       "<div id=\"chart_idSRWshlKn\"</div>\n",
       "    <script type=\"text/javascript\">new Highcharts.Chart({\"title\":{\"text\":\"Family\"},\"series\":[{\"data\":[[1,0.12],[2,0.11],[3,0.23],[4,0.31],[5,0.23]],\"name\":\"2014 Shares\",\"yAxis\":0},{\"data\":[[1,0.12],[2,0.09],[3,0.27],[4,0.33],[5,0.19]],\"name\":\"2015 Shares\",\"yAxis\":0}],\"yAxis\":[{}],\"chart\":{\"renderTo\":\"chart_idSRWshlKn\",\"type\":\"column\"},\"xAxis\":{\"title\":{\"text\":\"res_factors_closefam\"}},\"legend\":{\"enabled\":true}});</script>"
      ],
      "text/plain": [
       "<IPython.core.display.HTML object>"
      ]
     },
     "metadata": {},
     "output_type": "display_data"
    }
   ],
   "source": [
    "df = df[[df1.year + ' Shares',df2.year + ' Shares']]\n",
    "display_charts(df, kind='bar', title=fieldname)"
   ]
  },
  {
   "cell_type": "markdown",
   "metadata": {},
   "source": [
    "** Near a highway **"
   ]
  },
  {
   "cell_type": "code",
   "execution_count": 135,
   "metadata": {
    "collapsed": false
   },
   "outputs": [
    {
     "data": {
      "text/html": [
       "<div style=\"max-height:1000px;max-width:1500px;overflow:auto;\">\n",
       "<table border=\"1\" class=\"dataframe\">\n",
       "  <thead>\n",
       "    <tr style=\"text-align: right;\">\n",
       "      <th></th>\n",
       "      <th>2014</th>\n",
       "      <th>2015</th>\n",
       "      <th>     </th>\n",
       "      <th>2014 Shares</th>\n",
       "      <th>2015 Shares</th>\n",
       "    </tr>\n",
       "    <tr>\n",
       "      <th>res_factors_hwy</th>\n",
       "      <th></th>\n",
       "      <th></th>\n",
       "      <th></th>\n",
       "      <th></th>\n",
       "      <th></th>\n",
       "    </tr>\n",
       "  </thead>\n",
       "  <tbody>\n",
       "    <tr>\n",
       "      <th>1</th>\n",
       "      <td> 200313.7009</td>\n",
       "      <td> 215245.742067</td>\n",
       "      <td> </td>\n",
       "      <td> 0.14</td>\n",
       "      <td> 0.14</td>\n",
       "    </tr>\n",
       "    <tr>\n",
       "      <th>2</th>\n",
       "      <td> 212186.0887</td>\n",
       "      <td> 212896.266309</td>\n",
       "      <td> </td>\n",
       "      <td> 0.15</td>\n",
       "      <td> 0.14</td>\n",
       "    </tr>\n",
       "    <tr>\n",
       "      <th>3</th>\n",
       "      <td> 328156.2379</td>\n",
       "      <td> 355047.210558</td>\n",
       "      <td> </td>\n",
       "      <td> 0.22</td>\n",
       "      <td> 0.23</td>\n",
       "    </tr>\n",
       "    <tr>\n",
       "      <th>4</th>\n",
       "      <td> 529718.1006</td>\n",
       "      <td> 553603.953562</td>\n",
       "      <td> </td>\n",
       "      <td> 0.36</td>\n",
       "      <td> 0.36</td>\n",
       "    </tr>\n",
       "    <tr>\n",
       "      <th>5</th>\n",
       "      <td> 191732.8661</td>\n",
       "      <td> 189284.989449</td>\n",
       "      <td> </td>\n",
       "      <td> 0.13</td>\n",
       "      <td> 0.12</td>\n",
       "    </tr>\n",
       "  </tbody>\n",
       "</table>\n",
       "</div>"
      ],
      "text/plain": [
       "                        2014           2015        2014 Shares  2015 Shares\n",
       "res_factors_hwy                                                            \n",
       "1                200313.7009  215245.742067               0.14         0.14\n",
       "2                212186.0887  212896.266309               0.15         0.14\n",
       "3                328156.2379  355047.210558               0.22         0.23\n",
       "4                529718.1006  553603.953562               0.36         0.36\n",
       "5                191732.8661  189284.989449               0.13         0.12"
      ]
     },
     "execution_count": 135,
     "metadata": {},
     "output_type": "execute_result"
    }
   ],
   "source": [
    "fieldname = 'Near highway'\n",
    "df = df_weighted(hh14, hh15, 'res_factors_hwy', expwt14, expwt15)\n",
    "df"
   ]
  },
  {
   "cell_type": "code",
   "execution_count": 136,
   "metadata": {
    "collapsed": false
   },
   "outputs": [
    {
     "data": {
      "text/html": [
       "<div id=\"chart_idwVvhRwSj\"</div>\n",
       "    <script type=\"text/javascript\">new Highcharts.Chart({\"title\":{\"text\":\"Near highway\"},\"series\":[{\"data\":[[1,0.14],[2,0.15],[3,0.22],[4,0.36],[5,0.13]],\"name\":\"2014 Shares\",\"yAxis\":0},{\"data\":[[1,0.14],[2,0.14],[3,0.23],[4,0.36],[5,0.12]],\"name\":\"2015 Shares\",\"yAxis\":0}],\"yAxis\":[{}],\"chart\":{\"renderTo\":\"chart_idwVvhRwSj\",\"type\":\"column\"},\"xAxis\":{\"title\":{\"text\":\"res_factors_hwy\"}},\"legend\":{\"enabled\":true}});</script>"
      ],
      "text/plain": [
       "<IPython.core.display.HTML object>"
      ]
     },
     "metadata": {},
     "output_type": "display_data"
    }
   ],
   "source": [
    "df = df[[df1.year + ' Shares',df2.year + ' Shares']]\n",
    "display_charts(df, kind='bar', title=fieldname)"
   ]
  },
  {
   "cell_type": "markdown",
   "metadata": {},
   "source": [
    "** 30-minute commute **"
   ]
  },
  {
   "cell_type": "code",
   "execution_count": 138,
   "metadata": {
    "collapsed": false
   },
   "outputs": [
    {
     "data": {
      "text/html": [
       "<div style=\"max-height:1000px;max-width:1500px;overflow:auto;\">\n",
       "<table border=\"1\" class=\"dataframe\">\n",
       "  <thead>\n",
       "    <tr style=\"text-align: right;\">\n",
       "      <th></th>\n",
       "      <th>2014</th>\n",
       "      <th>2015</th>\n",
       "      <th>     </th>\n",
       "      <th>2014 Shares</th>\n",
       "      <th>2015 Shares</th>\n",
       "    </tr>\n",
       "    <tr>\n",
       "      <th>res_factors_30min</th>\n",
       "      <th></th>\n",
       "      <th></th>\n",
       "      <th></th>\n",
       "      <th></th>\n",
       "      <th></th>\n",
       "    </tr>\n",
       "  </thead>\n",
       "  <tbody>\n",
       "    <tr>\n",
       "      <th>1</th>\n",
       "      <td> 148848.1442</td>\n",
       "      <td> 177932.979837</td>\n",
       "      <td> </td>\n",
       "      <td> 0.10</td>\n",
       "      <td> 0.12</td>\n",
       "    </tr>\n",
       "    <tr>\n",
       "      <th>2</th>\n",
       "      <td>  95988.5494</td>\n",
       "      <td>  83152.398513</td>\n",
       "      <td> </td>\n",
       "      <td> 0.07</td>\n",
       "      <td> 0.05</td>\n",
       "    </tr>\n",
       "    <tr>\n",
       "      <th>3</th>\n",
       "      <td> 255617.1194</td>\n",
       "      <td> 284121.461757</td>\n",
       "      <td> </td>\n",
       "      <td> 0.17</td>\n",
       "      <td> 0.19</td>\n",
       "    </tr>\n",
       "    <tr>\n",
       "      <th>4</th>\n",
       "      <td> 354053.1236</td>\n",
       "      <td> 381854.127195</td>\n",
       "      <td> </td>\n",
       "      <td> 0.24</td>\n",
       "      <td> 0.25</td>\n",
       "    </tr>\n",
       "    <tr>\n",
       "      <th>5</th>\n",
       "      <td> 607600.0576</td>\n",
       "      <td> 599017.194642</td>\n",
       "      <td> </td>\n",
       "      <td> 0.42</td>\n",
       "      <td> 0.39</td>\n",
       "    </tr>\n",
       "  </tbody>\n",
       "</table>\n",
       "</div>"
      ],
      "text/plain": [
       "                          2014           2015        2014 Shares  2015 Shares\n",
       "res_factors_30min                                                            \n",
       "1                  148848.1442  177932.979837               0.10         0.12\n",
       "2                   95988.5494   83152.398513               0.07         0.05\n",
       "3                  255617.1194  284121.461757               0.17         0.19\n",
       "4                  354053.1236  381854.127195               0.24         0.25\n",
       "5                  607600.0576  599017.194642               0.42         0.39"
      ]
     },
     "execution_count": 138,
     "metadata": {},
     "output_type": "execute_result"
    }
   ],
   "source": [
    "fieldname = 'Achieve 30-minute commute'\n",
    "df = df_weighted(hh14, hh15, 'res_factors_30min', expwt14, expwt15)\n",
    "df"
   ]
  },
  {
   "cell_type": "code",
   "execution_count": 141,
   "metadata": {
    "collapsed": false
   },
   "outputs": [
    {
     "data": {
      "text/html": [
       "<div id=\"chart_idIocfkoNi\"</div>\n",
       "    <script type=\"text/javascript\">new Highcharts.Chart({\"title\":{\"text\":\"Achieve 30-minute commute\"},\"series\":[{\"data\":[[1,0.1],[2,0.07],[3,0.17],[4,0.24],[5,0.42]],\"name\":\"2014 Shares\",\"yAxis\":0},{\"data\":[[1,0.12],[2,0.05],[3,0.19],[4,0.25],[5,0.39]],\"name\":\"2015 Shares\",\"yAxis\":0}],\"yAxis\":[{}],\"chart\":{\"renderTo\":\"chart_idIocfkoNi\",\"type\":\"column\"},\"xAxis\":{\"title\":{\"text\":\"res_factors_30min\"}},\"legend\":{\"enabled\":true}});</script>"
      ],
      "text/plain": [
       "<IPython.core.display.HTML object>"
      ]
     },
     "metadata": {},
     "output_type": "display_data"
    }
   ],
   "source": [
    "df = df[[df1.year + ' Shares',df2.year + ' Shares']]\n",
    "display_charts(df, kind='bar', title=fieldname)"
   ]
  },
  {
   "cell_type": "markdown",
   "metadata": {},
   "source": [
    "## Previous residence type"
   ]
  },
  {
   "cell_type": "code",
   "execution_count": 150,
   "metadata": {
    "collapsed": false
   },
   "outputs": [
    {
     "data": {
      "text/html": [
       "<div style=\"max-height:1000px;max-width:1500px;overflow:auto;\">\n",
       "<table border=\"1\" class=\"dataframe\">\n",
       "  <thead>\n",
       "    <tr style=\"text-align: right;\">\n",
       "      <th></th>\n",
       "      <th>2014</th>\n",
       "      <th>2015</th>\n",
       "      <th>     </th>\n",
       "      <th>2014 Shares</th>\n",
       "      <th>2015 Shares</th>\n",
       "    </tr>\n",
       "    <tr>\n",
       "      <th>prev_res_type</th>\n",
       "      <th></th>\n",
       "      <th></th>\n",
       "      <th></th>\n",
       "      <th></th>\n",
       "      <th></th>\n",
       "    </tr>\n",
       "  </thead>\n",
       "  <tbody>\n",
       "    <tr>\n",
       "      <th>Building with 3 or fewer apartments/condos</th>\n",
       "      <td>  14712.1476</td>\n",
       "      <td>  13134.933487</td>\n",
       "      <td> </td>\n",
       "      <td> 0.01</td>\n",
       "      <td> 0.01</td>\n",
       "    </tr>\n",
       "    <tr>\n",
       "      <th>Building with 4 or more apartments/condos</th>\n",
       "      <td> 212537.6844</td>\n",
       "      <td> 246219.474168</td>\n",
       "      <td> </td>\n",
       "      <td> 0.15</td>\n",
       "      <td> 0.16</td>\n",
       "    </tr>\n",
       "    <tr>\n",
       "      <th>Dorm or institutional housing</th>\n",
       "      <td>   7076.8031</td>\n",
       "      <td>   3719.010971</td>\n",
       "      <td> </td>\n",
       "      <td> 0.00</td>\n",
       "      <td> 0.00</td>\n",
       "    </tr>\n",
       "    <tr>\n",
       "      <th>Mobile home/trailer</th>\n",
       "      <td>   7321.0032</td>\n",
       "      <td>   1278.999969</td>\n",
       "      <td> </td>\n",
       "      <td> 0.01</td>\n",
       "      <td> 0.00</td>\n",
       "    </tr>\n",
       "    <tr>\n",
       "      <th>Multi-family house (3 or fewer apartments)</th>\n",
       "      <td>  30639.4444</td>\n",
       "      <td>  27356.751460</td>\n",
       "      <td> </td>\n",
       "      <td> 0.02</td>\n",
       "      <td> 0.02</td>\n",
       "    </tr>\n",
       "    <tr>\n",
       "      <th>Other (including boat, RV, van, etc.)</th>\n",
       "      <td>   9280.7973</td>\n",
       "      <td>   2797.057362</td>\n",
       "      <td> </td>\n",
       "      <td> 0.01</td>\n",
       "      <td> 0.00</td>\n",
       "    </tr>\n",
       "    <tr>\n",
       "      <th>Single-family house (detached house)</th>\n",
       "      <td> 256785.4291</td>\n",
       "      <td> 294045.178178</td>\n",
       "      <td> </td>\n",
       "      <td> 0.18</td>\n",
       "      <td> 0.19</td>\n",
       "    </tr>\n",
       "    <tr>\n",
       "      <th>Townhouse (attached house)</th>\n",
       "      <td>  41684.8308</td>\n",
       "      <td>  63073.244045</td>\n",
       "      <td> </td>\n",
       "      <td> 0.03</td>\n",
       "      <td> 0.04</td>\n",
       "    </tr>\n",
       "    <tr>\n",
       "      <th>no response</th>\n",
       "      <td> 882068.8543</td>\n",
       "      <td> 874453.512306</td>\n",
       "      <td> </td>\n",
       "      <td> 0.60</td>\n",
       "      <td> 0.57</td>\n",
       "    </tr>\n",
       "  </tbody>\n",
       "</table>\n",
       "</div>"
      ],
      "text/plain": [
       "                                                   2014           2015        \\\n",
       "prev_res_type                                                                  \n",
       "Building with 3 or fewer apartments/condos   14712.1476   13134.933487         \n",
       "Building with 4 or more apartments/condos   212537.6844  246219.474168         \n",
       "Dorm or institutional housing                 7076.8031    3719.010971         \n",
       "Mobile home/trailer                           7321.0032    1278.999969         \n",
       "Multi-family house (3 or fewer apartments)   30639.4444   27356.751460         \n",
       "Other (including boat, RV, van, etc.)         9280.7973    2797.057362         \n",
       "Single-family house (detached house)        256785.4291  294045.178178         \n",
       "Townhouse (attached house)                   41684.8308   63073.244045         \n",
       "no response                                 882068.8543  874453.512306         \n",
       "\n",
       "                                            2014 Shares  2015 Shares  \n",
       "prev_res_type                                                         \n",
       "Building with 3 or fewer apartments/condos         0.01         0.01  \n",
       "Building with 4 or more apartments/condos          0.15         0.16  \n",
       "Dorm or institutional housing                      0.00         0.00  \n",
       "Mobile home/trailer                                0.01         0.00  \n",
       "Multi-family house (3 or fewer apartments)         0.02         0.02  \n",
       "Other (including boat, RV, van, etc.)              0.01         0.00  \n",
       "Single-family house (detached house)               0.18         0.19  \n",
       "Townhouse (attached house)                         0.03         0.04  \n",
       "no response                                        0.60         0.57  "
      ]
     },
     "execution_count": 150,
     "metadata": {},
     "output_type": "execute_result"
    }
   ],
   "source": [
    "fieldname = 'Previous residence type'\n",
    "df = df_weighted(hh14, hh15, 'prev_res_type', expwt14, expwt15)\n",
    "df"
   ]
  },
  {
   "cell_type": "code",
   "execution_count": 157,
   "metadata": {
    "collapsed": false
   },
   "outputs": [
    {
     "data": {
      "text/html": [
       "<div id=\"chart_idXIGmGAwQ\"</div>\n",
       "    <script type=\"text/javascript\">new Highcharts.Chart({\"title\":{\"text\":\"Previous residence type\"},\"series\":[{\"data\":[[\"Building with 3 or fewer apartments\\/condos\",0.01],[\"Building with 4 or more apartments\\/condos\",0.15],[\"Dorm or institutional housing\",0.0],[\"Mobile home\\/trailer\",0.01],[\"Multi-family house (3 or fewer apartments)\",0.02],[\"Other (including boat, RV, van, etc.)\",0.01],[\"Single-family house (detached house)\",0.18]],\"name\":\"2014 Shares\",\"yAxis\":0},{\"data\":[[\"Building with 3 or fewer apartments\\/condos\",0.01],[\"Building with 4 or more apartments\\/condos\",0.16],[\"Dorm or institutional housing\",0.0],[\"Mobile home\\/trailer\",0.0],[\"Multi-family house (3 or fewer apartments)\",0.02],[\"Other (including boat, RV, van, etc.)\",0.0],[\"Single-family house (detached house)\",0.19]],\"name\":\"2015 Shares\",\"yAxis\":0}],\"yAxis\":[{}],\"chart\":{\"renderTo\":\"chart_idXIGmGAwQ\",\"type\":\"column\"},\"xAxis\":{\"categories\":[\"Building with 3 or fewer apartments\\/condos\",\"Building with 4 or more apartments\\/condos\",\"Dorm or institutional housing\",\"Mobile home\\/trailer\",\"Multi-family house (3 or fewer apartments)\",\"Other (including boat, RV, van, etc.)\",\"Single-family house (detached house)\"],\"title\":{\"text\":\"prev_res_type\"}},\"legend\":{\"enabled\":true}});</script>"
      ],
      "text/plain": [
       "<IPython.core.display.HTML object>"
      ]
     },
     "metadata": {},
     "output_type": "display_data"
    }
   ],
   "source": [
    "df = df[[df1.year + ' Shares',df2.year + ' Shares']]\n",
    "df.drop(df.index[-1],inplace=True)    # remove the no-response fields\n",
    "display_charts(df, kind='bar', title=fieldname)"
   ]
  },
  {
   "cell_type": "code",
   "execution_count": null,
   "metadata": {
    "collapsed": true
   },
   "outputs": [],
   "source": []
  }
 ],
 "metadata": {
  "kernelspec": {
   "display_name": "Python 2",
   "language": "python",
   "name": "python2"
  },
  "language_info": {
   "codemirror_mode": {
    "name": "ipython",
    "version": 2
   },
   "file_extension": ".py",
   "mimetype": "text/x-python",
   "name": "python",
   "nbconvert_exporter": "python",
   "pygments_lexer": "ipython2",
   "version": "2.7.9"
  }
 },
 "nbformat": 4,
 "nbformat_minor": 0
}
