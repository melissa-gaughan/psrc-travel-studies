{
 "cells": [
  {
   "cell_type": "code",
   "execution_count": 1,
   "metadata": {
    "collapsed": false
   },
   "outputs": [
    {
     "name": "stdout",
     "output_type": "stream",
     "text": [
      "Populating the interactive namespace from numpy and matplotlib\n"
     ]
    }
   ],
   "source": [
    "import pandas as pd\n",
    "import numpy as np\n",
    "from IPython.display import display, display_pretty, Javascript, HTML\n",
    "import matplotlib\n",
    "import matplotlib.pyplot as plt\n",
    "matplotlib.style.use('ggplot')\n",
    "from matplotlib.backends.backend_pdf import PdfPages\n",
    "\n",
    "\n",
    "# Show charts in notebook\n",
    "%pylab inline"
   ]
  },
  {
   "cell_type": "code",
   "execution_count": 2,
   "metadata": {
    "collapsed": true
   },
   "outputs": [],
   "source": [
    "# adding an empty line to test"
   ]
  },
  {
   "cell_type": "code",
   "execution_count": 3,
   "metadata": {
    "collapsed": false,
    "scrolled": true
   },
   "outputs": [
    {
     "data": {
      "text/html": [
       "<script>\n",
       "code_show=true; \n",
       "function code_toggle() {\n",
       " if (code_show){\n",
       " $('div.input').hide();\n",
       " } else {\n",
       " $('div.input').show();\n",
       " }\n",
       " code_show = !code_show\n",
       "} \n",
       "$( document ).ready(code_toggle);\n",
       "</script>\n",
       "<form action=\"javascript:code_toggle()\"><input type=\"submit\" value=\"Click here to toggle on/off the raw code.\"></form>"
      ],
      "text/plain": [
       "<IPython.core.display.HTML object>"
      ]
     },
     "execution_count": 3,
     "metadata": {},
     "output_type": "execute_result"
    }
   ],
   "source": [
    "from IPython.display import HTML\n",
    "\n",
    "HTML('''<script>\n",
    "code_show=true; \n",
    "function code_toggle() {\n",
    " if (code_show){\n",
    " $('div.input').hide();\n",
    " } else {\n",
    " $('div.input').show();\n",
    " }\n",
    " code_show = !code_show\n",
    "} \n",
    "$( document ).ready(code_toggle);\n",
    "</script>\n",
    "<form action=\"javascript:code_toggle()\"><input type=\"submit\" value=\"Click here to toggle on/off the raw code.\"></form>''')"
   ]
  },
  {
   "cell_type": "code",
   "execution_count": 4,
   "metadata": {
    "collapsed": false
   },
   "outputs": [
    {
     "name": "stderr",
     "output_type": "stream",
     "text": [
      "C:\\Users\\Brice\\AppData\\Local\\Continuum\\Anaconda\\lib\\site-packages\\pandas\\io\\parsers.py:1159: DtypeWarning: Columns (107) have mixed types. Specify dtype option on import or set low_memory=False.\n",
      "  data = self._reader.read(nrows)\n"
     ]
    }
   ],
   "source": [
    "# Load 2014 and 2015 survey household data\n",
    "person14 = pd.read_csv(r'J:\\Projects\\Surveys\\HHTravel\\Survey2014\\Data\\Export\\Release 3\\General Release\\Unzipped\\2014-pr3-hhsurvey-persons.csv')\n",
    "person15 = pd.read_csv(r'J:\\Projects\\Surveys\\HHTravel\\Survey2015\\Data\\Person\\3_PSRC2015_Person_2015-07-27_v1.2.csv')"
   ]
  },
  {
   "cell_type": "code",
   "execution_count": 5,
   "metadata": {
    "collapsed": false
   },
   "outputs": [
    {
     "name": "stderr",
     "output_type": "stream",
     "text": [
      "C:\\Users\\Brice\\AppData\\Local\\Continuum\\Anaconda\\lib\\site-packages\\pandas\\io\\parsers.py:1159: DtypeWarning: Columns (6,56,57,58,59,60) have mixed types. Specify dtype option on import or set low_memory=False.\n",
      "  data = self._reader.read(nrows)\n",
      "C:\\Users\\Brice\\AppData\\Local\\Continuum\\Anaconda\\lib\\site-packages\\pandas\\io\\parsers.py:1159: DtypeWarning: Columns (0) have mixed types. Specify dtype option on import or set low_memory=False.\n",
      "  data = self._reader.read(nrows)\n"
     ]
    }
   ],
   "source": [
    "# Load 2014 and 2015 survey household data\n",
    "trips14 = pd.read_csv(r'J:\\Projects\\Surveys\\HHTravel\\Survey2014\\Data\\Export\\Release 3\\General Release\\Unzipped\\2014-pr3-hhsurvey-trips.csv')\n",
    "trips15 = pd.read_csv(r'J:\\Projects\\Surveys\\HHTravel\\Survey2015\\Data\\Trips\\4_PSRC2015_Trip_2015-07-27_v1.6.csv')"
   ]
  },
  {
   "cell_type": "code",
   "execution_count": 6,
   "metadata": {
    "collapsed": false
   },
   "outputs": [],
   "source": [
    "# Join 2014 and 2015 datasets; creates dataframe with 14 and 15 suffixes as column names\n",
    "# panel_trips = pd.merge(trips14, trips15, on='personID', suffixes=['_14','_15'])"
   ]
  },
  {
   "cell_type": "code",
   "execution_count": 7,
   "metadata": {
    "collapsed": false
   },
   "outputs": [],
   "source": [
    "# Compare 2014 to 2015\n"
   ]
  },
  {
   "cell_type": "code",
   "execution_count": 8,
   "metadata": {
    "collapsed": true
   },
   "outputs": [],
   "source": [
    "def add_labels(df, fields, labels):\n",
    "    '''adds frequency labels for a set of like fields'''\n",
    "\n",
    "    for field in fields:\n",
    "        df[field + '_label'] = df[field]\n",
    "        df[field].fillna(0,inplace=True)\n",
    "        df[field + '_label'] = ([labels[x] for x in df[field]])"
   ]
  },
  {
   "cell_type": "code",
   "execution_count": 9,
   "metadata": {
    "collapsed": false
   },
   "outputs": [],
   "source": [
    "labels = {  1: \"SOV\",\n",
    "            2: \"HOV\",\n",
    "            3: \"HOV\",\n",
    "            4: \"SOV\",\n",
    "            5: \"HOV\",\n",
    "            6: \"Bicycle\",\n",
    "            7: \"Walk\",\n",
    "            8: \"Bus\",\n",
    "            9: \"Train+Streetcar\",\n",
    "           10: \"Ferry\",\n",
    "           11: \"Train+Streetcar\",\n",
    "           12: \"Other\",\n",
    "           13: \"Taxi\",\n",
    "           14: \"Other\",\n",
    "           15: \"Private bus/shuttle\",\n",
    "           16: \"Other\",\n",
    "           17: \"Other\",\n",
    "           -99: \"NA\"\n",
    "}\n",
    "\n",
    "add_labels(trips15,['mode'], labels)\n",
    "add_labels(trips14,['mode'], labels)"
   ]
  },
  {
   "cell_type": "code",
   "execution_count": null,
   "metadata": {
    "collapsed": false
   },
   "outputs": [],
   "source": []
  },
  {
   "cell_type": "code",
   "execution_count": 10,
   "metadata": {
    "collapsed": false
   },
   "outputs": [],
   "source": [
    "labels = {  1: \"Home\",\n",
    "            2: \"Work\",\n",
    "            3: \"Work Other\",\n",
    "            4: \"Grocery\",\n",
    "            5: \"Shopping\",\n",
    "            6: \"School\",\n",
    "            7: \"Medical\",\n",
    "            8: \"Personal Business\",\n",
    "            9: \"Drop-off/pick-up\",\n",
    "           10: \"Exercise\",\n",
    "           11: \"Eat\",\n",
    "           12: \"Social\",\n",
    "           13: \"Recreational\",\n",
    "           14: \"Community Event\",\n",
    "           15: \"Transfer Mode\",\n",
    "           16: \"Other\",\n",
    "           -99: \"NA\"\n",
    "}\n",
    "\n",
    "add_labels(trips15,['d_purpose'], labels)\n",
    "add_labels(trips14,['d_purpose'], labels)"
   ]
  },
  {
   "cell_type": "code",
   "execution_count": 11,
   "metadata": {
    "collapsed": false
   },
   "outputs": [],
   "source": [
    "labels = {\n",
    "    0.0: 'NA',\n",
    "    1: 'Regular taxi',\n",
    "    2: 'Rideshare',\n",
    "    -99: 'NA'\n",
    "}\n",
    "\n",
    "add_labels(trips15,['taxi_type'], labels)\n",
    "add_labels(trips14,['taxi_type'], labels)"
   ]
  },
  {
   "cell_type": "markdown",
   "metadata": {},
   "source": [
    "# Mode"
   ]
  },
  {
   "cell_type": "code",
   "execution_count": 12,
   "metadata": {
    "collapsed": false
   },
   "outputs": [],
   "source": [
    "# Get the distribtion of each mode totals\n",
    "mode14dist = trips14.groupby('mode_label').count()['personID']/trips14.groupby('mode_label').count()['personID'].sum()\n",
    "mode15dist = trips15.groupby('mode_label').count()['personID']/trips15.groupby('mode_label').count()['personID'].sum()\n",
    "\n",
    "df = pd.DataFrame([mode14dist, mode15dist]).T\n",
    "df.columns=['2014','2015']"
   ]
  },
  {
   "cell_type": "code",
   "execution_count": null,
   "metadata": {
    "collapsed": true
   },
   "outputs": [],
   "source": []
  },
  {
   "cell_type": "code",
   "execution_count": 13,
   "metadata": {
    "collapsed": false,
    "scrolled": true
   },
   "outputs": [
    {
     "data": {
      "text/plain": [
       "<matplotlib.axes._subplots.AxesSubplot at 0xccf7438>"
      ]
     },
     "execution_count": 13,
     "metadata": {},
     "output_type": "execute_result"
    },
    {
     "data": {
      "text/plain": [
       "<matplotlib.figure.Figure at 0x1089b898>"
      ]
     },
     "metadata": {},
     "output_type": "display_data"
    },
    {
     "data": {
      "image/png": "[encoded data removed]",
      "text/plain": [
       "<matplotlib.figure.Figure at 0x108ba0b8>"
      ]
     },
     "metadata": {},
     "output_type": "display_data"
    }
   ],
   "source": [
    "# Plot the distributions\n",
    "\n",
    "# Drop some columns \n",
    "df.drop(['Taxi','Private bus/shuttle','Other','NA'],inplace=True)\n",
    "plt.figure()\n",
    "df.plot(kind='barh', alpha=0.8, title='Mode Distribution')"
   ]
  },
  {
   "cell_type": "markdown",
   "metadata": {
    "collapsed": true
   },
   "source": [
    "# Taxi"
   ]
  },
  {
   "cell_type": "code",
   "execution_count": 14,
   "metadata": {
    "collapsed": false
   },
   "outputs": [],
   "source": [
    "# How many taxi trips in a rideshare vehicle?\n",
    "taxi14 = trips14.groupby('taxi_type_label').count()['personID']\n",
    "taxi15 = trips15.groupby('taxi_type_label').count()['personID']\n",
    "\n",
    "df = pd.DataFrame([taxi14,taxi15]).T\n",
    "df.columns = ['2014','2015']\n",
    "df.drop(['NA'],inplace=True)    # drop the NA responses\n",
    "df['change, 14->15'] = df['2015'] - df['2014']\n",
    "df.to_clipboard()"
   ]
  },
  {
   "cell_type": "code",
   "execution_count": 15,
   "metadata": {
    "collapsed": false
   },
   "outputs": [
    {
     "data": {
      "text/plain": [
       "<matplotlib.axes._subplots.AxesSubplot at 0x1089b748>"
      ]
     },
     "execution_count": 15,
     "metadata": {},
     "output_type": "execute_result"
    },
    {
     "data": {
      "text/plain": [
       "<matplotlib.figure.Figure at 0x13e87588>"
      ]
     },
     "metadata": {},
     "output_type": "display_data"
    },
    {
     "data": {
      "image/png": "[encoded data removed]",
      "text/plain": [
       "<matplotlib.figure.Figure at 0x13e62358>"
      ]
     },
     "metadata": {},
     "output_type": "display_data"
    }
   ],
   "source": [
    "df.index.name = \" \"    # clear index name to remove as x-axis label\n",
    "df = df[['2014','2015']].T\n",
    "df.index.name = \" \"    # clear index name to remove as x-axis label\n",
    "plt.figure()\n",
    "df.plot(kind='bar', alpha=0.8, title='Total Taxi Trips by Type', figsize=(7,7), fontsize=12, )"
   ]
  },
  {
   "cell_type": "code",
   "execution_count": 16,
   "metadata": {
    "collapsed": false
   },
   "outputs": [],
   "source": [
    "# Show distribution too\n",
    "taxi_trips14 = trips14.query('taxi_type == 1 or taxi_type == 2')\n",
    "taxi_trips15 = trips15.query('taxi_type == 1 or taxi_type == 2')\n",
    "\n",
    "taxi14 = taxi_trips14.groupby('taxi_type_label').count()['personID']/taxi_trips14.groupby('mode_label').count()['personID'].sum()\n",
    "taxi15 = taxi_trips15.groupby('taxi_type_label').count()['personID']/taxi_trips15.groupby('mode_label').count()['personID'].sum()\n",
    "\n",
    "df = pd.DataFrame([taxi14,taxi15]).T\n",
    "df.columns = ['2014','2015']"
   ]
  },
  {
   "cell_type": "code",
   "execution_count": 17,
   "metadata": {
    "collapsed": false
   },
   "outputs": [
    {
     "name": "stdout",
     "output_type": "stream",
     "text": [
      "31\n",
      "32\n",
      "-----\n",
      "87\n",
      "96\n"
     ]
    }
   ],
   "source": [
    "print len(trips15.query('mode == 13'))\n",
    "print len(taxi_trips15)\n",
    "print \"-----\"\n",
    "print len(trips14.query('mode == 13'))\n",
    "print len(taxi_trips14)"
   ]
  },
  {
   "cell_type": "code",
   "execution_count": 18,
   "metadata": {
    "collapsed": false
   },
   "outputs": [
    {
     "data": {
      "text/plain": [
       "taxi_type_label\n",
       "Regular taxi       39\n",
       "Rideshare          57\n",
       "Name: personID, dtype: int64"
      ]
     },
     "execution_count": 18,
     "metadata": {},
     "output_type": "execute_result"
    }
   ],
   "source": [
    "taxi_trips14.groupby('taxi_type_label').count()['personID']"
   ]
  },
  {
   "cell_type": "code",
   "execution_count": 19,
   "metadata": {
    "collapsed": false
   },
   "outputs": [
    {
     "data": {
      "text/plain": [
       "taxi_type_label\n",
       "Regular taxi       13\n",
       "Rideshare          19\n",
       "Name: personID, dtype: int64"
      ]
     },
     "execution_count": 19,
     "metadata": {},
     "output_type": "execute_result"
    }
   ],
   "source": [
    "taxi_trips15.groupby('taxi_type_label').count()['personID']"
   ]
  },
  {
   "cell_type": "code",
   "execution_count": 20,
   "metadata": {
    "collapsed": false
   },
   "outputs": [
    {
     "data": {
      "text/plain": [
       "96L"
      ]
     },
     "execution_count": 20,
     "metadata": {},
     "output_type": "execute_result"
    }
   ],
   "source": [
    "taxi_trips14.groupby('mode_label').count()['personID'].sum()"
   ]
  },
  {
   "cell_type": "code",
   "execution_count": 21,
   "metadata": {
    "collapsed": false
   },
   "outputs": [
    {
     "data": {
      "text/plain": [
       "<matplotlib.axes._subplots.AxesSubplot at 0x10b60080>"
      ]
     },
     "execution_count": 21,
     "metadata": {},
     "output_type": "execute_result"
    },
    {
     "data": {
      "text/plain": [
       "<matplotlib.figure.Figure at 0x13e928d0>"
      ]
     },
     "metadata": {},
     "output_type": "display_data"
    },
    {
     "data": {
      "image/png": "[encoded data removed]",
      "text/plain": [
       "<matplotlib.figure.Figure at 0x13e92588>"
      ]
     },
     "metadata": {},
     "output_type": "display_data"
    }
   ],
   "source": [
    "df.index.name = \" \"    # clear index name to remove as x-axis label\n",
    "df = df[['2014','2015']]\n",
    "df.index.name = \" \"    # clear index name to remove as x-axis label\n",
    "plt.figure()\n",
    "df.plot(kind='bar', alpha=0.8, title='Taxi Trips by Type (Distribution)', figsize=(5,5), fontsize=12, )"
   ]
  },
  {
   "cell_type": "code",
   "execution_count": 22,
   "metadata": {
    "collapsed": true
   },
   "outputs": [],
   "source": [
    "# Total number of trips is still very small, but notable increase in rideshare usage over taxi."
   ]
  },
  {
   "cell_type": "markdown",
   "metadata": {
    "collapsed": true
   },
   "source": [
    "# Trip Purpose"
   ]
  },
  {
   "cell_type": "code",
   "execution_count": 23,
   "metadata": {
    "collapsed": false
   },
   "outputs": [],
   "source": [
    "# Get the distribtion of each mode totals\n",
    "mode14dist = trips14.groupby('d_purpose_label').count()['personID']/trips14.groupby('d_purpose_label').count()['personID'].sum()\n",
    "mode15dist = trips15.groupby('d_purpose_label').count()['personID']/trips15.groupby('d_purpose_label').count()['personID'].sum()\n",
    "\n",
    "df = pd.DataFrame([mode14dist, mode15dist]).T\n",
    "df.columns=['2014','2015']"
   ]
  },
  {
   "cell_type": "code",
   "execution_count": 24,
   "metadata": {
    "collapsed": false
   },
   "outputs": [
    {
     "data": {
      "text/plain": [
       "<matplotlib.axes._subplots.AxesSubplot at 0x13e92a90>"
      ]
     },
     "execution_count": 24,
     "metadata": {},
     "output_type": "execute_result"
    },
    {
     "data": {
      "text/plain": [
       "<matplotlib.figure.Figure at 0xd5ed668>"
      ]
     },
     "metadata": {},
     "output_type": "display_data"
    },
    {
     "data": {
      "image/png": "[encoded data removed]",
      "text/plain": [
       "<matplotlib.figure.Figure at 0x1044ab38>"
      ]
     },
     "metadata": {},
     "output_type": "display_data"
    }
   ],
   "source": [
    "# Plot the distributions\n",
    "\n",
    "df.index.name = \"\"    # clear index name to remove as x-axis label\n",
    "plt.figure()\n",
    "df.plot(kind='barh', alpha=0.8, title='Trip Purpose Distribution', figsize=(10, 8))"
   ]
  },
  {
   "cell_type": "markdown",
   "metadata": {},
   "source": [
    "# Trip Characteristics"
   ]
  },
  {
   "cell_type": "code",
   "execution_count": 25,
   "metadata": {
    "collapsed": false
   },
   "outputs": [
    {
     "data": {
      "text/plain": [
       "<matplotlib.axes._subplots.AxesSubplot at 0x1117bcf8>"
      ]
     },
     "execution_count": 25,
     "metadata": {},
     "output_type": "execute_result"
    },
    {
     "data": {
      "image/png": "[encoded data removed]",
      "text/plain": [
       "<matplotlib.figure.Figure at 0x105a7780>"
      ]
     },
     "metadata": {},
     "output_type": "display_data"
    }
   ],
   "source": [
    "# Histograms of travel time \n",
    "df14 = trips14.query('mode == 1')\n",
    "df15 = trips15.query('mode == 1')\n",
    "\n",
    "# SOV\n",
    "plt.figure()\n",
    "\n",
    "# Normalized histogram\n",
    "(df14.query('0 < gdist < 30'))['gdist'].hist(color='b', alpha=0.5, bins=100, normed=True)\n",
    "(df15.query('0 < gdist < 30'))['gdist'].hist(color='r', alpha=0.5, bins=100, normed=True)"
   ]
  },
  {
   "cell_type": "code",
   "execution_count": 26,
   "metadata": {
    "collapsed": true
   },
   "outputs": [],
   "source": [
    "# Bike"
   ]
  },
  {
   "cell_type": "code",
   "execution_count": 27,
   "metadata": {
    "collapsed": false
   },
   "outputs": [
    {
     "data": {
      "text/plain": [
       "<matplotlib.axes._subplots.AxesSubplot at 0x12fb5828>"
      ]
     },
     "execution_count": 27,
     "metadata": {},
     "output_type": "execute_result"
    },
    {
     "data": {
      "image/png": "[encoded data removed]",
      "text/plain": [
       "<matplotlib.figure.Figure at 0x11186278>"
      ]
     },
     "metadata": {},
     "output_type": "display_data"
    }
   ],
   "source": [
    "# Histograms of travel time \n",
    "df14 = trips14.query('mode == 6')\n",
    "df15 = trips15.query('mode == 6')\n",
    "plt.figure()\n",
    "\n",
    "# Normalized histogram\n",
    "(df14.query('0 < gdist < 10'))['gdist'].hist(color='b', alpha=0.5, bins=40, normed=True)\n",
    "(df15.query('0 < gdist < 10'))['gdist'].hist(color='r', alpha=0.5, bins=40, normed=True)"
   ]
  },
  {
   "cell_type": "code",
   "execution_count": 29,
   "metadata": {
    "collapsed": false
   },
   "outputs": [
    {
     "data": {
      "text/plain": [
       "<matplotlib.axes._subplots.AxesSubplot at 0x138decf8>"
      ]
     },
     "execution_count": 29,
     "metadata": {},
     "output_type": "execute_result"
    },
    {
     "data": {
      "image/png": "[encoded data removed]",
      "text/plain": [
       "<matplotlib.figure.Figure at 0x10cfadd8>"
      ]
     },
     "metadata": {},
     "output_type": "display_data"
    }
   ],
   "source": [
    "# Walk\n",
    "# Histograms of travel time \n",
    "df14 = trips14.query('mode == 7')\n",
    "df15 = trips15.query('mode == 7')\n",
    "\n",
    "# SOV\n",
    "plt.figure()\n",
    "\n",
    "# Normalized histogram\n",
    "(df14.query('0 < gdist < 3'))['gdist'].hist(color='b', alpha=0.5, bins=40, normed=True)\n",
    "(df15.query('0 < gdist < 3'))['gdist'].hist(color='r', alpha=0.5, bins=40, normed=True)"
   ]
  },
  {
   "cell_type": "code",
   "execution_count": 30,
   "metadata": {
    "collapsed": false
   },
   "outputs": [
    {
     "data": {
      "text/plain": [
       "<matplotlib.axes._subplots.AxesSubplot at 0x14137cf8>"
      ]
     },
     "execution_count": 30,
     "metadata": {},
     "output_type": "execute_result"
    },
    {
     "data": {
      "image/png": "[encoded data removed]",
      "text/plain": [
       "<matplotlib.figure.Figure at 0x140f9d68>"
      ]
     },
     "metadata": {},
     "output_type": "display_data"
    }
   ],
   "source": [
    "# Bus\n",
    "df14 = trips14.query('mode == 8')\n",
    "df15 = trips15.query('mode == 8')\n",
    "\n",
    "# SOV\n",
    "plt.figure()\n",
    "\n",
    "# Normalized histogram\n",
    "(df14.query('0 < gdist < 30'))['gdist'].hist(color='b', alpha=0.5, bins=70, normed=True)\n",
    "(df15.query('0 < gdist < 30'))['gdist'].hist(color='r', alpha=0.5, bins=70, normed=True)"
   ]
  },
  {
   "cell_type": "markdown",
   "metadata": {},
   "source": [
    "# Transit Ridership"
   ]
  },
  {
   "cell_type": "code",
   "execution_count": 31,
   "metadata": {
    "collapsed": true
   },
   "outputs": [],
   "source": [
    "# Find households who rode lines that were affected by KC Metro cuts in late 2014"
   ]
  },
  {
   "cell_type": "code",
   "execution_count": 32,
   "metadata": {
    "collapsed": true
   },
   "outputs": [],
   "source": [
    "deleted_routes = [7,19,47,48,61,62,139,152,161,173,202,203,205,209,210,211,213,215,\n",
    "                 243,250,260,265,280,306,909,919,927,935]\n",
    "revised_routes = [24,27,30,33,48,178,200,201,204,208,212,236,238,249,312,331,903,931]"
   ]
  },
  {
   "cell_type": "code",
   "execution_count": 33,
   "metadata": {
    "collapsed": false
   },
   "outputs": [],
   "source": [
    "# People who used deleted routes in 2014\n",
    "\n",
    "# find trips using these routes\n",
    "df14 = trips14[trips14['transitline1'].isin(deleted_routes)]\n",
    "\n",
    "# get household id for those using these routes in 2014\n",
    "hh_del_routes_2014 = df14.groupby('hhid').count().index"
   ]
  },
  {
   "cell_type": "code",
   "execution_count": 34,
   "metadata": {
    "collapsed": false
   },
   "outputs": [
    {
     "data": {
      "text/plain": [
       "81"
      ]
     },
     "execution_count": 34,
     "metadata": {},
     "output_type": "execute_result"
    }
   ],
   "source": [
    "len(hh_del_routes_2014)"
   ]
  },
  {
   "cell_type": "code",
   "execution_count": 81,
   "metadata": {
    "collapsed": false
   },
   "outputs": [],
   "source": [
    "# Show mode share for these households\n",
    "# First get trip records for these households\n",
    "del_routes_trips_2014 = trips14[trips14['hhid'].isin(hh_del_routes_2014)]\n",
    "del_routes_trips_2015 = trips15[trips15['hhid'].isin(hh_del_routes_2014)]"
   ]
  },
  {
   "cell_type": "code",
   "execution_count": 71,
   "metadata": {
    "collapsed": false
   },
   "outputs": [
    {
     "data": {
      "text/plain": [
       "<matplotlib.axes._subplots.AxesSubplot at 0x17d65a90>"
      ]
     },
     "execution_count": 71,
     "metadata": {},
     "output_type": "execute_result"
    },
    {
     "data": {
      "text/plain": [
       "<matplotlib.figure.Figure at 0x17463550>"
      ]
     },
     "metadata": {},
     "output_type": "display_data"
    },
    {
     "data": {
      "image/png": "[encoded data removed]",
      "text/plain": [
       "<matplotlib.figure.Figure at 0x17d55f98>"
      ]
     },
     "metadata": {},
     "output_type": "display_data"
    }
   ],
   "source": [
    "# Mode share for these households\n",
    "# Get the distribtion of each mode totals\n",
    "mode14dist = del_routes_trips_2014.groupby('mode_label').count()['personID']/del_routes_trips_2014.groupby('mode_label').count()['personID'].sum()\n",
    "mode15dist = del_routes_trips_2015.groupby('mode_label').count()['personID']/del_routes_trips_2015.groupby('mode_label').count()['personID'].sum()\n",
    "\n",
    "df = pd.DataFrame([mode14dist, mode15dist]).T\n",
    "df.columns=['2014','2015']\n",
    "\n",
    "# Plot the distributions\n",
    "\n",
    "# Drop some columns \n",
    "df.drop(['Taxi','Private bus/shuttle','Other','NA'],inplace=True)\n",
    "plt.figure()\n",
    "df.plot(kind='barh', alpha=0.8, title='Mode Distribution')"
   ]
  },
  {
   "cell_type": "code",
   "execution_count": 72,
   "metadata": {
    "collapsed": false
   },
   "outputs": [
    {
     "data": {
      "text/plain": [
       "<matplotlib.axes._subplots.AxesSubplot at 0x17fc9048>"
      ]
     },
     "execution_count": 72,
     "metadata": {},
     "output_type": "execute_result"
    },
    {
     "data": {
      "text/plain": [
       "<matplotlib.figure.Figure at 0x13e92ac8>"
      ]
     },
     "metadata": {},
     "output_type": "display_data"
    },
    {
     "data": {
      "image/png": "[encoded data removed]",
      "text/plain": [
       "<matplotlib.figure.Figure at 0x17d55da0>"
      ]
     },
     "metadata": {},
     "output_type": "display_data"
    }
   ],
   "source": [
    "# Look at the average trip lengths by mode, before and after\n",
    "avg_dist_14 = del_routes_trips_2014.groupby('mode_label').mean()['gdist']\n",
    "avg_dist_15 = del_routes_trips_2015.groupby('mode_label').mean()['gdist']\n",
    "\n",
    "df = pd.DataFrame([avg_dist_14, avg_dist_15]).T\n",
    "df.columns=['2014','2015']\n",
    "\n",
    "# Plot the distributions\n",
    "\n",
    "# Drop some columns \n",
    "df.drop(['Taxi','Private bus/shuttle','Other','NA', 'Ferry'],inplace=True)\n",
    "plt.figure()\n",
    "df.plot(kind='barh', alpha=0.8, title='Average Distance (miles)')"
   ]
  },
  {
   "cell_type": "markdown",
   "metadata": {},
   "source": [
    "## How many more transfers occured in 2015 v 2014?"
   ]
  },
  {
   "cell_type": "markdown",
   "metadata": {},
   "source": [
    "Note: this won't be accurate until trips are linked"
   ]
  },
  {
   "cell_type": "code",
   "execution_count": 77,
   "metadata": {
    "collapsed": false
   },
   "outputs": [
    {
     "name": "stderr",
     "output_type": "stream",
     "text": [
      "C:\\Users\\Brice\\AppData\\Local\\Continuum\\Anaconda\\lib\\site-packages\\ipykernel\\__main__.py:2: SettingWithCopyWarning: \n",
      "A value is trying to be set on a copy of a slice from a DataFrame\n",
      "\n",
      "See the the caveats in the documentation: http://pandas.pydata.org/pandas-docs/stable/indexing.html#indexing-view-versus-copy\n",
      "  from ipykernel import kernelapp as app\n",
      "C:\\Users\\Brice\\AppData\\Local\\Continuum\\Anaconda\\lib\\site-packages\\ipykernel\\__main__.py:3: SettingWithCopyWarning: \n",
      "A value is trying to be set on a copy of a slice from a DataFrame\n",
      "\n",
      "See the the caveats in the documentation: http://pandas.pydata.org/pandas-docs/stable/indexing.html#indexing-view-versus-copy\n",
      "  app.launch_new_instance()\n"
     ]
    }
   ],
   "source": [
    "# fill na\n",
    "del_routes_trips_2014.fillna(0,inplace=True)\n",
    "del_routes_trips_2015.fillna(0,inplace=True)\n",
    "# del_routes_trips_2014['transfers'] = "
   ]
  },
  {
   "cell_type": "code",
   "execution_count": 39,
   "metadata": {
    "collapsed": false
   },
   "outputs": [],
   "source": [
    "# total transfers occuring\n",
    "transfers14 = np.count_nonzero(del_routes_trips_2014['transitline2'])+\\\n",
    "np.count_nonzero(del_routes_trips_2014['transitline3'])+\\\n",
    "np.count_nonzero(del_routes_trips_2014['transitline4'])"
   ]
  },
  {
   "cell_type": "code",
   "execution_count": 40,
   "metadata": {
    "collapsed": true
   },
   "outputs": [],
   "source": [
    "transfers15 = np.count_nonzero(del_routes_trips_2015['transitline2'])+\\\n",
    "np.count_nonzero(del_routes_trips_2015['transitline3'])+\\\n",
    "np.count_nonzero(del_routes_trips_2015['transitline4'])"
   ]
  },
  {
   "cell_type": "code",
   "execution_count": 41,
   "metadata": {
    "collapsed": false
   },
   "outputs": [
    {
     "name": "stdout",
     "output_type": "stream",
     "text": [
      "68\n",
      "5\n"
     ]
    }
   ],
   "source": [
    "print transfers14\n",
    "print transfers15"
   ]
  },
  {
   "cell_type": "code",
   "execution_count": 42,
   "metadata": {
    "collapsed": true
   },
   "outputs": [],
   "source": [
    "transit_trips_14 = del_routes_trips_2014.query('mode in [8,9,10,11]').count()['hhid'].astype('float')\n",
    "transit_trips_15 = del_routes_trips_2015.query('mode in [8,9,10,11]').count()['hhid'].astype('float')"
   ]
  },
  {
   "cell_type": "code",
   "execution_count": 43,
   "metadata": {
    "collapsed": false
   },
   "outputs": [
    {
     "name": "stdout",
     "output_type": "stream",
     "text": [
      "223.0\n",
      "51.0\n"
     ]
    }
   ],
   "source": [
    "print transit_trips_14\n",
    "print transit_trips_15"
   ]
  },
  {
   "cell_type": "code",
   "execution_count": 44,
   "metadata": {
    "collapsed": false
   },
   "outputs": [
    {
     "name": "stdout",
     "output_type": "stream",
     "text": [
      "2014: 0.304932735426\n",
      "2015: 0.0980392156863\n"
     ]
    }
   ],
   "source": [
    "# Transfers per transit trips\n",
    "print '2014: '+ str(transfers14/transit_trips_14)\n",
    "print '2015: '+ str(transfers15/transit_trips_15)"
   ]
  },
  {
   "cell_type": "code",
   "execution_count": 45,
   "metadata": {
    "collapsed": false
   },
   "outputs": [
    {
     "data": {
      "text/plain": [
       "223.0"
      ]
     },
     "execution_count": 45,
     "metadata": {},
     "output_type": "execute_result"
    }
   ],
   "source": [
    "del_routes_trips_2014.query('mode in [8,9,10,11]').count()['hhid'].astype('float')"
   ]
  },
  {
   "cell_type": "markdown",
   "metadata": {
    "collapsed": true
   },
   "source": []
  },
  {
   "cell_type": "code",
   "execution_count": 47,
   "metadata": {
    "collapsed": false
   },
   "outputs": [
    {
     "data": {
      "text/plain": [
       "5"
      ]
     },
     "execution_count": 47,
     "metadata": {},
     "output_type": "execute_result"
    }
   ],
   "source": [
    "np.count_nonzero(del_routes_trips_2015['transitline2'])"
   ]
  },
  {
   "cell_type": "code",
   "execution_count": 60,
   "metadata": {
    "collapsed": false
   },
   "outputs": [
    {
     "data": {
      "text/plain": [
       "635"
      ]
     },
     "execution_count": 60,
     "metadata": {},
     "output_type": "execute_result"
    }
   ],
   "source": [
    "del_routes_trips_2014.count()['hhid']"
   ]
  },
  {
   "cell_type": "code",
   "execution_count": 66,
   "metadata": {
    "collapsed": false
   },
   "outputs": [
    {
     "data": {
      "text/plain": [
       "81"
      ]
     },
     "execution_count": 66,
     "metadata": {},
     "output_type": "execute_result"
    }
   ],
   "source": [
    "len(unique(del_routes_trips_2014['hhid']))"
   ]
  },
  {
   "cell_type": "markdown",
   "metadata": {},
   "source": [
    "## Average trips per households"
   ]
  },
  {
   "cell_type": "code",
   "execution_count": 68,
   "metadata": {
    "collapsed": false
   },
   "outputs": [
    {
     "data": {
      "text/plain": [
       "7.8395061728395063"
      ]
     },
     "execution_count": 68,
     "metadata": {},
     "output_type": "execute_result"
    }
   ],
   "source": [
    "# Average trips per household 2014\n",
    "del_routes_trips_2014.count()['hhid'].astype('float')/len(unique(del_routes_trips_2014['hhid']))"
   ]
  },
  {
   "cell_type": "code",
   "execution_count": 69,
   "metadata": {
    "collapsed": false
   },
   "outputs": [
    {
     "data": {
      "text/plain": [
       "8.8636363636363633"
      ]
     },
     "execution_count": 69,
     "metadata": {},
     "output_type": "execute_result"
    }
   ],
   "source": [
    "# Average trips per household 2015\n",
    "del_routes_trips_2015.count()['hhid'].astype('float')/len(unique(del_routes_trips_2015['hhid']))"
   ]
  },
  {
   "cell_type": "code",
   "execution_count": null,
   "metadata": {
    "collapsed": true
   },
   "outputs": [],
   "source": []
  }
 ],
 "metadata": {
  "kernelspec": {
   "display_name": "Python 2",
   "language": "python",
   "name": "python2"
  },
  "language_info": {
   "codemirror_mode": {
    "name": "ipython",
    "version": 2
   },
   "file_extension": ".py",
   "mimetype": "text/x-python",
   "name": "python",
   "nbconvert_exporter": "python",
   "pygments_lexer": "ipython2",
   "version": "2.7.9"
  }
 },
 "nbformat": 4,
 "nbformat_minor": 0
}
