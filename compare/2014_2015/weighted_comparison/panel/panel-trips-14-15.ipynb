{
 "cells": [
  {
   "cell_type": "code",
   "execution_count": 3,
   "metadata": {
    "collapsed": false
   },
   "outputs": [
    {
     "name": "stdout",
     "output_type": "stream",
     "text": [
      "Populating the interactive namespace from numpy and matplotlib\n"
     ]
    }
   ],
   "source": [
    "import pandas as pd\n",
    "import numpy as np\n",
    "from IPython.display import display, display_pretty, Javascript, HTML\n",
    "import matplotlib\n",
    "import matplotlib.pyplot as plt\n",
    "matplotlib.style.use('ggplot')\n",
    "from matplotlib.backends.backend_pdf import PdfPages\n",
    "\n",
    "\n",
    "# Show charts in notebook\n",
    "%pylab inline"
   ]
  },
  {
   "cell_type": "code",
   "execution_count": 2,
   "metadata": {
    "collapsed": true
   },
   "outputs": [],
   "source": [
    "# adding an empty line to test"
   ]
  },
  {
   "cell_type": "code",
   "execution_count": 3,
   "metadata": {
    "collapsed": false,
    "scrolled": true
   },
   "outputs": [
    {
     "data": {
      "text/html": [
       "<script>\n",
       "code_show=true; \n",
       "function code_toggle() {\n",
       " if (code_show){\n",
       " $('div.input').hide();\n",
       " } else {\n",
       " $('div.input').show();\n",
       " }\n",
       " code_show = !code_show\n",
       "} \n",
       "$( document ).ready(code_toggle);\n",
       "</script>\n",
       "<form action=\"javascript:code_toggle()\"><input type=\"submit\" value=\"Click here to toggle on/off the raw code.\"></form>"
      ],
      "text/plain": [
       "<IPython.core.display.HTML object>"
      ]
     },
     "execution_count": 3,
     "metadata": {},
     "output_type": "execute_result"
    }
   ],
   "source": [
    "from IPython.display import HTML\n",
    "\n",
    "HTML('''<script>\n",
    "code_show=true; \n",
    "function code_toggle() {\n",
    " if (code_show){\n",
    " $('div.input').hide();\n",
    " } else {\n",
    " $('div.input').show();\n",
    " }\n",
    " code_show = !code_show\n",
    "} \n",
    "$( document ).ready(code_toggle);\n",
    "</script>\n",
    "<form action=\"javascript:code_toggle()\"><input type=\"submit\" value=\"Click here to toggle on/off the raw code.\"></form>''')"
   ]
  },
  {
   "cell_type": "code",
   "execution_count": 25,
   "metadata": {
    "collapsed": false
   },
   "outputs": [],
   "source": [
    "# Load 2014 and 2015 survey household data\n",
    "person14 = pd.read_csv(r'J:\\Projects\\Surveys\\HHTravel\\Survey2014\\Data\\Export\\Release 3\\General Release\\Unzipped\\2014-pr3-hhsurvey-persons.csv')\n",
    "person15 = pd.read_csv(r'J:\\Projects\\Surveys\\HHTravel\\Survey2015\\Data\\Person\\3_PSRC2015_Person_2015-07-27_v1.2.csv')"
   ]
  },
  {
   "cell_type": "code",
   "execution_count": 28,
   "metadata": {
    "collapsed": false
   },
   "outputs": [],
   "source": [
    "# Load 2014 and 2015 survey household data\n",
    "trips14 = pd.read_csv(r'J:\\Projects\\Surveys\\HHTravel\\Survey2014\\Data\\Export\\Release 3\\General Release\\Unzipped\\2014-pr3-hhsurvey-trips.csv')\n",
    "trips15 = pd.read_csv(r'J:\\Projects\\Surveys\\HHTravel\\Survey2015\\Data\\Trips\\4_PSRC2015_Trip_2015-07-27_v1.6.csv')"
   ]
  },
  {
   "cell_type": "code",
   "execution_count": 32,
   "metadata": {
    "collapsed": false
   },
   "outputs": [],
   "source": [
    "# Join 2014 and 2015 datasets; creates dataframe with 14 and 15 suffixes as column names\n",
    "panel_trips = pd.merge(trips14, trips15, on='personID', suffixes=['_14','_15'])"
   ]
  },
  {
   "cell_type": "code",
   "execution_count": 108,
   "metadata": {
    "collapsed": true
   },
   "outputs": [],
   "source": [
    "def add_labels(fields, labels):\n",
    "    '''adds frequency labels for a set of like fields'''\n",
    "\n",
    "    for field in fields:\n",
    "        panel_trips[field + '_label'] = panel_trips[field]\n",
    "        panel_trips[field].fillna(0,inplace=True)\n",
    "        panel_trips[field + '_label'] = ([labels[x] for x in panel_trips[field]])"
   ]
  },
  {
   "cell_type": "code",
   "execution_count": 109,
   "metadata": {
    "collapsed": true
   },
   "outputs": [],
   "source": [
    "labels = {  1: \"SOV\",\n",
    "            2: \"HOV\",\n",
    "            3: \"HOV\",\n",
    "            4: \"SOV\",\n",
    "            5: \"HOV\",\n",
    "            6: \"Bicycle\",\n",
    "            7: \"Walk\",\n",
    "            8: \"Bus\",\n",
    "            9: \"Train+Streetcar\",\n",
    "           10: \"Ferry\",\n",
    "           11: \"Train+Streetcar\",\n",
    "           12: \"Other\",\n",
    "           13: \"Taxi\",\n",
    "           14: \"Other\",\n",
    "           15: \"Private bus/shuttle\",\n",
    "           16: \"Other\",\n",
    "           17: \"Other\",\n",
    "           -99: \"NA\"\n",
    "}\n",
    "\n",
    "freq_fields = ['mode']\n",
    "fields14 = [fname + '_14' for fname in freq_fields]\n",
    "fields15 = [fname + '_15' for fname in freq_fields]\n",
    "\n",
    "add_labels(fields14+fields15, labels)"
   ]
  },
  {
   "cell_type": "code",
   "execution_count": 176,
   "metadata": {
    "collapsed": false
   },
   "outputs": [],
   "source": [
    "labels = {\n",
    "    0.0: 'NA',\n",
    "    1: 'Regular taxi',\n",
    "    2: 'Rideshare',\n",
    "    -99: 'NA'\n",
    "}\n",
    "\n",
    "freq_fields = ['taxi_type']\n",
    "fields14 = [fname + '_14' for fname in freq_fields]\n",
    "fields15 = [fname + '_15' for fname in freq_fields]\n",
    "\n",
    "add_labels(fields14+fields15, labels)"
   ]
  },
  {
   "cell_type": "markdown",
   "metadata": {},
   "source": [
    "# Mode"
   ]
  },
  {
   "cell_type": "code",
   "execution_count": 257,
   "metadata": {
    "collapsed": false
   },
   "outputs": [],
   "source": [
    "# Get the distribtion of each mode totals\n",
    "mode14dist = panel_trips.groupby('mode_14_label').count()['personID']/panel_trips.groupby('mode_14_label').count()['personID'].sum()\n",
    "mode15dist = panel_trips.groupby('mode_15_label').count()['personID']/panel_trips.groupby('mode_15_label').count()['personID'].sum()\n",
    "\n",
    "df = pd.DataFrame([mode14dist, mode15dist]).T\n",
    "df.columns=['2014','2015']"
   ]
  },
  {
   "cell_type": "code",
   "execution_count": 258,
   "metadata": {
    "collapsed": false,
    "scrolled": true
   },
   "outputs": [
    {
     "data": {
      "text/plain": [
       "<matplotlib.axes._subplots.AxesSubplot at 0x1cbed550>"
      ]
     },
     "execution_count": 258,
     "metadata": {},
     "output_type": "execute_result"
    },
    {
     "data": {
      "text/plain": [
       "<matplotlib.figure.Figure at 0x1ce264e0>"
      ]
     },
     "metadata": {},
     "output_type": "display_data"
    },
    {
     "data": {
      "image/png": "[encoded data removed]",
      "text/plain": [
       "<matplotlib.figure.Figure at 0x1b499898>"
      ]
     },
     "metadata": {},
     "output_type": "display_data"
    }
   ],
   "source": [
    "# Plot the distributions\n",
    "\n",
    "# Drop some columns \n",
    "df.drop(['Taxi','Private bus/shuttle','Other','NA'],inplace=True)\n",
    "plt.figure()\n",
    "df.plot(kind='barh', alpha=0.8, title='Mode Distribution')"
   ]
  },
  {
   "cell_type": "code",
   "execution_count": 251,
   "metadata": {
    "collapsed": false
   },
   "outputs": [
    {
     "data": {
      "text/plain": [
       "mode_14_label\n",
       "Bicycle                0.022562\n",
       "Bus                    0.072245\n",
       "Ferry                  0.003257\n",
       "HOV                    0.283787\n",
       "NA                     0.000086\n",
       "Other                  0.008315\n",
       "Private bus/shuttle    0.004012\n",
       "SOV                    0.382983\n",
       "Taxi                   0.001303\n",
       "Train+Streetcar        0.005126\n",
       "Walk                   0.216325\n",
       "Name: personID, dtype: float64"
      ]
     },
     "execution_count": 251,
     "metadata": {},
     "output_type": "execute_result"
    }
   ],
   "source": [
    "type(mode14dist)\n",
    "mode14dist"
   ]
  },
  {
   "cell_type": "code",
   "execution_count": 252,
   "metadata": {
    "collapsed": false
   },
   "outputs": [
    {
     "data": {
      "text/plain": [
       "taxi_type_14_label\n",
       "NA                    58248\n",
       "Regular taxi             56\n",
       "Rideshare                25\n",
       "Name: personID, dtype: int64"
      ]
     },
     "execution_count": 252,
     "metadata": {},
     "output_type": "execute_result"
    }
   ],
   "source": [
    "type(taxi14)\n",
    "taxi14"
   ]
  },
  {
   "cell_type": "markdown",
   "metadata": {
    "collapsed": true
   },
   "source": [
    "# Taxi"
   ]
  },
  {
   "cell_type": "code",
   "execution_count": 270,
   "metadata": {
    "collapsed": false
   },
   "outputs": [
    {
     "data": {
      "text/html": [
       "<div style=\"max-height:1000px;max-width:1500px;overflow:auto;\">\n",
       "<table border=\"1\" class=\"dataframe\">\n",
       "  <thead>\n",
       "    <tr style=\"text-align: right;\">\n",
       "      <th></th>\n",
       "      <th>2014</th>\n",
       "      <th>2015</th>\n",
       "      <th>change, 14-&gt;15</th>\n",
       "    </tr>\n",
       "    <tr>\n",
       "      <th>taxi_type_14_label</th>\n",
       "      <th></th>\n",
       "      <th></th>\n",
       "      <th></th>\n",
       "    </tr>\n",
       "  </thead>\n",
       "  <tbody>\n",
       "    <tr>\n",
       "      <th>Regular taxi</th>\n",
       "      <td> 56</td>\n",
       "      <td> 39</td>\n",
       "      <td>-17</td>\n",
       "    </tr>\n",
       "    <tr>\n",
       "      <th>Rideshare</th>\n",
       "      <td> 25</td>\n",
       "      <td> 85</td>\n",
       "      <td> 60</td>\n",
       "    </tr>\n",
       "  </tbody>\n",
       "</table>\n",
       "</div>"
      ],
      "text/plain": [
       "                    2014  2015  change, 14->15\n",
       "taxi_type_14_label                            \n",
       "Regular taxi          56    39             -17\n",
       "Rideshare             25    85              60"
      ]
     },
     "execution_count": 270,
     "metadata": {},
     "output_type": "execute_result"
    }
   ],
   "source": [
    "# How many taxi trips in a rideshare vehicle?\n",
    "taxi14 = panel_trips.groupby('taxi_type_14_label').count()['personID']\n",
    "taxi15 = panel_trips.groupby('taxi_type_15_label').count()['personID']\n",
    "\n",
    "df = pd.DataFrame([taxi14,taxi15]).T\n",
    "df.columns = ['2014','2015']\n",
    "df.drop(['NA'],inplace=True)    # drop the NA responses\n",
    "df['change, 14->15'] = df['2015'] - df['2014']\n",
    "df"
   ]
  },
  {
   "cell_type": "code",
   "execution_count": 271,
   "metadata": {
    "collapsed": false
   },
   "outputs": [
    {
     "data": {
      "text/plain": [
       "<matplotlib.axes._subplots.AxesSubplot at 0x2e5f1470>"
      ]
     },
     "execution_count": 271,
     "metadata": {},
     "output_type": "execute_result"
    },
    {
     "data": {
      "text/plain": [
       "<matplotlib.figure.Figure at 0x28bba160>"
      ]
     },
     "metadata": {},
     "output_type": "display_data"
    },
    {
     "data": {
      "image/png": "[encoded data removed]",
      "text/plain": [
       "<matplotlib.figure.Figure at 0x1b499320>"
      ]
     },
     "metadata": {},
     "output_type": "display_data"
    }
   ],
   "source": [
    "df = df[['2014','2015']]\n",
    "df.index.name = \"\"    # clear index name to remove as x-axis label\n",
    "plt.figure()\n",
    "df.plot(kind='bar', alpha=0.8, title='Total Taxi Trips by Type')"
   ]
  },
  {
   "cell_type": "code",
   "execution_count": 187,
   "metadata": {
    "collapsed": true
   },
   "outputs": [],
   "source": [
    "# Total number of trips is still very small, but notable increase in rideshare usage over taxi."
   ]
  },
  {
   "cell_type": "code",
   "execution_count": 264,
   "metadata": {
    "collapsed": false
   },
   "outputs": [],
   "source": []
  },
  {
   "cell_type": "code",
   "execution_count": null,
   "metadata": {
    "collapsed": true
   },
   "outputs": [],
   "source": []
  }
 ],
 "metadata": {
  "kernelspec": {
   "display_name": "Python 2",
   "language": "python",
   "name": "python2"
  },
  "language_info": {
   "codemirror_mode": {
    "name": "ipython",
    "version": 2
   },
   "file_extension": ".py",
   "mimetype": "text/x-python",
   "name": "python",
   "nbconvert_exporter": "python",
   "pygments_lexer": "ipython2",
   "version": "2.7.9"
  }
 },
 "nbformat": 4,
 "nbformat_minor": 0
}
