{
 "cells": [
  {
   "cell_type": "code",
   "execution_count": 26,
   "metadata": {},
   "outputs": [],
   "source": [
    "import pandas as pd\n",
    "\n",
    "trip06 = pd.read_csv(r'C:\\Users\\MJennings\\Documents\\Survey 2017\\Survey Comparisons\\trip06.csv')\n",
    "trip14 = pd.read_csv(r'C:\\Users\\MJennings\\Documents\\Survey 2017\\Survey Comparisons\\trip14.csv')\n",
    "trip17 = pd.read_csv(r'C:\\Users\\MJennings\\Documents\\Survey 2017\\\\Survey Comparisons\\combinedtrip17.csv')\n",
    "\n",
    "#in case we want to break it up and see differences between app/survey\n",
    "trip17rmove = pd.read_csv(r'C:\\Users\\MJennings\\Documents\\Survey 2017\\\\Survey Comparisons\\rmovetrip17.csv')\n",
    "trip17survey = pd.read_csv(r'C:\\Users\\MJennings\\Documents\\Survey 2017\\\\Survey Comparisons\\surveytrip17.csv')\n",
    "\n",
    "person14 = pd.read_csv(r'C:\\Users\\MJennings\\Documents\\Survey 2017\\Survey Comparisons\\person14.csv')\n",
    "person17 = pd.read_csv(r'C:\\Users\\MJennings\\Documents\\Survey 2017\\\\Survey Comparisons\\person17.csv')\n"
   ]
  },
  {
   "cell_type": "code",
   "execution_count": 27,
   "metadata": {},
   "outputs": [],
   "source": [
    "#modifications to make data fields match up\n",
    "\n",
    "#use pagey2 for direct comparisons of age\n",
    "\n",
    "person17['pagey2'] = person17['pagey']\n",
    "\n",
    "person14['pagey'] = person14['pagey'].astype(int)\n",
    "\n",
    "def pagey2 (row):\n",
    "    if row['pagey'] in range(0,5) :\n",
    "        return 1\n",
    "    if row['pagey'] in range(5,12) :\n",
    "        return 2\n",
    "    if row['pagey'] in range(12,16) :\n",
    "        return 3 \n",
    "    if row['pagey'] in range(16,18) :\n",
    "        return 4 \n",
    "    if row['pagey'] in range(18,25) :\n",
    "        return 5\n",
    "    if row['pagey'] in range(25,35) :\n",
    "        return 6\n",
    "    if row['pagey'] in range(35,45) :\n",
    "        return 7\n",
    "    if row['pagey'] in range(45,55) :\n",
    "        return 8\n",
    "    if row['pagey'] in range(55,65) :\n",
    "        return 9\n",
    "    if row['pagey'] in range(65,75) :\n",
    "        return 10\n",
    "    if row['pagey'] in range(75,85) :\n",
    "        return 11\n",
    "    if row['pagey'] in range(85,200) :\n",
    "        return 12\n",
    "    return 1\n",
    "\n",
    "person14['pagey2'] = person14.apply (lambda row: pagey2 (row),axis=1)\n",
    "\n",
    "#adding age to trip file so we can break down by that factor\n",
    "trip14 = pd.merge(trip14, person14[['hhno','pno','pagey2']], on=['hhno', 'pno'], how='left')\n",
    "trip17 = pd.merge(trip17, person17[['hhno','pno','pagey2']], on=['hhno', 'pno'], how='left')"
   ]
  },
  {
   "cell_type": "code",
   "execution_count": 28,
   "metadata": {},
   "outputs": [],
   "source": [
    "trip06.year = \"2006\"\n",
    "trip14.year = \"2014\"\n",
    "trip17.year = \"2017\"\n",
    "\n",
    "#code taken from previous comparison files\n",
    "#no weights included, they are not in the source files\n",
    "def df_sample(df1, df2, field, report_avg=True):\n",
    "    '''Compare samples from two surveys in the same dataframe'''\n",
    "    df = pd.DataFrame()\n",
    "    df[df1.year + ' Samples'] = df1.groupby(field).count()['hhno']\n",
    "    df[df2.year + ' Samples'] = df2.groupby(field).count()['hhno']\n",
    "    df[\" \"*5] = \"\"    # empty col to separate samples from shares\n",
    "    df[df1.year + ' Shares'] = (df1.groupby(field).count()['hhno']/df1['hhno'].count()).round(2)\n",
    "    df[df2.year + ' Shares'] = (df2.groupby(field).count()['hhno']/df2['hhno'].count()).round(2)\n",
    "\n",
    "    print (df)  \n",
    "    print (\"---------\" * 10)\n",
    "    "
   ]
  },
  {
   "cell_type": "code",
   "execution_count": 29,
   "metadata": {},
   "outputs": [
    {
     "name": "stdout",
     "output_type": "stream",
     "text": [
      "        2014 Samples  2017 Samples        2014 Shares  2017 Shares\n",
      "pagey2                                                            \n",
      "1               1925          2181               0.04         0.04\n",
      "2               2167          2105               0.04         0.04\n",
      "3               1029           721               0.02         0.01\n",
      "4                547           390               0.01         0.01\n",
      "5               7685          3534               0.14         0.06\n",
      "6              10846         18588               0.20         0.34\n",
      "7               8073         11253               0.15         0.20\n",
      "8               7224          6813               0.13         0.12\n",
      "9               7559          5545               0.14         0.10\n",
      "10              5041          3365               0.09         0.06\n",
      "11              1673           770               0.03         0.01\n",
      "12               331            91               0.01         0.00\n",
      "------------------------------------------------------------------------------------------\n"
     ]
    }
   ],
   "source": [
    "df_sample(trip14, trip17, 'pagey2')"
   ]
  },
  {
   "cell_type": "code",
   "execution_count": null,
   "metadata": {},
   "outputs": [],
   "source": []
  }
 ],
 "metadata": {
  "kernelspec": {
   "display_name": "Python 3",
   "language": "python",
   "name": "python3"
  },
  "language_info": {
   "codemirror_mode": {
    "name": "ipython",
    "version": 3
   },
   "file_extension": ".py",
   "mimetype": "text/x-python",
   "name": "python",
   "nbconvert_exporter": "python",
   "pygments_lexer": "ipython3",
   "version": "3.6.1"
  }
 },
 "nbformat": 4,
 "nbformat_minor": 2
}
