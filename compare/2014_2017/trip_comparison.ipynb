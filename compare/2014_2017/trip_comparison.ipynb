{
 "cells": [
  {
   "cell_type": "code",
   "execution_count": 29,
   "metadata": {},
   "outputs": [],
   "source": [
    "import pandas as pd\n",
    "\n",
    "trip06 = pd.read_csv(r'C:\\Users\\MJennings\\Documents\\Survey 2017\\Survey Comparisons\\trip06.csv')\n",
    "trip14 = pd.read_csv(r'C:\\Users\\MJennings\\Documents\\Survey 2017\\Survey Comparisons\\trip14.csv')\n",
    "trip17 = pd.read_csv(r'C:\\Users\\MJennings\\Documents\\Survey 2017\\\\Survey Comparisons\\trip17.csv')\n",
    "\n",
    "person14 = pd.read_csv(r'C:\\Users\\MJennings\\Documents\\Survey 2017\\Survey Comparisons\\person14.csv')\n",
    "person17 = pd.read_csv(r'C:\\Users\\MJennings\\Documents\\Survey 2017\\\\Survey Comparisons\\person17.csv')\n",
    "\n",
    "trip06.year = \"2006\"\n",
    "trip14.year = \"2014\"\n",
    "trip17.year = \"2017\""
   ]
  },
  {
   "cell_type": "code",
   "execution_count": 37,
   "metadata": {},
   "outputs": [],
   "source": [
    "#modifications to make data fields match up\n",
    "\n",
    "#use pagey2 for direct comparisons\n",
    "\n",
    "person17['pagey2'] = person17['pagey']\n",
    "\n",
    "person14['pagey'] = person14['pagey'].astype(int)\n",
    "\n",
    "def pagey2 (row):\n",
    "    if row['pagey'] in range(0,5) :\n",
    "        return 1\n",
    "    if row['pagey'] in range(5,12) :\n",
    "        return 2\n",
    "    if row['pagey'] in range(12,16) :\n",
    "        return 3 \n",
    "    if row['pagey'] in range(16,18) :\n",
    "        return 4 \n",
    "    if row['pagey'] in range(18,25) :\n",
    "        return 5\n",
    "    if row['pagey'] in range(25,35) :\n",
    "        return 6\n",
    "    if row['pagey'] in range(35,45) :\n",
    "        return 7\n",
    "    if row['pagey'] in range(45,55) :\n",
    "        return 8\n",
    "    if row['pagey'] in range(55,65) :\n",
    "        return 9\n",
    "    if row['pagey'] in range(65,75) :\n",
    "        return 10\n",
    "    if row['pagey'] in range(75,85) :\n",
    "        return 11\n",
    "    if row['pagey'] in range(85,200) :\n",
    "        return 12\n",
    "    return 1\n",
    "\n",
    "person14['pagey2'] = person14.apply (lambda row: pagey2 (row),axis=1)"
   ]
  },
  {
   "cell_type": "code",
   "execution_count": 25,
   "metadata": {},
   "outputs": [],
   "source": [
    "#code taken from previous comparison files\n",
    "#no weights included, they are not in the source files\n",
    "def df_sample(df1, df2, field, report_avg=True):\n",
    "    '''Compare samples from two surveys in the same dataframe'''\n",
    "    df = pd.DataFrame()\n",
    "    df[df1.year + ' Samples'] = df1.groupby(field).count()['hhno']\n",
    "    df[df2.year + ' Samples'] = df2.groupby(field).count()['hhno']\n",
    "    df[\" \"*5] = \"\"    # empty col to separate samples from shares\n",
    "    df[df1.year + ' Shares'] = (df1.groupby(field).count()['hhno']/df1['hhno'].count()).round(2)\n",
    "    df[df2.year + ' Shares'] = (df2.groupby(field).count()['hhno']/df2['hhno'].count()).round(2)\n",
    "\n",
    "    print (df)  \n",
    "    print (\"---------\" * 10)\n",
    "    "
   ]
  },
  {
   "cell_type": "code",
   "execution_count": 26,
   "metadata": {},
   "outputs": [
    {
     "name": "stdout",
     "output_type": "stream",
     "text": [
      "      2014 Samples  2017 Samples        2014 Shares  2017 Shares\n",
      "mode                                                            \n",
      "1            12789          4352               0.24         0.24\n",
      "2             1279           472               0.02         0.03\n",
      "3            20208          6297               0.37         0.35\n",
      "4             9483          3133               0.18         0.17\n",
      "5             4853          1614               0.09         0.09\n",
      "6             4544          2024               0.08         0.11\n",
      "8              579           183               0.01         0.01\n",
      "9              365            62               0.01         0.00\n",
      "------------------------------------------------------------------------------------------\n"
     ]
    }
   ],
   "source": [
    "df_sample(trip14, trip17, 'mode')"
   ]
  },
  {
   "cell_type": "code",
   "execution_count": 35,
   "metadata": {},
   "outputs": [
    {
     "data": {
      "text/plain": [
       "0        21\n",
       "1        21\n",
       "2        17\n",
       "3        30\n",
       "4        21\n",
       "5        21\n",
       "6        21\n",
       "7        30\n",
       "8        21\n",
       "9        21\n",
       "10       17\n",
       "11       21\n",
       "12       50\n",
       "13       21\n",
       "14       21\n",
       "15       21\n",
       "16       30\n",
       "17       21\n",
       "18       30\n",
       "19       21\n",
       "20       30\n",
       "21       21\n",
       "22       21\n",
       "23       17\n",
       "24       30\n",
       "25       21\n",
       "26       21\n",
       "27       60\n",
       "28       30\n",
       "29       50\n",
       "         ..\n",
       "14092    60\n",
       "14093    60\n",
       "14094    90\n",
       "14095    80\n",
       "14096    80\n",
       "14097    60\n",
       "14098    50\n",
       "14099    60\n",
       "14100    70\n",
       "14101    70\n",
       "14102     8\n",
       "14103    80\n",
       "14104    70\n",
       "14105    70\n",
       "14106    50\n",
       "14107    50\n",
       "14108    60\n",
       "14109    60\n",
       "14110    21\n",
       "14111    50\n",
       "14112    50\n",
       "14113    30\n",
       "14114    30\n",
       "14115    60\n",
       "14116    40\n",
       "14117    50\n",
       "14118    50\n",
       "14119     8\n",
       "14120    50\n",
       "14121    30\n",
       "Name: pagey, Length: 14122, dtype: int32"
      ]
     },
     "execution_count": 35,
     "metadata": {},
     "output_type": "execute_result"
    }
   ],
   "source": [
    "person14['pagey'].astype(int)"
   ]
  },
  {
   "cell_type": "code",
   "execution_count": null,
   "metadata": {},
   "outputs": [],
   "source": []
  }
 ],
 "metadata": {
  "kernelspec": {
   "display_name": "Python 3",
   "language": "python",
   "name": "python3"
  },
  "language_info": {
   "codemirror_mode": {
    "name": "ipython",
    "version": 3
   },
   "file_extension": ".py",
   "mimetype": "text/x-python",
   "name": "python",
   "nbconvert_exporter": "python",
   "pygments_lexer": "ipython3",
   "version": "3.6.1"
  }
 },
 "nbformat": 4,
 "nbformat_minor": 2
}
