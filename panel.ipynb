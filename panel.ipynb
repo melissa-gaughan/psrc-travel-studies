{
 "cells": [
  {
   "cell_type": "code",
   "execution_count": 6,
   "metadata": {
    "collapsed": false
   },
   "outputs": [],
   "source": [
    "# Evaluate trip characteristics for panel households"
   ]
  },
  {
   "cell_type": "code",
   "execution_count": 3,
   "metadata": {
    "collapsed": true
   },
   "outputs": [],
   "source": [
    "import pandas as pd\n",
    "import numpy as np"
   ]
  },
  {
   "cell_type": "code",
   "execution_count": 5,
   "metadata": {
    "collapsed": true
   },
   "outputs": [],
   "source": [
    "# Load 2014 and 2015 survey household data\n",
    "trip14 = pd.read_excel(r'data\\2014\\2014-pr3-hhsurvey-trips.xlsx', sheet='Sheet1')\n",
    "trip15 = pd.read_excel(r'data\\2015\\4_PSRC2015_Trip_2015-07-02.xlsx', sheet='Sheet1')"
   ]
  },
  {
   "cell_type": "code",
   "execution_count": 44,
   "metadata": {
    "collapsed": false
   },
   "outputs": [],
   "source": [
    "# Filter out panel households only\n",
    "# If hhid starts with 14..., this is a panel household\n",
    "panel_trips15 = trip15.query('hhid < 15000000')"
   ]
  },
  {
   "cell_type": "code",
   "execution_count": 45,
   "metadata": {
    "collapsed": false
   },
   "outputs": [],
   "source": [
    "panel_hhs = panel_trips15['hhid'].values.tolist()"
   ]
  },
  {
   "cell_type": "code",
   "execution_count": 46,
   "metadata": {
    "collapsed": false
   },
   "outputs": [],
   "source": [
    "panel_trips14 = trip14[trip14['hhid'].isin(panel_hhs)]"
   ]
  },
  {
   "cell_type": "code",
   "execution_count": 52,
   "metadata": {
    "collapsed": true
   },
   "outputs": [],
   "source": [
    "expwt14 = 'expwt_final'\n",
    "expwt15 = 'hhid'    # No weights yet so just using arbitrary column to sum up counts\n",
    "\n",
    "panel_trips14.year = '2014'\n",
    "panel_trips15.year = '2015'"
   ]
  },
  {
   "cell_type": "code",
   "execution_count": 51,
   "metadata": {
    "collapsed": true
   },
   "outputs": [],
   "source": [
    "def df_sample(df1, df2, field, agg1, agg2, report_avg=True):\n",
    "    '''Compare samples from two surveys in the same dataframe'''\n",
    "    df = pd.DataFrame()\n",
    "    df[df1.year + ' Samples'] = df1.groupby(field).count()[agg1]\n",
    "    df[df2.year + ' Samples'] = df2.groupby(field).count()[agg2]\n",
    "    df[\" \"*5] = \"\"    # empty col to separate samples from shares\n",
    "    df[df1.year + ' Shares'] = (df1.groupby(field).count()[agg1]/df1[agg1].count()).round(2)\n",
    "    df[df2.year + ' Shares'] = (df2.groupby(field).count()[agg2]/df2[agg2].count()).round(2)\n",
    "\n",
    "    print df  \n",
    "    print \"---------\" * 10\n",
    "    \n",
    "    if report_avg:\n",
    "        print \"Sample average \" + df1.year + \": \" + str(np.round(df1[field].mean(),2))\n",
    "        print \"Sample average \" + df2.year + \": \" + str(np.round(df2[field].mean(),2))"
   ]
  },
  {
   "cell_type": "code",
   "execution_count": 49,
   "metadata": {
    "collapsed": false
   },
   "outputs": [],
   "source": [
    "# Compare panel trips"
   ]
  },
  {
   "cell_type": "markdown",
   "metadata": {},
   "source": [
    "** Trip Purpose **"
   ]
  },
  {
   "cell_type": "code",
   "execution_count": 53,
   "metadata": {
    "collapsed": false
   },
   "outputs": [
    {
     "name": "stdout",
     "output_type": "stream",
     "text": [
      "           2014 Samples  2015 Samples        2014 Shares  2015 Shares\n",
      "d_purpose                                                            \n",
      "1                  4234          4064               0.34         0.32\n",
      "2                  1620          1625               0.13         0.13\n",
      "3                   288           306               0.02         0.02\n",
      "4                   814           829               0.07         0.07\n",
      "5                   750           702               0.06         0.06\n",
      "6                   375           630               0.03         0.05\n",
      "7                   265           253               0.02         0.02\n",
      "8                   901           689               0.07         0.05\n",
      "9                   710           528               0.06         0.04\n",
      "10                  705           819               0.06         0.06\n",
      "11                  744           696               0.06         0.06\n",
      "12                  366           325               0.03         0.03\n",
      "13                  241           196               0.02         0.02\n",
      "14                  173           132               0.01         0.01\n",
      "15                   27           243               0.00         0.02\n",
      "16                  114           581               0.01         0.05\n",
      "------------------------------------------------------------------------------------------\n",
      "Sample average 2014: 4.9\n",
      "Sample average 2015: 5.39\n"
     ]
    }
   ],
   "source": [
    "df_sample(panel_trips14, panel_trips15, 'd_purpose', expwt14, expwt15)"
   ]
  },
  {
   "cell_type": "markdown",
   "metadata": {},
   "source": [
    "** Mode **"
   ]
  },
  {
   "cell_type": "code",
   "execution_count": 54,
   "metadata": {
    "collapsed": false
   },
   "outputs": [
    {
     "name": "stdout",
     "output_type": "stream",
     "text": [
      "      2014 Samples  2015 Samples        2014 Shares  2015 Shares\n",
      "mode                                                            \n",
      "-99              6           NaN               0.00          NaN\n",
      " 1            4580          4559               0.37         0.36\n",
      " 2            2958          2926               0.24         0.23\n",
      " 3             656           803               0.05         0.06\n",
      " 4              49            14               0.00         0.00\n",
      " 5              39            51               0.00         0.00\n",
      " 6             291           226               0.02         0.02\n",
      " 7            2554          2689               0.21         0.21\n",
      " 8             898          1000               0.07         0.08\n",
      " 9              55            54               0.00         0.00\n",
      " 10             31            31               0.00         0.00\n",
      " 11              5             2               0.00         0.00\n",
      " 12            108           134               0.01         0.01\n",
      " 13             19            25               0.00         0.00\n",
      " 14              6             8               0.00         0.00\n",
      " 15             48            58               0.00         0.00\n",
      " 16             23            30               0.00         0.00\n",
      " 17              1             8               0.00         0.00\n",
      "------------------------------------------------------------------------------------------\n",
      "Sample average 2014: 3.46\n",
      "Sample average 2015: 3.62\n"
     ]
    }
   ],
   "source": [
    "df_sample(panel_trips14, panel_trips15, 'mode', expwt14, expwt15)"
   ]
  },
  {
   "cell_type": "code",
   "execution_count": 55,
   "metadata": {
    "collapsed": false
   },
   "outputs": [
    {
     "name": "stdout",
     "output_type": "stream",
     "text": [
      "      2014 Samples  2015 Samples        2014 Shares  2015 Shares\n",
      "mode                                                            \n",
      "1              559           549               0.53         0.57\n",
      "2               50            47               0.05         0.05\n",
      "3               14            11               0.01         0.01\n",
      "4                7             6               0.01         0.01\n",
      "5               13             5               0.01         0.01\n",
      "6               65            54               0.06         0.06\n",
      "7               77            90               0.07         0.09\n",
      "8              231           190               0.22         0.20\n",
      "9               16             3               0.02         0.00\n",
      "10               6           NaN               0.01          NaN\n",
      "11               1           NaN               0.00          NaN\n",
      "13               3             4               0.00         0.00\n",
      "15              13             3               0.01         0.00\n",
      "------------------------------------------------------------------------------------------\n",
      "Sample average 2014: 3.81\n",
      "Sample average 2015: 3.45\n"
     ]
    }
   ],
   "source": [
    "com14 = panel_trips14.query('d_purpose == 2 and o_purpose == 1')    # commute only trips\n",
    "com15 = panel_trips15.query('d_purpose == 2 and o_purpose == 1')\n",
    "com14.year = panel_trips14.year\n",
    "com15.year = panel_trips15.year\n",
    "df_sample(com14, com15, 'mode', expwt14, expwt15)"
   ]
  },
  {
   "cell_type": "code",
   "execution_count": 56,
   "metadata": {
    "collapsed": false
   },
   "outputs": [
    {
     "name": "stdout",
     "output_type": "stream",
     "text": [
      "                   2014 Samples  2015 Samples        2014 Shares  2015 Shares\n",
      "trip_dur_reported                                                            \n",
      "-99                           7           NaN               0.00          NaN\n",
      " 5                         2814          2714               0.23         0.22\n",
      " 10                        2650          2654               0.21         0.21\n",
      " 15                        2058          2282               0.17         0.18\n",
      " 20                        1193          1367               0.10         0.11\n",
      " 25                         761           745               0.06         0.06\n",
      " 30                         946           941               0.08         0.07\n",
      " 35                         365           394               0.03         0.03\n",
      " 40                         338           357               0.03         0.03\n",
      " 45                         334           304               0.03         0.02\n",
      " 50                         164           142               0.01         0.01\n",
      " 55                         114           105               0.01         0.01\n",
      " 60                         182           198               0.01         0.02\n",
      " 65                          61            49               0.00         0.00\n",
      " 70                          55            46               0.00         0.00\n",
      " 75                          55            60               0.00         0.00\n",
      " 80                          25            25               0.00         0.00\n",
      " 85                          23            26               0.00         0.00\n",
      " 90                          38            38               0.00         0.00\n",
      " 95                          11             7               0.00         0.00\n",
      " 100                         18            10               0.00         0.00\n",
      " 105                         28             7               0.00         0.00\n",
      " 110                         10             4               0.00         0.00\n",
      " 115                          8            13               0.00         0.00\n",
      " 120                         10            20               0.00         0.00\n",
      " 125                          3             3               0.00         0.00\n",
      " 130                          3             9               0.00         0.00\n",
      " 135                          8             1               0.00         0.00\n",
      " 140                          2             3               0.00         0.00\n",
      " 145                          4             5               0.00         0.00\n",
      " 150                         11             7               0.00         0.00\n",
      " 155                          4             2               0.00         0.00\n",
      " 165                          3             2               0.00         0.00\n",
      " 170                          1           NaN               0.00          NaN\n",
      " 175                          2           NaN               0.00          NaN\n",
      " 185                          2             1               0.00         0.00\n",
      " 190                          2           NaN               0.00          NaN\n",
      " 195                          1             3               0.00         0.00\n",
      " 220                          1             1               0.00         0.00\n",
      " 240                          2             2               0.00         0.00\n",
      " 300                          2             2               0.00         0.00\n",
      " 400                          1           NaN               0.00          NaN\n",
      " 470                          2           NaN               0.00          NaN\n",
      " 505                          1             1               0.00         0.00\n",
      " 510                          1           NaN               0.00          NaN\n",
      " 590                          1           NaN               0.00          NaN\n",
      " 765                          1           NaN               0.00          NaN\n",
      " 900                          1           NaN               0.00          NaN\n",
      "------------------------------------------------------------------------------------------\n",
      "Sample average 2014: 20.27\n",
      "Sample average 2015: 20.57\n"
     ]
    }
   ],
   "source": [
    "df_sample(panel_trips14, panel_trips15, 'trip_dur_reported', expwt14, expwt15)"
   ]
  },
  {
   "cell_type": "code",
   "execution_count": null,
   "metadata": {
    "collapsed": true
   },
   "outputs": [],
   "source": []
  }
 ],
 "metadata": {
  "kernelspec": {
   "display_name": "Python 2",
   "language": "python",
   "name": "python2"
  },
  "language_info": {
   "codemirror_mode": {
    "name": "ipython",
    "version": 2
   },
   "file_extension": ".py",
   "mimetype": "text/x-python",
   "name": "python",
   "nbconvert_exporter": "python",
   "pygments_lexer": "ipython2",
   "version": "2.7.10"
  }
 },
 "nbformat": 4,
 "nbformat_minor": 0
}
