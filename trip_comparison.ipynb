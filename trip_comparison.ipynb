{
 "cells": [
  {
   "cell_type": "code",
   "execution_count": 2,
   "metadata": {
    "collapsed": true
   },
   "outputs": [],
   "source": [
    "import pandas as pd\n",
    "import numpy as np"
   ]
  },
  {
   "cell_type": "code",
   "execution_count": 19,
   "metadata": {
    "collapsed": false
   },
   "outputs": [],
   "source": [
    "# Load 2014 and 2015 survey household data\n",
    "trip14 = pd.read_excel(r'data\\2014\\2014-pr3-hhsurvey-trips.xlsx', sheet='Sheet1')\n",
    "trip15 = pd.read_excel(r'data\\2015\\4_PSRC2015_Trip_2015-07-02.xlsx', sheet='Sheet1')"
   ]
  },
  {
   "cell_type": "code",
   "execution_count": 20,
   "metadata": {
    "collapsed": false
   },
   "outputs": [],
   "source": [
    "expwt14 = 'expwt_final'\n",
    "expwt15 = 'hhid'    # No weights yet so just using arbitrary column to sum up counts\n",
    "\n",
    "trip14.year = '2014'\n",
    "trip15.year = '2015'"
   ]
  },
  {
   "cell_type": "code",
   "execution_count": 21,
   "metadata": {
    "collapsed": false
   },
   "outputs": [],
   "source": [
    "def df_sample(df1, df2, field, agg1, agg2, report_avg=True):\n",
    "    '''Compare samples from two surveys in the same dataframe'''\n",
    "    df = pd.DataFrame()\n",
    "    df[df1.year + ' Samples'] = df1.groupby(field).count()[agg1]\n",
    "    df[df2.year + ' Samples'] = df2.groupby(field).count()[agg2]\n",
    "    df[\" \"*5] = \"\"    # empty col to separate samples from shares\n",
    "    df[df1.year + ' Shares'] = (df1.groupby(field).count()[agg1]/df1[agg1].count()).round(2)\n",
    "    df[df2.year + ' Shares'] = (df2.groupby(field).count()[agg2]/df2[agg2].count()).round(2)\n",
    "\n",
    "    print df  \n",
    "    print \"---------\" * 10\n",
    "    \n",
    "    if report_avg:\n",
    "        print \"Sample average \" + df1.year + \": \" + str(np.round(df1[field].mean(),2))\n",
    "        print \"Sample average \" + df2.year + \": \" + str(np.round(df2[field].mean(),2))"
   ]
  },
  {
   "cell_type": "markdown",
   "metadata": {},
   "source": [
    "** Trip Purpose**"
   ]
  },
  {
   "cell_type": "code",
   "execution_count": 23,
   "metadata": {
    "collapsed": false
   },
   "outputs": [
    {
     "name": "stdout",
     "output_type": "stream",
     "text": [
      "           2014 Samples  2015 Samples        2014 Shares  2015 Shares\n",
      "d_purpose                                                            \n",
      "1                 16549          6360               0.35         0.32\n",
      "2                  6623          2440               0.14         0.12\n",
      "3                  1140           530               0.02         0.03\n",
      "4                  3144          1257               0.07         0.06\n",
      "5                  2662          1134               0.06         0.06\n",
      "6                  1642          1036               0.03         0.05\n",
      "7                  1040           431               0.02         0.02\n",
      "8                  3088          1095               0.06         0.06\n",
      "9                  2922           842               0.06         0.04\n",
      "10                 2648          1155               0.06         0.06\n",
      "11                 2823          1117               0.06         0.06\n",
      "12                 1521           480               0.03         0.02\n",
      "13                  983           300               0.02         0.02\n",
      "14                  566           204               0.01         0.01\n",
      "15                  129           356               0.00         0.02\n",
      "16                  438           938               0.01         0.05\n",
      "------------------------------------------------------------------------------------------\n",
      "Sample average 2014: 4.86\n",
      "Sample average 2015: 5.38\n"
     ]
    }
   ],
   "source": [
    "df_sample(trip14, trip15, 'd_purpose', expwt14, expwt15)"
   ]
  },
  {
   "cell_type": "markdown",
   "metadata": {},
   "source": [
    "** Mode **"
   ]
  },
  {
   "cell_type": "code",
   "execution_count": 24,
   "metadata": {
    "collapsed": false
   },
   "outputs": [
    {
     "name": "stdout",
     "output_type": "stream",
     "text": [
      "      2014 Samples  2015 Samples        2014 Shares  2015 Shares\n",
      "mode                                                            \n",
      "-99             30           NaN               0.00          NaN\n",
      " 1           19420          7527               0.41         0.38\n",
      " 2           11383          4766               0.24         0.24\n",
      " 3            2791          1252               0.06         0.06\n",
      " 4             128            16               0.00         0.00\n",
      " 5             122            66               0.00         0.00\n",
      " 6             931           309               0.02         0.02\n",
      " 7            8847          3781               0.18         0.19\n",
      " 8            2930          1408               0.06         0.07\n",
      " 9             177            89               0.00         0.00\n",
      " 10            130            57               0.00         0.00\n",
      " 11             16             3               0.00         0.00\n",
      " 12            587           222               0.01         0.01\n",
      " 13             87            32               0.00         0.00\n",
      " 14             19            15               0.00         0.00\n",
      " 15            174            76               0.00         0.00\n",
      " 16            114            41               0.00         0.00\n",
      " 17             32            15               0.00         0.00\n",
      "------------------------------------------------------------------------------------------\n",
      "Sample average 2014: 3.26\n",
      "Sample average 2015: 3.43\n"
     ]
    }
   ],
   "source": [
    "df_sample(trip14, trip15, 'mode', expwt14, expwt15)"
   ]
  },
  {
   "cell_type": "markdown",
   "metadata": {},
   "source": [
    "** Commute Mode Share **"
   ]
  },
  {
   "cell_type": "code",
   "execution_count": 27,
   "metadata": {
    "collapsed": false
   },
   "outputs": [
    {
     "name": "stdout",
     "output_type": "stream",
     "text": [
      "      2014 Samples  2015 Samples        2014 Shares  2015 Shares\n",
      "mode                                                            \n",
      "1             2573           881               0.60         0.61\n",
      "2              198            74               0.05         0.05\n",
      "3               73            17               0.02         0.01\n",
      "4               29             7               0.01         0.00\n",
      "5               44             6               0.01         0.00\n",
      "6              193            71               0.04         0.05\n",
      "7              336           124               0.08         0.09\n",
      "8              740           250               0.17         0.17\n",
      "9               47             7               0.01         0.00\n",
      "10              37           NaN               0.01          NaN\n",
      "11               2           NaN               0.00          NaN\n",
      "13               4             4               0.00         0.00\n",
      "15              36             4               0.01         0.00\n",
      "17               2           NaN               0.00          NaN\n",
      "------------------------------------------------------------------------------------------\n",
      "Sample average 2014: 3.34\n",
      "Sample average 2015: 3.19\n"
     ]
    }
   ],
   "source": [
    "com14 = trip14.query('d_purpose == 2 and o_purpose == 1')    # commute only trips\n",
    "com15 = trip15.query('d_purpose == 2 and o_purpose == 1')\n",
    "com14.year = trip14.year\n",
    "com15.year = trip15.year\n",
    "df_sample(com14, com15, 'mode', expwt14, expwt15)"
   ]
  },
  {
   "cell_type": "markdown",
   "metadata": {},
   "source": [
    "** Trip Duration **"
   ]
  },
  {
   "cell_type": "code",
   "execution_count": 29,
   "metadata": {
    "collapsed": false
   },
   "outputs": [
    {
     "name": "stdout",
     "output_type": "stream",
     "text": [
      "                   2014 Samples  2015 Samples        2014 Shares  2015 Shares\n",
      "trip_dur_reported                                                            \n",
      "-99                          32           NaN               0.00          NaN\n",
      " 5                        10314          4327               0.22         0.22\n",
      " 10                       10265          4220               0.21         0.21\n",
      " 15                        8047          3444               0.17         0.18\n",
      " 20                        4927          2082               0.10         0.11\n",
      " 25                        3033          1195               0.06         0.06\n",
      " 30                        3878          1455               0.08         0.07\n",
      " 35                        1502           625               0.03         0.03\n",
      " 40                        1207           535               0.03         0.03\n",
      " 45                        1319           470               0.03         0.02\n",
      " 50                         628           219               0.01         0.01\n",
      " 55                         438           144               0.01         0.01\n",
      " 60                         716           271               0.01         0.01\n",
      " 65                         241            78               0.01         0.00\n",
      " 70                         209            77               0.00         0.00\n",
      " 75                         219           102               0.00         0.01\n",
      " 80                         136            39               0.00         0.00\n",
      " 85                         110            42               0.00         0.00\n",
      " 90                         163            60               0.00         0.00\n",
      " 95                          56            19               0.00         0.00\n",
      " 100                         53            18               0.00         0.00\n",
      " 105                         73            19               0.00         0.00\n",
      " 110                         44             8               0.00         0.00\n",
      " 115                         25            18               0.00         0.00\n",
      " 120                         49            31               0.00         0.00\n",
      " 125                         17             5               0.00         0.00\n",
      " 130                         16            13               0.00         0.00\n",
      " 135                         16             3               0.00         0.00\n",
      " 140                         17             8               0.00         0.00\n",
      " 145                          7             6               0.00         0.00\n",
      "...                         ...           ...   ...          ...          ...\n",
      " 320                          2           NaN               0.00          NaN\n",
      " 330                          3           NaN               0.00          NaN\n",
      " 345                          1           NaN               0.00          NaN\n",
      " 360                          3             1               0.00         0.00\n",
      " 370                          2             1               0.00         0.00\n",
      " 375                          2             1               0.00         0.00\n",
      " 400                          1           NaN               0.00          NaN\n",
      " 410                          1           NaN               0.00          NaN\n",
      " 425                          1           NaN               0.00          NaN\n",
      " 435                          1             1               0.00         0.00\n",
      " 450                          1           NaN               0.00          NaN\n",
      " 470                          2             1               0.00         0.00\n",
      " 480                          1           NaN               0.00          NaN\n",
      " 505                          1             1               0.00         0.00\n",
      " 510                          2             2               0.00         0.00\n",
      " 540                          1           NaN               0.00          NaN\n",
      " 550                          2           NaN               0.00          NaN\n",
      " 555                          2             1               0.00         0.00\n",
      " 590                          1           NaN               0.00          NaN\n",
      " 600                          1             1               0.00         0.00\n",
      " 615                          1           NaN               0.00          NaN\n",
      " 640                          2           NaN               0.00          NaN\n",
      " 765                          1           NaN               0.00          NaN\n",
      " 780                          2           NaN               0.00          NaN\n",
      " 900                          1           NaN               0.00          NaN\n",
      " 915                          2           NaN               0.00          NaN\n",
      " 955                          1           NaN               0.00          NaN\n",
      " 960                          1           NaN               0.00          NaN\n",
      " 1140                         1           NaN               0.00          NaN\n",
      " 1445                         1             1               0.00         0.00\n",
      "\n",
      "[82 rows x 5 columns]\n",
      "------------------------------------------------------------------------------------------\n",
      "Sample average 2014: 20.71\n",
      "Sample average 2015: 20.58\n"
     ]
    }
   ],
   "source": [
    "df_sample(trip14, trip15, 'trip_dur_reported', expwt14, expwt15)"
   ]
  },
  {
   "cell_type": "markdown",
   "metadata": {},
   "source": [
    "** Taxi Type **"
   ]
  },
  {
   "cell_type": "code",
   "execution_count": 34,
   "metadata": {
    "collapsed": false
   },
   "outputs": [
    {
     "name": "stdout",
     "output_type": "stream",
     "text": [
      "           2014 Samples  2015 Samples        2014 Shares  2015 Shares\n",
      "taxi_type                                                            \n",
      "-99                1329           NaN               0.03          NaN\n",
      " 1                   39            13               0.00            0\n",
      " 2                   57            19               0.00            0\n",
      "------------------------------------------------------------------------------------------\n",
      "Sample average 2014: -92.22\n",
      "Sample average 2015: 1.59\n"
     ]
    }
   ],
   "source": [
    "df_sample(trip14, trip15, 'taxi_type', expwt14, expwt15)\n",
    "# 1 is regular tax, 2 is rideshare (e.g., Uber, Lyft)"
   ]
  }
 ],
 "metadata": {
  "kernelspec": {
   "display_name": "Python 2",
   "language": "python",
   "name": "python2"
  },
  "language_info": {
   "codemirror_mode": {
    "name": "ipython",
    "version": 2
   },
   "file_extension": ".py",
   "mimetype": "text/x-python",
   "name": "python",
   "nbconvert_exporter": "python",
   "pygments_lexer": "ipython2",
   "version": "2.7.10"
  }
 },
 "nbformat": 4,
 "nbformat_minor": 0
}
