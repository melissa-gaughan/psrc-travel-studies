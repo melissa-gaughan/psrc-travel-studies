{
 "cells": [
  {
   "cell_type": "code",
   "execution_count": 2,
   "metadata": {
    "collapsed": true
   },
   "outputs": [],
   "source": [
    "import pandas as pd\n",
    "import numpy as np"
   ]
  },
  {
   "cell_type": "code",
   "execution_count": 3,
   "metadata": {
    "collapsed": false
   },
   "outputs": [
    {
     "ename": "IOError",
     "evalue": "[Errno 2] No such file or directory: 'data\\\\2014\\\\2014-pr3-hhsurvey-trip.xlsx'",
     "output_type": "error",
     "traceback": [
      "\u001b[1;31m---------------------------------------------------------------------------\u001b[0m",
      "\u001b[1;31mIOError\u001b[0m                                   Traceback (most recent call last)",
      "\u001b[1;32m<ipython-input-3-cc426109c5ca>\u001b[0m in \u001b[0;36m<module>\u001b[1;34m()\u001b[0m\n\u001b[0;32m      1\u001b[0m \u001b[1;31m# Load 2014 and 2015 survey household data\u001b[0m\u001b[1;33m\u001b[0m\u001b[1;33m\u001b[0m\u001b[0m\n\u001b[1;32m----> 2\u001b[1;33m \u001b[0mper14\u001b[0m \u001b[1;33m=\u001b[0m \u001b[0mpd\u001b[0m\u001b[1;33m.\u001b[0m\u001b[0mread_excel\u001b[0m\u001b[1;33m(\u001b[0m\u001b[1;34mr'data\\2014\\2014-pr3-hhsurvey-trip.xlsx'\u001b[0m\u001b[1;33m,\u001b[0m \u001b[0msheet\u001b[0m\u001b[1;33m=\u001b[0m\u001b[1;34m'Sheet1'\u001b[0m\u001b[1;33m)\u001b[0m\u001b[1;33m\u001b[0m\u001b[0m\n\u001b[0m\u001b[0;32m      3\u001b[0m \u001b[0mper15\u001b[0m \u001b[1;33m=\u001b[0m \u001b[0mpd\u001b[0m\u001b[1;33m.\u001b[0m\u001b[0mread_excel\u001b[0m\u001b[1;33m(\u001b[0m\u001b[1;34mr'data\\2015\\4_PSRC2015_Trip_2015-07-02.xlsx'\u001b[0m\u001b[1;33m,\u001b[0m \u001b[0msheet\u001b[0m\u001b[1;33m=\u001b[0m\u001b[1;34m'Sheet1'\u001b[0m\u001b[1;33m)\u001b[0m\u001b[1;33m\u001b[0m\u001b[0m\n",
      "\u001b[1;32mc:\\Users\\Brice\\AppData\\Local\\Continuum\\Anaconda\\lib\\site-packages\\pandas\\io\\excel.pyc\u001b[0m in \u001b[0;36mread_excel\u001b[1;34m(io, sheetname, **kwds)\u001b[0m\n\u001b[0;32m    149\u001b[0m     \u001b[0mengine\u001b[0m \u001b[1;33m=\u001b[0m \u001b[0mkwds\u001b[0m\u001b[1;33m.\u001b[0m\u001b[0mpop\u001b[0m\u001b[1;33m(\u001b[0m\u001b[1;34m'engine'\u001b[0m\u001b[1;33m,\u001b[0m \u001b[0mNone\u001b[0m\u001b[1;33m)\u001b[0m\u001b[1;33m\u001b[0m\u001b[0m\n\u001b[0;32m    150\u001b[0m \u001b[1;33m\u001b[0m\u001b[0m\n\u001b[1;32m--> 151\u001b[1;33m     \u001b[1;32mreturn\u001b[0m \u001b[0mExcelFile\u001b[0m\u001b[1;33m(\u001b[0m\u001b[0mio\u001b[0m\u001b[1;33m,\u001b[0m \u001b[0mengine\u001b[0m\u001b[1;33m=\u001b[0m\u001b[0mengine\u001b[0m\u001b[1;33m)\u001b[0m\u001b[1;33m.\u001b[0m\u001b[0mparse\u001b[0m\u001b[1;33m(\u001b[0m\u001b[0msheetname\u001b[0m\u001b[1;33m=\u001b[0m\u001b[0msheetname\u001b[0m\u001b[1;33m,\u001b[0m \u001b[1;33m**\u001b[0m\u001b[0mkwds\u001b[0m\u001b[1;33m)\u001b[0m\u001b[1;33m\u001b[0m\u001b[0m\n\u001b[0m\u001b[0;32m    152\u001b[0m \u001b[1;33m\u001b[0m\u001b[0m\n\u001b[0;32m    153\u001b[0m \u001b[1;33m\u001b[0m\u001b[0m\n",
      "\u001b[1;32mc:\\Users\\Brice\\AppData\\Local\\Continuum\\Anaconda\\lib\\site-packages\\pandas\\io\\excel.pyc\u001b[0m in \u001b[0;36m__init__\u001b[1;34m(self, io, **kwds)\u001b[0m\n\u001b[0;32m    186\u001b[0m                 \u001b[0mself\u001b[0m\u001b[1;33m.\u001b[0m\u001b[0mbook\u001b[0m \u001b[1;33m=\u001b[0m \u001b[0mxlrd\u001b[0m\u001b[1;33m.\u001b[0m\u001b[0mopen_workbook\u001b[0m\u001b[1;33m(\u001b[0m\u001b[0mfile_contents\u001b[0m\u001b[1;33m=\u001b[0m\u001b[0mdata\u001b[0m\u001b[1;33m)\u001b[0m\u001b[1;33m\u001b[0m\u001b[0m\n\u001b[0;32m    187\u001b[0m             \u001b[1;32melse\u001b[0m\u001b[1;33m:\u001b[0m\u001b[1;33m\u001b[0m\u001b[0m\n\u001b[1;32m--> 188\u001b[1;33m                 \u001b[0mself\u001b[0m\u001b[1;33m.\u001b[0m\u001b[0mbook\u001b[0m \u001b[1;33m=\u001b[0m \u001b[0mxlrd\u001b[0m\u001b[1;33m.\u001b[0m\u001b[0mopen_workbook\u001b[0m\u001b[1;33m(\u001b[0m\u001b[0mio\u001b[0m\u001b[1;33m)\u001b[0m\u001b[1;33m\u001b[0m\u001b[0m\n\u001b[0m\u001b[0;32m    189\u001b[0m         \u001b[1;32melif\u001b[0m \u001b[0mengine\u001b[0m \u001b[1;33m==\u001b[0m \u001b[1;34m'xlrd'\u001b[0m \u001b[1;32mand\u001b[0m \u001b[0misinstance\u001b[0m\u001b[1;33m(\u001b[0m\u001b[0mio\u001b[0m\u001b[1;33m,\u001b[0m \u001b[0mxlrd\u001b[0m\u001b[1;33m.\u001b[0m\u001b[0mBook\u001b[0m\u001b[1;33m)\u001b[0m\u001b[1;33m:\u001b[0m\u001b[1;33m\u001b[0m\u001b[0m\n\u001b[0;32m    190\u001b[0m             \u001b[0mself\u001b[0m\u001b[1;33m.\u001b[0m\u001b[0mbook\u001b[0m \u001b[1;33m=\u001b[0m \u001b[0mio\u001b[0m\u001b[1;33m\u001b[0m\u001b[0m\n",
      "\u001b[1;32mc:\\Users\\Brice\\AppData\\Local\\Continuum\\Anaconda\\lib\\site-packages\\xlrd\\__init__.pyc\u001b[0m in \u001b[0;36mopen_workbook\u001b[1;34m(filename, logfile, verbosity, use_mmap, file_contents, encoding_override, formatting_info, on_demand, ragged_rows)\u001b[0m\n\u001b[0;32m    392\u001b[0m         \u001b[0mpeek\u001b[0m \u001b[1;33m=\u001b[0m \u001b[0mfile_contents\u001b[0m\u001b[1;33m[\u001b[0m\u001b[1;33m:\u001b[0m\u001b[0mpeeksz\u001b[0m\u001b[1;33m]\u001b[0m\u001b[1;33m\u001b[0m\u001b[0m\n\u001b[0;32m    393\u001b[0m     \u001b[1;32melse\u001b[0m\u001b[1;33m:\u001b[0m\u001b[1;33m\u001b[0m\u001b[0m\n\u001b[1;32m--> 394\u001b[1;33m         \u001b[0mf\u001b[0m \u001b[1;33m=\u001b[0m \u001b[0mopen\u001b[0m\u001b[1;33m(\u001b[0m\u001b[0mfilename\u001b[0m\u001b[1;33m,\u001b[0m \u001b[1;34m\"rb\"\u001b[0m\u001b[1;33m)\u001b[0m\u001b[1;33m\u001b[0m\u001b[0m\n\u001b[0m\u001b[0;32m    395\u001b[0m         \u001b[0mpeek\u001b[0m \u001b[1;33m=\u001b[0m \u001b[0mf\u001b[0m\u001b[1;33m.\u001b[0m\u001b[0mread\u001b[0m\u001b[1;33m(\u001b[0m\u001b[0mpeeksz\u001b[0m\u001b[1;33m)\u001b[0m\u001b[1;33m\u001b[0m\u001b[0m\n\u001b[0;32m    396\u001b[0m         \u001b[0mf\u001b[0m\u001b[1;33m.\u001b[0m\u001b[0mclose\u001b[0m\u001b[1;33m(\u001b[0m\u001b[1;33m)\u001b[0m\u001b[1;33m\u001b[0m\u001b[0m\n",
      "\u001b[1;31mIOError\u001b[0m: [Errno 2] No such file or directory: 'data\\\\2014\\\\2014-pr3-hhsurvey-trip.xlsx'"
     ]
    }
   ],
   "source": [
    "# Load 2014 and 2015 survey household data\n",
    "per14 = pd.read_excel(r'data\\2014\\2014-pr3-hhsurvey-trip.xlsx', sheet='Sheet1')\n",
    "per15 = pd.read_excel(r'data\\2015\\4_PSRC2015_Trip_2015-07-02.xlsx', sheet='Sheet1')"
   ]
  },
  {
   "cell_type": "code",
   "execution_count": 13,
   "metadata": {
    "collapsed": true
   },
   "outputs": [],
   "source": [
    "expwt14 = 'expwt_final'\n",
    "expwt15 = 'personid'    # No weights yet so just using arbitrary column to sum up counts\n",
    "\n",
    "per14.year = '2014'\n",
    "per15.year = '2015'"
   ]
  },
  {
   "cell_type": "code",
   "execution_count": 14,
   "metadata": {
    "collapsed": false
   },
   "outputs": [],
   "source": [
    "def df_sample(df1, df2, field, agg1, agg2, report_avg=True):\n",
    "    '''Compare samples from two surveys in the same dataframe'''\n",
    "    df = pd.DataFrame()\n",
    "    df[df1.year + ' Samples'] = df1.groupby(field).count()[agg1]\n",
    "    df[df2.year + ' Samples'] = df2.groupby(field).count()[agg2]\n",
    "    df[\" \"*5] = \"\"    # empty col to separate samples from shares\n",
    "    df[df1.year + ' Shares'] = (df1.groupby(field).count()[agg1]/df1[agg1].count()).round(2)\n",
    "    df[df2.year + ' Shares'] = (df2.groupby(field).count()[agg2]/df2[agg2].count()).round(2)\n",
    "\n",
    "    print df  \n",
    "    print \"---------\" * 10\n",
    "    \n",
    "    if report_avg:\n",
    "        print \"Sample average \" + df1.year + \": \" + str(np.round(df1[field].mean(),2))\n",
    "        print \"Sample average \" + df2.year + \": \" + str(np.round(df2[field].mean(),2))"
   ]
  },
  {
   "cell_type": "markdown",
   "metadata": {},
   "source": [
    "** Age Category**"
   ]
  },
  {
   "cell_type": "code",
   "execution_count": 18,
   "metadata": {
    "collapsed": false
   },
   "outputs": [
    {
     "name": "stdout",
     "output_type": "stream",
     "text": [
      "     2014 Samples  2015 Samples        2014 Shares  2015 Shares\n",
      "age                                                            \n",
      "1             667           257               0.05         0.05\n",
      "2             691           254               0.06         0.05\n",
      "3             382           144               0.03         0.03\n",
      "4             158            64               0.01         0.01\n",
      "5             604           208               0.05         0.04\n",
      "6            2282           756               0.19         0.16\n",
      "7            1839           678               0.15         0.14\n",
      "8            1697           641               0.14         0.13\n",
      "9            1947           837               0.16         0.17\n",
      "10           1290           634               0.11         0.13\n",
      "11            492           270               0.04         0.06\n",
      "12            149            71               0.01         0.01\n",
      "------------------------------------------------------------------------------------------\n",
      "Sample average 2014: 6.94\n",
      "Sample average 2015: 7.19\n"
     ]
    }
   ],
   "source": [
    "df_sample(per14, per15, 'age', expwt14, expwt15)"
   ]
  },
  {
   "cell_type": "markdown",
   "metadata": {},
   "source": [
    "** Gender **"
   ]
  },
  {
   "cell_type": "code",
   "execution_count": 20,
   "metadata": {
    "collapsed": false
   },
   "outputs": [
    {
     "name": "stdout",
     "output_type": "stream",
     "text": [
      "        2014 Samples  2015 Samples        2014 Shares  2015 Shares\n",
      "gender                                                            \n",
      "1               5808          2579               0.48         0.54\n",
      "2               6390          2235               0.52         0.46\n",
      "------------------------------------------------------------------------------------------\n",
      "Sample average 2014: 1.52\n",
      "Sample average 2015: 1.46\n"
     ]
    }
   ],
   "source": [
    "df_sample(per14, per15, 'gender', expwt14, expwt15)"
   ]
  },
  {
   "cell_type": "markdown",
   "metadata": {},
   "source": [
    "** Employment **"
   ]
  },
  {
   "cell_type": "code",
   "execution_count": 21,
   "metadata": {
    "collapsed": false
   },
   "outputs": [
    {
     "name": "stdout",
     "output_type": "stream",
     "text": [
      "            2014 Samples  2015 Samples        2014 Shares  2015 Shares\n",
      "employment                                                            \n",
      "1                   5066          1877               0.42         0.39\n",
      "2                   1002           369               0.08         0.08\n",
      "3                    771           262               0.06         0.05\n",
      "4                    101            52               0.01         0.01\n",
      "5                    574           240               0.05         0.05\n",
      "6                   1901          1001               0.16         0.21\n",
      "7                    885           294               0.07         0.06\n",
      "------------------------------------------------------------------------------------------\n",
      "Sample average 2014: 2.94\n",
      "Sample average 2015: 3.14\n"
     ]
    }
   ],
   "source": [
    "df_sample(per14, per15, 'employment', expwt14, expwt15)"
   ]
  },
  {
   "cell_type": "markdown",
   "metadata": {},
   "source": [
    "** Student Status **"
   ]
  },
  {
   "cell_type": "code",
   "execution_count": 22,
   "metadata": {
    "collapsed": false
   },
   "outputs": [
    {
     "name": "stdout",
     "output_type": "stream",
     "text": [
      "         2014 Samples  2015 Samples        2014 Shares  2015 Shares\n",
      "student                                                            \n",
      "1                9489          3820               0.78         0.79\n",
      "2                 313           106               0.03         0.02\n",
      "3                 498           169               0.04         0.04\n",
      "------------------------------------------------------------------------------------------\n",
      "Sample average 2014: 1.13\n",
      "Sample average 2015: 1.11\n"
     ]
    }
   ],
   "source": [
    "df_sample(per14, per15, 'student', expwt14, expwt15)"
   ]
  },
  {
   "cell_type": "markdown",
   "metadata": {},
   "source": [
    "** Education **"
   ]
  },
  {
   "cell_type": "code",
   "execution_count": 23,
   "metadata": {
    "collapsed": false
   },
   "outputs": [
    {
     "name": "stdout",
     "output_type": "stream",
     "text": [
      "           2014 Samples  2015 Samples        2014 Shares  2015 Shares\n",
      "education                                                            \n",
      "1                   195            79               0.02         0.02\n",
      "2                   946           372               0.08         0.08\n",
      "3                  1585           625               0.13         0.13\n",
      "4                   445           154               0.04         0.03\n",
      "5                   737           274               0.06         0.06\n",
      "6                  3653          1481               0.30         0.31\n",
      "7                  2739          1110               0.22         0.23\n",
      "------------------------------------------------------------------------------------------\n",
      "Sample average 2014: 5.18\n",
      "Sample average 2015: 5.21\n"
     ]
    }
   ],
   "source": [
    "df_sample(per14, per15, 'education', expwt14, expwt15)"
   ]
  },
  {
   "cell_type": "markdown",
   "metadata": {},
   "source": [
    "** Smartphone **"
   ]
  },
  {
   "cell_type": "code",
   "execution_count": 24,
   "metadata": {
    "collapsed": false
   },
   "outputs": [
    {
     "name": "stdout",
     "output_type": "stream",
     "text": [
      "            2014 Samples  2015 Samples        2014 Shares  2015 Shares\n",
      "smartphone                                                            \n",
      "1                   7407          2916               0.61         0.61\n",
      "2                    499           162               0.04         0.03\n",
      "3                   2552          1081               0.21         0.22\n",
      "------------------------------------------------------------------------------------------\n",
      "Sample average 2014: 1.54\n",
      "Sample average 2015: 1.56\n"
     ]
    }
   ],
   "source": [
    "df_sample(per14, per15, 'smartphone', expwt14, expwt15)"
   ]
  },
  {
   "cell_type": "markdown",
   "metadata": {},
   "source": [
    "** License **"
   ]
  },
  {
   "cell_type": "code",
   "execution_count": 25,
   "metadata": {
    "collapsed": false
   },
   "outputs": [
    {
     "name": "stdout",
     "output_type": "stream",
     "text": [
      "         2014 Samples  2015 Samples        2014 Shares  2015 Shares\n",
      "license                                                            \n",
      "1                9640          3813               0.79         0.79\n",
      "2                 818           346               0.07         0.07\n",
      "------------------------------------------------------------------------------------------\n",
      "Sample average 2014: 1.08\n",
      "Sample average 2015: 1.08\n"
     ]
    }
   ],
   "source": [
    "df_sample(per14, per15, 'license', expwt14, expwt15)"
   ]
  },
  {
   "cell_type": "markdown",
   "metadata": {},
   "source": [
    "** Toll Frequency **"
   ]
  },
  {
   "cell_type": "code",
   "execution_count": 28,
   "metadata": {
    "collapsed": false
   },
   "outputs": [
    {
     "name": "stdout",
     "output_type": "stream",
     "text": [
      "          2014 Samples  2015 Samples        2014 Shares  2015 Shares\n",
      "tollfreq                                                            \n",
      "1                  275            98               0.02         0.02\n",
      "2                  245           111               0.02         0.02\n",
      "3                  227           121               0.02         0.03\n",
      "4                 1170           461               0.10         0.10\n",
      "5                 4502          1869               0.37         0.39\n",
      "6                 3668          1350               0.30         0.28\n",
      "7                  371           149               0.03         0.03\n",
      "------------------------------------------------------------------------------------------\n",
      "Sample average 2014: 5.09\n",
      "Sample average 2015: 5.05\n"
     ]
    }
   ],
   "source": [
    "df_sample(per14, per15, 'tollfreq', expwt14, expwt15)"
   ]
  },
  {
   "cell_type": "code",
   "execution_count": 33,
   "metadata": {
    "collapsed": false
   },
   "outputs": [
    {
     "name": "stdout",
     "output_type": "stream",
     "text": [
      "                  2014 Samples  2015 Samples        2014 Shares  2015 Shares\n",
      "benefits_parking                                                            \n",
      "1                         2189           831               0.18         0.17\n",
      "2                          643           261               0.05         0.05\n",
      "3                         2873          1019               0.24         0.21\n",
      "4                          363           135               0.03         0.03\n",
      "------------------------------------------------------------------------------------------\n",
      "Sample average 2014: 2.23\n",
      "Sample average 2015: 2.2\n"
     ]
    }
   ],
   "source": [
    "df_sample(per14, per15, 'benefits_parking', expwt14, expwt15)"
   ]
  },
  {
   "cell_type": "code",
   "execution_count": null,
   "metadata": {
    "collapsed": true
   },
   "outputs": [],
   "source": []
  }
 ],
 "metadata": {
  "kernelspec": {
   "display_name": "Python 2",
   "language": "python",
   "name": "python2"
  },
  "language_info": {
   "codemirror_mode": {
    "name": "ipython",
    "version": 2
   },
   "file_extension": ".py",
   "mimetype": "text/x-python",
   "name": "python",
   "nbconvert_exporter": "python",
   "pygments_lexer": "ipython2",
   "version": "2.7.10"
  }
 },
 "nbformat": 4,
 "nbformat_minor": 0
}
